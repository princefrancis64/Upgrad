{
 "cells": [
  {
   "cell_type": "code",
   "execution_count": 1,
   "id": "2328c3c4-f98f-45f2-ab5a-537bc6bd9256",
   "metadata": {},
   "outputs": [],
   "source": [
    "import pandas as pd\n",
    "import numpy as np\n",
    "import scipy"
   ]
  },
  {
   "cell_type": "code",
   "execution_count": 2,
   "id": "033e449a-086e-4c60-b3e5-25669d2ee8f7",
   "metadata": {},
   "outputs": [
    {
     "name": "stdout",
     "output_type": "stream",
     "text": [
      " Volume in drive C has no label.\n",
      " Volume Serial Number is 9435-FCE6\n",
      "\n",
      " Directory of C:\\Users\\Prince\\Desktop\\Upgrad\\Hypothesis Testing\n",
      "\n",
      "26-03-2024  14:40    <DIR>          .\n",
      "26-03-2024  14:40    <DIR>          ..\n",
      "26-03-2024  14:40    <DIR>          .ipynb_checkpoints\n",
      "26-03-2024  10:27            12,995 2-sample mean test.xlsx\n",
      "26-03-2024  10:34            43,402 2-sample proportion test.xlsx\n",
      "26-03-2024  14:40                72 Untitled.ipynb\n",
      "               3 File(s)         56,469 bytes\n",
      "               3 Dir(s)  16,218,083,328 bytes free\n"
     ]
    }
   ],
   "source": [
    "ls"
   ]
  },
  {
   "cell_type": "markdown",
   "id": "40c62176-f1fe-46d6-9366-2a8a0bdea5b6",
   "metadata": {},
   "source": [
    "### 1- Sample Mean Test"
   ]
  },
  {
   "cell_type": "code",
   "execution_count": 5,
   "id": "cf1d6c6d-1ded-433b-bab9-14d848b308d6",
   "metadata": {},
   "outputs": [
    {
     "data": {
      "text/html": [
       "<div>\n",
       "<style scoped>\n",
       "    .dataframe tbody tr th:only-of-type {\n",
       "        vertical-align: middle;\n",
       "    }\n",
       "\n",
       "    .dataframe tbody tr th {\n",
       "        vertical-align: top;\n",
       "    }\n",
       "\n",
       "    .dataframe thead th {\n",
       "        text-align: right;\n",
       "    }\n",
       "</style>\n",
       "<table border=\"1\" class=\"dataframe\">\n",
       "  <thead>\n",
       "    <tr style=\"text-align: right;\">\n",
       "      <th></th>\n",
       "      <th>Unnamed: 0</th>\n",
       "      <th>Commute time of employees</th>\n",
       "      <th>Hypothesised Mean Time</th>\n",
       "    </tr>\n",
       "  </thead>\n",
       "  <tbody>\n",
       "    <tr>\n",
       "      <th>0</th>\n",
       "      <td>NaN</td>\n",
       "      <td>37</td>\n",
       "      <td>35.0</td>\n",
       "    </tr>\n",
       "    <tr>\n",
       "      <th>1</th>\n",
       "      <td>NaN</td>\n",
       "      <td>64</td>\n",
       "      <td>NaN</td>\n",
       "    </tr>\n",
       "    <tr>\n",
       "      <th>2</th>\n",
       "      <td>NaN</td>\n",
       "      <td>43</td>\n",
       "      <td>NaN</td>\n",
       "    </tr>\n",
       "    <tr>\n",
       "      <th>3</th>\n",
       "      <td>NaN</td>\n",
       "      <td>32</td>\n",
       "      <td>NaN</td>\n",
       "    </tr>\n",
       "    <tr>\n",
       "      <th>4</th>\n",
       "      <td>NaN</td>\n",
       "      <td>23</td>\n",
       "      <td>NaN</td>\n",
       "    </tr>\n",
       "  </tbody>\n",
       "</table>\n",
       "</div>"
      ],
      "text/plain": [
       "   Unnamed: 0  Commute time of employees   Hypothesised Mean Time\n",
       "0         NaN                          37                    35.0\n",
       "1         NaN                          64                     NaN\n",
       "2         NaN                          43                     NaN\n",
       "3         NaN                          32                     NaN\n",
       "4         NaN                          23                     NaN"
      ]
     },
     "execution_count": 5,
     "metadata": {},
     "output_type": "execute_result"
    }
   ],
   "source": [
    "df = pd.read_excel('2-sample mean test.xlsx',sheet_name=' 1-sample mean test')\n",
    "df.head()"
   ]
  },
  {
   "cell_type": "code",
   "execution_count": 7,
   "id": "1ed2a302-0b87-4161-af71-832a67357e55",
   "metadata": {},
   "outputs": [],
   "source": [
    "df.drop(['Unnamed: 0','Hypothesised Mean Time'],inplace=True,axis=1)"
   ]
  },
  {
   "cell_type": "code",
   "execution_count": 8,
   "id": "1c27e663-9587-4128-b75d-97f8c142a13b",
   "metadata": {},
   "outputs": [
    {
     "data": {
      "text/html": [
       "<div>\n",
       "<style scoped>\n",
       "    .dataframe tbody tr th:only-of-type {\n",
       "        vertical-align: middle;\n",
       "    }\n",
       "\n",
       "    .dataframe tbody tr th {\n",
       "        vertical-align: top;\n",
       "    }\n",
       "\n",
       "    .dataframe thead th {\n",
       "        text-align: right;\n",
       "    }\n",
       "</style>\n",
       "<table border=\"1\" class=\"dataframe\">\n",
       "  <thead>\n",
       "    <tr style=\"text-align: right;\">\n",
       "      <th></th>\n",
       "      <th>Commute time of employees</th>\n",
       "    </tr>\n",
       "  </thead>\n",
       "  <tbody>\n",
       "    <tr>\n",
       "      <th>0</th>\n",
       "      <td>37</td>\n",
       "    </tr>\n",
       "    <tr>\n",
       "      <th>1</th>\n",
       "      <td>64</td>\n",
       "    </tr>\n",
       "    <tr>\n",
       "      <th>2</th>\n",
       "      <td>43</td>\n",
       "    </tr>\n",
       "    <tr>\n",
       "      <th>3</th>\n",
       "      <td>32</td>\n",
       "    </tr>\n",
       "    <tr>\n",
       "      <th>4</th>\n",
       "      <td>23</td>\n",
       "    </tr>\n",
       "  </tbody>\n",
       "</table>\n",
       "</div>"
      ],
      "text/plain": [
       "   Commute time of employees \n",
       "0                          37\n",
       "1                          64\n",
       "2                          43\n",
       "3                          32\n",
       "4                          23"
      ]
     },
     "execution_count": 8,
     "metadata": {},
     "output_type": "execute_result"
    }
   ],
   "source": [
    "df.head()"
   ]
  },
  {
   "cell_type": "code",
   "execution_count": 9,
   "id": "5b024038-9727-450c-8bd7-05e2f7c9b19a",
   "metadata": {},
   "outputs": [
    {
     "data": {
      "text/plain": [
       "TtestResult(statistic=-1.7233018724723084, pvalue=0.09479631478752118, df=31)"
      ]
     },
     "execution_count": 9,
     "metadata": {},
     "output_type": "execute_result"
    }
   ],
   "source": [
    "scipy.stats.ttest_1samp(df['Commute time of employees '],35)"
   ]
  },
  {
   "cell_type": "markdown",
   "id": "f4f935b2-8632-4f84-a348-88dec47c41ad",
   "metadata": {},
   "source": [
    "- So here our p-value is 0.094\n",
    "- H0: Mean of sample is equal to the population mean\n",
    "- since p-value> alpha value i.e 0.05 we will fail to reject the null hypothesis."
   ]
  },
  {
   "cell_type": "markdown",
   "id": "b5b2b338-cbe9-4d38-8857-19efd2030bb4",
   "metadata": {},
   "source": [
    "### 2 sample t-test :Paired"
   ]
  },
  {
   "cell_type": "code",
   "execution_count": 11,
   "id": "cc926bd4-e0be-457f-956b-c1ad200084e1",
   "metadata": {},
   "outputs": [
    {
     "data": {
      "text/html": [
       "<div>\n",
       "<style scoped>\n",
       "    .dataframe tbody tr th:only-of-type {\n",
       "        vertical-align: middle;\n",
       "    }\n",
       "\n",
       "    .dataframe tbody tr th {\n",
       "        vertical-align: top;\n",
       "    }\n",
       "\n",
       "    .dataframe thead th {\n",
       "        text-align: right;\n",
       "    }\n",
       "</style>\n",
       "<table border=\"1\" class=\"dataframe\">\n",
       "  <thead>\n",
       "    <tr style=\"text-align: right;\">\n",
       "      <th></th>\n",
       "      <th>Unnamed: 0</th>\n",
       "      <th>Commute time on Day 1</th>\n",
       "      <th>Commute Time on Day 2</th>\n",
       "      <th>Unnamed: 3</th>\n",
       "      <th>Unnamed: 4</th>\n",
       "      <th>Unnamed: 5</th>\n",
       "      <th>Unnamed: 6</th>\n",
       "    </tr>\n",
       "  </thead>\n",
       "  <tbody>\n",
       "    <tr>\n",
       "      <th>0</th>\n",
       "      <td>NaN</td>\n",
       "      <td>27</td>\n",
       "      <td>23</td>\n",
       "      <td>NaN</td>\n",
       "      <td>NaN</td>\n",
       "      <td>NaN</td>\n",
       "      <td>NaN</td>\n",
       "    </tr>\n",
       "    <tr>\n",
       "      <th>1</th>\n",
       "      <td>NaN</td>\n",
       "      <td>43</td>\n",
       "      <td>42</td>\n",
       "      <td>NaN</td>\n",
       "      <td>NaN</td>\n",
       "      <td>NaN</td>\n",
       "      <td>NaN</td>\n",
       "    </tr>\n",
       "    <tr>\n",
       "      <th>2</th>\n",
       "      <td>NaN</td>\n",
       "      <td>34</td>\n",
       "      <td>39</td>\n",
       "      <td>NaN</td>\n",
       "      <td>NaN</td>\n",
       "      <td>NaN</td>\n",
       "      <td>NaN</td>\n",
       "    </tr>\n",
       "    <tr>\n",
       "      <th>3</th>\n",
       "      <td>NaN</td>\n",
       "      <td>24</td>\n",
       "      <td>23</td>\n",
       "      <td>NaN</td>\n",
       "      <td>NaN</td>\n",
       "      <td>NaN</td>\n",
       "      <td>NaN</td>\n",
       "    </tr>\n",
       "    <tr>\n",
       "      <th>4</th>\n",
       "      <td>NaN</td>\n",
       "      <td>31</td>\n",
       "      <td>37</td>\n",
       "      <td>NaN</td>\n",
       "      <td>NaN</td>\n",
       "      <td>NaN</td>\n",
       "      <td>NaN</td>\n",
       "    </tr>\n",
       "  </tbody>\n",
       "</table>\n",
       "</div>"
      ],
      "text/plain": [
       "   Unnamed: 0  Commute time on Day 1  Commute Time on Day 2  Unnamed: 3  \\\n",
       "0         NaN                     27                     23         NaN   \n",
       "1         NaN                     43                     42         NaN   \n",
       "2         NaN                     34                     39         NaN   \n",
       "3         NaN                     24                     23         NaN   \n",
       "4         NaN                     31                     37         NaN   \n",
       "\n",
       "  Unnamed: 4 Unnamed: 5 Unnamed: 6  \n",
       "0        NaN        NaN        NaN  \n",
       "1        NaN        NaN        NaN  \n",
       "2        NaN        NaN        NaN  \n",
       "3        NaN        NaN        NaN  \n",
       "4        NaN        NaN        NaN  "
      ]
     },
     "execution_count": 11,
     "metadata": {},
     "output_type": "execute_result"
    }
   ],
   "source": [
    "df = pd.read_excel('2-sample mean test.xlsx',sheet_name=\"2-sample mean test - Paired\")\n",
    "df.head()"
   ]
  },
  {
   "cell_type": "code",
   "execution_count": 13,
   "id": "e75baef1-5182-470e-adcb-aff4d880fb54",
   "metadata": {},
   "outputs": [
    {
     "data": {
      "text/html": [
       "<div>\n",
       "<style scoped>\n",
       "    .dataframe tbody tr th:only-of-type {\n",
       "        vertical-align: middle;\n",
       "    }\n",
       "\n",
       "    .dataframe tbody tr th {\n",
       "        vertical-align: top;\n",
       "    }\n",
       "\n",
       "    .dataframe thead th {\n",
       "        text-align: right;\n",
       "    }\n",
       "</style>\n",
       "<table border=\"1\" class=\"dataframe\">\n",
       "  <thead>\n",
       "    <tr style=\"text-align: right;\">\n",
       "      <th></th>\n",
       "      <th>Commute time on Day 1</th>\n",
       "      <th>Commute Time on Day 2</th>\n",
       "    </tr>\n",
       "  </thead>\n",
       "  <tbody>\n",
       "    <tr>\n",
       "      <th>0</th>\n",
       "      <td>27</td>\n",
       "      <td>23</td>\n",
       "    </tr>\n",
       "    <tr>\n",
       "      <th>1</th>\n",
       "      <td>43</td>\n",
       "      <td>42</td>\n",
       "    </tr>\n",
       "    <tr>\n",
       "      <th>2</th>\n",
       "      <td>34</td>\n",
       "      <td>39</td>\n",
       "    </tr>\n",
       "    <tr>\n",
       "      <th>3</th>\n",
       "      <td>24</td>\n",
       "      <td>23</td>\n",
       "    </tr>\n",
       "    <tr>\n",
       "      <th>4</th>\n",
       "      <td>31</td>\n",
       "      <td>37</td>\n",
       "    </tr>\n",
       "  </tbody>\n",
       "</table>\n",
       "</div>"
      ],
      "text/plain": [
       "   Commute time on Day 1  Commute Time on Day 2\n",
       "0                     27                     23\n",
       "1                     43                     42\n",
       "2                     34                     39\n",
       "3                     24                     23\n",
       "4                     31                     37"
      ]
     },
     "execution_count": 13,
     "metadata": {},
     "output_type": "execute_result"
    }
   ],
   "source": [
    "df = df[['Commute time on Day 1','Commute Time on Day 2']]\n",
    "df.head()"
   ]
  },
  {
   "cell_type": "code",
   "execution_count": 19,
   "id": "210c7dc0-f83c-467b-846d-f3b05df3f7da",
   "metadata": {},
   "outputs": [
    {
     "data": {
      "text/plain": [
       "TtestResult(statistic=0.14171787003575112, pvalue=0.8877623550344126, df=62.0)"
      ]
     },
     "execution_count": 19,
     "metadata": {},
     "output_type": "execute_result"
    }
   ],
   "source": [
    "scipy.stats.ttest_ind(df['Commute time on Day 1'],df['Commute Time on Day 2'])"
   ]
  },
  {
   "cell_type": "markdown",
   "id": "beb5db55-929d-4623-934f-eadd5622ff06",
   "metadata": {},
   "source": [
    "- H0: 2 independent samples have identical average i.e u1-u2=0\n",
    "- H1: u1-u2!=0\n",
    "- so if the significant value is 0.05 then we can say that both the averages are same."
   ]
  },
  {
   "cell_type": "markdown",
   "id": "d76c8c05-b43f-4276-8699-46ea8bbf2ac7",
   "metadata": {},
   "source": [
    "### 2 Sample Mean Test :Unpaired"
   ]
  },
  {
   "cell_type": "code",
   "execution_count": 21,
   "id": "a7212c90-3bae-4a96-8301-12c173c190bb",
   "metadata": {},
   "outputs": [],
   "source": [
    "df = pd.read_excel('2-sample mean test.xlsx',sheet_name=\"2-sample mean test - Unpaired\")"
   ]
  },
  {
   "cell_type": "code",
   "execution_count": 22,
   "id": "0b84e6ee-3808-4688-900e-cc247cdb4aba",
   "metadata": {},
   "outputs": [
    {
     "data": {
      "text/html": [
       "<div>\n",
       "<style scoped>\n",
       "    .dataframe tbody tr th:only-of-type {\n",
       "        vertical-align: middle;\n",
       "    }\n",
       "\n",
       "    .dataframe tbody tr th {\n",
       "        vertical-align: top;\n",
       "    }\n",
       "\n",
       "    .dataframe thead th {\n",
       "        text-align: right;\n",
       "    }\n",
       "</style>\n",
       "<table border=\"1\" class=\"dataframe\">\n",
       "  <thead>\n",
       "    <tr style=\"text-align: right;\">\n",
       "      <th></th>\n",
       "      <th>Unnamed: 0</th>\n",
       "      <th>Commute time of Team 1</th>\n",
       "      <th>Commute Time of Team 2</th>\n",
       "      <th>Unnamed: 3</th>\n",
       "      <th>Unnamed: 4</th>\n",
       "      <th>Unnamed: 5</th>\n",
       "    </tr>\n",
       "  </thead>\n",
       "  <tbody>\n",
       "    <tr>\n",
       "      <th>0</th>\n",
       "      <td>NaN</td>\n",
       "      <td>27</td>\n",
       "      <td>18</td>\n",
       "      <td>NaN</td>\n",
       "      <td>NaN</td>\n",
       "      <td>NaN</td>\n",
       "    </tr>\n",
       "    <tr>\n",
       "      <th>1</th>\n",
       "      <td>NaN</td>\n",
       "      <td>43</td>\n",
       "      <td>27</td>\n",
       "      <td>t-Test: Two-Sample Assuming Unequal Variances</td>\n",
       "      <td>NaN</td>\n",
       "      <td>NaN</td>\n",
       "    </tr>\n",
       "    <tr>\n",
       "      <th>2</th>\n",
       "      <td>NaN</td>\n",
       "      <td>34</td>\n",
       "      <td>64</td>\n",
       "      <td>NaN</td>\n",
       "      <td>NaN</td>\n",
       "      <td>NaN</td>\n",
       "    </tr>\n",
       "    <tr>\n",
       "      <th>3</th>\n",
       "      <td>NaN</td>\n",
       "      <td>24</td>\n",
       "      <td>61</td>\n",
       "      <td>NaN</td>\n",
       "      <td>Variable 1</td>\n",
       "      <td>Variable 2</td>\n",
       "    </tr>\n",
       "    <tr>\n",
       "      <th>4</th>\n",
       "      <td>NaN</td>\n",
       "      <td>31</td>\n",
       "      <td>13</td>\n",
       "      <td>Mean</td>\n",
       "      <td>34</td>\n",
       "      <td>41.875</td>\n",
       "    </tr>\n",
       "  </tbody>\n",
       "</table>\n",
       "</div>"
      ],
      "text/plain": [
       "   Unnamed: 0  Commute time of Team 1  Commute Time of Team 2  \\\n",
       "0         NaN                      27                      18   \n",
       "1         NaN                      43                      27   \n",
       "2         NaN                      34                      64   \n",
       "3         NaN                      24                      61   \n",
       "4         NaN                      31                      13   \n",
       "\n",
       "                                      Unnamed: 3  Unnamed: 4  Unnamed: 5  \n",
       "0                                            NaN         NaN         NaN  \n",
       "1  t-Test: Two-Sample Assuming Unequal Variances         NaN         NaN  \n",
       "2                                            NaN         NaN         NaN  \n",
       "3                                            NaN  Variable 1  Variable 2  \n",
       "4                                           Mean          34      41.875  "
      ]
     },
     "execution_count": 22,
     "metadata": {},
     "output_type": "execute_result"
    }
   ],
   "source": [
    "df.head()"
   ]
  },
  {
   "cell_type": "code",
   "execution_count": 23,
   "id": "243c794a-3edf-491d-9a7b-35bc4d2af7e4",
   "metadata": {},
   "outputs": [],
   "source": [
    "df = df[['Commute time of Team 1','Commute Time of Team 2']]"
   ]
  },
  {
   "cell_type": "code",
   "execution_count": 25,
   "id": "6e152edf-4b73-4857-8ba5-c9b014bd04db",
   "metadata": {},
   "outputs": [
    {
     "data": {
      "text/plain": [
       "TtestResult(statistic=-2.925210034347082, pvalue=0.006386438954034741, df=31)"
      ]
     },
     "execution_count": 25,
     "metadata": {},
     "output_type": "execute_result"
    }
   ],
   "source": [
    "scipy.stats.ttest_rel(df['Commute time of Team 1'],df['Commute Time of Team 2'])"
   ]
  },
  {
   "cell_type": "markdown",
   "id": "18ea77b8-589c-4a80-bd59-26556b3a48dc",
   "metadata": {},
   "source": [
    "- H0: u1-u2=0\n",
    "- So in this case p value=0.006\n",
    "- Taking the significance value as 0.05\n",
    "- p- value is < alpha value. Therefore we will reject null hypothesis"
   ]
  }
 ],
 "metadata": {
  "kernelspec": {
   "display_name": "Python 3 (ipykernel)",
   "language": "python",
   "name": "python3"
  },
  "language_info": {
   "codemirror_mode": {
    "name": "ipython",
    "version": 3
   },
   "file_extension": ".py",
   "mimetype": "text/x-python",
   "name": "python",
   "nbconvert_exporter": "python",
   "pygments_lexer": "ipython3",
   "version": "3.11.7"
  }
 },
 "nbformat": 4,
 "nbformat_minor": 5
}
