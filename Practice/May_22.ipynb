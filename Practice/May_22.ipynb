{
 "cells": [
  {
   "cell_type": "markdown",
   "id": "594c8300-949c-41c3-b0cb-60f3aafec60d",
   "metadata": {},
   "source": [
    "### MNIST Digits Generation using DCGAN"
   ]
  },
  {
   "cell_type": "code",
   "execution_count": 22,
   "id": "65bdaf6f-507f-4ea7-8014-3fb8f6cbdcc1",
   "metadata": {},
   "outputs": [],
   "source": [
    "### Importing libraries\n",
    "import tensorflow as tf\n",
    "import matplotlib.pyplot as plt\n",
    "import glob # to find certain directories\n",
    "import imageio\n",
    "from IPython import display\n",
    "from skimage.transform import resize\n",
    "import numpy as np\n",
    "import os # to access the folders and files\n",
    "from keras.utils import plot_model"
   ]
  },
  {
   "cell_type": "markdown",
   "id": "6ece5226-a8a9-4843-9624-73cd3d2f8703",
   "metadata": {},
   "source": [
    "#### Load the MNIST Dataset"
   ]
  },
  {
   "cell_type": "code",
   "execution_count": 23,
   "id": "885d00b5-a223-424d-904d-0a1a5333cebe",
   "metadata": {},
   "outputs": [],
   "source": [
    "(train_images,train_labels),(_,_) = tf.keras.datasets.mnist.load_data()"
   ]
  },
  {
   "cell_type": "markdown",
   "id": "7caf42ec-dad5-4a70-b3f9-a4534f137275",
   "metadata": {},
   "source": [
    "#### Visualise a sample image"
   ]
  },
  {
   "cell_type": "code",
   "execution_count": 24,
   "id": "d9a35562-e23d-46f6-afae-f28895b65940",
   "metadata": {},
   "outputs": [
    {
     "data": {
      "image/png": "[encoded data removed]",
      "text/plain": [
       "<Figure size 200x200 with 1 Axes>"
      ]
     },
     "metadata": {},
     "output_type": "display_data"
    }
   ],
   "source": [
    "plt.figure(figsize=(2,2))\n",
    "plt.imshow(train_images[0],cmap='gray')\n",
    "plt.title(f\"The Digit is {train_labels[0]}\")\n",
    "plt.show()"
   ]
  },
  {
   "cell_type": "markdown",
   "id": "3cd7d047-87b3-4413-afcd-34cf35a3c98f",
   "metadata": {},
   "source": [
    "### Data Preprocessing"
   ]
  },
  {
   "cell_type": "code",
   "execution_count": 25,
   "id": "eee3e0f4-0c74-4f14-88b3-3710604d16ec",
   "metadata": {},
   "outputs": [],
   "source": [
    "BUFFER_SIZE = 60000\n",
    "BATCH_SIZE = 2048\n",
    "NOISE_DIM = 100"
   ]
  },
  {
   "cell_type": "markdown",
   "id": "6fd7f154-cb48-44af-8e17-0bf79a05c677",
   "metadata": {},
   "source": [
    "#### Normalizaation of Images between -1 and 1"
   ]
  },
  {
   "cell_type": "code",
   "execution_count": 26,
   "id": "bdbe0503-b26a-4a5d-9056-c2d063af857c",
   "metadata": {},
   "outputs": [],
   "source": [
    "train_dataset = (train_images/127.5) - 1.0"
   ]
  },
  {
   "cell_type": "markdown",
   "id": "cf75c428-d607-408f-ae81-d5bb62be92f5",
   "metadata": {},
   "source": [
    "#### Resize Images to (32,32)"
   ]
  },
  {
   "cell_type": "code",
   "execution_count": 27,
   "id": "1e47826d-6e69-4e62-b5e1-351a46b9e4a1",
   "metadata": {},
   "outputs": [],
   "source": [
    "from skimage.transform import resize\n",
    "train_images = np.zeros((BUFFER_SIZE,32,32))\n",
    "for index,img in enumerate(train_dataset):\n",
    "    train_images[index,:,:] = resize(image=img,output_shape=(32,32))"
   ]
  },
  {
   "cell_type": "code",
   "execution_count": 28,
   "id": "e3044714-0b7b-49f1-9276-d5d81d544457",
   "metadata": {},
   "outputs": [
    {
     "data": {
      "image/png": "[encoded data removed]",
      "text/plain": [
       "<Figure size 200x200 with 1 Axes>"
      ]
     },
     "metadata": {},
     "output_type": "display_data"
    }
   ],
   "source": [
    "plt.figure(figsize=(2,2))\n",
    "plt.imshow(train_images[0],cmap='gray')\n",
    "plt.show()"
   ]
  },
  {
   "cell_type": "code",
   "execution_count": 29,
   "id": "601ea4f4-d0d6-4534-94e6-11bbfa3a2216",
   "metadata": {},
   "outputs": [
    {
     "data": {
      "text/plain": [
       "(60000, 32, 32)"
      ]
     },
     "execution_count": 29,
     "metadata": {},
     "output_type": "execute_result"
    }
   ],
   "source": [
    "train_images.shape"
   ]
  },
  {
   "cell_type": "markdown",
   "id": "c171f9c9-35eb-43da-9e55-cce427b4cdb7",
   "metadata": {},
   "source": [
    "#### Reshape Image to add channel dimension"
   ]
  },
  {
   "cell_type": "code",
   "execution_count": 30,
   "id": "ab421120-8b7c-4727-9579-c6ed33391ac5",
   "metadata": {},
   "outputs": [],
   "source": [
    "train_images = train_images.reshape(train_images.shape[0],32,32,1).astype('float32')"
   ]
  },
  {
   "cell_type": "markdown",
   "id": "663463ba-fde2-46f1-b7f7-3a5916eaa8bc",
   "metadata": {},
   "source": [
    "#### Shuffle the data and store in Batches"
   ]
  },
  {
   "cell_type": "code",
   "execution_count": 31,
   "id": "323dd8df-fe8a-4220-bae6-8f61bd9fcca3",
   "metadata": {},
   "outputs": [],
   "source": [
    "# tf.data.Dataset.from_tensor_slices(train_imgaes).shuffle(BUFFER_SIZE,seed=42).batch(BATCH_SIZE)\n",
    "# tf.data.Dataset.from_tensor_slices(train_images).shuffle(BUFFER_SIZE,seed=42).batch(BATCH_SIZE)\n",
    "# tf.data.Dataset.from_tensor_slices(train_images).shuffle(BUFFER_SIZE,seed=42).batch(BATCH_SIZE)\n",
    "# tf.data.Dataset.from_tensor_slices(train_images).shuffle(BUFFER_SIZE,seed=42).batch(BATCH_SIZE)\n",
    "train_dataset = tf.data.Dataset.from_tensor_slices(train_images).shuffle(BUFFER_SIZE,seed=42).batch(BATCH_SIZE)"
   ]
  },
  {
   "cell_type": "code",
   "execution_count": 33,
   "id": "7cd63423-12fe-4b8b-97f7-d31c8290bc1b",
   "metadata": {},
   "outputs": [],
   "source": [
    "sample = next(iter(train_dataset))"
   ]
  },
  {
   "cell_type": "code",
   "execution_count": 38,
   "id": "06e8a36a-a692-4c72-901f-9689d7c5d8de",
   "metadata": {},
   "outputs": [
    {
     "data": {
      "image/png": "[encoded data removed]",
      "text/plain": [
       "<Figure size 200x200 with 1 Axes>"
      ]
     },
     "metadata": {},
     "output_type": "display_data"
    }
   ],
   "source": [
    "plt.figure(figsize=(2,2))\n",
    "plt.imshow(sample[0].numpy()[:,:,0],cmap=\"gray\")\n",
    "plt.show()"
   ]
  },
  {
   "cell_type": "markdown",
   "id": "b06c0522-298b-476a-a090-02fd6538021e",
   "metadata": {},
   "source": [
    "### Model Building"
   ]
  },
  {
   "cell_type": "markdown",
   "id": "45cc5545-1ebd-46bf-97bf-709214f3a74b",
   "metadata": {},
   "source": [
    "#### Generator Model Building"
   ]
  },
  {
   "cell_type": "code",
   "execution_count": 42,
   "id": "b8342ab1-d308-4fca-bfed-3979ae2230c8",
   "metadata": {},
   "outputs": [],
   "source": [
    "def make_generator_model():\n",
    "    model = tf.keras.Sequential()\n",
    "    model.add(tf.keras.layers.Dense(4*4*128,use_bias=False,input_shape=(NOISE_DIM,)))\n",
    "    model.add(tf.keras.layers.BatchNormalization())\n",
    "    model.add(tf.keras.layers.LeakyReLU())\n",
    "\n",
    "    model.add(tf.keras.layers.Reshape((4,4,128)))\n",
    "\n",
    "    model.add(tf.keras.layers.Conv2DTranspose(128,(3,3),strides=(2,2),padding=\"same\"))\n",
    "    model.add(tf.keras.layers.BatchNormalization())\n",
    "    model.add(tf.keras.layers.LeakyReLU())\n",
    "\n",
    "    model.add(tf.keras.layers.Conv2DTranspose(64,(3,3),strides=(2,2),padding=\"same\"))\n",
    "    model.add(tf.keras.layers.BatchNormalization())\n",
    "    model.add(tf.keras.layers.LeakyReLU())\n",
    "\n",
    "    model.add(tf.keras.layers.Conv2DTranspose(1,(3,3),strides=(2,2),padding=\"same\",activation=\"tanh\"))\n",
    "\n",
    "    return model"
   ]
  },
  {
   "cell_type": "code",
   "execution_count": 44,
   "id": "a5127d54-afe6-413d-8be1-def830c58432",
   "metadata": {},
   "outputs": [
    {
     "name": "stdout",
     "output_type": "stream",
     "text": [
      "Model: \"sequential_3\"\n",
      "_________________________________________________________________\n",
      " Layer (type)                Output Shape              Param #   \n",
      "=================================================================\n",
      " dense_3 (Dense)             (None, 2048)              204800    \n",
      "                                                                 \n",
      " batch_normalization_9 (Bat  (None, 2048)              8192      \n",
      " chNormalization)                                                \n",
      "                                                                 \n",
      " leaky_re_lu_9 (LeakyReLU)   (None, 2048)              0         \n",
      "                                                                 \n",
      " reshape_3 (Reshape)         (None, 4, 4, 128)         0         \n",
      "                                                                 \n",
      " conv2d_transpose_7 (Conv2D  (None, 8, 8, 128)         147584    \n",
      " Transpose)                                                      \n",
      "                                                                 \n",
      " batch_normalization_10 (Ba  (None, 8, 8, 128)         512       \n",
      " tchNormalization)                                               \n",
      "                                                                 \n",
      " leaky_re_lu_10 (LeakyReLU)  (None, 8, 8, 128)         0         \n",
      "                                                                 \n",
      " conv2d_transpose_8 (Conv2D  (None, 16, 16, 64)        73792     \n",
      " Transpose)                                                      \n",
      "                                                                 \n",
      " batch_normalization_11 (Ba  (None, 16, 16, 64)        256       \n",
      " tchNormalization)                                               \n",
      "                                                                 \n",
      " leaky_re_lu_11 (LeakyReLU)  (None, 16, 16, 64)        0         \n",
      "                                                                 \n",
      " conv2d_transpose_9 (Conv2D  (None, 32, 32, 1)         577       \n",
      " Transpose)                                                      \n",
      "                                                                 \n",
      "=================================================================\n",
      "Total params: 435713 (1.66 MB)\n",
      "Trainable params: 431233 (1.65 MB)\n",
      "Non-trainable params: 4480 (17.50 KB)\n",
      "_________________________________________________________________\n"
     ]
    }
   ],
   "source": [
    "generator = make_generator_model()\n",
    "generator.summary()"
   ]
  },
  {
   "cell_type": "markdown",
   "id": "f43f731d-e4a0-41bb-8efe-79a229efc1cd",
   "metadata": {},
   "source": [
    "#### Creating an image using the created generated model"
   ]
  },
  {
   "cell_type": "code",
   "execution_count": 46,
   "id": "cec67eab-7349-408e-9696-9da9cb1e5a4d",
   "metadata": {},
   "outputs": [
    {
     "data": {
      "image/png": "[encoded data removed]",
      "text/plain": [
       "<Figure size 200x200 with 1 Axes>"
      ]
     },
     "metadata": {},
     "output_type": "display_data"
    }
   ],
   "source": [
    "constant_noise = tf.random.normal([1,NOISE_DIM])\n",
    "generated_image = generator(constant_noise,training=False)\n",
    "\n",
    "plt.figure(figsize=(2,2))\n",
    "plt.imshow(generated_image[0,:,:,0],cmap=\"gray\")\n",
    "plt.title(\"Image generated by Generator\")\n",
    "plt.axis(\"off\")\n",
    "plt.show()"
   ]
  },
  {
   "cell_type": "markdown",
   "id": "3b59c60e-cbd3-49a9-9469-364e39b76540",
   "metadata": {},
   "source": [
    "#### Building Discriminator Model"
   ]
  },
  {
   "cell_type": "code",
   "execution_count": 49,
   "id": "165823eb-36ad-4d91-9bb3-a5fb7a6963a5",
   "metadata": {},
   "outputs": [],
   "source": [
    "def make_discriminator_model():\n",
    "    model = tf.keras.Sequential()\n",
    "    model.add(tf.keras.layers.Conv2D(16,(3,3),strides=(1,1),use_bias=False,input_shape=[32,32,1]))\n",
    "    model.add(tf.keras.layers.LeakyReLU())\n",
    "\n",
    "    model.add(tf.keras.layers.Conv2D(32,(3,3),strides=(1,1),use_bias=False))\n",
    "    model.add(tf.keras.layers.BatchNormalization())\n",
    "    model.add(tf.keras.layers.LeakyReLU())\n",
    "\n",
    "    model.add(tf.keras.layers.Conv2D(64, (3, 3), strides=(1, 1), use_bias=False))\n",
    "    model.add(tf.keras.layers.BatchNormalization())\n",
    "    model.add(tf.keras.layers.LeakyReLU())\n",
    "\n",
    "    model.add(tf.keras.layers.Conv2D(128, (3, 3), strides=(1, 1), use_bias=False))\n",
    "    model.add(tf.keras.layers.BatchNormalization())\n",
    "    model.add(tf.keras.layers.LeakyReLU())\n",
    "\n",
    "    model.add(tf.keras.layers.Conv2D(256, (5, 5), strides=(2, 2), use_bias=False))\n",
    "    model.add(tf.keras.layers.BatchNormalization())\n",
    "    model.add(tf.keras.layers.LeakyReLU())\n",
    "\n",
    "    model.add(tf.keras.layers.Conv2D(1, (10, 10), strides=(1, 1)))\n",
    "\n",
    "    model.add(tf.keras.layers.Flatten())\n",
    "    return model    "
   ]
  },
  {
   "cell_type": "code",
   "execution_count": 50,
   "id": "81721410-f2f2-4554-ac47-368c5eaacbce",
   "metadata": {},
   "outputs": [
    {
     "name": "stdout",
     "output_type": "stream",
     "text": [
      "Model: \"sequential_5\"\n",
      "_________________________________________________________________\n",
      " Layer (type)                Output Shape              Param #   \n",
      "=================================================================\n",
      " conv2d_1 (Conv2D)           (None, 30, 30, 16)        144       \n",
      "                                                                 \n",
      " leaky_re_lu_13 (LeakyReLU)  (None, 30, 30, 16)        0         \n",
      "                                                                 \n",
      " conv2d_2 (Conv2D)           (None, 28, 28, 32)        4608      \n",
      "                                                                 \n",
      " batch_normalization_12 (Ba  (None, 28, 28, 32)        128       \n",
      " tchNormalization)                                               \n",
      "                                                                 \n",
      " leaky_re_lu_14 (LeakyReLU)  (None, 28, 28, 32)        0         \n",
      "                                                                 \n",
      " conv2d_3 (Conv2D)           (None, 26, 26, 64)        18432     \n",
      "                                                                 \n",
      " batch_normalization_13 (Ba  (None, 26, 26, 64)        256       \n",
      " tchNormalization)                                               \n",
      "                                                                 \n",
      " leaky_re_lu_15 (LeakyReLU)  (None, 26, 26, 64)        0         \n",
      "                                                                 \n",
      " conv2d_4 (Conv2D)           (None, 24, 24, 128)       73728     \n",
      "                                                                 \n",
      " batch_normalization_14 (Ba  (None, 24, 24, 128)       512       \n",
      " tchNormalization)                                               \n",
      "                                                                 \n",
      " leaky_re_lu_16 (LeakyReLU)  (None, 24, 24, 128)       0         \n",
      "                                                                 \n",
      " conv2d_5 (Conv2D)           (None, 10, 10, 256)       819200    \n",
      "                                                                 \n",
      " batch_normalization_15 (Ba  (None, 10, 10, 256)       1024      \n",
      " tchNormalization)                                               \n",
      "                                                                 \n",
      " leaky_re_lu_17 (LeakyReLU)  (None, 10, 10, 256)       0         \n",
      "                                                                 \n",
      " conv2d_6 (Conv2D)           (None, 1, 1, 1)           25601     \n",
      "                                                                 \n",
      " flatten (Flatten)           (None, 1)                 0         \n",
      "                                                                 \n",
      "=================================================================\n",
      "Total params: 943633 (3.60 MB)\n",
      "Trainable params: 942673 (3.60 MB)\n",
      "Non-trainable params: 960 (3.75 KB)\n",
      "_________________________________________________________________\n"
     ]
    }
   ],
   "source": [
    "discriminator = make_discriminator_model()\n",
    "discriminator.summary()"
   ]
  },
  {
   "cell_type": "code",
   "execution_count": 51,
   "id": "ae4d3f45-7036-4787-859c-a74505ce1e05",
   "metadata": {},
   "outputs": [
    {
     "data": {
      "text/plain": [
       "<tf.Tensor: shape=(1, 1), dtype=float32, numpy=array([[-0.0006401]], dtype=float32)>"
      ]
     },
     "execution_count": 51,
     "metadata": {},
     "output_type": "execute_result"
    }
   ],
   "source": [
    "decision = discriminator(generated_image)\n",
    "decision"
   ]
  },
  {
   "cell_type": "markdown",
   "id": "b24df02c-6873-4a78-aef1-7f5dc7599782",
   "metadata": {},
   "source": [
    "### Model Training\n",
    "\n",
    "\n",
    "1.   Loss Type\n",
    "2.   Discriminator Loss\n",
    "3.   Generator Loss\n",
    "4.   Optimizer\n",
    "5.   Checkpoint Initialization\n",
    "6.   Training Flow\n",
    "\n"
   ]
  },
  {
   "cell_type": "markdown",
   "id": "788d6f2c-f6ff-4810-bbbb-9ee303fb85f5",
   "metadata": {},
   "source": [
    "#### Declare Binary Cross Entropy Loss"
   ]
  },
  {
   "cell_type": "code",
   "execution_count": 52,
   "id": "c0fe2b9b-83e9-481e-8136-bbc4021663f3",
   "metadata": {},
   "outputs": [],
   "source": [
    "cross_entropy = tf.keras.losses.BinaryCrossentropy(from_logits=True)"
   ]
  },
  {
   "cell_type": "markdown",
   "id": "4ea65995-34fd-47e2-a7ac-40b321227c13",
   "metadata": {},
   "source": [
    "#### Calculating Discriminator Loss"
   ]
  },
  {
   "cell_type": "code",
   "execution_count": 53,
   "id": "1bd95f7c-0474-4b85-b05d-b5b1d1c5cab9",
   "metadata": {},
   "outputs": [],
   "source": [
    "def discriminator_loss(real_output,fake_output):\n",
    "    real_loss = cross_entropy(tf.ones_like(real_output),real_output)\n",
    "    fake_loss = cross_entropy(tf.zeros_like(fake_output),fake_output)\n",
    "    return real_loss+fake_loss"
   ]
  },
  {
   "cell_type": "code",
   "execution_count": 54,
   "id": "716b2abd-cf50-4a69-a009-ac92759ba19b",
   "metadata": {},
   "outputs": [],
   "source": [
    "def generator_loss(fake_output):\n",
    "    return cross_entropy(tf.ones_like(fake_output),fake_output)"
   ]
  },
  {
   "cell_type": "markdown",
   "id": "e7e35c53-d5d8-445d-8ad5-e751afc0421d",
   "metadata": {},
   "source": [
    "#### Using Adam Optimizer"
   ]
  },
  {
   "cell_type": "code",
   "execution_count": 55,
   "id": "4a76cebc-5cce-40a7-8da1-be5a368eef0e",
   "metadata": {},
   "outputs": [],
   "source": [
    "generator_optimizer = tf.keras.optimizers.Adam(1e-4)\n",
    "discriminator_optimizer = tf.keras.optimizers.Adam(1e-4)"
   ]
  },
  {
   "cell_type": "code",
   "execution_count": 56,
   "id": "082e183e-a9a9-47d9-9b6d-3b4575632d19",
   "metadata": {},
   "outputs": [],
   "source": [
    "EPOCHS=250"
   ]
  },
  {
   "cell_type": "code",
   "execution_count": 59,
   "id": "1300a41f-80b1-4463-b05f-8667db079eeb",
   "metadata": {},
   "outputs": [],
   "source": [
    "if not os.path.isdir(\"generated_images\"):\n",
    "    os.mkdir(\"generated_images\")\n",
    "\n",
    "checkpoint_dir = \"./training_checkpoints\"\n",
    "ckpt = tf.train.Checkpoint(generator_optimizer=generator_optimizer,\n",
    "                                 discriminator_optimizer=discriminator_optimizer,\n",
    "                                 generator=generator,\n",
    "                                 discriminator=discriminator)\n",
    "ckpt_manager = tf.train.CheckpointManager(ckpt,checkpoint_dir,max_to_keep=3)\n",
    "if ckpt_manager.latest_checkpoint:\n",
    "    ckpt.restore(ckpt_manager.latest_checkpoint)\n",
    "    print(\"Latest checkpoint restored!!\")"
   ]
  },
  {
   "cell_type": "markdown",
   "id": "ac22e9ef-b717-4f35-8cd4-73d4409c146e",
   "metadata": {},
   "source": [
    "### Training Flow"
   ]
  },
  {
   "cell_type": "code",
   "execution_count": 60,
   "id": "c498f86f-29b9-471f-9271-18a20c32772a",
   "metadata": {},
   "outputs": [],
   "source": [
    "@tf.function\n",
    "def train_step(images):\n",
    "    noise = tf.random.normal([BATCH_SIZE,NOISE_DIM])\n",
    "    with tf.GradientTape() as gen_tape,tf.GradientTape() as disc_tape:\n",
    "        generated_images = generator(noise,training=True)\n",
    "        real_output = discriminator(images,training=True)\n",
    "        fake_output = discriminator(generated_images,training=True)\n",
    "        gen_loss = generator_loss(fake_output)\n",
    "        disc_loss = discriminator_loss(real_output,fake_output)\n",
    "\n",
    "    gradients_of_generator = gen_tape.gradient(gen_loss,generator.trainable_variables)\n",
    "    gradients_of_discriminator = disc_tape.gradient(disc_loss,discriminator.trainable_variables)\n",
    "\n",
    "    generator_optimizer.apply_gradients(zip(gradients_of_generator,generator.trainable_variables))\n",
    "    discriminator_optimizer.apply_gradients(zip(gradients_of_discriminator,discriminator.trainable_variables))"
   ]
  },
  {
   "cell_type": "markdown",
   "id": "76bde03d-44ac-4eec-84c2-b6d4eb4192f6",
   "metadata": {},
   "source": [
    "### Train the DCGAN Model for several Epochs"
   ]
  },
  {
   "cell_type": "code",
   "execution_count": 61,
   "id": "6c3a2071-8cc1-4c44-8864-b8d8e2756894",
   "metadata": {},
   "outputs": [],
   "source": [
    "num_examples_to_generate = 16\n",
    "seed = tf.random.normal((num_examples_to_generate,NOISE_DIM))"
   ]
  },
  {
   "cell_type": "code",
   "execution_count": null,
   "id": "94af9d75-ecf0-4676-ad0d-a9202f993364",
   "metadata": {},
   "outputs": [],
   "source": [
    "for epoch in range(1,EPOCHS+1):\n",
    "    for image_batch in train_dataset:\n",
    "        train_step(image_batch)\n",
    "\n",
    "    display.clear_output(wait=True)\n",
    "    predictions = generator(seed, training= False)\n",
    "    fig = plt.figure(figsize=(4,4))\n",
    "    for i in range(predictions.shape[0]):\n",
    "        plt.subplot(4,4,i+1)\n",
    "        plt.imshow(predictions[i,:,:,0]*127.5+127.5,cmap=\"gray\")\n",
    "        plt.axis(\"off\")"
   ]
  },
  {
   "cell_type": "code",
   "execution_count": null,
   "id": "17fd6c48-f663-4448-b920-4edb30c2b7a5",
   "metadata": {},
   "outputs": [],
   "source": []
  }
 ],
 "metadata": {
  "kernelspec": {
   "display_name": "Python 3 (ipykernel)",
   "language": "python",
   "name": "python3"
  },
  "language_info": {
   "codemirror_mode": {
    "name": "ipython",
    "version": 3
   },
   "file_extension": ".py",
   "mimetype": "text/x-python",
   "name": "python",
   "nbconvert_exporter": "python",
   "pygments_lexer": "ipython3",
   "version": "3.11.7"
  }
 },
 "nbformat": 4,
 "nbformat_minor": 5
}
