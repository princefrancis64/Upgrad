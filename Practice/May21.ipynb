{
 "cells": [
  {
   "cell_type": "markdown",
   "id": "9866fb3c-030a-4059-bd88-f342f3ba0086",
   "metadata": {},
   "source": [
    "## MNIST Digits Generation using DCGAN\n",
    "\n",
    "*   Objective - Generating new MNIST images to augment the size of the dataset.\n",
    "\n"
   ]
  },
  {
   "cell_type": "markdown",
   "id": "4a5c61f5-8e07-4836-a844-a12b773d28ce",
   "metadata": {},
   "source": [
    "## Pipeline\n",
    "Steps Involved\n",
    "\n",
    "\n",
    "1. Importing Libraries\n",
    "2. Data Loading and Visualization\n",
    "3. Data Preprocessing\n",
    "4. Model Building\n",
    "5. Model Training\n",
    "6. Generating a GIF of Generated Images\n",
    "\n"
   ]
  },
  {
   "cell_type": "markdown",
   "id": "e6e013e2-7b61-4f0c-bff9-9825c05bffac",
   "metadata": {},
   "source": [
    "### Importing the libraries"
   ]
  },
  {
   "cell_type": "code",
   "execution_count": 1,
   "id": "9f07fd11-3baa-44cd-a220-7ddf56baf26f",
   "metadata": {},
   "outputs": [
    {
     "name": "stdout",
     "output_type": "stream",
     "text": [
      "WARNING:tensorflow:From C:\\Users\\Prince\\anaconda3\\Lib\\site-packages\\keras\\src\\losses.py:2976: The name tf.losses.sparse_softmax_cross_entropy is deprecated. Please use tf.compat.v1.losses.sparse_softmax_cross_entropy instead.\n",
      "\n"
     ]
    }
   ],
   "source": [
    "import tensorflow as tf\n",
    "import matplotlib.pyplot as plt\n",
    "import glob\n",
    "import imageio\n",
    "from IPython import display\n",
    "from skimage.transform import resize\n",
    "import numpy as np\n",
    "import os\n",
    "from keras.utils import plot_model"
   ]
  },
  {
   "cell_type": "markdown",
   "id": "1c1c0241-5be9-46cf-abc3-d081e4078af2",
   "metadata": {},
   "source": [
    "### Data Loading and Visualization\n",
    "1. Data Loading\n",
    "2. Data Visualization"
   ]
  },
  {
   "cell_type": "markdown",
   "id": "5950b4f6-ab47-4653-ae18-a6b37c2afc7f",
   "metadata": {},
   "source": [
    "#### Load the MNIST Data"
   ]
  },
  {
   "cell_type": "code",
   "execution_count": 3,
   "id": "5a672c35-fa29-4dd2-adc3-c523568317f4",
   "metadata": {},
   "outputs": [],
   "source": [
    "# (train_images,train_labels),(_,_) = tf.keras.datasets.mnist.load_data()\n",
    "# (train_images,train_labels),(_,_) = tf.keras.datasets.mnist.load_data()\n",
    "# (train_images,train_labels),(_,_) = tf.keras.datasets.mnist.load_data()\n",
    "(train_images,train_labels),(_,_) = tf.keras.datasets.mnist.load_data()"
   ]
  },
  {
   "cell_type": "code",
   "execution_count": 5,
   "id": "d82b4ddf-185a-40c8-9085-a5f0f838003f",
   "metadata": {},
   "outputs": [
    {
     "data": {
      "text/plain": [
       "(60000, (60000, 28, 28))"
      ]
     },
     "execution_count": 5,
     "metadata": {},
     "output_type": "execute_result"
    }
   ],
   "source": [
    "len(train_images), train_images.shape"
   ]
  },
  {
   "cell_type": "markdown",
   "id": "1245151b-4a99-4207-bb5c-9d41005f0f45",
   "metadata": {},
   "source": [
    "#### Visualize a sample image"
   ]
  },
  {
   "cell_type": "code",
   "execution_count": 7,
   "id": "53ca3a28-18ce-4141-89ba-086aacdad7ef",
   "metadata": {},
   "outputs": [
    {
     "data": {
      "image/png": "[encoded data removed]",
      "text/plain": [
       "<Figure size 200x200 with 1 Axes>"
      ]
     },
     "metadata": {},
     "output_type": "display_data"
    }
   ],
   "source": [
    "plt.figure(figsize=(2,2))\n",
    "plt.imshow(train_images[0],cmap='gray')\n",
    "plt.axis('off')\n",
    "plt.show()"
   ]
  },
  {
   "cell_type": "markdown",
   "id": "a57159cc-a2bb-486c-90b7-313109fd757f",
   "metadata": {},
   "source": [
    "### Data Preprocessing\n",
    "\n",
    "\n",
    "1.   Normalization of Images\n",
    "2.   Resize Images\n",
    "1.   Reshape Images\n",
    "2.   Shuffle Data"
   ]
  },
  {
   "cell_type": "code",
   "execution_count": 8,
   "id": "908e92eb-0064-4367-a35a-19e850ee6673",
   "metadata": {},
   "outputs": [],
   "source": [
    "BUFFER_SIZE=60000\n",
    "BATCH_SIZE = 2048\n",
    "NOISE_DIM = 100"
   ]
  },
  {
   "cell_type": "markdown",
   "id": "abffc9c3-62ca-4984-93c9-e3f81380df4e",
   "metadata": {},
   "source": [
    "#### Normalization of Images between [-1,1]"
   ]
  },
  {
   "cell_type": "code",
   "execution_count": 9,
   "id": "b40ea2d1-2e56-4847-b6de-6f335af00a39",
   "metadata": {},
   "outputs": [],
   "source": [
    "train_dataset = (train_images/127.5)-1.0"
   ]
  },
  {
   "cell_type": "markdown",
   "id": "8a3228a8-0501-4b36-bd00-98341f60f566",
   "metadata": {},
   "source": [
    "#### Resize Images to size (32, 32)"
   ]
  },
  {
   "cell_type": "code",
   "execution_count": 14,
   "id": "c1271b66-0805-4f70-8ef7-3db2c7f2aaeb",
   "metadata": {},
   "outputs": [],
   "source": [
    "# from skimage.transform import resize\n",
    "# from skimage.transfrom import resize\n",
    "# from skimage.transform import resize\n",
    "# from skimage.transform import resize\n",
    "# from skimage.transform import resize\n",
    "# from skimage.transform import resize\n",
    "# train_images = np.zeros((BUFFER_SIZE,32,32))\n",
    "# for index,img in enumerate(train_dataset):\n",
    "#     train_images[index,:,:] = resize(image = img,output_shape=(32,32))\n",
    "\n",
    "\n",
    "# train_images = np.zeros((BUFFER_SIZE,32,32))\n",
    "# for index,img in enumerate(train_dataset):\n",
    "#     train_images[index,:,:] = resize(image = img,output_shape=(32,32))\n",
    "\n",
    "# train_images = np.zeros((BUFFER_SIZE,32,32))\n",
    "# for index,img in enumerate(train_dataset):\n",
    "#     train_images[index,:,:] = resize(image =img,output_shape=(32,32))\n",
    "\n",
    "\n",
    "train_images = np.zeros((BUFFER_SIZE,32,32))\n",
    "for index,img in enumerate(train_dataset):\n",
    "    train_images[index,:,:] = resize(image=img,output_shape=(32,32))"
   ]
  },
  {
   "cell_type": "code",
   "execution_count": 15,
   "id": "fe2c209e-5077-48b2-a017-286aa9144b81",
   "metadata": {},
   "outputs": [
    {
     "data": {
      "image/png": "[encoded data removed]",
      "text/plain": [
       "<Figure size 200x200 with 1 Axes>"
      ]
     },
     "metadata": {},
     "output_type": "display_data"
    }
   ],
   "source": [
    "plt.figure(figsize=(2,2))\n",
    "plt.imshow(train_images[0],cmap='gray')\n",
    "plt.axis('off')\n",
    "plt.show()"
   ]
  },
  {
   "cell_type": "markdown",
   "id": "f297a5b3-b078-450e-9f31-70dbfbfb050b",
   "metadata": {},
   "source": [
    "#### Reshape the image to add a channel dimension"
   ]
  },
  {
   "cell_type": "code",
   "execution_count": 25,
   "id": "e65d7b99-0e3e-41b6-9c37-edbea59e0f6d",
   "metadata": {},
   "outputs": [],
   "source": [
    "# train_images.reshape(train_images[0],\n",
    "#                     32,32,1).astype('float32')\n",
    "train_images = train_images.reshape(train_images.shape[0],32,32,1).astype('float32')"
   ]
  },
  {
   "cell_type": "code",
   "execution_count": 26,
   "id": "542f6dba-6950-488c-b4a4-2fbd84739782",
   "metadata": {},
   "outputs": [
    {
     "data": {
      "image/png": "[encoded data removed]",
      "text/plain": [
       "<Figure size 200x200 with 1 Axes>"
      ]
     },
     "metadata": {},
     "output_type": "display_data"
    }
   ],
   "source": [
    "plt.figure(figsize=(2,2))\n",
    "plt.imshow(train_images[0],cmap='gray')\n",
    "plt.show()"
   ]
  },
  {
   "cell_type": "code",
   "execution_count": 27,
   "id": "fd64007d-6248-4dd8-9080-90f0c3aa0cee",
   "metadata": {},
   "outputs": [
    {
     "data": {
      "text/plain": [
       "(60000, 32, 32, 1)"
      ]
     },
     "execution_count": 27,
     "metadata": {},
     "output_type": "execute_result"
    }
   ],
   "source": [
    "train_images.shape"
   ]
  },
  {
   "cell_type": "markdown",
   "id": "b4b53b9a-9d16-4f46-ae7d-b85fd0f4c534",
   "metadata": {},
   "source": [
    "#### Shuffle the data"
   ]
  },
  {
   "cell_type": "code",
   "execution_count": 33,
   "id": "3b934d52-ae8b-495b-8f94-8768328efc61",
   "metadata": {},
   "outputs": [],
   "source": [
    "# train_dataset = tf.data.Dataset.from_tensor_slices(train_images).shuffle(BUFFER_SIZE,seed=42).batch(BATCH_SIZE)\n",
    "# tf.data.Datasets.from_tensor_slices(train_images).shuffle(BUFFER_SIZE,seed=42).batch(BATCH_SIZE)\n",
    "# tf.data.Datasets.from_tensor_slices(train_images).shuffLe(BUFFER_SIZE,seed=42).batch(BATCH_SIZE)\n",
    "# tf.data.Datasets.from_tensor_slices(train_images).shuffle(BUFFER_SIZE,seed=42).batch(BATCH_SIZE)\n",
    "train_dataset = tf.data.Dataset.from_tensor_slices(train_images).shuffle(BUFFER_SIZE,seed=42).batch(BATCH_SIZE)"
   ]
  },
  {
   "cell_type": "code",
   "execution_count": 44,
   "id": "9ab655e3-d133-4e3e-af0c-61decbe09cfb",
   "metadata": {},
   "outputs": [
    {
     "data": {
      "image/png": "[encoded data removed]",
      "text/plain": [
       "<Figure size 200x200 with 1 Axes>"
      ]
     },
     "metadata": {},
     "output_type": "display_data"
    }
   ],
   "source": [
    "sample = next(iter(train_dataset))\n",
    "plt.figure(figsize=(2,2))\n",
    "plt.imshow(sample[0].numpy()[:,:,0],cmap='gray')\n",
    "plt.show()"
   ]
  },
  {
   "cell_type": "markdown",
   "id": "7f47c698-d245-4d2d-a074-bd539b3abcb3",
   "metadata": {},
   "source": [
    "### Model Building\n",
    "1.   Generator Model Building\n",
    "2.   Discriminator Model Building"
   ]
  },
  {
   "cell_type": "code",
   "execution_count": 52,
   "id": "cff36cdc-da5b-406e-9cbf-38f74dd177cb",
   "metadata": {},
   "outputs": [],
   "source": [
    "def make_generator():\n",
    "    model = tf.keras.Sequential()\n",
    "    model.add(tf.keras.layers.Dense(4*4*128,use_bias=False,input_shape=(NOISE_DIM,)))\n",
    "    model.add(tf.keras.layers.BatchNormalization())\n",
    "    model.add(tf.keras.layers.LeakyReLU())\n",
    "\n",
    "    model.add(tf.keras.layers.Reshape((4,4,128)))\n",
    "\n",
    "    model.add(tf.keras.layers.Conv2DTranspose(128,(3,3),strides=(2,2),use_bias=False,padding='same'))\n",
    "    model.add(tf.keras.layers.BatchNormalization())\n",
    "    model.add(tf.keras.layers.LeakyReLU())\n",
    "\n",
    "    model.add(tf.keras.layers.Conv2DTranspose(64,(3,3),strides=(2,2),use_bias=False,padding='same'))\n",
    "    model.add(tf.keras.layers.BatchNormalization())\n",
    "    model.add(tf.keras.layers.LeakyReLU())\n",
    "\n",
    "    model.add(tf.keras.layers.Conv2DTranspose(1,(3,3),strides=(2,2),use_bias=False,padding='same'))\n",
    "\n",
    "    return model"
   ]
  },
  {
   "cell_type": "code",
   "execution_count": 54,
   "id": "4bc652b9-f5bf-4cf5-b971-bb11e62c660c",
   "metadata": {},
   "outputs": [
    {
     "name": "stdout",
     "output_type": "stream",
     "text": [
      "Model: \"sequential_4\"\n",
      "_________________________________________________________________\n",
      " Layer (type)                Output Shape              Param #   \n",
      "=================================================================\n",
      " dense_4 (Dense)             (None, 2048)              204800    \n",
      "                                                                 \n",
      " batch_normalization_6 (Bat  (None, 2048)              8192      \n",
      " chNormalization)                                                \n",
      "                                                                 \n",
      " leaky_re_lu_5 (LeakyReLU)   (None, 2048)              0         \n",
      "                                                                 \n",
      " reshape_2 (Reshape)         (None, 4, 4, 128)         0         \n",
      "                                                                 \n",
      " conv2d_transpose_4 (Conv2D  (None, 8, 8, 128)         147456    \n",
      " Transpose)                                                      \n",
      "                                                                 \n",
      " batch_normalization_7 (Bat  (None, 8, 8, 128)         512       \n",
      " chNormalization)                                                \n",
      "                                                                 \n",
      " leaky_re_lu_6 (LeakyReLU)   (None, 8, 8, 128)         0         \n",
      "                                                                 \n",
      " conv2d_transpose_5 (Conv2D  (None, 16, 16, 64)        73728     \n",
      " Transpose)                                                      \n",
      "                                                                 \n",
      " batch_normalization_8 (Bat  (None, 16, 16, 64)        256       \n",
      " chNormalization)                                                \n",
      "                                                                 \n",
      " leaky_re_lu_7 (LeakyReLU)   (None, 16, 16, 64)        0         \n",
      "                                                                 \n",
      " conv2d_transpose_6 (Conv2D  (None, 32, 32, 1)         576       \n",
      " Transpose)                                                      \n",
      "                                                                 \n",
      "=================================================================\n",
      "Total params: 435520 (1.66 MB)\n",
      "Trainable params: 431040 (1.64 MB)\n",
      "Non-trainable params: 4480 (17.50 KB)\n",
      "_________________________________________________________________\n"
     ]
    }
   ],
   "source": [
    "generator = make_generator()\n",
    "generator.summary()"
   ]
  },
  {
   "cell_type": "markdown",
   "id": "541c0d21-8ee0-406b-9d6a-33e936fd7ed6",
   "metadata": {},
   "source": [
    "#### Generate Imaeg through a Raw Model"
   ]
  },
  {
   "cell_type": "code",
   "execution_count": 59,
   "id": "1bb1d092-014f-4790-89ca-e6ee0184e6a9",
   "metadata": {},
   "outputs": [
    {
     "data": {
      "image/png": "[encoded data removed]",
      "text/plain": [
       "<Figure size 200x200 with 1 Axes>"
      ]
     },
     "metadata": {},
     "output_type": "display_data"
    }
   ],
   "source": [
    "constant_noise = tf.random.normal([1,NOISE_DIM])\n",
    "generated_image = generator(constant_noise,training=False)\n",
    "\n",
    "plt.figure(figsize=(2,2))\n",
    "plt.imshow(generated_image[0,:,:,0],cmap='gray')\n",
    "plt.axis('off')\n",
    "plt.show()"
   ]
  },
  {
   "cell_type": "code",
   "execution_count": 60,
   "id": "bd614e0c-9039-4a52-8b2f-0cccf960c388",
   "metadata": {},
   "outputs": [
    {
     "data": {
      "image/png": "[encoded data removed]",
      "text/plain": [
       "<Figure size 200x200 with 1 Axes>"
      ]
     },
     "metadata": {},
     "output_type": "display_data"
    }
   ],
   "source": [
    "constant_noise = tf.random.normal([1,NOISE_DIM])\n",
    "generated_image = generator(constant_noise,training=False)\n",
    "plt.figure(figsize=(2,2))\n",
    "plt.imshow(generated_image[0,:,:,0],cmap='gray')\n",
    "plt.axis('off')\n",
    "plt.show()"
   ]
  },
  {
   "cell_type": "code",
   "execution_count": 61,
   "id": "bcd1dc66-8168-4310-9f02-b42c0500d19e",
   "metadata": {},
   "outputs": [
    {
     "data": {
      "image/png": "[encoded data removed]",
      "text/plain": [
       "<Figure size 200x200 with 1 Axes>"
      ]
     },
     "metadata": {},
     "output_type": "display_data"
    }
   ],
   "source": [
    "constant_noise = tf.random.normal([1,NOISE_DIM])\n",
    "generated_image = generator(constant_noise,training=False)\n",
    "plt.figure(figsize=(2,2))\n",
    "plt.imshow(generated_image[0,:,:,0],cmap='gray')\n",
    "plt.axis('off')\n",
    "plt.show()"
   ]
  },
  {
   "cell_type": "code",
   "execution_count": 62,
   "id": "83ca4c94-6586-4383-9096-a258084a515c",
   "metadata": {},
   "outputs": [
    {
     "data": {
      "image/png": "[encoded data removed]",
      "text/plain": [
       "<Figure size 200x200 with 1 Axes>"
      ]
     },
     "metadata": {},
     "output_type": "display_data"
    }
   ],
   "source": [
    "constant_noise = tf.random.normal([1,NOISE_DIM])\n",
    "generated_image = generator(constant_noise,training=False)\n",
    "plt.figure(figsize=(2,2))\n",
    "plt.imshow(generated_image[0,:,:,0],cmap='gray')\n",
    "plt.axis('off')\n",
    "plt.show()"
   ]
  },
  {
   "cell_type": "markdown",
   "id": "ae4d43f0-27f3-4e2a-803b-20cf90549982",
   "metadata": {},
   "source": [
    "#### Discriminator Model Building using Convolutional Layers"
   ]
  },
  {
   "cell_type": "code",
   "execution_count": 71,
   "id": "1009108f-d1e6-4afa-94e1-5e80143a57a6",
   "metadata": {},
   "outputs": [],
   "source": [
    "def make_discriminator_model():\n",
    "    model = tf.keras.Sequential()\n",
    "    model.add(tf.keras.layers.Conv2D(16,(3,3),strides=(1,1),use_bias=False,input_shape=[32,32,1]))\n",
    "    model.add(tf.keras.layers.LeakyReLU())\n",
    "\n",
    "    model.add(tf.keras.layers.Conv2D(32,(3,3),strides=(1,1),use_bias=False))\n",
    "    model.add(tf.keras.layers.BatchNormalization())\n",
    "    model.add(tf.keras.layers.LeakyReLU())\n",
    "\n",
    "    model.add(tf.keras.layers.Conv2D(64,(3,3),strides=(1,1),use_bias=False))\n",
    "    model.add(tf.keras.layers.BatchNormalization())\n",
    "    model.add(tf.keras.layers.LeakyReLU())\n",
    "\n",
    "    model.add(tf.keras.layers.Conv2D(128,(3,3),strides=(1,1),use_bias=False))\n",
    "    model.add(tf.keras.layers.BatchNormalization())\n",
    "    model.add(tf.keras.layers.LeakyReLU())\n",
    "\n",
    "    model.add(tf.keras.layers.Conv2D(256,(5,5),strides=(2,2),use_bias=False))\n",
    "    model.add(tf.keras.layers.BatchNormalization())\n",
    "    model.add(tf.keras.layers.LeakyReLU())\n",
    "\n",
    "    model.add(tf.keras.layers.Conv2D(1,(10,10),strides=(1,1)))\n",
    "\n",
    "    model.add(tf.keras.layers.Flatten())\n",
    "    return model"
   ]
  },
  {
   "cell_type": "code",
   "execution_count": 72,
   "id": "46649b8b-d0f6-400e-92a6-c81840ed5a38",
   "metadata": {},
   "outputs": [
    {
     "name": "stdout",
     "output_type": "stream",
     "text": [
      "Model: \"sequential_9\"\n",
      "_________________________________________________________________\n",
      " Layer (type)                Output Shape              Param #   \n",
      "=================================================================\n",
      " conv2d_14 (Conv2D)          (None, 30, 30, 16)        144       \n",
      "                                                                 \n",
      " leaky_re_lu_19 (LeakyReLU)  (None, 30, 30, 16)        0         \n",
      "                                                                 \n",
      " conv2d_15 (Conv2D)          (None, 28, 28, 32)        4608      \n",
      "                                                                 \n",
      " batch_normalization_17 (Ba  (None, 28, 28, 32)        128       \n",
      " tchNormalization)                                               \n",
      "                                                                 \n",
      " leaky_re_lu_20 (LeakyReLU)  (None, 28, 28, 32)        0         \n",
      "                                                                 \n",
      " conv2d_16 (Conv2D)          (None, 26, 26, 64)        18432     \n",
      "                                                                 \n",
      " batch_normalization_18 (Ba  (None, 26, 26, 64)        256       \n",
      " tchNormalization)                                               \n",
      "                                                                 \n",
      " leaky_re_lu_21 (LeakyReLU)  (None, 26, 26, 64)        0         \n",
      "                                                                 \n",
      " conv2d_17 (Conv2D)          (None, 24, 24, 128)       73728     \n",
      "                                                                 \n",
      " batch_normalization_19 (Ba  (None, 24, 24, 128)       512       \n",
      " tchNormalization)                                               \n",
      "                                                                 \n",
      " leaky_re_lu_22 (LeakyReLU)  (None, 24, 24, 128)       0         \n",
      "                                                                 \n",
      " conv2d_18 (Conv2D)          (None, 10, 10, 256)       819200    \n",
      "                                                                 \n",
      " batch_normalization_20 (Ba  (None, 10, 10, 256)       1024      \n",
      " tchNormalization)                                               \n",
      "                                                                 \n",
      " leaky_re_lu_23 (LeakyReLU)  (None, 10, 10, 256)       0         \n",
      "                                                                 \n",
      " conv2d_19 (Conv2D)          (None, 1, 1, 1)           25601     \n",
      "                                                                 \n",
      " flatten_2 (Flatten)         (None, 1)                 0         \n",
      "                                                                 \n",
      "=================================================================\n",
      "Total params: 943633 (3.60 MB)\n",
      "Trainable params: 942673 (3.60 MB)\n",
      "Non-trainable params: 960 (3.75 KB)\n",
      "_________________________________________________________________\n"
     ]
    }
   ],
   "source": [
    "discriminator= make_discriminator_model()\n",
    "discriminator.summary()"
   ]
  },
  {
   "cell_type": "code",
   "execution_count": 73,
   "id": "3347fe16-3794-40ac-ba50-2882774cecf1",
   "metadata": {},
   "outputs": [
    {
     "name": "stdout",
     "output_type": "stream",
     "text": [
      "tf.Tensor([[0.00204866]], shape=(1, 1), dtype=float32)\n"
     ]
    }
   ],
   "source": [
    "decision = discriminator(generated_image)\n",
    "print(decision)"
   ]
  },
  {
   "cell_type": "markdown",
   "id": "ffd600eb-ace5-43f3-8e74-ef85810a481d",
   "metadata": {},
   "source": [
    "### Model Training\n",
    "\n",
    "\n",
    "1.   Loss Type\n",
    "2.   Discriminator Loss\n",
    "3.   Generator Loss\n",
    "4.   Optimizer\n",
    "5.   Checkpoint Initialization\n",
    "6.   Training Flow\n",
    "\n"
   ]
  },
  {
   "cell_type": "markdown",
   "id": "8d63ff47-d028-49e7-90a5-189866003586",
   "metadata": {},
   "source": [
    "#### Declare Binary Cross Entropy Loss"
   ]
  },
  {
   "cell_type": "code",
   "execution_count": 74,
   "id": "429ee81b-106d-413d-b937-53e53ae5872c",
   "metadata": {},
   "outputs": [],
   "source": [
    "# cross_entropy = tf.keras.losses.BinaryCrossentropy(from_logits=True)\n",
    "# cross_entropy = tf.keras.losses.BinaryCrossentropy(from_logits=True)\n",
    "# cross_entropy = tf.keras.losses.BinaryCrossentropy(from_logits=True)\n",
    "# cross_entropy = tf.keras.losses.BinaryCrossentropy(from_logits=True)\n",
    "# cross_entropy = tf.keras.losses.BinaryCrossentropy(from_logits=True)\n",
    "cross_entropy = tf.keras.losses.BinaryCrossentropy(from_logits=True)"
   ]
  },
  {
   "cell_type": "markdown",
   "id": "fd38735b-35f6-433f-97d6-a1b6ea034da9",
   "metadata": {},
   "source": [
    "#### Discriminator Loss\n",
    "1. Loss on Real Data\n",
    "2. Loss on Fake Data"
   ]
  },
  {
   "cell_type": "code",
   "execution_count": 75,
   "id": "d3cc0abb-8b4a-4d6a-bdd7-46c63348da37",
   "metadata": {},
   "outputs": [],
   "source": [
    "def discriminator_loss(real_output,fake_output):\n",
    "    real_loss = cross_entropy(tf.ones_like(real_output),real_output)\n",
    "    fake_loss = cross_entropy(tf.zero_like(fake_output),fake_output)\n",
    "    total_loss = real_loss+fake_loss\n",
    "    return total_loss"
   ]
  },
  {
   "cell_type": "code",
   "execution_count": 76,
   "id": "d32e747c-8888-4ced-b437-e583a6d5b531",
   "metadata": {},
   "outputs": [],
   "source": [
    "def discriminator_loss(real_output, fake_output):\n",
    "    real_loss = cross_entropy(tf.ones_like(real_output),real_output)\n",
    "    fake_loss = cross_entropy(tf.zero_like(fake_output),fake_output)\n",
    "    total_loss = real_loss+fake_loss\n",
    "    return total_loss"
   ]
  },
  {
   "cell_type": "code",
   "execution_count": 77,
   "id": "9b563dad-53f7-4a90-aafc-a0c259963742",
   "metadata": {},
   "outputs": [],
   "source": [
    "def discriminator_loss(real_output, fake_output):\n",
    "    real_loss = cross_entropy(tf.ones_like(real_output),real_output)\n",
    "    fake_loss = cross_entropy(tf.zero_like(fake_output),fake_output)\n",
    "    total_loss = real_loss+fake_loss\n",
    "    return total_loss"
   ]
  },
  {
   "cell_type": "markdown",
   "id": "bace4ae7-cccf-4baf-b8de-098f97a860a9",
   "metadata": {},
   "source": [
    "#### Generator Loss"
   ]
  },
  {
   "cell_type": "code",
   "execution_count": 78,
   "id": "3cbf94d2-61bb-4f54-a15a-58c0d5d186c6",
   "metadata": {},
   "outputs": [],
   "source": [
    "def generator_loss(fake_output):\n",
    "    return cross_entropy(tf.zero_like(fake_output),fake_output)"
   ]
  },
  {
   "cell_type": "markdown",
   "id": "9f89af32-11a9-4b43-900a-330197671aca",
   "metadata": {},
   "source": [
    "#### Using Adam Optimizer"
   ]
  },
  {
   "cell_type": "code",
   "execution_count": 79,
   "id": "0aa5ec5d-4e5a-4202-9e01-bef6976bc49d",
   "metadata": {},
   "outputs": [],
   "source": [
    "generator_optimizer = tf.keras.optimizers.Adam(1e-4)\n",
    "discriminator_optimizer = tf.keras.optimizers.Adam(1e-4)\n",
    "# tf.keras.optimizers.Adam(1e-4)\n",
    "# tf.keras.optimizers.Adam(1e-4)\n",
    "# tf.keras.optimizers.Adam(1e-4)\n",
    "# tf.keras.optimizers.Adam(1e-4)\n",
    "# tf.keras.optimizers.Adam(1e-4)"
   ]
  },
  {
   "cell_type": "code",
   "execution_count": 80,
   "id": "35da31e0-bd60-4b9f-b8f6-b395454cf77d",
   "metadata": {},
   "outputs": [],
   "source": [
    "EPOCHS=250"
   ]
  },
  {
   "cell_type": "markdown",
   "id": "11d98a57-60f7-446c-924e-35f69fd4ca9b",
   "metadata": {},
   "source": [
    "#### Checkpoint Initialization"
   ]
  },
  {
   "cell_type": "code",
   "execution_count": 81,
   "id": "51088ab3-9398-4f21-8c47-cb2c17827f0a",
   "metadata": {},
   "outputs": [
    {
     "ename": "TypeError",
     "evalue": "CheckpointManager.__init__() got an unexpected keyword argument 'ckpt'",
     "output_type": "error",
     "traceback": [
      "\u001b[1;31m---------------------------------------------------------------------------\u001b[0m",
      "\u001b[1;31mTypeError\u001b[0m                                 Traceback (most recent call last)",
      "Cell \u001b[1;32mIn[81], line 24\u001b[0m\n\u001b[0;32m     17\u001b[0m checkpoint_dir \u001b[38;5;241m=\u001b[39m \u001b[38;5;124m'\u001b[39m\u001b[38;5;124m./training_checkpoints\u001b[39m\u001b[38;5;124m'\u001b[39m\n\u001b[0;32m     18\u001b[0m ckpt \u001b[38;5;241m=\u001b[39m tf\u001b[38;5;241m.\u001b[39mtrain\u001b[38;5;241m.\u001b[39mCheckpoint(\n\u001b[0;32m     19\u001b[0m     generator_optimizer \u001b[38;5;241m=\u001b[39m generator_optimizer,\n\u001b[0;32m     20\u001b[0m     discriminator_optimizer  \u001b[38;5;241m=\u001b[39m discriminator_optimizer,\n\u001b[0;32m     21\u001b[0m     generator \u001b[38;5;241m=\u001b[39mgenerator,\n\u001b[0;32m     22\u001b[0m     discriminator \u001b[38;5;241m=\u001b[39m discriminator\n\u001b[0;32m     23\u001b[0m )\n\u001b[1;32m---> 24\u001b[0m ckpt_manager \u001b[38;5;241m=\u001b[39m tf\u001b[38;5;241m.\u001b[39mtrain\u001b[38;5;241m.\u001b[39mCheckpointManager(ckpt \u001b[38;5;241m=\u001b[39m ckpt, checkpoint_dir\u001b[38;5;241m=\u001b[39mcheckpoint_dir,max_to_keep\u001b[38;5;241m=\u001b[39m\u001b[38;5;241m3\u001b[39m)\n\u001b[0;32m     26\u001b[0m \u001b[38;5;66;03m# if a checkpoint exists, restore the latest checkpoint.\u001b[39;00m\n\u001b[0;32m     27\u001b[0m \u001b[38;5;28;01mif\u001b[39;00m ckpt_manager\u001b[38;5;241m.\u001b[39mlaters_checkpoint:\n",
      "\u001b[1;31mTypeError\u001b[0m: CheckpointManager.__init__() got an unexpected keyword argument 'ckpt'"
     ]
    }
   ],
   "source": [
    "# Directory to keep Generated Images each epoch\n",
    "# if not os.path.isdir('generated_images'):\n",
    "#     os.makedir('generated_images')\n",
    "\n",
    "# if not os.path.isdir('generated_images'):\n",
    "#     os.makedir('generated_images')\n",
    "# if not os.path.isdir('generated_images'):\n",
    "#     os.makedir('generated_images')\n",
    "\n",
    "# if not os.path.isdir('generated_images'):\n",
    "#     os.makdir('generated_images')\n",
    "\n",
    "if not os.path.isdir('generated_images'):\n",
    "    os.makedir('generated_images')\n",
    "\n",
    "# Directory to save checkpoints\n",
    "checkpoint_dir = './training_checkpoints'\n",
    "ckpt = tf.train.Checkpoint(\n",
    "    generator_optimizer = generator_optimizer,\n",
    "    discriminator_optimizer  = discriminator_optimizer,\n",
    "    generator =generator,\n",
    "    discriminator = discriminator\n",
    ")\n",
    "ckpt_manager = tf.train.CheckpointManager(ckpt = ckpt, checkpoint_dir=checkpoint_dir,max_to_keep=3)\n",
    "\n",
    "# if a checkpoint exists, restore the latest checkpoint.\n",
    "if ckpt_manager.laters_checkpoint:\n",
    "    ckpt.restore(ckpt_manager.latest_checkpoint)\n",
    "    print('Latest checkpoint restored!!')"
   ]
  },
  {
   "cell_type": "code",
   "execution_count": null,
   "id": "326b9e04-8a34-40f0-9fc4-edfbaac234c2",
   "metadata": {},
   "outputs": [],
   "source": [
    "if not os.path.isdir('generated_images'):\n",
    "    os.mkdir('generated_images')\n",
    "\n",
    "checkpoint_dir = './training_checkpoints'\n",
    "ckpt = tf.train.Checkpoint(generator_optimizer = generator_optimizer,\n",
    "                          discriminator_optimizer = discriminator_optimizer,\n",
    "                          generator = generator,\n",
    "                          discriminator = discriminator\n",
    "                    )\n",
    "ckpt_manager = tf.train.CheckpointManager(ckpt = ckpt,checkpoint_dir = checkpoint_dir,max_to_keep=3)\n",
    "\n",
    "if ckpt_mangaer.latest_checkpoint:\n",
    "    ckpt.resotre(ckpt_mangaer.latest_checkpoint)\n",
    "    print('Latest Checkpoint Restored!!')"
   ]
  },
  {
   "cell_type": "code",
   "execution_count": null,
   "id": "872cb8f6-b93a-438f-bae5-f265b66eb66e",
   "metadata": {},
   "outputs": [],
   "source": [
    "if not os.path.isdir('generated_images'):\n",
    "    os.mkdir('generated_images')\n",
    "\n",
    "checkpoint_dir = './training_checkpoints'\n",
    "ckpt = tf.train.Checkpoint(generator_optimizer = generator_optimizer,\n",
    "                          discriminator_optimizer = discriminator_optimizer,\n",
    "                          generator = generator,\n",
    "                          discriminator = discriminator)\n",
    "ckpt_manager = tf.train.CheckpointManager(ckpt =ckpt,checkpoint_dir= checkpoint_dir,max_to_keep=3)\n",
    "\n",
    "if ckpt_manager.latest_checkpoint:\n",
    "    ckpt.restore(ckpt_manager.latest_checkpoint)\n",
    "    print('Latest Checkpoint Restored !!')"
   ]
  },
  {
   "cell_type": "markdown",
   "id": "01ce6712-c568-4852-8520-4573e8fe7e78",
   "metadata": {},
   "source": [
    "#### Training Flow\n",
    "Below Function performs one Flow of Batch Training"
   ]
  },
  {
   "cell_type": "code",
   "execution_count": 83,
   "id": "812bf33a-c0d8-440f-9c4a-9894cf1267ef",
   "metadata": {},
   "outputs": [],
   "source": [
    "@tf.function\n",
    "def train_step(images):\n",
    "    noise = tf.random.normal([BATCH_SIZE,NOISE_DIM])\n",
    "    with tf.GradientTape() as gen_tape,tf.GradientTape() as disc_tape:\n",
    "        generated_images = generator(noise,training=True)\n",
    "        real_output = discriminator(images,training=True)\n",
    "        fake_output  = discriminator(generated_images,training=True)\n",
    "        gen_loss = generator_loss(fake_output)\n",
    "        disc_loss = discriminator_loss(real_output,fake_output)\n",
    "    gradients_of_generator = gen_tape.gradient(gen_loss,generator.trainable_variables)\n",
    "    gradients_of_discriminator = disc_tape.gradient(disc_loss,discriminator.trainable_variables)\n",
    "\n",
    "    generator_optimizer.apply_gradients(zip(gradients_of_generator,generator.trainable_variables))\n",
    "    discriminator_optimizer.apply_gradients(zip(gradients_of_discriminator,discriminator.trainable_variables))"
   ]
  },
  {
   "cell_type": "code",
   "execution_count": 87,
   "id": "366dbdff-f783-4052-b1bb-4a2e71c87500",
   "metadata": {},
   "outputs": [],
   "source": [
    "@tf.function\n",
    "def train_step(images):\n",
    "    noise =tf.random.normal([BATCH_SIZE,NOISE_DIM])\n",
    "\n",
    "    with tf.GradientTape() as gen_tape,tf.GradientTape() as disc_tape:\n",
    "        generated_images = generator(noise,training=True)\n",
    "        real_output = discriminator(images,training=True)\n",
    "        fake_output = discriminator(generated_images,training=True)\n",
    "        gen_loss  = generator_loss(fake_output)\n",
    "        disc_loss = discriminator_loss(real_output,fake_output)\n",
    "    gradients_of_generator = gen_tape.gradient(gen_loss,generator.trainable_variables)\n",
    "    gradients_of_discriminator = disc_tape.gradients(disc_loss,discriminator.trainable_variables)\n",
    "\n",
    "    generator_optimizer.apply_gradients(zip(gradients_of_generator,generator.trainable_variables))\n",
    "    discriminator_optimizer.apply_gradients(zip(gradients_of_discriminator,discriminator.trainables_variables))"
   ]
  },
  {
   "cell_type": "code",
   "execution_count": 82,
   "id": "47a15abe-c6b1-4a74-8a34-ffdb3e74e51d",
   "metadata": {},
   "outputs": [
    {
     "data": {
      "text/plain": [
       "[<tf.Variable 'dense_4/kernel:0' shape=(100, 2048) dtype=float32, numpy=\n",
       " array([[ 0.01023181,  0.0419425 ,  0.02215097, ..., -0.04746813,\n",
       "          0.01210744,  0.01686303],\n",
       "        [ 0.00179094, -0.004828  , -0.05143032, ...,  0.04510116,\n",
       "          0.04224983, -0.03646252],\n",
       "        [ 0.04652962,  0.01839482,  0.00474473, ..., -0.04484898,\n",
       "         -0.05199914,  0.03827439],\n",
       "        ...,\n",
       "        [ 0.02723816,  0.03188342, -0.05115464, ..., -0.04592038,\n",
       "         -0.03702199, -0.03044432],\n",
       "        [ 0.0215205 ,  0.04780633,  0.01852464, ..., -0.04440755,\n",
       "          0.02259361,  0.03849493],\n",
       "        [ 0.0227945 , -0.00201157,  0.0183969 , ..., -0.03719511,\n",
       "         -0.04736692,  0.0404569 ]], dtype=float32)>,\n",
       " <tf.Variable 'batch_normalization_6/gamma:0' shape=(2048,) dtype=float32, numpy=array([1., 1., 1., ..., 1., 1., 1.], dtype=float32)>,\n",
       " <tf.Variable 'batch_normalization_6/beta:0' shape=(2048,) dtype=float32, numpy=array([0., 0., 0., ..., 0., 0., 0.], dtype=float32)>,\n",
       " <tf.Variable 'conv2d_transpose_4/kernel:0' shape=(3, 3, 128, 128) dtype=float32, numpy=\n",
       " array([[[[ 3.88735384e-02,  4.64431643e-02, -2.42410041e-02, ...,\n",
       "           -2.60995831e-02,  2.96273828e-03,  2.83521712e-02],\n",
       "          [-3.86305079e-02, -2.47197412e-02,  4.61423770e-03, ...,\n",
       "            1.24754310e-02, -2.04732046e-02, -4.22371551e-02],\n",
       "          [-2.93549802e-02,  4.56557348e-02, -2.68776603e-02, ...,\n",
       "           -1.12777241e-02, -3.84701490e-02,  4.51204702e-02],\n",
       "          ...,\n",
       "          [-3.67051810e-02,  3.58637050e-02,  1.40464008e-02, ...,\n",
       "            2.14065239e-03, -2.09302977e-02,  2.78247893e-02],\n",
       "          [-2.61291005e-02, -2.75211595e-02, -2.74263434e-02, ...,\n",
       "           -3.12570557e-02,  2.00613514e-02, -2.23730188e-02],\n",
       "          [-4.24946658e-02,  3.95824388e-03,  2.02206820e-02, ...,\n",
       "           -4.94977497e-02, -3.90798002e-02,  1.29880756e-02]],\n",
       " \n",
       "         [[ 1.81833282e-03, -1.76098235e-02,  2.56329030e-02, ...,\n",
       "            3.90945971e-02, -2.89250314e-02, -1.02485754e-02],\n",
       "          [-2.71637850e-02, -3.21349725e-02, -1.64788514e-02, ...,\n",
       "           -3.54759470e-02,  3.49070579e-02,  4.22426164e-02],\n",
       "          [ 3.21795866e-02,  4.24816459e-02, -4.04673330e-02, ...,\n",
       "            2.16705501e-02,  4.41757590e-03,  1.85386315e-02],\n",
       "          ...,\n",
       "          [-2.88047269e-02, -3.76899801e-02,  4.58152890e-02, ...,\n",
       "            7.32733682e-03,  4.90866229e-03,  3.21227834e-02],\n",
       "          [ 4.11757901e-02, -3.52701917e-03,  1.25669092e-02, ...,\n",
       "            2.23576054e-02,  3.14014256e-02,  4.60416451e-03],\n",
       "          [-3.15998532e-02,  1.80783868e-02,  2.71744281e-02, ...,\n",
       "            3.45851332e-02, -4.50208224e-02, -1.55932829e-03]],\n",
       " \n",
       "         [[ 1.67848170e-02, -3.92596871e-02, -1.71506852e-02, ...,\n",
       "           -3.97922099e-03, -6.93970546e-03,  1.31980479e-02],\n",
       "          [-1.77575611e-02, -8.64762813e-04,  4.94446978e-03, ...,\n",
       "            3.59923691e-02, -3.30372155e-03,  9.16856900e-03],\n",
       "          [-3.07795964e-02, -4.79746535e-02,  4.50267717e-02, ...,\n",
       "           -4.37457003e-02,  2.82434374e-02,  6.38133660e-03],\n",
       "          ...,\n",
       "          [-7.42492825e-03, -1.81873031e-02, -1.75565556e-02, ...,\n",
       "           -4.02496941e-02,  3.30914706e-02, -3.25802714e-04],\n",
       "          [-3.05179860e-02, -1.93934292e-02,  4.62797061e-02, ...,\n",
       "           -5.95564768e-03, -1.49365328e-02,  8.46512243e-03],\n",
       "          [ 3.31394374e-02, -4.71001565e-02,  1.71354041e-02, ...,\n",
       "           -4.87617813e-02,  3.85232791e-02, -2.06353143e-02]]],\n",
       " \n",
       " \n",
       "        [[[ 2.65738294e-02, -2.84908731e-02, -2.46617906e-02, ...,\n",
       "           -3.81890833e-02,  4.59761918e-03, -1.11610182e-02],\n",
       "          [ 3.19444388e-02,  3.64205390e-02, -4.10544984e-02, ...,\n",
       "           -1.85671262e-02, -1.22448094e-02,  8.39723274e-03],\n",
       "          [ 2.32527852e-02,  1.45767704e-02,  3.76467034e-02, ...,\n",
       "            1.14798248e-02,  2.94574499e-02,  3.60329822e-02],\n",
       "          ...,\n",
       "          [-3.13812904e-02, -3.67776826e-02, -3.98986936e-02, ...,\n",
       "            2.49940529e-02, -2.83599943e-02, -1.04404688e-02],\n",
       "          [-2.10280567e-02, -3.74170318e-02, -4.29557003e-02, ...,\n",
       "           -2.03450155e-02, -2.90018041e-02, -4.35711928e-02],\n",
       "          [-4.90307137e-02,  2.23473459e-02,  4.45595235e-02, ...,\n",
       "           -3.74435186e-02, -1.50284395e-02, -2.06837263e-02]],\n",
       " \n",
       "         [[ 5.09027615e-02,  3.05043235e-02, -2.96956487e-02, ...,\n",
       "           -4.16703671e-02,  2.21909955e-02,  3.89419720e-02],\n",
       "          [-3.66231129e-02,  1.16907805e-03, -1.60599723e-02, ...,\n",
       "           -1.83818750e-02,  2.74226442e-02, -3.15170810e-02],\n",
       "          [-1.62953027e-02, -2.03130171e-02,  1.19329393e-02, ...,\n",
       "           -1.64296478e-02,  7.36470148e-03, -2.72653159e-02],\n",
       "          ...,\n",
       "          [-4.10822406e-03,  2.13055685e-03, -1.80844963e-02, ...,\n",
       "           -2.26753615e-02,  4.30827662e-02, -1.43822767e-02],\n",
       "          [-6.61227852e-04, -2.23238021e-03,  3.94744501e-02, ...,\n",
       "           -2.00527962e-02, -1.63713470e-03,  2.31476352e-02],\n",
       "          [-3.14920694e-02,  2.76523456e-03, -1.18263327e-02, ...,\n",
       "            1.40235052e-02, -3.00736334e-02,  3.03391367e-02]],\n",
       " \n",
       "         [[-1.43999159e-02, -1.50501579e-02, -1.43200159e-05, ...,\n",
       "           -3.66393439e-02,  6.15258887e-03, -1.03842467e-02],\n",
       "          [ 3.65219712e-02, -3.18777412e-02,  1.79121420e-02, ...,\n",
       "            2.19345540e-02,  4.34561148e-02, -4.49302532e-02],\n",
       "          [ 3.09341028e-02, -3.11481766e-02,  4.96728644e-02, ...,\n",
       "           -4.91359569e-02, -2.52717827e-02,  3.12367752e-02],\n",
       "          ...,\n",
       "          [ 2.90556625e-03,  3.90304625e-02,  3.99398804e-02, ...,\n",
       "            2.52237394e-02,  3.97232994e-02,  1.78103521e-02],\n",
       "          [ 2.75777206e-02,  1.15903392e-02,  3.88130695e-02, ...,\n",
       "            3.52827534e-02, -4.20525372e-02,  2.93524340e-02],\n",
       "          [-3.17975655e-02, -1.02557242e-03,  1.28362700e-02, ...,\n",
       "           -1.57176256e-02, -3.43794078e-02, -2.63326261e-02]]],\n",
       " \n",
       " \n",
       "        [[[-2.25965697e-02, -5.06737381e-02,  4.32210565e-02, ...,\n",
       "           -3.67902257e-02,  3.00633386e-02, -1.14630945e-02],\n",
       "          [-1.96552351e-02,  1.46093294e-02,  4.83591631e-02, ...,\n",
       "           -2.02894956e-03,  4.54342589e-02, -4.93165851e-03],\n",
       "          [ 2.00592577e-02, -3.34990099e-02, -1.84784681e-02, ...,\n",
       "            2.10202560e-02, -6.53503835e-03,  1.61541551e-02],\n",
       "          ...,\n",
       "          [-4.34957221e-02,  3.63431796e-02,  4.96585593e-02, ...,\n",
       "           -2.10726857e-02, -1.22444555e-02,  1.38042122e-02],\n",
       "          [-4.55857515e-02,  3.89447957e-02, -4.15578373e-02, ...,\n",
       "           -3.81666049e-03, -8.93921405e-03, -4.49180976e-02],\n",
       "          [-4.81678620e-02, -1.86086372e-02,  1.65788457e-02, ...,\n",
       "           -4.35411893e-02,  4.16777283e-02, -4.92582694e-02]],\n",
       " \n",
       "         [[ 2.00134516e-03, -1.58678219e-02,  1.58584788e-02, ...,\n",
       "            3.94839942e-02,  3.90471295e-02, -3.81866284e-02],\n",
       "          [-2.85455994e-02,  2.68184543e-02, -2.69325078e-02, ...,\n",
       "            2.07157359e-02, -4.63378131e-02,  1.90201923e-02],\n",
       "          [-1.15130544e-02,  2.56676674e-02, -2.12204140e-02, ...,\n",
       "            1.23184770e-02, -3.36759016e-02, -3.45523283e-03],\n",
       "          ...,\n",
       "          [ 9.27217305e-04, -4.66970727e-02,  1.60948783e-02, ...,\n",
       "           -1.27771273e-02, -4.40353304e-02,  1.32457688e-02],\n",
       "          [-3.22509818e-02,  2.83261091e-02, -1.29841827e-02, ...,\n",
       "            2.22485289e-02, -2.95843594e-02, -1.89192072e-02],\n",
       "          [-6.97248429e-03,  4.33745980e-02,  4.42145467e-02, ...,\n",
       "           -3.89607362e-02, -5.09455055e-02,  3.61131802e-02]],\n",
       " \n",
       "         [[ 3.16052660e-02, -2.91449577e-03,  3.44348922e-02, ...,\n",
       "           -2.79479846e-03, -1.41107626e-02,  3.06981727e-02],\n",
       "          [-5.07133640e-02,  1.89820156e-02,  1.79828778e-02, ...,\n",
       "            1.89084560e-04, -4.40770723e-02, -4.99210767e-02],\n",
       "          [-4.99947481e-02, -1.52261481e-02,  1.97455138e-02, ...,\n",
       "           -2.05814093e-03,  3.47082615e-02,  4.68168780e-02],\n",
       "          ...,\n",
       "          [-1.00808069e-02,  3.55623439e-02, -5.05653694e-02, ...,\n",
       "           -3.97278368e-03, -3.04095689e-02,  3.48916054e-02],\n",
       "          [ 4.25907969e-03,  4.28124592e-02,  1.52123645e-02, ...,\n",
       "            2.28289291e-02, -2.44189054e-02,  4.12463918e-02],\n",
       "          [ 4.70293313e-03,  7.37332925e-03, -3.04901730e-02, ...,\n",
       "           -9.82491672e-03, -9.14051384e-03, -3.88589986e-02]]]],\n",
       "       dtype=float32)>,\n",
       " <tf.Variable 'batch_normalization_7/gamma:0' shape=(128,) dtype=float32, numpy=\n",
       " array([1., 1., 1., 1., 1., 1., 1., 1., 1., 1., 1., 1., 1., 1., 1., 1., 1.,\n",
       "        1., 1., 1., 1., 1., 1., 1., 1., 1., 1., 1., 1., 1., 1., 1., 1., 1.,\n",
       "        1., 1., 1., 1., 1., 1., 1., 1., 1., 1., 1., 1., 1., 1., 1., 1., 1.,\n",
       "        1., 1., 1., 1., 1., 1., 1., 1., 1., 1., 1., 1., 1., 1., 1., 1., 1.,\n",
       "        1., 1., 1., 1., 1., 1., 1., 1., 1., 1., 1., 1., 1., 1., 1., 1., 1.,\n",
       "        1., 1., 1., 1., 1., 1., 1., 1., 1., 1., 1., 1., 1., 1., 1., 1., 1.,\n",
       "        1., 1., 1., 1., 1., 1., 1., 1., 1., 1., 1., 1., 1., 1., 1., 1., 1.,\n",
       "        1., 1., 1., 1., 1., 1., 1., 1., 1.], dtype=float32)>,\n",
       " <tf.Variable 'batch_normalization_7/beta:0' shape=(128,) dtype=float32, numpy=\n",
       " array([0., 0., 0., 0., 0., 0., 0., 0., 0., 0., 0., 0., 0., 0., 0., 0., 0.,\n",
       "        0., 0., 0., 0., 0., 0., 0., 0., 0., 0., 0., 0., 0., 0., 0., 0., 0.,\n",
       "        0., 0., 0., 0., 0., 0., 0., 0., 0., 0., 0., 0., 0., 0., 0., 0., 0.,\n",
       "        0., 0., 0., 0., 0., 0., 0., 0., 0., 0., 0., 0., 0., 0., 0., 0., 0.,\n",
       "        0., 0., 0., 0., 0., 0., 0., 0., 0., 0., 0., 0., 0., 0., 0., 0., 0.,\n",
       "        0., 0., 0., 0., 0., 0., 0., 0., 0., 0., 0., 0., 0., 0., 0., 0., 0.,\n",
       "        0., 0., 0., 0., 0., 0., 0., 0., 0., 0., 0., 0., 0., 0., 0., 0., 0.,\n",
       "        0., 0., 0., 0., 0., 0., 0., 0., 0.], dtype=float32)>,\n",
       " <tf.Variable 'conv2d_transpose_5/kernel:0' shape=(3, 3, 64, 128) dtype=float32, numpy=\n",
       " array([[[[ 8.08458403e-03, -2.67183483e-02,  8.65403935e-03, ...,\n",
       "           -2.19496861e-02, -1.42763890e-02,  1.23100989e-02],\n",
       "          [ 2.05500983e-02, -5.52614443e-02,  1.99013092e-02, ...,\n",
       "            2.74316259e-02,  4.74835970e-02, -5.07535040e-03],\n",
       "          [ 2.49328278e-02,  2.53844149e-02,  5.70286438e-03, ...,\n",
       "           -5.22095338e-03,  5.11409007e-02, -4.29037772e-02],\n",
       "          ...,\n",
       "          [-9.59345326e-03,  5.16438112e-03, -6.56777248e-03, ...,\n",
       "           -4.81875017e-02, -3.12655158e-02, -9.28517431e-03],\n",
       "          [-4.85730916e-02, -1.06233656e-02,  1.65005066e-02, ...,\n",
       "           -2.46148147e-02, -3.19663472e-02,  3.14388908e-02],\n",
       "          [ 4.52351943e-03, -3.52240726e-02, -1.67278200e-03, ...,\n",
       "           -1.05189681e-02,  3.94266061e-02,  4.36029099e-02]],\n",
       " \n",
       "         [[-4.72900979e-02,  2.57034115e-02, -5.26668504e-03, ...,\n",
       "           -4.77158092e-02, -5.42662442e-02,  3.10238041e-02],\n",
       "          [ 5.84683008e-02, -3.01666763e-02,  3.47586162e-02, ...,\n",
       "            1.18911825e-02,  3.12251784e-02,  3.16595621e-02],\n",
       "          [ 1.14700682e-02, -2.41979249e-02, -2.55016610e-03, ...,\n",
       "            5.13113663e-03,  5.41383587e-02,  1.53554864e-02],\n",
       "          ...,\n",
       "          [-5.88595644e-02, -1.45521276e-02, -1.99462064e-02, ...,\n",
       "            5.13069071e-02, -4.71426398e-02, -5.14668785e-02],\n",
       "          [ 2.21197866e-02,  2.73544453e-02,  7.25599006e-03, ...,\n",
       "           -3.83673720e-02, -3.34262699e-02,  4.05784063e-02],\n",
       "          [-5.38794771e-02, -5.03047928e-03, -8.20947438e-03, ...,\n",
       "           -2.70446204e-02, -2.73784958e-02,  3.48362140e-02]],\n",
       " \n",
       "         [[ 5.11073135e-02, -2.26179250e-02, -4.73660603e-02, ...,\n",
       "            5.13958745e-02, -4.23350930e-02, -2.73229741e-02],\n",
       "          [-5.11770919e-02, -5.31088226e-02, -3.64715382e-02, ...,\n",
       "            4.04461958e-02,  1.17283575e-02,  4.71529774e-02],\n",
       "          [ 3.57900523e-02, -7.25036860e-03,  3.16954590e-02, ...,\n",
       "            5.88915832e-02, -1.12302378e-02,  3.49877588e-02],\n",
       "          ...,\n",
       "          [ 5.72926961e-02,  1.74297728e-02,  7.32887164e-03, ...,\n",
       "            3.51636894e-02,  1.27776749e-02,  3.96750458e-02],\n",
       "          [ 4.56698202e-02, -2.46231444e-02, -4.39005494e-02, ...,\n",
       "           -1.44256726e-02,  8.29843059e-03, -2.52982937e-02],\n",
       "          [ 3.00705247e-02,  1.59251429e-02,  4.80191000e-02, ...,\n",
       "           -5.76345213e-02,  1.92156769e-02, -4.42637019e-02]]],\n",
       " \n",
       " \n",
       "        [[[-4.51205485e-02, -2.15383880e-02, -4.61982712e-02, ...,\n",
       "            5.73190562e-02,  3.48678939e-02,  4.54298742e-02],\n",
       "          [-5.70921488e-02,  1.94873847e-02,  3.86187248e-02, ...,\n",
       "            3.58446576e-02,  2.57784463e-02, -1.56345405e-02],\n",
       "          [-1.55679062e-02,  2.66339295e-02,  4.45466861e-03, ...,\n",
       "           -2.74040177e-03,  2.03555934e-02,  4.97941412e-02],\n",
       "          ...,\n",
       "          [-1.30803585e-02, -5.77566400e-03,  4.50410135e-02, ...,\n",
       "            5.96095249e-03, -3.43338475e-02,  1.36186890e-02],\n",
       "          [-5.21415807e-02, -9.49152559e-03,  4.75262068e-02, ...,\n",
       "           -4.44026180e-02,  5.33739105e-03,  5.87327965e-02],\n",
       "          [ 4.92334478e-02,  1.65596493e-02, -2.47293971e-02, ...,\n",
       "           -5.53812683e-02,  2.66162939e-02,  5.36145009e-02]],\n",
       " \n",
       "         [[-1.16730481e-02, -1.49962679e-03,  3.74342538e-02, ...,\n",
       "           -1.70257129e-02, -5.70538379e-02,  4.78252955e-02],\n",
       "          [-8.67693871e-03,  4.77022268e-02,  2.34409086e-02, ...,\n",
       "            5.51896170e-03, -5.68464175e-02, -5.53250872e-02],\n",
       "          [ 3.47879790e-02,  5.71593158e-02,  6.66393712e-03, ...,\n",
       "            3.19358297e-02,  4.88480441e-02, -3.19975913e-02],\n",
       "          ...,\n",
       "          [-6.31243363e-03, -1.86430551e-02,  1.51875988e-03, ...,\n",
       "           -3.76577042e-02,  4.79418151e-02,  3.83183844e-02],\n",
       "          [ 5.80152385e-02,  2.35406272e-02, -5.57005033e-02, ...,\n",
       "           -4.62817475e-02,  3.68771590e-02, -7.04821199e-04],\n",
       "          [ 3.46720777e-02, -9.60617885e-03, -2.86258720e-02, ...,\n",
       "           -1.33247823e-02, -4.42411676e-02,  1.56537183e-02]],\n",
       " \n",
       "         [[-1.07125752e-02,  4.54199053e-02,  5.59607036e-02, ...,\n",
       "            3.28369066e-03, -5.53490669e-02, -4.48549800e-02],\n",
       "          [-1.79206952e-03,  3.25271115e-03, -1.79781020e-02, ...,\n",
       "            1.65275522e-02,  3.02156098e-02,  9.39342007e-03],\n",
       "          [-6.54926896e-03,  4.47209515e-02,  1.27596520e-02, ...,\n",
       "            5.66600300e-02,  1.19452290e-02, -4.43274826e-02],\n",
       "          ...,\n",
       "          [ 3.69053520e-02,  5.24489023e-02,  4.57688905e-02, ...,\n",
       "            2.72283368e-02,  3.94696780e-02,  4.97396849e-02],\n",
       "          [-5.84577918e-02, -2.22648308e-02, -5.18969037e-02, ...,\n",
       "            5.64416386e-02, -3.40493172e-02, -2.07927413e-02],\n",
       "          [-1.42523646e-02,  4.68106940e-03,  4.18706201e-02, ...,\n",
       "            4.03236188e-02, -1.35133490e-02, -3.41697410e-02]]],\n",
       " \n",
       " \n",
       "        [[[ 3.54190879e-02,  4.13500182e-02,  2.25734748e-02, ...,\n",
       "           -5.21249026e-02,  4.87729125e-02,  1.77375861e-02],\n",
       "          [ 3.97287682e-03,  1.03439875e-02,  2.72972919e-02, ...,\n",
       "            4.60119955e-02,  2.22658031e-02, -1.14677064e-02],\n",
       "          [ 5.78347780e-02,  8.51185247e-03,  1.98160000e-02, ...,\n",
       "            4.12076600e-02,  3.69167514e-02, -5.41557930e-02],\n",
       "          ...,\n",
       "          [-5.08990772e-02,  3.64162512e-02,  3.95925827e-02, ...,\n",
       "            5.70265539e-02, -4.15664725e-02, -5.39759807e-02],\n",
       "          [ 5.27185686e-02,  4.13709544e-02,  4.01436947e-02, ...,\n",
       "           -2.75184065e-02,  2.30872594e-02, -1.74603425e-02],\n",
       "          [-2.05905885e-02,  2.49072947e-02,  5.45499660e-02, ...,\n",
       "            5.23318164e-02,  3.54197510e-02,  4.87004034e-02]],\n",
       " \n",
       "         [[-1.51277669e-02,  1.93545036e-02, -2.51628496e-02, ...,\n",
       "           -2.44155526e-05, -3.85235399e-02, -5.43460287e-02],\n",
       "          [-4.70599085e-02,  4.15516756e-02,  1.36977099e-02, ...,\n",
       "            2.90828533e-02, -3.38880345e-02,  1.57460757e-02],\n",
       "          [ 2.74524204e-02,  5.10252379e-02,  2.02217884e-02, ...,\n",
       "            3.26235257e-02,  4.33043130e-02, -2.72292644e-03],\n",
       "          ...,\n",
       "          [ 3.39925177e-02, -2.85748765e-03, -1.38672255e-02, ...,\n",
       "            5.37061803e-02,  2.01362632e-02,  2.78654732e-02],\n",
       "          [-5.09489663e-02,  2.95598023e-02,  5.33835627e-02, ...,\n",
       "           -4.30052802e-02,  1.89143531e-02, -4.01929058e-02],\n",
       "          [-2.44635195e-02,  5.84693365e-02,  5.38391881e-02, ...,\n",
       "           -7.85278529e-03, -5.76064661e-02, -3.33063900e-02]],\n",
       " \n",
       "         [[-4.29489464e-02, -1.36581622e-02, -1.54288076e-02, ...,\n",
       "           -2.37789415e-02,  2.76317447e-03,  3.54588404e-03],\n",
       "          [-3.02367397e-02,  1.60888396e-02,  4.11180295e-02, ...,\n",
       "            3.40605266e-02, -6.12847507e-03, -5.38995415e-02],\n",
       "          [ 1.56756490e-04, -1.33742206e-02, -1.93207897e-02, ...,\n",
       "           -5.63042425e-02, -4.89904433e-02,  2.10721418e-03],\n",
       "          ...,\n",
       "          [-4.77729738e-02, -6.81448355e-03, -4.61906418e-02, ...,\n",
       "            4.29562815e-02,  2.98488624e-02,  4.78669219e-02],\n",
       "          [-4.32681367e-02, -3.46139297e-02,  4.45969291e-02, ...,\n",
       "           -3.53137925e-02,  1.01611279e-02, -1.38903521e-02],\n",
       "          [ 2.12677196e-03, -4.59303409e-02, -4.15989384e-02, ...,\n",
       "            4.27663326e-04,  4.85090539e-03,  1.17245652e-02]]]],\n",
       "       dtype=float32)>,\n",
       " <tf.Variable 'batch_normalization_8/gamma:0' shape=(64,) dtype=float32, numpy=\n",
       " array([1., 1., 1., 1., 1., 1., 1., 1., 1., 1., 1., 1., 1., 1., 1., 1., 1.,\n",
       "        1., 1., 1., 1., 1., 1., 1., 1., 1., 1., 1., 1., 1., 1., 1., 1., 1.,\n",
       "        1., 1., 1., 1., 1., 1., 1., 1., 1., 1., 1., 1., 1., 1., 1., 1., 1.,\n",
       "        1., 1., 1., 1., 1., 1., 1., 1., 1., 1., 1., 1., 1.], dtype=float32)>,\n",
       " <tf.Variable 'batch_normalization_8/beta:0' shape=(64,) dtype=float32, numpy=\n",
       " array([0., 0., 0., 0., 0., 0., 0., 0., 0., 0., 0., 0., 0., 0., 0., 0., 0.,\n",
       "        0., 0., 0., 0., 0., 0., 0., 0., 0., 0., 0., 0., 0., 0., 0., 0., 0.,\n",
       "        0., 0., 0., 0., 0., 0., 0., 0., 0., 0., 0., 0., 0., 0., 0., 0., 0.,\n",
       "        0., 0., 0., 0., 0., 0., 0., 0., 0., 0., 0., 0., 0.], dtype=float32)>,\n",
       " <tf.Variable 'conv2d_transpose_6/kernel:0' shape=(3, 3, 1, 64) dtype=float32, numpy=\n",
       " array([[[[-9.51886252e-02,  5.82219511e-02, -4.68931012e-02,\n",
       "           -9.87282246e-02, -7.75694922e-02, -5.35033643e-02,\n",
       "           -2.17983872e-03, -7.32163340e-02, -8.13364908e-02,\n",
       "            5.05239964e-02, -9.00862366e-03,  5.71212918e-02,\n",
       "            3.82626206e-02, -3.24647129e-02, -1.41462982e-02,\n",
       "            6.72200173e-02, -9.26010311e-04,  9.27712172e-02,\n",
       "           -1.02703050e-02,  2.03620940e-02, -5.64185083e-02,\n",
       "            6.39513582e-02, -4.16842699e-02, -3.62631232e-02,\n",
       "            5.00232577e-02,  9.14759934e-02,  2.58688182e-02,\n",
       "            3.75691056e-02, -9.21054929e-03, -9.29647684e-02,\n",
       "           -5.81190363e-02,  7.12452084e-03,  7.30460286e-02,\n",
       "           -3.36676911e-02,  8.88393223e-02,  1.83570683e-02,\n",
       "           -5.87081648e-02,  1.94017068e-02, -5.26344851e-02,\n",
       "           -8.10254738e-02, -5.91289252e-03,  6.68838173e-02,\n",
       "            4.69549894e-02, -6.56117946e-02,  3.54999751e-02,\n",
       "            2.70859152e-02,  7.92849660e-02, -2.94418484e-02,\n",
       "            8.11423808e-02,  4.64980602e-02, -3.57659161e-03,\n",
       "            1.81951374e-03,  3.36348563e-02,  8.16732049e-02,\n",
       "           -3.01505253e-02, -5.67073412e-02,  6.74709380e-02,\n",
       "           -8.55004936e-02,  7.49816895e-02, -3.88192236e-02,\n",
       "           -6.60427511e-02,  3.22240740e-02,  5.94765991e-02,\n",
       "           -1.10890791e-02]],\n",
       " \n",
       "         [[-8.25797990e-02, -1.64418146e-02,  2.73329765e-02,\n",
       "           -5.59709705e-02, -5.71712963e-02, -1.08929947e-02,\n",
       "           -1.69050246e-02,  7.15287775e-02, -7.20464289e-02,\n",
       "            4.14584279e-02, -7.17901438e-03, -7.89099112e-02,\n",
       "            6.65351301e-02,  4.16554362e-02,  2.38932669e-02,\n",
       "           -4.58184034e-02, -6.42630458e-02, -7.62204304e-02,\n",
       "           -6.99424744e-02, -2.19217539e-02,  3.57226729e-02,\n",
       "           -8.47394243e-02, -7.29850382e-02, -1.61976814e-02,\n",
       "           -7.17378482e-02,  4.85270023e-02,  7.54435658e-02,\n",
       "           -6.59230053e-02, -3.36759016e-02, -4.70499732e-02,\n",
       "           -1.00342378e-01, -1.50602087e-02,  5.27971089e-02,\n",
       "           -2.80429274e-02, -4.68347631e-02,  6.22702390e-03,\n",
       "           -4.05848697e-02,  4.39191163e-02, -3.97684351e-02,\n",
       "           -2.24266127e-02, -6.92819804e-02, -4.87422422e-02,\n",
       "           -9.78122130e-02,  9.17354375e-02, -4.78002504e-02,\n",
       "            4.45953310e-02,  9.17235017e-03,  5.65928966e-03,\n",
       "            3.62703949e-02,  2.72351801e-02, -1.00878142e-01,\n",
       "           -7.05813244e-02,  1.02386698e-02,  9.60719585e-02,\n",
       "           -4.96872030e-02,  1.64617151e-02, -4.40202802e-02,\n",
       "            9.99559462e-02,  4.21099067e-02,  5.77019453e-02,\n",
       "           -8.09529126e-02, -7.85559565e-02,  1.39102712e-02,\n",
       "            1.77524164e-02]],\n",
       " \n",
       "         [[-6.90458119e-02, -6.13263175e-02, -6.52195960e-02,\n",
       "            7.40640610e-02, -2.76728496e-02,  2.12115645e-02,\n",
       "           -9.83337760e-02,  8.81451070e-02,  4.21546698e-02,\n",
       "           -8.44111890e-02, -5.80251217e-05,  2.41040587e-02,\n",
       "            5.78345805e-02, -4.36412543e-03,  3.27633917e-02,\n",
       "           -2.99514085e-03, -6.89625293e-02,  7.28296489e-03,\n",
       "            3.78888398e-02,  9.91624296e-02,  4.59977537e-02,\n",
       "           -7.36331567e-02,  2.21493542e-02, -5.79485446e-02,\n",
       "            9.54981148e-02,  7.42569119e-02,  8.76436830e-02,\n",
       "           -8.23219940e-02,  3.93307805e-02, -1.99485570e-02,\n",
       "           -1.94799379e-02,  9.30758566e-02, -4.36806493e-02,\n",
       "            9.64079499e-02, -1.79993361e-03, -7.53119737e-02,\n",
       "            5.59162349e-02, -7.00813383e-02, -8.01034272e-02,\n",
       "            2.50113755e-02, -2.76902318e-02,  1.61361098e-02,\n",
       "           -4.44101132e-02, -4.99302521e-02, -8.24913979e-02,\n",
       "           -7.25591928e-03, -1.60063729e-02,  6.86051548e-02,\n",
       "           -4.11967933e-02,  3.58240157e-02, -4.62967046e-02,\n",
       "            3.59659195e-02, -9.39070508e-02, -3.90786193e-02,\n",
       "            3.77552956e-02,  9.17943865e-02, -1.88832507e-02,\n",
       "           -3.85429263e-02,  3.58842760e-02, -2.11949274e-02,\n",
       "            2.87511200e-02, -7.81191885e-03, -9.98145342e-02,\n",
       "           -6.21535219e-02]]],\n",
       " \n",
       " \n",
       "        [[[-6.59188330e-02, -9.75260884e-02,  9.72317308e-02,\n",
       "           -2.08017156e-02, -8.88146460e-04, -8.59678090e-02,\n",
       "            2.69329250e-02, -2.15592086e-02, -9.73928496e-02,\n",
       "           -8.97961631e-02, -6.28377646e-02,  7.65479654e-02,\n",
       "           -7.00379163e-03,  6.30140156e-02,  7.68619478e-02,\n",
       "           -8.57448727e-02, -8.50820988e-02,  9.48771685e-02,\n",
       "            1.00208521e-01, -4.89775166e-02,  1.00577936e-01,\n",
       "           -5.36345690e-03, -7.09406063e-02, -7.99083561e-02,\n",
       "           -1.88856870e-02,  3.80695015e-02, -9.85359028e-02,\n",
       "            4.78484184e-02,  1.31611302e-02, -9.66804549e-02,\n",
       "           -9.68117416e-02, -7.72303641e-02, -7.25413859e-02,\n",
       "           -5.58597073e-02, -9.85411629e-02, -9.90091786e-02,\n",
       "           -5.22818379e-02,  7.97909796e-02,  6.14610016e-02,\n",
       "           -8.43156949e-02, -9.37348157e-02,  6.24377578e-02,\n",
       "           -4.11630385e-02,  5.03581911e-02, -2.24976242e-03,\n",
       "           -4.46368158e-02,  1.30050778e-02,  7.07493275e-02,\n",
       "           -8.08873326e-02, -8.81643072e-02,  7.32314736e-02,\n",
       "            8.05294067e-02,  3.82364988e-02, -4.83724996e-02,\n",
       "            9.86227244e-02,  3.35942954e-02,  3.56251746e-02,\n",
       "           -6.61605597e-02, -4.15298082e-02,  4.84205484e-02,\n",
       "           -5.68606704e-03, -4.44299579e-02, -5.98984919e-02,\n",
       "            3.26965004e-02]],\n",
       " \n",
       "         [[-7.91156068e-02, -8.87770727e-02,  2.90123075e-02,\n",
       "           -7.01101199e-02, -9.84308422e-02,  8.10654163e-02,\n",
       "           -9.58147421e-02, -9.20550823e-02,  7.42813498e-02,\n",
       "            3.80163342e-02, -4.98462506e-02,  5.77761382e-02,\n",
       "            6.77139312e-02, -1.33238286e-02, -6.71252161e-02,\n",
       "           -4.31479737e-02, -2.08315998e-03,  7.13636577e-02,\n",
       "           -9.42168832e-02,  3.86087000e-02,  4.77836281e-03,\n",
       "            7.97261298e-02, -8.19986314e-03, -7.12465569e-02,\n",
       "           -5.41848019e-02, -3.70480716e-02,  9.19944793e-02,\n",
       "            9.07638520e-02,  5.11273593e-02, -3.18974853e-02,\n",
       "           -7.56906718e-02,  8.25451463e-02,  8.10235590e-02,\n",
       "           -8.34989473e-02, -1.99672207e-02, -7.34290034e-02,\n",
       "            1.84182823e-03, -2.09325626e-02,  2.12097540e-02,\n",
       "           -4.15233374e-02, -4.84837629e-02, -9.26544443e-02,\n",
       "           -2.50057057e-02,  6.10987395e-02,  7.45878518e-02,\n",
       "           -1.55396685e-02,  1.08430535e-03,  5.62258959e-02,\n",
       "           -7.01842457e-03, -7.26152211e-03,  5.84802330e-02,\n",
       "            6.09079897e-02,  5.59028834e-02, -9.46141481e-02,\n",
       "            3.74222845e-02,  4.58899140e-03,  6.63994700e-02,\n",
       "            6.93463534e-03, -6.60595000e-02,  4.92323935e-03,\n",
       "            4.51008230e-02, -4.69810516e-03, -1.43234283e-02,\n",
       "            3.88658941e-02]],\n",
       " \n",
       "         [[-6.63685501e-02, -2.90332809e-02, -8.23208615e-02,\n",
       "           -8.09069201e-02, -6.16576448e-02, -1.00458443e-01,\n",
       "           -7.28172511e-02, -8.47847462e-02, -8.55592638e-02,\n",
       "            6.46917820e-02, -9.19704735e-02, -4.25640382e-02,\n",
       "            2.29699388e-02,  1.31816790e-02,  6.22939765e-02,\n",
       "            4.43262309e-02,  8.17192197e-02,  1.94464922e-02,\n",
       "            3.20251137e-02,  9.63632166e-02,  1.35830268e-02,\n",
       "           -4.89372760e-03, -1.71282738e-02, -1.05303973e-02,\n",
       "           -8.17364603e-02, -5.04961051e-02, -1.61714330e-02,\n",
       "            3.31320763e-02,  3.44147384e-02, -2.72554234e-02,\n",
       "            8.61926526e-02,  1.82376429e-02, -8.14086124e-02,\n",
       "           -1.26633793e-03,  7.05701411e-02, -5.80998398e-02,\n",
       "            6.54257089e-02, -4.48639281e-02, -8.59753937e-02,\n",
       "           -9.37981009e-02,  9.49133337e-02, -5.50201423e-02,\n",
       "           -1.13291293e-03,  1.72981620e-03, -1.00868344e-01,\n",
       "           -4.70998324e-02,  7.93223381e-02, -3.37550491e-02,\n",
       "            4.68733460e-02,  8.13076347e-02,  6.08651638e-02,\n",
       "           -1.90494657e-02, -5.97528219e-02, -8.41935873e-02,\n",
       "           -2.25541517e-02, -1.00052342e-01,  9.55449343e-02,\n",
       "           -7.58566707e-02, -8.64461064e-02, -4.87354808e-02,\n",
       "           -8.30993056e-04,  9.46561694e-02, -8.76940787e-04,\n",
       "            8.86829495e-02]]],\n",
       " \n",
       " \n",
       "        [[[ 4.83503044e-02, -2.04453990e-02,  6.17363602e-02,\n",
       "           -5.62621430e-02, -5.29722869e-03, -3.70557308e-02,\n",
       "            4.61812615e-02,  3.38151306e-02,  3.90022993e-04,\n",
       "           -5.12209050e-02, -4.23722006e-02, -1.79208294e-02,\n",
       "            2.30950862e-02, -4.81628180e-02, -7.41008669e-03,\n",
       "            2.44106650e-02,  4.96165007e-02, -2.48198286e-02,\n",
       "            9.60814357e-02, -8.37233812e-02, -2.19786689e-02,\n",
       "           -2.50981078e-02,  9.64926034e-02, -4.80455682e-02,\n",
       "            5.40493727e-02, -7.38212466e-02, -2.03888714e-02,\n",
       "           -7.19839856e-02,  4.54515666e-02, -3.91234122e-02,\n",
       "           -1.51484832e-02,  9.02346671e-02, -3.31218317e-02,\n",
       "            3.59453857e-02, -5.86852022e-02,  9.23489332e-02,\n",
       "           -3.65391076e-02,  1.00417152e-01, -2.85997987e-02,\n",
       "           -8.60192180e-02, -6.77638501e-03,  7.20032603e-02,\n",
       "           -7.45335966e-03,  6.69582337e-02,  9.47028399e-02,\n",
       "            4.92393672e-02,  4.56612706e-02,  2.65481770e-02,\n",
       "            7.49709606e-02,  1.98514611e-02,  1.92549974e-02,\n",
       "            8.55730474e-02, -1.17596239e-03,  1.06631294e-02,\n",
       "            7.83599466e-02,  5.73523194e-02,  6.66950643e-02,\n",
       "            4.59557623e-02, -5.51174730e-02, -2.89408565e-02,\n",
       "           -2.91735455e-02, -4.67776842e-02,  3.90819311e-02,\n",
       "            9.63013470e-02]],\n",
       " \n",
       "         [[-4.70510609e-02, -9.84278992e-02, -2.09410340e-02,\n",
       "            1.00711539e-01, -4.94251512e-02,  8.08454603e-02,\n",
       "           -5.66980205e-02, -5.09837009e-02,  8.97418112e-02,\n",
       "           -7.27330148e-03, -5.51894978e-02, -5.12982681e-02,\n",
       "            1.57119483e-02,  9.58119184e-02, -9.98613760e-02,\n",
       "           -7.44661987e-02, -6.71827048e-02,  1.48731023e-02,\n",
       "            8.43004286e-02,  7.10578263e-03,  3.17253023e-02,\n",
       "           -8.73160735e-02,  8.25341791e-03,  6.89585954e-02,\n",
       "            4.79606539e-03, -5.35165258e-02,  7.51885921e-02,\n",
       "           -5.25774285e-02,  6.33125752e-02,  6.85382932e-02,\n",
       "           -9.81086195e-02, -3.98442522e-02,  2.18455493e-02,\n",
       "           -5.98466769e-02, -5.34507744e-02,  1.57084465e-02,\n",
       "           -9.23920348e-02, -5.00205159e-03,  9.29983258e-02,\n",
       "            4.67953831e-03, -7.07180798e-02,  3.70182097e-02,\n",
       "           -2.92074680e-03, -2.45517641e-02,  7.85910189e-02,\n",
       "            3.08861136e-02, -5.63200191e-02, -2.56685242e-02,\n",
       "           -6.65061250e-02,  4.37292010e-02,  9.22960788e-02,\n",
       "            2.66025960e-02,  9.46236402e-03, -5.55467829e-02,\n",
       "           -2.13974342e-02, -4.12569381e-02,  5.30361533e-02,\n",
       "           -2.08867043e-02,  5.41373491e-02,  2.77249366e-02,\n",
       "           -1.00702845e-01,  3.57085466e-02,  3.29220295e-03,\n",
       "            7.98963010e-03]],\n",
       " \n",
       "         [[ 2.10516453e-02,  1.70196220e-02, -4.76904362e-02,\n",
       "           -5.07961623e-02, -7.17380419e-02, -6.38450682e-02,\n",
       "           -5.90883121e-02, -5.97041436e-02,  9.26857144e-02,\n",
       "            2.37543285e-02,  1.70963556e-02,  3.94497812e-02,\n",
       "           -6.15764894e-02, -1.19372383e-02,  8.98365825e-02,\n",
       "            3.49703729e-02, -2.99329236e-02,  1.84317306e-02,\n",
       "           -5.88886514e-02, -8.47691968e-02,  3.85625362e-02,\n",
       "            2.70388871e-02, -8.49563256e-02,  8.24728310e-02,\n",
       "           -6.28350303e-02,  3.64271402e-02, -4.36673202e-02,\n",
       "           -8.08493569e-02,  8.86962116e-02,  9.53165442e-02,\n",
       "           -9.89665836e-02, -5.52055091e-02,  6.45906627e-02,\n",
       "            7.23467022e-02,  1.86956674e-02,  7.27310777e-02,\n",
       "           -5.09837233e-02, -4.64493036e-02, -8.86305347e-02,\n",
       "            4.08334434e-02,  1.01225823e-03, -6.49069697e-02,\n",
       "           -9.85417962e-02,  4.93340939e-02, -7.90160000e-02,\n",
       "            1.54057816e-02, -3.79059911e-02, -8.14159289e-02,\n",
       "           -8.58484358e-02,  6.40308708e-02,  6.05397075e-02,\n",
       "            9.79059935e-03,  3.72727513e-02,  7.66840726e-02,\n",
       "           -7.41600394e-02,  5.02909869e-02, -7.50385225e-02,\n",
       "            2.36213654e-02, -1.18692964e-02, -3.97980139e-02,\n",
       "            2.85082906e-02, -5.40559143e-02,  5.27726114e-03,\n",
       "            4.89114225e-02]]]], dtype=float32)>]"
      ]
     },
     "execution_count": 82,
     "metadata": {},
     "output_type": "execute_result"
    }
   ],
   "source": [
    "generator.trainable_variables"
   ]
  },
  {
   "cell_type": "markdown",
   "id": "f60edc73-9b97-439a-bfd2-554881009a89",
   "metadata": {},
   "source": [
    "#### Train the DCGAN Model for Several Epochs"
   ]
  },
  {
   "cell_type": "code",
   "execution_count": 85,
   "id": "d45b7ae0-a0cd-4eee-b360-2cc75ffe3c19",
   "metadata": {},
   "outputs": [],
   "source": [
    "num_examples_to_generaete = 16\n",
    "seed = tf.random.normal([num_examples_to_generaete,NOISE_DIM])"
   ]
  },
  {
   "cell_type": "code",
   "execution_count": 88,
   "id": "73551a52-52bc-4d56-a1a7-0e1936d11d13",
   "metadata": {},
   "outputs": [
    {
     "ename": "AttributeError",
     "evalue": "in user code:\n\n    File \"C:\\Users\\Prince\\AppData\\Local\\Temp\\ipykernel_16240\\1598575985.py\", line 9, in train_step  *\n        gen_loss  = generator_loss(fake_output)\n    File \"C:\\Users\\Prince\\AppData\\Local\\Temp\\ipykernel_16240\\1156210469.py\", line 2, in generator_loss  *\n        return cross_entropy(tf.zero_like(fake_output),fake_output)\n\n    AttributeError: module 'tensorflow' has no attribute 'zero_like'\n",
     "output_type": "error",
     "traceback": [
      "\u001b[1;31m---------------------------------------------------------------------------\u001b[0m",
      "\u001b[1;31mAttributeError\u001b[0m                            Traceback (most recent call last)",
      "Cell \u001b[1;32mIn[88], line 3\u001b[0m\n\u001b[0;32m      1\u001b[0m \u001b[38;5;28;01mfor\u001b[39;00m epoch \u001b[38;5;129;01min\u001b[39;00m \u001b[38;5;28mrange\u001b[39m(\u001b[38;5;241m1\u001b[39m,EPOCHS\u001b[38;5;241m+\u001b[39m\u001b[38;5;241m1\u001b[39m):\n\u001b[0;32m      2\u001b[0m     \u001b[38;5;28;01mfor\u001b[39;00m image_batch \u001b[38;5;129;01min\u001b[39;00m train_dataset:\n\u001b[1;32m----> 3\u001b[0m         train_step(image_batch)\n\u001b[0;32m      5\u001b[0m         display\u001b[38;5;241m.\u001b[39mclear_output(wait\u001b[38;5;241m=\u001b[39m\u001b[38;5;28;01mTrue\u001b[39;00m)\n\u001b[0;32m      6\u001b[0m         predictions \u001b[38;5;241m=\u001b[39m generator(seed,training\u001b[38;5;241m=\u001b[39m\u001b[38;5;28;01mFalse\u001b[39;00m)\n",
      "File \u001b[1;32m~\\anaconda3\\Lib\\site-packages\\tensorflow\\python\\util\\traceback_utils.py:153\u001b[0m, in \u001b[0;36mfilter_traceback.<locals>.error_handler\u001b[1;34m(*args, **kwargs)\u001b[0m\n\u001b[0;32m    151\u001b[0m \u001b[38;5;28;01mexcept\u001b[39;00m \u001b[38;5;167;01mException\u001b[39;00m \u001b[38;5;28;01mas\u001b[39;00m e:\n\u001b[0;32m    152\u001b[0m   filtered_tb \u001b[38;5;241m=\u001b[39m _process_traceback_frames(e\u001b[38;5;241m.\u001b[39m__traceback__)\n\u001b[1;32m--> 153\u001b[0m   \u001b[38;5;28;01mraise\u001b[39;00m e\u001b[38;5;241m.\u001b[39mwith_traceback(filtered_tb) \u001b[38;5;28;01mfrom\u001b[39;00m \u001b[38;5;28;01mNone\u001b[39;00m\n\u001b[0;32m    154\u001b[0m \u001b[38;5;28;01mfinally\u001b[39;00m:\n\u001b[0;32m    155\u001b[0m   \u001b[38;5;28;01mdel\u001b[39;00m filtered_tb\n",
      "File \u001b[1;32m~\\AppData\\Local\\Temp\\__autograph_generated_file2g8rwqob.py:13\u001b[0m, in \u001b[0;36mouter_factory.<locals>.inner_factory.<locals>.tf__train_step\u001b[1;34m(images)\u001b[0m\n\u001b[0;32m     11\u001b[0m     real_output \u001b[38;5;241m=\u001b[39m ag__\u001b[38;5;241m.\u001b[39mconverted_call(ag__\u001b[38;5;241m.\u001b[39mld(discriminator), (ag__\u001b[38;5;241m.\u001b[39mld(images),), \u001b[38;5;28mdict\u001b[39m(training\u001b[38;5;241m=\u001b[39m\u001b[38;5;28;01mTrue\u001b[39;00m), fscope)\n\u001b[0;32m     12\u001b[0m     fake_output \u001b[38;5;241m=\u001b[39m ag__\u001b[38;5;241m.\u001b[39mconverted_call(ag__\u001b[38;5;241m.\u001b[39mld(discriminator), (ag__\u001b[38;5;241m.\u001b[39mld(generated_images),), \u001b[38;5;28mdict\u001b[39m(training\u001b[38;5;241m=\u001b[39m\u001b[38;5;28;01mTrue\u001b[39;00m), fscope)\n\u001b[1;32m---> 13\u001b[0m     gen_loss \u001b[38;5;241m=\u001b[39m ag__\u001b[38;5;241m.\u001b[39mconverted_call(ag__\u001b[38;5;241m.\u001b[39mld(generator_loss), (ag__\u001b[38;5;241m.\u001b[39mld(fake_output),), \u001b[38;5;28;01mNone\u001b[39;00m, fscope)\n\u001b[0;32m     14\u001b[0m     disc_loss \u001b[38;5;241m=\u001b[39m ag__\u001b[38;5;241m.\u001b[39mconverted_call(ag__\u001b[38;5;241m.\u001b[39mld(discriminator_loss), (ag__\u001b[38;5;241m.\u001b[39mld(real_output), ag__\u001b[38;5;241m.\u001b[39mld(fake_output)), \u001b[38;5;28;01mNone\u001b[39;00m, fscope)\n\u001b[0;32m     15\u001b[0m gradients_of_generator \u001b[38;5;241m=\u001b[39m ag__\u001b[38;5;241m.\u001b[39mconverted_call(ag__\u001b[38;5;241m.\u001b[39mld(gen_tape)\u001b[38;5;241m.\u001b[39mgradient, (ag__\u001b[38;5;241m.\u001b[39mld(gen_loss), ag__\u001b[38;5;241m.\u001b[39mld(generator)\u001b[38;5;241m.\u001b[39mtrainable_variables), \u001b[38;5;28;01mNone\u001b[39;00m, fscope)\n",
      "File \u001b[1;32m~\\AppData\\Local\\Temp\\__autograph_generated_filec9jybwoj.py:12\u001b[0m, in \u001b[0;36mouter_factory.<locals>.inner_factory.<locals>.tf__generator_loss\u001b[1;34m(fake_output)\u001b[0m\n\u001b[0;32m     10\u001b[0m \u001b[38;5;28;01mtry\u001b[39;00m:\n\u001b[0;32m     11\u001b[0m     do_return \u001b[38;5;241m=\u001b[39m \u001b[38;5;28;01mTrue\u001b[39;00m\n\u001b[1;32m---> 12\u001b[0m     retval_ \u001b[38;5;241m=\u001b[39m ag__\u001b[38;5;241m.\u001b[39mconverted_call(ag__\u001b[38;5;241m.\u001b[39mld(cross_entropy), (ag__\u001b[38;5;241m.\u001b[39mconverted_call(ag__\u001b[38;5;241m.\u001b[39mld(tf)\u001b[38;5;241m.\u001b[39mzero_like, (ag__\u001b[38;5;241m.\u001b[39mld(fake_output),), \u001b[38;5;28;01mNone\u001b[39;00m, fscope), ag__\u001b[38;5;241m.\u001b[39mld(fake_output)), \u001b[38;5;28;01mNone\u001b[39;00m, fscope)\n\u001b[0;32m     13\u001b[0m \u001b[38;5;28;01mexcept\u001b[39;00m:\n\u001b[0;32m     14\u001b[0m     do_return \u001b[38;5;241m=\u001b[39m \u001b[38;5;28;01mFalse\u001b[39;00m\n",
      "\u001b[1;31mAttributeError\u001b[0m: in user code:\n\n    File \"C:\\Users\\Prince\\AppData\\Local\\Temp\\ipykernel_16240\\1598575985.py\", line 9, in train_step  *\n        gen_loss  = generator_loss(fake_output)\n    File \"C:\\Users\\Prince\\AppData\\Local\\Temp\\ipykernel_16240\\1156210469.py\", line 2, in generator_loss  *\n        return cross_entropy(tf.zero_like(fake_output),fake_output)\n\n    AttributeError: module 'tensorflow' has no attribute 'zero_like'\n"
     ]
    }
   ],
   "source": [
    "for epoch in range(1,EPOCHS+1):\n",
    "    for image_batch in train_dataset:\n",
    "        train_step(image_batch)\n",
    "\n",
    "        display.clear_output(wait=True)\n",
    "        predictions = generator(seed,training=False)\n",
    "        fig = plt.figure(figsize=(4,4))\n",
    "        for i in range(predictions.shape[0]):\n",
    "            plt.subplot(4,4,i)\n",
    "            plt.imshow(predictions[i,:,:,0]*127.5+127.5,cmap='gray')\n",
    "            plt.axis('off')\n",
    "\n",
    "    plt.savefig(f\"image_at_epoch_{epoch}.png\")\n",
    "    plt.show()\n",
    "\n",
    "    ckpt_save_path = ckpt_manager.save()\n",
    "    print('Saving checkpoint for epoch',epoch,'at',ckpt_save_path)"
   ]
  },
  {
   "cell_type": "markdown",
   "id": "40b15c94-1d35-447b-a68e-212377ea723a",
   "metadata": {},
   "source": [
    "#### Generate a GIF of Generated Images"
   ]
  },
  {
   "cell_type": "code",
   "execution_count": null,
   "id": "5ba5d3dd-2c2a-4bf7-874f-8dae8e7787ca",
   "metadata": {},
   "outputs": [],
   "source": []
  },
  {
   "cell_type": "code",
   "execution_count": null,
   "id": "6646c242-0556-48db-9e2d-d657ed6cfcb1",
   "metadata": {},
   "outputs": [],
   "source": []
  },
  {
   "cell_type": "code",
   "execution_count": null,
   "id": "8aaa0ba7-34fa-431e-8e98-5c2d8ce69355",
   "metadata": {},
   "outputs": [],
   "source": []
  }
 ],
 "metadata": {
  "kernelspec": {
   "display_name": "Python 3 (ipykernel)",
   "language": "python",
   "name": "python3"
  },
  "language_info": {
   "codemirror_mode": {
    "name": "ipython",
    "version": 3
   },
   "file_extension": ".py",
   "mimetype": "text/x-python",
   "name": "python",
   "nbconvert_exporter": "python",
   "pygments_lexer": "ipython3",
   "version": "3.11.7"
  }
 },
 "nbformat": 4,
 "nbformat_minor": 5
}
