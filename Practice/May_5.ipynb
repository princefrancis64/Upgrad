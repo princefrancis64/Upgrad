{
 "cells": [
  {
   "cell_type": "markdown",
   "id": "7b3d2a29-3dae-408f-a9e4-38e053f085cd",
   "metadata": {},
   "source": [
    "### LAMBDA FUNCTION"
   ]
  },
  {
   "cell_type": "code",
   "execution_count": 2,
   "id": "88d1163b-1e7f-44f8-8503-302674b86406",
   "metadata": {},
   "outputs": [
    {
     "data": {
      "text/plain": [
       "'GEEKFORGEEKS'"
      ]
     },
     "execution_count": 2,
     "metadata": {},
     "output_type": "execute_result"
    }
   ],
   "source": [
    "str1 = 'GeekforGeeks'\n",
    "upper = lambda string:string.upper()\n",
    "upper(str1)"
   ]
  },
  {
   "cell_type": "code",
   "execution_count": 4,
   "id": "b0a2e629-bc8b-44ad-9c01-3898338fd59a",
   "metadata": {},
   "outputs": [
    {
     "data": {
      "text/plain": [
       "False"
      ]
     },
     "execution_count": 4,
     "metadata": {},
     "output_type": "execute_result"
    }
   ],
   "source": [
    "isinstance(1,str)"
   ]
  },
  {
   "cell_type": "code",
   "execution_count": 9,
   "id": "f273ced7-44f5-4cf9-b90d-2479b1d2a137",
   "metadata": {},
   "outputs": [
    {
     "data": {
      "text/plain": [
       "'1.000000e+12'"
      ]
     },
     "execution_count": 9,
     "metadata": {},
     "output_type": "execute_result"
    }
   ],
   "source": [
    "format_numeric = lambda num:f\"{num:e}\" if isinstance(num,int) else f\"{num:,.2f}\"\n",
    "format_numeric(1000000000000)"
   ]
  },
  {
   "cell_type": "code",
   "execution_count": 10,
   "id": "2e4fed28-23d0-4194-b436-34d73f603f32",
   "metadata": {},
   "outputs": [
    {
     "data": {
      "text/plain": [
       "'56,564,656,565.33'"
      ]
     },
     "execution_count": 10,
     "metadata": {},
     "output_type": "execute_result"
    }
   ],
   "source": [
    "format_numeric(56564656565.332323264631)"
   ]
  },
  {
   "cell_type": "code",
   "execution_count": 11,
   "id": "840f2319-91a3-4317-adac-9c24ebd9dc29",
   "metadata": {},
   "outputs": [
    {
     "data": {
      "text/plain": [
       "27"
      ]
     },
     "execution_count": 11,
     "metadata": {},
     "output_type": "execute_result"
    }
   ],
   "source": [
    "cube = lambda y: y*y*y\n",
    "cube(3)"
   ]
  },
  {
   "cell_type": "code",
   "execution_count": 19,
   "id": "a7bffefc-fe82-47dc-b920-85edd9e246b7",
   "metadata": {},
   "outputs": [],
   "source": [
    "is_even_list = [lambda arg=x: arg*10 for x in range(1,5)]"
   ]
  },
  {
   "cell_type": "code",
   "execution_count": 20,
   "id": "3df2cba4-0111-4a4b-b243-f1d3cb6aee30",
   "metadata": {},
   "outputs": [
    {
     "name": "stdout",
     "output_type": "stream",
     "text": [
      "10\n",
      "20\n",
      "30\n",
      "40\n"
     ]
    }
   ],
   "source": [
    "for item in is_even_list:\n",
    "    print(item())"
   ]
  },
  {
   "cell_type": "code",
   "execution_count": 26,
   "id": "e37955e3-71a4-400c-8b98-060d26522616",
   "metadata": {},
   "outputs": [
    {
     "name": "stdout",
     "output_type": "stream",
     "text": [
      "10\n",
      "20\n",
      "30\n",
      "40\n"
     ]
    }
   ],
   "source": [
    "is_even_list = [lambda arg=x:arg*10 for x in range(1,5)]\n",
    "for item in is_even_list:\n",
    "    print(item())"
   ]
  },
  {
   "cell_type": "code",
   "execution_count": 27,
   "id": "c6995e74-5817-4997-a399-c1a541e720d3",
   "metadata": {},
   "outputs": [
    {
     "data": {
      "text/plain": [
       "2"
      ]
     },
     "execution_count": 27,
     "metadata": {},
     "output_type": "execute_result"
    }
   ],
   "source": [
    "max = lambda a,b: a if a>b else b\n",
    "max(1,2)"
   ]
  },
  {
   "cell_type": "code",
   "execution_count": 30,
   "id": "ff0fca08-2718-46f7-b847-18e85f190c4a",
   "metadata": {},
   "outputs": [
    {
     "data": {
      "text/plain": [
       "[1, 2, 3, 4]"
      ]
     },
     "execution_count": 30,
     "metadata": {},
     "output_type": "execute_result"
    }
   ],
   "source": [
    "sorted([2,3,1,4])"
   ]
  },
  {
   "cell_type": "code",
   "execution_count": 31,
   "id": "08d497ed-4bb7-439c-9451-40dc01e17189",
   "metadata": {},
   "outputs": [],
   "source": [
    "s = 'prince'\n",
    "s = iter(s)"
   ]
  },
  {
   "cell_type": "code",
   "execution_count": 32,
   "id": "908aeaaa-48e7-4771-b6c0-c480071d3048",
   "metadata": {},
   "outputs": [
    {
     "data": {
      "text/plain": [
       "'p'"
      ]
     },
     "execution_count": 32,
     "metadata": {},
     "output_type": "execute_result"
    }
   ],
   "source": [
    "next(s)"
   ]
  },
  {
   "cell_type": "code",
   "execution_count": 33,
   "id": "7406189a-46f1-4524-bba4-588ffed1e5b8",
   "metadata": {},
   "outputs": [
    {
     "data": {
      "text/plain": [
       "'r'"
      ]
     },
     "execution_count": 33,
     "metadata": {},
     "output_type": "execute_result"
    }
   ],
   "source": [
    "next(s)"
   ]
  },
  {
   "cell_type": "code",
   "execution_count": 38,
   "id": "791e5f10-6da9-420a-9bb9-cf6b17aaa18f",
   "metadata": {},
   "outputs": [
    {
     "name": "stdout",
     "output_type": "stream",
     "text": [
      "1.0\n",
      "hello\n",
      "1\n"
     ]
    }
   ],
   "source": [
    "try:\n",
    "    a = 1\n",
    "    b = 1\n",
    "    print(a/b)\n",
    "    print(\"hello\")\n",
    "except Exception as e:\n",
    "    print(\"there is an error\")\n",
    "else:\n",
    "    print(f\"{a}\")"
   ]
  },
  {
   "cell_type": "code",
   "execution_count": 1,
   "id": "050d6472-c582-49c6-9e0a-2eca67000ca7",
   "metadata": {},
   "outputs": [],
   "source": [
    "def map_1(my_func,my_iter):\n",
    "    result = []\n",
    "    for item in my_iter:\n",
    "        cube =  my_func(item)\n",
    "        result.append(cube)\n",
    "    return result"
   ]
  },
  {
   "cell_type": "code",
   "execution_count": 2,
   "id": "3368a5ef-740d-4791-ba68-40171aaf50d0",
   "metadata": {},
   "outputs": [
    {
     "data": {
      "text/plain": [
       "[1, 8, 27, 64, 125]"
      ]
     },
     "execution_count": 2,
     "metadata": {},
     "output_type": "execute_result"
    }
   ],
   "source": [
    "map_1(lambda x:x**3,[1,2,3,4,5])"
   ]
  },
  {
   "cell_type": "markdown",
   "id": "0b8511a1-d7c9-421f-9b4e-90609e789152",
   "metadata": {},
   "source": [
    "### MAP FUNCTION"
   ]
  },
  {
   "cell_type": "code",
   "execution_count": 25,
   "id": "96e29ca6-c743-4a92-882b-b0ba6e4ad7ae",
   "metadata": {},
   "outputs": [
    {
     "data": {
      "text/plain": [
       "[552, 642, 892, 122, 454, 224, 234, 344, 562, 116, 554, 112, 680, 516]"
      ]
     },
     "execution_count": 25,
     "metadata": {},
     "output_type": "execute_result"
    }
   ],
   "source": [
    "#map function - map(function, iterable)\n",
    "\n",
    "def make_even(num):\n",
    "    if num%2==1:\n",
    "        return num+1\n",
    "    else:\n",
    "        return num\n",
    "\n",
    "\n",
    "x = [551,641,891,122,453,223,234,343,562,115,554,111,679,516]\n",
    "\n",
    "y = []\n",
    "for _ in x:\n",
    "    y.append(make_even(_))\n",
    "y"
   ]
  },
  {
   "cell_type": "code",
   "execution_count": 5,
   "id": "dd9f26cb-aa33-469e-bb4d-cf7b3d1f6374",
   "metadata": {},
   "outputs": [
    {
     "data": {
      "text/plain": [
       "[552, 642, 892, 122, 454, 224, 234, 344, 562, 116, 554, 112, 680, 516]"
      ]
     },
     "execution_count": 5,
     "metadata": {},
     "output_type": "execute_result"
    }
   ],
   "source": [
    "list(map(make_even, x))"
   ]
  },
  {
   "cell_type": "code",
   "execution_count": 6,
   "id": "f3f79fc9-54c5-42d5-8baa-007f70500004",
   "metadata": {},
   "outputs": [],
   "source": [
    "x = map(make_even,x)"
   ]
  },
  {
   "cell_type": "code",
   "execution_count": 7,
   "id": "6b1c5216-7d54-434d-b53c-c7c6ffca8b92",
   "metadata": {},
   "outputs": [
    {
     "data": {
      "text/plain": [
       "552"
      ]
     },
     "execution_count": 7,
     "metadata": {},
     "output_type": "execute_result"
    }
   ],
   "source": [
    "next(x)"
   ]
  },
  {
   "cell_type": "code",
   "execution_count": 8,
   "id": "f6033636-12c7-413d-9bd7-0f8a50a8ff95",
   "metadata": {},
   "outputs": [
    {
     "data": {
      "text/plain": [
       "642"
      ]
     },
     "execution_count": 8,
     "metadata": {},
     "output_type": "execute_result"
    }
   ],
   "source": [
    "next(x)"
   ]
  },
  {
   "cell_type": "code",
   "execution_count": 9,
   "id": "cc92c891-eeed-4957-9914-4db32f292d92",
   "metadata": {},
   "outputs": [
    {
     "data": {
      "text/plain": [
       "892"
      ]
     },
     "execution_count": 9,
     "metadata": {},
     "output_type": "execute_result"
    }
   ],
   "source": [
    "next(x)"
   ]
  },
  {
   "cell_type": "code",
   "execution_count": 21,
   "id": "8ebcfc01-9ae1-4dc8-a518-7ad1f771dab2",
   "metadata": {},
   "outputs": [
    {
     "ename": "StopIteration",
     "evalue": "",
     "output_type": "error",
     "traceback": [
      "\u001b[1;31m---------------------------------------------------------------------------\u001b[0m",
      "\u001b[1;31mStopIteration\u001b[0m                             Traceback (most recent call last)",
      "Cell \u001b[1;32mIn[21], line 1\u001b[0m\n\u001b[1;32m----> 1\u001b[0m \u001b[38;5;28mnext\u001b[39m(x)\n",
      "\u001b[1;31mStopIteration\u001b[0m: "
     ]
    }
   ],
   "source": [
    "next(x)"
   ]
  },
  {
   "cell_type": "code",
   "execution_count": 26,
   "id": "c3bfc25d-9e70-4c3d-9aba-5ff0162c6918",
   "metadata": {},
   "outputs": [
    {
     "data": {
      "text/plain": [
       "[552, 642, 892, 122, 454, 224, 234, 344, 562, 116, 554, 112, 680, 516]"
      ]
     },
     "execution_count": 26,
     "metadata": {},
     "output_type": "execute_result"
    }
   ],
   "source": [
    "[make_even(num) for num in x]"
   ]
  },
  {
   "cell_type": "code",
   "execution_count": 24,
   "id": "fe584bec-baec-4a3a-a701-4817bf4e6ecb",
   "metadata": {},
   "outputs": [
    {
     "data": {
      "text/plain": [
       "<map at 0x192c0d7f550>"
      ]
     },
     "execution_count": 24,
     "metadata": {},
     "output_type": "execute_result"
    }
   ],
   "source": [
    "x"
   ]
  },
  {
   "cell_type": "markdown",
   "id": "219f2a8c-a753-44b9-bc37-fd204c58eb62",
   "metadata": {},
   "source": [
    "### FILTER FUNCTION"
   ]
  },
  {
   "cell_type": "code",
   "execution_count": 27,
   "id": "b4b97ee5-174c-4832-b4a5-037fed2ea03c",
   "metadata": {},
   "outputs": [],
   "source": [
    "#Filter function - filter(function, iterable)\n",
    "\n",
    "                 #   - Returns items from iterable based on some criteria\n",
    "\n",
    "avail_units = {\n",
    "    '101':{\n",
    "        'bedrooms':3,\n",
    "        'bathrooms':2,\n",
    "        'price':1625\n",
    "    },\n",
    "        '215':{\n",
    "        'bedrooms':2,\n",
    "        'bathrooms':1,\n",
    "        'price':1550\n",
    "    },\n",
    "\n",
    "        '231':{\n",
    "        'bedrooms':1,\n",
    "        'bathrooms':1,\n",
    "        'price':1400\n",
    "    },\n",
    "\n",
    "        '431':{\n",
    "        'bedrooms':2,\n",
    "        'bathrooms':1,\n",
    "        'price':1500\n",
    "    },\n",
    "\n",
    "        '422':{\n",
    "        'bedrooms':2,\n",
    "        'bathrooms':1,\n",
    "        'price':1575\n",
    "    },\n",
    "\n",
    "        '123':{\n",
    "        'bedrooms':3,\n",
    "        'bathrooms':2,\n",
    "        'price':1675\n",
    "    },\n",
    "\n",
    "        '223':{\n",
    "        'bedrooms':2,\n",
    "        'bathrooms':2,\n",
    "        'price':1615\n",
    "    },\n",
    "\n",
    "        '515':{\n",
    "        'bedrooms':1,\n",
    "        'bathrooms':1,\n",
    "        'price':1610\n",
    "    },\n",
    "\n",
    "        '625':{\n",
    "        'bedrooms':2,\n",
    "        'bathrooms':2,\n",
    "        'price':1625\n",
    "    },\n",
    "}"
   ]
  },
  {
   "cell_type": "code",
   "execution_count": 30,
   "id": "f2da48a9-ef19-4168-849b-f68b8d1d3d59",
   "metadata": {},
   "outputs": [],
   "source": [
    "def my_filter(unit_nums):\n",
    "    if avail_units[unit_nums]['price']<1600 and avail_units[unit_nums]['bedrooms']>=2:\n",
    "        return True\n",
    "    else:\n",
    "        return False"
   ]
  },
  {
   "cell_type": "code",
   "execution_count": 32,
   "id": "9b0f16b3-9d84-4246-a23a-1e663a504505",
   "metadata": {},
   "outputs": [],
   "source": [
    "x = filter(my_filter,avail_units)"
   ]
  },
  {
   "cell_type": "code",
   "execution_count": 33,
   "id": "909c69f2-7056-4877-a5ae-ccf6c05847c5",
   "metadata": {},
   "outputs": [
    {
     "data": {
      "text/plain": [
       "['215', '431', '422']"
      ]
     },
     "execution_count": 33,
     "metadata": {},
     "output_type": "execute_result"
    }
   ],
   "source": [
    "list(x)"
   ]
  },
  {
   "cell_type": "markdown",
   "id": "cd3fccff-bd53-4762-a193-170912996449",
   "metadata": {},
   "source": [
    "### REDUCE FUNCTION"
   ]
  },
  {
   "cell_type": "code",
   "execution_count": 34,
   "id": "cf1f2134-2a49-4056-b7e4-71723fc13ed6",
   "metadata": {},
   "outputs": [],
   "source": [
    "#reduce() = apply a function to an iterable and reduce it to a single cumulative value. \n",
    "#            performs function on first two elements and repeats process until 1 value remains\n",
    "#  reduce(function, iterable)\n",
    "letters = [\"H\",\"E\",\"L\",\"L\",\"O\"]\n",
    "import functools\n",
    "word = functools.reduce(lambda x,y:x+y,letters)"
   ]
  },
  {
   "cell_type": "code",
   "execution_count": 35,
   "id": "aac9407d-c3d1-4d5d-97b1-68b86a2c0d5e",
   "metadata": {},
   "outputs": [
    {
     "data": {
      "text/plain": [
       "'HELLO'"
      ]
     },
     "execution_count": 35,
     "metadata": {},
     "output_type": "execute_result"
    }
   ],
   "source": [
    "word"
   ]
  },
  {
   "cell_type": "code",
   "execution_count": 37,
   "id": "6e1bd42c-00f7-48ba-9b6e-2d734893e1ad",
   "metadata": {},
   "outputs": [],
   "source": [
    "factorial = [5,4,3,2,1]"
   ]
  },
  {
   "cell_type": "code",
   "execution_count": 40,
   "id": "0c145f5d-d0c7-40f5-b5e4-9f404802eded",
   "metadata": {},
   "outputs": [],
   "source": [
    "fact = functools.reduce((lambda x,y:x*y), factorial)"
   ]
  },
  {
   "cell_type": "code",
   "execution_count": 41,
   "id": "134b75d3-5cf1-4030-bd80-9b5e882c28c1",
   "metadata": {},
   "outputs": [
    {
     "data": {
      "text/plain": [
       "120"
      ]
     },
     "execution_count": 41,
     "metadata": {},
     "output_type": "execute_result"
    }
   ],
   "source": [
    "fact"
   ]
  },
  {
   "cell_type": "code",
   "execution_count": null,
   "id": "83d6f11c-f013-420d-85d6-c0e25bf5200e",
   "metadata": {},
   "outputs": [],
   "source": []
  }
 ],
 "metadata": {
  "kernelspec": {
   "display_name": "Python 3 (ipykernel)",
   "language": "python",
   "name": "python3"
  },
  "language_info": {
   "codemirror_mode": {
    "name": "ipython",
    "version": 3
   },
   "file_extension": ".py",
   "mimetype": "text/x-python",
   "name": "python",
   "nbconvert_exporter": "python",
   "pygments_lexer": "ipython3",
   "version": "3.11.7"
  }
 },
 "nbformat": 4,
 "nbformat_minor": 5
}
