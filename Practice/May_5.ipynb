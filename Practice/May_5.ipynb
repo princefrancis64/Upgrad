{
 "cells": [
  {
   "cell_type": "markdown",
   "id": "7b3d2a29-3dae-408f-a9e4-38e053f085cd",
   "metadata": {},
   "source": [
    "### LAMBDA FUNCTION"
   ]
  },
  {
   "cell_type": "code",
   "execution_count": 2,
   "id": "88d1163b-1e7f-44f8-8503-302674b86406",
   "metadata": {},
   "outputs": [
    {
     "data": {
      "text/plain": [
       "'GEEKFORGEEKS'"
      ]
     },
     "execution_count": 2,
     "metadata": {},
     "output_type": "execute_result"
    }
   ],
   "source": [
    "str1 = 'GeekforGeeks'\n",
    "upper = lambda string:string.upper()\n",
    "upper(str1)"
   ]
  },
  {
   "cell_type": "code",
   "execution_count": 4,
   "id": "b0a2e629-bc8b-44ad-9c01-3898338fd59a",
   "metadata": {},
   "outputs": [
    {
     "data": {
      "text/plain": [
       "False"
      ]
     },
     "execution_count": 4,
     "metadata": {},
     "output_type": "execute_result"
    }
   ],
   "source": [
    "isinstance(1,str)"
   ]
  },
  {
   "cell_type": "code",
   "execution_count": 9,
   "id": "f273ced7-44f5-4cf9-b90d-2479b1d2a137",
   "metadata": {},
   "outputs": [
    {
     "data": {
      "text/plain": [
       "'1.000000e+12'"
      ]
     },
     "execution_count": 9,
     "metadata": {},
     "output_type": "execute_result"
    }
   ],
   "source": [
    "format_numeric = lambda num:f\"{num:e}\" if isinstance(num,int) else f\"{num:,.2f}\"\n",
    "format_numeric(1000000000000)"
   ]
  },
  {
   "cell_type": "code",
   "execution_count": 10,
   "id": "2e4fed28-23d0-4194-b436-34d73f603f32",
   "metadata": {},
   "outputs": [
    {
     "data": {
      "text/plain": [
       "'56,564,656,565.33'"
      ]
     },
     "execution_count": 10,
     "metadata": {},
     "output_type": "execute_result"
    }
   ],
   "source": [
    "format_numeric(56564656565.332323264631)"
   ]
  },
  {
   "cell_type": "code",
   "execution_count": 11,
   "id": "840f2319-91a3-4317-adac-9c24ebd9dc29",
   "metadata": {},
   "outputs": [
    {
     "data": {
      "text/plain": [
       "27"
      ]
     },
     "execution_count": 11,
     "metadata": {},
     "output_type": "execute_result"
    }
   ],
   "source": [
    "cube = lambda y: y*y*y\n",
    "cube(3)"
   ]
  },
  {
   "cell_type": "code",
   "execution_count": 19,
   "id": "a7bffefc-fe82-47dc-b920-85edd9e246b7",
   "metadata": {},
   "outputs": [],
   "source": [
    "is_even_list = [lambda arg=x: arg*10 for x in range(1,5)]"
   ]
  },
  {
   "cell_type": "code",
   "execution_count": 20,
   "id": "3df2cba4-0111-4a4b-b243-f1d3cb6aee30",
   "metadata": {},
   "outputs": [
    {
     "name": "stdout",
     "output_type": "stream",
     "text": [
      "10\n",
      "20\n",
      "30\n",
      "40\n"
     ]
    }
   ],
   "source": [
    "for item in is_even_list:\n",
    "    print(item())"
   ]
  },
  {
   "cell_type": "code",
   "execution_count": 26,
   "id": "e37955e3-71a4-400c-8b98-060d26522616",
   "metadata": {},
   "outputs": [
    {
     "name": "stdout",
     "output_type": "stream",
     "text": [
      "10\n",
      "20\n",
      "30\n",
      "40\n"
     ]
    }
   ],
   "source": [
    "is_even_list = [lambda arg=x:arg*10 for x in range(1,5)]\n",
    "for item in is_even_list:\n",
    "    print(item())"
   ]
  },
  {
   "cell_type": "code",
   "execution_count": 27,
   "id": "c6995e74-5817-4997-a399-c1a541e720d3",
   "metadata": {},
   "outputs": [
    {
     "data": {
      "text/plain": [
       "2"
      ]
     },
     "execution_count": 27,
     "metadata": {},
     "output_type": "execute_result"
    }
   ],
   "source": [
    "max = lambda a,b: a if a>b else b\n",
    "max(1,2)"
   ]
  },
  {
   "cell_type": "code",
   "execution_count": 30,
   "id": "ff0fca08-2718-46f7-b847-18e85f190c4a",
   "metadata": {},
   "outputs": [
    {
     "data": {
      "text/plain": [
       "[1, 2, 3, 4]"
      ]
     },
     "execution_count": 30,
     "metadata": {},
     "output_type": "execute_result"
    }
   ],
   "source": [
    "sorted([2,3,1,4])"
   ]
  },
  {
   "cell_type": "code",
   "execution_count": 31,
   "id": "08d497ed-4bb7-439c-9451-40dc01e17189",
   "metadata": {},
   "outputs": [],
   "source": [
    "s = 'prince'\n",
    "s = iter(s)"
   ]
  },
  {
   "cell_type": "code",
   "execution_count": 32,
   "id": "908aeaaa-48e7-4771-b6c0-c480071d3048",
   "metadata": {},
   "outputs": [
    {
     "data": {
      "text/plain": [
       "'p'"
      ]
     },
     "execution_count": 32,
     "metadata": {},
     "output_type": "execute_result"
    }
   ],
   "source": [
    "next(s)"
   ]
  },
  {
   "cell_type": "code",
   "execution_count": 33,
   "id": "7406189a-46f1-4524-bba4-588ffed1e5b8",
   "metadata": {},
   "outputs": [
    {
     "data": {
      "text/plain": [
       "'r'"
      ]
     },
     "execution_count": 33,
     "metadata": {},
     "output_type": "execute_result"
    }
   ],
   "source": [
    "next(s)"
   ]
  },
  {
   "cell_type": "code",
   "execution_count": 38,
   "id": "791e5f10-6da9-420a-9bb9-cf6b17aaa18f",
   "metadata": {},
   "outputs": [
    {
     "name": "stdout",
     "output_type": "stream",
     "text": [
      "1.0\n",
      "hello\n",
      "1\n"
     ]
    }
   ],
   "source": [
    "try:\n",
    "    a = 1\n",
    "    b = 1\n",
    "    print(a/b)\n",
    "    print(\"hello\")\n",
    "except Exception as e:\n",
    "    print(\"there is an error\")\n",
    "else:\n",
    "    print(f\"{a}\")"
   ]
  },
  {
   "cell_type": "code",
   "execution_count": 1,
   "id": "050d6472-c582-49c6-9e0a-2eca67000ca7",
   "metadata": {},
   "outputs": [],
   "source": [
    "def map_1(my_func,my_iter):\n",
    "    result = []\n",
    "    for item in my_iter:\n",
    "        cube =  my_func(item)\n",
    "        result.append(cube)\n",
    "    return result"
   ]
  },
  {
   "cell_type": "code",
   "execution_count": 2,
   "id": "3368a5ef-740d-4791-ba68-40171aaf50d0",
   "metadata": {},
   "outputs": [
    {
     "data": {
      "text/plain": [
       "[1, 8, 27, 64, 125]"
      ]
     },
     "execution_count": 2,
     "metadata": {},
     "output_type": "execute_result"
    }
   ],
   "source": [
    "map_1(lambda x:x**3,[1,2,3,4,5])"
   ]
  },
  {
   "cell_type": "markdown",
   "id": "0b8511a1-d7c9-421f-9b4e-90609e789152",
   "metadata": {},
   "source": [
    "### MAP FUNCTION"
   ]
  },
  {
   "cell_type": "code",
   "execution_count": 25,
   "id": "96e29ca6-c743-4a92-882b-b0ba6e4ad7ae",
   "metadata": {},
   "outputs": [
    {
     "data": {
      "text/plain": [
       "[552, 642, 892, 122, 454, 224, 234, 344, 562, 116, 554, 112, 680, 516]"
      ]
     },
     "execution_count": 25,
     "metadata": {},
     "output_type": "execute_result"
    }
   ],
   "source": [
    "#map function - map(function, iterable)\n",
    "\n",
    "def make_even(num):\n",
    "    if num%2==1:\n",
    "        return num+1\n",
    "    else:\n",
    "        return num\n",
    "\n",
    "\n",
    "x = [551,641,891,122,453,223,234,343,562,115,554,111,679,516]\n",
    "\n",
    "y = []\n",
    "for _ in x:\n",
    "    y.append(make_even(_))\n",
    "y"
   ]
  },
  {
   "cell_type": "code",
   "execution_count": 5,
   "id": "dd9f26cb-aa33-469e-bb4d-cf7b3d1f6374",
   "metadata": {},
   "outputs": [
    {
     "data": {
      "text/plain": [
       "[552, 642, 892, 122, 454, 224, 234, 344, 562, 116, 554, 112, 680, 516]"
      ]
     },
     "execution_count": 5,
     "metadata": {},
     "output_type": "execute_result"
    }
   ],
   "source": [
    "list(map(make_even, x))"
   ]
  },
  {
   "cell_type": "code",
   "execution_count": 6,
   "id": "f3f79fc9-54c5-42d5-8baa-007f70500004",
   "metadata": {},
   "outputs": [],
   "source": [
    "x = map(make_even,x)"
   ]
  },
  {
   "cell_type": "code",
   "execution_count": 7,
   "id": "6b1c5216-7d54-434d-b53c-c7c6ffca8b92",
   "metadata": {},
   "outputs": [
    {
     "data": {
      "text/plain": [
       "552"
      ]
     },
     "execution_count": 7,
     "metadata": {},
     "output_type": "execute_result"
    }
   ],
   "source": [
    "next(x)"
   ]
  },
  {
   "cell_type": "code",
   "execution_count": 8,
   "id": "f6033636-12c7-413d-9bd7-0f8a50a8ff95",
   "metadata": {},
   "outputs": [
    {
     "data": {
      "text/plain": [
       "642"
      ]
     },
     "execution_count": 8,
     "metadata": {},
     "output_type": "execute_result"
    }
   ],
   "source": [
    "next(x)"
   ]
  },
  {
   "cell_type": "code",
   "execution_count": 9,
   "id": "cc92c891-eeed-4957-9914-4db32f292d92",
   "metadata": {},
   "outputs": [
    {
     "data": {
      "text/plain": [
       "892"
      ]
     },
     "execution_count": 9,
     "metadata": {},
     "output_type": "execute_result"
    }
   ],
   "source": [
    "next(x)"
   ]
  },
  {
   "cell_type": "code",
   "execution_count": 21,
   "id": "8ebcfc01-9ae1-4dc8-a518-7ad1f771dab2",
   "metadata": {},
   "outputs": [
    {
     "ename": "StopIteration",
     "evalue": "",
     "output_type": "error",
     "traceback": [
      "\u001b[1;31m---------------------------------------------------------------------------\u001b[0m",
      "\u001b[1;31mStopIteration\u001b[0m                             Traceback (most recent call last)",
      "Cell \u001b[1;32mIn[21], line 1\u001b[0m\n\u001b[1;32m----> 1\u001b[0m \u001b[38;5;28mnext\u001b[39m(x)\n",
      "\u001b[1;31mStopIteration\u001b[0m: "
     ]
    }
   ],
   "source": [
    "next(x)"
   ]
  },
  {
   "cell_type": "code",
   "execution_count": 26,
   "id": "c3bfc25d-9e70-4c3d-9aba-5ff0162c6918",
   "metadata": {},
   "outputs": [
    {
     "data": {
      "text/plain": [
       "[552, 642, 892, 122, 454, 224, 234, 344, 562, 116, 554, 112, 680, 516]"
      ]
     },
     "execution_count": 26,
     "metadata": {},
     "output_type": "execute_result"
    }
   ],
   "source": [
    "[make_even(num) for num in x]"
   ]
  },
  {
   "cell_type": "code",
   "execution_count": 24,
   "id": "fe584bec-baec-4a3a-a701-4817bf4e6ecb",
   "metadata": {},
   "outputs": [
    {
     "data": {
      "text/plain": [
       "<map at 0x192c0d7f550>"
      ]
     },
     "execution_count": 24,
     "metadata": {},
     "output_type": "execute_result"
    }
   ],
   "source": [
    "x"
   ]
  },
  {
   "cell_type": "markdown",
   "id": "219f2a8c-a753-44b9-bc37-fd204c58eb62",
   "metadata": {},
   "source": [
    "### FILTER FUNCTION"
   ]
  },
  {
   "cell_type": "code",
   "execution_count": 27,
   "id": "b4b97ee5-174c-4832-b4a5-037fed2ea03c",
   "metadata": {},
   "outputs": [],
   "source": [
    "#Filter function - filter(function, iterable)\n",
    "\n",
    "                 #   - Returns items from iterable based on some criteria\n",
    "\n",
    "avail_units = {\n",
    "    '101':{\n",
    "        'bedrooms':3,\n",
    "        'bathrooms':2,\n",
    "        'price':1625\n",
    "    },\n",
    "        '215':{\n",
    "        'bedrooms':2,\n",
    "        'bathrooms':1,\n",
    "        'price':1550\n",
    "    },\n",
    "\n",
    "        '231':{\n",
    "        'bedrooms':1,\n",
    "        'bathrooms':1,\n",
    "        'price':1400\n",
    "    },\n",
    "\n",
    "        '431':{\n",
    "        'bedrooms':2,\n",
    "        'bathrooms':1,\n",
    "        'price':1500\n",
    "    },\n",
    "\n",
    "        '422':{\n",
    "        'bedrooms':2,\n",
    "        'bathrooms':1,\n",
    "        'price':1575\n",
    "    },\n",
    "\n",
    "        '123':{\n",
    "        'bedrooms':3,\n",
    "        'bathrooms':2,\n",
    "        'price':1675\n",
    "    },\n",
    "\n",
    "        '223':{\n",
    "        'bedrooms':2,\n",
    "        'bathrooms':2,\n",
    "        'price':1615\n",
    "    },\n",
    "\n",
    "        '515':{\n",
    "        'bedrooms':1,\n",
    "        'bathrooms':1,\n",
    "        'price':1610\n",
    "    },\n",
    "\n",
    "        '625':{\n",
    "        'bedrooms':2,\n",
    "        'bathrooms':2,\n",
    "        'price':1625\n",
    "    },\n",
    "}"
   ]
  },
  {
   "cell_type": "code",
   "execution_count": 30,
   "id": "f2da48a9-ef19-4168-849b-f68b8d1d3d59",
   "metadata": {},
   "outputs": [],
   "source": [
    "def my_filter(unit_nums):\n",
    "    if avail_units[unit_nums]['price']<1600 and avail_units[unit_nums]['bedrooms']>=2:\n",
    "        return True\n",
    "    else:\n",
    "        return False"
   ]
  },
  {
   "cell_type": "code",
   "execution_count": 32,
   "id": "9b0f16b3-9d84-4246-a23a-1e663a504505",
   "metadata": {},
   "outputs": [],
   "source": [
    "x = filter(my_filter,avail_units)"
   ]
  },
  {
   "cell_type": "code",
   "execution_count": 33,
   "id": "909c69f2-7056-4877-a5ae-ccf6c05847c5",
   "metadata": {},
   "outputs": [
    {
     "data": {
      "text/plain": [
       "['215', '431', '422']"
      ]
     },
     "execution_count": 33,
     "metadata": {},
     "output_type": "execute_result"
    }
   ],
   "source": [
    "list(x)"
   ]
  },
  {
   "cell_type": "markdown",
   "id": "cd3fccff-bd53-4762-a193-170912996449",
   "metadata": {},
   "source": [
    "### REDUCE FUNCTION"
   ]
  },
  {
   "cell_type": "code",
   "execution_count": 34,
   "id": "cf1f2134-2a49-4056-b7e4-71723fc13ed6",
   "metadata": {},
   "outputs": [],
   "source": [
    "#reduce() = apply a function to an iterable and reduce it to a single cumulative value. \n",
    "#            performs function on first two elements and repeats process until 1 value remains\n",
    "#  reduce(function, iterable)\n",
    "letters = [\"H\",\"E\",\"L\",\"L\",\"O\"]\n",
    "import functools\n",
    "word = functools.reduce(lambda x,y:x+y,letters)"
   ]
  },
  {
   "cell_type": "code",
   "execution_count": 35,
   "id": "aac9407d-c3d1-4d5d-97b1-68b86a2c0d5e",
   "metadata": {},
   "outputs": [
    {
     "data": {
      "text/plain": [
       "'HELLO'"
      ]
     },
     "execution_count": 35,
     "metadata": {},
     "output_type": "execute_result"
    }
   ],
   "source": [
    "word"
   ]
  },
  {
   "cell_type": "code",
   "execution_count": 37,
   "id": "6e1bd42c-00f7-48ba-9b6e-2d734893e1ad",
   "metadata": {},
   "outputs": [],
   "source": [
    "factorial = [5,4,3,2,1]"
   ]
  },
  {
   "cell_type": "code",
   "execution_count": 40,
   "id": "0c145f5d-d0c7-40f5-b5e4-9f404802eded",
   "metadata": {},
   "outputs": [],
   "source": [
    "fact = functools.reduce((lambda x,y:x*y), factorial)"
   ]
  },
  {
   "cell_type": "code",
   "execution_count": 41,
   "id": "134b75d3-5cf1-4030-bd80-9b5e882c28c1",
   "metadata": {},
   "outputs": [
    {
     "data": {
      "text/plain": [
       "120"
      ]
     },
     "execution_count": 41,
     "metadata": {},
     "output_type": "execute_result"
    }
   ],
   "source": [
    "fact"
   ]
  },
  {
   "cell_type": "markdown",
   "id": "b04841fc-5ea9-475a-ab62-3cf23d0eb3e8",
   "metadata": {},
   "source": [
    "### DEEP COPY AND SHALLOW COPY"
   ]
  },
  {
   "cell_type": "code",
   "execution_count": 17,
   "id": "eb11fefa-c9aa-4a39-b116-6cc40dadb9c6",
   "metadata": {},
   "outputs": [
    {
     "name": "stdout",
     "output_type": "stream",
     "text": [
      "Numbers: [13, 2, 3, 4, 5]\n",
      "Id of numbers: 1752195949248\n",
      "New Numbers: [13, 2, 3, 4, 5]\n",
      "Id of new numbers: 1752195949248\n"
     ]
    }
   ],
   "source": [
    "numbers = [1,2,3,4,5]\n",
    "new_numbers = numbers\n",
    "\n",
    "new_numbers[0] = 13\n",
    "\n",
    "print('Numbers:',numbers)\n",
    "print('Id of numbers:',id(numbers))\n",
    "\n",
    "print('New Numbers:',new_numbers)\n",
    "print('Id of new numbers:',id(new_numbers))"
   ]
  },
  {
   "cell_type": "code",
   "execution_count": 4,
   "id": "b8a21605-8ca3-40c7-bb38-73b7e44dca47",
   "metadata": {},
   "outputs": [],
   "source": [
    "### The above code denotes that the new number is actually not a separate copy however is a reference to the old number"
   ]
  },
  {
   "cell_type": "code",
   "execution_count": 5,
   "id": "72b8d2a7-f0aa-485b-a621-4ad21d4b67bc",
   "metadata": {},
   "outputs": [
    {
     "name": "stdout",
     "output_type": "stream",
     "text": [
      "Old list: [[1, 2, 3], [4, 5, 6], [7, 8, 9]]\n",
      "New_list: [['a', 'b', 'c'], [4, 5, 6], [7, 8, 9]]\n"
     ]
    }
   ],
   "source": [
    "import copy\n",
    "# copy.copy ## shallow copy\n",
    "# copy.deepcopy ## deep copy\n",
    "\n",
    "old_list = [[1,2,3],[4,5,6],[7,8,9]]\n",
    "\n",
    "new_list = copy.copy(old_list)\n",
    "\n",
    "new_list[0] = ['a','b','c']\n",
    "\n",
    "print(\"Old list:\",old_list)\n",
    "print(\"New_list:\",new_list)"
   ]
  },
  {
   "cell_type": "code",
   "execution_count": 6,
   "id": "103890b6-b343-4bde-8f04-449db14ecac0",
   "metadata": {},
   "outputs": [
    {
     "name": "stdout",
     "output_type": "stream",
     "text": [
      "1752189039488\n",
      "1752193004160\n"
     ]
    }
   ],
   "source": [
    "print(id(old_list))\n",
    "print(id(new_list))"
   ]
  },
  {
   "cell_type": "code",
   "execution_count": 21,
   "id": "f651a109-e5fd-48ce-8be8-095f2641345e",
   "metadata": {},
   "outputs": [
    {
     "name": "stdout",
     "output_type": "stream",
     "text": [
      "Old list: [[1, 2, 3], [4, 5, 6], [7, 8, 9]]\n",
      "id of old list: 1752195901760\n",
      "New list: [['a', 'b', 'c'], [4, 5, 6], [7, 8, 9]]\n",
      "id of new list: 1752193378432\n"
     ]
    }
   ],
   "source": [
    "import copy\n",
    "old_list = [[1,2,3],[4,5,6],[7,8,9]]\n",
    "new_list = copy.copy(old_list)\n",
    "\n",
    "new_list[0] = ['a','b','c']\n",
    "print('Old list:',old_list)\n",
    "print('id of old list:',id(old_list))\n",
    "print('New list:',new_list)\n",
    "print('id of new list:', id(new_list))"
   ]
  },
  {
   "cell_type": "code",
   "execution_count": 23,
   "id": "9cdaa845-dccc-4507-ae23-86034b352ff9",
   "metadata": {},
   "outputs": [
    {
     "name": "stdout",
     "output_type": "stream",
     "text": [
      "Old list: [[1, 2, 'd'], [4, 5, 6], [7, 8, 9]]\n",
      "id of old element: 140730046956336\n",
      "New list: [[1, 2, 'd'], [4, 5, 6], [7, 8, 9]]\n",
      "id of new element: 140730046956336\n"
     ]
    }
   ],
   "source": [
    "import copy\n",
    "# copy.copy ## shallow copy\n",
    "# copy.deepcopy ## deep copya\n",
    "\n",
    "old_list = [[1,2,3],[4,5,6],[7,8,9]]\n",
    "\n",
    "new_list = copy.copy(old_list)\n",
    "\n",
    "new_list[0][2] = 'd'\n",
    "print('Old list:',old_list)\n",
    "print('id of old element:',id(old_list[0][2]))\n",
    "print('New list:',new_list)\n",
    "print('id of new element:',id(new_list[0][2]))"
   ]
  },
  {
   "cell_type": "code",
   "execution_count": 22,
   "id": "315bdd44-239b-4c39-bbf9-1aadc69be855",
   "metadata": {},
   "outputs": [
    {
     "name": "stdout",
     "output_type": "stream",
     "text": [
      "Old list: [[1, 2, 3], [4, 5, 6], [7, 8, 9]]\n",
      "id of old element: 140730047906664\n",
      "New list: [[1, 2, 'd'], [4, 5, 6], [7, 8, 9]]\n",
      "id of new element: 140730046956336\n"
     ]
    }
   ],
   "source": [
    "import copy\n",
    "# copy.copy ## shallow copy\n",
    "# copy.deepcopy ## deep copya\n",
    "\n",
    "old_list = [[1,2,3],[4,5,6],[7,8,9]]\n",
    "\n",
    "new_list = copy.deepcopy(old_list)\n",
    "\n",
    "new_list[0][2] = 'd'\n",
    "print('Old list:',old_list)\n",
    "print('id of old element:',id(old_list[0][2]))\n",
    "print('New list:',new_list)\n",
    "print('id of new element:',id(new_list[0][2]))"
   ]
  },
  {
   "cell_type": "code",
   "execution_count": 24,
   "id": "cd59ad1e-a5fd-4a04-82a4-24e3e4b41e9d",
   "metadata": {},
   "outputs": [
    {
     "name": "stdout",
     "output_type": "stream",
     "text": [
      "Old list: [[1, 2, 3], [4, 5, 6], [7, 8, 9]]\n",
      "id of old element: 1752189860352\n",
      "New list: [[1, 2, 'd'], [4, 5, 6], [7, 8, 9]]\n",
      "id of new element: 1752189913152\n"
     ]
    }
   ],
   "source": [
    "import copy\n",
    "# copy.copy ## shallow copy\n",
    "# copy.deepcopy ## deep copya\n",
    "\n",
    "old_list = [[1,2,3],[4,5,6],[7,8,9]]\n",
    "\n",
    "new_list = copy.deepcopy(old_list)\n",
    "\n",
    "new_list[0][2] = 'd'\n",
    "print('Old list:',old_list)\n",
    "print('id of old element:',id(old_list))\n",
    "print('New list:',new_list)\n",
    "print('id of new element:',id(new_list))"
   ]
  },
  {
   "cell_type": "code",
   "execution_count": 16,
   "id": "d3598684-6f3a-46c5-9c68-308f4f481807",
   "metadata": {},
   "outputs": [
    {
     "name": "stdout",
     "output_type": "stream",
     "text": [
      "Original list: ['red', 'green', 'blue']\n",
      "Shallow copy: ['red', 'green', 'blue', 'orange']\n"
     ]
    }
   ],
   "source": [
    "original_list = ['red', 'green', 'blue']\n",
    "shallow_copy = copy.copy(original_list)\n",
    "\n",
    "# original_list[0] = 'yellow'\n",
    "# print(id(original_list))\n",
    "# print(id(shallow_copy))\n",
    "\n",
    "shallow_copy.append('orange')\n",
    "\n",
    "print('Original list:',original_list)\n",
    "print('Shallow copy:',shallow_copy)"
   ]
  },
  {
   "cell_type": "code",
   "execution_count": 25,
   "id": "7b5ca5ff-d178-4c2a-ad06-d22bd11ea352",
   "metadata": {},
   "outputs": [],
   "source": [
    "original_list = ['red','green','blue']\n",
    "\n",
    "shallow_copy = original_list[:]"
   ]
  },
  {
   "cell_type": "code",
   "execution_count": 26,
   "id": "516a131e-9bea-4963-9f3f-916cd99fbc02",
   "metadata": {},
   "outputs": [
    {
     "name": "stdout",
     "output_type": "stream",
     "text": [
      "original list: ['black', 'green', 'blue']\n",
      "shallow copy: ['red', 'green', 'blue']\n"
     ]
    }
   ],
   "source": [
    "original_list[0] = 'black'\n",
    "print('original list:',original_list)\n",
    "print('shallow copy:',shallow_copy)"
   ]
  },
  {
   "cell_type": "code",
   "execution_count": 27,
   "id": "e38193cc-bcc4-4d89-8788-516d74258381",
   "metadata": {},
   "outputs": [
    {
     "name": "stdout",
     "output_type": "stream",
     "text": [
      "original list: ['black', 'green', 'blue']\n",
      "shallow copy: ['red', 'green', 'pink']\n"
     ]
    }
   ],
   "source": [
    "shallow_copy[2] = 'pink'\n",
    "print('original list:',original_list)\n",
    "print('shallow copy:',shallow_copy)"
   ]
  },
  {
   "cell_type": "code",
   "execution_count": null,
   "id": "9818054a-bd21-4d19-976e-3062df4dcc6f",
   "metadata": {},
   "outputs": [],
   "source": []
  }
 ],
 "metadata": {
  "kernelspec": {
   "display_name": "Python 3 (ipykernel)",
   "language": "python",
   "name": "python3"
  },
  "language_info": {
   "codemirror_mode": {
    "name": "ipython",
    "version": 3
   },
   "file_extension": ".py",
   "mimetype": "text/x-python",
   "name": "python",
   "nbconvert_exporter": "python",
   "pygments_lexer": "ipython3",
   "version": "3.11.7"
  }
 },
 "nbformat": 4,
 "nbformat_minor": 5
}
