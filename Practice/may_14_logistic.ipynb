{
 "cells": [
  {
   "cell_type": "markdown",
   "id": "6771cbd3-256e-4377-8214-7cfb621561fd",
   "metadata": {},
   "source": [
    "## IMPORTING AND MERGING DATA"
   ]
  },
  {
   "cell_type": "code",
   "execution_count": 102,
   "id": "8817d5dc-302e-40ac-8afc-b21df9d570ee",
   "metadata": {},
   "outputs": [],
   "source": [
    "import warnings\n",
    "warnings.filterwarnings('ignore')"
   ]
  },
  {
   "cell_type": "code",
   "execution_count": 103,
   "id": "9fb95bac-ce64-4af5-92b5-ce3186cf3265",
   "metadata": {},
   "outputs": [],
   "source": [
    "import pandas as pd,numpy as np"
   ]
  },
  {
   "cell_type": "code",
   "execution_count": 104,
   "id": "55b9e612-86ce-4d84-ac7e-1d6373ec957c",
   "metadata": {},
   "outputs": [
    {
     "data": {
      "text/html": [
       "<div>\n",
       "<style scoped>\n",
       "    .dataframe tbody tr th:only-of-type {\n",
       "        vertical-align: middle;\n",
       "    }\n",
       "\n",
       "    .dataframe tbody tr th {\n",
       "        vertical-align: top;\n",
       "    }\n",
       "\n",
       "    .dataframe thead th {\n",
       "        text-align: right;\n",
       "    }\n",
       "</style>\n",
       "<table border=\"1\" class=\"dataframe\">\n",
       "  <thead>\n",
       "    <tr style=\"text-align: right;\">\n",
       "      <th></th>\n",
       "      <th>customerID</th>\n",
       "      <th>tenure</th>\n",
       "      <th>PhoneService</th>\n",
       "      <th>Contract</th>\n",
       "      <th>PaperlessBilling</th>\n",
       "      <th>PaymentMethod</th>\n",
       "      <th>MonthlyCharges</th>\n",
       "      <th>TotalCharges</th>\n",
       "      <th>Churn</th>\n",
       "    </tr>\n",
       "  </thead>\n",
       "  <tbody>\n",
       "    <tr>\n",
       "      <th>0</th>\n",
       "      <td>7590-VHVEG</td>\n",
       "      <td>1</td>\n",
       "      <td>No</td>\n",
       "      <td>Month-to-month</td>\n",
       "      <td>Yes</td>\n",
       "      <td>Electronic check</td>\n",
       "      <td>29.85</td>\n",
       "      <td>29.85</td>\n",
       "      <td>No</td>\n",
       "    </tr>\n",
       "    <tr>\n",
       "      <th>1</th>\n",
       "      <td>5575-GNVDE</td>\n",
       "      <td>34</td>\n",
       "      <td>Yes</td>\n",
       "      <td>One year</td>\n",
       "      <td>No</td>\n",
       "      <td>Mailed check</td>\n",
       "      <td>56.95</td>\n",
       "      <td>1889.5</td>\n",
       "      <td>No</td>\n",
       "    </tr>\n",
       "    <tr>\n",
       "      <th>2</th>\n",
       "      <td>3668-QPYBK</td>\n",
       "      <td>2</td>\n",
       "      <td>Yes</td>\n",
       "      <td>Month-to-month</td>\n",
       "      <td>Yes</td>\n",
       "      <td>Mailed check</td>\n",
       "      <td>53.85</td>\n",
       "      <td>108.15</td>\n",
       "      <td>Yes</td>\n",
       "    </tr>\n",
       "    <tr>\n",
       "      <th>3</th>\n",
       "      <td>7795-CFOCW</td>\n",
       "      <td>45</td>\n",
       "      <td>No</td>\n",
       "      <td>One year</td>\n",
       "      <td>No</td>\n",
       "      <td>Bank transfer (automatic)</td>\n",
       "      <td>42.30</td>\n",
       "      <td>1840.75</td>\n",
       "      <td>No</td>\n",
       "    </tr>\n",
       "    <tr>\n",
       "      <th>4</th>\n",
       "      <td>9237-HQITU</td>\n",
       "      <td>2</td>\n",
       "      <td>Yes</td>\n",
       "      <td>Month-to-month</td>\n",
       "      <td>Yes</td>\n",
       "      <td>Electronic check</td>\n",
       "      <td>70.70</td>\n",
       "      <td>151.65</td>\n",
       "      <td>Yes</td>\n",
       "    </tr>\n",
       "  </tbody>\n",
       "</table>\n",
       "</div>"
      ],
      "text/plain": [
       "   customerID  tenure PhoneService        Contract PaperlessBilling  \\\n",
       "0  7590-VHVEG       1           No  Month-to-month              Yes   \n",
       "1  5575-GNVDE      34          Yes        One year               No   \n",
       "2  3668-QPYBK       2          Yes  Month-to-month              Yes   \n",
       "3  7795-CFOCW      45           No        One year               No   \n",
       "4  9237-HQITU       2          Yes  Month-to-month              Yes   \n",
       "\n",
       "               PaymentMethod  MonthlyCharges TotalCharges Churn  \n",
       "0           Electronic check           29.85        29.85    No  \n",
       "1               Mailed check           56.95       1889.5    No  \n",
       "2               Mailed check           53.85       108.15   Yes  \n",
       "3  Bank transfer (automatic)           42.30      1840.75    No  \n",
       "4           Electronic check           70.70       151.65   Yes  "
      ]
     },
     "execution_count": 104,
     "metadata": {},
     "output_type": "execute_result"
    }
   ],
   "source": [
    "churn_data = pd.read_csv('churn_data.csv')\n",
    "churn_data.head()"
   ]
  },
  {
   "cell_type": "code",
   "execution_count": 105,
   "id": "f4b6a9ae-07f2-4785-a9a3-b5ddb2e86105",
   "metadata": {},
   "outputs": [
    {
     "data": {
      "text/html": [
       "<div>\n",
       "<style scoped>\n",
       "    .dataframe tbody tr th:only-of-type {\n",
       "        vertical-align: middle;\n",
       "    }\n",
       "\n",
       "    .dataframe tbody tr th {\n",
       "        vertical-align: top;\n",
       "    }\n",
       "\n",
       "    .dataframe thead th {\n",
       "        text-align: right;\n",
       "    }\n",
       "</style>\n",
       "<table border=\"1\" class=\"dataframe\">\n",
       "  <thead>\n",
       "    <tr style=\"text-align: right;\">\n",
       "      <th></th>\n",
       "      <th>customerID</th>\n",
       "      <th>gender</th>\n",
       "      <th>SeniorCitizen</th>\n",
       "      <th>Partner</th>\n",
       "      <th>Dependents</th>\n",
       "    </tr>\n",
       "  </thead>\n",
       "  <tbody>\n",
       "    <tr>\n",
       "      <th>0</th>\n",
       "      <td>7590-VHVEG</td>\n",
       "      <td>Female</td>\n",
       "      <td>0</td>\n",
       "      <td>Yes</td>\n",
       "      <td>No</td>\n",
       "    </tr>\n",
       "    <tr>\n",
       "      <th>1</th>\n",
       "      <td>5575-GNVDE</td>\n",
       "      <td>Male</td>\n",
       "      <td>0</td>\n",
       "      <td>No</td>\n",
       "      <td>No</td>\n",
       "    </tr>\n",
       "    <tr>\n",
       "      <th>2</th>\n",
       "      <td>3668-QPYBK</td>\n",
       "      <td>Male</td>\n",
       "      <td>0</td>\n",
       "      <td>No</td>\n",
       "      <td>No</td>\n",
       "    </tr>\n",
       "    <tr>\n",
       "      <th>3</th>\n",
       "      <td>7795-CFOCW</td>\n",
       "      <td>Male</td>\n",
       "      <td>0</td>\n",
       "      <td>No</td>\n",
       "      <td>No</td>\n",
       "    </tr>\n",
       "    <tr>\n",
       "      <th>4</th>\n",
       "      <td>9237-HQITU</td>\n",
       "      <td>Female</td>\n",
       "      <td>0</td>\n",
       "      <td>No</td>\n",
       "      <td>No</td>\n",
       "    </tr>\n",
       "  </tbody>\n",
       "</table>\n",
       "</div>"
      ],
      "text/plain": [
       "   customerID  gender  SeniorCitizen Partner Dependents\n",
       "0  7590-VHVEG  Female              0     Yes         No\n",
       "1  5575-GNVDE    Male              0      No         No\n",
       "2  3668-QPYBK    Male              0      No         No\n",
       "3  7795-CFOCW    Male              0      No         No\n",
       "4  9237-HQITU  Female              0      No         No"
      ]
     },
     "execution_count": 105,
     "metadata": {},
     "output_type": "execute_result"
    }
   ],
   "source": [
    "customer_data = pd.read_csv('customer_data.csv')\n",
    "customer_data.head()"
   ]
  },
  {
   "cell_type": "code",
   "execution_count": 106,
   "id": "2f748df5-30e1-4440-8c34-334a839a1c21",
   "metadata": {},
   "outputs": [
    {
     "data": {
      "text/html": [
       "<div>\n",
       "<style scoped>\n",
       "    .dataframe tbody tr th:only-of-type {\n",
       "        vertical-align: middle;\n",
       "    }\n",
       "\n",
       "    .dataframe tbody tr th {\n",
       "        vertical-align: top;\n",
       "    }\n",
       "\n",
       "    .dataframe thead th {\n",
       "        text-align: right;\n",
       "    }\n",
       "</style>\n",
       "<table border=\"1\" class=\"dataframe\">\n",
       "  <thead>\n",
       "    <tr style=\"text-align: right;\">\n",
       "      <th></th>\n",
       "      <th>customerID</th>\n",
       "      <th>MultipleLines</th>\n",
       "      <th>InternetService</th>\n",
       "      <th>OnlineSecurity</th>\n",
       "      <th>OnlineBackup</th>\n",
       "      <th>DeviceProtection</th>\n",
       "      <th>TechSupport</th>\n",
       "      <th>StreamingTV</th>\n",
       "      <th>StreamingMovies</th>\n",
       "    </tr>\n",
       "  </thead>\n",
       "  <tbody>\n",
       "    <tr>\n",
       "      <th>0</th>\n",
       "      <td>7590-VHVEG</td>\n",
       "      <td>No phone service</td>\n",
       "      <td>DSL</td>\n",
       "      <td>No</td>\n",
       "      <td>Yes</td>\n",
       "      <td>No</td>\n",
       "      <td>No</td>\n",
       "      <td>No</td>\n",
       "      <td>No</td>\n",
       "    </tr>\n",
       "    <tr>\n",
       "      <th>1</th>\n",
       "      <td>5575-GNVDE</td>\n",
       "      <td>No</td>\n",
       "      <td>DSL</td>\n",
       "      <td>Yes</td>\n",
       "      <td>No</td>\n",
       "      <td>Yes</td>\n",
       "      <td>No</td>\n",
       "      <td>No</td>\n",
       "      <td>No</td>\n",
       "    </tr>\n",
       "    <tr>\n",
       "      <th>2</th>\n",
       "      <td>3668-QPYBK</td>\n",
       "      <td>No</td>\n",
       "      <td>DSL</td>\n",
       "      <td>Yes</td>\n",
       "      <td>Yes</td>\n",
       "      <td>No</td>\n",
       "      <td>No</td>\n",
       "      <td>No</td>\n",
       "      <td>No</td>\n",
       "    </tr>\n",
       "    <tr>\n",
       "      <th>3</th>\n",
       "      <td>7795-CFOCW</td>\n",
       "      <td>No phone service</td>\n",
       "      <td>DSL</td>\n",
       "      <td>Yes</td>\n",
       "      <td>No</td>\n",
       "      <td>Yes</td>\n",
       "      <td>Yes</td>\n",
       "      <td>No</td>\n",
       "      <td>No</td>\n",
       "    </tr>\n",
       "    <tr>\n",
       "      <th>4</th>\n",
       "      <td>9237-HQITU</td>\n",
       "      <td>No</td>\n",
       "      <td>Fiber optic</td>\n",
       "      <td>No</td>\n",
       "      <td>No</td>\n",
       "      <td>No</td>\n",
       "      <td>No</td>\n",
       "      <td>No</td>\n",
       "      <td>No</td>\n",
       "    </tr>\n",
       "  </tbody>\n",
       "</table>\n",
       "</div>"
      ],
      "text/plain": [
       "   customerID     MultipleLines InternetService OnlineSecurity OnlineBackup  \\\n",
       "0  7590-VHVEG  No phone service             DSL             No          Yes   \n",
       "1  5575-GNVDE                No             DSL            Yes           No   \n",
       "2  3668-QPYBK                No             DSL            Yes          Yes   \n",
       "3  7795-CFOCW  No phone service             DSL            Yes           No   \n",
       "4  9237-HQITU                No     Fiber optic             No           No   \n",
       "\n",
       "  DeviceProtection TechSupport StreamingTV StreamingMovies  \n",
       "0               No          No          No              No  \n",
       "1              Yes          No          No              No  \n",
       "2               No          No          No              No  \n",
       "3              Yes         Yes          No              No  \n",
       "4               No          No          No              No  "
      ]
     },
     "execution_count": 106,
     "metadata": {},
     "output_type": "execute_result"
    }
   ],
   "source": [
    "internet_data = pd.read_csv('internet_data.csv')\n",
    "internet_data.head()"
   ]
  },
  {
   "cell_type": "markdown",
   "id": "cd7d2ddd-72c1-4380-8933-750b7d12cec0",
   "metadata": {},
   "source": [
    "### COMBINING ALL DATAFRAMES INTO ONE CONSOLIDATED DATAFRAME"
   ]
  },
  {
   "cell_type": "code",
   "execution_count": 107,
   "id": "e8a99a36-256e-4ea4-a33a-55dd98eb694d",
   "metadata": {},
   "outputs": [],
   "source": [
    "df_1 = pd.merge(churn_data,customer_data,how='inner',on='customerID')"
   ]
  },
  {
   "cell_type": "code",
   "execution_count": 108,
   "id": "b35e65bb-8d0e-441b-887b-0ee9db522ce8",
   "metadata": {},
   "outputs": [],
   "source": [
    "## Final dataframe\n",
    "telecom = pd.merge(df_1,internet_data,how='inner',on='customerID')"
   ]
  },
  {
   "cell_type": "markdown",
   "id": "2ec80f62-a75e-4556-807a-33984a0e875d",
   "metadata": {},
   "source": [
    "### STEP 2: INSPECTING THE DATAFRAME"
   ]
  },
  {
   "cell_type": "code",
   "execution_count": 109,
   "id": "2801defe-7921-4db9-9f24-615562484c8e",
   "metadata": {},
   "outputs": [
    {
     "data": {
      "text/html": [
       "<div>\n",
       "<style scoped>\n",
       "    .dataframe tbody tr th:only-of-type {\n",
       "        vertical-align: middle;\n",
       "    }\n",
       "\n",
       "    .dataframe tbody tr th {\n",
       "        vertical-align: top;\n",
       "    }\n",
       "\n",
       "    .dataframe thead th {\n",
       "        text-align: right;\n",
       "    }\n",
       "</style>\n",
       "<table border=\"1\" class=\"dataframe\">\n",
       "  <thead>\n",
       "    <tr style=\"text-align: right;\">\n",
       "      <th></th>\n",
       "      <th>customerID</th>\n",
       "      <th>tenure</th>\n",
       "      <th>PhoneService</th>\n",
       "      <th>Contract</th>\n",
       "      <th>PaperlessBilling</th>\n",
       "      <th>PaymentMethod</th>\n",
       "      <th>MonthlyCharges</th>\n",
       "      <th>TotalCharges</th>\n",
       "      <th>Churn</th>\n",
       "      <th>gender</th>\n",
       "      <th>...</th>\n",
       "      <th>Partner</th>\n",
       "      <th>Dependents</th>\n",
       "      <th>MultipleLines</th>\n",
       "      <th>InternetService</th>\n",
       "      <th>OnlineSecurity</th>\n",
       "      <th>OnlineBackup</th>\n",
       "      <th>DeviceProtection</th>\n",
       "      <th>TechSupport</th>\n",
       "      <th>StreamingTV</th>\n",
       "      <th>StreamingMovies</th>\n",
       "    </tr>\n",
       "  </thead>\n",
       "  <tbody>\n",
       "    <tr>\n",
       "      <th>0</th>\n",
       "      <td>7590-VHVEG</td>\n",
       "      <td>1</td>\n",
       "      <td>No</td>\n",
       "      <td>Month-to-month</td>\n",
       "      <td>Yes</td>\n",
       "      <td>Electronic check</td>\n",
       "      <td>29.85</td>\n",
       "      <td>29.85</td>\n",
       "      <td>No</td>\n",
       "      <td>Female</td>\n",
       "      <td>...</td>\n",
       "      <td>Yes</td>\n",
       "      <td>No</td>\n",
       "      <td>No phone service</td>\n",
       "      <td>DSL</td>\n",
       "      <td>No</td>\n",
       "      <td>Yes</td>\n",
       "      <td>No</td>\n",
       "      <td>No</td>\n",
       "      <td>No</td>\n",
       "      <td>No</td>\n",
       "    </tr>\n",
       "    <tr>\n",
       "      <th>1</th>\n",
       "      <td>5575-GNVDE</td>\n",
       "      <td>34</td>\n",
       "      <td>Yes</td>\n",
       "      <td>One year</td>\n",
       "      <td>No</td>\n",
       "      <td>Mailed check</td>\n",
       "      <td>56.95</td>\n",
       "      <td>1889.5</td>\n",
       "      <td>No</td>\n",
       "      <td>Male</td>\n",
       "      <td>...</td>\n",
       "      <td>No</td>\n",
       "      <td>No</td>\n",
       "      <td>No</td>\n",
       "      <td>DSL</td>\n",
       "      <td>Yes</td>\n",
       "      <td>No</td>\n",
       "      <td>Yes</td>\n",
       "      <td>No</td>\n",
       "      <td>No</td>\n",
       "      <td>No</td>\n",
       "    </tr>\n",
       "    <tr>\n",
       "      <th>2</th>\n",
       "      <td>3668-QPYBK</td>\n",
       "      <td>2</td>\n",
       "      <td>Yes</td>\n",
       "      <td>Month-to-month</td>\n",
       "      <td>Yes</td>\n",
       "      <td>Mailed check</td>\n",
       "      <td>53.85</td>\n",
       "      <td>108.15</td>\n",
       "      <td>Yes</td>\n",
       "      <td>Male</td>\n",
       "      <td>...</td>\n",
       "      <td>No</td>\n",
       "      <td>No</td>\n",
       "      <td>No</td>\n",
       "      <td>DSL</td>\n",
       "      <td>Yes</td>\n",
       "      <td>Yes</td>\n",
       "      <td>No</td>\n",
       "      <td>No</td>\n",
       "      <td>No</td>\n",
       "      <td>No</td>\n",
       "    </tr>\n",
       "    <tr>\n",
       "      <th>3</th>\n",
       "      <td>7795-CFOCW</td>\n",
       "      <td>45</td>\n",
       "      <td>No</td>\n",
       "      <td>One year</td>\n",
       "      <td>No</td>\n",
       "      <td>Bank transfer (automatic)</td>\n",
       "      <td>42.30</td>\n",
       "      <td>1840.75</td>\n",
       "      <td>No</td>\n",
       "      <td>Male</td>\n",
       "      <td>...</td>\n",
       "      <td>No</td>\n",
       "      <td>No</td>\n",
       "      <td>No phone service</td>\n",
       "      <td>DSL</td>\n",
       "      <td>Yes</td>\n",
       "      <td>No</td>\n",
       "      <td>Yes</td>\n",
       "      <td>Yes</td>\n",
       "      <td>No</td>\n",
       "      <td>No</td>\n",
       "    </tr>\n",
       "    <tr>\n",
       "      <th>4</th>\n",
       "      <td>9237-HQITU</td>\n",
       "      <td>2</td>\n",
       "      <td>Yes</td>\n",
       "      <td>Month-to-month</td>\n",
       "      <td>Yes</td>\n",
       "      <td>Electronic check</td>\n",
       "      <td>70.70</td>\n",
       "      <td>151.65</td>\n",
       "      <td>Yes</td>\n",
       "      <td>Female</td>\n",
       "      <td>...</td>\n",
       "      <td>No</td>\n",
       "      <td>No</td>\n",
       "      <td>No</td>\n",
       "      <td>Fiber optic</td>\n",
       "      <td>No</td>\n",
       "      <td>No</td>\n",
       "      <td>No</td>\n",
       "      <td>No</td>\n",
       "      <td>No</td>\n",
       "      <td>No</td>\n",
       "    </tr>\n",
       "  </tbody>\n",
       "</table>\n",
       "<p>5 rows × 21 columns</p>\n",
       "</div>"
      ],
      "text/plain": [
       "   customerID  tenure PhoneService        Contract PaperlessBilling  \\\n",
       "0  7590-VHVEG       1           No  Month-to-month              Yes   \n",
       "1  5575-GNVDE      34          Yes        One year               No   \n",
       "2  3668-QPYBK       2          Yes  Month-to-month              Yes   \n",
       "3  7795-CFOCW      45           No        One year               No   \n",
       "4  9237-HQITU       2          Yes  Month-to-month              Yes   \n",
       "\n",
       "               PaymentMethod  MonthlyCharges TotalCharges Churn  gender  ...  \\\n",
       "0           Electronic check           29.85        29.85    No  Female  ...   \n",
       "1               Mailed check           56.95       1889.5    No    Male  ...   \n",
       "2               Mailed check           53.85       108.15   Yes    Male  ...   \n",
       "3  Bank transfer (automatic)           42.30      1840.75    No    Male  ...   \n",
       "4           Electronic check           70.70       151.65   Yes  Female  ...   \n",
       "\n",
       "   Partner Dependents     MultipleLines InternetService OnlineSecurity  \\\n",
       "0      Yes         No  No phone service             DSL             No   \n",
       "1       No         No                No             DSL            Yes   \n",
       "2       No         No                No             DSL            Yes   \n",
       "3       No         No  No phone service             DSL            Yes   \n",
       "4       No         No                No     Fiber optic             No   \n",
       "\n",
       "  OnlineBackup DeviceProtection TechSupport StreamingTV StreamingMovies  \n",
       "0          Yes               No          No          No              No  \n",
       "1           No              Yes          No          No              No  \n",
       "2          Yes               No          No          No              No  \n",
       "3           No              Yes         Yes          No              No  \n",
       "4           No               No          No          No              No  \n",
       "\n",
       "[5 rows x 21 columns]"
      ]
     },
     "execution_count": 109,
     "metadata": {},
     "output_type": "execute_result"
    }
   ],
   "source": [
    "telecom.head()"
   ]
  },
  {
   "cell_type": "code",
   "execution_count": 110,
   "id": "c2aa7081-00a7-490a-a0bc-37acb1c7823e",
   "metadata": {},
   "outputs": [
    {
     "data": {
      "text/plain": [
       "(7043, 21)"
      ]
     },
     "execution_count": 110,
     "metadata": {},
     "output_type": "execute_result"
    }
   ],
   "source": [
    "telecom.shape"
   ]
  },
  {
   "cell_type": "code",
   "execution_count": 111,
   "id": "b97aee61-c0a2-4d30-a9ec-3f894d83a709",
   "metadata": {},
   "outputs": [
    {
     "data": {
      "text/html": [
       "<div>\n",
       "<style scoped>\n",
       "    .dataframe tbody tr th:only-of-type {\n",
       "        vertical-align: middle;\n",
       "    }\n",
       "\n",
       "    .dataframe tbody tr th {\n",
       "        vertical-align: top;\n",
       "    }\n",
       "\n",
       "    .dataframe thead th {\n",
       "        text-align: right;\n",
       "    }\n",
       "</style>\n",
       "<table border=\"1\" class=\"dataframe\">\n",
       "  <thead>\n",
       "    <tr style=\"text-align: right;\">\n",
       "      <th></th>\n",
       "      <th>tenure</th>\n",
       "      <th>MonthlyCharges</th>\n",
       "      <th>SeniorCitizen</th>\n",
       "    </tr>\n",
       "  </thead>\n",
       "  <tbody>\n",
       "    <tr>\n",
       "      <th>count</th>\n",
       "      <td>7043.000000</td>\n",
       "      <td>7043.000000</td>\n",
       "      <td>7043.000000</td>\n",
       "    </tr>\n",
       "    <tr>\n",
       "      <th>mean</th>\n",
       "      <td>32.371149</td>\n",
       "      <td>64.761692</td>\n",
       "      <td>0.162147</td>\n",
       "    </tr>\n",
       "    <tr>\n",
       "      <th>std</th>\n",
       "      <td>24.559481</td>\n",
       "      <td>30.090047</td>\n",
       "      <td>0.368612</td>\n",
       "    </tr>\n",
       "    <tr>\n",
       "      <th>min</th>\n",
       "      <td>0.000000</td>\n",
       "      <td>18.250000</td>\n",
       "      <td>0.000000</td>\n",
       "    </tr>\n",
       "    <tr>\n",
       "      <th>25%</th>\n",
       "      <td>9.000000</td>\n",
       "      <td>35.500000</td>\n",
       "      <td>0.000000</td>\n",
       "    </tr>\n",
       "    <tr>\n",
       "      <th>50%</th>\n",
       "      <td>29.000000</td>\n",
       "      <td>70.350000</td>\n",
       "      <td>0.000000</td>\n",
       "    </tr>\n",
       "    <tr>\n",
       "      <th>75%</th>\n",
       "      <td>55.000000</td>\n",
       "      <td>89.850000</td>\n",
       "      <td>0.000000</td>\n",
       "    </tr>\n",
       "    <tr>\n",
       "      <th>max</th>\n",
       "      <td>72.000000</td>\n",
       "      <td>118.750000</td>\n",
       "      <td>1.000000</td>\n",
       "    </tr>\n",
       "  </tbody>\n",
       "</table>\n",
       "</div>"
      ],
      "text/plain": [
       "            tenure  MonthlyCharges  SeniorCitizen\n",
       "count  7043.000000     7043.000000    7043.000000\n",
       "mean     32.371149       64.761692       0.162147\n",
       "std      24.559481       30.090047       0.368612\n",
       "min       0.000000       18.250000       0.000000\n",
       "25%       9.000000       35.500000       0.000000\n",
       "50%      29.000000       70.350000       0.000000\n",
       "75%      55.000000       89.850000       0.000000\n",
       "max      72.000000      118.750000       1.000000"
      ]
     },
     "execution_count": 111,
     "metadata": {},
     "output_type": "execute_result"
    }
   ],
   "source": [
    "telecom.describe()"
   ]
  },
  {
   "cell_type": "code",
   "execution_count": 112,
   "id": "e0065e77-01be-4559-bcd7-622a4748c3bc",
   "metadata": {},
   "outputs": [
    {
     "name": "stdout",
     "output_type": "stream",
     "text": [
      "<class 'pandas.core.frame.DataFrame'>\n",
      "RangeIndex: 7043 entries, 0 to 7042\n",
      "Data columns (total 21 columns):\n",
      " #   Column            Non-Null Count  Dtype  \n",
      "---  ------            --------------  -----  \n",
      " 0   customerID        7043 non-null   object \n",
      " 1   tenure            7043 non-null   int64  \n",
      " 2   PhoneService      7043 non-null   object \n",
      " 3   Contract          7043 non-null   object \n",
      " 4   PaperlessBilling  7043 non-null   object \n",
      " 5   PaymentMethod     7043 non-null   object \n",
      " 6   MonthlyCharges    7043 non-null   float64\n",
      " 7   TotalCharges      7043 non-null   object \n",
      " 8   Churn             7043 non-null   object \n",
      " 9   gender            7043 non-null   object \n",
      " 10  SeniorCitizen     7043 non-null   int64  \n",
      " 11  Partner           7043 non-null   object \n",
      " 12  Dependents        7043 non-null   object \n",
      " 13  MultipleLines     7043 non-null   object \n",
      " 14  InternetService   7043 non-null   object \n",
      " 15  OnlineSecurity    7043 non-null   object \n",
      " 16  OnlineBackup      7043 non-null   object \n",
      " 17  DeviceProtection  7043 non-null   object \n",
      " 18  TechSupport       7043 non-null   object \n",
      " 19  StreamingTV       7043 non-null   object \n",
      " 20  StreamingMovies   7043 non-null   object \n",
      "dtypes: float64(1), int64(2), object(18)\n",
      "memory usage: 1.1+ MB\n"
     ]
    }
   ],
   "source": [
    "telecom.info()"
   ]
  },
  {
   "cell_type": "markdown",
   "id": "8fbaa5fc-947c-4516-a678-c46d518a3bc1",
   "metadata": {},
   "source": [
    "### STEP 3: DATA PREPARATION"
   ]
  },
  {
   "cell_type": "markdown",
   "id": "bef80964-4e7e-448e-b5c3-6835d03a5d27",
   "metadata": {},
   "source": [
    "##### Converting some binary variables into 1/0"
   ]
  },
  {
   "cell_type": "code",
   "execution_count": 113,
   "id": "01e619f3-90f1-4149-adf2-c58f0d923fa7",
   "metadata": {},
   "outputs": [],
   "source": [
    "#list of variables to map\n",
    "varlist = ['PhoneService','PaperlessBilling','Churn','Partner','Dependents']\n",
    "\n",
    "## applying the function to the housing list\n",
    "telecom[varlist] = telecom[varlist].apply(lambda x:x.map({'Yes':1,'No':0}))"
   ]
  },
  {
   "cell_type": "code",
   "execution_count": 114,
   "id": "814535ce-3aaf-4893-8016-a959a0c0376b",
   "metadata": {},
   "outputs": [
    {
     "data": {
      "text/html": [
       "<div>\n",
       "<style scoped>\n",
       "    .dataframe tbody tr th:only-of-type {\n",
       "        vertical-align: middle;\n",
       "    }\n",
       "\n",
       "    .dataframe tbody tr th {\n",
       "        vertical-align: top;\n",
       "    }\n",
       "\n",
       "    .dataframe thead th {\n",
       "        text-align: right;\n",
       "    }\n",
       "</style>\n",
       "<table border=\"1\" class=\"dataframe\">\n",
       "  <thead>\n",
       "    <tr style=\"text-align: right;\">\n",
       "      <th></th>\n",
       "      <th>customerID</th>\n",
       "      <th>tenure</th>\n",
       "      <th>PhoneService</th>\n",
       "      <th>Contract</th>\n",
       "      <th>PaperlessBilling</th>\n",
       "      <th>PaymentMethod</th>\n",
       "      <th>MonthlyCharges</th>\n",
       "      <th>TotalCharges</th>\n",
       "      <th>Churn</th>\n",
       "      <th>gender</th>\n",
       "      <th>...</th>\n",
       "      <th>Partner</th>\n",
       "      <th>Dependents</th>\n",
       "      <th>MultipleLines</th>\n",
       "      <th>InternetService</th>\n",
       "      <th>OnlineSecurity</th>\n",
       "      <th>OnlineBackup</th>\n",
       "      <th>DeviceProtection</th>\n",
       "      <th>TechSupport</th>\n",
       "      <th>StreamingTV</th>\n",
       "      <th>StreamingMovies</th>\n",
       "    </tr>\n",
       "  </thead>\n",
       "  <tbody>\n",
       "    <tr>\n",
       "      <th>0</th>\n",
       "      <td>7590-VHVEG</td>\n",
       "      <td>1</td>\n",
       "      <td>0</td>\n",
       "      <td>Month-to-month</td>\n",
       "      <td>1</td>\n",
       "      <td>Electronic check</td>\n",
       "      <td>29.85</td>\n",
       "      <td>29.85</td>\n",
       "      <td>0</td>\n",
       "      <td>Female</td>\n",
       "      <td>...</td>\n",
       "      <td>1</td>\n",
       "      <td>0</td>\n",
       "      <td>No phone service</td>\n",
       "      <td>DSL</td>\n",
       "      <td>No</td>\n",
       "      <td>Yes</td>\n",
       "      <td>No</td>\n",
       "      <td>No</td>\n",
       "      <td>No</td>\n",
       "      <td>No</td>\n",
       "    </tr>\n",
       "    <tr>\n",
       "      <th>1</th>\n",
       "      <td>5575-GNVDE</td>\n",
       "      <td>34</td>\n",
       "      <td>1</td>\n",
       "      <td>One year</td>\n",
       "      <td>0</td>\n",
       "      <td>Mailed check</td>\n",
       "      <td>56.95</td>\n",
       "      <td>1889.5</td>\n",
       "      <td>0</td>\n",
       "      <td>Male</td>\n",
       "      <td>...</td>\n",
       "      <td>0</td>\n",
       "      <td>0</td>\n",
       "      <td>No</td>\n",
       "      <td>DSL</td>\n",
       "      <td>Yes</td>\n",
       "      <td>No</td>\n",
       "      <td>Yes</td>\n",
       "      <td>No</td>\n",
       "      <td>No</td>\n",
       "      <td>No</td>\n",
       "    </tr>\n",
       "    <tr>\n",
       "      <th>2</th>\n",
       "      <td>3668-QPYBK</td>\n",
       "      <td>2</td>\n",
       "      <td>1</td>\n",
       "      <td>Month-to-month</td>\n",
       "      <td>1</td>\n",
       "      <td>Mailed check</td>\n",
       "      <td>53.85</td>\n",
       "      <td>108.15</td>\n",
       "      <td>1</td>\n",
       "      <td>Male</td>\n",
       "      <td>...</td>\n",
       "      <td>0</td>\n",
       "      <td>0</td>\n",
       "      <td>No</td>\n",
       "      <td>DSL</td>\n",
       "      <td>Yes</td>\n",
       "      <td>Yes</td>\n",
       "      <td>No</td>\n",
       "      <td>No</td>\n",
       "      <td>No</td>\n",
       "      <td>No</td>\n",
       "    </tr>\n",
       "    <tr>\n",
       "      <th>3</th>\n",
       "      <td>7795-CFOCW</td>\n",
       "      <td>45</td>\n",
       "      <td>0</td>\n",
       "      <td>One year</td>\n",
       "      <td>0</td>\n",
       "      <td>Bank transfer (automatic)</td>\n",
       "      <td>42.30</td>\n",
       "      <td>1840.75</td>\n",
       "      <td>0</td>\n",
       "      <td>Male</td>\n",
       "      <td>...</td>\n",
       "      <td>0</td>\n",
       "      <td>0</td>\n",
       "      <td>No phone service</td>\n",
       "      <td>DSL</td>\n",
       "      <td>Yes</td>\n",
       "      <td>No</td>\n",
       "      <td>Yes</td>\n",
       "      <td>Yes</td>\n",
       "      <td>No</td>\n",
       "      <td>No</td>\n",
       "    </tr>\n",
       "    <tr>\n",
       "      <th>4</th>\n",
       "      <td>9237-HQITU</td>\n",
       "      <td>2</td>\n",
       "      <td>1</td>\n",
       "      <td>Month-to-month</td>\n",
       "      <td>1</td>\n",
       "      <td>Electronic check</td>\n",
       "      <td>70.70</td>\n",
       "      <td>151.65</td>\n",
       "      <td>1</td>\n",
       "      <td>Female</td>\n",
       "      <td>...</td>\n",
       "      <td>0</td>\n",
       "      <td>0</td>\n",
       "      <td>No</td>\n",
       "      <td>Fiber optic</td>\n",
       "      <td>No</td>\n",
       "      <td>No</td>\n",
       "      <td>No</td>\n",
       "      <td>No</td>\n",
       "      <td>No</td>\n",
       "      <td>No</td>\n",
       "    </tr>\n",
       "  </tbody>\n",
       "</table>\n",
       "<p>5 rows × 21 columns</p>\n",
       "</div>"
      ],
      "text/plain": [
       "   customerID  tenure  PhoneService        Contract  PaperlessBilling  \\\n",
       "0  7590-VHVEG       1             0  Month-to-month                 1   \n",
       "1  5575-GNVDE      34             1        One year                 0   \n",
       "2  3668-QPYBK       2             1  Month-to-month                 1   \n",
       "3  7795-CFOCW      45             0        One year                 0   \n",
       "4  9237-HQITU       2             1  Month-to-month                 1   \n",
       "\n",
       "               PaymentMethod  MonthlyCharges TotalCharges  Churn  gender  ...  \\\n",
       "0           Electronic check           29.85        29.85      0  Female  ...   \n",
       "1               Mailed check           56.95       1889.5      0    Male  ...   \n",
       "2               Mailed check           53.85       108.15      1    Male  ...   \n",
       "3  Bank transfer (automatic)           42.30      1840.75      0    Male  ...   \n",
       "4           Electronic check           70.70       151.65      1  Female  ...   \n",
       "\n",
       "   Partner  Dependents     MultipleLines InternetService OnlineSecurity  \\\n",
       "0        1           0  No phone service             DSL             No   \n",
       "1        0           0                No             DSL            Yes   \n",
       "2        0           0                No             DSL            Yes   \n",
       "3        0           0  No phone service             DSL            Yes   \n",
       "4        0           0                No     Fiber optic             No   \n",
       "\n",
       "  OnlineBackup DeviceProtection TechSupport StreamingTV StreamingMovies  \n",
       "0          Yes               No          No          No              No  \n",
       "1           No              Yes          No          No              No  \n",
       "2          Yes               No          No          No              No  \n",
       "3           No              Yes         Yes          No              No  \n",
       "4           No               No          No          No              No  \n",
       "\n",
       "[5 rows x 21 columns]"
      ]
     },
     "execution_count": 114,
     "metadata": {},
     "output_type": "execute_result"
    }
   ],
   "source": [
    "telecom.head()"
   ]
  },
  {
   "cell_type": "markdown",
   "id": "dc99822c-ea0c-4e36-8194-db2e0e5dc804",
   "metadata": {},
   "source": [
    "### For categorical variables with multiple levels , create dummy features (one-hot encoded)"
   ]
  },
  {
   "cell_type": "code",
   "execution_count": 115,
   "id": "5826125d-8171-442d-b4fd-165e134b22e3",
   "metadata": {},
   "outputs": [],
   "source": [
    "#Creating a dummy variable for some of the categorical variables and dropping the first one\n",
    "dummy_1= pd.get_dummies(telecom[['Contract','PaymentMethod','gender','InternetService']],drop_first=True,dtype=int)\n",
    "\n",
    "## Adding the results to the master dataframe\n",
    "telecom = pd.concat([telecom,dummy_1],axis=1)"
   ]
  },
  {
   "cell_type": "code",
   "execution_count": 116,
   "id": "76982fdc-b462-41fd-a58b-439553e1b2da",
   "metadata": {},
   "outputs": [
    {
     "data": {
      "text/html": [
       "<div>\n",
       "<style scoped>\n",
       "    .dataframe tbody tr th:only-of-type {\n",
       "        vertical-align: middle;\n",
       "    }\n",
       "\n",
       "    .dataframe tbody tr th {\n",
       "        vertical-align: top;\n",
       "    }\n",
       "\n",
       "    .dataframe thead th {\n",
       "        text-align: right;\n",
       "    }\n",
       "</style>\n",
       "<table border=\"1\" class=\"dataframe\">\n",
       "  <thead>\n",
       "    <tr style=\"text-align: right;\">\n",
       "      <th></th>\n",
       "      <th>customerID</th>\n",
       "      <th>tenure</th>\n",
       "      <th>PhoneService</th>\n",
       "      <th>Contract</th>\n",
       "      <th>PaperlessBilling</th>\n",
       "      <th>PaymentMethod</th>\n",
       "      <th>MonthlyCharges</th>\n",
       "      <th>TotalCharges</th>\n",
       "      <th>Churn</th>\n",
       "      <th>gender</th>\n",
       "      <th>...</th>\n",
       "      <th>StreamingTV</th>\n",
       "      <th>StreamingMovies</th>\n",
       "      <th>Contract_One year</th>\n",
       "      <th>Contract_Two year</th>\n",
       "      <th>PaymentMethod_Credit card (automatic)</th>\n",
       "      <th>PaymentMethod_Electronic check</th>\n",
       "      <th>PaymentMethod_Mailed check</th>\n",
       "      <th>gender_Male</th>\n",
       "      <th>InternetService_Fiber optic</th>\n",
       "      <th>InternetService_No</th>\n",
       "    </tr>\n",
       "  </thead>\n",
       "  <tbody>\n",
       "    <tr>\n",
       "      <th>0</th>\n",
       "      <td>7590-VHVEG</td>\n",
       "      <td>1</td>\n",
       "      <td>0</td>\n",
       "      <td>Month-to-month</td>\n",
       "      <td>1</td>\n",
       "      <td>Electronic check</td>\n",
       "      <td>29.85</td>\n",
       "      <td>29.85</td>\n",
       "      <td>0</td>\n",
       "      <td>Female</td>\n",
       "      <td>...</td>\n",
       "      <td>No</td>\n",
       "      <td>No</td>\n",
       "      <td>0</td>\n",
       "      <td>0</td>\n",
       "      <td>0</td>\n",
       "      <td>1</td>\n",
       "      <td>0</td>\n",
       "      <td>0</td>\n",
       "      <td>0</td>\n",
       "      <td>0</td>\n",
       "    </tr>\n",
       "    <tr>\n",
       "      <th>1</th>\n",
       "      <td>5575-GNVDE</td>\n",
       "      <td>34</td>\n",
       "      <td>1</td>\n",
       "      <td>One year</td>\n",
       "      <td>0</td>\n",
       "      <td>Mailed check</td>\n",
       "      <td>56.95</td>\n",
       "      <td>1889.5</td>\n",
       "      <td>0</td>\n",
       "      <td>Male</td>\n",
       "      <td>...</td>\n",
       "      <td>No</td>\n",
       "      <td>No</td>\n",
       "      <td>1</td>\n",
       "      <td>0</td>\n",
       "      <td>0</td>\n",
       "      <td>0</td>\n",
       "      <td>1</td>\n",
       "      <td>1</td>\n",
       "      <td>0</td>\n",
       "      <td>0</td>\n",
       "    </tr>\n",
       "    <tr>\n",
       "      <th>2</th>\n",
       "      <td>3668-QPYBK</td>\n",
       "      <td>2</td>\n",
       "      <td>1</td>\n",
       "      <td>Month-to-month</td>\n",
       "      <td>1</td>\n",
       "      <td>Mailed check</td>\n",
       "      <td>53.85</td>\n",
       "      <td>108.15</td>\n",
       "      <td>1</td>\n",
       "      <td>Male</td>\n",
       "      <td>...</td>\n",
       "      <td>No</td>\n",
       "      <td>No</td>\n",
       "      <td>0</td>\n",
       "      <td>0</td>\n",
       "      <td>0</td>\n",
       "      <td>0</td>\n",
       "      <td>1</td>\n",
       "      <td>1</td>\n",
       "      <td>0</td>\n",
       "      <td>0</td>\n",
       "    </tr>\n",
       "    <tr>\n",
       "      <th>3</th>\n",
       "      <td>7795-CFOCW</td>\n",
       "      <td>45</td>\n",
       "      <td>0</td>\n",
       "      <td>One year</td>\n",
       "      <td>0</td>\n",
       "      <td>Bank transfer (automatic)</td>\n",
       "      <td>42.30</td>\n",
       "      <td>1840.75</td>\n",
       "      <td>0</td>\n",
       "      <td>Male</td>\n",
       "      <td>...</td>\n",
       "      <td>No</td>\n",
       "      <td>No</td>\n",
       "      <td>1</td>\n",
       "      <td>0</td>\n",
       "      <td>0</td>\n",
       "      <td>0</td>\n",
       "      <td>0</td>\n",
       "      <td>1</td>\n",
       "      <td>0</td>\n",
       "      <td>0</td>\n",
       "    </tr>\n",
       "    <tr>\n",
       "      <th>4</th>\n",
       "      <td>9237-HQITU</td>\n",
       "      <td>2</td>\n",
       "      <td>1</td>\n",
       "      <td>Month-to-month</td>\n",
       "      <td>1</td>\n",
       "      <td>Electronic check</td>\n",
       "      <td>70.70</td>\n",
       "      <td>151.65</td>\n",
       "      <td>1</td>\n",
       "      <td>Female</td>\n",
       "      <td>...</td>\n",
       "      <td>No</td>\n",
       "      <td>No</td>\n",
       "      <td>0</td>\n",
       "      <td>0</td>\n",
       "      <td>0</td>\n",
       "      <td>1</td>\n",
       "      <td>0</td>\n",
       "      <td>0</td>\n",
       "      <td>1</td>\n",
       "      <td>0</td>\n",
       "    </tr>\n",
       "  </tbody>\n",
       "</table>\n",
       "<p>5 rows × 29 columns</p>\n",
       "</div>"
      ],
      "text/plain": [
       "   customerID  tenure  PhoneService        Contract  PaperlessBilling  \\\n",
       "0  7590-VHVEG       1             0  Month-to-month                 1   \n",
       "1  5575-GNVDE      34             1        One year                 0   \n",
       "2  3668-QPYBK       2             1  Month-to-month                 1   \n",
       "3  7795-CFOCW      45             0        One year                 0   \n",
       "4  9237-HQITU       2             1  Month-to-month                 1   \n",
       "\n",
       "               PaymentMethod  MonthlyCharges TotalCharges  Churn  gender  ...  \\\n",
       "0           Electronic check           29.85        29.85      0  Female  ...   \n",
       "1               Mailed check           56.95       1889.5      0    Male  ...   \n",
       "2               Mailed check           53.85       108.15      1    Male  ...   \n",
       "3  Bank transfer (automatic)           42.30      1840.75      0    Male  ...   \n",
       "4           Electronic check           70.70       151.65      1  Female  ...   \n",
       "\n",
       "   StreamingTV  StreamingMovies  Contract_One year Contract_Two year  \\\n",
       "0           No               No                  0                 0   \n",
       "1           No               No                  1                 0   \n",
       "2           No               No                  0                 0   \n",
       "3           No               No                  1                 0   \n",
       "4           No               No                  0                 0   \n",
       "\n",
       "  PaymentMethod_Credit card (automatic) PaymentMethod_Electronic check  \\\n",
       "0                                     0                              1   \n",
       "1                                     0                              0   \n",
       "2                                     0                              0   \n",
       "3                                     0                              0   \n",
       "4                                     0                              1   \n",
       "\n",
       "  PaymentMethod_Mailed check gender_Male InternetService_Fiber optic  \\\n",
       "0                          0           0                           0   \n",
       "1                          1           1                           0   \n",
       "2                          1           1                           0   \n",
       "3                          0           1                           0   \n",
       "4                          0           0                           1   \n",
       "\n",
       "  InternetService_No  \n",
       "0                  0  \n",
       "1                  0  \n",
       "2                  0  \n",
       "3                  0  \n",
       "4                  0  \n",
       "\n",
       "[5 rows x 29 columns]"
      ]
     },
     "execution_count": 116,
     "metadata": {},
     "output_type": "execute_result"
    }
   ],
   "source": [
    "telecom.head()"
   ]
  },
  {
   "cell_type": "code",
   "execution_count": 119,
   "id": "3d7e78f4-ca4e-4e9b-aae6-e680bfcb4c65",
   "metadata": {},
   "outputs": [],
   "source": [
    "# Creating dummy variables for the remaining categorical variables and dropping the level with big names.\n",
    "\n",
    "# Creatiang dummy variables for the variable 'MultipleLines'\n",
    "ml = pd.get_dummies(telecom['MultipleLines'], prefix='MultipleLines',dtype=int)\n",
    "# Dropping MultipleLines_No phone service column\n",
    "ml1 = ml.drop(['MultipleLines_No phone service'],axis=1)\n",
    "#Adding the results to the master dataframe\n",
    "telecom = pd.concat([telecom,ml1], axis=1)\n",
    "\n",
    "# Creating dummy variables for the variable 'OnlineSecurity'.\n",
    "os = pd.get_dummies(telecom['OnlineSecurity'], prefix='OnlineSecurity',dtype=int)\n",
    "os1 = os.drop(['OnlineSecurity_No internet service'],axis=1)\n",
    "# Adding the results to the master dataframe\n",
    "telecom = pd.concat([telecom,os1], axis=1)\n",
    "\n",
    "# Creating dummy variables for the variable 'OnlineBackup'.\n",
    "ob = pd.get_dummies(telecom['OnlineBackup'], prefix='OnlineBackup',dtype=int)\n",
    "ob1 = ob.drop(['OnlineBackup_No internet service'],axis=1)\n",
    "# Adding the results to the master dataframe\n",
    "telecom = pd.concat([telecom,ob1], axis=1)\n",
    "\n",
    "# Creating dummy variables for the variable 'DeviceProtection'. \n",
    "dp = pd.get_dummies(telecom['DeviceProtection'], prefix='DeviceProtection',dtype=int)\n",
    "dp1 = dp.drop(['DeviceProtection_No internet service'],axis=1)\n",
    "# Adding the results to the master dataframe\n",
    "telecom = pd.concat([telecom,dp1], axis=1)\n",
    "\n",
    "# Creating dummy variables for the variable 'TechSupport'. \n",
    "ts = pd.get_dummies(telecom['TechSupport'], prefix='TechSupport',dtype=int)\n",
    "ts1 = ts.drop(['TechSupport_No internet service'],axis=1)\n",
    "# Adding the results to the master dataframe\n",
    "telecom = pd.concat([telecom,ts1], axis=1)\n",
    "\n",
    "# Creating dummy variables for the variable 'StreamingTV'.\n",
    "st =pd.get_dummies(telecom['StreamingTV'], prefix='StreamingTV',dtype=int)\n",
    "st1 = st.drop(['StreamingTV_No internet service'],axis=1)\n",
    "# Adding the results to the master dataframe\n",
    "telecom = pd.concat([telecom,st1], axis=1)\n",
    "\n",
    "# Creating dummy variables for the variable 'StreamingMovies'. \n",
    "sm = pd.get_dummies(telecom['StreamingMovies'], prefix='StreamingMovies',dtype=int)\n",
    "sm1 = sm.drop(['StreamingMovies_No internet service'],axis=1)\n",
    "# Adding the results to the master dataframe\n",
    "telecom = pd.concat([telecom,sm1], axis=1)"
   ]
  },
  {
   "cell_type": "code",
   "execution_count": 120,
   "id": "1e8929ff-babc-4ee7-9b5d-c07612ce9ebb",
   "metadata": {},
   "outputs": [
    {
     "data": {
      "text/html": [
       "<div>\n",
       "<style scoped>\n",
       "    .dataframe tbody tr th:only-of-type {\n",
       "        vertical-align: middle;\n",
       "    }\n",
       "\n",
       "    .dataframe tbody tr th {\n",
       "        vertical-align: top;\n",
       "    }\n",
       "\n",
       "    .dataframe thead th {\n",
       "        text-align: right;\n",
       "    }\n",
       "</style>\n",
       "<table border=\"1\" class=\"dataframe\">\n",
       "  <thead>\n",
       "    <tr style=\"text-align: right;\">\n",
       "      <th></th>\n",
       "      <th>customerID</th>\n",
       "      <th>tenure</th>\n",
       "      <th>PhoneService</th>\n",
       "      <th>Contract</th>\n",
       "      <th>PaperlessBilling</th>\n",
       "      <th>PaymentMethod</th>\n",
       "      <th>MonthlyCharges</th>\n",
       "      <th>TotalCharges</th>\n",
       "      <th>Churn</th>\n",
       "      <th>gender</th>\n",
       "      <th>...</th>\n",
       "      <th>OnlineBackup_No</th>\n",
       "      <th>OnlineBackup_Yes</th>\n",
       "      <th>DeviceProtection_No</th>\n",
       "      <th>DeviceProtection_Yes</th>\n",
       "      <th>TechSupport_No</th>\n",
       "      <th>TechSupport_Yes</th>\n",
       "      <th>StreamingTV_No</th>\n",
       "      <th>StreamingTV_Yes</th>\n",
       "      <th>StreamingMovies_No</th>\n",
       "      <th>StreamingMovies_Yes</th>\n",
       "    </tr>\n",
       "  </thead>\n",
       "  <tbody>\n",
       "    <tr>\n",
       "      <th>0</th>\n",
       "      <td>7590-VHVEG</td>\n",
       "      <td>1</td>\n",
       "      <td>0</td>\n",
       "      <td>Month-to-month</td>\n",
       "      <td>1</td>\n",
       "      <td>Electronic check</td>\n",
       "      <td>29.85</td>\n",
       "      <td>29.85</td>\n",
       "      <td>0</td>\n",
       "      <td>Female</td>\n",
       "      <td>...</td>\n",
       "      <td>0</td>\n",
       "      <td>1</td>\n",
       "      <td>1</td>\n",
       "      <td>0</td>\n",
       "      <td>1</td>\n",
       "      <td>0</td>\n",
       "      <td>1</td>\n",
       "      <td>0</td>\n",
       "      <td>1</td>\n",
       "      <td>0</td>\n",
       "    </tr>\n",
       "    <tr>\n",
       "      <th>1</th>\n",
       "      <td>5575-GNVDE</td>\n",
       "      <td>34</td>\n",
       "      <td>1</td>\n",
       "      <td>One year</td>\n",
       "      <td>0</td>\n",
       "      <td>Mailed check</td>\n",
       "      <td>56.95</td>\n",
       "      <td>1889.5</td>\n",
       "      <td>0</td>\n",
       "      <td>Male</td>\n",
       "      <td>...</td>\n",
       "      <td>1</td>\n",
       "      <td>0</td>\n",
       "      <td>0</td>\n",
       "      <td>1</td>\n",
       "      <td>1</td>\n",
       "      <td>0</td>\n",
       "      <td>1</td>\n",
       "      <td>0</td>\n",
       "      <td>1</td>\n",
       "      <td>0</td>\n",
       "    </tr>\n",
       "    <tr>\n",
       "      <th>2</th>\n",
       "      <td>3668-QPYBK</td>\n",
       "      <td>2</td>\n",
       "      <td>1</td>\n",
       "      <td>Month-to-month</td>\n",
       "      <td>1</td>\n",
       "      <td>Mailed check</td>\n",
       "      <td>53.85</td>\n",
       "      <td>108.15</td>\n",
       "      <td>1</td>\n",
       "      <td>Male</td>\n",
       "      <td>...</td>\n",
       "      <td>0</td>\n",
       "      <td>1</td>\n",
       "      <td>1</td>\n",
       "      <td>0</td>\n",
       "      <td>1</td>\n",
       "      <td>0</td>\n",
       "      <td>1</td>\n",
       "      <td>0</td>\n",
       "      <td>1</td>\n",
       "      <td>0</td>\n",
       "    </tr>\n",
       "    <tr>\n",
       "      <th>3</th>\n",
       "      <td>7795-CFOCW</td>\n",
       "      <td>45</td>\n",
       "      <td>0</td>\n",
       "      <td>One year</td>\n",
       "      <td>0</td>\n",
       "      <td>Bank transfer (automatic)</td>\n",
       "      <td>42.30</td>\n",
       "      <td>1840.75</td>\n",
       "      <td>0</td>\n",
       "      <td>Male</td>\n",
       "      <td>...</td>\n",
       "      <td>1</td>\n",
       "      <td>0</td>\n",
       "      <td>0</td>\n",
       "      <td>1</td>\n",
       "      <td>0</td>\n",
       "      <td>1</td>\n",
       "      <td>1</td>\n",
       "      <td>0</td>\n",
       "      <td>1</td>\n",
       "      <td>0</td>\n",
       "    </tr>\n",
       "    <tr>\n",
       "      <th>4</th>\n",
       "      <td>9237-HQITU</td>\n",
       "      <td>2</td>\n",
       "      <td>1</td>\n",
       "      <td>Month-to-month</td>\n",
       "      <td>1</td>\n",
       "      <td>Electronic check</td>\n",
       "      <td>70.70</td>\n",
       "      <td>151.65</td>\n",
       "      <td>1</td>\n",
       "      <td>Female</td>\n",
       "      <td>...</td>\n",
       "      <td>1</td>\n",
       "      <td>0</td>\n",
       "      <td>1</td>\n",
       "      <td>0</td>\n",
       "      <td>1</td>\n",
       "      <td>0</td>\n",
       "      <td>1</td>\n",
       "      <td>0</td>\n",
       "      <td>1</td>\n",
       "      <td>0</td>\n",
       "    </tr>\n",
       "  </tbody>\n",
       "</table>\n",
       "<p>5 rows × 43 columns</p>\n",
       "</div>"
      ],
      "text/plain": [
       "   customerID  tenure  PhoneService        Contract  PaperlessBilling  \\\n",
       "0  7590-VHVEG       1             0  Month-to-month                 1   \n",
       "1  5575-GNVDE      34             1        One year                 0   \n",
       "2  3668-QPYBK       2             1  Month-to-month                 1   \n",
       "3  7795-CFOCW      45             0        One year                 0   \n",
       "4  9237-HQITU       2             1  Month-to-month                 1   \n",
       "\n",
       "               PaymentMethod  MonthlyCharges TotalCharges  Churn  gender  ...  \\\n",
       "0           Electronic check           29.85        29.85      0  Female  ...   \n",
       "1               Mailed check           56.95       1889.5      0    Male  ...   \n",
       "2               Mailed check           53.85       108.15      1    Male  ...   \n",
       "3  Bank transfer (automatic)           42.30      1840.75      0    Male  ...   \n",
       "4           Electronic check           70.70       151.65      1  Female  ...   \n",
       "\n",
       "   OnlineBackup_No  OnlineBackup_Yes  DeviceProtection_No  \\\n",
       "0                0                 1                    1   \n",
       "1                1                 0                    0   \n",
       "2                0                 1                    1   \n",
       "3                1                 0                    0   \n",
       "4                1                 0                    1   \n",
       "\n",
       "  DeviceProtection_Yes TechSupport_No TechSupport_Yes StreamingTV_No  \\\n",
       "0                    0              1               0              1   \n",
       "1                    1              1               0              1   \n",
       "2                    0              1               0              1   \n",
       "3                    1              0               1              1   \n",
       "4                    0              1               0              1   \n",
       "\n",
       "  StreamingTV_Yes StreamingMovies_No StreamingMovies_Yes  \n",
       "0               0                  1                   0  \n",
       "1               0                  1                   0  \n",
       "2               0                  1                   0  \n",
       "3               0                  1                   0  \n",
       "4               0                  1                   0  \n",
       "\n",
       "[5 rows x 43 columns]"
      ]
     },
     "execution_count": 120,
     "metadata": {},
     "output_type": "execute_result"
    }
   ],
   "source": [
    "telecom.head()"
   ]
  },
  {
   "cell_type": "markdown",
   "id": "03dac7b1-3eaf-43fd-83b6-8567669f4916",
   "metadata": {},
   "source": [
    "### Dropping the repeated variables"
   ]
  },
  {
   "cell_type": "code",
   "execution_count": 121,
   "id": "0c8397b2-51b7-4d40-ba8f-0cf3358fa800",
   "metadata": {},
   "outputs": [],
   "source": [
    "# We have created dummies for the below variables, so we can drop them\n",
    "telecom = telecom.drop(['Contract','PaymentMethod','gender','MultipleLines','InternetService', 'OnlineSecurity', 'OnlineBackup', 'DeviceProtection',\n",
    "       'TechSupport', 'StreamingTV', 'StreamingMovies'], axis=1)"
   ]
  },
  {
   "cell_type": "code",
   "execution_count": 122,
   "id": "bb5b4bee-b38a-43a0-827b-df827d4e79fb",
   "metadata": {},
   "outputs": [],
   "source": [
    "#The varaible was imported as a string we need to convert it to float\n",
    "telecom['TotalCharges'] = pd.to_numeric(telecom['TotalCharges'],errors='coerce')"
   ]
  },
  {
   "cell_type": "code",
   "execution_count": 123,
   "id": "4b80982b-b8ea-4191-a8fc-3f14b93f11f0",
   "metadata": {},
   "outputs": [
    {
     "name": "stdout",
     "output_type": "stream",
     "text": [
      "<class 'pandas.core.frame.DataFrame'>\n",
      "RangeIndex: 7043 entries, 0 to 7042\n",
      "Data columns (total 32 columns):\n",
      " #   Column                                 Non-Null Count  Dtype  \n",
      "---  ------                                 --------------  -----  \n",
      " 0   customerID                             7043 non-null   object \n",
      " 1   tenure                                 7043 non-null   int64  \n",
      " 2   PhoneService                           7043 non-null   int64  \n",
      " 3   PaperlessBilling                       7043 non-null   int64  \n",
      " 4   MonthlyCharges                         7043 non-null   float64\n",
      " 5   TotalCharges                           7032 non-null   float64\n",
      " 6   Churn                                  7043 non-null   int64  \n",
      " 7   SeniorCitizen                          7043 non-null   int64  \n",
      " 8   Partner                                7043 non-null   int64  \n",
      " 9   Dependents                             7043 non-null   int64  \n",
      " 10  Contract_One year                      7043 non-null   int32  \n",
      " 11  Contract_Two year                      7043 non-null   int32  \n",
      " 12  PaymentMethod_Credit card (automatic)  7043 non-null   int32  \n",
      " 13  PaymentMethod_Electronic check         7043 non-null   int32  \n",
      " 14  PaymentMethod_Mailed check             7043 non-null   int32  \n",
      " 15  gender_Male                            7043 non-null   int32  \n",
      " 16  InternetService_Fiber optic            7043 non-null   int32  \n",
      " 17  InternetService_No                     7043 non-null   int32  \n",
      " 18  MultipleLines_No                       7043 non-null   int32  \n",
      " 19  MultipleLines_Yes                      7043 non-null   int32  \n",
      " 20  OnlineSecurity_No                      7043 non-null   int32  \n",
      " 21  OnlineSecurity_Yes                     7043 non-null   int32  \n",
      " 22  OnlineBackup_No                        7043 non-null   int32  \n",
      " 23  OnlineBackup_Yes                       7043 non-null   int32  \n",
      " 24  DeviceProtection_No                    7043 non-null   int32  \n",
      " 25  DeviceProtection_Yes                   7043 non-null   int32  \n",
      " 26  TechSupport_No                         7043 non-null   int32  \n",
      " 27  TechSupport_Yes                        7043 non-null   int32  \n",
      " 28  StreamingTV_No                         7043 non-null   int32  \n",
      " 29  StreamingTV_Yes                        7043 non-null   int32  \n",
      " 30  StreamingMovies_No                     7043 non-null   int32  \n",
      " 31  StreamingMovies_Yes                    7043 non-null   int32  \n",
      "dtypes: float64(2), int32(22), int64(7), object(1)\n",
      "memory usage: 1.1+ MB\n"
     ]
    }
   ],
   "source": [
    "telecom.info()"
   ]
  },
  {
   "cell_type": "markdown",
   "id": "7cbe1ff5-c0de-4377-8bcd-5e47eb93063f",
   "metadata": {},
   "source": [
    "### Check for outliers"
   ]
  },
  {
   "cell_type": "code",
   "execution_count": 124,
   "id": "9b8656de-9c35-4c94-a155-68f504629c7d",
   "metadata": {},
   "outputs": [],
   "source": [
    "## Check for outliers in the continuous variables\n",
    "num_telecom = telecom[['tenure','MonthlyCharges','SeniorCitizen','TotalCharges']]"
   ]
  },
  {
   "cell_type": "code",
   "execution_count": 125,
   "id": "1b220932-6e7c-4f61-a349-2518a667a0b3",
   "metadata": {},
   "outputs": [
    {
     "data": {
      "text/html": [
       "<div>\n",
       "<style scoped>\n",
       "    .dataframe tbody tr th:only-of-type {\n",
       "        vertical-align: middle;\n",
       "    }\n",
       "\n",
       "    .dataframe tbody tr th {\n",
       "        vertical-align: top;\n",
       "    }\n",
       "\n",
       "    .dataframe thead th {\n",
       "        text-align: right;\n",
       "    }\n",
       "</style>\n",
       "<table border=\"1\" class=\"dataframe\">\n",
       "  <thead>\n",
       "    <tr style=\"text-align: right;\">\n",
       "      <th></th>\n",
       "      <th>tenure</th>\n",
       "      <th>MonthlyCharges</th>\n",
       "      <th>SeniorCitizen</th>\n",
       "      <th>TotalCharges</th>\n",
       "    </tr>\n",
       "  </thead>\n",
       "  <tbody>\n",
       "    <tr>\n",
       "      <th>count</th>\n",
       "      <td>7043.000000</td>\n",
       "      <td>7043.000000</td>\n",
       "      <td>7043.000000</td>\n",
       "      <td>7032.000000</td>\n",
       "    </tr>\n",
       "    <tr>\n",
       "      <th>mean</th>\n",
       "      <td>32.371149</td>\n",
       "      <td>64.761692</td>\n",
       "      <td>0.162147</td>\n",
       "      <td>2283.300441</td>\n",
       "    </tr>\n",
       "    <tr>\n",
       "      <th>std</th>\n",
       "      <td>24.559481</td>\n",
       "      <td>30.090047</td>\n",
       "      <td>0.368612</td>\n",
       "      <td>2266.771362</td>\n",
       "    </tr>\n",
       "    <tr>\n",
       "      <th>min</th>\n",
       "      <td>0.000000</td>\n",
       "      <td>18.250000</td>\n",
       "      <td>0.000000</td>\n",
       "      <td>18.800000</td>\n",
       "    </tr>\n",
       "    <tr>\n",
       "      <th>25%</th>\n",
       "      <td>9.000000</td>\n",
       "      <td>35.500000</td>\n",
       "      <td>0.000000</td>\n",
       "      <td>401.450000</td>\n",
       "    </tr>\n",
       "    <tr>\n",
       "      <th>50%</th>\n",
       "      <td>29.000000</td>\n",
       "      <td>70.350000</td>\n",
       "      <td>0.000000</td>\n",
       "      <td>1397.475000</td>\n",
       "    </tr>\n",
       "    <tr>\n",
       "      <th>75%</th>\n",
       "      <td>55.000000</td>\n",
       "      <td>89.850000</td>\n",
       "      <td>0.000000</td>\n",
       "      <td>3794.737500</td>\n",
       "    </tr>\n",
       "    <tr>\n",
       "      <th>90%</th>\n",
       "      <td>69.000000</td>\n",
       "      <td>102.600000</td>\n",
       "      <td>1.000000</td>\n",
       "      <td>5976.640000</td>\n",
       "    </tr>\n",
       "    <tr>\n",
       "      <th>95%</th>\n",
       "      <td>72.000000</td>\n",
       "      <td>107.400000</td>\n",
       "      <td>1.000000</td>\n",
       "      <td>6923.590000</td>\n",
       "    </tr>\n",
       "    <tr>\n",
       "      <th>99%</th>\n",
       "      <td>72.000000</td>\n",
       "      <td>114.729000</td>\n",
       "      <td>1.000000</td>\n",
       "      <td>8039.883000</td>\n",
       "    </tr>\n",
       "    <tr>\n",
       "      <th>max</th>\n",
       "      <td>72.000000</td>\n",
       "      <td>118.750000</td>\n",
       "      <td>1.000000</td>\n",
       "      <td>8684.800000</td>\n",
       "    </tr>\n",
       "  </tbody>\n",
       "</table>\n",
       "</div>"
      ],
      "text/plain": [
       "            tenure  MonthlyCharges  SeniorCitizen  TotalCharges\n",
       "count  7043.000000     7043.000000    7043.000000   7032.000000\n",
       "mean     32.371149       64.761692       0.162147   2283.300441\n",
       "std      24.559481       30.090047       0.368612   2266.771362\n",
       "min       0.000000       18.250000       0.000000     18.800000\n",
       "25%       9.000000       35.500000       0.000000    401.450000\n",
       "50%      29.000000       70.350000       0.000000   1397.475000\n",
       "75%      55.000000       89.850000       0.000000   3794.737500\n",
       "90%      69.000000      102.600000       1.000000   5976.640000\n",
       "95%      72.000000      107.400000       1.000000   6923.590000\n",
       "99%      72.000000      114.729000       1.000000   8039.883000\n",
       "max      72.000000      118.750000       1.000000   8684.800000"
      ]
     },
     "execution_count": 125,
     "metadata": {},
     "output_type": "execute_result"
    }
   ],
   "source": [
    "## Checking outliers at 25%,50%,90%,95% and 99%\n",
    "num_telecom.describe(percentiles=[0.25,0.5,.75,0.90,0.95,.99])"
   ]
  },
  {
   "cell_type": "markdown",
   "id": "11745214-7193-40f7-bc8d-9720a30c465b",
   "metadata": {},
   "source": [
    "From the distribution shown above, you can see that there are no outliers in your data. The numbers are gradually increasing"
   ]
  },
  {
   "cell_type": "markdown",
   "id": "699e5298-ca3e-4efb-a4f9-fcae80e260fa",
   "metadata": {},
   "source": [
    "### Checking for Missing values and inputing them"
   ]
  },
  {
   "cell_type": "code",
   "execution_count": 126,
   "id": "688ef2e1-2bf8-4597-8f6f-ced3a5d72528",
   "metadata": {},
   "outputs": [
    {
     "data": {
      "text/plain": [
       "customerID                                0\n",
       "tenure                                    0\n",
       "PhoneService                              0\n",
       "PaperlessBilling                          0\n",
       "MonthlyCharges                            0\n",
       "TotalCharges                             11\n",
       "Churn                                     0\n",
       "SeniorCitizen                             0\n",
       "Partner                                   0\n",
       "Dependents                                0\n",
       "Contract_One year                         0\n",
       "Contract_Two year                         0\n",
       "PaymentMethod_Credit card (automatic)     0\n",
       "PaymentMethod_Electronic check            0\n",
       "PaymentMethod_Mailed check                0\n",
       "gender_Male                               0\n",
       "InternetService_Fiber optic               0\n",
       "InternetService_No                        0\n",
       "MultipleLines_No                          0\n",
       "MultipleLines_Yes                         0\n",
       "OnlineSecurity_No                         0\n",
       "OnlineSecurity_Yes                        0\n",
       "OnlineBackup_No                           0\n",
       "OnlineBackup_Yes                          0\n",
       "DeviceProtection_No                       0\n",
       "DeviceProtection_Yes                      0\n",
       "TechSupport_No                            0\n",
       "TechSupport_Yes                           0\n",
       "StreamingTV_No                            0\n",
       "StreamingTV_Yes                           0\n",
       "StreamingMovies_No                        0\n",
       "StreamingMovies_Yes                       0\n",
       "dtype: int64"
      ]
     },
     "execution_count": 126,
     "metadata": {},
     "output_type": "execute_result"
    }
   ],
   "source": [
    "## Adding up the missing values\n",
    "telecom.isnull().sum()"
   ]
  },
  {
   "cell_type": "code",
   "execution_count": 127,
   "id": "3316b860-505c-4df7-9887-c82bf03b55c5",
   "metadata": {},
   "outputs": [
    {
     "data": {
      "text/plain": [
       "customerID                               0.00\n",
       "tenure                                   0.00\n",
       "PhoneService                             0.00\n",
       "PaperlessBilling                         0.00\n",
       "MonthlyCharges                           0.00\n",
       "TotalCharges                             0.16\n",
       "Churn                                    0.00\n",
       "SeniorCitizen                            0.00\n",
       "Partner                                  0.00\n",
       "Dependents                               0.00\n",
       "Contract_One year                        0.00\n",
       "Contract_Two year                        0.00\n",
       "PaymentMethod_Credit card (automatic)    0.00\n",
       "PaymentMethod_Electronic check           0.00\n",
       "PaymentMethod_Mailed check               0.00\n",
       "gender_Male                              0.00\n",
       "InternetService_Fiber optic              0.00\n",
       "InternetService_No                       0.00\n",
       "MultipleLines_No                         0.00\n",
       "MultipleLines_Yes                        0.00\n",
       "OnlineSecurity_No                        0.00\n",
       "OnlineSecurity_Yes                       0.00\n",
       "OnlineBackup_No                          0.00\n",
       "OnlineBackup_Yes                         0.00\n",
       "DeviceProtection_No                      0.00\n",
       "DeviceProtection_Yes                     0.00\n",
       "TechSupport_No                           0.00\n",
       "TechSupport_Yes                          0.00\n",
       "StreamingTV_No                           0.00\n",
       "StreamingTV_Yes                          0.00\n",
       "StreamingMovies_No                       0.00\n",
       "StreamingMovies_Yes                      0.00\n",
       "dtype: float64"
      ]
     },
     "execution_count": 127,
     "metadata": {},
     "output_type": "execute_result"
    }
   ],
   "source": [
    "## Checking the percentiles of the missing values\n",
    "round(100*(telecom.isnull().sum()/len(telecom.index)),2)"
   ]
  },
  {
   "cell_type": "code",
   "execution_count": 128,
   "id": "b7209f94-9c24-4ad9-9655-cfc130b6733c",
   "metadata": {},
   "outputs": [],
   "source": [
    "## Removing NAN TotalCharges rows\n",
    "telecom = telecom[~np.isnan(telecom['TotalCharges'])]"
   ]
  },
  {
   "cell_type": "code",
   "execution_count": 129,
   "id": "1ecab927-b826-4a7f-b1d2-96d0c1ecfe98",
   "metadata": {},
   "outputs": [
    {
     "data": {
      "text/plain": [
       "customerID                               0.0\n",
       "tenure                                   0.0\n",
       "PhoneService                             0.0\n",
       "PaperlessBilling                         0.0\n",
       "MonthlyCharges                           0.0\n",
       "TotalCharges                             0.0\n",
       "Churn                                    0.0\n",
       "SeniorCitizen                            0.0\n",
       "Partner                                  0.0\n",
       "Dependents                               0.0\n",
       "Contract_One year                        0.0\n",
       "Contract_Two year                        0.0\n",
       "PaymentMethod_Credit card (automatic)    0.0\n",
       "PaymentMethod_Electronic check           0.0\n",
       "PaymentMethod_Mailed check               0.0\n",
       "gender_Male                              0.0\n",
       "InternetService_Fiber optic              0.0\n",
       "InternetService_No                       0.0\n",
       "MultipleLines_No                         0.0\n",
       "MultipleLines_Yes                        0.0\n",
       "OnlineSecurity_No                        0.0\n",
       "OnlineSecurity_Yes                       0.0\n",
       "OnlineBackup_No                          0.0\n",
       "OnlineBackup_Yes                         0.0\n",
       "DeviceProtection_No                      0.0\n",
       "DeviceProtection_Yes                     0.0\n",
       "TechSupport_No                           0.0\n",
       "TechSupport_Yes                          0.0\n",
       "StreamingTV_No                           0.0\n",
       "StreamingTV_Yes                          0.0\n",
       "StreamingMovies_No                       0.0\n",
       "StreamingMovies_Yes                      0.0\n",
       "dtype: float64"
      ]
     },
     "execution_count": 129,
     "metadata": {},
     "output_type": "execute_result"
    }
   ],
   "source": [
    "# Checking perctage of missing values after removing the missing values\n",
    "round(100*(telecom.isnull().sum()/len(telecom.index)),2)"
   ]
  },
  {
   "cell_type": "markdown",
   "id": "6ba59f5e-2891-4e48-97d2-2c1d67f67d19",
   "metadata": {},
   "source": [
    "### STEP 4: Train-Test Split"
   ]
  },
  {
   "cell_type": "code",
   "execution_count": 130,
   "id": "bed71322-8491-41a3-8e90-3822cbb2114b",
   "metadata": {},
   "outputs": [],
   "source": [
    "from sklearn.model_selection import train_test_split"
   ]
  },
  {
   "cell_type": "code",
   "execution_count": 131,
   "id": "383a10d2-0b33-44ca-8ea3-4a91b5fbc0be",
   "metadata": {},
   "outputs": [
    {
     "data": {
      "text/html": [
       "<div>\n",
       "<style scoped>\n",
       "    .dataframe tbody tr th:only-of-type {\n",
       "        vertical-align: middle;\n",
       "    }\n",
       "\n",
       "    .dataframe tbody tr th {\n",
       "        vertical-align: top;\n",
       "    }\n",
       "\n",
       "    .dataframe thead th {\n",
       "        text-align: right;\n",
       "    }\n",
       "</style>\n",
       "<table border=\"1\" class=\"dataframe\">\n",
       "  <thead>\n",
       "    <tr style=\"text-align: right;\">\n",
       "      <th></th>\n",
       "      <th>tenure</th>\n",
       "      <th>PhoneService</th>\n",
       "      <th>PaperlessBilling</th>\n",
       "      <th>MonthlyCharges</th>\n",
       "      <th>TotalCharges</th>\n",
       "      <th>SeniorCitizen</th>\n",
       "      <th>Partner</th>\n",
       "      <th>Dependents</th>\n",
       "      <th>Contract_One year</th>\n",
       "      <th>Contract_Two year</th>\n",
       "      <th>...</th>\n",
       "      <th>OnlineBackup_No</th>\n",
       "      <th>OnlineBackup_Yes</th>\n",
       "      <th>DeviceProtection_No</th>\n",
       "      <th>DeviceProtection_Yes</th>\n",
       "      <th>TechSupport_No</th>\n",
       "      <th>TechSupport_Yes</th>\n",
       "      <th>StreamingTV_No</th>\n",
       "      <th>StreamingTV_Yes</th>\n",
       "      <th>StreamingMovies_No</th>\n",
       "      <th>StreamingMovies_Yes</th>\n",
       "    </tr>\n",
       "  </thead>\n",
       "  <tbody>\n",
       "    <tr>\n",
       "      <th>0</th>\n",
       "      <td>1</td>\n",
       "      <td>0</td>\n",
       "      <td>1</td>\n",
       "      <td>29.85</td>\n",
       "      <td>29.85</td>\n",
       "      <td>0</td>\n",
       "      <td>1</td>\n",
       "      <td>0</td>\n",
       "      <td>0</td>\n",
       "      <td>0</td>\n",
       "      <td>...</td>\n",
       "      <td>0</td>\n",
       "      <td>1</td>\n",
       "      <td>1</td>\n",
       "      <td>0</td>\n",
       "      <td>1</td>\n",
       "      <td>0</td>\n",
       "      <td>1</td>\n",
       "      <td>0</td>\n",
       "      <td>1</td>\n",
       "      <td>0</td>\n",
       "    </tr>\n",
       "    <tr>\n",
       "      <th>1</th>\n",
       "      <td>34</td>\n",
       "      <td>1</td>\n",
       "      <td>0</td>\n",
       "      <td>56.95</td>\n",
       "      <td>1889.50</td>\n",
       "      <td>0</td>\n",
       "      <td>0</td>\n",
       "      <td>0</td>\n",
       "      <td>1</td>\n",
       "      <td>0</td>\n",
       "      <td>...</td>\n",
       "      <td>1</td>\n",
       "      <td>0</td>\n",
       "      <td>0</td>\n",
       "      <td>1</td>\n",
       "      <td>1</td>\n",
       "      <td>0</td>\n",
       "      <td>1</td>\n",
       "      <td>0</td>\n",
       "      <td>1</td>\n",
       "      <td>0</td>\n",
       "    </tr>\n",
       "    <tr>\n",
       "      <th>2</th>\n",
       "      <td>2</td>\n",
       "      <td>1</td>\n",
       "      <td>1</td>\n",
       "      <td>53.85</td>\n",
       "      <td>108.15</td>\n",
       "      <td>0</td>\n",
       "      <td>0</td>\n",
       "      <td>0</td>\n",
       "      <td>0</td>\n",
       "      <td>0</td>\n",
       "      <td>...</td>\n",
       "      <td>0</td>\n",
       "      <td>1</td>\n",
       "      <td>1</td>\n",
       "      <td>0</td>\n",
       "      <td>1</td>\n",
       "      <td>0</td>\n",
       "      <td>1</td>\n",
       "      <td>0</td>\n",
       "      <td>1</td>\n",
       "      <td>0</td>\n",
       "    </tr>\n",
       "    <tr>\n",
       "      <th>3</th>\n",
       "      <td>45</td>\n",
       "      <td>0</td>\n",
       "      <td>0</td>\n",
       "      <td>42.30</td>\n",
       "      <td>1840.75</td>\n",
       "      <td>0</td>\n",
       "      <td>0</td>\n",
       "      <td>0</td>\n",
       "      <td>1</td>\n",
       "      <td>0</td>\n",
       "      <td>...</td>\n",
       "      <td>1</td>\n",
       "      <td>0</td>\n",
       "      <td>0</td>\n",
       "      <td>1</td>\n",
       "      <td>0</td>\n",
       "      <td>1</td>\n",
       "      <td>1</td>\n",
       "      <td>0</td>\n",
       "      <td>1</td>\n",
       "      <td>0</td>\n",
       "    </tr>\n",
       "    <tr>\n",
       "      <th>4</th>\n",
       "      <td>2</td>\n",
       "      <td>1</td>\n",
       "      <td>1</td>\n",
       "      <td>70.70</td>\n",
       "      <td>151.65</td>\n",
       "      <td>0</td>\n",
       "      <td>0</td>\n",
       "      <td>0</td>\n",
       "      <td>0</td>\n",
       "      <td>0</td>\n",
       "      <td>...</td>\n",
       "      <td>1</td>\n",
       "      <td>0</td>\n",
       "      <td>1</td>\n",
       "      <td>0</td>\n",
       "      <td>1</td>\n",
       "      <td>0</td>\n",
       "      <td>1</td>\n",
       "      <td>0</td>\n",
       "      <td>1</td>\n",
       "      <td>0</td>\n",
       "    </tr>\n",
       "  </tbody>\n",
       "</table>\n",
       "<p>5 rows × 30 columns</p>\n",
       "</div>"
      ],
      "text/plain": [
       "   tenure  PhoneService  PaperlessBilling  MonthlyCharges  TotalCharges  \\\n",
       "0       1             0                 1           29.85         29.85   \n",
       "1      34             1                 0           56.95       1889.50   \n",
       "2       2             1                 1           53.85        108.15   \n",
       "3      45             0                 0           42.30       1840.75   \n",
       "4       2             1                 1           70.70        151.65   \n",
       "\n",
       "   SeniorCitizen  Partner  Dependents  Contract_One year  Contract_Two year  \\\n",
       "0              0        1           0                  0                  0   \n",
       "1              0        0           0                  1                  0   \n",
       "2              0        0           0                  0                  0   \n",
       "3              0        0           0                  1                  0   \n",
       "4              0        0           0                  0                  0   \n",
       "\n",
       "   ...  OnlineBackup_No  OnlineBackup_Yes  DeviceProtection_No  \\\n",
       "0  ...                0                 1                    1   \n",
       "1  ...                1                 0                    0   \n",
       "2  ...                0                 1                    1   \n",
       "3  ...                1                 0                    0   \n",
       "4  ...                1                 0                    1   \n",
       "\n",
       "   DeviceProtection_Yes  TechSupport_No  TechSupport_Yes  StreamingTV_No  \\\n",
       "0                     0               1                0               1   \n",
       "1                     1               1                0               1   \n",
       "2                     0               1                0               1   \n",
       "3                     1               0                1               1   \n",
       "4                     0               1                0               1   \n",
       "\n",
       "   StreamingTV_Yes  StreamingMovies_No  StreamingMovies_Yes  \n",
       "0                0                   1                    0  \n",
       "1                0                   1                    0  \n",
       "2                0                   1                    0  \n",
       "3                0                   1                    0  \n",
       "4                0                   1                    0  \n",
       "\n",
       "[5 rows x 30 columns]"
      ]
     },
     "execution_count": 131,
     "metadata": {},
     "output_type": "execute_result"
    }
   ],
   "source": [
    "## Putting feature variable to X\n",
    "X = telecom.drop(['Churn','customerID'],axis=1)\n",
    "X.head()"
   ]
  },
  {
   "cell_type": "code",
   "execution_count": 132,
   "id": "9daa5bef-a5b9-41ac-866d-5cdbaf564ba0",
   "metadata": {},
   "outputs": [
    {
     "data": {
      "text/plain": [
       "0    0\n",
       "1    0\n",
       "2    1\n",
       "3    0\n",
       "4    1\n",
       "Name: Churn, dtype: int64"
      ]
     },
     "execution_count": 132,
     "metadata": {},
     "output_type": "execute_result"
    }
   ],
   "source": [
    "#Putting response variable to Y\n",
    "y = telecom['Churn']\n",
    "y.head()"
   ]
  },
  {
   "cell_type": "code",
   "execution_count": 133,
   "id": "efc48484-ab79-457a-9491-dd07f4eeaac3",
   "metadata": {},
   "outputs": [],
   "source": [
    "## Splitting the data into train and test\n",
    "X_train,X_test,y_train,y_test =  train_test_split(X,y,train_size=0.7,random_state=100)"
   ]
  },
  {
   "cell_type": "markdown",
   "id": "fb96e83d-39bb-4817-a7e2-b78c896f7e49",
   "metadata": {},
   "source": [
    "### Step 5 : Feature Scaling"
   ]
  },
  {
   "cell_type": "code",
   "execution_count": 134,
   "id": "cae59bf3-2efb-4076-a1ea-7f2def5f2786",
   "metadata": {},
   "outputs": [],
   "source": [
    "from sklearn.preprocessing import StandardScaler"
   ]
  },
  {
   "cell_type": "code",
   "execution_count": 135,
   "id": "0aedb9f2-b774-4fb0-abf6-5aca511c381c",
   "metadata": {},
   "outputs": [
    {
     "data": {
      "text/html": [
       "<div>\n",
       "<style scoped>\n",
       "    .dataframe tbody tr th:only-of-type {\n",
       "        vertical-align: middle;\n",
       "    }\n",
       "\n",
       "    .dataframe tbody tr th {\n",
       "        vertical-align: top;\n",
       "    }\n",
       "\n",
       "    .dataframe thead th {\n",
       "        text-align: right;\n",
       "    }\n",
       "</style>\n",
       "<table border=\"1\" class=\"dataframe\">\n",
       "  <thead>\n",
       "    <tr style=\"text-align: right;\">\n",
       "      <th></th>\n",
       "      <th>tenure</th>\n",
       "      <th>PhoneService</th>\n",
       "      <th>PaperlessBilling</th>\n",
       "      <th>MonthlyCharges</th>\n",
       "      <th>TotalCharges</th>\n",
       "      <th>SeniorCitizen</th>\n",
       "      <th>Partner</th>\n",
       "      <th>Dependents</th>\n",
       "      <th>Contract_One year</th>\n",
       "      <th>Contract_Two year</th>\n",
       "      <th>...</th>\n",
       "      <th>OnlineBackup_No</th>\n",
       "      <th>OnlineBackup_Yes</th>\n",
       "      <th>DeviceProtection_No</th>\n",
       "      <th>DeviceProtection_Yes</th>\n",
       "      <th>TechSupport_No</th>\n",
       "      <th>TechSupport_Yes</th>\n",
       "      <th>StreamingTV_No</th>\n",
       "      <th>StreamingTV_Yes</th>\n",
       "      <th>StreamingMovies_No</th>\n",
       "      <th>StreamingMovies_Yes</th>\n",
       "    </tr>\n",
       "  </thead>\n",
       "  <tbody>\n",
       "    <tr>\n",
       "      <th>879</th>\n",
       "      <td>0.019693</td>\n",
       "      <td>1</td>\n",
       "      <td>1</td>\n",
       "      <td>-0.338074</td>\n",
       "      <td>-0.276449</td>\n",
       "      <td>0</td>\n",
       "      <td>0</td>\n",
       "      <td>0</td>\n",
       "      <td>0</td>\n",
       "      <td>0</td>\n",
       "      <td>...</td>\n",
       "      <td>0</td>\n",
       "      <td>1</td>\n",
       "      <td>1</td>\n",
       "      <td>0</td>\n",
       "      <td>1</td>\n",
       "      <td>0</td>\n",
       "      <td>1</td>\n",
       "      <td>0</td>\n",
       "      <td>1</td>\n",
       "      <td>0</td>\n",
       "    </tr>\n",
       "    <tr>\n",
       "      <th>5790</th>\n",
       "      <td>0.305384</td>\n",
       "      <td>0</td>\n",
       "      <td>1</td>\n",
       "      <td>-0.464443</td>\n",
       "      <td>-0.112702</td>\n",
       "      <td>0</td>\n",
       "      <td>1</td>\n",
       "      <td>1</td>\n",
       "      <td>0</td>\n",
       "      <td>0</td>\n",
       "      <td>...</td>\n",
       "      <td>0</td>\n",
       "      <td>1</td>\n",
       "      <td>1</td>\n",
       "      <td>0</td>\n",
       "      <td>1</td>\n",
       "      <td>0</td>\n",
       "      <td>0</td>\n",
       "      <td>1</td>\n",
       "      <td>0</td>\n",
       "      <td>1</td>\n",
       "    </tr>\n",
       "    <tr>\n",
       "      <th>6498</th>\n",
       "      <td>-1.286319</td>\n",
       "      <td>1</td>\n",
       "      <td>1</td>\n",
       "      <td>0.581425</td>\n",
       "      <td>-0.974430</td>\n",
       "      <td>0</td>\n",
       "      <td>0</td>\n",
       "      <td>0</td>\n",
       "      <td>0</td>\n",
       "      <td>0</td>\n",
       "      <td>...</td>\n",
       "      <td>0</td>\n",
       "      <td>1</td>\n",
       "      <td>0</td>\n",
       "      <td>1</td>\n",
       "      <td>1</td>\n",
       "      <td>0</td>\n",
       "      <td>1</td>\n",
       "      <td>0</td>\n",
       "      <td>1</td>\n",
       "      <td>0</td>\n",
       "    </tr>\n",
       "    <tr>\n",
       "      <th>880</th>\n",
       "      <td>-0.919003</td>\n",
       "      <td>1</td>\n",
       "      <td>1</td>\n",
       "      <td>1.505913</td>\n",
       "      <td>-0.550676</td>\n",
       "      <td>0</td>\n",
       "      <td>0</td>\n",
       "      <td>0</td>\n",
       "      <td>0</td>\n",
       "      <td>0</td>\n",
       "      <td>...</td>\n",
       "      <td>0</td>\n",
       "      <td>1</td>\n",
       "      <td>0</td>\n",
       "      <td>1</td>\n",
       "      <td>0</td>\n",
       "      <td>1</td>\n",
       "      <td>0</td>\n",
       "      <td>1</td>\n",
       "      <td>0</td>\n",
       "      <td>1</td>\n",
       "    </tr>\n",
       "    <tr>\n",
       "      <th>2784</th>\n",
       "      <td>-1.163880</td>\n",
       "      <td>1</td>\n",
       "      <td>1</td>\n",
       "      <td>1.106854</td>\n",
       "      <td>-0.835971</td>\n",
       "      <td>0</td>\n",
       "      <td>0</td>\n",
       "      <td>1</td>\n",
       "      <td>0</td>\n",
       "      <td>0</td>\n",
       "      <td>...</td>\n",
       "      <td>1</td>\n",
       "      <td>0</td>\n",
       "      <td>0</td>\n",
       "      <td>1</td>\n",
       "      <td>0</td>\n",
       "      <td>1</td>\n",
       "      <td>0</td>\n",
       "      <td>1</td>\n",
       "      <td>0</td>\n",
       "      <td>1</td>\n",
       "    </tr>\n",
       "  </tbody>\n",
       "</table>\n",
       "<p>5 rows × 30 columns</p>\n",
       "</div>"
      ],
      "text/plain": [
       "        tenure  PhoneService  PaperlessBilling  MonthlyCharges  TotalCharges  \\\n",
       "879   0.019693             1                 1       -0.338074     -0.276449   \n",
       "5790  0.305384             0                 1       -0.464443     -0.112702   \n",
       "6498 -1.286319             1                 1        0.581425     -0.974430   \n",
       "880  -0.919003             1                 1        1.505913     -0.550676   \n",
       "2784 -1.163880             1                 1        1.106854     -0.835971   \n",
       "\n",
       "      SeniorCitizen  Partner  Dependents  Contract_One year  \\\n",
       "879               0        0           0                  0   \n",
       "5790              0        1           1                  0   \n",
       "6498              0        0           0                  0   \n",
       "880               0        0           0                  0   \n",
       "2784              0        0           1                  0   \n",
       "\n",
       "      Contract_Two year  ...  OnlineBackup_No  OnlineBackup_Yes  \\\n",
       "879                   0  ...                0                 1   \n",
       "5790                  0  ...                0                 1   \n",
       "6498                  0  ...                0                 1   \n",
       "880                   0  ...                0                 1   \n",
       "2784                  0  ...                1                 0   \n",
       "\n",
       "      DeviceProtection_No  DeviceProtection_Yes  TechSupport_No  \\\n",
       "879                     1                     0               1   \n",
       "5790                    1                     0               1   \n",
       "6498                    0                     1               1   \n",
       "880                     0                     1               0   \n",
       "2784                    0                     1               0   \n",
       "\n",
       "      TechSupport_Yes  StreamingTV_No  StreamingTV_Yes  StreamingMovies_No  \\\n",
       "879                 0               1                0                   1   \n",
       "5790                0               0                1                   0   \n",
       "6498                0               1                0                   1   \n",
       "880                 1               0                1                   0   \n",
       "2784                1               0                1                   0   \n",
       "\n",
       "      StreamingMovies_Yes  \n",
       "879                     0  \n",
       "5790                    1  \n",
       "6498                    0  \n",
       "880                     1  \n",
       "2784                    1  \n",
       "\n",
       "[5 rows x 30 columns]"
      ]
     },
     "execution_count": 135,
     "metadata": {},
     "output_type": "execute_result"
    }
   ],
   "source": [
    "scaler = StandardScaler()\n",
    "\n",
    "X_train[['tenure','MonthlyCharges','TotalCharges']] = scaler.fit_transform(X_train[['tenure','MonthlyCharges','TotalCharges']])\n",
    "X_train.head()"
   ]
  },
  {
   "cell_type": "code",
   "execution_count": 136,
   "id": "b0192540-25cf-44a5-9c23-06e99733a322",
   "metadata": {},
   "outputs": [
    {
     "data": {
      "text/plain": [
       "26.578498293515356"
      ]
     },
     "execution_count": 136,
     "metadata": {},
     "output_type": "execute_result"
    }
   ],
   "source": [
    "## Checking the churn rate\n",
    "churn = sum(telecom['Churn'])/len(telecom['Churn'].index)*100\n",
    "churn"
   ]
  },
  {
   "cell_type": "markdown",
   "id": "5bec05af-fa0e-4673-8a44-74a0f36cafaa",
   "metadata": {},
   "source": [
    "### Step 6: Lookig at Correlations"
   ]
  },
  {
   "cell_type": "code",
   "execution_count": 137,
   "id": "2aab3e04-2527-4a38-af30-86f247efaaa2",
   "metadata": {},
   "outputs": [],
   "source": [
    "import matplotlib.pyplot as plt\n",
    "import seaborn as sns\n",
    "%matplotlib inline"
   ]
  },
  {
   "cell_type": "code",
   "execution_count": 138,
   "id": "c5918aca-0ba9-470b-ba31-3c95ce933af7",
   "metadata": {},
   "outputs": [
    {
     "data": {
      "image/png": "[encoded data removed]",
      "text/plain": [
       "<Figure size 2000x1000 with 2 Axes>"
      ]
     },
     "metadata": {},
     "output_type": "display_data"
    }
   ],
   "source": [
    "## Let's see the correlation matrix\n",
    "plt.figure(figsize=(20,10))\n",
    "sns.heatmap(telecom.drop('customerID',axis=1).corr(),annot=True)\n",
    "plt.show()"
   ]
  },
  {
   "cell_type": "markdown",
   "id": "433b972f-fa87-41c6-8cf3-79386e89a8e0",
   "metadata": {},
   "source": [
    "### Dropping higly correlated dummy variables"
   ]
  },
  {
   "cell_type": "code",
   "execution_count": 139,
   "id": "40e1853d-adc2-4abf-be31-f27d68818b85",
   "metadata": {},
   "outputs": [],
   "source": [
    "X_test = X_test.drop(['MultipleLines_No','OnlineSecurity_No','OnlineBackup_No','DeviceProtection_No','TechSupport_No',\n",
    "                       'StreamingTV_No','StreamingMovies_No'],axis=1)\n",
    "X_train = X_train.drop(['MultipleLines_No','OnlineSecurity_No','OnlineBackup_No','DeviceProtection_No','TechSupport_No',\n",
    "                         'StreamingTV_No','StreamingMovies_No'],axis=1)"
   ]
  },
  {
   "cell_type": "markdown",
   "id": "1f433007-8cbc-4cb5-b23a-7f6ec0604c4c",
   "metadata": {},
   "source": [
    "### Checking the correlation matrix"
   ]
  },
  {
   "cell_type": "code",
   "execution_count": 140,
   "id": "bebe5879-9ee4-4351-8710-8a23d2fee16c",
   "metadata": {},
   "outputs": [
    {
     "data": {
      "image/png": "[encoded data removed]",
      "text/plain": [
       "<Figure size 2000x1000 with 2 Axes>"
      ]
     },
     "metadata": {},
     "output_type": "display_data"
    }
   ],
   "source": [
    "## Let's see the correlation matrix\n",
    "plt.figure(figsize=(20,10))\n",
    "sns.heatmap(X_train.corr(),annot=True)\n",
    "plt.show()"
   ]
  },
  {
   "cell_type": "markdown",
   "id": "a82e72bb-f143-44ea-96bb-c944be17da54",
   "metadata": {},
   "source": [
    "### Step 7 : Model Building"
   ]
  },
  {
   "cell_type": "markdown",
   "id": "05d6d720-7ea8-499f-8228-e8fdc5246cce",
   "metadata": {},
   "source": [
    "#### Running Your First Model"
   ]
  },
  {
   "cell_type": "code",
   "execution_count": 141,
   "id": "cacb98c8-915b-490c-a82f-d5913b3f7199",
   "metadata": {},
   "outputs": [],
   "source": [
    "import statsmodels.api as sm"
   ]
  },
  {
   "cell_type": "code",
   "execution_count": 142,
   "id": "3a99b61f-5567-42e7-b0ac-8cfab65d7d0b",
   "metadata": {},
   "outputs": [
    {
     "data": {
      "text/html": [
       "<table class=\"simpletable\">\n",
       "<caption>Generalized Linear Model Regression Results</caption>\n",
       "<tr>\n",
       "  <th>Dep. Variable:</th>         <td>Churn</td>      <th>  No. Observations:  </th>  <td>  4922</td> \n",
       "</tr>\n",
       "<tr>\n",
       "  <th>Model:</th>                  <td>GLM</td>       <th>  Df Residuals:      </th>  <td>  4898</td> \n",
       "</tr>\n",
       "<tr>\n",
       "  <th>Model Family:</th>        <td>Binomial</td>     <th>  Df Model:          </th>  <td>    23</td> \n",
       "</tr>\n",
       "<tr>\n",
       "  <th>Link Function:</th>         <td>Logit</td>      <th>  Scale:             </th> <td>  1.0000</td>\n",
       "</tr>\n",
       "<tr>\n",
       "  <th>Method:</th>                <td>IRLS</td>       <th>  Log-Likelihood:    </th> <td> -2004.7</td>\n",
       "</tr>\n",
       "<tr>\n",
       "  <th>Date:</th>            <td>Wed, 15 May 2024</td> <th>  Deviance:          </th> <td>  4009.4</td>\n",
       "</tr>\n",
       "<tr>\n",
       "  <th>Time:</th>                <td>07:37:24</td>     <th>  Pearson chi2:      </th> <td>6.07e+03</td>\n",
       "</tr>\n",
       "<tr>\n",
       "  <th>No. Iterations:</th>          <td>7</td>        <th>  Pseudo R-squ. (CS):</th>  <td>0.2844</td> \n",
       "</tr>\n",
       "<tr>\n",
       "  <th>Covariance Type:</th>     <td>nonrobust</td>    <th>                     </th>     <td> </td>   \n",
       "</tr>\n",
       "</table>\n",
       "<table class=\"simpletable\">\n",
       "<tr>\n",
       "                    <td></td>                       <th>coef</th>     <th>std err</th>      <th>z</th>      <th>P>|z|</th>  <th>[0.025</th>    <th>0.975]</th>  \n",
       "</tr>\n",
       "<tr>\n",
       "  <th>const</th>                                 <td>   -3.9382</td> <td>    1.546</td> <td>   -2.547</td> <td> 0.011</td> <td>   -6.969</td> <td>   -0.908</td>\n",
       "</tr>\n",
       "<tr>\n",
       "  <th>tenure</th>                                <td>   -1.5172</td> <td>    0.189</td> <td>   -8.015</td> <td> 0.000</td> <td>   -1.888</td> <td>   -1.146</td>\n",
       "</tr>\n",
       "<tr>\n",
       "  <th>PhoneService</th>                          <td>    0.9507</td> <td>    0.789</td> <td>    1.205</td> <td> 0.228</td> <td>   -0.595</td> <td>    2.497</td>\n",
       "</tr>\n",
       "<tr>\n",
       "  <th>PaperlessBilling</th>                      <td>    0.3254</td> <td>    0.090</td> <td>    3.614</td> <td> 0.000</td> <td>    0.149</td> <td>    0.502</td>\n",
       "</tr>\n",
       "<tr>\n",
       "  <th>MonthlyCharges</th>                        <td>   -2.1806</td> <td>    1.160</td> <td>   -1.880</td> <td> 0.060</td> <td>   -4.454</td> <td>    0.092</td>\n",
       "</tr>\n",
       "<tr>\n",
       "  <th>TotalCharges</th>                          <td>    0.7332</td> <td>    0.198</td> <td>    3.705</td> <td> 0.000</td> <td>    0.345</td> <td>    1.121</td>\n",
       "</tr>\n",
       "<tr>\n",
       "  <th>SeniorCitizen</th>                         <td>    0.3984</td> <td>    0.102</td> <td>    3.924</td> <td> 0.000</td> <td>    0.199</td> <td>    0.597</td>\n",
       "</tr>\n",
       "<tr>\n",
       "  <th>Partner</th>                               <td>    0.0374</td> <td>    0.094</td> <td>    0.399</td> <td> 0.690</td> <td>   -0.146</td> <td>    0.221</td>\n",
       "</tr>\n",
       "<tr>\n",
       "  <th>Dependents</th>                            <td>   -0.1430</td> <td>    0.107</td> <td>   -1.332</td> <td> 0.183</td> <td>   -0.353</td> <td>    0.067</td>\n",
       "</tr>\n",
       "<tr>\n",
       "  <th>Contract_One year</th>                     <td>   -0.6578</td> <td>    0.129</td> <td>   -5.106</td> <td> 0.000</td> <td>   -0.910</td> <td>   -0.405</td>\n",
       "</tr>\n",
       "<tr>\n",
       "  <th>Contract_Two year</th>                     <td>   -1.2455</td> <td>    0.212</td> <td>   -5.874</td> <td> 0.000</td> <td>   -1.661</td> <td>   -0.830</td>\n",
       "</tr>\n",
       "<tr>\n",
       "  <th>PaymentMethod_Credit card (automatic)</th> <td>   -0.2577</td> <td>    0.137</td> <td>   -1.883</td> <td> 0.060</td> <td>   -0.526</td> <td>    0.011</td>\n",
       "</tr>\n",
       "<tr>\n",
       "  <th>PaymentMethod_Electronic check</th>        <td>    0.1615</td> <td>    0.113</td> <td>    1.434</td> <td> 0.152</td> <td>   -0.059</td> <td>    0.382</td>\n",
       "</tr>\n",
       "<tr>\n",
       "  <th>PaymentMethod_Mailed check</th>            <td>   -0.2536</td> <td>    0.137</td> <td>   -1.845</td> <td> 0.065</td> <td>   -0.523</td> <td>    0.016</td>\n",
       "</tr>\n",
       "<tr>\n",
       "  <th>gender_Male</th>                           <td>   -0.0346</td> <td>    0.078</td> <td>   -0.442</td> <td> 0.658</td> <td>   -0.188</td> <td>    0.119</td>\n",
       "</tr>\n",
       "<tr>\n",
       "  <th>InternetService_Fiber optic</th>           <td>    2.5124</td> <td>    0.967</td> <td>    2.599</td> <td> 0.009</td> <td>    0.618</td> <td>    4.407</td>\n",
       "</tr>\n",
       "<tr>\n",
       "  <th>InternetService_No</th>                    <td>   -2.7792</td> <td>    0.982</td> <td>   -2.831</td> <td> 0.005</td> <td>   -4.703</td> <td>   -0.855</td>\n",
       "</tr>\n",
       "<tr>\n",
       "  <th>MultipleLines_Yes</th>                     <td>    0.5623</td> <td>    0.214</td> <td>    2.628</td> <td> 0.009</td> <td>    0.143</td> <td>    0.982</td>\n",
       "</tr>\n",
       "<tr>\n",
       "  <th>OnlineSecurity_Yes</th>                    <td>   -0.0245</td> <td>    0.216</td> <td>   -0.113</td> <td> 0.910</td> <td>   -0.448</td> <td>    0.399</td>\n",
       "</tr>\n",
       "<tr>\n",
       "  <th>OnlineBackup_Yes</th>                      <td>    0.1740</td> <td>    0.212</td> <td>    0.822</td> <td> 0.411</td> <td>   -0.241</td> <td>    0.589</td>\n",
       "</tr>\n",
       "<tr>\n",
       "  <th>DeviceProtection_Yes</th>                  <td>    0.3229</td> <td>    0.215</td> <td>    1.501</td> <td> 0.133</td> <td>   -0.099</td> <td>    0.744</td>\n",
       "</tr>\n",
       "<tr>\n",
       "  <th>TechSupport_Yes</th>                       <td>   -0.0305</td> <td>    0.216</td> <td>   -0.141</td> <td> 0.888</td> <td>   -0.455</td> <td>    0.394</td>\n",
       "</tr>\n",
       "<tr>\n",
       "  <th>StreamingTV_Yes</th>                       <td>    0.9598</td> <td>    0.396</td> <td>    2.423</td> <td> 0.015</td> <td>    0.183</td> <td>    1.736</td>\n",
       "</tr>\n",
       "<tr>\n",
       "  <th>StreamingMovies_Yes</th>                   <td>    0.8484</td> <td>    0.396</td> <td>    2.143</td> <td> 0.032</td> <td>    0.072</td> <td>    1.624</td>\n",
       "</tr>\n",
       "</table>"
      ],
      "text/latex": [
       "\\begin{center}\n",
       "\\begin{tabular}{lclc}\n",
       "\\toprule\n",
       "\\textbf{Dep. Variable:}                         &      Churn       & \\textbf{  No. Observations:  } &     4922    \\\\\n",
       "\\textbf{Model:}                                 &       GLM        & \\textbf{  Df Residuals:      } &     4898    \\\\\n",
       "\\textbf{Model Family:}                          &     Binomial     & \\textbf{  Df Model:          } &       23    \\\\\n",
       "\\textbf{Link Function:}                         &      Logit       & \\textbf{  Scale:             } &    1.0000   \\\\\n",
       "\\textbf{Method:}                                &       IRLS       & \\textbf{  Log-Likelihood:    } &   -2004.7   \\\\\n",
       "\\textbf{Date:}                                  & Wed, 15 May 2024 & \\textbf{  Deviance:          } &    4009.4   \\\\\n",
       "\\textbf{Time:}                                  &     07:37:24     & \\textbf{  Pearson chi2:      } &  6.07e+03   \\\\\n",
       "\\textbf{No. Iterations:}                        &        7         & \\textbf{  Pseudo R-squ. (CS):} &   0.2844    \\\\\n",
       "\\textbf{Covariance Type:}                       &    nonrobust     & \\textbf{                     } &             \\\\\n",
       "\\bottomrule\n",
       "\\end{tabular}\n",
       "\\begin{tabular}{lcccccc}\n",
       "                                                & \\textbf{coef} & \\textbf{std err} & \\textbf{z} & \\textbf{P$> |$z$|$} & \\textbf{[0.025} & \\textbf{0.975]}  \\\\\n",
       "\\midrule\n",
       "\\textbf{const}                                  &      -3.9382  &        1.546     &    -2.547  &         0.011        &       -6.969    &       -0.908     \\\\\n",
       "\\textbf{tenure}                                 &      -1.5172  &        0.189     &    -8.015  &         0.000        &       -1.888    &       -1.146     \\\\\n",
       "\\textbf{PhoneService}                           &       0.9507  &        0.789     &     1.205  &         0.228        &       -0.595    &        2.497     \\\\\n",
       "\\textbf{PaperlessBilling}                       &       0.3254  &        0.090     &     3.614  &         0.000        &        0.149    &        0.502     \\\\\n",
       "\\textbf{MonthlyCharges}                         &      -2.1806  &        1.160     &    -1.880  &         0.060        &       -4.454    &        0.092     \\\\\n",
       "\\textbf{TotalCharges}                           &       0.7332  &        0.198     &     3.705  &         0.000        &        0.345    &        1.121     \\\\\n",
       "\\textbf{SeniorCitizen}                          &       0.3984  &        0.102     &     3.924  &         0.000        &        0.199    &        0.597     \\\\\n",
       "\\textbf{Partner}                                &       0.0374  &        0.094     &     0.399  &         0.690        &       -0.146    &        0.221     \\\\\n",
       "\\textbf{Dependents}                             &      -0.1430  &        0.107     &    -1.332  &         0.183        &       -0.353    &        0.067     \\\\\n",
       "\\textbf{Contract\\_One year}                     &      -0.6578  &        0.129     &    -5.106  &         0.000        &       -0.910    &       -0.405     \\\\\n",
       "\\textbf{Contract\\_Two year}                     &      -1.2455  &        0.212     &    -5.874  &         0.000        &       -1.661    &       -0.830     \\\\\n",
       "\\textbf{PaymentMethod\\_Credit card (automatic)} &      -0.2577  &        0.137     &    -1.883  &         0.060        &       -0.526    &        0.011     \\\\\n",
       "\\textbf{PaymentMethod\\_Electronic check}        &       0.1615  &        0.113     &     1.434  &         0.152        &       -0.059    &        0.382     \\\\\n",
       "\\textbf{PaymentMethod\\_Mailed check}            &      -0.2536  &        0.137     &    -1.845  &         0.065        &       -0.523    &        0.016     \\\\\n",
       "\\textbf{gender\\_Male}                           &      -0.0346  &        0.078     &    -0.442  &         0.658        &       -0.188    &        0.119     \\\\\n",
       "\\textbf{InternetService\\_Fiber optic}           &       2.5124  &        0.967     &     2.599  &         0.009        &        0.618    &        4.407     \\\\\n",
       "\\textbf{InternetService\\_No}                    &      -2.7792  &        0.982     &    -2.831  &         0.005        &       -4.703    &       -0.855     \\\\\n",
       "\\textbf{MultipleLines\\_Yes}                     &       0.5623  &        0.214     &     2.628  &         0.009        &        0.143    &        0.982     \\\\\n",
       "\\textbf{OnlineSecurity\\_Yes}                    &      -0.0245  &        0.216     &    -0.113  &         0.910        &       -0.448    &        0.399     \\\\\n",
       "\\textbf{OnlineBackup\\_Yes}                      &       0.1740  &        0.212     &     0.822  &         0.411        &       -0.241    &        0.589     \\\\\n",
       "\\textbf{DeviceProtection\\_Yes}                  &       0.3229  &        0.215     &     1.501  &         0.133        &       -0.099    &        0.744     \\\\\n",
       "\\textbf{TechSupport\\_Yes}                       &      -0.0305  &        0.216     &    -0.141  &         0.888        &       -0.455    &        0.394     \\\\\n",
       "\\textbf{StreamingTV\\_Yes}                       &       0.9598  &        0.396     &     2.423  &         0.015        &        0.183    &        1.736     \\\\\n",
       "\\textbf{StreamingMovies\\_Yes}                   &       0.8484  &        0.396     &     2.143  &         0.032        &        0.072    &        1.624     \\\\\n",
       "\\bottomrule\n",
       "\\end{tabular}\n",
       "%\\caption{Generalized Linear Model Regression Results}\n",
       "\\end{center}"
      ],
      "text/plain": [
       "<class 'statsmodels.iolib.summary.Summary'>\n",
       "\"\"\"\n",
       "                 Generalized Linear Model Regression Results                  \n",
       "==============================================================================\n",
       "Dep. Variable:                  Churn   No. Observations:                 4922\n",
       "Model:                            GLM   Df Residuals:                     4898\n",
       "Model Family:                Binomial   Df Model:                           23\n",
       "Link Function:                  Logit   Scale:                          1.0000\n",
       "Method:                          IRLS   Log-Likelihood:                -2004.7\n",
       "Date:                Wed, 15 May 2024   Deviance:                       4009.4\n",
       "Time:                        07:37:24   Pearson chi2:                 6.07e+03\n",
       "No. Iterations:                     7   Pseudo R-squ. (CS):             0.2844\n",
       "Covariance Type:            nonrobust                                         \n",
       "=========================================================================================================\n",
       "                                            coef    std err          z      P>|z|      [0.025      0.975]\n",
       "---------------------------------------------------------------------------------------------------------\n",
       "const                                    -3.9382      1.546     -2.547      0.011      -6.969      -0.908\n",
       "tenure                                   -1.5172      0.189     -8.015      0.000      -1.888      -1.146\n",
       "PhoneService                              0.9507      0.789      1.205      0.228      -0.595       2.497\n",
       "PaperlessBilling                          0.3254      0.090      3.614      0.000       0.149       0.502\n",
       "MonthlyCharges                           -2.1806      1.160     -1.880      0.060      -4.454       0.092\n",
       "TotalCharges                              0.7332      0.198      3.705      0.000       0.345       1.121\n",
       "SeniorCitizen                             0.3984      0.102      3.924      0.000       0.199       0.597\n",
       "Partner                                   0.0374      0.094      0.399      0.690      -0.146       0.221\n",
       "Dependents                               -0.1430      0.107     -1.332      0.183      -0.353       0.067\n",
       "Contract_One year                        -0.6578      0.129     -5.106      0.000      -0.910      -0.405\n",
       "Contract_Two year                        -1.2455      0.212     -5.874      0.000      -1.661      -0.830\n",
       "PaymentMethod_Credit card (automatic)    -0.2577      0.137     -1.883      0.060      -0.526       0.011\n",
       "PaymentMethod_Electronic check            0.1615      0.113      1.434      0.152      -0.059       0.382\n",
       "PaymentMethod_Mailed check               -0.2536      0.137     -1.845      0.065      -0.523       0.016\n",
       "gender_Male                              -0.0346      0.078     -0.442      0.658      -0.188       0.119\n",
       "InternetService_Fiber optic               2.5124      0.967      2.599      0.009       0.618       4.407\n",
       "InternetService_No                       -2.7792      0.982     -2.831      0.005      -4.703      -0.855\n",
       "MultipleLines_Yes                         0.5623      0.214      2.628      0.009       0.143       0.982\n",
       "OnlineSecurity_Yes                       -0.0245      0.216     -0.113      0.910      -0.448       0.399\n",
       "OnlineBackup_Yes                          0.1740      0.212      0.822      0.411      -0.241       0.589\n",
       "DeviceProtection_Yes                      0.3229      0.215      1.501      0.133      -0.099       0.744\n",
       "TechSupport_Yes                          -0.0305      0.216     -0.141      0.888      -0.455       0.394\n",
       "StreamingTV_Yes                           0.9598      0.396      2.423      0.015       0.183       1.736\n",
       "StreamingMovies_Yes                       0.8484      0.396      2.143      0.032       0.072       1.624\n",
       "=========================================================================================================\n",
       "\"\"\""
      ]
     },
     "execution_count": 142,
     "metadata": {},
     "output_type": "execute_result"
    }
   ],
   "source": [
    "## Logistic regression model\n",
    "logm1 = sm.GLM(y_train,(sm.add_constant(X_train)),family=sm.families.Binomial())\n",
    "logm1.fit().summary()"
   ]
  },
  {
   "cell_type": "markdown",
   "id": "d67bda9c-e39f-4b5c-ad2e-62094f0f466b",
   "metadata": {},
   "source": [
    "### Step 8 : Featur Elimination using RFE"
   ]
  },
  {
   "cell_type": "code",
   "execution_count": 143,
   "id": "540cfdc1-2669-409b-b9cc-1343c77f9694",
   "metadata": {},
   "outputs": [],
   "source": [
    "from sklearn.linear_model import LogisticRegression\n",
    "logreg = LogisticRegression()"
   ]
  },
  {
   "cell_type": "code",
   "execution_count": 145,
   "id": "b4d500cb-a2bb-479a-a270-9918ffd130c6",
   "metadata": {},
   "outputs": [],
   "source": [
    "from sklearn.feature_selection import RFE\n",
    "rfe = RFE(estimator=logreg,n_features_to_select=15)\n",
    "rfe = rfe.fit(X_train,y_train)"
   ]
  },
  {
   "cell_type": "code",
   "execution_count": 146,
   "id": "4ef528b5-d0f0-40d4-91ba-2b89062c5462",
   "metadata": {},
   "outputs": [
    {
     "data": {
      "text/plain": [
       "array([ True, False,  True,  True,  True,  True, False, False,  True,\n",
       "        True,  True, False,  True, False,  True,  True,  True, False,\n",
       "       False, False,  True,  True,  True])"
      ]
     },
     "execution_count": 146,
     "metadata": {},
     "output_type": "execute_result"
    }
   ],
   "source": [
    "rfe.support_"
   ]
  },
  {
   "cell_type": "code",
   "execution_count": 148,
   "id": "19d516ed-1d66-45dc-906e-8e5870d0faf4",
   "metadata": {},
   "outputs": [
    {
     "data": {
      "text/plain": [
       "[('tenure', True, 1),\n",
       " ('PhoneService', False, 3),\n",
       " ('PaperlessBilling', True, 1),\n",
       " ('MonthlyCharges', True, 1),\n",
       " ('TotalCharges', True, 1),\n",
       " ('SeniorCitizen', True, 1),\n",
       " ('Partner', False, 7),\n",
       " ('Dependents', False, 6),\n",
       " ('Contract_One year', True, 1),\n",
       " ('Contract_Two year', True, 1),\n",
       " ('PaymentMethod_Credit card (automatic)', True, 1),\n",
       " ('PaymentMethod_Electronic check', False, 4),\n",
       " ('PaymentMethod_Mailed check', True, 1),\n",
       " ('gender_Male', False, 8),\n",
       " ('InternetService_Fiber optic', True, 1),\n",
       " ('InternetService_No', True, 1),\n",
       " ('MultipleLines_Yes', True, 1),\n",
       " ('OnlineSecurity_Yes', False, 2),\n",
       " ('OnlineBackup_Yes', False, 5),\n",
       " ('DeviceProtection_Yes', False, 9),\n",
       " ('TechSupport_Yes', True, 1),\n",
       " ('StreamingTV_Yes', True, 1),\n",
       " ('StreamingMovies_Yes', True, 1)]"
      ]
     },
     "execution_count": 148,
     "metadata": {},
     "output_type": "execute_result"
    }
   ],
   "source": [
    "list(zip(X_train.columns,rfe.support_,rfe.ranking_))"
   ]
  },
  {
   "cell_type": "code",
   "execution_count": 149,
   "id": "9336ff7e-595e-4c8f-b2b8-ae43d4185d65",
   "metadata": {},
   "outputs": [],
   "source": [
    "col =X_train.columns[rfe.support_]"
   ]
  },
  {
   "cell_type": "code",
   "execution_count": 150,
   "id": "3236786d-0d11-4444-b804-48610e8cb7f8",
   "metadata": {},
   "outputs": [
    {
     "data": {
      "text/plain": [
       "Index(['PhoneService', 'Partner', 'Dependents',\n",
       "       'PaymentMethod_Electronic check', 'gender_Male', 'OnlineSecurity_Yes',\n",
       "       'OnlineBackup_Yes', 'DeviceProtection_Yes'],\n",
       "      dtype='object')"
      ]
     },
     "execution_count": 150,
     "metadata": {},
     "output_type": "execute_result"
    }
   ],
   "source": [
    "X_train.columns[~rfe.support_]"
   ]
  },
  {
   "cell_type": "markdown",
   "id": "5ed42ce5-cb5a-4226-a301-d81db454152a",
   "metadata": {},
   "source": [
    "### Assessing the model with statsmodels"
   ]
  },
  {
   "cell_type": "code",
   "execution_count": 151,
   "id": "6f2401e1-2f76-4669-ae70-1162fcfa44f0",
   "metadata": {},
   "outputs": [
    {
     "data": {
      "text/html": [
       "<table class=\"simpletable\">\n",
       "<caption>Generalized Linear Model Regression Results</caption>\n",
       "<tr>\n",
       "  <th>Dep. Variable:</th>         <td>Churn</td>      <th>  No. Observations:  </th>  <td>  4922</td> \n",
       "</tr>\n",
       "<tr>\n",
       "  <th>Model:</th>                  <td>GLM</td>       <th>  Df Residuals:      </th>  <td>  4906</td> \n",
       "</tr>\n",
       "<tr>\n",
       "  <th>Model Family:</th>        <td>Binomial</td>     <th>  Df Model:          </th>  <td>    15</td> \n",
       "</tr>\n",
       "<tr>\n",
       "  <th>Link Function:</th>         <td>Logit</td>      <th>  Scale:             </th> <td>  1.0000</td>\n",
       "</tr>\n",
       "<tr>\n",
       "  <th>Method:</th>                <td>IRLS</td>       <th>  Log-Likelihood:    </th> <td> -2011.1</td>\n",
       "</tr>\n",
       "<tr>\n",
       "  <th>Date:</th>            <td>Wed, 15 May 2024</td> <th>  Deviance:          </th> <td>  4022.2</td>\n",
       "</tr>\n",
       "<tr>\n",
       "  <th>Time:</th>                <td>07:45:06</td>     <th>  Pearson chi2:      </th> <td>6.25e+03</td>\n",
       "</tr>\n",
       "<tr>\n",
       "  <th>No. Iterations:</th>          <td>7</td>        <th>  Pseudo R-squ. (CS):</th>  <td>0.2825</td> \n",
       "</tr>\n",
       "<tr>\n",
       "  <th>Covariance Type:</th>     <td>nonrobust</td>    <th>                     </th>     <td> </td>   \n",
       "</tr>\n",
       "</table>\n",
       "<table class=\"simpletable\">\n",
       "<tr>\n",
       "                    <td></td>                       <th>coef</th>     <th>std err</th>      <th>z</th>      <th>P>|z|</th>  <th>[0.025</th>    <th>0.975]</th>  \n",
       "</tr>\n",
       "<tr>\n",
       "  <th>const</th>                                 <td>   -2.2462</td> <td>    0.189</td> <td>  -11.879</td> <td> 0.000</td> <td>   -2.617</td> <td>   -1.876</td>\n",
       "</tr>\n",
       "<tr>\n",
       "  <th>tenure</th>                                <td>   -1.5596</td> <td>    0.187</td> <td>   -8.334</td> <td> 0.000</td> <td>   -1.926</td> <td>   -1.193</td>\n",
       "</tr>\n",
       "<tr>\n",
       "  <th>PaperlessBilling</th>                      <td>    0.3436</td> <td>    0.090</td> <td>    3.832</td> <td> 0.000</td> <td>    0.168</td> <td>    0.519</td>\n",
       "</tr>\n",
       "<tr>\n",
       "  <th>MonthlyCharges</th>                        <td>   -0.9692</td> <td>    0.199</td> <td>   -4.878</td> <td> 0.000</td> <td>   -1.359</td> <td>   -0.580</td>\n",
       "</tr>\n",
       "<tr>\n",
       "  <th>TotalCharges</th>                          <td>    0.7421</td> <td>    0.197</td> <td>    3.764</td> <td> 0.000</td> <td>    0.356</td> <td>    1.128</td>\n",
       "</tr>\n",
       "<tr>\n",
       "  <th>SeniorCitizen</th>                         <td>    0.4296</td> <td>    0.100</td> <td>    4.312</td> <td> 0.000</td> <td>    0.234</td> <td>    0.625</td>\n",
       "</tr>\n",
       "<tr>\n",
       "  <th>Contract_One year</th>                     <td>   -0.6830</td> <td>    0.128</td> <td>   -5.342</td> <td> 0.000</td> <td>   -0.934</td> <td>   -0.432</td>\n",
       "</tr>\n",
       "<tr>\n",
       "  <th>Contract_Two year</th>                     <td>   -1.2931</td> <td>    0.211</td> <td>   -6.138</td> <td> 0.000</td> <td>   -1.706</td> <td>   -0.880</td>\n",
       "</tr>\n",
       "<tr>\n",
       "  <th>PaymentMethod_Credit card (automatic)</th> <td>   -0.3724</td> <td>    0.113</td> <td>   -3.308</td> <td> 0.001</td> <td>   -0.593</td> <td>   -0.152</td>\n",
       "</tr>\n",
       "<tr>\n",
       "  <th>PaymentMethod_Mailed check</th>            <td>   -0.3723</td> <td>    0.111</td> <td>   -3.345</td> <td> 0.001</td> <td>   -0.591</td> <td>   -0.154</td>\n",
       "</tr>\n",
       "<tr>\n",
       "  <th>InternetService_Fiber optic</th>           <td>    1.5865</td> <td>    0.216</td> <td>    7.342</td> <td> 0.000</td> <td>    1.163</td> <td>    2.010</td>\n",
       "</tr>\n",
       "<tr>\n",
       "  <th>InternetService_No</th>                    <td>   -1.6897</td> <td>    0.216</td> <td>   -7.830</td> <td> 0.000</td> <td>   -2.113</td> <td>   -1.267</td>\n",
       "</tr>\n",
       "<tr>\n",
       "  <th>MultipleLines_Yes</th>                     <td>    0.3779</td> <td>    0.104</td> <td>    3.640</td> <td> 0.000</td> <td>    0.174</td> <td>    0.581</td>\n",
       "</tr>\n",
       "<tr>\n",
       "  <th>TechSupport_Yes</th>                       <td>   -0.2408</td> <td>    0.109</td> <td>   -2.210</td> <td> 0.027</td> <td>   -0.454</td> <td>   -0.027</td>\n",
       "</tr>\n",
       "<tr>\n",
       "  <th>StreamingTV_Yes</th>                       <td>    0.5796</td> <td>    0.114</td> <td>    5.102</td> <td> 0.000</td> <td>    0.357</td> <td>    0.802</td>\n",
       "</tr>\n",
       "<tr>\n",
       "  <th>StreamingMovies_Yes</th>                   <td>    0.4665</td> <td>    0.111</td> <td>    4.197</td> <td> 0.000</td> <td>    0.249</td> <td>    0.684</td>\n",
       "</tr>\n",
       "</table>"
      ],
      "text/latex": [
       "\\begin{center}\n",
       "\\begin{tabular}{lclc}\n",
       "\\toprule\n",
       "\\textbf{Dep. Variable:}                         &      Churn       & \\textbf{  No. Observations:  } &     4922    \\\\\n",
       "\\textbf{Model:}                                 &       GLM        & \\textbf{  Df Residuals:      } &     4906    \\\\\n",
       "\\textbf{Model Family:}                          &     Binomial     & \\textbf{  Df Model:          } &       15    \\\\\n",
       "\\textbf{Link Function:}                         &      Logit       & \\textbf{  Scale:             } &    1.0000   \\\\\n",
       "\\textbf{Method:}                                &       IRLS       & \\textbf{  Log-Likelihood:    } &   -2011.1   \\\\\n",
       "\\textbf{Date:}                                  & Wed, 15 May 2024 & \\textbf{  Deviance:          } &    4022.2   \\\\\n",
       "\\textbf{Time:}                                  &     07:45:06     & \\textbf{  Pearson chi2:      } &  6.25e+03   \\\\\n",
       "\\textbf{No. Iterations:}                        &        7         & \\textbf{  Pseudo R-squ. (CS):} &   0.2825    \\\\\n",
       "\\textbf{Covariance Type:}                       &    nonrobust     & \\textbf{                     } &             \\\\\n",
       "\\bottomrule\n",
       "\\end{tabular}\n",
       "\\begin{tabular}{lcccccc}\n",
       "                                                & \\textbf{coef} & \\textbf{std err} & \\textbf{z} & \\textbf{P$> |$z$|$} & \\textbf{[0.025} & \\textbf{0.975]}  \\\\\n",
       "\\midrule\n",
       "\\textbf{const}                                  &      -2.2462  &        0.189     &   -11.879  &         0.000        &       -2.617    &       -1.876     \\\\\n",
       "\\textbf{tenure}                                 &      -1.5596  &        0.187     &    -8.334  &         0.000        &       -1.926    &       -1.193     \\\\\n",
       "\\textbf{PaperlessBilling}                       &       0.3436  &        0.090     &     3.832  &         0.000        &        0.168    &        0.519     \\\\\n",
       "\\textbf{MonthlyCharges}                         &      -0.9692  &        0.199     &    -4.878  &         0.000        &       -1.359    &       -0.580     \\\\\n",
       "\\textbf{TotalCharges}                           &       0.7421  &        0.197     &     3.764  &         0.000        &        0.356    &        1.128     \\\\\n",
       "\\textbf{SeniorCitizen}                          &       0.4296  &        0.100     &     4.312  &         0.000        &        0.234    &        0.625     \\\\\n",
       "\\textbf{Contract\\_One year}                     &      -0.6830  &        0.128     &    -5.342  &         0.000        &       -0.934    &       -0.432     \\\\\n",
       "\\textbf{Contract\\_Two year}                     &      -1.2931  &        0.211     &    -6.138  &         0.000        &       -1.706    &       -0.880     \\\\\n",
       "\\textbf{PaymentMethod\\_Credit card (automatic)} &      -0.3724  &        0.113     &    -3.308  &         0.001        &       -0.593    &       -0.152     \\\\\n",
       "\\textbf{PaymentMethod\\_Mailed check}            &      -0.3723  &        0.111     &    -3.345  &         0.001        &       -0.591    &       -0.154     \\\\\n",
       "\\textbf{InternetService\\_Fiber optic}           &       1.5865  &        0.216     &     7.342  &         0.000        &        1.163    &        2.010     \\\\\n",
       "\\textbf{InternetService\\_No}                    &      -1.6897  &        0.216     &    -7.830  &         0.000        &       -2.113    &       -1.267     \\\\\n",
       "\\textbf{MultipleLines\\_Yes}                     &       0.3779  &        0.104     &     3.640  &         0.000        &        0.174    &        0.581     \\\\\n",
       "\\textbf{TechSupport\\_Yes}                       &      -0.2408  &        0.109     &    -2.210  &         0.027        &       -0.454    &       -0.027     \\\\\n",
       "\\textbf{StreamingTV\\_Yes}                       &       0.5796  &        0.114     &     5.102  &         0.000        &        0.357    &        0.802     \\\\\n",
       "\\textbf{StreamingMovies\\_Yes}                   &       0.4665  &        0.111     &     4.197  &         0.000        &        0.249    &        0.684     \\\\\n",
       "\\bottomrule\n",
       "\\end{tabular}\n",
       "%\\caption{Generalized Linear Model Regression Results}\n",
       "\\end{center}"
      ],
      "text/plain": [
       "<class 'statsmodels.iolib.summary.Summary'>\n",
       "\"\"\"\n",
       "                 Generalized Linear Model Regression Results                  \n",
       "==============================================================================\n",
       "Dep. Variable:                  Churn   No. Observations:                 4922\n",
       "Model:                            GLM   Df Residuals:                     4906\n",
       "Model Family:                Binomial   Df Model:                           15\n",
       "Link Function:                  Logit   Scale:                          1.0000\n",
       "Method:                          IRLS   Log-Likelihood:                -2011.1\n",
       "Date:                Wed, 15 May 2024   Deviance:                       4022.2\n",
       "Time:                        07:45:06   Pearson chi2:                 6.25e+03\n",
       "No. Iterations:                     7   Pseudo R-squ. (CS):             0.2825\n",
       "Covariance Type:            nonrobust                                         \n",
       "=========================================================================================================\n",
       "                                            coef    std err          z      P>|z|      [0.025      0.975]\n",
       "---------------------------------------------------------------------------------------------------------\n",
       "const                                    -2.2462      0.189    -11.879      0.000      -2.617      -1.876\n",
       "tenure                                   -1.5596      0.187     -8.334      0.000      -1.926      -1.193\n",
       "PaperlessBilling                          0.3436      0.090      3.832      0.000       0.168       0.519\n",
       "MonthlyCharges                           -0.9692      0.199     -4.878      0.000      -1.359      -0.580\n",
       "TotalCharges                              0.7421      0.197      3.764      0.000       0.356       1.128\n",
       "SeniorCitizen                             0.4296      0.100      4.312      0.000       0.234       0.625\n",
       "Contract_One year                        -0.6830      0.128     -5.342      0.000      -0.934      -0.432\n",
       "Contract_Two year                        -1.2931      0.211     -6.138      0.000      -1.706      -0.880\n",
       "PaymentMethod_Credit card (automatic)    -0.3724      0.113     -3.308      0.001      -0.593      -0.152\n",
       "PaymentMethod_Mailed check               -0.3723      0.111     -3.345      0.001      -0.591      -0.154\n",
       "InternetService_Fiber optic               1.5865      0.216      7.342      0.000       1.163       2.010\n",
       "InternetService_No                       -1.6897      0.216     -7.830      0.000      -2.113      -1.267\n",
       "MultipleLines_Yes                         0.3779      0.104      3.640      0.000       0.174       0.581\n",
       "TechSupport_Yes                          -0.2408      0.109     -2.210      0.027      -0.454      -0.027\n",
       "StreamingTV_Yes                           0.5796      0.114      5.102      0.000       0.357       0.802\n",
       "StreamingMovies_Yes                       0.4665      0.111      4.197      0.000       0.249       0.684\n",
       "=========================================================================================================\n",
       "\"\"\""
      ]
     },
     "execution_count": 151,
     "metadata": {},
     "output_type": "execute_result"
    }
   ],
   "source": [
    "X_train_sm = sm.add_constant(X_train[col])\n",
    "logm2 = sm.GLM(y_train,X_train_sm,family=sm.families.Binomial())\n",
    "res = logm2.fit()\n",
    "res.summary()"
   ]
  },
  {
   "cell_type": "code",
   "execution_count": 153,
   "id": "59c4a14e-164e-4997-acd7-91bdf25be997",
   "metadata": {},
   "outputs": [
    {
     "data": {
      "text/plain": [
       "879     0.192642\n",
       "5790    0.275624\n",
       "6498    0.599507\n",
       "880     0.513571\n",
       "2784    0.648233\n",
       "dtype: float64"
      ]
     },
     "execution_count": 153,
     "metadata": {},
     "output_type": "execute_result"
    }
   ],
   "source": [
    "#Getting the predicted values on the train set\n",
    "y_train_pred = res.predict(X_train_sm)\n",
    "y_train_pred.head()"
   ]
  },
  {
   "cell_type": "markdown",
   "id": "47f9ced7-4ec4-46a3-b4ea-e4555841d533",
   "metadata": {},
   "source": [
    "### Creating a dataframe with the actual churn flag and the predicted probabilities"
   ]
  },
  {
   "cell_type": "code",
   "execution_count": 155,
   "id": "f5d13213-27c8-4d35-b7ad-a251fa4937b1",
   "metadata": {},
   "outputs": [
    {
     "data": {
      "text/html": [
       "<div>\n",
       "<style scoped>\n",
       "    .dataframe tbody tr th:only-of-type {\n",
       "        vertical-align: middle;\n",
       "    }\n",
       "\n",
       "    .dataframe tbody tr th {\n",
       "        vertical-align: top;\n",
       "    }\n",
       "\n",
       "    .dataframe thead th {\n",
       "        text-align: right;\n",
       "    }\n",
       "</style>\n",
       "<table border=\"1\" class=\"dataframe\">\n",
       "  <thead>\n",
       "    <tr style=\"text-align: right;\">\n",
       "      <th></th>\n",
       "      <th>Churn</th>\n",
       "      <th>Churn_Prob</th>\n",
       "      <th>CustID</th>\n",
       "    </tr>\n",
       "  </thead>\n",
       "  <tbody>\n",
       "    <tr>\n",
       "      <th>879</th>\n",
       "      <td>0</td>\n",
       "      <td>0.192642</td>\n",
       "      <td>879</td>\n",
       "    </tr>\n",
       "    <tr>\n",
       "      <th>5790</th>\n",
       "      <td>0</td>\n",
       "      <td>0.275624</td>\n",
       "      <td>5790</td>\n",
       "    </tr>\n",
       "    <tr>\n",
       "      <th>6498</th>\n",
       "      <td>1</td>\n",
       "      <td>0.599507</td>\n",
       "      <td>6498</td>\n",
       "    </tr>\n",
       "    <tr>\n",
       "      <th>880</th>\n",
       "      <td>1</td>\n",
       "      <td>0.513571</td>\n",
       "      <td>880</td>\n",
       "    </tr>\n",
       "    <tr>\n",
       "      <th>2784</th>\n",
       "      <td>1</td>\n",
       "      <td>0.648233</td>\n",
       "      <td>2784</td>\n",
       "    </tr>\n",
       "  </tbody>\n",
       "</table>\n",
       "</div>"
      ],
      "text/plain": [
       "      Churn  Churn_Prob  CustID\n",
       "879       0    0.192642     879\n",
       "5790      0    0.275624    5790\n",
       "6498      1    0.599507    6498\n",
       "880       1    0.513571     880\n",
       "2784      1    0.648233    2784"
      ]
     },
     "execution_count": 155,
     "metadata": {},
     "output_type": "execute_result"
    }
   ],
   "source": [
    "y_train_pred_final = pd.DataFrame({'Churn':y_train.values,'Churn_Prob':y_train_pred})\n",
    "y_train_pred_final['CustID'] = y_train.index\n",
    "y_train_pred_final.head()"
   ]
  },
  {
   "cell_type": "markdown",
   "id": "33db52ba-6d44-439d-be5d-1472f9fd1810",
   "metadata": {},
   "source": [
    "#### Creating new column predicted with 1 if Churn_Prob>0.5 else 0"
   ]
  },
  {
   "cell_type": "code",
   "execution_count": 157,
   "id": "3212b26f-56cd-4ef6-ae08-a47b01516412",
   "metadata": {},
   "outputs": [
    {
     "data": {
      "text/html": [
       "<div>\n",
       "<style scoped>\n",
       "    .dataframe tbody tr th:only-of-type {\n",
       "        vertical-align: middle;\n",
       "    }\n",
       "\n",
       "    .dataframe tbody tr th {\n",
       "        vertical-align: top;\n",
       "    }\n",
       "\n",
       "    .dataframe thead th {\n",
       "        text-align: right;\n",
       "    }\n",
       "</style>\n",
       "<table border=\"1\" class=\"dataframe\">\n",
       "  <thead>\n",
       "    <tr style=\"text-align: right;\">\n",
       "      <th></th>\n",
       "      <th>Churn</th>\n",
       "      <th>Churn_Prob</th>\n",
       "      <th>CustID</th>\n",
       "      <th>predicted</th>\n",
       "    </tr>\n",
       "  </thead>\n",
       "  <tbody>\n",
       "    <tr>\n",
       "      <th>879</th>\n",
       "      <td>0</td>\n",
       "      <td>0.192642</td>\n",
       "      <td>879</td>\n",
       "      <td>0</td>\n",
       "    </tr>\n",
       "    <tr>\n",
       "      <th>5790</th>\n",
       "      <td>0</td>\n",
       "      <td>0.275624</td>\n",
       "      <td>5790</td>\n",
       "      <td>0</td>\n",
       "    </tr>\n",
       "    <tr>\n",
       "      <th>6498</th>\n",
       "      <td>1</td>\n",
       "      <td>0.599507</td>\n",
       "      <td>6498</td>\n",
       "      <td>1</td>\n",
       "    </tr>\n",
       "    <tr>\n",
       "      <th>880</th>\n",
       "      <td>1</td>\n",
       "      <td>0.513571</td>\n",
       "      <td>880</td>\n",
       "      <td>1</td>\n",
       "    </tr>\n",
       "    <tr>\n",
       "      <th>2784</th>\n",
       "      <td>1</td>\n",
       "      <td>0.648233</td>\n",
       "      <td>2784</td>\n",
       "      <td>1</td>\n",
       "    </tr>\n",
       "  </tbody>\n",
       "</table>\n",
       "</div>"
      ],
      "text/plain": [
       "      Churn  Churn_Prob  CustID  predicted\n",
       "879       0    0.192642     879          0\n",
       "5790      0    0.275624    5790          0\n",
       "6498      1    0.599507    6498          1\n",
       "880       1    0.513571     880          1\n",
       "2784      1    0.648233    2784          1"
      ]
     },
     "execution_count": 157,
     "metadata": {},
     "output_type": "execute_result"
    }
   ],
   "source": [
    "y_train_pred_final['predicted'] = y_train_pred_final.Churn_Prob.map(lambda x:1 if x>0.5 else 0)\n",
    "\n",
    "y_train_pred_final.head()"
   ]
  },
  {
   "cell_type": "code",
   "execution_count": 161,
   "id": "90475bf9-5aee-4c3f-98ad-6bdd56efbf8e",
   "metadata": {},
   "outputs": [],
   "source": [
    "#Confusion matrix\n",
    "from sklearn.metrics import confusion_matrix,accuracy_score"
   ]
  },
  {
   "cell_type": "code",
   "execution_count": 159,
   "id": "264f23fc-dbc9-4fe5-846c-d38170fdec8f",
   "metadata": {},
   "outputs": [
    {
     "name": "stdout",
     "output_type": "stream",
     "text": [
      "[[3275  360]\n",
      " [ 574  713]]\n"
     ]
    }
   ],
   "source": [
    "confusion = confusion_matrix(y_train_pred_final.Churn,y_train_pred_final.predicted)\n",
    "print(confusion)"
   ]
  },
  {
   "cell_type": "code",
   "execution_count": 162,
   "id": "b5669ffe-a68c-4015-ad4a-55352dd96a00",
   "metadata": {},
   "outputs": [
    {
     "data": {
      "text/plain": [
       "0.8102397399431126"
      ]
     },
     "execution_count": 162,
     "metadata": {},
     "output_type": "execute_result"
    }
   ],
   "source": [
    "## Lets check the overall acccuracy\n",
    "accuracy_score(y_train_pred_final.Churn,y_train_pred_final.predicted)"
   ]
  },
  {
   "cell_type": "markdown",
   "id": "4b9c411f-109f-42e0-ac68-ba476037ead8",
   "metadata": {},
   "source": [
    "### Checking VIFs\n"
   ]
  },
  {
   "cell_type": "code",
   "execution_count": 163,
   "id": "ab4b1864-bb0d-48c9-8baa-4edcf5ccfb18",
   "metadata": {},
   "outputs": [],
   "source": [
    "from statsmodels.stats.outliers_influence import variance_inflation_factor"
   ]
  },
  {
   "cell_type": "code",
   "execution_count": 164,
   "id": "fbc0127f-aa0b-4017-a314-130a1d1a3bdc",
   "metadata": {},
   "outputs": [
    {
     "data": {
      "text/html": [
       "<div>\n",
       "<style scoped>\n",
       "    .dataframe tbody tr th:only-of-type {\n",
       "        vertical-align: middle;\n",
       "    }\n",
       "\n",
       "    .dataframe tbody tr th {\n",
       "        vertical-align: top;\n",
       "    }\n",
       "\n",
       "    .dataframe thead th {\n",
       "        text-align: right;\n",
       "    }\n",
       "</style>\n",
       "<table border=\"1\" class=\"dataframe\">\n",
       "  <thead>\n",
       "    <tr style=\"text-align: right;\">\n",
       "      <th></th>\n",
       "      <th>Features</th>\n",
       "      <th>VIF</th>\n",
       "    </tr>\n",
       "  </thead>\n",
       "  <tbody>\n",
       "    <tr>\n",
       "      <th>2</th>\n",
       "      <td>MonthlyCharges</td>\n",
       "      <td>14.85</td>\n",
       "    </tr>\n",
       "    <tr>\n",
       "      <th>3</th>\n",
       "      <td>TotalCharges</td>\n",
       "      <td>10.42</td>\n",
       "    </tr>\n",
       "    <tr>\n",
       "      <th>0</th>\n",
       "      <td>tenure</td>\n",
       "      <td>7.38</td>\n",
       "    </tr>\n",
       "    <tr>\n",
       "      <th>9</th>\n",
       "      <td>InternetService_Fiber optic</td>\n",
       "      <td>5.61</td>\n",
       "    </tr>\n",
       "    <tr>\n",
       "      <th>10</th>\n",
       "      <td>InternetService_No</td>\n",
       "      <td>5.27</td>\n",
       "    </tr>\n",
       "    <tr>\n",
       "      <th>6</th>\n",
       "      <td>Contract_Two year</td>\n",
       "      <td>3.14</td>\n",
       "    </tr>\n",
       "    <tr>\n",
       "      <th>13</th>\n",
       "      <td>StreamingTV_Yes</td>\n",
       "      <td>2.79</td>\n",
       "    </tr>\n",
       "    <tr>\n",
       "      <th>14</th>\n",
       "      <td>StreamingMovies_Yes</td>\n",
       "      <td>2.79</td>\n",
       "    </tr>\n",
       "    <tr>\n",
       "      <th>1</th>\n",
       "      <td>PaperlessBilling</td>\n",
       "      <td>2.76</td>\n",
       "    </tr>\n",
       "    <tr>\n",
       "      <th>11</th>\n",
       "      <td>MultipleLines_Yes</td>\n",
       "      <td>2.38</td>\n",
       "    </tr>\n",
       "    <tr>\n",
       "      <th>12</th>\n",
       "      <td>TechSupport_Yes</td>\n",
       "      <td>1.95</td>\n",
       "    </tr>\n",
       "    <tr>\n",
       "      <th>5</th>\n",
       "      <td>Contract_One year</td>\n",
       "      <td>1.85</td>\n",
       "    </tr>\n",
       "    <tr>\n",
       "      <th>8</th>\n",
       "      <td>PaymentMethod_Mailed check</td>\n",
       "      <td>1.73</td>\n",
       "    </tr>\n",
       "    <tr>\n",
       "      <th>7</th>\n",
       "      <td>PaymentMethod_Credit card (automatic)</td>\n",
       "      <td>1.45</td>\n",
       "    </tr>\n",
       "    <tr>\n",
       "      <th>4</th>\n",
       "      <td>SeniorCitizen</td>\n",
       "      <td>1.33</td>\n",
       "    </tr>\n",
       "  </tbody>\n",
       "</table>\n",
       "</div>"
      ],
      "text/plain": [
       "                                 Features    VIF\n",
       "2                          MonthlyCharges  14.85\n",
       "3                            TotalCharges  10.42\n",
       "0                                  tenure   7.38\n",
       "9             InternetService_Fiber optic   5.61\n",
       "10                     InternetService_No   5.27\n",
       "6                       Contract_Two year   3.14\n",
       "13                        StreamingTV_Yes   2.79\n",
       "14                    StreamingMovies_Yes   2.79\n",
       "1                        PaperlessBilling   2.76\n",
       "11                      MultipleLines_Yes   2.38\n",
       "12                        TechSupport_Yes   1.95\n",
       "5                       Contract_One year   1.85\n",
       "8              PaymentMethod_Mailed check   1.73\n",
       "7   PaymentMethod_Credit card (automatic)   1.45\n",
       "4                           SeniorCitizen   1.33"
      ]
     },
     "execution_count": 164,
     "metadata": {},
     "output_type": "execute_result"
    }
   ],
   "source": [
    "vif = pd.DataFrame()\n",
    "vif['Features'] = X_train[col].columns\n",
    "vif['VIF'] = [variance_inflation_factor(X_train[col].values,i) for i in range(X_train[col].shape[1])]\n",
    "vif['VIF'] = round(vif['VIF'],2)\n",
    "vif = vif.sort_values(by='VIF',ascending=False)\n",
    "vif"
   ]
  },
  {
   "cell_type": "code",
   "execution_count": 169,
   "id": "6f5e6d58-3483-46b9-a569-f361e5e4e9d2",
   "metadata": {},
   "outputs": [
    {
     "data": {
      "text/plain": [
       "Index(['tenure', 'PaperlessBilling', 'TotalCharges', 'SeniorCitizen',\n",
       "       'Contract_One year', 'Contract_Two year',\n",
       "       'PaymentMethod_Credit card (automatic)', 'PaymentMethod_Mailed check',\n",
       "       'InternetService_Fiber optic', 'InternetService_No',\n",
       "       'MultipleLines_Yes', 'TechSupport_Yes', 'StreamingTV_Yes',\n",
       "       'StreamingMovies_Yes'],\n",
       "      dtype='object')"
      ]
     },
     "execution_count": 169,
     "metadata": {},
     "output_type": "execute_result"
    }
   ],
   "source": [
    "## Dropping the column with the highest VIF\n",
    "col = col.drop('MonthlyCharges')\n",
    "col"
   ]
  },
  {
   "cell_type": "code",
   "execution_count": 170,
   "id": "929b1d36-1bf5-43fd-99fa-bfd4055c0af1",
   "metadata": {},
   "outputs": [
    {
     "data": {
      "text/html": [
       "<table class=\"simpletable\">\n",
       "<caption>Generalized Linear Model Regression Results</caption>\n",
       "<tr>\n",
       "  <th>Dep. Variable:</th>         <td>Churn</td>      <th>  No. Observations:  </th>  <td>  4922</td> \n",
       "</tr>\n",
       "<tr>\n",
       "  <th>Model:</th>                  <td>GLM</td>       <th>  Df Residuals:      </th>  <td>  4907</td> \n",
       "</tr>\n",
       "<tr>\n",
       "  <th>Model Family:</th>        <td>Binomial</td>     <th>  Df Model:          </th>  <td>    14</td> \n",
       "</tr>\n",
       "<tr>\n",
       "  <th>Link Function:</th>         <td>Logit</td>      <th>  Scale:             </th> <td>  1.0000</td>\n",
       "</tr>\n",
       "<tr>\n",
       "  <th>Method:</th>                <td>IRLS</td>       <th>  Log-Likelihood:    </th> <td> -2023.1</td>\n",
       "</tr>\n",
       "<tr>\n",
       "  <th>Date:</th>            <td>Wed, 15 May 2024</td> <th>  Deviance:          </th> <td>  4046.2</td>\n",
       "</tr>\n",
       "<tr>\n",
       "  <th>Time:</th>                <td>08:06:02</td>     <th>  Pearson chi2:      </th> <td>5.80e+03</td>\n",
       "</tr>\n",
       "<tr>\n",
       "  <th>No. Iterations:</th>          <td>7</td>        <th>  Pseudo R-squ. (CS):</th>  <td>0.2790</td> \n",
       "</tr>\n",
       "<tr>\n",
       "  <th>Covariance Type:</th>     <td>nonrobust</td>    <th>                     </th>     <td> </td>   \n",
       "</tr>\n",
       "</table>\n",
       "<table class=\"simpletable\">\n",
       "<tr>\n",
       "                    <td></td>                       <th>coef</th>     <th>std err</th>      <th>z</th>      <th>P>|z|</th>  <th>[0.025</th>    <th>0.975]</th>  \n",
       "</tr>\n",
       "<tr>\n",
       "  <th>const</th>                                 <td>   -1.5971</td> <td>    0.130</td> <td>  -12.296</td> <td> 0.000</td> <td>   -1.852</td> <td>   -1.343</td>\n",
       "</tr>\n",
       "<tr>\n",
       "  <th>tenure</th>                                <td>   -1.3286</td> <td>    0.180</td> <td>   -7.401</td> <td> 0.000</td> <td>   -1.681</td> <td>   -0.977</td>\n",
       "</tr>\n",
       "<tr>\n",
       "  <th>PaperlessBilling</th>                      <td>    0.3533</td> <td>    0.089</td> <td>    3.958</td> <td> 0.000</td> <td>    0.178</td> <td>    0.528</td>\n",
       "</tr>\n",
       "<tr>\n",
       "  <th>TotalCharges</th>                          <td>    0.4347</td> <td>    0.186</td> <td>    2.340</td> <td> 0.019</td> <td>    0.071</td> <td>    0.799</td>\n",
       "</tr>\n",
       "<tr>\n",
       "  <th>SeniorCitizen</th>                         <td>    0.4569</td> <td>    0.099</td> <td>    4.601</td> <td> 0.000</td> <td>    0.262</td> <td>    0.652</td>\n",
       "</tr>\n",
       "<tr>\n",
       "  <th>Contract_One year</th>                     <td>   -0.7289</td> <td>    0.127</td> <td>   -5.729</td> <td> 0.000</td> <td>   -0.978</td> <td>   -0.480</td>\n",
       "</tr>\n",
       "<tr>\n",
       "  <th>Contract_Two year</th>                     <td>   -1.3277</td> <td>    0.210</td> <td>   -6.322</td> <td> 0.000</td> <td>   -1.739</td> <td>   -0.916</td>\n",
       "</tr>\n",
       "<tr>\n",
       "  <th>PaymentMethod_Credit card (automatic)</th> <td>   -0.3870</td> <td>    0.112</td> <td>   -3.442</td> <td> 0.001</td> <td>   -0.607</td> <td>   -0.167</td>\n",
       "</tr>\n",
       "<tr>\n",
       "  <th>PaymentMethod_Mailed check</th>            <td>   -0.3618</td> <td>    0.110</td> <td>   -3.274</td> <td> 0.001</td> <td>   -0.578</td> <td>   -0.145</td>\n",
       "</tr>\n",
       "<tr>\n",
       "  <th>InternetService_Fiber optic</th>           <td>    0.6888</td> <td>    0.109</td> <td>    6.297</td> <td> 0.000</td> <td>    0.474</td> <td>    0.903</td>\n",
       "</tr>\n",
       "<tr>\n",
       "  <th>InternetService_No</th>                    <td>   -0.9555</td> <td>    0.156</td> <td>   -6.120</td> <td> 0.000</td> <td>   -1.262</td> <td>   -0.649</td>\n",
       "</tr>\n",
       "<tr>\n",
       "  <th>MultipleLines_Yes</th>                     <td>    0.1700</td> <td>    0.094</td> <td>    1.814</td> <td> 0.070</td> <td>   -0.014</td> <td>    0.354</td>\n",
       "</tr>\n",
       "<tr>\n",
       "  <th>TechSupport_Yes</th>                       <td>   -0.4371</td> <td>    0.101</td> <td>   -4.307</td> <td> 0.000</td> <td>   -0.636</td> <td>   -0.238</td>\n",
       "</tr>\n",
       "<tr>\n",
       "  <th>StreamingTV_Yes</th>                       <td>    0.2881</td> <td>    0.096</td> <td>    2.996</td> <td> 0.003</td> <td>    0.100</td> <td>    0.477</td>\n",
       "</tr>\n",
       "<tr>\n",
       "  <th>StreamingMovies_Yes</th>                   <td>    0.1944</td> <td>    0.096</td> <td>    2.031</td> <td> 0.042</td> <td>    0.007</td> <td>    0.382</td>\n",
       "</tr>\n",
       "</table>"
      ],
      "text/latex": [
       "\\begin{center}\n",
       "\\begin{tabular}{lclc}\n",
       "\\toprule\n",
       "\\textbf{Dep. Variable:}                         &      Churn       & \\textbf{  No. Observations:  } &     4922    \\\\\n",
       "\\textbf{Model:}                                 &       GLM        & \\textbf{  Df Residuals:      } &     4907    \\\\\n",
       "\\textbf{Model Family:}                          &     Binomial     & \\textbf{  Df Model:          } &       14    \\\\\n",
       "\\textbf{Link Function:}                         &      Logit       & \\textbf{  Scale:             } &    1.0000   \\\\\n",
       "\\textbf{Method:}                                &       IRLS       & \\textbf{  Log-Likelihood:    } &   -2023.1   \\\\\n",
       "\\textbf{Date:}                                  & Wed, 15 May 2024 & \\textbf{  Deviance:          } &    4046.2   \\\\\n",
       "\\textbf{Time:}                                  &     08:06:02     & \\textbf{  Pearson chi2:      } &  5.80e+03   \\\\\n",
       "\\textbf{No. Iterations:}                        &        7         & \\textbf{  Pseudo R-squ. (CS):} &   0.2790    \\\\\n",
       "\\textbf{Covariance Type:}                       &    nonrobust     & \\textbf{                     } &             \\\\\n",
       "\\bottomrule\n",
       "\\end{tabular}\n",
       "\\begin{tabular}{lcccccc}\n",
       "                                                & \\textbf{coef} & \\textbf{std err} & \\textbf{z} & \\textbf{P$> |$z$|$} & \\textbf{[0.025} & \\textbf{0.975]}  \\\\\n",
       "\\midrule\n",
       "\\textbf{const}                                  &      -1.5971  &        0.130     &   -12.296  &         0.000        &       -1.852    &       -1.343     \\\\\n",
       "\\textbf{tenure}                                 &      -1.3286  &        0.180     &    -7.401  &         0.000        &       -1.681    &       -0.977     \\\\\n",
       "\\textbf{PaperlessBilling}                       &       0.3533  &        0.089     &     3.958  &         0.000        &        0.178    &        0.528     \\\\\n",
       "\\textbf{TotalCharges}                           &       0.4347  &        0.186     &     2.340  &         0.019        &        0.071    &        0.799     \\\\\n",
       "\\textbf{SeniorCitizen}                          &       0.4569  &        0.099     &     4.601  &         0.000        &        0.262    &        0.652     \\\\\n",
       "\\textbf{Contract\\_One year}                     &      -0.7289  &        0.127     &    -5.729  &         0.000        &       -0.978    &       -0.480     \\\\\n",
       "\\textbf{Contract\\_Two year}                     &      -1.3277  &        0.210     &    -6.322  &         0.000        &       -1.739    &       -0.916     \\\\\n",
       "\\textbf{PaymentMethod\\_Credit card (automatic)} &      -0.3870  &        0.112     &    -3.442  &         0.001        &       -0.607    &       -0.167     \\\\\n",
       "\\textbf{PaymentMethod\\_Mailed check}            &      -0.3618  &        0.110     &    -3.274  &         0.001        &       -0.578    &       -0.145     \\\\\n",
       "\\textbf{InternetService\\_Fiber optic}           &       0.6888  &        0.109     &     6.297  &         0.000        &        0.474    &        0.903     \\\\\n",
       "\\textbf{InternetService\\_No}                    &      -0.9555  &        0.156     &    -6.120  &         0.000        &       -1.262    &       -0.649     \\\\\n",
       "\\textbf{MultipleLines\\_Yes}                     &       0.1700  &        0.094     &     1.814  &         0.070        &       -0.014    &        0.354     \\\\\n",
       "\\textbf{TechSupport\\_Yes}                       &      -0.4371  &        0.101     &    -4.307  &         0.000        &       -0.636    &       -0.238     \\\\\n",
       "\\textbf{StreamingTV\\_Yes}                       &       0.2881  &        0.096     &     2.996  &         0.003        &        0.100    &        0.477     \\\\\n",
       "\\textbf{StreamingMovies\\_Yes}                   &       0.1944  &        0.096     &     2.031  &         0.042        &        0.007    &        0.382     \\\\\n",
       "\\bottomrule\n",
       "\\end{tabular}\n",
       "%\\caption{Generalized Linear Model Regression Results}\n",
       "\\end{center}"
      ],
      "text/plain": [
       "<class 'statsmodels.iolib.summary.Summary'>\n",
       "\"\"\"\n",
       "                 Generalized Linear Model Regression Results                  \n",
       "==============================================================================\n",
       "Dep. Variable:                  Churn   No. Observations:                 4922\n",
       "Model:                            GLM   Df Residuals:                     4907\n",
       "Model Family:                Binomial   Df Model:                           14\n",
       "Link Function:                  Logit   Scale:                          1.0000\n",
       "Method:                          IRLS   Log-Likelihood:                -2023.1\n",
       "Date:                Wed, 15 May 2024   Deviance:                       4046.2\n",
       "Time:                        08:06:02   Pearson chi2:                 5.80e+03\n",
       "No. Iterations:                     7   Pseudo R-squ. (CS):             0.2790\n",
       "Covariance Type:            nonrobust                                         \n",
       "=========================================================================================================\n",
       "                                            coef    std err          z      P>|z|      [0.025      0.975]\n",
       "---------------------------------------------------------------------------------------------------------\n",
       "const                                    -1.5971      0.130    -12.296      0.000      -1.852      -1.343\n",
       "tenure                                   -1.3286      0.180     -7.401      0.000      -1.681      -0.977\n",
       "PaperlessBilling                          0.3533      0.089      3.958      0.000       0.178       0.528\n",
       "TotalCharges                              0.4347      0.186      2.340      0.019       0.071       0.799\n",
       "SeniorCitizen                             0.4569      0.099      4.601      0.000       0.262       0.652\n",
       "Contract_One year                        -0.7289      0.127     -5.729      0.000      -0.978      -0.480\n",
       "Contract_Two year                        -1.3277      0.210     -6.322      0.000      -1.739      -0.916\n",
       "PaymentMethod_Credit card (automatic)    -0.3870      0.112     -3.442      0.001      -0.607      -0.167\n",
       "PaymentMethod_Mailed check               -0.3618      0.110     -3.274      0.001      -0.578      -0.145\n",
       "InternetService_Fiber optic               0.6888      0.109      6.297      0.000       0.474       0.903\n",
       "InternetService_No                       -0.9555      0.156     -6.120      0.000      -1.262      -0.649\n",
       "MultipleLines_Yes                         0.1700      0.094      1.814      0.070      -0.014       0.354\n",
       "TechSupport_Yes                          -0.4371      0.101     -4.307      0.000      -0.636      -0.238\n",
       "StreamingTV_Yes                           0.2881      0.096      2.996      0.003       0.100       0.477\n",
       "StreamingMovies_Yes                       0.1944      0.096      2.031      0.042       0.007       0.382\n",
       "=========================================================================================================\n",
       "\"\"\""
      ]
     },
     "execution_count": 170,
     "metadata": {},
     "output_type": "execute_result"
    }
   ],
   "source": [
    "## let;s re-run the model using the selected variables\n",
    "X_train_sm = sm.add_constant(X_train[col])\n",
    "logm3 = sm.GLM(y_train,X_train_sm,family = sm.families.Binomial())\n",
    "res = logm3.fit()\n",
    "res.summary()"
   ]
  },
  {
   "cell_type": "code",
   "execution_count": 171,
   "id": "a517196c-fec6-4349-99fb-c0cde4f338d9",
   "metadata": {},
   "outputs": [
    {
     "data": {
      "text/plain": [
       "array([0.22790197, 0.22864388, 0.67489226, 0.61586836, 0.66226032,\n",
       "       0.41819928, 0.28813321, 0.7951366 , 0.17433167, 0.51908788])"
      ]
     },
     "execution_count": 171,
     "metadata": {},
     "output_type": "execute_result"
    }
   ],
   "source": [
    "y_train_pred = res.predict(X_train_sm).values.reshape(-1)\n",
    "y_train_pred[:10]"
   ]
  },
  {
   "cell_type": "code",
   "execution_count": 172,
   "id": "7d1a5aff-a985-415e-be2e-4caf1b398f2d",
   "metadata": {},
   "outputs": [],
   "source": [
    "y_train_pred_final['Churn_Prob'] = y_train_pred"
   ]
  },
  {
   "cell_type": "code",
   "execution_count": 173,
   "id": "69e7651a-4feb-462e-b9eb-b80588974e56",
   "metadata": {},
   "outputs": [
    {
     "data": {
      "text/html": [
       "<div>\n",
       "<style scoped>\n",
       "    .dataframe tbody tr th:only-of-type {\n",
       "        vertical-align: middle;\n",
       "    }\n",
       "\n",
       "    .dataframe tbody tr th {\n",
       "        vertical-align: top;\n",
       "    }\n",
       "\n",
       "    .dataframe thead th {\n",
       "        text-align: right;\n",
       "    }\n",
       "</style>\n",
       "<table border=\"1\" class=\"dataframe\">\n",
       "  <thead>\n",
       "    <tr style=\"text-align: right;\">\n",
       "      <th></th>\n",
       "      <th>Churn</th>\n",
       "      <th>Churn_Prob</th>\n",
       "      <th>CustID</th>\n",
       "      <th>predicted</th>\n",
       "    </tr>\n",
       "  </thead>\n",
       "  <tbody>\n",
       "    <tr>\n",
       "      <th>879</th>\n",
       "      <td>0</td>\n",
       "      <td>0.227902</td>\n",
       "      <td>879</td>\n",
       "      <td>0</td>\n",
       "    </tr>\n",
       "    <tr>\n",
       "      <th>5790</th>\n",
       "      <td>0</td>\n",
       "      <td>0.228644</td>\n",
       "      <td>5790</td>\n",
       "      <td>0</td>\n",
       "    </tr>\n",
       "    <tr>\n",
       "      <th>6498</th>\n",
       "      <td>1</td>\n",
       "      <td>0.674892</td>\n",
       "      <td>6498</td>\n",
       "      <td>1</td>\n",
       "    </tr>\n",
       "    <tr>\n",
       "      <th>880</th>\n",
       "      <td>1</td>\n",
       "      <td>0.615868</td>\n",
       "      <td>880</td>\n",
       "      <td>1</td>\n",
       "    </tr>\n",
       "    <tr>\n",
       "      <th>2784</th>\n",
       "      <td>1</td>\n",
       "      <td>0.662260</td>\n",
       "      <td>2784</td>\n",
       "      <td>1</td>\n",
       "    </tr>\n",
       "  </tbody>\n",
       "</table>\n",
       "</div>"
      ],
      "text/plain": [
       "      Churn  Churn_Prob  CustID  predicted\n",
       "879       0    0.227902     879          0\n",
       "5790      0    0.228644    5790          0\n",
       "6498      1    0.674892    6498          1\n",
       "880       1    0.615868     880          1\n",
       "2784      1    0.662260    2784          1"
      ]
     },
     "execution_count": 173,
     "metadata": {},
     "output_type": "execute_result"
    }
   ],
   "source": [
    "## Creating new column 'predicted' with 1 if Churn_Prob>0.5 else 0\n",
    "y_train_pred_final['predicted'] = y_train_pred_final.Churn_Prob.map(lambda x:1 if x>0.5 else 0)\n",
    "y_train_pred_final.head()"
   ]
  },
  {
   "cell_type": "code",
   "execution_count": 174,
   "id": "07780d20-f4ef-4c58-a4de-85af26de20fd",
   "metadata": {},
   "outputs": [
    {
     "data": {
      "text/plain": [
       "0.8057700121901666"
      ]
     },
     "execution_count": 174,
     "metadata": {},
     "output_type": "execute_result"
    }
   ],
   "source": [
    "## Checking the overall accuracy\n",
    "accuracy_score(y_train_pred_final.Churn,y_train_pred_final.predicted)"
   ]
  },
  {
   "cell_type": "markdown",
   "id": "1ec905c4-24b2-4ed6-8382-8a674c7640b3",
   "metadata": {},
   "source": [
    "### Let's check the VIF again"
   ]
  },
  {
   "cell_type": "code",
   "execution_count": 175,
   "id": "f1cc3c3a-0c5e-469b-8a42-d5a18b6e7bbd",
   "metadata": {},
   "outputs": [
    {
     "data": {
      "text/html": [
       "<div>\n",
       "<style scoped>\n",
       "    .dataframe tbody tr th:only-of-type {\n",
       "        vertical-align: middle;\n",
       "    }\n",
       "\n",
       "    .dataframe tbody tr th {\n",
       "        vertical-align: top;\n",
       "    }\n",
       "\n",
       "    .dataframe thead th {\n",
       "        text-align: right;\n",
       "    }\n",
       "</style>\n",
       "<table border=\"1\" class=\"dataframe\">\n",
       "  <thead>\n",
       "    <tr style=\"text-align: right;\">\n",
       "      <th></th>\n",
       "      <th>Features</th>\n",
       "      <th>VIF</th>\n",
       "    </tr>\n",
       "  </thead>\n",
       "  <tbody>\n",
       "    <tr>\n",
       "      <th>2</th>\n",
       "      <td>TotalCharges</td>\n",
       "      <td>7.46</td>\n",
       "    </tr>\n",
       "    <tr>\n",
       "      <th>0</th>\n",
       "      <td>tenure</td>\n",
       "      <td>6.90</td>\n",
       "    </tr>\n",
       "    <tr>\n",
       "      <th>5</th>\n",
       "      <td>Contract_Two year</td>\n",
       "      <td>3.07</td>\n",
       "    </tr>\n",
       "    <tr>\n",
       "      <th>8</th>\n",
       "      <td>InternetService_Fiber optic</td>\n",
       "      <td>2.96</td>\n",
       "    </tr>\n",
       "    <tr>\n",
       "      <th>13</th>\n",
       "      <td>StreamingMovies_Yes</td>\n",
       "      <td>2.62</td>\n",
       "    </tr>\n",
       "    <tr>\n",
       "      <th>12</th>\n",
       "      <td>StreamingTV_Yes</td>\n",
       "      <td>2.59</td>\n",
       "    </tr>\n",
       "    <tr>\n",
       "      <th>1</th>\n",
       "      <td>PaperlessBilling</td>\n",
       "      <td>2.55</td>\n",
       "    </tr>\n",
       "    <tr>\n",
       "      <th>9</th>\n",
       "      <td>InternetService_No</td>\n",
       "      <td>2.44</td>\n",
       "    </tr>\n",
       "    <tr>\n",
       "      <th>10</th>\n",
       "      <td>MultipleLines_Yes</td>\n",
       "      <td>2.27</td>\n",
       "    </tr>\n",
       "    <tr>\n",
       "      <th>11</th>\n",
       "      <td>TechSupport_Yes</td>\n",
       "      <td>1.95</td>\n",
       "    </tr>\n",
       "    <tr>\n",
       "      <th>4</th>\n",
       "      <td>Contract_One year</td>\n",
       "      <td>1.79</td>\n",
       "    </tr>\n",
       "    <tr>\n",
       "      <th>7</th>\n",
       "      <td>PaymentMethod_Mailed check</td>\n",
       "      <td>1.63</td>\n",
       "    </tr>\n",
       "    <tr>\n",
       "      <th>6</th>\n",
       "      <td>PaymentMethod_Credit card (automatic)</td>\n",
       "      <td>1.42</td>\n",
       "    </tr>\n",
       "    <tr>\n",
       "      <th>3</th>\n",
       "      <td>SeniorCitizen</td>\n",
       "      <td>1.31</td>\n",
       "    </tr>\n",
       "  </tbody>\n",
       "</table>\n",
       "</div>"
      ],
      "text/plain": [
       "                                 Features   VIF\n",
       "2                            TotalCharges  7.46\n",
       "0                                  tenure  6.90\n",
       "5                       Contract_Two year  3.07\n",
       "8             InternetService_Fiber optic  2.96\n",
       "13                    StreamingMovies_Yes  2.62\n",
       "12                        StreamingTV_Yes  2.59\n",
       "1                        PaperlessBilling  2.55\n",
       "9                      InternetService_No  2.44\n",
       "10                      MultipleLines_Yes  2.27\n",
       "11                        TechSupport_Yes  1.95\n",
       "4                       Contract_One year  1.79\n",
       "7              PaymentMethod_Mailed check  1.63\n",
       "6   PaymentMethod_Credit card (automatic)  1.42\n",
       "3                           SeniorCitizen  1.31"
      ]
     },
     "execution_count": 175,
     "metadata": {},
     "output_type": "execute_result"
    }
   ],
   "source": [
    "vif = pd.DataFrame()\n",
    "vif['Features'] = X_train[col].columns\n",
    "vif['VIF'] = [variance_inflation_factor(X_train[col].values,i) for i in range(X_train[col].shape[1])]\n",
    "vif['VIF'] = round(vif['VIF'],2)\n",
    "vif = vif.sort_values(by='VIF',ascending=False)\n",
    "vif"
   ]
  },
  {
   "cell_type": "code",
   "execution_count": 176,
   "id": "3534cd47-3e58-4c71-83dd-244684d71314",
   "metadata": {},
   "outputs": [
    {
     "data": {
      "text/plain": [
       "Index(['tenure', 'PaperlessBilling', 'SeniorCitizen', 'Contract_One year',\n",
       "       'Contract_Two year', 'PaymentMethod_Credit card (automatic)',\n",
       "       'PaymentMethod_Mailed check', 'InternetService_Fiber optic',\n",
       "       'InternetService_No', 'MultipleLines_Yes', 'TechSupport_Yes',\n",
       "       'StreamingTV_Yes', 'StreamingMovies_Yes'],\n",
       "      dtype='object')"
      ]
     },
     "execution_count": 176,
     "metadata": {},
     "output_type": "execute_result"
    }
   ],
   "source": [
    "#let's drop TotalCharges since it has high VIF\n",
    "col = col.drop('TotalCharges')\n",
    "col"
   ]
  },
  {
   "cell_type": "code",
   "execution_count": 177,
   "id": "957bfdb5-549c-44dc-92de-e34e609297da",
   "metadata": {},
   "outputs": [
    {
     "data": {
      "text/html": [
       "<table class=\"simpletable\">\n",
       "<caption>Generalized Linear Model Regression Results</caption>\n",
       "<tr>\n",
       "  <th>Dep. Variable:</th>         <td>Churn</td>      <th>  No. Observations:  </th>  <td>  4922</td> \n",
       "</tr>\n",
       "<tr>\n",
       "  <th>Model:</th>                  <td>GLM</td>       <th>  Df Residuals:      </th>  <td>  4908</td> \n",
       "</tr>\n",
       "<tr>\n",
       "  <th>Model Family:</th>        <td>Binomial</td>     <th>  Df Model:          </th>  <td>    13</td> \n",
       "</tr>\n",
       "<tr>\n",
       "  <th>Link Function:</th>         <td>Logit</td>      <th>  Scale:             </th> <td>  1.0000</td>\n",
       "</tr>\n",
       "<tr>\n",
       "  <th>Method:</th>                <td>IRLS</td>       <th>  Log-Likelihood:    </th> <td> -2025.9</td>\n",
       "</tr>\n",
       "<tr>\n",
       "  <th>Date:</th>            <td>Wed, 15 May 2024</td> <th>  Deviance:          </th> <td>  4051.9</td>\n",
       "</tr>\n",
       "<tr>\n",
       "  <th>Time:</th>                <td>08:12:08</td>     <th>  Pearson chi2:      </th> <td>5.25e+03</td>\n",
       "</tr>\n",
       "<tr>\n",
       "  <th>No. Iterations:</th>          <td>7</td>        <th>  Pseudo R-squ. (CS):</th>  <td>0.2782</td> \n",
       "</tr>\n",
       "<tr>\n",
       "  <th>Covariance Type:</th>     <td>nonrobust</td>    <th>                     </th>     <td> </td>   \n",
       "</tr>\n",
       "</table>\n",
       "<table class=\"simpletable\">\n",
       "<tr>\n",
       "                    <td></td>                       <th>coef</th>     <th>std err</th>      <th>z</th>      <th>P>|z|</th>  <th>[0.025</th>    <th>0.975]</th>  \n",
       "</tr>\n",
       "<tr>\n",
       "  <th>const</th>                                 <td>   -1.6577</td> <td>    0.127</td> <td>  -13.094</td> <td> 0.000</td> <td>   -1.906</td> <td>   -1.410</td>\n",
       "</tr>\n",
       "<tr>\n",
       "  <th>tenure</th>                                <td>   -0.9426</td> <td>    0.065</td> <td>  -14.480</td> <td> 0.000</td> <td>   -1.070</td> <td>   -0.815</td>\n",
       "</tr>\n",
       "<tr>\n",
       "  <th>PaperlessBilling</th>                      <td>    0.3455</td> <td>    0.089</td> <td>    3.877</td> <td> 0.000</td> <td>    0.171</td> <td>    0.520</td>\n",
       "</tr>\n",
       "<tr>\n",
       "  <th>SeniorCitizen</th>                         <td>    0.4597</td> <td>    0.100</td> <td>    4.613</td> <td> 0.000</td> <td>    0.264</td> <td>    0.655</td>\n",
       "</tr>\n",
       "<tr>\n",
       "  <th>Contract_One year</th>                     <td>   -0.7218</td> <td>    0.127</td> <td>   -5.702</td> <td> 0.000</td> <td>   -0.970</td> <td>   -0.474</td>\n",
       "</tr>\n",
       "<tr>\n",
       "  <th>Contract_Two year</th>                     <td>   -1.2987</td> <td>    0.208</td> <td>   -6.237</td> <td> 0.000</td> <td>   -1.707</td> <td>   -0.891</td>\n",
       "</tr>\n",
       "<tr>\n",
       "  <th>PaymentMethod_Credit card (automatic)</th> <td>   -0.3874</td> <td>    0.113</td> <td>   -3.442</td> <td> 0.001</td> <td>   -0.608</td> <td>   -0.167</td>\n",
       "</tr>\n",
       "<tr>\n",
       "  <th>PaymentMethod_Mailed check</th>            <td>   -0.3307</td> <td>    0.110</td> <td>   -3.020</td> <td> 0.003</td> <td>   -0.545</td> <td>   -0.116</td>\n",
       "</tr>\n",
       "<tr>\n",
       "  <th>InternetService_Fiber optic</th>           <td>    0.8052</td> <td>    0.097</td> <td>    8.272</td> <td> 0.000</td> <td>    0.614</td> <td>    0.996</td>\n",
       "</tr>\n",
       "<tr>\n",
       "  <th>InternetService_No</th>                    <td>   -0.9726</td> <td>    0.155</td> <td>   -6.261</td> <td> 0.000</td> <td>   -1.277</td> <td>   -0.668</td>\n",
       "</tr>\n",
       "<tr>\n",
       "  <th>MultipleLines_Yes</th>                     <td>    0.2097</td> <td>    0.092</td> <td>    2.279</td> <td> 0.023</td> <td>    0.029</td> <td>    0.390</td>\n",
       "</tr>\n",
       "<tr>\n",
       "  <th>TechSupport_Yes</th>                       <td>   -0.4046</td> <td>    0.101</td> <td>   -4.019</td> <td> 0.000</td> <td>   -0.602</td> <td>   -0.207</td>\n",
       "</tr>\n",
       "<tr>\n",
       "  <th>StreamingTV_Yes</th>                       <td>    0.3390</td> <td>    0.094</td> <td>    3.619</td> <td> 0.000</td> <td>    0.155</td> <td>    0.523</td>\n",
       "</tr>\n",
       "<tr>\n",
       "  <th>StreamingMovies_Yes</th>                   <td>    0.2428</td> <td>    0.093</td> <td>    2.598</td> <td> 0.009</td> <td>    0.060</td> <td>    0.426</td>\n",
       "</tr>\n",
       "</table>"
      ],
      "text/latex": [
       "\\begin{center}\n",
       "\\begin{tabular}{lclc}\n",
       "\\toprule\n",
       "\\textbf{Dep. Variable:}                         &      Churn       & \\textbf{  No. Observations:  } &     4922    \\\\\n",
       "\\textbf{Model:}                                 &       GLM        & \\textbf{  Df Residuals:      } &     4908    \\\\\n",
       "\\textbf{Model Family:}                          &     Binomial     & \\textbf{  Df Model:          } &       13    \\\\\n",
       "\\textbf{Link Function:}                         &      Logit       & \\textbf{  Scale:             } &    1.0000   \\\\\n",
       "\\textbf{Method:}                                &       IRLS       & \\textbf{  Log-Likelihood:    } &   -2025.9   \\\\\n",
       "\\textbf{Date:}                                  & Wed, 15 May 2024 & \\textbf{  Deviance:          } &    4051.9   \\\\\n",
       "\\textbf{Time:}                                  &     08:12:08     & \\textbf{  Pearson chi2:      } &  5.25e+03   \\\\\n",
       "\\textbf{No. Iterations:}                        &        7         & \\textbf{  Pseudo R-squ. (CS):} &   0.2782    \\\\\n",
       "\\textbf{Covariance Type:}                       &    nonrobust     & \\textbf{                     } &             \\\\\n",
       "\\bottomrule\n",
       "\\end{tabular}\n",
       "\\begin{tabular}{lcccccc}\n",
       "                                                & \\textbf{coef} & \\textbf{std err} & \\textbf{z} & \\textbf{P$> |$z$|$} & \\textbf{[0.025} & \\textbf{0.975]}  \\\\\n",
       "\\midrule\n",
       "\\textbf{const}                                  &      -1.6577  &        0.127     &   -13.094  &         0.000        &       -1.906    &       -1.410     \\\\\n",
       "\\textbf{tenure}                                 &      -0.9426  &        0.065     &   -14.480  &         0.000        &       -1.070    &       -0.815     \\\\\n",
       "\\textbf{PaperlessBilling}                       &       0.3455  &        0.089     &     3.877  &         0.000        &        0.171    &        0.520     \\\\\n",
       "\\textbf{SeniorCitizen}                          &       0.4597  &        0.100     &     4.613  &         0.000        &        0.264    &        0.655     \\\\\n",
       "\\textbf{Contract\\_One year}                     &      -0.7218  &        0.127     &    -5.702  &         0.000        &       -0.970    &       -0.474     \\\\\n",
       "\\textbf{Contract\\_Two year}                     &      -1.2987  &        0.208     &    -6.237  &         0.000        &       -1.707    &       -0.891     \\\\\n",
       "\\textbf{PaymentMethod\\_Credit card (automatic)} &      -0.3874  &        0.113     &    -3.442  &         0.001        &       -0.608    &       -0.167     \\\\\n",
       "\\textbf{PaymentMethod\\_Mailed check}            &      -0.3307  &        0.110     &    -3.020  &         0.003        &       -0.545    &       -0.116     \\\\\n",
       "\\textbf{InternetService\\_Fiber optic}           &       0.8052  &        0.097     &     8.272  &         0.000        &        0.614    &        0.996     \\\\\n",
       "\\textbf{InternetService\\_No}                    &      -0.9726  &        0.155     &    -6.261  &         0.000        &       -1.277    &       -0.668     \\\\\n",
       "\\textbf{MultipleLines\\_Yes}                     &       0.2097  &        0.092     &     2.279  &         0.023        &        0.029    &        0.390     \\\\\n",
       "\\textbf{TechSupport\\_Yes}                       &      -0.4046  &        0.101     &    -4.019  &         0.000        &       -0.602    &       -0.207     \\\\\n",
       "\\textbf{StreamingTV\\_Yes}                       &       0.3390  &        0.094     &     3.619  &         0.000        &        0.155    &        0.523     \\\\\n",
       "\\textbf{StreamingMovies\\_Yes}                   &       0.2428  &        0.093     &     2.598  &         0.009        &        0.060    &        0.426     \\\\\n",
       "\\bottomrule\n",
       "\\end{tabular}\n",
       "%\\caption{Generalized Linear Model Regression Results}\n",
       "\\end{center}"
      ],
      "text/plain": [
       "<class 'statsmodels.iolib.summary.Summary'>\n",
       "\"\"\"\n",
       "                 Generalized Linear Model Regression Results                  \n",
       "==============================================================================\n",
       "Dep. Variable:                  Churn   No. Observations:                 4922\n",
       "Model:                            GLM   Df Residuals:                     4908\n",
       "Model Family:                Binomial   Df Model:                           13\n",
       "Link Function:                  Logit   Scale:                          1.0000\n",
       "Method:                          IRLS   Log-Likelihood:                -2025.9\n",
       "Date:                Wed, 15 May 2024   Deviance:                       4051.9\n",
       "Time:                        08:12:08   Pearson chi2:                 5.25e+03\n",
       "No. Iterations:                     7   Pseudo R-squ. (CS):             0.2782\n",
       "Covariance Type:            nonrobust                                         \n",
       "=========================================================================================================\n",
       "                                            coef    std err          z      P>|z|      [0.025      0.975]\n",
       "---------------------------------------------------------------------------------------------------------\n",
       "const                                    -1.6577      0.127    -13.094      0.000      -1.906      -1.410\n",
       "tenure                                   -0.9426      0.065    -14.480      0.000      -1.070      -0.815\n",
       "PaperlessBilling                          0.3455      0.089      3.877      0.000       0.171       0.520\n",
       "SeniorCitizen                             0.4597      0.100      4.613      0.000       0.264       0.655\n",
       "Contract_One year                        -0.7218      0.127     -5.702      0.000      -0.970      -0.474\n",
       "Contract_Two year                        -1.2987      0.208     -6.237      0.000      -1.707      -0.891\n",
       "PaymentMethod_Credit card (automatic)    -0.3874      0.113     -3.442      0.001      -0.608      -0.167\n",
       "PaymentMethod_Mailed check               -0.3307      0.110     -3.020      0.003      -0.545      -0.116\n",
       "InternetService_Fiber optic               0.8052      0.097      8.272      0.000       0.614       0.996\n",
       "InternetService_No                       -0.9726      0.155     -6.261      0.000      -1.277      -0.668\n",
       "MultipleLines_Yes                         0.2097      0.092      2.279      0.023       0.029       0.390\n",
       "TechSupport_Yes                          -0.4046      0.101     -4.019      0.000      -0.602      -0.207\n",
       "StreamingTV_Yes                           0.3390      0.094      3.619      0.000       0.155       0.523\n",
       "StreamingMovies_Yes                       0.2428      0.093      2.598      0.009       0.060       0.426\n",
       "=========================================================================================================\n",
       "\"\"\""
      ]
     },
     "execution_count": 177,
     "metadata": {},
     "output_type": "execute_result"
    }
   ],
   "source": [
    "## Let's re-run the model using the selected variables\n",
    "X_train_sm = sm.add_constant(X_train[col])\n",
    "logm4 = sm.GLM(y_train,X_train_sm,family=sm.families.Binomial())\n",
    "res = logm4.fit()\n",
    "res.summary()"
   ]
  },
  {
   "cell_type": "code",
   "execution_count": 178,
   "id": "073ad0cf-91ca-4139-90da-398b4e15f350",
   "metadata": {},
   "outputs": [
    {
     "data": {
      "text/html": [
       "<div>\n",
       "<style scoped>\n",
       "    .dataframe tbody tr th:only-of-type {\n",
       "        vertical-align: middle;\n",
       "    }\n",
       "\n",
       "    .dataframe tbody tr th {\n",
       "        vertical-align: top;\n",
       "    }\n",
       "\n",
       "    .dataframe thead th {\n",
       "        text-align: right;\n",
       "    }\n",
       "</style>\n",
       "<table border=\"1\" class=\"dataframe\">\n",
       "  <thead>\n",
       "    <tr style=\"text-align: right;\">\n",
       "      <th></th>\n",
       "      <th>Features</th>\n",
       "      <th>VIF</th>\n",
       "    </tr>\n",
       "  </thead>\n",
       "  <tbody>\n",
       "    <tr>\n",
       "      <th>4</th>\n",
       "      <td>Contract_Two year</td>\n",
       "      <td>2.98</td>\n",
       "    </tr>\n",
       "    <tr>\n",
       "      <th>7</th>\n",
       "      <td>InternetService_Fiber optic</td>\n",
       "      <td>2.67</td>\n",
       "    </tr>\n",
       "    <tr>\n",
       "      <th>12</th>\n",
       "      <td>StreamingMovies_Yes</td>\n",
       "      <td>2.54</td>\n",
       "    </tr>\n",
       "    <tr>\n",
       "      <th>11</th>\n",
       "      <td>StreamingTV_Yes</td>\n",
       "      <td>2.51</td>\n",
       "    </tr>\n",
       "    <tr>\n",
       "      <th>1</th>\n",
       "      <td>PaperlessBilling</td>\n",
       "      <td>2.45</td>\n",
       "    </tr>\n",
       "    <tr>\n",
       "      <th>9</th>\n",
       "      <td>MultipleLines_Yes</td>\n",
       "      <td>2.24</td>\n",
       "    </tr>\n",
       "    <tr>\n",
       "      <th>0</th>\n",
       "      <td>tenure</td>\n",
       "      <td>2.04</td>\n",
       "    </tr>\n",
       "    <tr>\n",
       "      <th>8</th>\n",
       "      <td>InternetService_No</td>\n",
       "      <td>2.03</td>\n",
       "    </tr>\n",
       "    <tr>\n",
       "      <th>10</th>\n",
       "      <td>TechSupport_Yes</td>\n",
       "      <td>1.92</td>\n",
       "    </tr>\n",
       "    <tr>\n",
       "      <th>3</th>\n",
       "      <td>Contract_One year</td>\n",
       "      <td>1.78</td>\n",
       "    </tr>\n",
       "    <tr>\n",
       "      <th>6</th>\n",
       "      <td>PaymentMethod_Mailed check</td>\n",
       "      <td>1.63</td>\n",
       "    </tr>\n",
       "    <tr>\n",
       "      <th>5</th>\n",
       "      <td>PaymentMethod_Credit card (automatic)</td>\n",
       "      <td>1.42</td>\n",
       "    </tr>\n",
       "    <tr>\n",
       "      <th>2</th>\n",
       "      <td>SeniorCitizen</td>\n",
       "      <td>1.31</td>\n",
       "    </tr>\n",
       "  </tbody>\n",
       "</table>\n",
       "</div>"
      ],
      "text/plain": [
       "                                 Features   VIF\n",
       "4                       Contract_Two year  2.98\n",
       "7             InternetService_Fiber optic  2.67\n",
       "12                    StreamingMovies_Yes  2.54\n",
       "11                        StreamingTV_Yes  2.51\n",
       "1                        PaperlessBilling  2.45\n",
       "9                       MultipleLines_Yes  2.24\n",
       "0                                  tenure  2.04\n",
       "8                      InternetService_No  2.03\n",
       "10                        TechSupport_Yes  1.92\n",
       "3                       Contract_One year  1.78\n",
       "6              PaymentMethod_Mailed check  1.63\n",
       "5   PaymentMethod_Credit card (automatic)  1.42\n",
       "2                           SeniorCitizen  1.31"
      ]
     },
     "execution_count": 178,
     "metadata": {},
     "output_type": "execute_result"
    }
   ],
   "source": [
    "vif = pd.DataFrame()\n",
    "vif['Features'] = X_train[col].columns\n",
    "vif['VIF'] = [variance_inflation_factor(X_train[col].values,i) for i in range(X_train[col].shape[1])]\n",
    "vif['VIF'] = round(vif['VIF'],2)\n",
    "vif = vif.sort_values(by='VIF',ascending=False)\n",
    "vif"
   ]
  },
  {
   "cell_type": "code",
   "execution_count": 182,
   "id": "40b15b3f-ca63-4107-a1c5-7c95b8cf1449",
   "metadata": {},
   "outputs": [
    {
     "data": {
      "text/plain": [
       "array([0.24581699, 0.26536078, 0.66940978, 0.63097033, 0.68291606,\n",
       "       0.39952622, 0.27582791, 0.79816753, 0.19878625, 0.52911878])"
      ]
     },
     "execution_count": 182,
     "metadata": {},
     "output_type": "execute_result"
    }
   ],
   "source": [
    "y_train_pred = res.predict(X_train_sm).values.reshape(-1)\n",
    "y_train_pred[:10]"
   ]
  },
  {
   "cell_type": "code",
   "execution_count": 187,
   "id": "b1105508-419f-48b8-9f36-05a8bc596217",
   "metadata": {},
   "outputs": [],
   "source": [
    "y_train_pred_final['Churn_Prob'] = y_train_pred"
   ]
  },
  {
   "cell_type": "code",
   "execution_count": 188,
   "id": "5bc940be-836f-4139-9cd7-d7993cf9c289",
   "metadata": {},
   "outputs": [
    {
     "data": {
      "text/html": [
       "<div>\n",
       "<style scoped>\n",
       "    .dataframe tbody tr th:only-of-type {\n",
       "        vertical-align: middle;\n",
       "    }\n",
       "\n",
       "    .dataframe tbody tr th {\n",
       "        vertical-align: top;\n",
       "    }\n",
       "\n",
       "    .dataframe thead th {\n",
       "        text-align: right;\n",
       "    }\n",
       "</style>\n",
       "<table border=\"1\" class=\"dataframe\">\n",
       "  <thead>\n",
       "    <tr style=\"text-align: right;\">\n",
       "      <th></th>\n",
       "      <th>Churn</th>\n",
       "      <th>Churn_Prob</th>\n",
       "      <th>CustID</th>\n",
       "      <th>predicted</th>\n",
       "    </tr>\n",
       "  </thead>\n",
       "  <tbody>\n",
       "    <tr>\n",
       "      <th>879</th>\n",
       "      <td>0</td>\n",
       "      <td>0.245817</td>\n",
       "      <td>879</td>\n",
       "      <td>0</td>\n",
       "    </tr>\n",
       "    <tr>\n",
       "      <th>5790</th>\n",
       "      <td>0</td>\n",
       "      <td>0.265361</td>\n",
       "      <td>5790</td>\n",
       "      <td>0</td>\n",
       "    </tr>\n",
       "    <tr>\n",
       "      <th>6498</th>\n",
       "      <td>1</td>\n",
       "      <td>0.669410</td>\n",
       "      <td>6498</td>\n",
       "      <td>1</td>\n",
       "    </tr>\n",
       "    <tr>\n",
       "      <th>880</th>\n",
       "      <td>1</td>\n",
       "      <td>0.630970</td>\n",
       "      <td>880</td>\n",
       "      <td>1</td>\n",
       "    </tr>\n",
       "    <tr>\n",
       "      <th>2784</th>\n",
       "      <td>1</td>\n",
       "      <td>0.682916</td>\n",
       "      <td>2784</td>\n",
       "      <td>1</td>\n",
       "    </tr>\n",
       "  </tbody>\n",
       "</table>\n",
       "</div>"
      ],
      "text/plain": [
       "      Churn  Churn_Prob  CustID  predicted\n",
       "879       0    0.245817     879          0\n",
       "5790      0    0.265361    5790          0\n",
       "6498      1    0.669410    6498          1\n",
       "880       1    0.630970     880          1\n",
       "2784      1    0.682916    2784          1"
      ]
     },
     "execution_count": 188,
     "metadata": {},
     "output_type": "execute_result"
    }
   ],
   "source": [
    "# Creating new column 'predicted' with 1 if Churn_Prob > 0.5 else 0\n",
    "y_train_pred_final['predicted'] = y_train_pred_final.Churn_Prob.map(lambda x: 1 if x > 0.5 else 0)\n",
    "y_train_pred_final.head()"
   ]
  },
  {
   "cell_type": "code",
   "execution_count": 190,
   "id": "75ed8715-480f-42e1-b216-bb111fa03745",
   "metadata": {},
   "outputs": [
    {
     "data": {
      "text/plain": [
       "0.8061763510767981"
      ]
     },
     "execution_count": 190,
     "metadata": {},
     "output_type": "execute_result"
    }
   ],
   "source": [
    "## Checking the overall accuracy\n",
    "accuracy_score(y_train_pred_final.Churn,y_train_pred_final.predicted)"
   ]
  },
  {
   "cell_type": "code",
   "execution_count": 192,
   "id": "2fdecfe9-802b-4241-94ad-50e3a727d85b",
   "metadata": {},
   "outputs": [
    {
     "data": {
      "text/plain": [
       "array([[3278,  357],\n",
       "       [ 597,  690]], dtype=int64)"
      ]
     },
     "execution_count": 192,
     "metadata": {},
     "output_type": "execute_result"
    }
   ],
   "source": [
    "# Let's take a look at the confusion matrix again \n",
    "confusion = confusion_matrix(y_train_pred_final.Churn, y_train_pred_final.predicted )\n",
    "confusion"
   ]
  },
  {
   "cell_type": "markdown",
   "id": "8995441d-e6a9-4a6b-9b56-2b87a59c0c03",
   "metadata": {},
   "source": [
    "## Metrics beyond simple accuracy"
   ]
  },
  {
   "cell_type": "code",
   "execution_count": 195,
   "id": "2983e113-8318-4b3b-9feb-56fb5c94951a",
   "metadata": {},
   "outputs": [],
   "source": [
    "TP = confusion[1,1]\n",
    "TN = confusion[0,0]\n",
    "FP = confusion[0,1]\n",
    "FN = confusion[1,0]"
   ]
  },
  {
   "cell_type": "code",
   "execution_count": 196,
   "id": "c954e2cd-4332-41f5-bbd1-71cbdb637c20",
   "metadata": {},
   "outputs": [
    {
     "data": {
      "text/plain": [
       "0.5361305361305362"
      ]
     },
     "execution_count": 196,
     "metadata": {},
     "output_type": "execute_result"
    }
   ],
   "source": [
    "# Let's see the sensitivity\n",
    "TP/float(TP+FN)"
   ]
  },
  {
   "cell_type": "code",
   "execution_count": 197,
   "id": "f1475b33-0bf8-48a0-8da2-d277dff9cfa4",
   "metadata": {},
   "outputs": [
    {
     "data": {
      "text/plain": [
       "0.9017881705639614"
      ]
     },
     "execution_count": 197,
     "metadata": {},
     "output_type": "execute_result"
    }
   ],
   "source": [
    "#Specificity\n",
    "TN/float(TN+FP)"
   ]
  },
  {
   "cell_type": "code",
   "execution_count": 198,
   "id": "3bf8b1a8-f550-4e9d-841b-06286dddd3c2",
   "metadata": {},
   "outputs": [
    {
     "name": "stdout",
     "output_type": "stream",
     "text": [
      "0.09821182943603851\n"
     ]
    }
   ],
   "source": [
    "# Flase positive Rate\n",
    "print(FP/float(TN+FP))"
   ]
  },
  {
   "cell_type": "code",
   "execution_count": 199,
   "id": "5cc54e06-65c8-47e3-8b78-d6e96e055a8a",
   "metadata": {},
   "outputs": [
    {
     "name": "stdout",
     "output_type": "stream",
     "text": [
      "0.6590257879656161\n"
     ]
    }
   ],
   "source": [
    "#poistive predictive value\n",
    "print(TP/float(TP+FP))"
   ]
  },
  {
   "cell_type": "code",
   "execution_count": 200,
   "id": "74dceee6-5531-4f59-b774-31effca1e8da",
   "metadata": {},
   "outputs": [
    {
     "name": "stdout",
     "output_type": "stream",
     "text": [
      "0.8459354838709677\n"
     ]
    }
   ],
   "source": [
    "#negative predictive value\n",
    "print(TN/float(TN+FN))"
   ]
  },
  {
   "cell_type": "markdown",
   "id": "1e7f02a6-1f8a-449f-9c76-2a6a210d4015",
   "metadata": {},
   "source": [
    "### Plotting the ROC-Curve"
   ]
  },
  {
   "cell_type": "code",
   "execution_count": 210,
   "id": "89dacf26-7147-4083-80c5-e870b41fd7e0",
   "metadata": {},
   "outputs": [],
   "source": [
    "from sklearn.metrics import roc_auc_score,roc_curve,auc"
   ]
  },
  {
   "cell_type": "code",
   "execution_count": 218,
   "id": "b188362e-89ca-4058-bbff-0b2a6b16791a",
   "metadata": {},
   "outputs": [
    {
     "data": {
      "image/png": "[encoded data removed]",
      "text/plain": [
       "<Figure size 500x500 with 1 Axes>"
      ]
     },
     "metadata": {},
     "output_type": "display_data"
    }
   ],
   "source": [
    "def draw_roc( actual, probs ):\n",
    "    fpr, tpr, thresholds =roc_curve( actual, probs,\n",
    "                                              drop_intermediate = False )\n",
    "    auc_score = roc_auc_score( actual, probs )\n",
    "    plt.figure(figsize=(5, 5))\n",
    "    plt.plot( fpr, tpr, label='ROC curve (area = %0.2f)' % auc_score )\n",
    "    plt.plot([0, 1], [0, 1], 'k--')\n",
    "    plt.xlim([0.0, 1.0])\n",
    "    plt.ylim([0.0, 1.05])\n",
    "    plt.xlabel('False Positive Rate or [1 - True Negative Rate]')\n",
    "    plt.ylabel('True Positive Rate')\n",
    "    plt.title('Receiver operating characteristic example')\n",
    "    plt.legend(loc=\"lower right\")\n",
    "    plt.show()\n",
    "\n",
    "    return None\n",
    "\n",
    "# Calling the function\n",
    "draw_roc(y_train_pred_final.Churn, y_train_pred_final.Churn_Prob)"
   ]
  },
  {
   "cell_type": "markdown",
   "id": "8677413c-2797-4fdb-a3b9-81c02f1cc236",
   "metadata": {},
   "source": [
    "### Finding the Optimal Threshold"
   ]
  },
  {
   "cell_type": "markdown",
   "id": "8f18a15a-3c8f-4c2f-a043-cac51ce0032c",
   "metadata": {},
   "source": [
    "Optimal cutoff probability is that prob where we get balanced sensitivity and specificity"
   ]
  },
  {
   "cell_type": "code",
   "execution_count": 219,
   "id": "e2384e89-f9d8-49af-89c2-548a16fa9cb7",
   "metadata": {},
   "outputs": [
    {
     "data": {
      "text/html": [
       "<div>\n",
       "<style scoped>\n",
       "    .dataframe tbody tr th:only-of-type {\n",
       "        vertical-align: middle;\n",
       "    }\n",
       "\n",
       "    .dataframe tbody tr th {\n",
       "        vertical-align: top;\n",
       "    }\n",
       "\n",
       "    .dataframe thead th {\n",
       "        text-align: right;\n",
       "    }\n",
       "</style>\n",
       "<table border=\"1\" class=\"dataframe\">\n",
       "  <thead>\n",
       "    <tr style=\"text-align: right;\">\n",
       "      <th></th>\n",
       "      <th>Churn</th>\n",
       "      <th>Churn_Prob</th>\n",
       "      <th>CustID</th>\n",
       "      <th>predicted</th>\n",
       "      <th>0.0</th>\n",
       "      <th>0.1</th>\n",
       "      <th>0.2</th>\n",
       "      <th>0.3</th>\n",
       "      <th>0.4</th>\n",
       "      <th>0.5</th>\n",
       "      <th>0.6</th>\n",
       "      <th>0.7</th>\n",
       "      <th>0.8</th>\n",
       "      <th>0.9</th>\n",
       "    </tr>\n",
       "  </thead>\n",
       "  <tbody>\n",
       "    <tr>\n",
       "      <th>879</th>\n",
       "      <td>0</td>\n",
       "      <td>0.245817</td>\n",
       "      <td>879</td>\n",
       "      <td>0</td>\n",
       "      <td>1</td>\n",
       "      <td>1</td>\n",
       "      <td>1</td>\n",
       "      <td>0</td>\n",
       "      <td>0</td>\n",
       "      <td>0</td>\n",
       "      <td>0</td>\n",
       "      <td>0</td>\n",
       "      <td>0</td>\n",
       "      <td>0</td>\n",
       "    </tr>\n",
       "    <tr>\n",
       "      <th>5790</th>\n",
       "      <td>0</td>\n",
       "      <td>0.265361</td>\n",
       "      <td>5790</td>\n",
       "      <td>0</td>\n",
       "      <td>1</td>\n",
       "      <td>1</td>\n",
       "      <td>1</td>\n",
       "      <td>0</td>\n",
       "      <td>0</td>\n",
       "      <td>0</td>\n",
       "      <td>0</td>\n",
       "      <td>0</td>\n",
       "      <td>0</td>\n",
       "      <td>0</td>\n",
       "    </tr>\n",
       "    <tr>\n",
       "      <th>6498</th>\n",
       "      <td>1</td>\n",
       "      <td>0.669410</td>\n",
       "      <td>6498</td>\n",
       "      <td>1</td>\n",
       "      <td>1</td>\n",
       "      <td>1</td>\n",
       "      <td>1</td>\n",
       "      <td>1</td>\n",
       "      <td>1</td>\n",
       "      <td>1</td>\n",
       "      <td>1</td>\n",
       "      <td>0</td>\n",
       "      <td>0</td>\n",
       "      <td>0</td>\n",
       "    </tr>\n",
       "    <tr>\n",
       "      <th>880</th>\n",
       "      <td>1</td>\n",
       "      <td>0.630970</td>\n",
       "      <td>880</td>\n",
       "      <td>1</td>\n",
       "      <td>1</td>\n",
       "      <td>1</td>\n",
       "      <td>1</td>\n",
       "      <td>1</td>\n",
       "      <td>1</td>\n",
       "      <td>1</td>\n",
       "      <td>1</td>\n",
       "      <td>0</td>\n",
       "      <td>0</td>\n",
       "      <td>0</td>\n",
       "    </tr>\n",
       "    <tr>\n",
       "      <th>2784</th>\n",
       "      <td>1</td>\n",
       "      <td>0.682916</td>\n",
       "      <td>2784</td>\n",
       "      <td>1</td>\n",
       "      <td>1</td>\n",
       "      <td>1</td>\n",
       "      <td>1</td>\n",
       "      <td>1</td>\n",
       "      <td>1</td>\n",
       "      <td>1</td>\n",
       "      <td>1</td>\n",
       "      <td>0</td>\n",
       "      <td>0</td>\n",
       "      <td>0</td>\n",
       "    </tr>\n",
       "  </tbody>\n",
       "</table>\n",
       "</div>"
      ],
      "text/plain": [
       "      Churn  Churn_Prob  CustID  predicted  0.0  0.1  0.2  0.3  0.4  0.5  0.6  \\\n",
       "879       0    0.245817     879          0    1    1    1    0    0    0    0   \n",
       "5790      0    0.265361    5790          0    1    1    1    0    0    0    0   \n",
       "6498      1    0.669410    6498          1    1    1    1    1    1    1    1   \n",
       "880       1    0.630970     880          1    1    1    1    1    1    1    1   \n",
       "2784      1    0.682916    2784          1    1    1    1    1    1    1    1   \n",
       "\n",
       "      0.7  0.8  0.9  \n",
       "879     0    0    0  \n",
       "5790    0    0    0  \n",
       "6498    0    0    0  \n",
       "880     0    0    0  \n",
       "2784    0    0    0  "
      ]
     },
     "execution_count": 219,
     "metadata": {},
     "output_type": "execute_result"
    }
   ],
   "source": [
    "# Let's create columns with different probability cutoffs \n",
    "numbers = [float(x)/10 for x in range(10)]\n",
    "for i in numbers:\n",
    "    y_train_pred_final[i]= y_train_pred_final.Churn_Prob.map(lambda x: 1 if x > i else 0)\n",
    "y_train_pred_final.head()"
   ]
  },
  {
   "cell_type": "code",
   "execution_count": 221,
   "id": "e79e92ee-47ec-40e8-8fde-9bcadc5b59c5",
   "metadata": {},
   "outputs": [
    {
     "name": "stdout",
     "output_type": "stream",
     "text": [
      "     prob  accuracy     sensi     speci\n",
      "0.0   0.0  0.261479  1.000000  0.000000\n",
      "0.1   0.1  0.614994  0.943279  0.498762\n",
      "0.2   0.2  0.721861  0.846154  0.677854\n",
      "0.3   0.3  0.770012  0.776224  0.767813\n",
      "0.4   0.4  0.790532  0.636364  0.845117\n",
      "0.5   0.5  0.806176  0.536131  0.901788\n",
      "0.6   0.6  0.798050  0.380730  0.945805\n",
      "0.7   0.7  0.776310  0.196581  0.981568\n",
      "0.8   0.8  0.747867  0.041181  0.998074\n",
      "0.9   0.9  0.738521  0.000000  1.000000\n"
     ]
    }
   ],
   "source": [
    "# Now let's calculate accuracy sensitivity and specificity for various probability cutoffs.\n",
    "cutoff_df = pd.DataFrame( columns = ['prob','accuracy','sensi','speci'])\n",
    "from sklearn.metrics import confusion_matrix\n",
    "\n",
    "# TP = confusion[1,1] # true positive \n",
    "# TN = confusion[0,0] # true negatives\n",
    "# FP = confusion[0,1] # false positives\n",
    "# FN = confusion[1,0] # false negatives\n",
    "\n",
    "num = [0.0,0.1,0.2,0.3,0.4,0.5,0.6,0.7,0.8,0.9]\n",
    "for i in num:\n",
    "    cm1 = confusion_matrix(y_train_pred_final.Churn, y_train_pred_final[i] )\n",
    "    total1=sum(sum(cm1))\n",
    "    accuracy = (cm1[0,0]+cm1[1,1])/total1\n",
    "    \n",
    "    speci = cm1[0,0]/(cm1[0,0]+cm1[0,1])\n",
    "    sensi = cm1[1,1]/(cm1[1,0]+cm1[1,1])\n",
    "    cutoff_df.loc[i] =[ i ,accuracy,sensi,speci]\n",
    "print(cutoff_df)"
   ]
  },
  {
   "cell_type": "code",
   "execution_count": 222,
   "id": "7659ac00-3d19-475f-987f-d57e2bb63bd2",
   "metadata": {},
   "outputs": [
    {
     "data": {
      "image/png": "[encoded data removed]",
      "text/plain": [
       "<Figure size 640x480 with 1 Axes>"
      ]
     },
     "metadata": {},
     "output_type": "display_data"
    }
   ],
   "source": [
    "# Let's plot accuracy sensitivity and specificity for various probabilities.\n",
    "cutoff_df.plot.line(x='prob', y=['accuracy','sensi','speci'])\n",
    "plt.show()"
   ]
  },
  {
   "cell_type": "markdown",
   "id": "0ef80103-23fd-4029-a5b7-e83075ca087b",
   "metadata": {},
   "source": [
    "### From the above curve, 0.3 is the optimum point to take it as a cut off probability"
   ]
  },
  {
   "cell_type": "code",
   "execution_count": 223,
   "id": "ce55270f-dca5-46d1-a844-e1aa0c47ceda",
   "metadata": {},
   "outputs": [
    {
     "data": {
      "text/html": [
       "<div>\n",
       "<style scoped>\n",
       "    .dataframe tbody tr th:only-of-type {\n",
       "        vertical-align: middle;\n",
       "    }\n",
       "\n",
       "    .dataframe tbody tr th {\n",
       "        vertical-align: top;\n",
       "    }\n",
       "\n",
       "    .dataframe thead th {\n",
       "        text-align: right;\n",
       "    }\n",
       "</style>\n",
       "<table border=\"1\" class=\"dataframe\">\n",
       "  <thead>\n",
       "    <tr style=\"text-align: right;\">\n",
       "      <th></th>\n",
       "      <th>Churn</th>\n",
       "      <th>Churn_Prob</th>\n",
       "      <th>CustID</th>\n",
       "      <th>predicted</th>\n",
       "      <th>0.0</th>\n",
       "      <th>0.1</th>\n",
       "      <th>0.2</th>\n",
       "      <th>0.3</th>\n",
       "      <th>0.4</th>\n",
       "      <th>0.5</th>\n",
       "      <th>0.6</th>\n",
       "      <th>0.7</th>\n",
       "      <th>0.8</th>\n",
       "      <th>0.9</th>\n",
       "      <th>final_predicted</th>\n",
       "    </tr>\n",
       "  </thead>\n",
       "  <tbody>\n",
       "    <tr>\n",
       "      <th>879</th>\n",
       "      <td>0</td>\n",
       "      <td>0.245817</td>\n",
       "      <td>879</td>\n",
       "      <td>0</td>\n",
       "      <td>1</td>\n",
       "      <td>1</td>\n",
       "      <td>1</td>\n",
       "      <td>0</td>\n",
       "      <td>0</td>\n",
       "      <td>0</td>\n",
       "      <td>0</td>\n",
       "      <td>0</td>\n",
       "      <td>0</td>\n",
       "      <td>0</td>\n",
       "      <td>0</td>\n",
       "    </tr>\n",
       "    <tr>\n",
       "      <th>5790</th>\n",
       "      <td>0</td>\n",
       "      <td>0.265361</td>\n",
       "      <td>5790</td>\n",
       "      <td>0</td>\n",
       "      <td>1</td>\n",
       "      <td>1</td>\n",
       "      <td>1</td>\n",
       "      <td>0</td>\n",
       "      <td>0</td>\n",
       "      <td>0</td>\n",
       "      <td>0</td>\n",
       "      <td>0</td>\n",
       "      <td>0</td>\n",
       "      <td>0</td>\n",
       "      <td>0</td>\n",
       "    </tr>\n",
       "    <tr>\n",
       "      <th>6498</th>\n",
       "      <td>1</td>\n",
       "      <td>0.669410</td>\n",
       "      <td>6498</td>\n",
       "      <td>1</td>\n",
       "      <td>1</td>\n",
       "      <td>1</td>\n",
       "      <td>1</td>\n",
       "      <td>1</td>\n",
       "      <td>1</td>\n",
       "      <td>1</td>\n",
       "      <td>1</td>\n",
       "      <td>0</td>\n",
       "      <td>0</td>\n",
       "      <td>0</td>\n",
       "      <td>1</td>\n",
       "    </tr>\n",
       "    <tr>\n",
       "      <th>880</th>\n",
       "      <td>1</td>\n",
       "      <td>0.630970</td>\n",
       "      <td>880</td>\n",
       "      <td>1</td>\n",
       "      <td>1</td>\n",
       "      <td>1</td>\n",
       "      <td>1</td>\n",
       "      <td>1</td>\n",
       "      <td>1</td>\n",
       "      <td>1</td>\n",
       "      <td>1</td>\n",
       "      <td>0</td>\n",
       "      <td>0</td>\n",
       "      <td>0</td>\n",
       "      <td>1</td>\n",
       "    </tr>\n",
       "    <tr>\n",
       "      <th>2784</th>\n",
       "      <td>1</td>\n",
       "      <td>0.682916</td>\n",
       "      <td>2784</td>\n",
       "      <td>1</td>\n",
       "      <td>1</td>\n",
       "      <td>1</td>\n",
       "      <td>1</td>\n",
       "      <td>1</td>\n",
       "      <td>1</td>\n",
       "      <td>1</td>\n",
       "      <td>1</td>\n",
       "      <td>0</td>\n",
       "      <td>0</td>\n",
       "      <td>0</td>\n",
       "      <td>1</td>\n",
       "    </tr>\n",
       "  </tbody>\n",
       "</table>\n",
       "</div>"
      ],
      "text/plain": [
       "      Churn  Churn_Prob  CustID  predicted  0.0  0.1  0.2  0.3  0.4  0.5  0.6  \\\n",
       "879       0    0.245817     879          0    1    1    1    0    0    0    0   \n",
       "5790      0    0.265361    5790          0    1    1    1    0    0    0    0   \n",
       "6498      1    0.669410    6498          1    1    1    1    1    1    1    1   \n",
       "880       1    0.630970     880          1    1    1    1    1    1    1    1   \n",
       "2784      1    0.682916    2784          1    1    1    1    1    1    1    1   \n",
       "\n",
       "      0.7  0.8  0.9  final_predicted  \n",
       "879     0    0    0                0  \n",
       "5790    0    0    0                0  \n",
       "6498    0    0    0                1  \n",
       "880     0    0    0                1  \n",
       "2784    0    0    0                1  "
      ]
     },
     "execution_count": 223,
     "metadata": {},
     "output_type": "execute_result"
    }
   ],
   "source": [
    "y_train_pred_final['final_predicted'] = y_train_pred_final.Churn_Prob.map( lambda x: 1 if x > 0.3 else 0)\n",
    "\n",
    "y_train_pred_final.head()"
   ]
  },
  {
   "cell_type": "code",
   "execution_count": 225,
   "id": "970dde5e-f834-44ca-91d7-52fc81791617",
   "metadata": {},
   "outputs": [
    {
     "data": {
      "text/plain": [
       "0.7700121901665989"
      ]
     },
     "execution_count": 225,
     "metadata": {},
     "output_type": "execute_result"
    }
   ],
   "source": [
    "# Let's check the overall accuracy.\n",
    "accuracy_score(y_train_pred_final.Churn, y_train_pred_final.final_predicted)"
   ]
  },
  {
   "cell_type": "code",
   "execution_count": 227,
   "id": "ffbd6c02-2f2f-4615-a197-d377e7333fe8",
   "metadata": {},
   "outputs": [
    {
     "data": {
      "text/plain": [
       "array([[2791,  844],\n",
       "       [ 288,  999]], dtype=int64)"
      ]
     },
     "execution_count": 227,
     "metadata": {},
     "output_type": "execute_result"
    }
   ],
   "source": [
    "confusion2 = confusion_matrix(y_train_pred_final.Churn, y_train_pred_final.final_predicted )\n",
    "confusion2"
   ]
  },
  {
   "cell_type": "code",
   "execution_count": 228,
   "id": "a9fc5c72-e4c1-4a49-9cfc-f1be6013060a",
   "metadata": {},
   "outputs": [],
   "source": [
    "TP = confusion2[1,1] # true positive \n",
    "TN = confusion2[0,0] # true negatives\n",
    "FP = confusion2[0,1] # false positives\n",
    "FN = confusion2[1,0] # false negatives"
   ]
  },
  {
   "cell_type": "code",
   "execution_count": 229,
   "id": "111c0f0f-8017-4f08-bf23-199e3d853fec",
   "metadata": {},
   "outputs": [
    {
     "data": {
      "text/plain": [
       "0.7762237762237763"
      ]
     },
     "execution_count": 229,
     "metadata": {},
     "output_type": "execute_result"
    }
   ],
   "source": [
    "# Let's see the sensitivity of our logistic regression model\n",
    "TP / float(TP+FN)"
   ]
  },
  {
   "cell_type": "code",
   "execution_count": 230,
   "id": "c1a2c15e-42ee-4cce-9b4c-9422b963b29a",
   "metadata": {},
   "outputs": [
    {
     "data": {
      "text/plain": [
       "0.7678129298486933"
      ]
     },
     "execution_count": 230,
     "metadata": {},
     "output_type": "execute_result"
    }
   ],
   "source": [
    "# Let us calculate specificity\n",
    "TN / float(TN+FP)"
   ]
  },
  {
   "cell_type": "code",
   "execution_count": 231,
   "id": "703dce7c-bfe4-4ca1-b505-bd6d5ad957e2",
   "metadata": {},
   "outputs": [
    {
     "name": "stdout",
     "output_type": "stream",
     "text": [
      "0.23218707015130674\n"
     ]
    }
   ],
   "source": [
    "# Calculate false postive rate - predicting churn when customer does not have churned\n",
    "print(FP/ float(TN+FP))"
   ]
  },
  {
   "cell_type": "code",
   "execution_count": 232,
   "id": "a0b4a8ed-5948-437e-a9f6-89d7efad7ffa",
   "metadata": {},
   "outputs": [
    {
     "name": "stdout",
     "output_type": "stream",
     "text": [
      "0.5420510037981552\n"
     ]
    }
   ],
   "source": [
    "# Positive predictive value \n",
    "print (TP / float(TP+FP))"
   ]
  },
  {
   "cell_type": "code",
   "execution_count": 233,
   "id": "d39dace8-4e5e-4fba-bbc7-e508db5bb46f",
   "metadata": {},
   "outputs": [
    {
     "name": "stdout",
     "output_type": "stream",
     "text": [
      "0.9064631373822669\n"
     ]
    }
   ],
   "source": [
    "# Negative predictive value\n",
    "print (TN / float(TN+ FN))"
   ]
  },
  {
   "cell_type": "markdown",
   "id": "e1f73b47-3fc8-40e5-bd43-05016faee187",
   "metadata": {},
   "source": [
    "### Precision and Recall"
   ]
  },
  {
   "cell_type": "code",
   "execution_count": 236,
   "id": "007e81cd-6224-4d77-8736-5aae6f516547",
   "metadata": {},
   "outputs": [
    {
     "data": {
      "text/plain": [
       "array([[3278,  357],\n",
       "       [ 597,  690]], dtype=int64)"
      ]
     },
     "execution_count": 236,
     "metadata": {},
     "output_type": "execute_result"
    }
   ],
   "source": [
    "from sklearn import metrics\n",
    "confusion = confusion_matrix(y_train_pred_final.Churn, y_train_pred_final.predicted )\n",
    "confusion"
   ]
  },
  {
   "cell_type": "markdown",
   "id": "3bdb15d7-7e83-4d4b-bb7b-f1b0a1741d71",
   "metadata": {},
   "source": [
    "### Precision\n",
    "TP/TP+FP"
   ]
  },
  {
   "cell_type": "code",
   "execution_count": 237,
   "id": "2a56074d-f361-4a3f-9edc-fe2bdee94cec",
   "metadata": {},
   "outputs": [
    {
     "data": {
      "text/plain": [
       "0.6590257879656161"
      ]
     },
     "execution_count": 237,
     "metadata": {},
     "output_type": "execute_result"
    }
   ],
   "source": [
    "confusion[1,1]/(confusion[0,1]+confusion[1,1])"
   ]
  },
  {
   "cell_type": "markdown",
   "id": "20a4fdf0-4e00-43d9-97f8-5e70eedfcc16",
   "metadata": {},
   "source": [
    "### Recall\n",
    "TP/TP+FN"
   ]
  },
  {
   "cell_type": "code",
   "execution_count": 238,
   "id": "0bd2f42a-3e73-469d-85ea-6898f9a64eac",
   "metadata": {},
   "outputs": [
    {
     "data": {
      "text/plain": [
       "0.5361305361305362"
      ]
     },
     "execution_count": 238,
     "metadata": {},
     "output_type": "execute_result"
    }
   ],
   "source": [
    "confusion[1,1]/(confusion[1,0]+confusion[1,1])"
   ]
  },
  {
   "cell_type": "code",
   "execution_count": 239,
   "id": "3b54459b-ebcf-4b55-853d-2e21f1463a3d",
   "metadata": {},
   "outputs": [],
   "source": [
    "from sklearn.metrics import precision_score, recall_score"
   ]
  },
  {
   "cell_type": "code",
   "execution_count": 240,
   "id": "42337012-102e-44bd-a26f-76536fe8c540",
   "metadata": {},
   "outputs": [
    {
     "data": {
      "text/plain": [
       "0.6590257879656161"
      ]
     },
     "execution_count": 240,
     "metadata": {},
     "output_type": "execute_result"
    }
   ],
   "source": [
    "precision_score(y_train_pred_final.Churn, y_train_pred_final.predicted)"
   ]
  },
  {
   "cell_type": "code",
   "execution_count": 241,
   "id": "5b4f1e4d-1887-4ec9-a82f-39da63da9ca7",
   "metadata": {},
   "outputs": [
    {
     "data": {
      "text/plain": [
       "0.5361305361305362"
      ]
     },
     "execution_count": 241,
     "metadata": {},
     "output_type": "execute_result"
    }
   ],
   "source": [
    "recall_score(y_train_pred_final.Churn, y_train_pred_final.predicted)"
   ]
  },
  {
   "cell_type": "markdown",
   "id": "f8a8f804-8db4-4a47-b895-e2febd2296ec",
   "metadata": {},
   "source": [
    "### Precision and Recall trade off"
   ]
  },
  {
   "cell_type": "code",
   "execution_count": 242,
   "id": "eac71c2c-6f5a-456e-85ef-987f956d2235",
   "metadata": {},
   "outputs": [],
   "source": [
    "from sklearn.metrics import precision_recall_curve"
   ]
  },
  {
   "cell_type": "code",
   "execution_count": 243,
   "id": "3f5935f6-f186-4044-a417-162fb84ccea1",
   "metadata": {},
   "outputs": [
    {
     "data": {
      "text/plain": [
       "(879     0\n",
       " 5790    0\n",
       " 6498    1\n",
       " 880     1\n",
       " 2784    1\n",
       "        ..\n",
       " 79      0\n",
       " 3934    0\n",
       " 5964    0\n",
       " 6947    0\n",
       " 5649    0\n",
       " Name: Churn, Length: 4922, dtype: int64,\n",
       " 879     0\n",
       " 5790    0\n",
       " 6498    1\n",
       " 880     1\n",
       " 2784    1\n",
       "        ..\n",
       " 79      0\n",
       " 3934    0\n",
       " 5964    0\n",
       " 6947    0\n",
       " 5649    0\n",
       " Name: predicted, Length: 4922, dtype: int64)"
      ]
     },
     "execution_count": 243,
     "metadata": {},
     "output_type": "execute_result"
    }
   ],
   "source": [
    "y_train_pred_final.Churn, y_train_pred_final.predicted"
   ]
  },
  {
   "cell_type": "code",
   "execution_count": 244,
   "id": "b39d61f7-b883-4c6d-ac47-9b554ad64269",
   "metadata": {},
   "outputs": [],
   "source": [
    "p, r, thresholds = precision_recall_curve(y_train_pred_final.Churn, y_train_pred_final.Churn_Prob)"
   ]
  },
  {
   "cell_type": "code",
   "execution_count": 245,
   "id": "c3b24318-e105-4716-92ff-ae9fe0f00bfb",
   "metadata": {},
   "outputs": [
    {
     "data": {
      "image/png": "[encoded data removed]",
      "text/plain": [
       "<Figure size 640x480 with 1 Axes>"
      ]
     },
     "metadata": {},
     "output_type": "display_data"
    }
   ],
   "source": [
    "plt.plot(thresholds, p[:-1], \"g-\")\n",
    "plt.plot(thresholds, r[:-1], \"r-\")\n",
    "plt.show()"
   ]
  },
  {
   "cell_type": "markdown",
   "id": "c236693c-b3d1-4d35-a4f5-07159e8f0c75",
   "metadata": {},
   "source": [
    "### Step 11: Making predictions on the test set"
   ]
  },
  {
   "cell_type": "code",
   "execution_count": 246,
   "id": "5b830a17-8f1f-4db9-af31-b53ba0946c5b",
   "metadata": {},
   "outputs": [],
   "source": [
    "X_test[['tenure','MonthlyCharges','TotalCharges']] = scaler.transform(X_test[['tenure','MonthlyCharges','TotalCharges']])"
   ]
  },
  {
   "cell_type": "code",
   "execution_count": 247,
   "id": "dec5185b-4bf9-4588-b9f3-9496ceae0070",
   "metadata": {},
   "outputs": [
    {
     "data": {
      "text/html": [
       "<div>\n",
       "<style scoped>\n",
       "    .dataframe tbody tr th:only-of-type {\n",
       "        vertical-align: middle;\n",
       "    }\n",
       "\n",
       "    .dataframe tbody tr th {\n",
       "        vertical-align: top;\n",
       "    }\n",
       "\n",
       "    .dataframe thead th {\n",
       "        text-align: right;\n",
       "    }\n",
       "</style>\n",
       "<table border=\"1\" class=\"dataframe\">\n",
       "  <thead>\n",
       "    <tr style=\"text-align: right;\">\n",
       "      <th></th>\n",
       "      <th>tenure</th>\n",
       "      <th>PaperlessBilling</th>\n",
       "      <th>SeniorCitizen</th>\n",
       "      <th>Contract_One year</th>\n",
       "      <th>Contract_Two year</th>\n",
       "      <th>PaymentMethod_Credit card (automatic)</th>\n",
       "      <th>PaymentMethod_Mailed check</th>\n",
       "      <th>InternetService_Fiber optic</th>\n",
       "      <th>InternetService_No</th>\n",
       "      <th>MultipleLines_Yes</th>\n",
       "      <th>TechSupport_Yes</th>\n",
       "      <th>StreamingTV_Yes</th>\n",
       "      <th>StreamingMovies_Yes</th>\n",
       "    </tr>\n",
       "  </thead>\n",
       "  <tbody>\n",
       "    <tr>\n",
       "      <th>942</th>\n",
       "      <td>-0.347623</td>\n",
       "      <td>1</td>\n",
       "      <td>0</td>\n",
       "      <td>0</td>\n",
       "      <td>0</td>\n",
       "      <td>1</td>\n",
       "      <td>0</td>\n",
       "      <td>1</td>\n",
       "      <td>0</td>\n",
       "      <td>0</td>\n",
       "      <td>0</td>\n",
       "      <td>0</td>\n",
       "      <td>1</td>\n",
       "    </tr>\n",
       "    <tr>\n",
       "      <th>3730</th>\n",
       "      <td>0.999203</td>\n",
       "      <td>1</td>\n",
       "      <td>0</td>\n",
       "      <td>0</td>\n",
       "      <td>0</td>\n",
       "      <td>1</td>\n",
       "      <td>0</td>\n",
       "      <td>1</td>\n",
       "      <td>0</td>\n",
       "      <td>1</td>\n",
       "      <td>0</td>\n",
       "      <td>1</td>\n",
       "      <td>1</td>\n",
       "    </tr>\n",
       "    <tr>\n",
       "      <th>1761</th>\n",
       "      <td>1.040015</td>\n",
       "      <td>1</td>\n",
       "      <td>0</td>\n",
       "      <td>0</td>\n",
       "      <td>1</td>\n",
       "      <td>1</td>\n",
       "      <td>0</td>\n",
       "      <td>0</td>\n",
       "      <td>1</td>\n",
       "      <td>1</td>\n",
       "      <td>0</td>\n",
       "      <td>0</td>\n",
       "      <td>0</td>\n",
       "    </tr>\n",
       "    <tr>\n",
       "      <th>2283</th>\n",
       "      <td>-1.286319</td>\n",
       "      <td>1</td>\n",
       "      <td>0</td>\n",
       "      <td>0</td>\n",
       "      <td>0</td>\n",
       "      <td>0</td>\n",
       "      <td>1</td>\n",
       "      <td>1</td>\n",
       "      <td>0</td>\n",
       "      <td>0</td>\n",
       "      <td>0</td>\n",
       "      <td>0</td>\n",
       "      <td>0</td>\n",
       "    </tr>\n",
       "    <tr>\n",
       "      <th>1872</th>\n",
       "      <td>0.346196</td>\n",
       "      <td>0</td>\n",
       "      <td>0</td>\n",
       "      <td>0</td>\n",
       "      <td>1</td>\n",
       "      <td>0</td>\n",
       "      <td>0</td>\n",
       "      <td>0</td>\n",
       "      <td>1</td>\n",
       "      <td>0</td>\n",
       "      <td>0</td>\n",
       "      <td>0</td>\n",
       "      <td>0</td>\n",
       "    </tr>\n",
       "  </tbody>\n",
       "</table>\n",
       "</div>"
      ],
      "text/plain": [
       "        tenure  PaperlessBilling  SeniorCitizen  Contract_One year  \\\n",
       "942  -0.347623                 1              0                  0   \n",
       "3730  0.999203                 1              0                  0   \n",
       "1761  1.040015                 1              0                  0   \n",
       "2283 -1.286319                 1              0                  0   \n",
       "1872  0.346196                 0              0                  0   \n",
       "\n",
       "      Contract_Two year  PaymentMethod_Credit card (automatic)  \\\n",
       "942                   0                                      1   \n",
       "3730                  0                                      1   \n",
       "1761                  1                                      1   \n",
       "2283                  0                                      0   \n",
       "1872                  1                                      0   \n",
       "\n",
       "      PaymentMethod_Mailed check  InternetService_Fiber optic  \\\n",
       "942                            0                            1   \n",
       "3730                           0                            1   \n",
       "1761                           0                            0   \n",
       "2283                           1                            1   \n",
       "1872                           0                            0   \n",
       "\n",
       "      InternetService_No  MultipleLines_Yes  TechSupport_Yes  StreamingTV_Yes  \\\n",
       "942                    0                  0                0                0   \n",
       "3730                   0                  1                0                1   \n",
       "1761                   1                  1                0                0   \n",
       "2283                   0                  0                0                0   \n",
       "1872                   1                  0                0                0   \n",
       "\n",
       "      StreamingMovies_Yes  \n",
       "942                     1  \n",
       "3730                    1  \n",
       "1761                    0  \n",
       "2283                    0  \n",
       "1872                    0  "
      ]
     },
     "execution_count": 247,
     "metadata": {},
     "output_type": "execute_result"
    }
   ],
   "source": [
    "X_test = X_test[col]\n",
    "X_test.head()"
   ]
  },
  {
   "cell_type": "code",
   "execution_count": 248,
   "id": "65033cec-043b-4e79-9f7e-27e24b226bde",
   "metadata": {},
   "outputs": [],
   "source": [
    "X_test_sm = sm.add_constant(X_test)"
   ]
  },
  {
   "cell_type": "code",
   "execution_count": 249,
   "id": "99b01da9-b959-4192-9e93-12d58c2bc4e8",
   "metadata": {},
   "outputs": [],
   "source": [
    "y_test_pred = res.predict(X_test_sm)"
   ]
  },
  {
   "cell_type": "code",
   "execution_count": 250,
   "id": "b8fb6e5a-0c8f-4fee-8698-97807e600feb",
   "metadata": {},
   "outputs": [
    {
     "data": {
      "text/plain": [
       "942     0.419725\n",
       "3730    0.260232\n",
       "1761    0.008650\n",
       "2283    0.592626\n",
       "1872    0.013989\n",
       "1970    0.692893\n",
       "2532    0.285289\n",
       "1616    0.008994\n",
       "2485    0.602307\n",
       "5914    0.145153\n",
       "dtype: float64"
      ]
     },
     "execution_count": 250,
     "metadata": {},
     "output_type": "execute_result"
    }
   ],
   "source": [
    "y_test_pred[:10]"
   ]
  },
  {
   "cell_type": "code",
   "execution_count": 251,
   "id": "51c87357-452d-48d0-bc08-865849fb6514",
   "metadata": {},
   "outputs": [],
   "source": [
    "# Converting y_pred to a dataframe which is an array\n",
    "y_pred_1 = pd.DataFrame(y_test_pred)"
   ]
  },
  {
   "cell_type": "code",
   "execution_count": 252,
   "id": "1b6906b9-6d0b-479b-831a-737fbafbbbdc",
   "metadata": {},
   "outputs": [
    {
     "data": {
      "text/html": [
       "<div>\n",
       "<style scoped>\n",
       "    .dataframe tbody tr th:only-of-type {\n",
       "        vertical-align: middle;\n",
       "    }\n",
       "\n",
       "    .dataframe tbody tr th {\n",
       "        vertical-align: top;\n",
       "    }\n",
       "\n",
       "    .dataframe thead th {\n",
       "        text-align: right;\n",
       "    }\n",
       "</style>\n",
       "<table border=\"1\" class=\"dataframe\">\n",
       "  <thead>\n",
       "    <tr style=\"text-align: right;\">\n",
       "      <th></th>\n",
       "      <th>0</th>\n",
       "    </tr>\n",
       "  </thead>\n",
       "  <tbody>\n",
       "    <tr>\n",
       "      <th>942</th>\n",
       "      <td>0.419725</td>\n",
       "    </tr>\n",
       "    <tr>\n",
       "      <th>3730</th>\n",
       "      <td>0.260232</td>\n",
       "    </tr>\n",
       "    <tr>\n",
       "      <th>1761</th>\n",
       "      <td>0.008650</td>\n",
       "    </tr>\n",
       "    <tr>\n",
       "      <th>2283</th>\n",
       "      <td>0.592626</td>\n",
       "    </tr>\n",
       "    <tr>\n",
       "      <th>1872</th>\n",
       "      <td>0.013989</td>\n",
       "    </tr>\n",
       "  </tbody>\n",
       "</table>\n",
       "</div>"
      ],
      "text/plain": [
       "             0\n",
       "942   0.419725\n",
       "3730  0.260232\n",
       "1761  0.008650\n",
       "2283  0.592626\n",
       "1872  0.013989"
      ]
     },
     "execution_count": 252,
     "metadata": {},
     "output_type": "execute_result"
    }
   ],
   "source": [
    "# Let's see the head\n",
    "y_pred_1.head()"
   ]
  },
  {
   "cell_type": "code",
   "execution_count": 253,
   "id": "e0ea8627-334b-4d92-9365-38c9383b8126",
   "metadata": {},
   "outputs": [],
   "source": [
    "# Converting y_test to dataframe\n",
    "y_test_df = pd.DataFrame(y_test)"
   ]
  },
  {
   "cell_type": "code",
   "execution_count": 254,
   "id": "54293aa4-9682-4659-a757-5f6b150a382c",
   "metadata": {},
   "outputs": [],
   "source": [
    "# Putting CustID to index\n",
    "y_test_df['CustID'] = y_test_df.index"
   ]
  },
  {
   "cell_type": "code",
   "execution_count": 255,
   "id": "c8f15ec7-ad4a-4320-9305-6b9cf172d6ed",
   "metadata": {},
   "outputs": [],
   "source": [
    "# Removing index for both dataframes to append them side by side \n",
    "y_pred_1.reset_index(drop=True, inplace=True)\n",
    "y_test_df.reset_index(drop=True, inplace=True)"
   ]
  },
  {
   "cell_type": "code",
   "execution_count": 256,
   "id": "a661d61e-5bff-4fb8-a588-2c5d8298194a",
   "metadata": {},
   "outputs": [],
   "source": [
    "# Appending y_test_df and y_pred_1\n",
    "y_pred_final = pd.concat([y_test_df, y_pred_1],axis=1)"
   ]
  },
  {
   "cell_type": "code",
   "execution_count": 257,
   "id": "b04c164d-b8e2-495c-813f-f29e7ab03f9e",
   "metadata": {},
   "outputs": [
    {
     "data": {
      "text/html": [
       "<div>\n",
       "<style scoped>\n",
       "    .dataframe tbody tr th:only-of-type {\n",
       "        vertical-align: middle;\n",
       "    }\n",
       "\n",
       "    .dataframe tbody tr th {\n",
       "        vertical-align: top;\n",
       "    }\n",
       "\n",
       "    .dataframe thead th {\n",
       "        text-align: right;\n",
       "    }\n",
       "</style>\n",
       "<table border=\"1\" class=\"dataframe\">\n",
       "  <thead>\n",
       "    <tr style=\"text-align: right;\">\n",
       "      <th></th>\n",
       "      <th>Churn</th>\n",
       "      <th>CustID</th>\n",
       "      <th>0</th>\n",
       "    </tr>\n",
       "  </thead>\n",
       "  <tbody>\n",
       "    <tr>\n",
       "      <th>0</th>\n",
       "      <td>0</td>\n",
       "      <td>942</td>\n",
       "      <td>0.419725</td>\n",
       "    </tr>\n",
       "    <tr>\n",
       "      <th>1</th>\n",
       "      <td>1</td>\n",
       "      <td>3730</td>\n",
       "      <td>0.260232</td>\n",
       "    </tr>\n",
       "    <tr>\n",
       "      <th>2</th>\n",
       "      <td>0</td>\n",
       "      <td>1761</td>\n",
       "      <td>0.008650</td>\n",
       "    </tr>\n",
       "    <tr>\n",
       "      <th>3</th>\n",
       "      <td>1</td>\n",
       "      <td>2283</td>\n",
       "      <td>0.592626</td>\n",
       "    </tr>\n",
       "    <tr>\n",
       "      <th>4</th>\n",
       "      <td>0</td>\n",
       "      <td>1872</td>\n",
       "      <td>0.013989</td>\n",
       "    </tr>\n",
       "  </tbody>\n",
       "</table>\n",
       "</div>"
      ],
      "text/plain": [
       "   Churn  CustID         0\n",
       "0      0     942  0.419725\n",
       "1      1    3730  0.260232\n",
       "2      0    1761  0.008650\n",
       "3      1    2283  0.592626\n",
       "4      0    1872  0.013989"
      ]
     },
     "execution_count": 257,
     "metadata": {},
     "output_type": "execute_result"
    }
   ],
   "source": [
    "y_pred_final.head()"
   ]
  },
  {
   "cell_type": "code",
   "execution_count": 258,
   "id": "490d686b-3890-4a1b-905f-392781248723",
   "metadata": {},
   "outputs": [],
   "source": [
    "# Renaming the column \n",
    "y_pred_final= y_pred_final.rename(columns={ 0 : 'Churn_Prob'})"
   ]
  },
  {
   "cell_type": "code",
   "execution_count": 264,
   "id": "495d0e32-e7fb-446b-9f06-2d040281be61",
   "metadata": {},
   "outputs": [],
   "source": [
    "y_pred_final = y_pred_final[['CustID','Churn','Churn_Prob']]"
   ]
  },
  {
   "cell_type": "code",
   "execution_count": 265,
   "id": "6237ad09-826d-40b9-89ff-25f5cc201654",
   "metadata": {},
   "outputs": [
    {
     "data": {
      "text/html": [
       "<div>\n",
       "<style scoped>\n",
       "    .dataframe tbody tr th:only-of-type {\n",
       "        vertical-align: middle;\n",
       "    }\n",
       "\n",
       "    .dataframe tbody tr th {\n",
       "        vertical-align: top;\n",
       "    }\n",
       "\n",
       "    .dataframe thead th {\n",
       "        text-align: right;\n",
       "    }\n",
       "</style>\n",
       "<table border=\"1\" class=\"dataframe\">\n",
       "  <thead>\n",
       "    <tr style=\"text-align: right;\">\n",
       "      <th></th>\n",
       "      <th>CustID</th>\n",
       "      <th>Churn</th>\n",
       "      <th>Churn_Prob</th>\n",
       "    </tr>\n",
       "  </thead>\n",
       "  <tbody>\n",
       "    <tr>\n",
       "      <th>0</th>\n",
       "      <td>942</td>\n",
       "      <td>0</td>\n",
       "      <td>0.419725</td>\n",
       "    </tr>\n",
       "    <tr>\n",
       "      <th>1</th>\n",
       "      <td>3730</td>\n",
       "      <td>1</td>\n",
       "      <td>0.260232</td>\n",
       "    </tr>\n",
       "    <tr>\n",
       "      <th>2</th>\n",
       "      <td>1761</td>\n",
       "      <td>0</td>\n",
       "      <td>0.008650</td>\n",
       "    </tr>\n",
       "    <tr>\n",
       "      <th>3</th>\n",
       "      <td>2283</td>\n",
       "      <td>1</td>\n",
       "      <td>0.592626</td>\n",
       "    </tr>\n",
       "    <tr>\n",
       "      <th>4</th>\n",
       "      <td>1872</td>\n",
       "      <td>0</td>\n",
       "      <td>0.013989</td>\n",
       "    </tr>\n",
       "    <tr>\n",
       "      <th>...</th>\n",
       "      <td>...</td>\n",
       "      <td>...</td>\n",
       "      <td>...</td>\n",
       "    </tr>\n",
       "    <tr>\n",
       "      <th>2105</th>\n",
       "      <td>1289</td>\n",
       "      <td>0</td>\n",
       "      <td>0.023041</td>\n",
       "    </tr>\n",
       "    <tr>\n",
       "      <th>2106</th>\n",
       "      <td>3508</td>\n",
       "      <td>0</td>\n",
       "      <td>0.054121</td>\n",
       "    </tr>\n",
       "    <tr>\n",
       "      <th>2107</th>\n",
       "      <td>6765</td>\n",
       "      <td>0</td>\n",
       "      <td>0.008348</td>\n",
       "    </tr>\n",
       "    <tr>\n",
       "      <th>2108</th>\n",
       "      <td>3598</td>\n",
       "      <td>0</td>\n",
       "      <td>0.503619</td>\n",
       "    </tr>\n",
       "    <tr>\n",
       "      <th>2109</th>\n",
       "      <td>4987</td>\n",
       "      <td>0</td>\n",
       "      <td>0.005487</td>\n",
       "    </tr>\n",
       "  </tbody>\n",
       "</table>\n",
       "<p>2110 rows × 3 columns</p>\n",
       "</div>"
      ],
      "text/plain": [
       "      CustID  Churn  Churn_Prob\n",
       "0        942      0    0.419725\n",
       "1       3730      1    0.260232\n",
       "2       1761      0    0.008650\n",
       "3       2283      1    0.592626\n",
       "4       1872      0    0.013989\n",
       "...      ...    ...         ...\n",
       "2105    1289      0    0.023041\n",
       "2106    3508      0    0.054121\n",
       "2107    6765      0    0.008348\n",
       "2108    3598      0    0.503619\n",
       "2109    4987      0    0.005487\n",
       "\n",
       "[2110 rows x 3 columns]"
      ]
     },
     "execution_count": 265,
     "metadata": {},
     "output_type": "execute_result"
    }
   ],
   "source": [
    "y_pred_final"
   ]
  },
  {
   "cell_type": "code",
   "execution_count": 266,
   "id": "7e84556d-cd59-4f2b-890f-229f72ab3d9b",
   "metadata": {},
   "outputs": [
    {
     "data": {
      "text/html": [
       "<div>\n",
       "<style scoped>\n",
       "    .dataframe tbody tr th:only-of-type {\n",
       "        vertical-align: middle;\n",
       "    }\n",
       "\n",
       "    .dataframe tbody tr th {\n",
       "        vertical-align: top;\n",
       "    }\n",
       "\n",
       "    .dataframe thead th {\n",
       "        text-align: right;\n",
       "    }\n",
       "</style>\n",
       "<table border=\"1\" class=\"dataframe\">\n",
       "  <thead>\n",
       "    <tr style=\"text-align: right;\">\n",
       "      <th></th>\n",
       "      <th>CustID</th>\n",
       "      <th>Churn</th>\n",
       "      <th>Churn_Prob</th>\n",
       "    </tr>\n",
       "  </thead>\n",
       "  <tbody>\n",
       "    <tr>\n",
       "      <th>0</th>\n",
       "      <td>942</td>\n",
       "      <td>0</td>\n",
       "      <td>0.419725</td>\n",
       "    </tr>\n",
       "    <tr>\n",
       "      <th>1</th>\n",
       "      <td>3730</td>\n",
       "      <td>1</td>\n",
       "      <td>0.260232</td>\n",
       "    </tr>\n",
       "    <tr>\n",
       "      <th>2</th>\n",
       "      <td>1761</td>\n",
       "      <td>0</td>\n",
       "      <td>0.008650</td>\n",
       "    </tr>\n",
       "    <tr>\n",
       "      <th>3</th>\n",
       "      <td>2283</td>\n",
       "      <td>1</td>\n",
       "      <td>0.592626</td>\n",
       "    </tr>\n",
       "    <tr>\n",
       "      <th>4</th>\n",
       "      <td>1872</td>\n",
       "      <td>0</td>\n",
       "      <td>0.013989</td>\n",
       "    </tr>\n",
       "  </tbody>\n",
       "</table>\n",
       "</div>"
      ],
      "text/plain": [
       "   CustID  Churn  Churn_Prob\n",
       "0     942      0    0.419725\n",
       "1    3730      1    0.260232\n",
       "2    1761      0    0.008650\n",
       "3    2283      1    0.592626\n",
       "4    1872      0    0.013989"
      ]
     },
     "execution_count": 266,
     "metadata": {},
     "output_type": "execute_result"
    }
   ],
   "source": [
    "# Let's see the head of y_pred_final\n",
    "y_pred_final.head()"
   ]
  },
  {
   "cell_type": "code",
   "execution_count": 274,
   "id": "b6743c08-a57a-4f18-ad7f-4971b9be5369",
   "metadata": {},
   "outputs": [],
   "source": [
    "y_pred_final['final_predicted'] = y_pred_final.Churn_Prob.map(lambda x: 1 if x > 0.3 else 0)"
   ]
  },
  {
   "cell_type": "code",
   "execution_count": 275,
   "id": "e2a03470-0fff-4f24-8838-e88069698e4b",
   "metadata": {},
   "outputs": [
    {
     "data": {
      "text/html": [
       "<div>\n",
       "<style scoped>\n",
       "    .dataframe tbody tr th:only-of-type {\n",
       "        vertical-align: middle;\n",
       "    }\n",
       "\n",
       "    .dataframe tbody tr th {\n",
       "        vertical-align: top;\n",
       "    }\n",
       "\n",
       "    .dataframe thead th {\n",
       "        text-align: right;\n",
       "    }\n",
       "</style>\n",
       "<table border=\"1\" class=\"dataframe\">\n",
       "  <thead>\n",
       "    <tr style=\"text-align: right;\">\n",
       "      <th></th>\n",
       "      <th>CustID</th>\n",
       "      <th>Churn</th>\n",
       "      <th>Churn_Prob</th>\n",
       "      <th>final_predicted</th>\n",
       "    </tr>\n",
       "  </thead>\n",
       "  <tbody>\n",
       "    <tr>\n",
       "      <th>0</th>\n",
       "      <td>942</td>\n",
       "      <td>0</td>\n",
       "      <td>0.419725</td>\n",
       "      <td>1</td>\n",
       "    </tr>\n",
       "    <tr>\n",
       "      <th>1</th>\n",
       "      <td>3730</td>\n",
       "      <td>1</td>\n",
       "      <td>0.260232</td>\n",
       "      <td>0</td>\n",
       "    </tr>\n",
       "    <tr>\n",
       "      <th>2</th>\n",
       "      <td>1761</td>\n",
       "      <td>0</td>\n",
       "      <td>0.008650</td>\n",
       "      <td>0</td>\n",
       "    </tr>\n",
       "    <tr>\n",
       "      <th>3</th>\n",
       "      <td>2283</td>\n",
       "      <td>1</td>\n",
       "      <td>0.592626</td>\n",
       "      <td>1</td>\n",
       "    </tr>\n",
       "    <tr>\n",
       "      <th>4</th>\n",
       "      <td>1872</td>\n",
       "      <td>0</td>\n",
       "      <td>0.013989</td>\n",
       "      <td>0</td>\n",
       "    </tr>\n",
       "  </tbody>\n",
       "</table>\n",
       "</div>"
      ],
      "text/plain": [
       "   CustID  Churn  Churn_Prob  final_predicted\n",
       "0     942      0    0.419725                1\n",
       "1    3730      1    0.260232                0\n",
       "2    1761      0    0.008650                0\n",
       "3    2283      1    0.592626                1\n",
       "4    1872      0    0.013989                0"
      ]
     },
     "execution_count": 275,
     "metadata": {},
     "output_type": "execute_result"
    }
   ],
   "source": [
    "y_pred_final.head()"
   ]
  },
  {
   "cell_type": "code",
   "execution_count": 276,
   "id": "668259fe-d958-4c05-b884-10782635326c",
   "metadata": {},
   "outputs": [
    {
     "data": {
      "text/plain": [
       "0.7407582938388626"
      ]
     },
     "execution_count": 276,
     "metadata": {},
     "output_type": "execute_result"
    }
   ],
   "source": [
    "# Let's check the overall accuracy.\n",
    "metrics.accuracy_score(y_pred_final.Churn, y_pred_final.final_predicted)"
   ]
  },
  {
   "cell_type": "code",
   "execution_count": 277,
   "id": "5f6f950b-e0d9-4b93-a558-bb7b86bc185d",
   "metadata": {},
   "outputs": [
    {
     "data": {
      "text/plain": [
       "array([[1144,  384],\n",
       "       [ 163,  419]], dtype=int64)"
      ]
     },
     "execution_count": 277,
     "metadata": {},
     "output_type": "execute_result"
    }
   ],
   "source": [
    "confusion2 = metrics.confusion_matrix(y_pred_final.Churn, y_pred_final.final_predicted )\n",
    "confusion2"
   ]
  },
  {
   "cell_type": "code",
   "execution_count": 278,
   "id": "778727c2-bc35-4239-90ca-b68a36dfdce6",
   "metadata": {},
   "outputs": [],
   "source": [
    "TP = confusion2[1,1] # true positive \n",
    "TN = confusion2[0,0] # true negatives\n",
    "FP = confusion2[0,1] # false positives\n",
    "FN = confusion2[1,0] # false negatives"
   ]
  },
  {
   "cell_type": "code",
   "execution_count": 279,
   "id": "6f38deef-8337-4240-bb36-32b77caee136",
   "metadata": {},
   "outputs": [
    {
     "data": {
      "text/plain": [
       "0.7199312714776632"
      ]
     },
     "execution_count": 279,
     "metadata": {},
     "output_type": "execute_result"
    }
   ],
   "source": [
    "# Let's see the sensitivity of our logistic regression model\n",
    "TP / float(TP+FN)"
   ]
  },
  {
   "cell_type": "code",
   "execution_count": 280,
   "id": "2198d1a0-19ba-4762-8a15-7b4d4366faeb",
   "metadata": {},
   "outputs": [
    {
     "data": {
      "text/plain": [
       "0.7486910994764397"
      ]
     },
     "execution_count": 280,
     "metadata": {},
     "output_type": "execute_result"
    }
   ],
   "source": [
    "# Let us calculate specificity\n",
    "TN / float(TN+FP)"
   ]
  }
 ],
 "metadata": {
  "kernelspec": {
   "display_name": "Python 3 (ipykernel)",
   "language": "python",
   "name": "python3"
  },
  "language_info": {
   "codemirror_mode": {
    "name": "ipython",
    "version": 3
   },
   "file_extension": ".py",
   "mimetype": "text/x-python",
   "name": "python",
   "nbconvert_exporter": "python",
   "pygments_lexer": "ipython3",
   "version": "3.11.7"
  }
 },
 "nbformat": 4,
 "nbformat_minor": 5
}
