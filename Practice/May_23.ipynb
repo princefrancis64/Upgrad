{
 "cells": [
  {
   "cell_type": "markdown",
   "id": "9cbfe328-2a89-4bb2-954c-0a6c0f5fec23",
   "metadata": {},
   "source": [
    "## MNIST Digit Conversion from 4 to 9 using CycleGAN"
   ]
  },
  {
   "cell_type": "markdown",
   "id": "5f7e4302-e376-4225-ac5f-baa5ec6714a4",
   "metadata": {},
   "source": [
    "### Importing Libraries"
   ]
  },
  {
   "cell_type": "code",
   "execution_count": 1,
   "id": "910d5b11-6c5b-4d39-a9d2-a30f978698b9",
   "metadata": {},
   "outputs": [
    {
     "name": "stdout",
     "output_type": "stream",
     "text": [
      "WARNING:tensorflow:From C:\\Users\\Prince\\anaconda3\\Lib\\site-packages\\keras\\src\\losses.py:2976: The name tf.losses.sparse_softmax_cross_entropy is deprecated. Please use tf.compat.v1.losses.sparse_softmax_cross_entropy instead.\n",
      "\n"
     ]
    }
   ],
   "source": [
    "import numpy as np\n",
    "import tensorflow as tf\n",
    "import matplotlib.pyplot as plt\n",
    "from skimage.transform import resize\n",
    "import imageio\n",
    "import glob"
   ]
  },
  {
   "cell_type": "markdown",
   "id": "16e108e8-3a41-4f12-8483-a96c2d5578fb",
   "metadata": {},
   "source": [
    "### Data Loading and Visualization"
   ]
  },
  {
   "cell_type": "code",
   "execution_count": 2,
   "id": "4b50e780-e056-433a-afc5-4288d32e24d7",
   "metadata": {},
   "outputs": [],
   "source": [
    "(train_images,train_labels),(_,_)= tf.keras.datasets.mnist.load_data()"
   ]
  },
  {
   "cell_type": "code",
   "execution_count": 4,
   "id": "3a73367d-f140-4d41-aa2a-e3d4f9b28ada",
   "metadata": {},
   "outputs": [
    {
     "name": "stdout",
     "output_type": "stream",
     "text": [
      "The shape of dataset is (60000, 28, 28)\n"
     ]
    }
   ],
   "source": [
    "print(f\"The shape of dataset is {train_images.shape}\")"
   ]
  },
  {
   "cell_type": "code",
   "execution_count": 5,
   "id": "bee67dfe-21d4-4b84-9fe9-9067d104bd76",
   "metadata": {},
   "outputs": [],
   "source": [
    "BATCH_SIZE=1024"
   ]
  },
  {
   "cell_type": "markdown",
   "id": "0023102a-bda4-4433-835d-8c27a86d9889",
   "metadata": {},
   "source": [
    "#### Data Visualization"
   ]
  },
  {
   "cell_type": "code",
   "execution_count": 9,
   "id": "3228a6a5-bdbe-49d9-b1af-398c96f7984d",
   "metadata": {},
   "outputs": [
    {
     "data": {
      "image/png": "[encoded data removed]",
      "text/plain": [
       "<Figure size 200x200 with 1 Axes>"
      ]
     },
     "metadata": {},
     "output_type": "display_data"
    }
   ],
   "source": [
    "img4 = train_images[train_labels==4]\n",
    "plt.figure(figsize=(2,2))\n",
    "plt.imshow(img4[0],cmap=\"gray\")\n",
    "plt.show()"
   ]
  },
  {
   "cell_type": "code",
   "execution_count": 10,
   "id": "e4b5b977-a9e5-4a27-94d4-6d430f55af36",
   "metadata": {},
   "outputs": [
    {
     "data": {
      "image/png": "[encoded data removed]",
      "text/plain": [
       "<Figure size 200x200 with 1 Axes>"
      ]
     },
     "metadata": {},
     "output_type": "display_data"
    }
   ],
   "source": [
    "img9 = train_images[train_labels==9]\n",
    "plt.figure(figsize=(2,2))\n",
    "plt.imshow(img9[0],cmap=\"gray\")\n",
    "plt.show()"
   ]
  },
  {
   "cell_type": "markdown",
   "id": "621d8c89-0464-4a22-ad14-9d272ef110fa",
   "metadata": {},
   "source": [
    "#### Normalizing both the labels of 4 and 9"
   ]
  },
  {
   "cell_type": "code",
   "execution_count": 11,
   "id": "86c221c4-943a-49a7-abf9-37992daf2761",
   "metadata": {},
   "outputs": [
    {
     "name": "stdout",
     "output_type": "stream",
     "text": [
      "There are 5949 images of label 9\n",
      "There are 5842 images of label 4\n"
     ]
    }
   ],
   "source": [
    "img4 = (img4/127.5)-1.0\n",
    "img9 = (img9/127.5)-1.0\n",
    "\n",
    "print(f\"There are {img9.shape[0]} images of label 9\")\n",
    "print(f\"There are {img4.shape[0]} images of label 4\")"
   ]
  },
  {
   "cell_type": "markdown",
   "id": "85c107ec-c36d-412c-9661-5b4fad059ca1",
   "metadata": {},
   "source": [
    "### Data Preprocessing"
   ]
  },
  {
   "cell_type": "markdown",
   "id": "7c7537e2-6e16-4019-a035-e015a568d64b",
   "metadata": {},
   "source": [
    "#### Resize Images to (32,32)"
   ]
  },
  {
   "cell_type": "code",
   "execution_count": 12,
   "id": "09f51216-92d9-45b1-9466-2d41aa757679",
   "metadata": {},
   "outputs": [
    {
     "data": {
      "text/plain": [
       "(5842, 32, 32)"
      ]
     },
     "execution_count": 12,
     "metadata": {},
     "output_type": "execute_result"
    }
   ],
   "source": [
    "digit4_data = np.zeros((img4.shape[0],32,32))\n",
    "for index,img in enumerate(img4):\n",
    "    digit4_data[index,:,:] = resize(image=img,output_shape=(32,32))\n",
    "digit4_data.shape"
   ]
  },
  {
   "cell_type": "code",
   "execution_count": 13,
   "id": "78e28c89-adc6-478a-bd20-a0fabc17f5db",
   "metadata": {},
   "outputs": [
    {
     "data": {
      "text/plain": [
       "(5949, 32, 32)"
      ]
     },
     "execution_count": 13,
     "metadata": {},
     "output_type": "execute_result"
    }
   ],
   "source": [
    "digit9_data = np.zeros((img9.shape[0],32,32))\n",
    "for index,img in enumerate(img9):\n",
    "    digit9_data[index,:,:] = resize(image=img,output_shape=(32,32))\n",
    "digit9_data.shape"
   ]
  },
  {
   "cell_type": "markdown",
   "id": "9cfeef31-e5f4-4735-ad12-5f607f5bd121",
   "metadata": {},
   "source": [
    "#### Reshape image to (32,32,1) with float pixel values"
   ]
  },
  {
   "cell_type": "code",
   "execution_count": 14,
   "id": "613d8b4e-853c-4b98-b4d7-2ab19e60e60a",
   "metadata": {},
   "outputs": [],
   "source": [
    "digit4_data = digit4_data.reshape(digit4_data.shape[0],32,32,1).astype(\"float32\")\n",
    "digit9_data = digit9_data.reshape(digit9_data.shape[0],32,32,1).astype(\"float32\")"
   ]
  },
  {
   "cell_type": "markdown",
   "id": "69e8a60d-4c13-4847-857e-5ae75eeaa6d2",
   "metadata": {},
   "source": [
    "#### Batch and shuffle the data"
   ]
  },
  {
   "cell_type": "code",
   "execution_count": 16,
   "id": "79fe2a47-5e58-4a74-869b-a1320ce93d85",
   "metadata": {},
   "outputs": [],
   "source": [
    "digit4_data = tf.data.Dataset.from_tensor_slices(digit4_data).shuffle(digit4_data.shape[0],seed=42).batch(BATCH_SIZE)\n",
    "digit9_data = tf.data.Dataset.from_tensor_slices(digit9_data).shuffle(digit9_data.shape[0],seed=42).batch(BATCH_SIZE)"
   ]
  },
  {
   "cell_type": "code",
   "execution_count": 17,
   "id": "1073465e-4023-49ac-a4a6-bc53756582b8",
   "metadata": {},
   "outputs": [
    {
     "data": {
      "text/plain": [
       "<_BatchDataset element_spec=TensorSpec(shape=(None, 32, 32, 1), dtype=tf.float32, name=None)>"
      ]
     },
     "execution_count": 17,
     "metadata": {},
     "output_type": "execute_result"
    }
   ],
   "source": [
    "digit4_data"
   ]
  },
  {
   "cell_type": "code",
   "execution_count": 18,
   "id": "2e57ae6c-d035-4d35-9583-6ec30bd43cef",
   "metadata": {},
   "outputs": [
    {
     "data": {
      "text/plain": [
       "<_BatchDataset element_spec=TensorSpec(shape=(None, 32, 32, 1), dtype=tf.float32, name=None)>"
      ]
     },
     "execution_count": 18,
     "metadata": {},
     "output_type": "execute_result"
    }
   ],
   "source": [
    "digit9_data"
   ]
  },
  {
   "cell_type": "code",
   "execution_count": 19,
   "id": "0c52f464-235e-4155-9250-f72784575319",
   "metadata": {},
   "outputs": [
    {
     "data": {
      "image/png": "[encoded data removed]",
      "text/plain": [
       "<Figure size 200x200 with 1 Axes>"
      ]
     },
     "metadata": {},
     "output_type": "display_data"
    }
   ],
   "source": [
    "sample_digit4_data  = next(iter(digit4_data))\n",
    "plt.figure(figsize=(2,2))\n",
    "plt.imshow(sample_digit4_data[0].numpy(),cmap=\"gray\")\n",
    "plt.show()"
   ]
  },
  {
   "cell_type": "code",
   "execution_count": 20,
   "id": "be3b1f69-70c7-40b9-ade9-620776242789",
   "metadata": {},
   "outputs": [
    {
     "data": {
      "image/png": "[encoded data removed]",
      "text/plain": [
       "<Figure size 200x200 with 1 Axes>"
      ]
     },
     "metadata": {},
     "output_type": "display_data"
    }
   ],
   "source": [
    "sample_digit9_data  = next(iter(digit9_data))\n",
    "plt.figure(figsize=(2,2))\n",
    "plt.imshow(sample_digit9_data[0].numpy(),cmap=\"gray\")\n",
    "plt.show()"
   ]
  },
  {
   "cell_type": "markdown",
   "id": "7b9ecd5c-f707-4c6e-a614-b98f5825d2de",
   "metadata": {},
   "source": [
    "### Model Building"
   ]
  },
  {
   "cell_type": "code",
   "execution_count": 21,
   "id": "7279bd31-4664-4e41-965e-64e6f5153e9e",
   "metadata": {},
   "outputs": [],
   "source": [
    "class InstanceNormalization(tf.keras.layers.Layer):\n",
    "    # Initialization of Objects\n",
    "    def __init__(self, epsilon=1e-5):\n",
    "        # calling parent's init\n",
    "        super(InstanceNormalization, self).__init__()\n",
    "        self.epsilon = epsilon\n",
    "    \n",
    "    def build(self, input_shape):\n",
    "        self.scale = self.add_weight(\n",
    "            name='scale',\n",
    "            shape=input_shape[-1:],\n",
    "            initializer=tf.random_normal_initializer(1., 0.02),\n",
    "            trainable=True)\n",
    "        self.offset = self.add_weight(\n",
    "            name='offset',\n",
    "            shape=input_shape[-1:],\n",
    "            initializer='zeros',\n",
    "            trainable=True)\n",
    "    \n",
    "    def call(self, x):\n",
    "        # Compute Mean and Variance, Axes=[1,2] ensures Instance Normalization\n",
    "        mean, variance = tf.nn.moments(x, axes=[1, 2], keepdims=True)\n",
    "        inv = tf.math.rsqrt(variance + self.epsilon)\n",
    "        normalized = (x - mean) * inv\n",
    "        return self.scale * normalized + self.offset"
   ]
  },
  {
   "cell_type": "markdown",
   "id": "268d84e8-7c3c-49f5-a117-94934f2717b2",
   "metadata": {},
   "source": [
    "#### Down Sampling"
   ]
  },
  {
   "cell_type": "code",
   "execution_count": 32,
   "id": "5732f40c-8ab1-4ee8-9b4b-0d7d1890536d",
   "metadata": {},
   "outputs": [],
   "source": [
    "def downsample(filters,size,apply_norm=True):\n",
    "    initializer = tf.random_normal_initializer(0.,0.02)\n",
    "    result = tf.keras.Sequential()\n",
    "    result.add(tf.keras.layers.Conv2D(filters, size, strides=2, padding='same',\n",
    "                                      kernel_initializer=initializer, use_bias=False))\n",
    "    # Add Normalization layer\n",
    "    if apply_norm:\n",
    "        result.add(InstanceNormalization())\n",
    "    # Add Leaky Relu Activation\n",
    "    result.add(tf.keras.layers.LeakyReLU())\n",
    "    return result"
   ]
  },
  {
   "cell_type": "markdown",
   "id": "74c457f0-d99c-4040-ae4c-811c07bef402",
   "metadata": {},
   "source": [
    "#### Upsampling"
   ]
  },
  {
   "cell_type": "code",
   "execution_count": 33,
   "id": "ce950680-340d-435b-9ea8-c6d6705689b5",
   "metadata": {},
   "outputs": [],
   "source": [
    "def upsample(filters, size, apply_dropout=False):\n",
    "    initializer = tf.random_normal_initializer(0., 0.02)\n",
    "    result = tf.keras.Sequential()\n",
    "    # Add Transposed Conv2d layer\n",
    "    result.add(tf.keras.layers.Conv2DTranspose(filters, size, strides=2, padding='same',\n",
    "                                               kernel_initializer=initializer, use_bias=False))\n",
    "    # Add Normalization Layer\n",
    "    result.add(InstanceNormalization())\n",
    "    # Conditionally add Dropout layer\n",
    "    if apply_dropout:\n",
    "        result.add(tf.keras.layers.Dropout(0.5))\n",
    "    # Add Relu Activation Layer\n",
    "    result.add(tf.keras.layers.ReLU())\n",
    "    return result"
   ]
  },
  {
   "cell_type": "markdown",
   "id": "864bbb81-aecf-4d22-a8f9-52bea9324494",
   "metadata": {},
   "source": [
    "### Unets"
   ]
  },
  {
   "cell_type": "code",
   "execution_count": 34,
   "id": "8bd7a8a6-f4ed-40a1-843a-47d9bbab5950",
   "metadata": {},
   "outputs": [],
   "source": [
    "# Unet Generator is a combination of Convolution + Transposed Convolution Layers\n",
    "def unet_generator():\n",
    "    down_stack = [\n",
    "        downsample(64, 4, False), # (bs, 16, 16, 64)\n",
    "        downsample(128, 4), # (bs, 8, 8, 128)\n",
    "        downsample(128, 4), # (bs, 4, 4, 128)\n",
    "        downsample(128, 4), # (bs, 2, 2, 128)\n",
    "        downsample(128, 4) # (bs, 1, 1, 128)\n",
    "    ]\n",
    "    up_stack = [\n",
    "        upsample(128, 4, True), # (bs, 2, 2, 256)\n",
    "        upsample(128, 4, True), # (bs, 4, 4, 256)\n",
    "        upsample(128, 4), # (bs, 8, 8, 256)\n",
    "        upsample(64, 4) # (bs, 16, 16, 128)\n",
    "    ]\n",
    "    initializer = tf.random_normal_initializer(0., 0.02)\n",
    "    last = tf.keras.layers.Conv2DTranspose(1, 4, strides=2, padding='same', kernel_initializer=initializer,\n",
    "                                           activation='tanh') # (bs, 32, 32, 1)\n",
    "    concat = tf.keras.layers.Concatenate()\n",
    "    inputs = tf.keras.layers.Input(shape=[32, 32, 1])\n",
    "    x = inputs\n",
    "    # Downsampling through the model\n",
    "    skips = []\n",
    "    for down in down_stack:\n",
    "        x = down(x)\n",
    "        skips.append(x)\n",
    "    \n",
    "    skips = reversed(skips[:-1])\n",
    "    # Upsampling and establishing the skip connections\n",
    "    for up, skip in zip(up_stack, skips):\n",
    "        x = up(x)\n",
    "        x = concat([x, skip])\n",
    "    x = last(x)\n",
    "    return tf.keras.Model(inputs=inputs, outputs=x)"
   ]
  },
  {
   "cell_type": "markdown",
   "id": "3a791442-7be1-4eeb-b5b2-8d446b502730",
   "metadata": {},
   "source": [
    "#### Generator"
   ]
  },
  {
   "cell_type": "code",
   "execution_count": 35,
   "id": "fe8a1a68-0a24-4a47-ace9-553959f7a904",
   "metadata": {},
   "outputs": [],
   "source": [
    "generator_g = unet_generator()\n",
    "generator_f = unet_generator()"
   ]
  },
  {
   "cell_type": "code",
   "execution_count": 36,
   "id": "137d2a53-b23e-4672-a8fc-82d4d0d889aa",
   "metadata": {},
   "outputs": [
    {
     "name": "stdout",
     "output_type": "stream",
     "text": [
      "Model: \"model\"\n",
      "__________________________________________________________________________________________________\n",
      " Layer (type)                Output Shape                 Param #   Connected to                  \n",
      "==================================================================================================\n",
      " input_1 (InputLayer)        [(None, 32, 32, 1)]          0         []                            \n",
      "                                                                                                  \n",
      " sequential_1 (Sequential)   (None, 16, 16, 64)           1024      ['input_1[0][0]']             \n",
      "                                                                                                  \n",
      " sequential_2 (Sequential)   (None, 8, 8, 128)            131328    ['sequential_1[0][0]']        \n",
      "                                                                                                  \n",
      " sequential_3 (Sequential)   (None, 4, 4, 128)            262400    ['sequential_2[0][0]']        \n",
      "                                                                                                  \n",
      " sequential_4 (Sequential)   (None, 2, 2, 128)            262400    ['sequential_3[0][0]']        \n",
      "                                                                                                  \n",
      " sequential_5 (Sequential)   (None, 1, 1, 128)            262400    ['sequential_4[0][0]']        \n",
      "                                                                                                  \n",
      " sequential_6 (Sequential)   (None, 2, 2, 128)            262400    ['sequential_5[0][0]']        \n",
      "                                                                                                  \n",
      " concatenate (Concatenate)   multiple                     0         ['sequential_6[0][0]',        \n",
      "                                                                     'sequential_4[0][0]',        \n",
      "                                                                     'sequential_7[0][0]',        \n",
      "                                                                     'sequential_3[0][0]',        \n",
      "                                                                     'sequential_8[0][0]',        \n",
      "                                                                     'sequential_2[0][0]',        \n",
      "                                                                     'sequential_9[0][0]',        \n",
      "                                                                     'sequential_1[0][0]']        \n",
      "                                                                                                  \n",
      " sequential_7 (Sequential)   (None, 4, 4, 128)            524544    ['concatenate[0][0]']         \n",
      "                                                                                                  \n",
      " sequential_8 (Sequential)   (None, 8, 8, 128)            524544    ['concatenate[1][0]']         \n",
      "                                                                                                  \n",
      " sequential_9 (Sequential)   (None, 16, 16, 64)           262272    ['concatenate[2][0]']         \n",
      "                                                                                                  \n",
      " conv2d_transpose_4 (Conv2D  (None, 32, 32, 1)            2049      ['concatenate[3][0]']         \n",
      " Transpose)                                                                                       \n",
      "                                                                                                  \n",
      "==================================================================================================\n",
      "Total params: 2495361 (9.52 MB)\n",
      "Trainable params: 2495361 (9.52 MB)\n",
      "Non-trainable params: 0 (0.00 Byte)\n",
      "__________________________________________________________________________________________________\n"
     ]
    }
   ],
   "source": [
    "generator_g.summary()"
   ]
  },
  {
   "cell_type": "markdown",
   "id": "7535e0f4-aeab-4da5-8c41-504dbd51a3de",
   "metadata": {},
   "source": [
    "#### Discriminator"
   ]
  },
  {
   "cell_type": "code",
   "execution_count": 37,
   "id": "daf965af-cc12-49ac-bcae-a78b48ab2398",
   "metadata": {},
   "outputs": [],
   "source": [
    "# Discriminators only contain Convolutional Layers and no Transposed Convolution is not used \n",
    "def discriminator():\n",
    "    initializer = tf.random_normal_initializer(0., 0.02)\n",
    "    # add input layer of size (32, 32, 1)\n",
    "    inp = tf.keras.layers.Input(shape=[32, 32, 1], name='input_image')\n",
    "    x = inp\n",
    "    \n",
    "    # add downsampling step here\n",
    "    down1 = downsample(64, 4, False)(x) # (bs, 16, 16, 64)\n",
    "    down2 = downsample(128, 4)(down1) # (bs, 8, 8, 128)\n",
    "    # add a padding layer here\n",
    "    zero_pad1 = tf.keras.layers.ZeroPadding2D()(down2) # (bs, 10, 10, 128)\n",
    "    \n",
    "    # implement a concrete downsampling layer here\n",
    "    conv = tf.keras.layers.Conv2D(256, 4, strides=1, kernel_initializer=initializer,\n",
    "                                  use_bias=False)(zero_pad1) # (bs, 7, 7, 256)\n",
    "    norm1 = InstanceNormalization()(conv)\n",
    "    leaky_relu = tf.keras.layers.LeakyReLU()(norm1)\n",
    "    \n",
    "    # apply zero padding layer\n",
    "    zero_pad2 = tf.keras.layers.ZeroPadding2D()(leaky_relu) # (bs, 9, 9, 256)\n",
    "    \n",
    "    # add a last pure 2D Convolution layer\n",
    "    last = tf.keras.layers.Conv2D(1, 4, strides=1, kernel_initializer=initializer)(zero_pad2) # (bs, 6, 6, 1)\n",
    "    return tf.keras.Model(inputs=inp, outputs=last)"
   ]
  },
  {
   "cell_type": "code",
   "execution_count": 38,
   "id": "397d7889-17c2-4064-9553-4e8b612a329b",
   "metadata": {},
   "outputs": [],
   "source": [
    "discriminator_x = discriminator()\n",
    "discriminator_y = discriminator()"
   ]
  },
  {
   "cell_type": "code",
   "execution_count": 39,
   "id": "a792cfb5-7259-49d5-96ee-d3bde2446c55",
   "metadata": {},
   "outputs": [
    {
     "name": "stdout",
     "output_type": "stream",
     "text": [
      "Model: \"model_2\"\n",
      "_________________________________________________________________\n",
      " Layer (type)                Output Shape              Param #   \n",
      "=================================================================\n",
      " input_image (InputLayer)    [(None, 32, 32, 1)]       0         \n",
      "                                                                 \n",
      " sequential_19 (Sequential)  (None, 16, 16, 64)        1024      \n",
      "                                                                 \n",
      " sequential_20 (Sequential)  (None, 8, 8, 128)         131328    \n",
      "                                                                 \n",
      " zero_padding2d (ZeroPaddin  (None, 10, 10, 128)       0         \n",
      " g2D)                                                            \n",
      "                                                                 \n",
      " conv2d_12 (Conv2D)          (None, 7, 7, 256)         524288    \n",
      "                                                                 \n",
      " instance_normalization_17   (None, 7, 7, 256)         512       \n",
      " (InstanceNormalization)                                         \n",
      "                                                                 \n",
      " leaky_re_lu_12 (LeakyReLU)  (None, 7, 7, 256)         0         \n",
      "                                                                 \n",
      " zero_padding2d_1 (ZeroPadd  (None, 9, 9, 256)         0         \n",
      " ing2D)                                                          \n",
      "                                                                 \n",
      " conv2d_13 (Conv2D)          (None, 6, 6, 1)           4097      \n",
      "                                                                 \n",
      "=================================================================\n",
      "Total params: 661249 (2.52 MB)\n",
      "Trainable params: 661249 (2.52 MB)\n",
      "Non-trainable params: 0 (0.00 Byte)\n",
      "_________________________________________________________________\n"
     ]
    }
   ],
   "source": [
    "discriminator_x.summary()"
   ]
  },
  {
   "cell_type": "markdown",
   "id": "c92d96de-bb85-4f39-8ffb-255d1c0e7d9c",
   "metadata": {},
   "source": [
    "### Model Training"
   ]
  },
  {
   "cell_type": "code",
   "execution_count": 40,
   "id": "522ebbb5-8fb8-4045-a778-c76d9123b85a",
   "metadata": {},
   "outputs": [
    {
     "data": {
      "image/png": "[encoded data removed]",
      "text/plain": [
       "<Figure size 400x400 with 4 Axes>"
      ]
     },
     "metadata": {},
     "output_type": "display_data"
    }
   ],
   "source": [
    "to_digit9_data = generator_g(sample_digit4_data)\n",
    "to_digit4_data = generator_f(sample_digit9_data)\n",
    "plt.figure(figsize=(4, 4))\n",
    "\n",
    "imgs = [sample_digit4_data, to_digit9_data, sample_digit9_data, to_digit4_data]\n",
    "title = ['digit4_data', 'To digit9_data', 'digit9_data', 'To digit4_data']\n",
    "\n",
    "for i in range(len(imgs)):\n",
    "    plt.subplot(2, 2, i+1)\n",
    "    plt.title(title[i])\n",
    "    plt.imshow(imgs[i][0].numpy()[:, :, 0], cmap='gray')\n",
    "    plt.axis('off')\n",
    "plt.show()"
   ]
  },
  {
   "cell_type": "markdown",
   "id": "552d59c9-5b1d-41d0-9e94-33234ce1921b",
   "metadata": {},
   "source": [
    "#### Declare Loss as Binary Cross Entropy"
   ]
  },
  {
   "cell_type": "code",
   "execution_count": 43,
   "id": "cebf6335-d861-4975-8465-2639061cf3aa",
   "metadata": {},
   "outputs": [],
   "source": [
    "loss_obj = tf.keras.losses.BinaryCrossentropy(from_logits=True)"
   ]
  },
  {
   "cell_type": "code",
   "execution_count": 44,
   "id": "35a8c36a-bbff-44e5-b000-1131d257a345",
   "metadata": {},
   "outputs": [],
   "source": [
    "def discriminator_loss(real, generated):\n",
    "    real_loss = loss_obj(tf.ones_like(real), real)\n",
    "    generated_loss = loss_obj(tf.zeros_like(generated), generated)\n",
    "    total_disc_loss = real_loss + generated_loss\n",
    "    return total_disc_loss * 0.5 # mean of losses"
   ]
  },
  {
   "cell_type": "code",
   "execution_count": 45,
   "id": "c1f1bb86-e54e-44ec-9d7f-76660e4273a6",
   "metadata": {},
   "outputs": [],
   "source": [
    "def generator_loss(generated):\n",
    "    return loss_obj(tf.ones_like(generated), generated)"
   ]
  },
  {
   "cell_type": "code",
   "execution_count": 46,
   "id": "897bab6f-6acb-4d5f-bd3a-b6a83bb02668",
   "metadata": {},
   "outputs": [],
   "source": [
    "def calc_cycle_loss(real_image, cycled_image):\n",
    "    loss1 = tf.reduce_mean(tf.abs(real_image - cycled_image))\n",
    "    return 10.0 * loss1"
   ]
  },
  {
   "cell_type": "code",
   "execution_count": 47,
   "id": "a74a5273-cd17-4b87-9324-69c446c9f11c",
   "metadata": {},
   "outputs": [],
   "source": [
    "def identity_loss(real_image, same_image):\n",
    "    loss = tf.reduce_mean(tf.abs(real_image - same_image))\n",
    "    return 0.5*loss"
   ]
  },
  {
   "cell_type": "markdown",
   "id": "e68e7c88-5a55-4dd5-9f52-8a38cbbefe2d",
   "metadata": {},
   "source": [
    "#### Optimizer"
   ]
  },
  {
   "cell_type": "code",
   "execution_count": 48,
   "id": "684d299b-eb23-4f55-aa7a-fd39b3593efa",
   "metadata": {},
   "outputs": [],
   "source": [
    "generator_g_optimizer = tf.keras.optimizers.Adam(2e-4, beta_1=0.5)\n",
    "generator_f_optimizer = tf.keras.optimizers.Adam(2e-4, beta_1=0.5)\n",
    "\n",
    "discriminator_x_optimizer = tf.keras.optimizers.Adam(2e-4, beta_1=0.5)\n",
    "discriminator_y_optimizer = tf.keras.optimizers.Adam(2e-4, beta_1=0.5)"
   ]
  },
  {
   "cell_type": "code",
   "execution_count": 49,
   "id": "3060c945-cf65-4535-bc2b-bd6aed52f615",
   "metadata": {},
   "outputs": [],
   "source": [
    "EPOCHS = 100"
   ]
  },
  {
   "cell_type": "markdown",
   "id": "20ea8b3a-0b28-4f23-a59f-65314b681142",
   "metadata": {},
   "source": [
    "### Checkpoint Initialization"
   ]
  },
  {
   "cell_type": "code",
   "execution_count": 50,
   "id": "61dae538-d1b2-418c-ac2b-7da095fbebbf",
   "metadata": {},
   "outputs": [],
   "source": [
    "checkpoint_path = \"./Trained_Model\"\n",
    "\n",
    "ckpt = tf.train.Checkpoint(generator_g=generator_g,\n",
    "                           generator_f=generator_f,\n",
    "                           discriminator_x=discriminator_x,\n",
    "                           discriminator_y=discriminator_y,\n",
    "                           generator_g_optimizer=generator_g_optimizer,\n",
    "                           generator_f_optimizer=generator_f_optimizer,\n",
    "                           discriminator_x_optimizer=discriminator_x_optimizer,\n",
    "                           discriminator_y_optimizer=discriminator_y_optimizer)\n",
    "\n",
    "ckpt_manager = tf.train.CheckpointManager(ckpt, checkpoint_path, max_to_keep=3)\n",
    "\n",
    "# if a checkpoint exists, restore the latest checkpoint.\n",
    "if ckpt_manager.latest_checkpoint:\n",
    "    ckpt.restore(ckpt_manager.latest_checkpoint)\n",
    "    print ('Latest checkpoint restored!!')"
   ]
  },
  {
   "cell_type": "code",
   "execution_count": 51,
   "id": "a71b0fc8-7b24-42c2-a713-062f0902c555",
   "metadata": {},
   "outputs": [],
   "source": [
    "def generate_images(model1, test_input1, model2, test_input2):\n",
    "    prediction1 = model1(test_input1)\n",
    "    prediction2 = model2(test_input2)\n",
    "    plt.figure(figsize=(8, 4))\n",
    "    display_list = [test_input1[0], prediction1[0], test_input2[0], prediction2[0]]\n",
    "    title = ['Input Image', 'Predicted Image', 'Input Image', 'Predicted Image']\n",
    "    for i in range(4):\n",
    "        plt.subplot(1, 4, i+1)\n",
    "        plt.title(title[i])\n",
    "        plt.imshow(display_list[i].numpy()[:, :, 0], cmap='gray')\n",
    "        plt.axis('off')\n",
    "\n",
    "    plt.savefig('image_at_epoch_{:04d}.png'.format(epoch))\n",
    "    plt.show()"
   ]
  },
  {
   "cell_type": "markdown",
   "id": "ac07833d-8a66-474a-ab98-48081f238294",
   "metadata": {},
   "source": [
    "### Training Flow"
   ]
  },
  {
   "cell_type": "code",
   "execution_count": 52,
   "id": "e74344e6-67bc-4f85-a338-6a8ce1f127bb",
   "metadata": {},
   "outputs": [],
   "source": [
    "@tf.function\n",
    "def train_step(real_x, real_y):\n",
    "    # persistent is set to True because the tape is used more than\n",
    "    # once to calculate the gradients.\n",
    "    with tf.GradientTape(persistent=True) as tape:\n",
    "        # Generator G translates X -> Y\n",
    "        # Generator F translates Y -> X\n",
    "        fake_y = generator_g(real_x, training=True)\n",
    "        cycled_x = generator_f(fake_y, training=True)\n",
    "        \n",
    "        fake_x = generator_f(real_y, training=True)\n",
    "        cycled_y = generator_g(fake_x, training=True)\n",
    "        \n",
    "        # same_x and same_y are used for identity loss.\n",
    "        same_x = generator_f(real_x, training=True)\n",
    "        same_y = generator_g(real_y, training=True)\n",
    "        \n",
    "        disc_real_x = discriminator_x(real_x, training=True)\n",
    "        disc_real_y = discriminator_y(real_y, training=True)\n",
    "        \n",
    "        disc_fake_x = discriminator_x(fake_x, training=True)\n",
    "        disc_fake_y = discriminator_y(fake_y, training=True)\n",
    "        \n",
    "        # calculate the loss\n",
    "        gen_g_loss = generator_loss(disc_fake_y)\n",
    "        gen_f_loss = generator_loss(disc_fake_x)\n",
    "        \n",
    "        total_cycle_loss = calc_cycle_loss(real_x, cycled_x) + calc_cycle_loss(real_y, cycled_y)\n",
    "        \n",
    "        # Total generator loss = BCE loss + cycle loss + identity loss\n",
    "        total_gen_g_loss = gen_g_loss + total_cycle_loss + identity_loss(real_y, same_y)\n",
    "        total_gen_f_loss = gen_f_loss + total_cycle_loss + identity_loss(real_x, same_x)\n",
    "        \n",
    "        # Discriminator's loss\n",
    "        disc_x_loss = discriminator_loss(disc_real_x, disc_fake_x)\n",
    "        disc_y_loss = discriminator_loss(disc_real_y, disc_fake_y)\n",
    "        \n",
    "    # Calculate the gradients for generator and discriminator\n",
    "    generator_g_gradients = tape.gradient(total_gen_g_loss, generator_g.trainable_variables)\n",
    "    generator_f_gradients = tape.gradient(total_gen_f_loss, generator_f.trainable_variables)\n",
    "    \n",
    "    discriminator_x_gradients = tape.gradient(disc_x_loss, discriminator_x.trainable_variables)\n",
    "    discriminator_y_gradients = tape.gradient(disc_y_loss, discriminator_y.trainable_variables)\n",
    "    \n",
    "    # Apply the gradients to the optimizer\n",
    "    generator_g_optimizer.apply_gradients(zip(generator_g_gradients, generator_g.trainable_variables))\n",
    "    generator_f_optimizer.apply_gradients(zip(generator_f_gradients, generator_f.trainable_variables))\n",
    "    \n",
    "    discriminator_x_optimizer.apply_gradients(zip(discriminator_x_gradients, discriminator_x.trainable_variables))\n",
    "    discriminator_y_optimizer.apply_gradients(zip(discriminator_y_gradients, discriminator_y.trainable_variables))"
   ]
  },
  {
   "cell_type": "markdown",
   "id": "adbd1ef5-7ad9-4064-94fc-d2a576d7c4eb",
   "metadata": {},
   "source": [
    "#### Train the CycleGAN for several Epochs"
   ]
  },
  {
   "cell_type": "code",
   "execution_count": null,
   "id": "a41b731d-0319-4126-914d-516f97c08262",
   "metadata": {},
   "outputs": [
    {
     "data": {
      "image/png": "[encoded data removed]",
      "text/plain": [
       "<Figure size 800x400 with 4 Axes>"
      ]
     },
     "metadata": {},
     "output_type": "display_data"
    },
    {
     "name": "stdout",
     "output_type": "stream",
     "text": [
      "Saving checkpoint for epoch 1 at ./Trained_Model\\ckpt-1\n"
     ]
    },
    {
     "data": {
      "image/png": "[encoded data removed]",
      "text/plain": [
       "<Figure size 800x400 with 4 Axes>"
      ]
     },
     "metadata": {},
     "output_type": "display_data"
    },
    {
     "name": "stdout",
     "output_type": "stream",
     "text": [
      "Saving checkpoint for epoch 2 at ./Trained_Model\\ckpt-2\n"
     ]
    },
    {
     "data": {
      "image/png": "[encoded data removed]",
      "text/plain": [
       "<Figure size 800x400 with 4 Axes>"
      ]
     },
     "metadata": {},
     "output_type": "display_data"
    },
    {
     "name": "stdout",
     "output_type": "stream",
     "text": [
      "Saving checkpoint for epoch 3 at ./Trained_Model\\ckpt-3\n"
     ]
    },
    {
     "data": {
      "image/png": "[encoded data removed]",
      "text/plain": [
       "<Figure size 800x400 with 4 Axes>"
      ]
     },
     "metadata": {},
     "output_type": "display_data"
    },
    {
     "name": "stdout",
     "output_type": "stream",
     "text": [
      "Saving checkpoint for epoch 4 at ./Trained_Model\\ckpt-4\n"
     ]
    },
    {
     "data": {
      "image/png": "[encoded data removed]",
      "text/plain": [
       "<Figure size 800x400 with 4 Axes>"
      ]
     },
     "metadata": {},
     "output_type": "display_data"
    },
    {
     "name": "stdout",
     "output_type": "stream",
     "text": [
      "Saving checkpoint for epoch 5 at ./Trained_Model\\ckpt-5\n"
     ]
    },
    {
     "data": {
      "image/png": "[encoded data removed]",
      "text/plain": [
       "<Figure size 800x400 with 4 Axes>"
      ]
     },
     "metadata": {},
     "output_type": "display_data"
    },
    {
     "name": "stdout",
     "output_type": "stream",
     "text": [
      "Saving checkpoint for epoch 6 at ./Trained_Model\\ckpt-6\n"
     ]
    },
    {
     "data": {
      "image/png": "[encoded data removed]",
      "text/plain": [
       "<Figure size 800x400 with 4 Axes>"
      ]
     },
     "metadata": {},
     "output_type": "display_data"
    },
    {
     "name": "stdout",
     "output_type": "stream",
     "text": [
      "Saving checkpoint for epoch 7 at ./Trained_Model\\ckpt-7\n"
     ]
    },
    {
     "data": {
      "image/png": "[encoded data removed]",
      "text/plain": [
       "<Figure size 800x400 with 4 Axes>"
      ]
     },
     "metadata": {},
     "output_type": "display_data"
    },
    {
     "name": "stdout",
     "output_type": "stream",
     "text": [
      "Saving checkpoint for epoch 8 at ./Trained_Model\\ckpt-8\n"
     ]
    }
   ],
   "source": [
    "for epoch in range(1, EPOCHS+1):\n",
    "    for image_x, image_y in tf.data.Dataset.zip((digit4_data, digit9_data)):\n",
    "        train_step(image_x, image_y)\n",
    "    generate_images(generator_g, sample_digit4_data, generator_f, sample_digit9_data)\n",
    "    ckpt_save_path = ckpt_manager.save()\n",
    "    print('Saving checkpoint for epoch', epoch, 'at', ckpt_save_path)"
   ]
  },
  {
   "cell_type": "markdown",
   "id": "b3d5cf89-6707-4251-b2d9-a19214cb910f",
   "metadata": {},
   "source": [
    "#### Generate a GIF for visualization of Results"
   ]
  },
  {
   "cell_type": "code",
   "execution_count": null,
   "id": "ff320b9f-f0ca-4f82-98f1-a799b68a995d",
   "metadata": {},
   "outputs": [],
   "source": [
    "anim_file = 'cyclegan.gif'\n",
    "\n",
    "with imageio.get_writer(anim_file, mode='I') as writer:\n",
    "  filenames = glob.glob('image*.png')\n",
    "  filenames = sorted(filenames)\n",
    "  for filename in filenames:\n",
    "    image = imageio.imread(filename)\n",
    "    writer.append_data(image)\n",
    "  image = imageio.imread(filename)\n",
    "  writer.append_data(image)"
   ]
  },
  {
   "cell_type": "code",
   "execution_count": null,
   "id": "2cc0b288-6636-4f9b-af8f-0e4cba3d8d49",
   "metadata": {},
   "outputs": [],
   "source": [
    "pip install git+https://github.com/tensorflow/docs"
   ]
  },
  {
   "cell_type": "code",
   "execution_count": null,
   "id": "05bb26c2-eb28-4c25-a8f4-48176eabfd5c",
   "metadata": {},
   "outputs": [],
   "source": [
    "import tensorflow_docs.vis.embed as embed\n",
    "embed.embed_file(anim_file)"
   ]
  },
  {
   "cell_type": "code",
   "execution_count": null,
   "id": "a108c4d1-19e8-4fe3-97a8-5549cf3b01a8",
   "metadata": {},
   "outputs": [],
   "source": []
  }
 ],
 "metadata": {
  "kernelspec": {
   "display_name": "Python 3 (ipykernel)",
   "language": "python",
   "name": "python3"
  },
  "language_info": {
   "codemirror_mode": {
    "name": "ipython",
    "version": 3
   },
   "file_extension": ".py",
   "mimetype": "text/x-python",
   "name": "python",
   "nbconvert_exporter": "python",
   "pygments_lexer": "ipython3",
   "version": "3.11.7"
  }
 },
 "nbformat": 4,
 "nbformat_minor": 5
}
