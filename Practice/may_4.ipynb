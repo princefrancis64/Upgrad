{
 "cells": [
  {
   "cell_type": "code",
   "execution_count": 2,
   "id": "493c53ac-3869-45a6-a236-5d7d98763b14",
   "metadata": {},
   "outputs": [],
   "source": [
    "import tensorflow as tf\n",
    "import numpy as np"
   ]
  },
  {
   "cell_type": "code",
   "execution_count": 3,
   "id": "ef98dd6f-6323-48ad-bf9c-95b5c288e26d",
   "metadata": {},
   "outputs": [],
   "source": [
    "x = tf.constant([1,2])"
   ]
  },
  {
   "cell_type": "code",
   "execution_count": 4,
   "id": "90fe5f8f-0c40-4530-b2ca-bafea5251e7b",
   "metadata": {},
   "outputs": [
    {
     "data": {
      "text/plain": [
       "<tf.Tensor: shape=(2,), dtype=int32, numpy=array([1, 2])>"
      ]
     },
     "execution_count": 4,
     "metadata": {},
     "output_type": "execute_result"
    }
   ],
   "source": [
    "x"
   ]
  },
  {
   "cell_type": "code",
   "execution_count": 6,
   "id": "a3ee507e-7a88-48c3-bb39-b9cdcf06204d",
   "metadata": {},
   "outputs": [
    {
     "data": {
      "text/plain": [
       "<tf.Variable 'Variable:0' shape=(2,) dtype=int32, numpy=array([3, 4])>"
      ]
     },
     "execution_count": 6,
     "metadata": {},
     "output_type": "execute_result"
    }
   ],
   "source": [
    "y = tf.Variable([3,4])\n",
    "y"
   ]
  },
  {
   "cell_type": "code",
   "execution_count": 10,
   "id": "f78cd5e5-4804-4546-a4d0-67471ce90ce2",
   "metadata": {},
   "outputs": [
    {
     "data": {
      "text/plain": [
       "tensorflow.python.ops.resource_variable_ops.ResourceVariable"
      ]
     },
     "execution_count": 10,
     "metadata": {},
     "output_type": "execute_result"
    }
   ],
   "source": [
    "type(y)"
   ]
  },
  {
   "cell_type": "code",
   "execution_count": 11,
   "id": "541e484d-6715-4d6e-8bd0-0a4d5c2631c2",
   "metadata": {},
   "outputs": [
    {
     "data": {
      "text/plain": [
       "tensorflow.python.framework.ops.EagerTensor"
      ]
     },
     "execution_count": 11,
     "metadata": {},
     "output_type": "execute_result"
    }
   ],
   "source": [
    "type(x)"
   ]
  },
  {
   "cell_type": "code",
   "execution_count": 12,
   "id": "b47681a8-122c-4bee-a96a-ad1fbb94c2ba",
   "metadata": {},
   "outputs": [
    {
     "ename": "AttributeError",
     "evalue": "'tensorflow.python.framework.ops.EagerTensor' object has no attribute 'assign'",
     "output_type": "error",
     "traceback": [
      "\u001b[1;31m---------------------------------------------------------------------------\u001b[0m",
      "\u001b[1;31mAttributeError\u001b[0m                            Traceback (most recent call last)",
      "Cell \u001b[1;32mIn[12], line 1\u001b[0m\n\u001b[1;32m----> 1\u001b[0m x \u001b[38;5;241m=\u001b[39m x\u001b[38;5;241m.\u001b[39massign([\u001b[38;5;241m3\u001b[39m,\u001b[38;5;241m4\u001b[39m])\n\u001b[0;32m      2\u001b[0m x\n",
      "File \u001b[1;32m~\\AppData\\Roaming\\Python\\Python311\\site-packages\\tensorflow\\python\\framework\\tensor.py:260\u001b[0m, in \u001b[0;36mTensor.__getattr__\u001b[1;34m(self, name)\u001b[0m\n\u001b[0;32m    252\u001b[0m \u001b[38;5;28;01mif\u001b[39;00m name \u001b[38;5;129;01min\u001b[39;00m {\u001b[38;5;124m\"\u001b[39m\u001b[38;5;124mT\u001b[39m\u001b[38;5;124m\"\u001b[39m, \u001b[38;5;124m\"\u001b[39m\u001b[38;5;124mastype\u001b[39m\u001b[38;5;124m\"\u001b[39m, \u001b[38;5;124m\"\u001b[39m\u001b[38;5;124mravel\u001b[39m\u001b[38;5;124m\"\u001b[39m, \u001b[38;5;124m\"\u001b[39m\u001b[38;5;124mtranspose\u001b[39m\u001b[38;5;124m\"\u001b[39m, \u001b[38;5;124m\"\u001b[39m\u001b[38;5;124mreshape\u001b[39m\u001b[38;5;124m\"\u001b[39m, \u001b[38;5;124m\"\u001b[39m\u001b[38;5;124mclip\u001b[39m\u001b[38;5;124m\"\u001b[39m, \u001b[38;5;124m\"\u001b[39m\u001b[38;5;124msize\u001b[39m\u001b[38;5;124m\"\u001b[39m,\n\u001b[0;32m    253\u001b[0m             \u001b[38;5;124m\"\u001b[39m\u001b[38;5;124mtolist\u001b[39m\u001b[38;5;124m\"\u001b[39m, \u001b[38;5;124m\"\u001b[39m\u001b[38;5;124mdata\u001b[39m\u001b[38;5;124m\"\u001b[39m}:\n\u001b[0;32m    254\u001b[0m   \u001b[38;5;66;03m# TODO(wangpeng): Export the enable_numpy_behavior knob\u001b[39;00m\n\u001b[0;32m    255\u001b[0m   \u001b[38;5;28;01mraise\u001b[39;00m \u001b[38;5;167;01mAttributeError\u001b[39;00m(\n\u001b[0;32m    256\u001b[0m       \u001b[38;5;124mf\u001b[39m\u001b[38;5;124m\"\u001b[39m\u001b[38;5;132;01m{\u001b[39;00m\u001b[38;5;28mtype\u001b[39m(\u001b[38;5;28mself\u001b[39m)\u001b[38;5;241m.\u001b[39m\u001b[38;5;18m__name__\u001b[39m\u001b[38;5;132;01m}\u001b[39;00m\u001b[38;5;124m object has no attribute \u001b[39m\u001b[38;5;124m'\u001b[39m\u001b[38;5;132;01m{\u001b[39;00mname\u001b[38;5;132;01m}\u001b[39;00m\u001b[38;5;124m'\u001b[39m\u001b[38;5;124m. \u001b[39m\u001b[38;5;124m\"\u001b[39m \u001b[38;5;241m+\u001b[39m \u001b[38;5;124m\"\"\"\u001b[39m\n\u001b[0;32m    257\u001b[0m \u001b[38;5;124m    If you are looking for numpy-related methods, please run the following:\u001b[39m\n\u001b[0;32m    258\u001b[0m \u001b[38;5;124m    tf.experimental.numpy.experimental_enable_numpy_behavior()\u001b[39m\n\u001b[0;32m    259\u001b[0m \u001b[38;5;124m  \u001b[39m\u001b[38;5;124m\"\"\"\u001b[39m)\n\u001b[1;32m--> 260\u001b[0m \u001b[38;5;28mself\u001b[39m\u001b[38;5;241m.\u001b[39m\u001b[38;5;21m__getattribute__\u001b[39m(name)\n",
      "\u001b[1;31mAttributeError\u001b[0m: 'tensorflow.python.framework.ops.EagerTensor' object has no attribute 'assign'"
     ]
    }
   ],
   "source": [
    "x = x.assign([3,4])\n",
    "x"
   ]
  },
  {
   "cell_type": "code",
   "execution_count": 13,
   "id": "9fbc3592-e2ab-4447-9899-2aac5c056c92",
   "metadata": {},
   "outputs": [
    {
     "data": {
      "text/plain": [
       "<tf.Variable 'UnreadVariable' shape=(2,) dtype=int32, numpy=array([5, 6])>"
      ]
     },
     "execution_count": 13,
     "metadata": {},
     "output_type": "execute_result"
    }
   ],
   "source": [
    "y = y.assign([5,6])\n",
    "y"
   ]
  },
  {
   "cell_type": "code",
   "execution_count": 14,
   "id": "01ec4bcd-7028-4752-9252-593ba98a5e1c",
   "metadata": {},
   "outputs": [
    {
     "data": {
      "text/plain": [
       "<tf.Variable 'UnreadVariable' shape=(2,) dtype=int32, numpy=array([5, 6])>"
      ]
     },
     "execution_count": 14,
     "metadata": {},
     "output_type": "execute_result"
    }
   ],
   "source": [
    "y"
   ]
  },
  {
   "cell_type": "code",
   "execution_count": 15,
   "id": "35e615b3-2a03-4d97-92fd-ee3f302b9d99",
   "metadata": {},
   "outputs": [
    {
     "name": "stdout",
     "output_type": "stream",
     "text": [
      "Tensorflow version: 2.16.1\n"
     ]
    }
   ],
   "source": [
    "### tensorflow\n",
    "print('Tensorflow version:',tf.__version__)"
   ]
  },
  {
   "cell_type": "markdown",
   "id": "c6dd4094-d2fe-4701-b283-a6b977aa5ac7",
   "metadata": {},
   "source": [
    "### 1. TENSORS OF DIFFERENT RANKS"
   ]
  },
  {
   "cell_type": "code",
   "execution_count": 17,
   "id": "d16295fd-f639-4947-855a-dc5cbfb67be5",
   "metadata": {},
   "outputs": [],
   "source": [
    "import numpy as np"
   ]
  },
  {
   "cell_type": "code",
   "execution_count": 18,
   "id": "7fea8553-9d4f-41c2-846a-523fbc541b64",
   "metadata": {},
   "outputs": [
    {
     "name": "stdout",
     "output_type": "stream",
     "text": [
      "Shapes: (5,) (5,)\n"
     ]
    }
   ],
   "source": [
    "\"\"\" A vector or a 1-D tensor \"\"\"\n",
    "\n",
    "## Vector in tensorflow\n",
    "vector_tf = tf.constant([0,1,2,3,4])\n",
    "\n",
    "# Vector in numpy\n",
    "vector_np = np.array([0,1,2,3,4])\n",
    "\n",
    "print(\"Shapes:\",vector_tf.shape,vector_np.shape)"
   ]
  },
  {
   "cell_type": "code",
   "execution_count": 19,
   "id": "62bc9df2-ca59-4a64-8632-8907e6210210",
   "metadata": {},
   "outputs": [
    {
     "name": "stdout",
     "output_type": "stream",
     "text": [
      "Shapes: (3, 2) (3, 2)\n"
     ]
    }
   ],
   "source": [
    "\"\"\" A matrix is a 2-dimensional tensor\"\"\"\n",
    "\n",
    "#matrix in tensorflow\n",
    "matrix_tf = tf.constant([[0,1],[2,3],[4,5]])\n",
    "\n",
    "# Matrix in Numpy\n",
    "matrix_np = np.array([[0,1],[2,3],[4,5]])\n",
    "\n",
    "print(\"Shapes:\",matrix_tf.shape,matrix_np.shape)"
   ]
  },
  {
   "cell_type": "code",
   "execution_count": 25,
   "id": "f983e1bd-58f2-4166-8b34-a62b18ef54c0",
   "metadata": {},
   "outputs": [
    {
     "name": "stdout",
     "output_type": "stream",
     "text": [
      "Shapes: (5, 3, 2) (5, 3, 2)\n"
     ]
    }
   ],
   "source": [
    "\"\"\"3 D array\"\"\"\n",
    "\n",
    "#3-d tensor in tensorflow\n",
    "t3_tf = tf.constant([[[0,1],[2,3],[4,5]]]*5)\n",
    "\n",
    "#3-d matrix in numpy\n",
    "t3_np = np.array([[[0,1],[2,3],[4,5]]]*5)\n",
    "print(\"Shapes:\",t3_tf.shape,t3_np.shape)"
   ]
  },
  {
   "cell_type": "code",
   "execution_count": 24,
   "id": "7831c962-07ee-4428-a56e-52c6e2fddfb2",
   "metadata": {},
   "outputs": [
    {
     "data": {
      "text/plain": [
       "3"
      ]
     },
     "execution_count": 24,
     "metadata": {},
     "output_type": "execute_result"
    }
   ],
   "source": [
    "t3_tf.ndim"
   ]
  },
  {
   "cell_type": "markdown",
   "id": "5f502b3a-2780-49d9-ab1f-344c0af1032b",
   "metadata": {},
   "source": [
    "### 2.Two ways of declaring tensors"
   ]
  },
  {
   "cell_type": "code",
   "execution_count": 26,
   "id": "49cc2649-eb2f-4353-9564-738806b69873",
   "metadata": {},
   "outputs": [],
   "source": [
    "\"\"\"Two types of tensors:tf.constant & tf.Variable\"\"\"\n",
    "const_tensor = tf.constant([[1,2,3],[4,5,6]])\n",
    "var_tensor = tf.Variable([[1,2,3],[4,5,6]])"
   ]
  },
  {
   "cell_type": "code",
   "execution_count": 33,
   "id": "aa4d36c7-0cb4-4184-8ffa-65c3693d617a",
   "metadata": {},
   "outputs": [
    {
     "name": "stdout",
     "output_type": "stream",
     "text": [
      "Int32 tensor: <tf.Variable 'Variable:0' shape=(2, 3) dtype=int32, numpy=\n",
      "array([[1, 2, 3],\n",
      "       [4, 5, 6]])>\n",
      "Float32 tensor: <tf.Variable 'Variable:0' shape=(2, 3) dtype=float32, numpy=\n",
      "array([[1., 2., 3.],\n",
      "       [4., 5., 6.]], dtype=float32)>\n",
      "Boolean tensor: <tf.Variable 'Variable:0' shape=(3,) dtype=bool, numpy=array([ True, False, False])>\n"
     ]
    }
   ],
   "source": [
    "\"\"\"Declaring tensors with specific datatypes\"\"\"\n",
    "int32_tensor = tf.Variable([[1,2,3],[4,5,6]],dtype=tf.int32)\n",
    "float32_tensor =tf.Variable([[1,2,3],[4,5,6]],dtype=tf.float32)\n",
    "bool_tensor =  tf.Variable([True, False, False],dtype=tf.bool)\n",
    "\n",
    "print(\"Int32 tensor:\", int32_tensor)\n",
    "print(\"Float32 tensor:\",float32_tensor)\n",
    "print(\"Boolean tensor:\",bool_tensor)"
   ]
  },
  {
   "cell_type": "code",
   "execution_count": 34,
   "id": "95f0a451-e1f6-4bb3-a292-87b86a2180e1",
   "metadata": {},
   "outputs": [],
   "source": [
    "bool_tensor =  tf.Variable([True, False, False])"
   ]
  },
  {
   "cell_type": "code",
   "execution_count": 35,
   "id": "e7072e38-f75c-4de0-b818-c8b9968fdee5",
   "metadata": {},
   "outputs": [
    {
     "data": {
      "text/plain": [
       "<tf.Variable 'Variable:0' shape=(3,) dtype=bool, numpy=array([ True, False, False])>"
      ]
     },
     "execution_count": 35,
     "metadata": {},
     "output_type": "execute_result"
    }
   ],
   "source": [
    "bool_tensor"
   ]
  },
  {
   "cell_type": "markdown",
   "id": "78ddb241-10ec-4808-ba45-0d5a0c18a9e8",
   "metadata": {},
   "source": [
    "#### Declare a tensor of shape (2, 2, 2, 2) with random numbers from a normal distribution whose mean and standard deviation are both 1."
   ]
  },
  {
   "cell_type": "code",
   "execution_count": 36,
   "id": "5c8d256c-5641-458d-9bf2-cdde9c68dc6f",
   "metadata": {},
   "outputs": [
    {
     "name": "stdout",
     "output_type": "stream",
     "text": [
      "(2, 2, 2, 2)\n",
      "[[[[ 1.28707287  0.26327402]\n",
      "   [ 0.1150957   1.04902163]]\n",
      "\n",
      "  [[-0.23659314  0.39851061]\n",
      "   [-2.71037588  1.09434   ]]]\n",
      "\n",
      "\n",
      " [[[-1.6567388   1.49679049]\n",
      "   [-0.20797892  0.90038324]]\n",
      "\n",
      "  [[-0.9865003  -0.6335356 ]\n",
      "   [-1.29918446  0.33930053]]]]\n"
     ]
    }
   ],
   "source": [
    "# Approach 1\n",
    "arr = np.random.randn(2,2,2,2) # returns random numbers from standard normal distribution -mean=0 and std=1\n",
    "print(arr.shape)\n",
    "print(arr)"
   ]
  },
  {
   "cell_type": "code",
   "execution_count": 37,
   "id": "ab55a1b0-6dcd-4bb9-bc64-3c62166deefb",
   "metadata": {},
   "outputs": [
    {
     "data": {
      "text/plain": [
       "<tf.Tensor: shape=(2, 2, 2, 2), dtype=float64, numpy=\n",
       "array([[[[ 1.28707287,  0.26327402],\n",
       "         [ 0.1150957 ,  1.04902163]],\n",
       "\n",
       "        [[-0.23659314,  0.39851061],\n",
       "         [-2.71037588,  1.09434   ]]],\n",
       "\n",
       "\n",
       "       [[[-1.6567388 ,  1.49679049],\n",
       "         [-0.20797892,  0.90038324]],\n",
       "\n",
       "        [[-0.9865003 , -0.6335356 ],\n",
       "         [-1.29918446,  0.33930053]]]])>"
      ]
     },
     "execution_count": 37,
     "metadata": {},
     "output_type": "execute_result"
    }
   ],
   "source": [
    "arr_tf = tf.constant(arr)\n",
    "arr_tf"
   ]
  },
  {
   "cell_type": "code",
   "execution_count": 40,
   "id": "1453a1d3-22cd-4206-8f56-c7b8dc58d0d2",
   "metadata": {},
   "outputs": [
    {
     "name": "stdout",
     "output_type": "stream",
     "text": [
      "(2, 2, 2, 2)\n",
      "[[[[-2.21907702  1.21076406]\n",
      "   [-0.40778218  0.44300815]]\n",
      "\n",
      "  [[ 0.20612577  0.36569393]\n",
      "   [-1.05317279  0.97841989]]]\n",
      "\n",
      "\n",
      " [[[ 0.18048441  0.67361685]\n",
      "   [-1.16054126 -1.02639337]]\n",
      "\n",
      "  [[ 0.02422952 -0.43942192]\n",
      "   [ 1.87018634  2.19641423]]]]\n",
      "tf.Tensor(\n",
      "[[[[-3.04769255  5.52691015]\n",
      "   [ 1.48054456  3.60752036]]\n",
      "\n",
      "  [[ 3.01531443  3.41423484]\n",
      "   [-0.13293197  4.94604972]]]\n",
      "\n",
      "\n",
      " [[[ 2.95121101  4.18404212]\n",
      "   [-0.40135316 -0.06598344]]\n",
      "\n",
      "  [[ 2.56057379  1.4014452 ]\n",
      "   [ 7.17546586  7.99103557]]]], shape=(2, 2, 2, 2), dtype=float64)\n"
     ]
    }
   ],
   "source": [
    "### approach 1\n",
    "arr = np.random.randn(2,2,2,2)\n",
    "print(arr.shape)\n",
    "print(arr)\n",
    "\n",
    "arr = arr+1  ## adding 1 makes the numbers from normal distribution which makes mean=1\n",
    "\n",
    "# to change the standard deviation as well multiply with 2.5\n",
    "arr = arr*2.5 #std=2.5\n",
    "\n",
    "arr_tf = tf.constant(arr)\n",
    "print(arr_tf)"
   ]
  },
  {
   "cell_type": "code",
   "execution_count": 41,
   "id": "317677ab-c814-4412-9b6f-bf4e4775293c",
   "metadata": {},
   "outputs": [
    {
     "name": "stdout",
     "output_type": "stream",
     "text": [
      "[[[[-3.04769255  5.52691015]\n",
      "   [ 1.48054456  3.60752036]]\n",
      "\n",
      "  [[ 3.01531443  3.41423484]\n",
      "   [-0.13293197  4.94604972]]]\n",
      "\n",
      "\n",
      " [[[ 2.95121101  4.18404212]\n",
      "   [-0.40135316 -0.06598344]]\n",
      "\n",
      "  [[ 2.56057379  1.4014452 ]\n",
      "   [ 7.17546586  7.99103557]]]]\n"
     ]
    }
   ],
   "source": [
    "print(arr_tf.numpy())"
   ]
  },
  {
   "cell_type": "code",
   "execution_count": 42,
   "id": "2a3c7d05-2455-48c3-8576-b9e88c05093a",
   "metadata": {},
   "outputs": [],
   "source": [
    "### approach 2 - using random number generating function from tensorflow\n",
    "arr_tf = tf.random.normal((2,2,2,2),mean=1,stddev=1,name=\"my_tensor\")"
   ]
  },
  {
   "cell_type": "code",
   "execution_count": 43,
   "id": "a70f57c3-7fcb-4ed1-a749-28a8165400df",
   "metadata": {},
   "outputs": [
    {
     "data": {
      "text/plain": [
       "<tf.Tensor: shape=(2, 2, 2, 2), dtype=float32, numpy=\n",
       "array([[[[-0.2983966 , -1.5297372 ],\n",
       "         [ 1.5496514 ,  2.3364851 ]],\n",
       "\n",
       "        [[ 0.20172375,  0.20574719],\n",
       "         [ 0.54006565,  0.03395331]]],\n",
       "\n",
       "\n",
       "       [[[ 1.4374633 , -1.0696359 ],\n",
       "         [ 0.23030531, -0.8110838 ]],\n",
       "\n",
       "        [[ 2.25168   ,  2.286663  ],\n",
       "         [ 2.4443579 ,  1.3837115 ]]]], dtype=float32)>"
      ]
     },
     "execution_count": 43,
     "metadata": {},
     "output_type": "execute_result"
    }
   ],
   "source": [
    "arr_tf"
   ]
  },
  {
   "cell_type": "code",
   "execution_count": 46,
   "id": "ebab0d9b-767d-4da8-b6de-cc47489d270e",
   "metadata": {},
   "outputs": [
    {
     "data": {
      "text/plain": [
       "array([[[[-0.2983966 , -1.5297372 ],\n",
       "         [ 1.5496514 ,  2.3364851 ]],\n",
       "\n",
       "        [[ 0.20172375,  0.20574719],\n",
       "         [ 0.54006565,  0.03395331]]],\n",
       "\n",
       "\n",
       "       [[[ 1.4374633 , -1.0696359 ],\n",
       "         [ 0.23030531, -0.8110838 ]],\n",
       "\n",
       "        [[ 2.25168   ,  2.286663  ],\n",
       "         [ 2.4443579 ,  1.3837115 ]]]], dtype=float32)"
      ]
     },
     "execution_count": 46,
     "metadata": {},
     "output_type": "execute_result"
    }
   ],
   "source": [
    "arr_tf.numpy()"
   ]
  },
  {
   "cell_type": "markdown",
   "id": "03c590ff-59e4-460d-9a57-d8e9abc0cea2",
   "metadata": {},
   "source": [
    "### COMMON MATHEMATICAL OPERATIONS ON TENSORS"
   ]
  },
  {
   "cell_type": "code",
   "execution_count": 50,
   "id": "5bffccda-f5cc-49d4-a7f1-5e29589a0a8a",
   "metadata": {},
   "outputs": [
    {
     "data": {
      "text/plain": [
       "[[0, 1, 2, 3, 4], [0, 1, 2, 3, 4]]"
      ]
     },
     "execution_count": 50,
     "metadata": {},
     "output_type": "execute_result"
    }
   ],
   "source": [
    "[list(range(5))]*2"
   ]
  },
  {
   "cell_type": "code",
   "execution_count": 53,
   "id": "ab03270e-444d-4043-9492-5bd699160612",
   "metadata": {},
   "outputs": [
    {
     "name": "stdout",
     "output_type": "stream",
     "text": [
      "x: <tf.Variable 'Variable:0' shape=(5, 5) dtype=int32, numpy=\n",
      "array([[0, 1, 2, 3, 4],\n",
      "       [0, 1, 2, 3, 4],\n",
      "       [0, 1, 2, 3, 4],\n",
      "       [0, 1, 2, 3, 4],\n",
      "       [0, 1, 2, 3, 4]])>\n",
      "y: <tf.Variable 'Variable:0' shape=(5, 5) dtype=int32, numpy=\n",
      "array([[5, 6, 7, 8, 9],\n",
      "       [5, 6, 7, 8, 9],\n",
      "       [5, 6, 7, 8, 9],\n",
      "       [5, 6, 7, 8, 9],\n",
      "       [5, 6, 7, 8, 9]])>\n"
     ]
    }
   ],
   "source": [
    "\"\"\" let us define two tensors\"\"\"\n",
    "\n",
    "x = tf.Variable([list(range(5))]*5)\n",
    "y = tf.Variable([list(range(5,10))]*5)\n",
    "\n",
    "print(\"x:\",x)\n",
    "print(\"y:\",y)"
   ]
  },
  {
   "cell_type": "code",
   "execution_count": 55,
   "id": "09e819b8-4f7b-42e6-9759-f88ff25fd233",
   "metadata": {},
   "outputs": [
    {
     "name": "stdout",
     "output_type": "stream",
     "text": [
      "z: tf.Tensor(\n",
      "[[ 5  7  9 11 13]\n",
      " [ 5  7  9 11 13]\n",
      " [ 5  7  9 11 13]\n",
      " [ 5  7  9 11 13]\n",
      " [ 5  7  9 11 13]], shape=(5, 5), dtype=int32)\n",
      "w: tf.Tensor(\n",
      "[[ 0  6 14 24 36]\n",
      " [ 0  6 14 24 36]\n",
      " [ 0  6 14 24 36]\n",
      " [ 0  6 14 24 36]\n",
      " [ 0  6 14 24 36]], shape=(5, 5), dtype=int32)\n",
      "v: tf.Tensor(\n",
      "[[       inf 6.         3.5        2.66666667 2.25      ]\n",
      " [       inf 6.         3.5        2.66666667 2.25      ]\n",
      " [       inf 6.         3.5        2.66666667 2.25      ]\n",
      " [       inf 6.         3.5        2.66666667 2.25      ]\n",
      " [       inf 6.         3.5        2.66666667 2.25      ]], shape=(5, 5), dtype=float64)\n"
     ]
    }
   ],
   "source": [
    "\"\"\"Simple Mathematical operations on two tensors\"\"\"\n",
    "z = x+y \n",
    "print(\"z:\",z)\n",
    "\n",
    "w = x*y\n",
    "print(\"w:\",w)\n",
    "\n",
    "v = y/x\n",
    "print(\"v:\",v)"
   ]
  },
  {
   "cell_type": "code",
   "execution_count": 59,
   "id": "1f13f890-66db-4acc-8f4a-a3a329b60c09",
   "metadata": {},
   "outputs": [
    {
     "name": "stdout",
     "output_type": "stream",
     "text": [
      "tf.Tensor(\n",
      "[[ True  True  True  True  True]\n",
      " [ True  True  True  True  True]\n",
      " [ True  True  True  True  True]\n",
      " [ True  True  True  True  True]\n",
      " [ True  True  True  True  True]], shape=(5, 5), dtype=bool)\n",
      "tf.Tensor(\n",
      "[[ True  True  True  True  True]\n",
      " [ True  True  True  True  True]\n",
      " [ True  True  True  True  True]\n",
      " [ True  True  True  True  True]\n",
      " [ True  True  True  True  True]], shape=(5, 5), dtype=bool)\n",
      "tf.Tensor(\n",
      "[[ True  True  True  True  True]\n",
      " [ True  True  True  True  True]\n",
      " [ True  True  True  True  True]\n",
      " [ True  True  True  True  True]\n",
      " [ True  True  True  True  True]], shape=(5, 5), dtype=bool)\n"
     ]
    }
   ],
   "source": [
    "\"\"\"Alternative method\"\"\"\n",
    "z2 = tf.add(x,y)\n",
    "w2 = tf.multiply(x,y)\n",
    "v2 = tf.divide(y,x)\n",
    "\n",
    "print(z ==z2)\n",
    "print(w2 == w)\n",
    "print(v2 ==v)"
   ]
  },
  {
   "cell_type": "code",
   "execution_count": 60,
   "id": "161f1fdb-1158-4a85-91f4-90a8122c29c5",
   "metadata": {},
   "outputs": [
    {
     "name": "stdout",
     "output_type": "stream",
     "text": [
      "Before transpose: [[ 0  1  2]\n",
      " [ 3  4  5]\n",
      " [ 6  7  8]\n",
      " [ 9 10 11]\n",
      " [12 13 14]]\n",
      "After transpose: [[ 0  3  6  9 12]\n",
      " [ 1  4  7 10 13]\n",
      " [ 2  5  8 11 14]]\n"
     ]
    }
   ],
   "source": [
    "#Transpose of tensors\n",
    "y = tf.Variable([[0,1,2],[3,4,5],[6,7,8],[9,10,11],[12,13,14]])\n",
    "z = tf.transpose(y)\n",
    "print(\"Before transpose:\",y.numpy())\n",
    "print(\"After transpose:\",z.numpy())"
   ]
  },
  {
   "cell_type": "markdown",
   "id": "bdb1316b-d56d-4e0e-804a-4a926bd0823e",
   "metadata": {},
   "source": [
    "### 4. LINEAR ALGEBRA ON TENSORS"
   ]
  },
  {
   "cell_type": "code",
   "execution_count": 3,
   "id": "92bfd517-e815-487f-9654-7cb622f1696d",
   "metadata": {},
   "outputs": [
    {
     "name": "stdout",
     "output_type": "stream",
     "text": [
      "z: tf.Tensor(\n",
      "[[ 90 100 110]\n",
      " [240 275 310]\n",
      " [390 450 510]\n",
      " [540 625 710]\n",
      " [690 800 910]], shape=(5, 3), dtype=int32)\n"
     ]
    }
   ],
   "source": [
    "## Matrix multiplication\n",
    "x = tf.Variable([[0,1,2,3,4],[5,6,7,8,9],[10,11,12,13,14],[15,16,17,18,19],[20,21,22,23,24]])\n",
    "y = tf.Variable([[0,1,2],[3,4,5],[6,7,8],[9,10,11],[12,13,14]])\n",
    "\n",
    "z = tf.linalg.matmul(x,y)\n",
    "print(\"z:\",z)"
   ]
  },
  {
   "cell_type": "code",
   "execution_count": 5,
   "id": "1a86885b-dbce-4d23-b4fc-7e920d5025ee",
   "metadata": {},
   "outputs": [
    {
     "name": "stdout",
     "output_type": "stream",
     "text": [
      "(5, 5)\n"
     ]
    },
    {
     "data": {
      "text/plain": [
       "TensorShape([5, 3])"
      ]
     },
     "execution_count": 5,
     "metadata": {},
     "output_type": "execute_result"
    }
   ],
   "source": [
    "print(x.shape)\n",
    "y.shape"
   ]
  },
  {
   "cell_type": "code",
   "execution_count": 6,
   "id": "44f19ea5-8f8d-41a9-a536-c9e48600d083",
   "metadata": {},
   "outputs": [
    {
     "name": "stdout",
     "output_type": "stream",
     "text": [
      "Excpetion raised while performing tensor inverse:\n",
      " Value for attr 'T' of int32 is not in the list of allowed values: double, float, half, complex64, complex128\n",
      "\t; NodeDef: {{node MatrixInverse}}; Op<name=MatrixInverse; signature=input:T -> output:T; attr=adjoint:bool,default=false; attr=T:type,allowed=[DT_DOUBLE, DT_FLOAT, DT_HALF, DT_COMPLEX64, DT_COMPLEX128]> [Op:MatrixInverse] name: \n"
     ]
    }
   ],
   "source": [
    "# Matrix inverse\n",
    "try:\n",
    "    x = tf.Variable([[2,3],[2,2]])\n",
    "    xinv = tf.linalg.inv(x)\n",
    "    print(\"Inverse of x:\",xinv)\n",
    "except Exception as e:\n",
    "    print(\"Excpetion raised while performing tensor inverse:\\n\",str(e))"
   ]
  },
  {
   "cell_type": "markdown",
   "id": "fcfccfea-9d9d-4c76-9b1e-813ed5f5c230",
   "metadata": {},
   "source": [
    "### Inverse is only allowed for float16 and float32"
   ]
  },
  {
   "cell_type": "code",
   "execution_count": 4,
   "id": "512ba40a-dd95-4cef-9343-d7004864e1a1",
   "metadata": {},
   "outputs": [
    {
     "name": "stdout",
     "output_type": "stream",
     "text": [
      "Inverse of x: tf.Tensor(\n",
      "[[-1.   1.5]\n",
      " [ 1.  -1. ]], shape=(2, 2), dtype=float32)\n"
     ]
    }
   ],
   "source": [
    "# Matrix inverse\n",
    "try:\n",
    "    x = tf.Variable([[2,3],[2,2]],dtype=tf.float32)\n",
    "    xinv = tf.linalg.inv(x)\n",
    "    print(\"Inverse of x:\",xinv)\n",
    "except Exception as e:\n",
    "    print(\"Excpetion raised while performing tensor inverse:\\n\",str(e))"
   ]
  },
  {
   "cell_type": "markdown",
   "id": "7c1319e9-4789-4a62-820b-a12fed223928",
   "metadata": {},
   "source": [
    "### Problem statement\n",
    "x + y + z + w = 13\r\n",
    "\r\n",
    "2x + 3y − w = −1\r\n",
    "\r\n",
    "−3x + 4y + z + 2w = 10\r\n",
    "\r\n",
    "x + 2y − z + w = 1"
   ]
  },
  {
   "cell_type": "code",
   "execution_count": 15,
   "id": "87270663-7e23-4845-a962-90266d61b745",
   "metadata": {},
   "outputs": [
    {
     "name": "stdout",
     "output_type": "stream",
     "text": [
      "coeff: <tf.Variable 'Variable:0' shape=(4, 4) dtype=float32, numpy=\n",
      "array([[ 1.,  1.,  1.,  1.],\n",
      "       [ 2.,  3.,  0., -1.],\n",
      "       [-3.,  4.,  1.,  2.],\n",
      "       [ 1.,  2., -1.,  1.]], dtype=float32)>\n"
     ]
    }
   ],
   "source": [
    "coeff = tf.Variable([[1,1,1,1],[2,3,0,-1],[-3,4,1,2],[1,2,-1,1]],dtype=tf.float32)\n",
    "print(\"coeff:\",coeff)"
   ]
  },
  {
   "cell_type": "code",
   "execution_count": 16,
   "id": "381bae38-3559-46cf-8774-089963bf4d0c",
   "metadata": {},
   "outputs": [],
   "source": [
    "y = tf.Variable([[13],[-1],[10],[1]],dtype=tf.float32)"
   ]
  },
  {
   "cell_type": "code",
   "execution_count": 17,
   "id": "ecd19653-e314-4f3d-83e3-7147c637c89f",
   "metadata": {},
   "outputs": [
    {
     "name": "stdout",
     "output_type": "stream",
     "text": [
      "inverse of coeff: tf.Tensor(\n",
      "[[ 2.77777791e-01  5.55555224e-02 -1.66666672e-01  1.11111104e-01]\n",
      " [-7.40740746e-02  1.85185164e-01  1.11111104e-01  3.70370336e-02]\n",
      " [ 4.62962925e-01  9.25926119e-02  5.55555634e-02 -4.81481493e-01]\n",
      " [ 3.33333343e-01 -3.33333343e-01 -9.93410776e-09  3.33333343e-01]], shape=(4, 4), dtype=float32)\n"
     ]
    }
   ],
   "source": [
    "inv_coeff = tf.linalg.inv(coeff)\n",
    "print(\"inverse of coeff:\",inv_coeff)"
   ]
  },
  {
   "cell_type": "code",
   "execution_count": 20,
   "id": "2cbe0675-c3df-454e-bf83-76875ab4e108",
   "metadata": {},
   "outputs": [
    {
     "data": {
      "text/plain": [
       "<tf.Tensor: shape=(4, 1), dtype=float32, numpy=\n",
       "array([[ 2.0000000e+00],\n",
       "       [-1.1920929e-07],\n",
       "       [ 5.9999995e+00],\n",
       "       [ 5.0000000e+00]], dtype=float32)>"
      ]
     },
     "execution_count": 20,
     "metadata": {},
     "output_type": "execute_result"
    }
   ],
   "source": [
    "x_solution = tf.matmul(inv_coeff,y)\n",
    "x_solution"
   ]
  },
  {
   "cell_type": "markdown",
   "id": "fbeb759d-2ce8-4b02-9fac-7f351f97b5f8",
   "metadata": {},
   "source": [
    "### KERAS"
   ]
  },
  {
   "cell_type": "code",
   "execution_count": 21,
   "id": "a47f6281-544b-4d18-b943-5f992068f817",
   "metadata": {},
   "outputs": [],
   "source": [
    "import keras"
   ]
  },
  {
   "cell_type": "code",
   "execution_count": 22,
   "id": "4b2e1a76-793a-4f90-b9e9-23fe65a6c3b8",
   "metadata": {},
   "outputs": [
    {
     "data": {
      "text/plain": [
       "'3.0.5'"
      ]
     },
     "execution_count": 22,
     "metadata": {},
     "output_type": "execute_result"
    }
   ],
   "source": [
    "keras.__version__"
   ]
  },
  {
   "cell_type": "code",
   "execution_count": 28,
   "id": "d6fd3b77-8a2b-414e-a755-4d68a9ac67e3",
   "metadata": {},
   "outputs": [],
   "source": [
    "import pandas as pd\n",
    "import numpy as np\n",
    "from sklearn.preprocessing import StandardScaler"
   ]
  },
  {
   "cell_type": "code",
   "execution_count": 25,
   "id": "ee4507e8-5161-40f7-aa86-c3548ac6752e",
   "metadata": {},
   "outputs": [
    {
     "data": {
      "text/html": [
       "<div>\n",
       "<style scoped>\n",
       "    .dataframe tbody tr th:only-of-type {\n",
       "        vertical-align: middle;\n",
       "    }\n",
       "\n",
       "    .dataframe tbody tr th {\n",
       "        vertical-align: top;\n",
       "    }\n",
       "\n",
       "    .dataframe thead th {\n",
       "        text-align: right;\n",
       "    }\n",
       "</style>\n",
       "<table border=\"1\" class=\"dataframe\">\n",
       "  <thead>\n",
       "    <tr style=\"text-align: right;\">\n",
       "      <th></th>\n",
       "      <th>bedrooms</th>\n",
       "      <th>sqft_living</th>\n",
       "      <th>price</th>\n",
       "    </tr>\n",
       "  </thead>\n",
       "  <tbody>\n",
       "    <tr>\n",
       "      <th>0</th>\n",
       "      <td>3</td>\n",
       "      <td>1340</td>\n",
       "      <td>313000</td>\n",
       "    </tr>\n",
       "    <tr>\n",
       "      <th>1</th>\n",
       "      <td>5</td>\n",
       "      <td>3650</td>\n",
       "      <td>2384000</td>\n",
       "    </tr>\n",
       "    <tr>\n",
       "      <th>2</th>\n",
       "      <td>3</td>\n",
       "      <td>1930</td>\n",
       "      <td>342000</td>\n",
       "    </tr>\n",
       "    <tr>\n",
       "      <th>3</th>\n",
       "      <td>3</td>\n",
       "      <td>2000</td>\n",
       "      <td>420000</td>\n",
       "    </tr>\n",
       "    <tr>\n",
       "      <th>4</th>\n",
       "      <td>4</td>\n",
       "      <td>1940</td>\n",
       "      <td>550000</td>\n",
       "    </tr>\n",
       "  </tbody>\n",
       "</table>\n",
       "</div>"
      ],
      "text/plain": [
       "   bedrooms  sqft_living    price\n",
       "0         3         1340   313000\n",
       "1         5         3650  2384000\n",
       "2         3         1930   342000\n",
       "3         3         2000   420000\n",
       "4         4         1940   550000"
      ]
     },
     "execution_count": 25,
     "metadata": {},
     "output_type": "execute_result"
    }
   ],
   "source": [
    "df = pd.read_csv(r'C:\\Users\\Prince\\Desktop\\Upgrad\\Backpropagation\\house_price_full+(2).csv')\n",
    "df.head()"
   ]
  },
  {
   "cell_type": "markdown",
   "id": "285157a3-0a08-41fb-8d22-b8cebaf49f75",
   "metadata": {},
   "source": [
    "-----------------------------------------------------------------------------------------------------"
   ]
  },
  {
   "cell_type": "code",
   "execution_count": 29,
   "id": "3222d0e2-bcdb-488e-9674-946a60c8f536",
   "metadata": {},
   "outputs": [],
   "source": [
    "X = df.copy()\n",
    "#Remove target\n",
    "Y = X.pop('price')\n",
    "\n",
    "scaler = StandardScaler()\n",
    "X = scaler.fit_transform(X)\n",
    "\n",
    "Y = np.log(Y)"
   ]
  },
  {
   "cell_type": "code",
   "execution_count": 33,
   "id": "981d5b4c-90dc-4b2d-8b62-bb40c179ea5f",
   "metadata": {},
   "outputs": [
    {
     "data": {
      "text/plain": [
       "Index(['bedrooms', 'sqft_living', 'price'], dtype='object')"
      ]
     },
     "execution_count": 33,
     "metadata": {},
     "output_type": "execute_result"
    }
   ],
   "source": [
    "df.columns"
   ]
  },
  {
   "cell_type": "code",
   "execution_count": 34,
   "id": "f9359f82-a6d1-4340-bc61-d545259f3b43",
   "metadata": {},
   "outputs": [
    {
     "data": {
      "text/html": [
       "<div>\n",
       "<style scoped>\n",
       "    .dataframe tbody tr th:only-of-type {\n",
       "        vertical-align: middle;\n",
       "    }\n",
       "\n",
       "    .dataframe tbody tr th {\n",
       "        vertical-align: top;\n",
       "    }\n",
       "\n",
       "    .dataframe thead th {\n",
       "        text-align: right;\n",
       "    }\n",
       "</style>\n",
       "<table border=\"1\" class=\"dataframe\">\n",
       "  <thead>\n",
       "    <tr style=\"text-align: right;\">\n",
       "      <th></th>\n",
       "      <th>bedrooms</th>\n",
       "      <th>sqft_living</th>\n",
       "    </tr>\n",
       "  </thead>\n",
       "  <tbody>\n",
       "    <tr>\n",
       "      <th>0</th>\n",
       "      <td>-0.433198</td>\n",
       "      <td>-0.753258</td>\n",
       "    </tr>\n",
       "    <tr>\n",
       "      <th>1</th>\n",
       "      <td>1.675735</td>\n",
       "      <td>1.457330</td>\n",
       "    </tr>\n",
       "    <tr>\n",
       "      <th>2</th>\n",
       "      <td>-0.433198</td>\n",
       "      <td>-0.188649</td>\n",
       "    </tr>\n",
       "    <tr>\n",
       "      <th>3</th>\n",
       "      <td>-0.433198</td>\n",
       "      <td>-0.121661</td>\n",
       "    </tr>\n",
       "    <tr>\n",
       "      <th>4</th>\n",
       "      <td>0.621269</td>\n",
       "      <td>-0.179079</td>\n",
       "    </tr>\n",
       "    <tr>\n",
       "      <th>...</th>\n",
       "      <td>...</td>\n",
       "      <td>...</td>\n",
       "    </tr>\n",
       "    <tr>\n",
       "      <th>494</th>\n",
       "      <td>0.621269</td>\n",
       "      <td>0.873582</td>\n",
       "    </tr>\n",
       "    <tr>\n",
       "      <th>495</th>\n",
       "      <td>1.675735</td>\n",
       "      <td>2.299459</td>\n",
       "    </tr>\n",
       "    <tr>\n",
       "      <th>496</th>\n",
       "      <td>-0.433198</td>\n",
       "      <td>-0.724549</td>\n",
       "    </tr>\n",
       "    <tr>\n",
       "      <th>497</th>\n",
       "      <td>-0.433198</td>\n",
       "      <td>-0.179079</td>\n",
       "    </tr>\n",
       "    <tr>\n",
       "      <th>498</th>\n",
       "      <td>-0.433198</td>\n",
       "      <td>-1.040347</td>\n",
       "    </tr>\n",
       "  </tbody>\n",
       "</table>\n",
       "<p>499 rows × 2 columns</p>\n",
       "</div>"
      ],
      "text/plain": [
       "     bedrooms  sqft_living\n",
       "0   -0.433198    -0.753258\n",
       "1    1.675735     1.457330\n",
       "2   -0.433198    -0.188649\n",
       "3   -0.433198    -0.121661\n",
       "4    0.621269    -0.179079\n",
       "..        ...          ...\n",
       "494  0.621269     0.873582\n",
       "495  1.675735     2.299459\n",
       "496 -0.433198    -0.724549\n",
       "497 -0.433198    -0.179079\n",
       "498 -0.433198    -1.040347\n",
       "\n",
       "[499 rows x 2 columns]"
      ]
     },
     "execution_count": 34,
     "metadata": {},
     "output_type": "execute_result"
    }
   ],
   "source": [
    "df_scaled = pd.DataFrame(X,columns = df.columns.drop('price'))\n",
    "df_scaled"
   ]
  },
  {
   "cell_type": "code",
   "execution_count": 35,
   "id": "21e359f2-a06c-49d5-8900-546ddbf56a8e",
   "metadata": {},
   "outputs": [
    {
     "data": {
      "text/plain": [
       "2"
      ]
     },
     "execution_count": 35,
     "metadata": {},
     "output_type": "execute_result"
    }
   ],
   "source": [
    "X.shape[-1]"
   ]
  },
  {
   "cell_type": "code",
   "execution_count": 39,
   "id": "d6289f2b-394a-47c1-82d6-935707317ae5",
   "metadata": {},
   "outputs": [],
   "source": [
    "from keras.layers import Dense\n",
    "from keras.models  import Sequential\n",
    "model = Sequential()\n",
    "model.add(Dense(2,activation='sigmoid',input_shape=(df_scaled.shape[-1],)))\n",
    "model.add(Dense(1,activation='linear'))"
   ]
  },
  {
   "cell_type": "code",
   "execution_count": 40,
   "id": "c1eba587-10b0-4a31-a7c3-8de6b7a56f25",
   "metadata": {},
   "outputs": [
    {
     "data": {
      "text/html": [
       "<pre style=\"white-space:pre;overflow-x:auto;line-height:normal;font-family:Menlo,'DejaVu Sans Mono',consolas,'Courier New',monospace\"><span style=\"font-weight: bold\">Model: \"sequential_1\"</span>\n",
       "</pre>\n"
      ],
      "text/plain": [
       "\u001b[1mModel: \"sequential_1\"\u001b[0m\n"
      ]
     },
     "metadata": {},
     "output_type": "display_data"
    },
    {
     "data": {
      "text/html": [
       "<pre style=\"white-space:pre;overflow-x:auto;line-height:normal;font-family:Menlo,'DejaVu Sans Mono',consolas,'Courier New',monospace\">┏━━━━━━━━━━━━━━━━━━━━━━━━━━━━━━━━━━━━━━┳━━━━━━━━━━━━━━━━━━━━━━━━━━━━━┳━━━━━━━━━━━━━━━━━┓\n",
       "┃<span style=\"font-weight: bold\"> Layer (type)                         </span>┃<span style=\"font-weight: bold\"> Output Shape                </span>┃<span style=\"font-weight: bold\">         Param # </span>┃\n",
       "┡━━━━━━━━━━━━━━━━━━━━━━━━━━━━━━━━━━━━━━╇━━━━━━━━━━━━━━━━━━━━━━━━━━━━━╇━━━━━━━━━━━━━━━━━┩\n",
       "│ dense_1 (<span style=\"color: #0087ff; text-decoration-color: #0087ff\">Dense</span>)                      │ (<span style=\"color: #00d7ff; text-decoration-color: #00d7ff\">None</span>, <span style=\"color: #00af00; text-decoration-color: #00af00\">2</span>)                   │               <span style=\"color: #00af00; text-decoration-color: #00af00\">6</span> │\n",
       "├──────────────────────────────────────┼─────────────────────────────┼─────────────────┤\n",
       "│ dense_2 (<span style=\"color: #0087ff; text-decoration-color: #0087ff\">Dense</span>)                      │ (<span style=\"color: #00d7ff; text-decoration-color: #00d7ff\">None</span>, <span style=\"color: #00af00; text-decoration-color: #00af00\">1</span>)                   │               <span style=\"color: #00af00; text-decoration-color: #00af00\">3</span> │\n",
       "└──────────────────────────────────────┴─────────────────────────────┴─────────────────┘\n",
       "</pre>\n"
      ],
      "text/plain": [
       "┏━━━━━━━━━━━━━━━━━━━━━━━━━━━━━━━━━━━━━━┳━━━━━━━━━━━━━━━━━━━━━━━━━━━━━┳━━━━━━━━━━━━━━━━━┓\n",
       "┃\u001b[1m \u001b[0m\u001b[1mLayer (type)                        \u001b[0m\u001b[1m \u001b[0m┃\u001b[1m \u001b[0m\u001b[1mOutput Shape               \u001b[0m\u001b[1m \u001b[0m┃\u001b[1m \u001b[0m\u001b[1m        Param #\u001b[0m\u001b[1m \u001b[0m┃\n",
       "┡━━━━━━━━━━━━━━━━━━━━━━━━━━━━━━━━━━━━━━╇━━━━━━━━━━━━━━━━━━━━━━━━━━━━━╇━━━━━━━━━━━━━━━━━┩\n",
       "│ dense_1 (\u001b[38;5;33mDense\u001b[0m)                      │ (\u001b[38;5;45mNone\u001b[0m, \u001b[38;5;34m2\u001b[0m)                   │               \u001b[38;5;34m6\u001b[0m │\n",
       "├──────────────────────────────────────┼─────────────────────────────┼─────────────────┤\n",
       "│ dense_2 (\u001b[38;5;33mDense\u001b[0m)                      │ (\u001b[38;5;45mNone\u001b[0m, \u001b[38;5;34m1\u001b[0m)                   │               \u001b[38;5;34m3\u001b[0m │\n",
       "└──────────────────────────────────────┴─────────────────────────────┴─────────────────┘\n"
      ]
     },
     "metadata": {},
     "output_type": "display_data"
    },
    {
     "data": {
      "text/html": [
       "<pre style=\"white-space:pre;overflow-x:auto;line-height:normal;font-family:Menlo,'DejaVu Sans Mono',consolas,'Courier New',monospace\"><span style=\"font-weight: bold\"> Total params: </span><span style=\"color: #00af00; text-decoration-color: #00af00\">9</span> (36.00 B)\n",
       "</pre>\n"
      ],
      "text/plain": [
       "\u001b[1m Total params: \u001b[0m\u001b[38;5;34m9\u001b[0m (36.00 B)\n"
      ]
     },
     "metadata": {},
     "output_type": "display_data"
    },
    {
     "data": {
      "text/html": [
       "<pre style=\"white-space:pre;overflow-x:auto;line-height:normal;font-family:Menlo,'DejaVu Sans Mono',consolas,'Courier New',monospace\"><span style=\"font-weight: bold\"> Trainable params: </span><span style=\"color: #00af00; text-decoration-color: #00af00\">9</span> (36.00 B)\n",
       "</pre>\n"
      ],
      "text/plain": [
       "\u001b[1m Trainable params: \u001b[0m\u001b[38;5;34m9\u001b[0m (36.00 B)\n"
      ]
     },
     "metadata": {},
     "output_type": "display_data"
    },
    {
     "data": {
      "text/html": [
       "<pre style=\"white-space:pre;overflow-x:auto;line-height:normal;font-family:Menlo,'DejaVu Sans Mono',consolas,'Courier New',monospace\"><span style=\"font-weight: bold\"> Non-trainable params: </span><span style=\"color: #00af00; text-decoration-color: #00af00\">0</span> (0.00 B)\n",
       "</pre>\n"
      ],
      "text/plain": [
       "\u001b[1m Non-trainable params: \u001b[0m\u001b[38;5;34m0\u001b[0m (0.00 B)\n"
      ]
     },
     "metadata": {},
     "output_type": "display_data"
    }
   ],
   "source": [
    "model.summary()"
   ]
  },
  {
   "cell_type": "code",
   "execution_count": 47,
   "id": "751b4c42-a03e-4a58-873f-8fec37236b82",
   "metadata": {},
   "outputs": [],
   "source": [
    "## Compiling the model\n",
    "model.compile(optimizer='SGD',loss='mean_squared_error')"
   ]
  },
  {
   "cell_type": "code",
   "execution_count": 48,
   "id": "6d3f527c-3acf-4fbc-83b7-54f83ee2a46b",
   "metadata": {},
   "outputs": [
    {
     "name": "stdout",
     "output_type": "stream",
     "text": [
      "Epoch 1/10\n",
      "\u001b[1m16/16\u001b[0m \u001b[32m━━━━━━━━━━━━━━━━━━━━\u001b[0m\u001b[37m\u001b[0m \u001b[1m0s\u001b[0m 2ms/step - loss: 119.4421  \n",
      "Epoch 2/10\n",
      "\u001b[1m16/16\u001b[0m \u001b[32m━━━━━━━━━━━━━━━━━━━━\u001b[0m\u001b[37m\u001b[0m \u001b[1m0s\u001b[0m 2ms/step - loss: 30.9349 \n",
      "Epoch 3/10\n",
      "\u001b[1m16/16\u001b[0m \u001b[32m━━━━━━━━━━━━━━━━━━━━\u001b[0m\u001b[37m\u001b[0m \u001b[1m0s\u001b[0m 2ms/step - loss: 6.5247 \n",
      "Epoch 4/10\n",
      "\u001b[1m16/16\u001b[0m \u001b[32m━━━━━━━━━━━━━━━━━━━━\u001b[0m\u001b[37m\u001b[0m \u001b[1m0s\u001b[0m 2ms/step - loss: 1.5053 \n",
      "Epoch 5/10\n",
      "\u001b[1m16/16\u001b[0m \u001b[32m━━━━━━━━━━━━━━━━━━━━\u001b[0m\u001b[37m\u001b[0m \u001b[1m0s\u001b[0m 2ms/step - loss: 0.6223  \n",
      "Epoch 6/10\n",
      "\u001b[1m16/16\u001b[0m \u001b[32m━━━━━━━━━━━━━━━━━━━━\u001b[0m\u001b[37m\u001b[0m \u001b[1m0s\u001b[0m 2ms/step - loss: 0.4019 \n",
      "Epoch 7/10\n",
      "\u001b[1m16/16\u001b[0m \u001b[32m━━━━━━━━━━━━━━━━━━━━\u001b[0m\u001b[37m\u001b[0m \u001b[1m0s\u001b[0m 2ms/step - loss: 0.3842 \n",
      "Epoch 8/10\n",
      "\u001b[1m16/16\u001b[0m \u001b[32m━━━━━━━━━━━━━━━━━━━━\u001b[0m\u001b[37m\u001b[0m \u001b[1m0s\u001b[0m 3ms/step - loss: 0.3991  \n",
      "Epoch 9/10\n",
      "\u001b[1m16/16\u001b[0m \u001b[32m━━━━━━━━━━━━━━━━━━━━\u001b[0m\u001b[37m\u001b[0m \u001b[1m0s\u001b[0m 2ms/step - loss: 0.3510 \n",
      "Epoch 10/10\n",
      "\u001b[1m16/16\u001b[0m \u001b[32m━━━━━━━━━━━━━━━━━━━━\u001b[0m\u001b[37m\u001b[0m \u001b[1m0s\u001b[0m 2ms/step - loss: 0.3006 \n"
     ]
    },
    {
     "data": {
      "text/plain": [
       "<keras.src.callbacks.history.History at 0x1263759e790>"
      ]
     },
     "execution_count": 48,
     "metadata": {},
     "output_type": "execute_result"
    }
   ],
   "source": [
    "model.fit(X,Y.values,epochs=10,batch_size=32)"
   ]
  },
  {
   "cell_type": "code",
   "execution_count": 49,
   "id": "45209a36-7319-494a-bd7c-35a9c6447ab9",
   "metadata": {},
   "outputs": [
    {
     "name": "stdout",
     "output_type": "stream",
     "text": [
      "\u001b[1m16/16\u001b[0m \u001b[32m━━━━━━━━━━━━━━━━━━━━\u001b[0m\u001b[37m\u001b[0m \u001b[1m0s\u001b[0m 4ms/step\n"
     ]
    },
    {
     "data": {
      "text/plain": [
       "array([13.056883 , 13.459263 , 13.000658 , 12.990841 , 13.312229 ,\n",
       "       12.719009 , 12.652233 , 13.263506 , 12.917029 , 13.306728 ,\n",
       "       13.027256 , 13.237108 , 12.936189 , 13.065809 , 13.505511 ,\n",
       "       13.062999 , 13.040733 , 13.208509 , 13.0552025, 13.063641 ,\n",
       "       12.952427 , 13.303625 , 13.022907 , 13.26123  , 13.309513 ,\n",
       "       12.977287 , 12.930563 , 13.304295 , 13.507027 , 12.881879 ,\n",
       "       13.308222 , 13.2452135, 13.312962 , 13.250368 , 13.108381 ,\n",
       "       12.724479 , 12.727497 , 13.011084 , 12.996529 , 12.924831 ,\n",
       "       13.03986  , 13.305031 , 12.722296 , 13.020651 , 12.674994 ,\n",
       "       13.064224 , 12.995127 , 13.000658 , 13.060295 , 13.173693 ,\n",
       "       13.263506 , 12.810127 , 12.857496 , 13.017164 , 13.494439 ,\n",
       "       13.312481 , 13.30476  , 13.45822  , 13.057929 , 12.600218 ,\n",
       "       13.173693 , 12.864269 , 13.26123  , 12.894646 , 13.237108 ,\n",
       "       12.716749 , 13.033365 , 13.066744 , 12.350695 , 12.959328 ,\n",
       "       13.281702 , 12.824731 , 13.300102 , 13.004667 , 13.057413 ,\n",
       "       12.665522 , 13.305655 , 13.26123  , 13.307663 , 12.904986 ,\n",
       "       13.3113785, 13.094881 , 12.387135 , 13.017164 , 13.296417 ,\n",
       "       12.494385 , 12.685494 , 13.047947 , 12.64179  , 12.676531 ,\n",
       "       13.495663 , 12.966034 , 13.639915 , 12.932449 , 13.04159  ,\n",
       "       13.507637 , 13.030373 , 13.499834 , 13.052765 , 13.414627 ,\n",
       "       13.196865 , 12.9893875, 13.057413 , 13.294401 , 13.467775 ,\n",
       "       13.23849  , 13.309349 , 12.926254 , 12.723364 , 13.290598 ,\n",
       "       13.30047  , 13.298318 , 13.066393 , 13.506334 , 13.310949 ,\n",
       "       13.375658 , 12.95417  , 12.726484 , 13.495144 , 13.0313835,\n",
       "       13.311758 , 13.0500965, 11.680282 , 13.007275 , 13.007275 ,\n",
       "       13.052765 , 13.305031 , 12.685494 , 13.0020075, 13.23849  ,\n",
       "       12.724479 , 13.042435 , 13.48465  , 12.467817 , 12.5713005,\n",
       "       13.298925 , 13.017164 , 13.310949 , 13.01834  , 13.289249 ,\n",
       "       12.999294 , 12.682556 , 13.156493 , 12.903027 , 13.040646 ,\n",
       "       13.036232 , 13.052893 , 12.777414 , 13.332571 , 12.608141 ,\n",
       "       13.288462 , 13.303131 , 12.691221 , 13.056337 , 13.306496 ,\n",
       "       13.047201 , 12.990841 , 12.700752 , 12.735086 , 13.482517 ,\n",
       "       13.03986  , 13.308025 , 13.294888 , 13.03529  , 13.162331 ,\n",
       "       13.312759 , 13.306728 , 12.716749 , 13.066393 , 13.060724 ,\n",
       "       13.658775 , 13.2995205, 13.251625 , 13.033365 , 13.034334 ,\n",
       "       13.011084 , 13.311171 , 13.052765 , 13.305904 , 12.911058 ,\n",
       "       13.066744 , 12.671885 , 13.296999 , 13.495977 , 13.288462 ,\n",
       "       13.210124 , 13.3096485, 13.011084 , 13.312967 , 13.083342 ,\n",
       "       13.052118 , 13.04567  , 12.970932 , 13.138368 , 13.03529  ,\n",
       "       13.01834  , 13.311171 , 13.301228 , 13.221089 , 13.058432 ,\n",
       "       13.049673 , 13.078653 , 13.501766 , 13.505511 , 12.795206 ,\n",
       "       12.594173 , 13.19343  , 13.266825 , 13.061928 , 13.260075 ,\n",
       "       13.160397 , 13.06543  , 13.464045 , 13.004667 , 12.713259 ,\n",
       "       13.029346 , 13.052118 , 13.328602 , 12.993711 , 12.681068 ,\n",
       "       12.959328 , 13.06473  , 13.047947 , 13.505924 , 12.862021 ,\n",
       "       13.121711 , 13.060295 , 13.332571 , 13.21956  , 13.06394  ,\n",
       "       13.485338 , 13.06683  , 13.290024 , 12.891243 , 13.06114  ,\n",
       "       13.043264 , 13.0380745, 13.06543  , 13.012327 , 12.898815 ,\n",
       "       12.864269 , 13.811703 , 13.291534 , 13.3121605, 12.980389 ,\n",
       "       13.021786 , 13.030373 , 12.615909 , 12.466854 , 13.312971 ,\n",
       "       13.053396 , 13.008556 , 13.664875 , 12.699429 , 12.85522  ,\n",
       "       13.066744 , 13.03986  , 13.275116 , 13.0020075, 12.932449 ,\n",
       "       12.194599 , 13.283468 , 12.724479 , 12.911058 , 12.70336  ,\n",
       "       12.725458 , 13.503225 , 13.020651 , 12.652233 , 12.996529 ,\n",
       "       13.174622 , 12.384549 , 13.396513 , 13.298318 , 13.310839 ,\n",
       "       13.270029 , 13.312759 , 12.961023 , 12.986439 , 12.947122 ,\n",
       "       13.037161 , 12.731405 , 12.598212 , 13.03529  , 13.659399 ,\n",
       "       12.797716 , 12.999294 , 13.052765 , 13.066504 , 12.725458 ,\n",
       "       12.715599 , 13.755409 , 13.305214 , 13.0380745, 13.046442 ,\n",
       "       13.056883 , 13.009827 , 12.894646 , 12.699429 , 13.054615 ,\n",
       "       13.034334 , 13.503115 , 13.306898 , 13.021786 , 13.032381 ,\n",
       "       13.0135565, 13.303816 , 13.305473 , 13.060724 , 13.373348 ,\n",
       "       13.044704 , 12.6840315, 13.269398 , 13.5029125, 13.037527 ,\n",
       "       12.725458 , 12.617825 , 12.977287 , 13.496666 , 13.312298 ,\n",
       "       13.0313835, 13.279884 , 13.501766 , 13.06114  , 13.310715 ,\n",
       "       13.268974 , 12.7071705, 12.996529 , 12.735086 , 12.650521 ,\n",
       "       12.549595 , 13.307287 , 13.312939 , 12.4727   , 13.029346 ,\n",
       "       12.999294 , 13.297697 , 13.3096485, 13.154525 , 13.30177  ,\n",
       "       13.054012 , 12.696745 , 13.047201 , 13.286022 , 13.50382  ,\n",
       "       12.952427 , 13.0020075, 13.005978 , 13.30177  , 12.665522 ,\n",
       "       12.709646 , 13.177387 , 13.311171 , 12.702063 , 13.312967 ,\n",
       "       12.993711 , 13.659139 , 12.671885 , 13.300102 , 12.917029 ,\n",
       "       12.807663 , 13.300102 , 13.04567  , 13.06683  , 13.063328 ,\n",
       "       13.058432 , 13.507244 , 13.022907 , 13.057929 , 13.287662 ,\n",
       "       13.061541 , 13.060724 , 13.633751 , 13.064344 , 13.043264 ,\n",
       "       12.615909 , 13.049395 , 13.054012 , 12.8731575, 13.038975 ,\n",
       "       13.312586 , 12.988655 , 13.052765 , 12.689808 , 12.721214 ,\n",
       "       12.93988  , 12.702063 , 12.7071705, 12.957403 , 13.034334 ,\n",
       "       13.066753 , 13.254103 , 13.312535 , 13.302624 , 13.011084 ,\n",
       "       12.709646 , 12.9070215, 13.081003 , 13.275116 , 13.054012 ,\n",
       "       13.301228 , 13.286848 , 12.726484 , 13.310839 , 12.787631 ,\n",
       "       12.735086 , 13.054012 , 13.050444 , 12.556193 , 12.975718 ,\n",
       "       13.066269 , 13.046442 , 13.311758 , 13.052765 , 13.087989 ,\n",
       "       13.30476  , 13.0020075, 13.064224 , 12.439216 , 13.311171 ,\n",
       "       13.305954 , 13.475275 , 13.247816 , 12.6840315, 13.210124 ,\n",
       "       13.052118 , 13.290024 , 13.312362 , 13.032381 , 13.053396 ,\n",
       "       13.268974 , 13.311171 , 13.307287 , 13.056226 , 13.022907 ,\n",
       "       13.4996195, 12.640011 , 13.312229 , 13.052765 , 13.055777 ,\n",
       "       13.062298 , 13.249098 , 13.073924 , 13.297064 , 12.634388 ,\n",
       "       13.304575 , 13.216463 , 13.066597 , 13.312362 , 13.019503 ,\n",
       "       12.990841 , 13.029346 , 13.168974 , 13.058918 , 13.292271 ,\n",
       "       12.6840315, 13.298318 , 13.26123  , 13.247816 , 12.702063 ,\n",
       "       13.056883 , 13.127905 , 12.487831 , 13.066803 , 13.501026 ,\n",
       "       12.970932 , 13.282591 , 13.312229 , 13.056337 , 13.306082 ,\n",
       "       13.0552025, 12.584957 , 13.249098 , 12.9893875, 13.175547 ,\n",
       "       12.671885 , 13.02619  , 12.248116 , 13.04159  , 12.890432 ,\n",
       "       12.818379 , 12.673447 , 13.459263 , 12.964376 , 13.280798 ,\n",
       "       12.715599 , 13.228556 , 13.307663 , 13.14451  , 13.504883 ,\n",
       "       12.959328 , 13.312298 , 12.807663 , 13.06683  , 13.21956  ,\n",
       "       13.324591 , 13.0552025, 12.999294 , 13.066504 ], dtype=float32)"
      ]
     },
     "execution_count": 49,
     "metadata": {},
     "output_type": "execute_result"
    }
   ],
   "source": [
    "model.predict(X)[:,0]"
   ]
  },
  {
   "cell_type": "code",
   "execution_count": 61,
   "id": "87cd3b1e-5974-497e-a0b0-9b52dd611bf0",
   "metadata": {},
   "outputs": [],
   "source": [
    "l = [1,2,3]"
   ]
  },
  {
   "cell_type": "code",
   "execution_count": 62,
   "id": "b6e24f19-b6e9-46f6-94e3-efebe119ee9a",
   "metadata": {},
   "outputs": [
    {
     "data": {
      "text/plain": [
       "1"
      ]
     },
     "execution_count": 62,
     "metadata": {},
     "output_type": "execute_result"
    }
   ],
   "source": [
    "l.index(2)"
   ]
  },
  {
   "cell_type": "code",
   "execution_count": 67,
   "id": "79cc1aae-d1f3-418a-b76d-8ccaa4c31bf2",
   "metadata": {},
   "outputs": [],
   "source": [
    "def twoSum(nums, target):\n",
    "    for idx,item in enumerate(nums):\n",
    "        new_nums = [i for i in nums if i!=item]\n",
    "        for j in new_nums:\n",
    "            sum  =item+j\n",
    "            if sum==target:\n",
    "                print([idx,nums.index(j)])"
   ]
  },
  {
   "cell_type": "code",
   "execution_count": 68,
   "id": "a373d86d-3204-46b0-baf9-9e06c94232bf",
   "metadata": {},
   "outputs": [],
   "source": [
    "twoSum([2,7],9)"
   ]
  },
  {
   "cell_type": "code",
   "execution_count": 71,
   "id": "41fa6565-ed79-4451-bebd-45cc73f99729",
   "metadata": {},
   "outputs": [],
   "source": [
    "nums =[2,7,9]"
   ]
  },
  {
   "cell_type": "code",
   "execution_count": 80,
   "id": "d0dbc48d-344f-4489-8dff-c9ea1c1d3a7b",
   "metadata": {},
   "outputs": [
    {
     "name": "stdout",
     "output_type": "stream",
     "text": [
      "[0, 1]\n"
     ]
    }
   ],
   "source": [
    "for idx, item in enumerate(nums):\n",
    "    new_nums = [i for i in nums if i!=item]\n",
    "    for j in new_nums:\n",
    "        sum = item+j\n",
    "        if sum==9:\n",
    "            index = [idx,nums.index(j)]\n",
    "            index.extend(index)\n",
    "print(list(set(index)))"
   ]
  },
  {
   "cell_type": "code",
   "execution_count": 77,
   "id": "802f7c16-179c-4ea4-b033-713376a044e1",
   "metadata": {},
   "outputs": [],
   "source": [
    "l = [1,2,3,4]\n",
    "l.append(5)"
   ]
  },
  {
   "cell_type": "code",
   "execution_count": 82,
   "id": "28bf3399-ba5b-4d3a-acd9-d9f2edc1ed1c",
   "metadata": {},
   "outputs": [
    {
     "data": {
      "text/plain": [
       "[1, 2, 3, 4, 5]"
      ]
     },
     "execution_count": 82,
     "metadata": {},
     "output_type": "execute_result"
    }
   ],
   "source": [
    "l"
   ]
  },
  {
   "cell_type": "code",
   "execution_count": 85,
   "id": "e7c01508-a4e1-43bc-9b12-fcc99fbe0e31",
   "metadata": {},
   "outputs": [
    {
     "data": {
      "text/plain": [
       "[1, 2, 3, 4, 5]"
      ]
     },
     "execution_count": 85,
     "metadata": {},
     "output_type": "execute_result"
    }
   ],
   "source": [
    "l"
   ]
  },
  {
   "cell_type": "code",
   "execution_count": 87,
   "id": "90924c3c-307e-4130-b7e6-d2df43156bf1",
   "metadata": {},
   "outputs": [
    {
     "name": "stdout",
     "output_type": "stream",
     "text": [
      "1 Remainder list: [2, 3, 4, 5]\n",
      "2 Remainder list: [1, 3, 4, 5]\n",
      "3 Remainder list: [1, 2, 4, 5]\n",
      "4 Remainder list: [1, 2, 3, 5]\n",
      "5 Remainder list: [1, 2, 3, 4]\n"
     ]
    }
   ],
   "source": [
    "for idx,item in enumerate(l):\n",
    "    new_nums = [k for i,k in enumerate(l) if i!=idx]\n",
    "    print(item, \"Remainder list:\",new_nums)"
   ]
  },
  {
   "cell_type": "code",
   "execution_count": null,
   "id": "6b5d059d-2c2d-495f-97b3-92c68ef6307f",
   "metadata": {},
   "outputs": [],
   "source": [
    "for "
   ]
  },
  {
   "cell_type": "code",
   "execution_count": 81,
   "id": "1abce472-b644-4fe9-87b3-ac7f4319bdad",
   "metadata": {},
   "outputs": [
    {
     "data": {
      "text/plain": [
       "[0, 1]"
      ]
     },
     "execution_count": 81,
     "metadata": {},
     "output_type": "execute_result"
    }
   ],
   "source": [
    "for idx, item in enumerate(nums):\n",
    "    new_nums = [i for i in nums if i!=item]\n",
    "    for j in new_nums:\n",
    "        sum = item+j\n",
    "        if sum==9:\n",
    "            index = [idx,nums.index(j)]\n",
    "            index.extend(index)\n",
    "list(set(index))"
   ]
  },
  {
   "cell_type": "markdown",
   "id": "9467bc22-3b19-453a-991f-b3256cf6f0eb",
   "metadata": {},
   "source": [
    "### MNIST Dataset"
   ]
  },
  {
   "cell_type": "code",
   "execution_count": 50,
   "id": "c53a9d6d-6827-4706-99cb-a288d722713a",
   "metadata": {},
   "outputs": [],
   "source": [
    "import numpy as np\n",
    "import pandas as pd\n",
    "import matplotlib.pyplot as plt\n",
    "import tensorflow as tf\n",
    "from tensorflow import keras\n",
    "from sklearn.model_selection import train_test_split\n",
    "%matplotlib inline"
   ]
  },
  {
   "cell_type": "code",
   "execution_count": 52,
   "id": "e3c92607-468b-4e99-8b7d-df9bed52ac08",
   "metadata": {},
   "outputs": [
    {
     "data": {
      "text/html": [
       "<div>\n",
       "<style scoped>\n",
       "    .dataframe tbody tr th:only-of-type {\n",
       "        vertical-align: middle;\n",
       "    }\n",
       "\n",
       "    .dataframe tbody tr th {\n",
       "        vertical-align: top;\n",
       "    }\n",
       "\n",
       "    .dataframe thead th {\n",
       "        text-align: right;\n",
       "    }\n",
       "</style>\n",
       "<table border=\"1\" class=\"dataframe\">\n",
       "  <thead>\n",
       "    <tr style=\"text-align: right;\">\n",
       "      <th></th>\n",
       "      <th>label</th>\n",
       "      <th>pixel0</th>\n",
       "      <th>pixel1</th>\n",
       "      <th>pixel2</th>\n",
       "      <th>pixel3</th>\n",
       "      <th>pixel4</th>\n",
       "      <th>pixel5</th>\n",
       "      <th>pixel6</th>\n",
       "      <th>pixel7</th>\n",
       "      <th>pixel8</th>\n",
       "      <th>...</th>\n",
       "      <th>pixel774</th>\n",
       "      <th>pixel775</th>\n",
       "      <th>pixel776</th>\n",
       "      <th>pixel777</th>\n",
       "      <th>pixel778</th>\n",
       "      <th>pixel779</th>\n",
       "      <th>pixel780</th>\n",
       "      <th>pixel781</th>\n",
       "      <th>pixel782</th>\n",
       "      <th>pixel783</th>\n",
       "    </tr>\n",
       "  </thead>\n",
       "  <tbody>\n",
       "    <tr>\n",
       "      <th>0</th>\n",
       "      <td>1</td>\n",
       "      <td>0</td>\n",
       "      <td>0</td>\n",
       "      <td>0</td>\n",
       "      <td>0</td>\n",
       "      <td>0</td>\n",
       "      <td>0</td>\n",
       "      <td>0</td>\n",
       "      <td>0</td>\n",
       "      <td>0</td>\n",
       "      <td>...</td>\n",
       "      <td>0</td>\n",
       "      <td>0</td>\n",
       "      <td>0</td>\n",
       "      <td>0</td>\n",
       "      <td>0</td>\n",
       "      <td>0</td>\n",
       "      <td>0</td>\n",
       "      <td>0</td>\n",
       "      <td>0</td>\n",
       "      <td>0</td>\n",
       "    </tr>\n",
       "    <tr>\n",
       "      <th>1</th>\n",
       "      <td>0</td>\n",
       "      <td>0</td>\n",
       "      <td>0</td>\n",
       "      <td>0</td>\n",
       "      <td>0</td>\n",
       "      <td>0</td>\n",
       "      <td>0</td>\n",
       "      <td>0</td>\n",
       "      <td>0</td>\n",
       "      <td>0</td>\n",
       "      <td>...</td>\n",
       "      <td>0</td>\n",
       "      <td>0</td>\n",
       "      <td>0</td>\n",
       "      <td>0</td>\n",
       "      <td>0</td>\n",
       "      <td>0</td>\n",
       "      <td>0</td>\n",
       "      <td>0</td>\n",
       "      <td>0</td>\n",
       "      <td>0</td>\n",
       "    </tr>\n",
       "    <tr>\n",
       "      <th>2</th>\n",
       "      <td>1</td>\n",
       "      <td>0</td>\n",
       "      <td>0</td>\n",
       "      <td>0</td>\n",
       "      <td>0</td>\n",
       "      <td>0</td>\n",
       "      <td>0</td>\n",
       "      <td>0</td>\n",
       "      <td>0</td>\n",
       "      <td>0</td>\n",
       "      <td>...</td>\n",
       "      <td>0</td>\n",
       "      <td>0</td>\n",
       "      <td>0</td>\n",
       "      <td>0</td>\n",
       "      <td>0</td>\n",
       "      <td>0</td>\n",
       "      <td>0</td>\n",
       "      <td>0</td>\n",
       "      <td>0</td>\n",
       "      <td>0</td>\n",
       "    </tr>\n",
       "    <tr>\n",
       "      <th>3</th>\n",
       "      <td>4</td>\n",
       "      <td>0</td>\n",
       "      <td>0</td>\n",
       "      <td>0</td>\n",
       "      <td>0</td>\n",
       "      <td>0</td>\n",
       "      <td>0</td>\n",
       "      <td>0</td>\n",
       "      <td>0</td>\n",
       "      <td>0</td>\n",
       "      <td>...</td>\n",
       "      <td>0</td>\n",
       "      <td>0</td>\n",
       "      <td>0</td>\n",
       "      <td>0</td>\n",
       "      <td>0</td>\n",
       "      <td>0</td>\n",
       "      <td>0</td>\n",
       "      <td>0</td>\n",
       "      <td>0</td>\n",
       "      <td>0</td>\n",
       "    </tr>\n",
       "    <tr>\n",
       "      <th>4</th>\n",
       "      <td>0</td>\n",
       "      <td>0</td>\n",
       "      <td>0</td>\n",
       "      <td>0</td>\n",
       "      <td>0</td>\n",
       "      <td>0</td>\n",
       "      <td>0</td>\n",
       "      <td>0</td>\n",
       "      <td>0</td>\n",
       "      <td>0</td>\n",
       "      <td>...</td>\n",
       "      <td>0</td>\n",
       "      <td>0</td>\n",
       "      <td>0</td>\n",
       "      <td>0</td>\n",
       "      <td>0</td>\n",
       "      <td>0</td>\n",
       "      <td>0</td>\n",
       "      <td>0</td>\n",
       "      <td>0</td>\n",
       "      <td>0</td>\n",
       "    </tr>\n",
       "  </tbody>\n",
       "</table>\n",
       "<p>5 rows × 785 columns</p>\n",
       "</div>"
      ],
      "text/plain": [
       "   label  pixel0  pixel1  pixel2  pixel3  pixel4  pixel5  pixel6  pixel7  \\\n",
       "0      1       0       0       0       0       0       0       0       0   \n",
       "1      0       0       0       0       0       0       0       0       0   \n",
       "2      1       0       0       0       0       0       0       0       0   \n",
       "3      4       0       0       0       0       0       0       0       0   \n",
       "4      0       0       0       0       0       0       0       0       0   \n",
       "\n",
       "   pixel8  ...  pixel774  pixel775  pixel776  pixel777  pixel778  pixel779  \\\n",
       "0       0  ...         0         0         0         0         0         0   \n",
       "1       0  ...         0         0         0         0         0         0   \n",
       "2       0  ...         0         0         0         0         0         0   \n",
       "3       0  ...         0         0         0         0         0         0   \n",
       "4       0  ...         0         0         0         0         0         0   \n",
       "\n",
       "   pixel780  pixel781  pixel782  pixel783  \n",
       "0         0         0         0         0  \n",
       "1         0         0         0         0  \n",
       "2         0         0         0         0  \n",
       "3         0         0         0         0  \n",
       "4         0         0         0         0  \n",
       "\n",
       "[5 rows x 785 columns]"
      ]
     },
     "execution_count": 52,
     "metadata": {},
     "output_type": "execute_result"
    }
   ],
   "source": [
    "data=pd.read_csv(r'C:\\Users\\Prince\\Desktop\\Upgrad\\Backpropagation\\MNIST\\train.csv')\n",
    "data.head()"
   ]
  },
  {
   "cell_type": "code",
   "execution_count": 53,
   "id": "00bbe7cc-c3bd-4c18-b353-39fa16f0a5d9",
   "metadata": {},
   "outputs": [
    {
     "data": {
      "text/html": [
       "<div>\n",
       "<style scoped>\n",
       "    .dataframe tbody tr th:only-of-type {\n",
       "        vertical-align: middle;\n",
       "    }\n",
       "\n",
       "    .dataframe tbody tr th {\n",
       "        vertical-align: top;\n",
       "    }\n",
       "\n",
       "    .dataframe thead th {\n",
       "        text-align: right;\n",
       "    }\n",
       "</style>\n",
       "<table border=\"1\" class=\"dataframe\">\n",
       "  <thead>\n",
       "    <tr style=\"text-align: right;\">\n",
       "      <th></th>\n",
       "      <th>pixel0</th>\n",
       "      <th>pixel1</th>\n",
       "      <th>pixel2</th>\n",
       "      <th>pixel3</th>\n",
       "      <th>pixel4</th>\n",
       "      <th>pixel5</th>\n",
       "      <th>pixel6</th>\n",
       "      <th>pixel7</th>\n",
       "      <th>pixel8</th>\n",
       "      <th>pixel9</th>\n",
       "      <th>...</th>\n",
       "      <th>pixel774</th>\n",
       "      <th>pixel775</th>\n",
       "      <th>pixel776</th>\n",
       "      <th>pixel777</th>\n",
       "      <th>pixel778</th>\n",
       "      <th>pixel779</th>\n",
       "      <th>pixel780</th>\n",
       "      <th>pixel781</th>\n",
       "      <th>pixel782</th>\n",
       "      <th>pixel783</th>\n",
       "    </tr>\n",
       "  </thead>\n",
       "  <tbody>\n",
       "    <tr>\n",
       "      <th>0</th>\n",
       "      <td>0</td>\n",
       "      <td>0</td>\n",
       "      <td>0</td>\n",
       "      <td>0</td>\n",
       "      <td>0</td>\n",
       "      <td>0</td>\n",
       "      <td>0</td>\n",
       "      <td>0</td>\n",
       "      <td>0</td>\n",
       "      <td>0</td>\n",
       "      <td>...</td>\n",
       "      <td>0</td>\n",
       "      <td>0</td>\n",
       "      <td>0</td>\n",
       "      <td>0</td>\n",
       "      <td>0</td>\n",
       "      <td>0</td>\n",
       "      <td>0</td>\n",
       "      <td>0</td>\n",
       "      <td>0</td>\n",
       "      <td>0</td>\n",
       "    </tr>\n",
       "    <tr>\n",
       "      <th>1</th>\n",
       "      <td>0</td>\n",
       "      <td>0</td>\n",
       "      <td>0</td>\n",
       "      <td>0</td>\n",
       "      <td>0</td>\n",
       "      <td>0</td>\n",
       "      <td>0</td>\n",
       "      <td>0</td>\n",
       "      <td>0</td>\n",
       "      <td>0</td>\n",
       "      <td>...</td>\n",
       "      <td>0</td>\n",
       "      <td>0</td>\n",
       "      <td>0</td>\n",
       "      <td>0</td>\n",
       "      <td>0</td>\n",
       "      <td>0</td>\n",
       "      <td>0</td>\n",
       "      <td>0</td>\n",
       "      <td>0</td>\n",
       "      <td>0</td>\n",
       "    </tr>\n",
       "    <tr>\n",
       "      <th>2</th>\n",
       "      <td>0</td>\n",
       "      <td>0</td>\n",
       "      <td>0</td>\n",
       "      <td>0</td>\n",
       "      <td>0</td>\n",
       "      <td>0</td>\n",
       "      <td>0</td>\n",
       "      <td>0</td>\n",
       "      <td>0</td>\n",
       "      <td>0</td>\n",
       "      <td>...</td>\n",
       "      <td>0</td>\n",
       "      <td>0</td>\n",
       "      <td>0</td>\n",
       "      <td>0</td>\n",
       "      <td>0</td>\n",
       "      <td>0</td>\n",
       "      <td>0</td>\n",
       "      <td>0</td>\n",
       "      <td>0</td>\n",
       "      <td>0</td>\n",
       "    </tr>\n",
       "    <tr>\n",
       "      <th>3</th>\n",
       "      <td>0</td>\n",
       "      <td>0</td>\n",
       "      <td>0</td>\n",
       "      <td>0</td>\n",
       "      <td>0</td>\n",
       "      <td>0</td>\n",
       "      <td>0</td>\n",
       "      <td>0</td>\n",
       "      <td>0</td>\n",
       "      <td>0</td>\n",
       "      <td>...</td>\n",
       "      <td>0</td>\n",
       "      <td>0</td>\n",
       "      <td>0</td>\n",
       "      <td>0</td>\n",
       "      <td>0</td>\n",
       "      <td>0</td>\n",
       "      <td>0</td>\n",
       "      <td>0</td>\n",
       "      <td>0</td>\n",
       "      <td>0</td>\n",
       "    </tr>\n",
       "    <tr>\n",
       "      <th>4</th>\n",
       "      <td>0</td>\n",
       "      <td>0</td>\n",
       "      <td>0</td>\n",
       "      <td>0</td>\n",
       "      <td>0</td>\n",
       "      <td>0</td>\n",
       "      <td>0</td>\n",
       "      <td>0</td>\n",
       "      <td>0</td>\n",
       "      <td>0</td>\n",
       "      <td>...</td>\n",
       "      <td>0</td>\n",
       "      <td>0</td>\n",
       "      <td>0</td>\n",
       "      <td>0</td>\n",
       "      <td>0</td>\n",
       "      <td>0</td>\n",
       "      <td>0</td>\n",
       "      <td>0</td>\n",
       "      <td>0</td>\n",
       "      <td>0</td>\n",
       "    </tr>\n",
       "  </tbody>\n",
       "</table>\n",
       "<p>5 rows × 784 columns</p>\n",
       "</div>"
      ],
      "text/plain": [
       "   pixel0  pixel1  pixel2  pixel3  pixel4  pixel5  pixel6  pixel7  pixel8  \\\n",
       "0       0       0       0       0       0       0       0       0       0   \n",
       "1       0       0       0       0       0       0       0       0       0   \n",
       "2       0       0       0       0       0       0       0       0       0   \n",
       "3       0       0       0       0       0       0       0       0       0   \n",
       "4       0       0       0       0       0       0       0       0       0   \n",
       "\n",
       "   pixel9  ...  pixel774  pixel775  pixel776  pixel777  pixel778  pixel779  \\\n",
       "0       0  ...         0         0         0         0         0         0   \n",
       "1       0  ...         0         0         0         0         0         0   \n",
       "2       0  ...         0         0         0         0         0         0   \n",
       "3       0  ...         0         0         0         0         0         0   \n",
       "4       0  ...         0         0         0         0         0         0   \n",
       "\n",
       "   pixel780  pixel781  pixel782  pixel783  \n",
       "0         0         0         0         0  \n",
       "1         0         0         0         0  \n",
       "2         0         0         0         0  \n",
       "3         0         0         0         0  \n",
       "4         0         0         0         0  \n",
       "\n",
       "[5 rows x 784 columns]"
      ]
     },
     "execution_count": 53,
     "metadata": {},
     "output_type": "execute_result"
    }
   ],
   "source": [
    "X_test = pd.read_csv(r'C:\\Users\\Prince\\Desktop\\Upgrad\\Backpropagation\\MNIST\\test.csv')\n",
    "X_test.head()"
   ]
  },
  {
   "cell_type": "code",
   "execution_count": 55,
   "id": "49f94791-53c1-42b7-8086-a9ceb8a32404",
   "metadata": {},
   "outputs": [],
   "source": [
    "data_y = data['label'].values\n",
    "data_x = data.drop('label',axis=1)"
   ]
  },
  {
   "cell_type": "code",
   "execution_count": 56,
   "id": "f05ba26f-42ba-4743-85ba-db07d4f34450",
   "metadata": {},
   "outputs": [
    {
     "data": {
      "text/html": [
       "<div>\n",
       "<style scoped>\n",
       "    .dataframe tbody tr th:only-of-type {\n",
       "        vertical-align: middle;\n",
       "    }\n",
       "\n",
       "    .dataframe tbody tr th {\n",
       "        vertical-align: top;\n",
       "    }\n",
       "\n",
       "    .dataframe thead th {\n",
       "        text-align: right;\n",
       "    }\n",
       "</style>\n",
       "<table border=\"1\" class=\"dataframe\">\n",
       "  <thead>\n",
       "    <tr style=\"text-align: right;\">\n",
       "      <th></th>\n",
       "      <th>pixel0</th>\n",
       "      <th>pixel1</th>\n",
       "      <th>pixel2</th>\n",
       "      <th>pixel3</th>\n",
       "      <th>pixel4</th>\n",
       "      <th>pixel5</th>\n",
       "      <th>pixel6</th>\n",
       "      <th>pixel7</th>\n",
       "      <th>pixel8</th>\n",
       "      <th>pixel9</th>\n",
       "      <th>...</th>\n",
       "      <th>pixel774</th>\n",
       "      <th>pixel775</th>\n",
       "      <th>pixel776</th>\n",
       "      <th>pixel777</th>\n",
       "      <th>pixel778</th>\n",
       "      <th>pixel779</th>\n",
       "      <th>pixel780</th>\n",
       "      <th>pixel781</th>\n",
       "      <th>pixel782</th>\n",
       "      <th>pixel783</th>\n",
       "    </tr>\n",
       "  </thead>\n",
       "  <tbody>\n",
       "    <tr>\n",
       "      <th>0</th>\n",
       "      <td>0</td>\n",
       "      <td>0</td>\n",
       "      <td>0</td>\n",
       "      <td>0</td>\n",
       "      <td>0</td>\n",
       "      <td>0</td>\n",
       "      <td>0</td>\n",
       "      <td>0</td>\n",
       "      <td>0</td>\n",
       "      <td>0</td>\n",
       "      <td>...</td>\n",
       "      <td>0</td>\n",
       "      <td>0</td>\n",
       "      <td>0</td>\n",
       "      <td>0</td>\n",
       "      <td>0</td>\n",
       "      <td>0</td>\n",
       "      <td>0</td>\n",
       "      <td>0</td>\n",
       "      <td>0</td>\n",
       "      <td>0</td>\n",
       "    </tr>\n",
       "    <tr>\n",
       "      <th>1</th>\n",
       "      <td>0</td>\n",
       "      <td>0</td>\n",
       "      <td>0</td>\n",
       "      <td>0</td>\n",
       "      <td>0</td>\n",
       "      <td>0</td>\n",
       "      <td>0</td>\n",
       "      <td>0</td>\n",
       "      <td>0</td>\n",
       "      <td>0</td>\n",
       "      <td>...</td>\n",
       "      <td>0</td>\n",
       "      <td>0</td>\n",
       "      <td>0</td>\n",
       "      <td>0</td>\n",
       "      <td>0</td>\n",
       "      <td>0</td>\n",
       "      <td>0</td>\n",
       "      <td>0</td>\n",
       "      <td>0</td>\n",
       "      <td>0</td>\n",
       "    </tr>\n",
       "  </tbody>\n",
       "</table>\n",
       "<p>2 rows × 784 columns</p>\n",
       "</div>"
      ],
      "text/plain": [
       "   pixel0  pixel1  pixel2  pixel3  pixel4  pixel5  pixel6  pixel7  pixel8  \\\n",
       "0       0       0       0       0       0       0       0       0       0   \n",
       "1       0       0       0       0       0       0       0       0       0   \n",
       "\n",
       "   pixel9  ...  pixel774  pixel775  pixel776  pixel777  pixel778  pixel779  \\\n",
       "0       0  ...         0         0         0         0         0         0   \n",
       "1       0  ...         0         0         0         0         0         0   \n",
       "\n",
       "   pixel780  pixel781  pixel782  pixel783  \n",
       "0         0         0         0         0  \n",
       "1         0         0         0         0  \n",
       "\n",
       "[2 rows x 784 columns]"
      ]
     },
     "execution_count": 56,
     "metadata": {},
     "output_type": "execute_result"
    }
   ],
   "source": [
    "data_x.head(2)"
   ]
  },
  {
   "cell_type": "code",
   "execution_count": 64,
   "id": "63bd72ed-4ccf-4122-8e74-3ca2f9a61a1a",
   "metadata": {},
   "outputs": [
    {
     "data": {
      "text/plain": [
       "<matplotlib.image.AxesImage at 0x12639951290>"
      ]
     },
     "execution_count": 64,
     "metadata": {},
     "output_type": "execute_result"
    },
    {
     "data": {
      "image/png": "[encoded data removed]",
      "text/plain": [
       "<Figure size 640x480 with 1 Axes>"
      ]
     },
     "metadata": {},
     "output_type": "display_data"
    }
   ],
   "source": [
    "img = data_x.iloc[3].values.reshape((28,28))\n",
    "plt.imshow(img,cmap='gray')"
   ]
  },
  {
   "cell_type": "markdown",
   "id": "d7c89d92-1b27-49f4-9094-dd38541961d9",
   "metadata": {},
   "source": [
    "### MODEL ARCHITECTURE"
   ]
  },
  {
   "cell_type": "code",
   "execution_count": 66,
   "id": "8a41b3ee-d6aa-4b38-8346-847f0d94425a",
   "metadata": {},
   "outputs": [
    {
     "name": "stderr",
     "output_type": "stream",
     "text": [
      "C:\\Users\\Prince\\AppData\\Roaming\\Python\\Python311\\site-packages\\keras\\src\\layers\\core\\dense.py:85: UserWarning: Do not pass an `input_shape`/`input_dim` argument to a layer. When using Sequential models, prefer using an `Input(shape)` object as the first layer in the model instead.\n",
      "  super().__init__(activity_regularizer=activity_regularizer, **kwargs)\n"
     ]
    }
   ],
   "source": [
    "model = Sequential()\n",
    "model.add(Dense(128,activation='relu',input_shape=(784,)))\n",
    "model.add(Dense(128,activation='relu'))\n",
    "model.add(Dense(128,activation='relu'))\n",
    "model.add(Dense(10,activation='sigmoid'))"
   ]
  },
  {
   "cell_type": "code",
   "execution_count": 67,
   "id": "e1931ed6-8510-4c30-89f9-76f9fc27dc50",
   "metadata": {},
   "outputs": [
    {
     "data": {
      "text/html": [
       "<pre style=\"white-space:pre;overflow-x:auto;line-height:normal;font-family:Menlo,'DejaVu Sans Mono',consolas,'Courier New',monospace\"><span style=\"font-weight: bold\">Model: \"sequential_2\"</span>\n",
       "</pre>\n"
      ],
      "text/plain": [
       "\u001b[1mModel: \"sequential_2\"\u001b[0m\n"
      ]
     },
     "metadata": {},
     "output_type": "display_data"
    },
    {
     "data": {
      "text/html": [
       "<pre style=\"white-space:pre;overflow-x:auto;line-height:normal;font-family:Menlo,'DejaVu Sans Mono',consolas,'Courier New',monospace\">┏━━━━━━━━━━━━━━━━━━━━━━━━━━━━━━━━━━━━━━┳━━━━━━━━━━━━━━━━━━━━━━━━━━━━━┳━━━━━━━━━━━━━━━━━┓\n",
       "┃<span style=\"font-weight: bold\"> Layer (type)                         </span>┃<span style=\"font-weight: bold\"> Output Shape                </span>┃<span style=\"font-weight: bold\">         Param # </span>┃\n",
       "┡━━━━━━━━━━━━━━━━━━━━━━━━━━━━━━━━━━━━━━╇━━━━━━━━━━━━━━━━━━━━━━━━━━━━━╇━━━━━━━━━━━━━━━━━┩\n",
       "│ dense_3 (<span style=\"color: #0087ff; text-decoration-color: #0087ff\">Dense</span>)                      │ (<span style=\"color: #00d7ff; text-decoration-color: #00d7ff\">None</span>, <span style=\"color: #00af00; text-decoration-color: #00af00\">128</span>)                 │         <span style=\"color: #00af00; text-decoration-color: #00af00\">100,480</span> │\n",
       "├──────────────────────────────────────┼─────────────────────────────┼─────────────────┤\n",
       "│ dense_4 (<span style=\"color: #0087ff; text-decoration-color: #0087ff\">Dense</span>)                      │ (<span style=\"color: #00d7ff; text-decoration-color: #00d7ff\">None</span>, <span style=\"color: #00af00; text-decoration-color: #00af00\">128</span>)                 │          <span style=\"color: #00af00; text-decoration-color: #00af00\">16,512</span> │\n",
       "├──────────────────────────────────────┼─────────────────────────────┼─────────────────┤\n",
       "│ dense_5 (<span style=\"color: #0087ff; text-decoration-color: #0087ff\">Dense</span>)                      │ (<span style=\"color: #00d7ff; text-decoration-color: #00d7ff\">None</span>, <span style=\"color: #00af00; text-decoration-color: #00af00\">128</span>)                 │          <span style=\"color: #00af00; text-decoration-color: #00af00\">16,512</span> │\n",
       "├──────────────────────────────────────┼─────────────────────────────┼─────────────────┤\n",
       "│ dense_6 (<span style=\"color: #0087ff; text-decoration-color: #0087ff\">Dense</span>)                      │ (<span style=\"color: #00d7ff; text-decoration-color: #00d7ff\">None</span>, <span style=\"color: #00af00; text-decoration-color: #00af00\">10</span>)                  │           <span style=\"color: #00af00; text-decoration-color: #00af00\">1,290</span> │\n",
       "└──────────────────────────────────────┴─────────────────────────────┴─────────────────┘\n",
       "</pre>\n"
      ],
      "text/plain": [
       "┏━━━━━━━━━━━━━━━━━━━━━━━━━━━━━━━━━━━━━━┳━━━━━━━━━━━━━━━━━━━━━━━━━━━━━┳━━━━━━━━━━━━━━━━━┓\n",
       "┃\u001b[1m \u001b[0m\u001b[1mLayer (type)                        \u001b[0m\u001b[1m \u001b[0m┃\u001b[1m \u001b[0m\u001b[1mOutput Shape               \u001b[0m\u001b[1m \u001b[0m┃\u001b[1m \u001b[0m\u001b[1m        Param #\u001b[0m\u001b[1m \u001b[0m┃\n",
       "┡━━━━━━━━━━━━━━━━━━━━━━━━━━━━━━━━━━━━━━╇━━━━━━━━━━━━━━━━━━━━━━━━━━━━━╇━━━━━━━━━━━━━━━━━┩\n",
       "│ dense_3 (\u001b[38;5;33mDense\u001b[0m)                      │ (\u001b[38;5;45mNone\u001b[0m, \u001b[38;5;34m128\u001b[0m)                 │         \u001b[38;5;34m100,480\u001b[0m │\n",
       "├──────────────────────────────────────┼─────────────────────────────┼─────────────────┤\n",
       "│ dense_4 (\u001b[38;5;33mDense\u001b[0m)                      │ (\u001b[38;5;45mNone\u001b[0m, \u001b[38;5;34m128\u001b[0m)                 │          \u001b[38;5;34m16,512\u001b[0m │\n",
       "├──────────────────────────────────────┼─────────────────────────────┼─────────────────┤\n",
       "│ dense_5 (\u001b[38;5;33mDense\u001b[0m)                      │ (\u001b[38;5;45mNone\u001b[0m, \u001b[38;5;34m128\u001b[0m)                 │          \u001b[38;5;34m16,512\u001b[0m │\n",
       "├──────────────────────────────────────┼─────────────────────────────┼─────────────────┤\n",
       "│ dense_6 (\u001b[38;5;33mDense\u001b[0m)                      │ (\u001b[38;5;45mNone\u001b[0m, \u001b[38;5;34m10\u001b[0m)                  │           \u001b[38;5;34m1,290\u001b[0m │\n",
       "└──────────────────────────────────────┴─────────────────────────────┴─────────────────┘\n"
      ]
     },
     "metadata": {},
     "output_type": "display_data"
    },
    {
     "data": {
      "text/html": [
       "<pre style=\"white-space:pre;overflow-x:auto;line-height:normal;font-family:Menlo,'DejaVu Sans Mono',consolas,'Courier New',monospace\"><span style=\"font-weight: bold\"> Total params: </span><span style=\"color: #00af00; text-decoration-color: #00af00\">134,794</span> (526.54 KB)\n",
       "</pre>\n"
      ],
      "text/plain": [
       "\u001b[1m Total params: \u001b[0m\u001b[38;5;34m134,794\u001b[0m (526.54 KB)\n"
      ]
     },
     "metadata": {},
     "output_type": "display_data"
    },
    {
     "data": {
      "text/html": [
       "<pre style=\"white-space:pre;overflow-x:auto;line-height:normal;font-family:Menlo,'DejaVu Sans Mono',consolas,'Courier New',monospace\"><span style=\"font-weight: bold\"> Trainable params: </span><span style=\"color: #00af00; text-decoration-color: #00af00\">134,794</span> (526.54 KB)\n",
       "</pre>\n"
      ],
      "text/plain": [
       "\u001b[1m Trainable params: \u001b[0m\u001b[38;5;34m134,794\u001b[0m (526.54 KB)\n"
      ]
     },
     "metadata": {},
     "output_type": "display_data"
    },
    {
     "data": {
      "text/html": [
       "<pre style=\"white-space:pre;overflow-x:auto;line-height:normal;font-family:Menlo,'DejaVu Sans Mono',consolas,'Courier New',monospace\"><span style=\"font-weight: bold\"> Non-trainable params: </span><span style=\"color: #00af00; text-decoration-color: #00af00\">0</span> (0.00 B)\n",
       "</pre>\n"
      ],
      "text/plain": [
       "\u001b[1m Non-trainable params: \u001b[0m\u001b[38;5;34m0\u001b[0m (0.00 B)\n"
      ]
     },
     "metadata": {},
     "output_type": "display_data"
    }
   ],
   "source": [
    "model.summary()"
   ]
  },
  {
   "cell_type": "code",
   "execution_count": 76,
   "id": "0b2a991c-15b0-4b18-aed9-d66f59ef8f97",
   "metadata": {},
   "outputs": [],
   "source": [
    "model.compile(optimizer= 'Adam' ,loss='sparse_categorical_crossentropy',metrics=['accuracy'])"
   ]
  },
  {
   "cell_type": "markdown",
   "id": "1986e737-a39f-4f2f-b3d4-968c257faddb",
   "metadata": {},
   "source": [
    "### MODEL TRAINING"
   ]
  },
  {
   "cell_type": "code",
   "execution_count": 77,
   "id": "a3df53cc-5253-4704-93a3-cd1a98dbcaee",
   "metadata": {},
   "outputs": [],
   "source": [
    "X_train,X_val,y_train,y_val = train_test_split(data_x,data_y,test_size=0.1,random_state=42)"
   ]
  },
  {
   "cell_type": "code",
   "execution_count": 78,
   "id": "b83617b5-8763-42a3-bc68-0324e3586ce2",
   "metadata": {},
   "outputs": [
    {
     "name": "stdout",
     "output_type": "stream",
     "text": [
      "Epoch 1/5\n",
      "\u001b[1m591/591\u001b[0m \u001b[32m━━━━━━━━━━━━━━━━━━━━\u001b[0m\u001b[37m\u001b[0m \u001b[1m5s\u001b[0m 4ms/step - accuracy: 0.7387 - loss: 4.7851 - val_accuracy: 0.9024 - val_loss: 0.4121\n",
      "Epoch 2/5\n",
      "\u001b[1m591/591\u001b[0m \u001b[32m━━━━━━━━━━━━━━━━━━━━\u001b[0m\u001b[37m\u001b[0m \u001b[1m2s\u001b[0m 4ms/step - accuracy: 0.9249 - loss: 0.2938 - val_accuracy: 0.9136 - val_loss: 0.3276\n",
      "Epoch 3/5\n",
      "\u001b[1m591/591\u001b[0m \u001b[32m━━━━━━━━━━━━━━━━━━━━\u001b[0m\u001b[37m\u001b[0m \u001b[1m3s\u001b[0m 4ms/step - accuracy: 0.9447 - loss: 0.2007 - val_accuracy: 0.9269 - val_loss: 0.2764\n",
      "Epoch 4/5\n",
      "\u001b[1m591/591\u001b[0m \u001b[32m━━━━━━━━━━━━━━━━━━━━\u001b[0m\u001b[37m\u001b[0m \u001b[1m2s\u001b[0m 4ms/step - accuracy: 0.9594 - loss: 0.1373 - val_accuracy: 0.9414 - val_loss: 0.2528\n",
      "Epoch 5/5\n",
      "\u001b[1m591/591\u001b[0m \u001b[32m━━━━━━━━━━━━━━━━━━━━\u001b[0m\u001b[37m\u001b[0m \u001b[1m3s\u001b[0m 4ms/step - accuracy: 0.9625 - loss: 0.1331 - val_accuracy: 0.9390 - val_loss: 0.2517\n"
     ]
    },
    {
     "data": {
      "text/plain": [
       "<keras.src.callbacks.history.History at 0x1263a87db50>"
      ]
     },
     "execution_count": 78,
     "metadata": {},
     "output_type": "execute_result"
    }
   ],
   "source": [
    "model.fit(X_train,y_train,batch_size=64,epochs=5,validation_data=(X_val,y_val))"
   ]
  },
  {
   "cell_type": "markdown",
   "id": "9662f9bd-a087-438c-8cba-37899ced4ff3",
   "metadata": {},
   "source": [
    "### MODEL PREDICTION"
   ]
  },
  {
   "cell_type": "code",
   "execution_count": 82,
   "id": "3507e405-054d-40b6-95ef-0957fac5737f",
   "metadata": {},
   "outputs": [
    {
     "name": "stdout",
     "output_type": "stream",
     "text": [
      "\u001b[1m875/875\u001b[0m \u001b[32m━━━━━━━━━━━━━━━━━━━━\u001b[0m\u001b[37m\u001b[0m \u001b[1m2s\u001b[0m 2ms/step\n"
     ]
    },
    {
     "data": {
      "text/plain": [
       "array([2, 0, 9, ..., 3, 9, 2], dtype=int64)"
      ]
     },
     "execution_count": 82,
     "metadata": {},
     "output_type": "execute_result"
    }
   ],
   "source": [
    "model.predict(X_test).argmax(axis=1)"
   ]
  },
  {
   "cell_type": "code",
   "execution_count": 84,
   "id": "641fd846-abe5-4aa7-ac7c-e66f3c2d16e3",
   "metadata": {},
   "outputs": [
    {
     "data": {
      "text/plain": [
       "<matplotlib.image.AxesImage at 0x1265f881290>"
      ]
     },
     "execution_count": 84,
     "metadata": {},
     "output_type": "execute_result"
    },
    {
     "data": {
      "image/png": "[encoded data removed]",
      "text/plain": [
       "<Figure size 640x480 with 1 Axes>"
      ]
     },
     "metadata": {},
     "output_type": "display_data"
    }
   ],
   "source": [
    "test_img = X_test.iloc[2].values.reshape((28,28))\n",
    "plt.imshow(test_img,cmap='gray')"
   ]
  },
  {
   "cell_type": "code",
   "execution_count": null,
   "id": "8534e33e-7905-4e6f-9ea9-d5b00ecbe64a",
   "metadata": {},
   "outputs": [],
   "source": []
  }
 ],
 "metadata": {
  "kernelspec": {
   "display_name": "Python 3 (ipykernel)",
   "language": "python",
   "name": "python3"
  },
  "language_info": {
   "codemirror_mode": {
    "name": "ipython",
    "version": 3
   },
   "file_extension": ".py",
   "mimetype": "text/x-python",
   "name": "python",
   "nbconvert_exporter": "python",
   "pygments_lexer": "ipython3",
   "version": "3.11.7"
  }
 },
 "nbformat": 4,
 "nbformat_minor": 5
}
