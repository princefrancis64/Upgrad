{
 "cells": [
  {
   "cell_type": "code",
   "execution_count": 1,
   "id": "b2bbf30b",
   "metadata": {},
   "outputs": [
    {
     "name": "stdout",
     "output_type": "stream",
     "text": [
      "Requirement already satisfied: keras in c:\\users\\prince\\anaconda3\\lib\\site-packages (2.15.0)\n"
     ]
    }
   ],
   "source": [
    "!pip install keras"
   ]
  },
  {
   "cell_type": "code",
   "execution_count": 2,
   "id": "6895e94d",
   "metadata": {},
   "outputs": [
    {
     "name": "stdout",
     "output_type": "stream",
     "text": [
      "WARNING:tensorflow:From C:\\Users\\Prince\\anaconda3\\lib\\site-packages\\keras\\src\\losses.py:2976: The name tf.losses.sparse_softmax_cross_entropy is deprecated. Please use tf.compat.v1.losses.sparse_softmax_cross_entropy instead.\n",
      "\n"
     ]
    }
   ],
   "source": [
    "import keras"
   ]
  },
  {
   "cell_type": "code",
   "execution_count": 3,
   "id": "f5a18dd8",
   "metadata": {},
   "outputs": [
    {
     "name": "stdout",
     "output_type": "stream",
     "text": [
      "2.15.0\n"
     ]
    }
   ],
   "source": [
    "print(keras.__version__)"
   ]
  },
  {
   "cell_type": "markdown",
   "id": "a2969346",
   "metadata": {},
   "source": [
    "### Agenda:\n",
    "- Data read and feature transformations\n",
    "- Keras Model\n",
    "- Keras Training loop"
   ]
  },
  {
   "cell_type": "code",
   "execution_count": 4,
   "id": "2a0bebee",
   "metadata": {},
   "outputs": [],
   "source": [
    "import pandas as pd\n",
    "import numpy as np\n",
    "from sklearn.preprocessing import StandardScaler"
   ]
  },
  {
   "cell_type": "markdown",
   "id": "5ce554e9",
   "metadata": {},
   "source": [
    "### Part 1 : Import the housing dataset and do feature transformations "
   ]
  },
  {
   "cell_type": "code",
   "execution_count": 8,
   "id": "c8b85a2b",
   "metadata": {},
   "outputs": [
    {
     "data": {
      "text/html": [
       "<div>\n",
       "<style scoped>\n",
       "    .dataframe tbody tr th:only-of-type {\n",
       "        vertical-align: middle;\n",
       "    }\n",
       "\n",
       "    .dataframe tbody tr th {\n",
       "        vertical-align: top;\n",
       "    }\n",
       "\n",
       "    .dataframe thead th {\n",
       "        text-align: right;\n",
       "    }\n",
       "</style>\n",
       "<table border=\"1\" class=\"dataframe\">\n",
       "  <thead>\n",
       "    <tr style=\"text-align: right;\">\n",
       "      <th></th>\n",
       "      <th>bedrooms</th>\n",
       "      <th>sqft_living</th>\n",
       "      <th>price</th>\n",
       "    </tr>\n",
       "  </thead>\n",
       "  <tbody>\n",
       "    <tr>\n",
       "      <th>0</th>\n",
       "      <td>3</td>\n",
       "      <td>1340</td>\n",
       "      <td>313000</td>\n",
       "    </tr>\n",
       "    <tr>\n",
       "      <th>1</th>\n",
       "      <td>5</td>\n",
       "      <td>3650</td>\n",
       "      <td>2384000</td>\n",
       "    </tr>\n",
       "    <tr>\n",
       "      <th>2</th>\n",
       "      <td>3</td>\n",
       "      <td>1930</td>\n",
       "      <td>342000</td>\n",
       "    </tr>\n",
       "    <tr>\n",
       "      <th>3</th>\n",
       "      <td>3</td>\n",
       "      <td>2000</td>\n",
       "      <td>420000</td>\n",
       "    </tr>\n",
       "    <tr>\n",
       "      <th>4</th>\n",
       "      <td>4</td>\n",
       "      <td>1940</td>\n",
       "      <td>550000</td>\n",
       "    </tr>\n",
       "  </tbody>\n",
       "</table>\n",
       "</div>"
      ],
      "text/plain": [
       "   bedrooms  sqft_living    price\n",
       "0         3         1340   313000\n",
       "1         5         3650  2384000\n",
       "2         3         1930   342000\n",
       "3         3         2000   420000\n",
       "4         4         1940   550000"
      ]
     },
     "execution_count": 8,
     "metadata": {},
     "output_type": "execute_result"
    }
   ],
   "source": [
    "df = pd.read_csv('house_price_full+(2).csv')\n",
    "df.head()"
   ]
  },
  {
   "cell_type": "code",
   "execution_count": 9,
   "id": "a9606afd",
   "metadata": {},
   "outputs": [],
   "source": [
    "X = df.copy()\n",
    "## removing the price variable\n",
    "y = X.pop('price')\n",
    "\n",
    "## performing a scaler transformation of the input data\n",
    "scaler = StandardScaler()\n",
    "X = scaler.fit_transform(X)\n",
    "\n",
    "## Perform log transformation of the target variable\n",
    "y = np.log(y)"
   ]
  },
  {
   "cell_type": "code",
   "execution_count": 10,
   "id": "f5b6af62",
   "metadata": {},
   "outputs": [
    {
     "data": {
      "text/html": [
       "<div>\n",
       "<style scoped>\n",
       "    .dataframe tbody tr th:only-of-type {\n",
       "        vertical-align: middle;\n",
       "    }\n",
       "\n",
       "    .dataframe tbody tr th {\n",
       "        vertical-align: top;\n",
       "    }\n",
       "\n",
       "    .dataframe thead th {\n",
       "        text-align: right;\n",
       "    }\n",
       "</style>\n",
       "<table border=\"1\" class=\"dataframe\">\n",
       "  <thead>\n",
       "    <tr style=\"text-align: right;\">\n",
       "      <th></th>\n",
       "      <th>0</th>\n",
       "      <th>1</th>\n",
       "    </tr>\n",
       "  </thead>\n",
       "  <tbody>\n",
       "    <tr>\n",
       "      <th>0</th>\n",
       "      <td>-0.433198</td>\n",
       "      <td>-0.753258</td>\n",
       "    </tr>\n",
       "    <tr>\n",
       "      <th>1</th>\n",
       "      <td>1.675735</td>\n",
       "      <td>1.457330</td>\n",
       "    </tr>\n",
       "    <tr>\n",
       "      <th>2</th>\n",
       "      <td>-0.433198</td>\n",
       "      <td>-0.188649</td>\n",
       "    </tr>\n",
       "    <tr>\n",
       "      <th>3</th>\n",
       "      <td>-0.433198</td>\n",
       "      <td>-0.121661</td>\n",
       "    </tr>\n",
       "    <tr>\n",
       "      <th>4</th>\n",
       "      <td>0.621269</td>\n",
       "      <td>-0.179079</td>\n",
       "    </tr>\n",
       "    <tr>\n",
       "      <th>...</th>\n",
       "      <td>...</td>\n",
       "      <td>...</td>\n",
       "    </tr>\n",
       "    <tr>\n",
       "      <th>494</th>\n",
       "      <td>0.621269</td>\n",
       "      <td>0.873582</td>\n",
       "    </tr>\n",
       "    <tr>\n",
       "      <th>495</th>\n",
       "      <td>1.675735</td>\n",
       "      <td>2.299459</td>\n",
       "    </tr>\n",
       "    <tr>\n",
       "      <th>496</th>\n",
       "      <td>-0.433198</td>\n",
       "      <td>-0.724549</td>\n",
       "    </tr>\n",
       "    <tr>\n",
       "      <th>497</th>\n",
       "      <td>-0.433198</td>\n",
       "      <td>-0.179079</td>\n",
       "    </tr>\n",
       "    <tr>\n",
       "      <th>498</th>\n",
       "      <td>-0.433198</td>\n",
       "      <td>-1.040347</td>\n",
       "    </tr>\n",
       "  </tbody>\n",
       "</table>\n",
       "<p>499 rows × 2 columns</p>\n",
       "</div>"
      ],
      "text/plain": [
       "            0         1\n",
       "0   -0.433198 -0.753258\n",
       "1    1.675735  1.457330\n",
       "2   -0.433198 -0.188649\n",
       "3   -0.433198 -0.121661\n",
       "4    0.621269 -0.179079\n",
       "..        ...       ...\n",
       "494  0.621269  0.873582\n",
       "495  1.675735  2.299459\n",
       "496 -0.433198 -0.724549\n",
       "497 -0.433198 -0.179079\n",
       "498 -0.433198 -1.040347\n",
       "\n",
       "[499 rows x 2 columns]"
      ]
     },
     "execution_count": 10,
     "metadata": {},
     "output_type": "execute_result"
    }
   ],
   "source": [
    "df_scaled =pd.DataFrame(X)\n",
    "df_scaled"
   ]
  },
  {
   "cell_type": "code",
   "execution_count": 11,
   "id": "9138b097",
   "metadata": {},
   "outputs": [
    {
     "data": {
      "text/plain": [
       "0    12.653958\n",
       "1    14.684290\n",
       "Name: price, dtype: float64"
      ]
     },
     "execution_count": 11,
     "metadata": {},
     "output_type": "execute_result"
    }
   ],
   "source": [
    "y.head(2)"
   ]
  },
  {
   "cell_type": "markdown",
   "id": "7e23ebd5",
   "metadata": {},
   "source": [
    "### Part 2: Creating Model using Keras"
   ]
  },
  {
   "cell_type": "code",
   "execution_count": 12,
   "id": "641d50d1",
   "metadata": {},
   "outputs": [],
   "source": [
    "from tensorflow import keras"
   ]
  },
  {
   "cell_type": "code",
   "execution_count": 17,
   "id": "9a5c6df1",
   "metadata": {},
   "outputs": [
    {
     "name": "stdout",
     "output_type": "stream",
     "text": [
      "WARNING:tensorflow:From C:\\Users\\Prince\\anaconda3\\lib\\site-packages\\keras\\src\\backend.py:873: The name tf.get_default_graph is deprecated. Please use tf.compat.v1.get_default_graph instead.\n",
      "\n"
     ]
    }
   ],
   "source": [
    "model = keras.Sequential(\n",
    "    [\n",
    "        keras.layers.Dense(\n",
    "        2,activation='sigmoid',input_shape=(X.shape[-1],)),\n",
    "        keras.layers.Dense(1,activation='linear')\n",
    "    ]\n",
    ")"
   ]
  },
  {
   "cell_type": "code",
   "execution_count": 18,
   "id": "c16d3f8d",
   "metadata": {},
   "outputs": [
    {
     "name": "stdout",
     "output_type": "stream",
     "text": [
      "Model: \"sequential\"\n",
      "_________________________________________________________________\n",
      " Layer (type)                Output Shape              Param #   \n",
      "=================================================================\n",
      " dense (Dense)               (None, 2)                 6         \n",
      "                                                                 \n",
      " dense_1 (Dense)             (None, 1)                 3         \n",
      "                                                                 \n",
      "=================================================================\n",
      "Total params: 9 (36.00 Byte)\n",
      "Trainable params: 9 (36.00 Byte)\n",
      "Non-trainable params: 0 (0.00 Byte)\n",
      "_________________________________________________________________\n"
     ]
    }
   ],
   "source": [
    "model.summary()"
   ]
  },
  {
   "cell_type": "markdown",
   "id": "125b9515",
   "metadata": {},
   "source": [
    "### Part 3 : Training loop"
   ]
  },
  {
   "cell_type": "code",
   "execution_count": 19,
   "id": "53de20e7",
   "metadata": {},
   "outputs": [],
   "source": [
    "model.compile(\n",
    "    optimizer = keras.optimizers.SGD(),loss=\"mean_squared_error\")  ## SGD-Gradient descent"
   ]
  },
  {
   "cell_type": "code",
   "execution_count": 20,
   "id": "d266d196",
   "metadata": {},
   "outputs": [
    {
     "name": "stdout",
     "output_type": "stream",
     "text": [
      "Epoch 1/10\n",
      "WARNING:tensorflow:From C:\\Users\\Prince\\anaconda3\\lib\\site-packages\\keras\\src\\utils\\tf_utils.py:492: The name tf.ragged.RaggedTensorValue is deprecated. Please use tf.compat.v1.ragged.RaggedTensorValue instead.\n",
      "\n",
      "16/16 [==============================] - 1s 5ms/step - loss: 99.0910\n",
      "Epoch 2/10\n",
      "16/16 [==============================] - 0s 5ms/step - loss: 24.1633\n",
      "Epoch 3/10\n",
      "16/16 [==============================] - 0s 6ms/step - loss: 4.5883\n",
      "Epoch 4/10\n",
      "16/16 [==============================] - 0s 4ms/step - loss: 1.1950\n",
      "Epoch 5/10\n",
      "16/16 [==============================] - 0s 4ms/step - loss: 0.6164\n",
      "Epoch 6/10\n",
      "16/16 [==============================] - 0s 4ms/step - loss: 0.4820\n",
      "Epoch 7/10\n",
      "16/16 [==============================] - 0s 4ms/step - loss: 0.4278\n",
      "Epoch 8/10\n",
      "16/16 [==============================] - 0s 5ms/step - loss: 0.3917\n",
      "Epoch 9/10\n",
      "16/16 [==============================] - 0s 7ms/step - loss: 0.3614\n",
      "Epoch 10/10\n",
      "16/16 [==============================] - 0s 11ms/step - loss: 0.3358\n"
     ]
    },
    {
     "data": {
      "text/plain": [
       "<keras.src.callbacks.History at 0x1edf5083b50>"
      ]
     },
     "execution_count": 20,
     "metadata": {},
     "output_type": "execute_result"
    }
   ],
   "source": [
    "model.fit(X,y.values,epochs=10,batch_size=32)"
   ]
  },
  {
   "cell_type": "code",
   "execution_count": 23,
   "id": "79255062",
   "metadata": {},
   "outputs": [
    {
     "name": "stdout",
     "output_type": "stream",
     "text": [
      "16/16 [==============================] - 0s 2ms/step\n"
     ]
    },
    {
     "data": {
      "text/plain": [
       "array([13.084789 , 13.524251 , 12.994369 , 12.981642 , 13.383089 ,\n",
       "       12.618854 , 12.500131 , 13.313281 , 12.893515 , 13.407185 ,\n",
       "       13.031534 , 13.28755  , 12.915568 , 13.114628 , 13.568992 ,\n",
       "       13.102083 , 13.053013 , 13.261496 , 13.080886 , 13.104432 ,\n",
       "       12.934599 , 13.410373 , 13.025091 , 13.310965 , 13.403264 ,\n",
       "       12.964625 , 12.909052 , 13.363512 , 13.572853 , 12.853802 ,\n",
       "       13.405262 , 13.295222 , 13.390882 , 13.300193 , 13.175576 ,\n",
       "       12.678694 , 12.636859 , 13.008375 , 12.988969 , 12.9024515,\n",
       "       13.051533 , 13.409035 , 12.625681 , 13.021818 , 12.537817 ,\n",
       "       13.10675  , 12.98715  , 12.994369 , 13.093625 , 13.231065 ,\n",
       "       13.313281 , 12.774062 , 12.826595 , 13.016842 , 13.591497 ,\n",
       "       13.38444  , 13.364336 , 13.523471 , 13.087353 , 12.41889  ,\n",
       "       13.231065 , 12.834133 , 13.310965 , 12.868139 , 13.28755  ,\n",
       "       12.614254 , 13.040941 , 13.123192 , 12.049888 , 12.942812 ,\n",
       "       13.332914 , 12.790239 , 13.356707 , 12.999688 , 13.086075 ,\n",
       "       12.521906 , 13.365967 , 13.310965 , 13.369942 , 12.879819 ,\n",
       "       13.379616 , 13.1642   , 12.104301 , 13.016842 , 13.351352 ,\n",
       "       12.262028 , 12.555921 , 13.065957 , 12.483378 , 12.540434 ,\n",
       "       13.555471 , 12.950874 , 13.718383 , 12.911234 , 13.054483 ,\n",
       "       13.576029 , 13.036276 , 13.560312 , 13.075569 , 13.492792 ,\n",
       "       13.251203 , 12.979788 , 13.086075 , 13.348591 , 13.597224 ,\n",
       "       13.288846 , 13.373775 , 13.019945 , 12.627936 , 13.418632 ,\n",
       "       13.41293  , 13.354056 , 13.118968 , 13.58265  , 13.378189 ,\n",
       "       13.598629 , 12.9366665, 12.634643 , 13.554913 , 13.03784  ,\n",
       "       13.3810215, 13.070126 , 11.637854 , 13.00319  , 13.00319  ,\n",
       "       13.075569 , 13.409035 , 12.555921 , 12.99615  , 13.288846 ,\n",
       "       12.678694 , 13.055946 , 13.594441 , 12.223129 , 12.375382 ,\n",
       "       13.354946 , 13.016842 , 13.378189 , 13.018509 , 13.341932 ,\n",
       "       12.992578 , 12.550798 , 13.216324 , 12.999432 , 13.052865 ,\n",
       "       13.045531 , 13.075838 , 12.737783 , 13.439005 , 12.43097  ,\n",
       "       13.340956 , 13.41081  , 12.566044 , 13.083496 , 13.367574 ,\n",
       "       13.064551 , 12.981642 , 12.583374 , 12.654228 , 13.594913 ,\n",
       "       13.051533 , 13.37072  , 13.416467 , 13.04401  , 13.221311 ,\n",
       "       13.386428 , 13.407185 , 12.614254 , 13.118968 , 13.094856 ,\n",
       "       13.711594 , 13.355829 , 13.301418 , 13.040941 , 13.04248  ,\n",
       "       13.008375 , 13.378905 , 13.075569 , 13.408119 , 12.886711 ,\n",
       "       13.123192 , 12.532554 , 13.352169 , 13.590862 , 13.340956 ,\n",
       "       13.262934 , 13.374524 , 13.008375 , 13.389635 , 13.154476 ,\n",
       "       13.07422  , 13.061716 , 12.956823 , 13.200912 , 13.04401  ,\n",
       "       13.018509 , 13.378905 , 13.358444 , 13.272796 , 13.088623 ,\n",
       "       13.126064 , 13.150526 , 13.562855 , 13.568992 , 12.757527 ,\n",
       "       12.409727 , 13.248192 , 13.316706 , 13.098504 , 13.309795 ,\n",
       "       13.219657 , 13.112413 , 13.597622 , 12.999688 , 12.607278 ,\n",
       "       13.034704 , 13.07422  , 13.436441 , 12.985323 , 12.548222 ,\n",
       "       12.942812 , 13.143514 , 13.065957 , 13.569876 , 12.831631 ,\n",
       "       13.186823 , 13.093625 , 13.439005 , 13.27141  , 13.105595 ,\n",
       "       13.594279 , 13.125261 , 13.342902 , 12.988942 , 13.09608  ,\n",
       "       13.057402 , 13.048549 , 13.112413 , 13.010086 , 12.872841 ,\n",
       "       12.834133 , 13.902164 , 13.344824 , 13.396808 , 12.968472 ,\n",
       "       13.0234585, 13.036276 , 12.442893 , 12.373505 , 13.390261 ,\n",
       "       13.07691  , 13.004927 , 13.75015  , 12.580929 , 12.824062 ,\n",
       "       13.123192 , 13.051533 , 13.325537 , 12.99615  , 12.911234 ,\n",
       "       11.712553 , 13.334964 , 12.678694 , 12.886711 , 12.588235 ,\n",
       "       12.632418 , 13.58647  , 13.021818 , 12.500131 , 12.988969 ,\n",
       "       13.231864 , 12.100461 , 13.480681 , 13.354056 , 13.400659 ,\n",
       "       13.320067 , 13.386428 , 12.944841 , 12.976052 , 12.928341 ,\n",
       "       13.047045 , 12.645622 , 12.415845 , 13.04401  , 13.70985  ,\n",
       "       12.760307 , 12.992578 , 13.075569 , 13.120035 , 12.632418 ,\n",
       "       12.611938 , 13.806244 , 13.365154 , 13.048549 , 13.063138 ,\n",
       "       13.084789 , 13.006656 , 12.868139 , 12.580929 , 13.079569 ,\n",
       "       13.04248  , 13.564815 , 13.368369 , 13.0234585, 13.039395 ,\n",
       "       13.011788 , 13.362682 , 13.408579 , 13.094856 , 13.465454 ,\n",
       "       13.121861 , 12.553365 , 13.3194   , 13.5867405, 13.047647 ,\n",
       "       12.632418 , 12.445849 , 12.964625 , 13.556577 , 13.396237 ,\n",
       "       13.03784  , 13.330839 , 13.562855 , 13.09608  , 13.377467 ,\n",
       "       13.3189535, 12.595451 , 12.988969 , 12.654228 , 12.497364 ,\n",
       "       12.343155 , 13.369158 , 13.391497 , 12.230278 , 13.034704 ,\n",
       "       12.992578 , 13.353161 , 13.374524 , 13.214644 , 13.359303 ,\n",
       "       13.078243 , 12.576008 , 13.064551 , 13.337989 , 13.585917 ,\n",
       "       12.934599 , 12.99615  , 13.001444 , 13.359303 , 12.521906 ,\n",
       "       12.600212 , 13.234251 , 13.378905 , 12.58581  , 13.389635 ,\n",
       "       12.985323 , 13.710842 , 12.532554 , 13.356707 , 12.893515 ,\n",
       "       12.771332 , 13.356707 , 13.061716 , 13.1293125, 13.103261 ,\n",
       "       13.088623 , 13.573669 , 13.025091 , 13.087353 , 13.339973 ,\n",
       "       13.097296 , 13.094856 , 13.71897  , 13.138457 , 13.057402 ,\n",
       "       12.442893 , 13.068744 , 13.078243 , 12.844046 , 13.050045 ,\n",
       "       13.385108 , 12.978857 , 13.075569 , 12.563528 , 12.623415 ,\n",
       "       12.919864 , 12.58581  , 12.595451 , 13.047144 , 13.04248  ,\n",
       "       13.140491 , 13.303846 , 13.395082 , 13.411243 , 13.008375 ,\n",
       "       12.600212 , 12.882126 , 13.152506 , 13.325537 , 13.078243 ,\n",
       "       13.358444 , 13.3389845, 12.634643 , 13.400659 , 12.7491255,\n",
       "       12.654228 , 13.078243 , 13.070812 , 12.352922 , 12.962688 ,\n",
       "       13.117894 , 13.063138 , 13.3810215, 13.075569 , 13.158392 ,\n",
       "       13.364336 , 12.99615  , 13.10675  , 12.52459  , 13.378905 ,\n",
       "       13.366532 , 13.536752 , 13.297722 , 12.553365 , 13.262934 ,\n",
       "       13.07422  , 13.342902 , 13.383768 , 13.039395 , 13.07691  ,\n",
       "       13.3189535, 13.378905 , 13.369158 , 13.083237 , 13.025091 ,\n",
       "       13.589034 , 12.480551 , 13.383089 , 13.075569 , 13.082195 ,\n",
       "       13.099705 , 13.298961 , 13.146538 , 13.35226  , 12.576001 ,\n",
       "       13.409485 , 13.268616 , 13.121095 , 13.383768 , 13.020168 ,\n",
       "       12.981642 , 13.034704 , 13.332039 , 13.089885 , 13.345776 ,\n",
       "       12.553365 , 13.354056 , 13.310965 , 13.297722 , 12.58581  ,\n",
       "       13.084789 , 13.192057 , 12.761    , 13.124436 , 13.56185  ,\n",
       "       12.956823 , 13.333942 , 13.383089 , 13.083496 , 13.366774 ,\n",
       "       13.080886 , 12.690302 , 13.298961 , 12.979788 , 13.232662 ,\n",
       "       12.532554 , 13.029936 , 11.821608 , 13.054483 , 12.863399 ,\n",
       "       12.922715 , 12.535191 , 13.524251 , 12.948873 , 13.331881 ,\n",
       "       12.611938 , 13.2796135, 13.369942 , 13.206125 , 13.584776 ,\n",
       "       12.942812 , 13.396237 , 12.771332 , 13.125261 , 13.27141  ,\n",
       "       13.433851 , 13.080886 , 12.992578 , 13.120035 ], dtype=float32)"
      ]
     },
     "execution_count": 23,
     "metadata": {},
     "output_type": "execute_result"
    }
   ],
   "source": [
    "model.predict(X)[:,0]"
   ]
  },
  {
   "cell_type": "code",
   "execution_count": null,
   "id": "873f0a18",
   "metadata": {},
   "outputs": [],
   "source": []
  }
 ],
 "metadata": {
  "kernelspec": {
   "display_name": "Python 3 (ipykernel)",
   "language": "python",
   "name": "python3"
  },
  "language_info": {
   "codemirror_mode": {
    "name": "ipython",
    "version": 3
   },
   "file_extension": ".py",
   "mimetype": "text/x-python",
   "name": "python",
   "nbconvert_exporter": "python",
   "pygments_lexer": "ipython3",
   "version": "3.10.9"
  }
 },
 "nbformat": 4,
 "nbformat_minor": 5
}
