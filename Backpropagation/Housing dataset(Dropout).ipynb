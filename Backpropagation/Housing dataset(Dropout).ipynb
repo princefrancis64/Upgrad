{
 "cells": [
  {
   "cell_type": "code",
   "execution_count": 30,
   "id": "79de9daa",
   "metadata": {},
   "outputs": [],
   "source": [
    "import pandas as pd\n",
    "import numpy as np\n",
    "from sklearn.preprocessing import StandardScaler\n",
    "from tensorflow import keras\n",
    "from sklearn.model_selection import train_test_split"
   ]
  },
  {
   "cell_type": "code",
   "execution_count": 31,
   "id": "384c2ca3",
   "metadata": {},
   "outputs": [
    {
     "data": {
      "text/html": [
       "<div>\n",
       "<style scoped>\n",
       "    .dataframe tbody tr th:only-of-type {\n",
       "        vertical-align: middle;\n",
       "    }\n",
       "\n",
       "    .dataframe tbody tr th {\n",
       "        vertical-align: top;\n",
       "    }\n",
       "\n",
       "    .dataframe thead th {\n",
       "        text-align: right;\n",
       "    }\n",
       "</style>\n",
       "<table border=\"1\" class=\"dataframe\">\n",
       "  <thead>\n",
       "    <tr style=\"text-align: right;\">\n",
       "      <th></th>\n",
       "      <th>bedrooms</th>\n",
       "      <th>sqft_living</th>\n",
       "      <th>price</th>\n",
       "    </tr>\n",
       "  </thead>\n",
       "  <tbody>\n",
       "    <tr>\n",
       "      <th>0</th>\n",
       "      <td>3</td>\n",
       "      <td>1340</td>\n",
       "      <td>313000</td>\n",
       "    </tr>\n",
       "    <tr>\n",
       "      <th>1</th>\n",
       "      <td>5</td>\n",
       "      <td>3650</td>\n",
       "      <td>2384000</td>\n",
       "    </tr>\n",
       "    <tr>\n",
       "      <th>2</th>\n",
       "      <td>3</td>\n",
       "      <td>1930</td>\n",
       "      <td>342000</td>\n",
       "    </tr>\n",
       "    <tr>\n",
       "      <th>3</th>\n",
       "      <td>3</td>\n",
       "      <td>2000</td>\n",
       "      <td>420000</td>\n",
       "    </tr>\n",
       "    <tr>\n",
       "      <th>4</th>\n",
       "      <td>4</td>\n",
       "      <td>1940</td>\n",
       "      <td>550000</td>\n",
       "    </tr>\n",
       "  </tbody>\n",
       "</table>\n",
       "</div>"
      ],
      "text/plain": [
       "   bedrooms  sqft_living    price\n",
       "0         3         1340   313000\n",
       "1         5         3650  2384000\n",
       "2         3         1930   342000\n",
       "3         3         2000   420000\n",
       "4         4         1940   550000"
      ]
     },
     "execution_count": 31,
     "metadata": {},
     "output_type": "execute_result"
    }
   ],
   "source": [
    "df = pd.read_csv('house_price_full+(2).csv')\n",
    "df.head()"
   ]
  },
  {
   "cell_type": "code",
   "execution_count": 58,
   "id": "28d3ab2d",
   "metadata": {},
   "outputs": [
    {
     "data": {
      "text/plain": [
       "(499, 3)"
      ]
     },
     "execution_count": 58,
     "metadata": {},
     "output_type": "execute_result"
    }
   ],
   "source": [
    "df.shape"
   ]
  },
  {
   "cell_type": "code",
   "execution_count": 32,
   "id": "6739a73c",
   "metadata": {},
   "outputs": [],
   "source": [
    "X = df.copy()\n",
    "#removing the target\n",
    "Y = X.pop('price')"
   ]
  },
  {
   "cell_type": "code",
   "execution_count": 33,
   "id": "bdcd0848",
   "metadata": {},
   "outputs": [],
   "source": [
    "## scaler transform on the independent features\n",
    "scaler = StandardScaler()\n",
    "X = scaler.fit_transform(X)"
   ]
  },
  {
   "cell_type": "code",
   "execution_count": 34,
   "id": "cc979ff1",
   "metadata": {},
   "outputs": [],
   "source": [
    "## perform log transformation on the target variable\n",
    "Y = np.log(Y)"
   ]
  },
  {
   "cell_type": "code",
   "execution_count": 35,
   "id": "334dd023",
   "metadata": {},
   "outputs": [
    {
     "name": "stdout",
     "output_type": "stream",
     "text": [
      "            0         1\n",
      "0   -0.433198 -0.753258\n",
      "1    1.675735  1.457330\n",
      "2   -0.433198 -0.188649\n",
      "3   -0.433198 -0.121661\n",
      "4    0.621269 -0.179079\n",
      "..        ...       ...\n",
      "494  0.621269  0.873582\n",
      "495  1.675735  2.299459\n",
      "496 -0.433198 -0.724549\n",
      "497 -0.433198 -0.179079\n",
      "498 -0.433198 -1.040347\n",
      "\n",
      "[499 rows x 2 columns]\n"
     ]
    }
   ],
   "source": [
    "df_scaled = pd.DataFrame(X)\n",
    "print(df_scaled)"
   ]
  },
  {
   "cell_type": "code",
   "execution_count": 36,
   "id": "a9f2876c",
   "metadata": {},
   "outputs": [],
   "source": [
    "X_train,X_val,y_train,y_val = train_test_split(df_scaled,Y,test_size=0.1,random_state=42)"
   ]
  },
  {
   "cell_type": "code",
   "execution_count": 37,
   "id": "568082ff",
   "metadata": {},
   "outputs": [],
   "source": [
    "model = keras.Sequential(\n",
    "    [\n",
    "        keras.layers.Dense(\n",
    "            10,activation='relu',input_shape=(X_train.shape[-1],)\n",
    "        ),\n",
    "        ## keras.layers.Dropout(0.2)\n",
    "        keras.layers.Dense(\n",
    "            10,activation='relu'),\n",
    "        keras.layers.Dense(\n",
    "            5,activation='relu'),\n",
    "        keras.layers.Dense(1,activation='linear')\n",
    "        \n",
    "        \n",
    "    ]\n",
    ")"
   ]
  },
  {
   "cell_type": "code",
   "execution_count": 38,
   "id": "d500ac65",
   "metadata": {},
   "outputs": [
    {
     "name": "stdout",
     "output_type": "stream",
     "text": [
      "Model: \"sequential_4\"\n",
      "_________________________________________________________________\n",
      " Layer (type)                Output Shape              Param #   \n",
      "=================================================================\n",
      " dense_28 (Dense)            (None, 10)                30        \n",
      "                                                                 \n",
      " dense_29 (Dense)            (None, 10)                110       \n",
      "                                                                 \n",
      " dense_30 (Dense)            (None, 5)                 55        \n",
      "                                                                 \n",
      " dense_31 (Dense)            (None, 1)                 6         \n",
      "                                                                 \n",
      "=================================================================\n",
      "Total params: 201 (804.00 Byte)\n",
      "Trainable params: 201 (804.00 Byte)\n",
      "Non-trainable params: 0 (0.00 Byte)\n",
      "_________________________________________________________________\n"
     ]
    }
   ],
   "source": [
    "model.summary()"
   ]
  },
  {
   "cell_type": "code",
   "execution_count": 39,
   "id": "4a651a1b",
   "metadata": {},
   "outputs": [],
   "source": [
    "model.compile(\n",
    "    optimizer=keras.optimizers.SGD(),loss='mean_squared_error',\n",
    "    metrics=['mse']\n",
    ")"
   ]
  },
  {
   "cell_type": "code",
   "execution_count": 40,
   "id": "c1b883c9",
   "metadata": {},
   "outputs": [
    {
     "name": "stdout",
     "output_type": "stream",
     "text": [
      "Epoch 1/10\n",
      "15/15 [==============================] - 1s 19ms/step - loss: 91.7401 - mse: 91.7401 - val_loss: 15.3711 - val_mse: 15.3711\n",
      "Epoch 2/10\n",
      "15/15 [==============================] - 0s 6ms/step - loss: 3.1019 - mse: 3.1019 - val_loss: 3.3075 - val_mse: 3.3075\n",
      "Epoch 3/10\n",
      "15/15 [==============================] - 0s 6ms/step - loss: 0.6779 - mse: 0.6779 - val_loss: 0.5221 - val_mse: 0.5221\n",
      "Epoch 4/10\n",
      "15/15 [==============================] - 0s 8ms/step - loss: 0.3954 - mse: 0.3954 - val_loss: 0.3679 - val_mse: 0.3679\n",
      "Epoch 5/10\n",
      "15/15 [==============================] - 0s 6ms/step - loss: 0.3039 - mse: 0.3039 - val_loss: 0.5420 - val_mse: 0.5420\n",
      "Epoch 6/10\n",
      "15/15 [==============================] - 0s 6ms/step - loss: 0.2740 - mse: 0.2740 - val_loss: 0.8066 - val_mse: 0.8066\n",
      "Epoch 7/10\n",
      "15/15 [==============================] - 0s 6ms/step - loss: 0.2564 - mse: 0.2564 - val_loss: 0.4493 - val_mse: 0.4493\n",
      "Epoch 8/10\n",
      "15/15 [==============================] - 0s 6ms/step - loss: 0.3010 - mse: 0.3010 - val_loss: 0.1448 - val_mse: 0.1448\n",
      "Epoch 9/10\n",
      "15/15 [==============================] - 0s 6ms/step - loss: 0.1925 - mse: 0.1925 - val_loss: 0.1329 - val_mse: 0.1329\n",
      "Epoch 10/10\n",
      "15/15 [==============================] - 0s 6ms/step - loss: 0.2165 - mse: 0.2165 - val_loss: 0.1348 - val_mse: 0.1348\n"
     ]
    },
    {
     "data": {
      "text/plain": [
       "<keras.src.callbacks.History at 0x14be9197100>"
      ]
     },
     "execution_count": 40,
     "metadata": {},
     "output_type": "execute_result"
    }
   ],
   "source": [
    "model.fit(X_train,y_train,epochs=10,batch_size=32,validation_data=(X_val,y_val),verbose=1)"
   ]
  },
  {
   "cell_type": "code",
   "execution_count": 41,
   "id": "d24250da",
   "metadata": {},
   "outputs": [],
   "source": [
    "## loss: 0.1592 - mse: 0.1592 - val_loss: 0.2566 - val_mse: 0.2566 --> when no dropout layer"
   ]
  },
  {
   "cell_type": "markdown",
   "id": "a4f3a9c3",
   "metadata": {},
   "source": [
    "### Adding a dropout layer"
   ]
  },
  {
   "cell_type": "code",
   "execution_count": 42,
   "id": "b97c3ab5",
   "metadata": {},
   "outputs": [],
   "source": [
    "model1 = keras.Sequential(\n",
    "    [\n",
    "      keras.layers.Dense(\n",
    "      10,activation='relu',input_shape=(X_train.shape[-1],)),\n",
    "      keras.layers.Dropout(0.2),\n",
    "      keras.layers.Dense(\n",
    "          10,activation='relu'),\n",
    "      keras.layers.Dense(\n",
    "         5,activation='relu'),\n",
    "      keras.layers.Dense(1,activation='linear')\n",
    "]\n",
    ")"
   ]
  },
  {
   "cell_type": "code",
   "execution_count": 43,
   "id": "0b0393c2",
   "metadata": {},
   "outputs": [
    {
     "name": "stdout",
     "output_type": "stream",
     "text": [
      "Model: \"sequential_5\"\n",
      "_________________________________________________________________\n",
      " Layer (type)                Output Shape              Param #   \n",
      "=================================================================\n",
      " dense_32 (Dense)            (None, 10)                30        \n",
      "                                                                 \n",
      " dropout_3 (Dropout)         (None, 10)                0         \n",
      "                                                                 \n",
      " dense_33 (Dense)            (None, 10)                110       \n",
      "                                                                 \n",
      " dense_34 (Dense)            (None, 5)                 55        \n",
      "                                                                 \n",
      " dense_35 (Dense)            (None, 1)                 6         \n",
      "                                                                 \n",
      "=================================================================\n",
      "Total params: 201 (804.00 Byte)\n",
      "Trainable params: 201 (804.00 Byte)\n",
      "Non-trainable params: 0 (0.00 Byte)\n",
      "_________________________________________________________________\n"
     ]
    }
   ],
   "source": [
    "## recompiling it\n",
    "model1.summary()\n",
    "model1.compile(\n",
    "    optimizer=keras.optimizers.SGD(),loss='mean_squared_error',metrics=['mse'])"
   ]
  },
  {
   "cell_type": "code",
   "execution_count": 44,
   "id": "12e64600",
   "metadata": {},
   "outputs": [
    {
     "name": "stdout",
     "output_type": "stream",
     "text": [
      "Epoch 1/10\n",
      "15/15 [==============================] - 1s 24ms/step - loss: 63.3336 - mse: 63.3336 - val_loss: 13.7574 - val_mse: 13.7574\n",
      "Epoch 2/10\n",
      "15/15 [==============================] - 0s 6ms/step - loss: 3.8860 - mse: 3.8860 - val_loss: 1.1921 - val_mse: 1.1921\n",
      "Epoch 3/10\n",
      "15/15 [==============================] - 0s 8ms/step - loss: 1.4727 - mse: 1.4727 - val_loss: 2.6620 - val_mse: 2.6620\n",
      "Epoch 4/10\n",
      "15/15 [==============================] - 0s 7ms/step - loss: 1.2748 - mse: 1.2748 - val_loss: 0.2059 - val_mse: 0.2059\n",
      "Epoch 5/10\n",
      "15/15 [==============================] - 0s 7ms/step - loss: 0.5136 - mse: 0.5136 - val_loss: 0.8732 - val_mse: 0.8732\n",
      "Epoch 6/10\n",
      "15/15 [==============================] - 0s 6ms/step - loss: 0.5006 - mse: 0.5006 - val_loss: 1.0349 - val_mse: 1.0349\n",
      "Epoch 7/10\n",
      "15/15 [==============================] - 0s 6ms/step - loss: 0.3923 - mse: 0.3923 - val_loss: 1.5961 - val_mse: 1.5961\n",
      "Epoch 8/10\n",
      "15/15 [==============================] - 0s 6ms/step - loss: 0.5140 - mse: 0.5140 - val_loss: 0.4332 - val_mse: 0.4332\n",
      "Epoch 9/10\n",
      "15/15 [==============================] - 0s 6ms/step - loss: 0.2884 - mse: 0.2884 - val_loss: 0.1363 - val_mse: 0.1363\n",
      "Epoch 10/10\n",
      "15/15 [==============================] - 0s 6ms/step - loss: 0.2315 - mse: 0.2315 - val_loss: 0.1580 - val_mse: 0.1580\n"
     ]
    },
    {
     "data": {
      "text/plain": [
       "<keras.src.callbacks.History at 0x14be6095f90>"
      ]
     },
     "execution_count": 44,
     "metadata": {},
     "output_type": "execute_result"
    }
   ],
   "source": [
    "## retraining the model\n",
    "model1.fit(X_train,y_train,epochs=10,batch_size=32,validation_data=(X_val,y_val),verbose=1)"
   ]
  },
  {
   "cell_type": "code",
   "execution_count": 45,
   "id": "9d07f0a3",
   "metadata": {},
   "outputs": [],
   "source": [
    "## loss: 0.1592 - mse: 0.1592 - val_loss: 0.2566 - val_mse: 0.2566 --> when no dropout layer\n",
    "## loss: 0.4056 - mse: 0.4056 - val_loss: 0.4126 - val_mse: 0.4126 --> when dropout layer is added"
   ]
  },
  {
   "cell_type": "markdown",
   "id": "8378b4ad",
   "metadata": {},
   "source": [
    "- Inference\n",
    "1. Here we can clearly see in the first case there was clearly a case of  verfitting , by observing the loss and validation loss.\n",
    "2. In the second scenario clearly the validation loss is much better in comparison to the first."
   ]
  },
  {
   "cell_type": "code",
   "execution_count": 46,
   "id": "a8b01416",
   "metadata": {},
   "outputs": [],
   "source": [
    "## results\n",
    "res = pd.DataFrame({\n",
    "    'Training loss':(),\n",
    "    'Validation loss':()\n",
    "})"
   ]
  },
  {
   "cell_type": "code",
   "execution_count": 47,
   "id": "743d74e4",
   "metadata": {},
   "outputs": [
    {
     "data": {
      "text/html": [
       "<div>\n",
       "<style scoped>\n",
       "    .dataframe tbody tr th:only-of-type {\n",
       "        vertical-align: middle;\n",
       "    }\n",
       "\n",
       "    .dataframe tbody tr th {\n",
       "        vertical-align: top;\n",
       "    }\n",
       "\n",
       "    .dataframe thead th {\n",
       "        text-align: right;\n",
       "    }\n",
       "</style>\n",
       "<table border=\"1\" class=\"dataframe\">\n",
       "  <thead>\n",
       "    <tr style=\"text-align: right;\">\n",
       "      <th></th>\n",
       "      <th>Training loss</th>\n",
       "      <th>Validation loss</th>\n",
       "    </tr>\n",
       "  </thead>\n",
       "  <tbody>\n",
       "    <tr>\n",
       "      <th>0</th>\n",
       "      <td>0.1592</td>\n",
       "      <td>0.2566</td>\n",
       "    </tr>\n",
       "  </tbody>\n",
       "</table>\n",
       "</div>"
      ],
      "text/plain": [
       "   Training loss  Validation loss\n",
       "0         0.1592           0.2566"
      ]
     },
     "execution_count": 47,
     "metadata": {},
     "output_type": "execute_result"
    }
   ],
   "source": [
    "res.loc[0] = [0.1592,0.2566]\n",
    "res"
   ]
  },
  {
   "cell_type": "code",
   "execution_count": 48,
   "id": "898c063d",
   "metadata": {},
   "outputs": [
    {
     "data": {
      "text/html": [
       "<div>\n",
       "<style scoped>\n",
       "    .dataframe tbody tr th:only-of-type {\n",
       "        vertical-align: middle;\n",
       "    }\n",
       "\n",
       "    .dataframe tbody tr th {\n",
       "        vertical-align: top;\n",
       "    }\n",
       "\n",
       "    .dataframe thead th {\n",
       "        text-align: right;\n",
       "    }\n",
       "</style>\n",
       "<table border=\"1\" class=\"dataframe\">\n",
       "  <thead>\n",
       "    <tr style=\"text-align: right;\">\n",
       "      <th></th>\n",
       "      <th>Training loss</th>\n",
       "      <th>Validation loss</th>\n",
       "    </tr>\n",
       "  </thead>\n",
       "  <tbody>\n",
       "    <tr>\n",
       "      <th>0</th>\n",
       "      <td>0.1592</td>\n",
       "      <td>0.2566</td>\n",
       "    </tr>\n",
       "    <tr>\n",
       "      <th>1</th>\n",
       "      <td>0.4056</td>\n",
       "      <td>0.4126</td>\n",
       "    </tr>\n",
       "  </tbody>\n",
       "</table>\n",
       "</div>"
      ],
      "text/plain": [
       "   Training loss  Validation loss\n",
       "0         0.1592           0.2566\n",
       "1         0.4056           0.4126"
      ]
     },
     "execution_count": 48,
     "metadata": {},
     "output_type": "execute_result"
    }
   ],
   "source": [
    "res.loc[1] = [0.4056,0.4126]\n",
    "res"
   ]
  },
  {
   "cell_type": "code",
   "execution_count": 49,
   "id": "3d37c0ad",
   "metadata": {},
   "outputs": [
    {
     "data": {
      "text/html": [
       "<div>\n",
       "<style scoped>\n",
       "    .dataframe tbody tr th:only-of-type {\n",
       "        vertical-align: middle;\n",
       "    }\n",
       "\n",
       "    .dataframe tbody tr th {\n",
       "        vertical-align: top;\n",
       "    }\n",
       "\n",
       "    .dataframe thead th {\n",
       "        text-align: right;\n",
       "    }\n",
       "</style>\n",
       "<table border=\"1\" class=\"dataframe\">\n",
       "  <thead>\n",
       "    <tr style=\"text-align: right;\">\n",
       "      <th></th>\n",
       "      <th>Training loss</th>\n",
       "      <th>Validation loss</th>\n",
       "    </tr>\n",
       "  </thead>\n",
       "  <tbody>\n",
       "    <tr>\n",
       "      <th>Without Dropout</th>\n",
       "      <td>0.1592</td>\n",
       "      <td>0.2566</td>\n",
       "    </tr>\n",
       "    <tr>\n",
       "      <th>With Dropout</th>\n",
       "      <td>0.4056</td>\n",
       "      <td>0.4126</td>\n",
       "    </tr>\n",
       "  </tbody>\n",
       "</table>\n",
       "</div>"
      ],
      "text/plain": [
       "                 Training loss  Validation loss\n",
       "Without Dropout         0.1592           0.2566\n",
       "With Dropout            0.4056           0.4126"
      ]
     },
     "execution_count": 49,
     "metadata": {},
     "output_type": "execute_result"
    }
   ],
   "source": [
    "res.index = ['Without Dropout','With Dropout']\n",
    "res"
   ]
  },
  {
   "cell_type": "markdown",
   "id": "d3f33451",
   "metadata": {},
   "source": [
    "### Thus we can say that adding the dropout layer has regularized the model and helped in reducing overfitting."
   ]
  },
  {
   "cell_type": "code",
   "execution_count": 50,
   "id": "bf639eb4",
   "metadata": {},
   "outputs": [],
   "source": [
    "model2 = keras.Sequential(\n",
    "    [\n",
    "      keras.layers.Dense(\n",
    "      10,activation='relu',input_shape=(X_train.shape[-1],)),\n",
    "      keras.layers.Dropout(0.2),\n",
    "      keras.layers.Dense(\n",
    "          10,activation='relu'),\n",
    "      keras.layers.Dense(\n",
    "         5,activation='relu'),\n",
    "      keras.layers.BatchNormalization(),\n",
    "      keras.layers.Dense(1,activation='linear')\n",
    "]\n",
    ")"
   ]
  },
  {
   "cell_type": "code",
   "execution_count": 51,
   "id": "5fea317a",
   "metadata": {},
   "outputs": [],
   "source": [
    "model2.compile(\n",
    "    optimizer=keras.optimizers.SGD(),loss='mean_squared_error',metrics=['mse'])"
   ]
  },
  {
   "cell_type": "code",
   "execution_count": 52,
   "id": "c817678c",
   "metadata": {},
   "outputs": [
    {
     "name": "stdout",
     "output_type": "stream",
     "text": [
      "Epoch 1/10\n",
      "15/15 [==============================] - 1s 22ms/step - loss: 70.3907 - mse: 70.3907 - val_loss: 0.5640 - val_mse: 0.5640\n",
      "Epoch 2/10\n",
      "15/15 [==============================] - 0s 6ms/step - loss: 0.4014 - mse: 0.4014 - val_loss: 0.2658 - val_mse: 0.2658\n",
      "Epoch 3/10\n",
      "15/15 [==============================] - 0s 7ms/step - loss: 0.2954 - mse: 0.2954 - val_loss: 0.4583 - val_mse: 0.4583\n",
      "Epoch 4/10\n",
      "15/15 [==============================] - 0s 6ms/step - loss: 0.2735 - mse: 0.2735 - val_loss: 0.3598 - val_mse: 0.3598\n",
      "Epoch 5/10\n",
      "15/15 [==============================] - 0s 8ms/step - loss: 0.2347 - mse: 0.2347 - val_loss: 0.2280 - val_mse: 0.2280\n",
      "Epoch 6/10\n",
      "15/15 [==============================] - 0s 6ms/step - loss: 0.2224 - mse: 0.2224 - val_loss: 0.1909 - val_mse: 0.1909\n",
      "Epoch 7/10\n",
      "15/15 [==============================] - 0s 7ms/step - loss: 0.2040 - mse: 0.2040 - val_loss: 0.3946 - val_mse: 0.3946\n",
      "Epoch 8/10\n",
      "15/15 [==============================] - 0s 6ms/step - loss: 0.2307 - mse: 0.2307 - val_loss: 0.2214 - val_mse: 0.2214\n",
      "Epoch 9/10\n",
      "15/15 [==============================] - 0s 6ms/step - loss: 0.2061 - mse: 0.2061 - val_loss: 0.2583 - val_mse: 0.2583\n",
      "Epoch 10/10\n",
      "15/15 [==============================] - 0s 6ms/step - loss: 0.2168 - mse: 0.2168 - val_loss: 0.2073 - val_mse: 0.2073\n"
     ]
    },
    {
     "data": {
      "text/plain": [
       "<keras.src.callbacks.History at 0x14beb9c4eb0>"
      ]
     },
     "execution_count": 52,
     "metadata": {},
     "output_type": "execute_result"
    }
   ],
   "source": [
    "## retraining the model\n",
    "model2.fit(X_train,y_train,epochs=10,batch_size=32,validation_data=(X_val,y_val),verbose=1)"
   ]
  },
  {
   "cell_type": "code",
   "execution_count": 53,
   "id": "5eaf89d7",
   "metadata": {},
   "outputs": [
    {
     "data": {
      "text/html": [
       "<div>\n",
       "<style scoped>\n",
       "    .dataframe tbody tr th:only-of-type {\n",
       "        vertical-align: middle;\n",
       "    }\n",
       "\n",
       "    .dataframe tbody tr th {\n",
       "        vertical-align: top;\n",
       "    }\n",
       "\n",
       "    .dataframe thead th {\n",
       "        text-align: right;\n",
       "    }\n",
       "</style>\n",
       "<table border=\"1\" class=\"dataframe\">\n",
       "  <thead>\n",
       "    <tr style=\"text-align: right;\">\n",
       "      <th></th>\n",
       "      <th>Training loss</th>\n",
       "      <th>Validation loss</th>\n",
       "    </tr>\n",
       "  </thead>\n",
       "  <tbody>\n",
       "    <tr>\n",
       "      <th>Without Dropout</th>\n",
       "      <td>0.1592</td>\n",
       "      <td>0.2566</td>\n",
       "    </tr>\n",
       "    <tr>\n",
       "      <th>With Dropout</th>\n",
       "      <td>0.4056</td>\n",
       "      <td>0.4126</td>\n",
       "    </tr>\n",
       "    <tr>\n",
       "      <th>2</th>\n",
       "      <td>0.1946</td>\n",
       "      <td>0.1685</td>\n",
       "    </tr>\n",
       "  </tbody>\n",
       "</table>\n",
       "</div>"
      ],
      "text/plain": [
       "                 Training loss  Validation loss\n",
       "Without Dropout         0.1592           0.2566\n",
       "With Dropout            0.4056           0.4126\n",
       "2                       0.1946           0.1685"
      ]
     },
     "execution_count": 53,
     "metadata": {},
     "output_type": "execute_result"
    }
   ],
   "source": [
    "res.loc[len(res)] = [0.1946,0.1685]\n",
    "res"
   ]
  },
  {
   "cell_type": "code",
   "execution_count": 57,
   "id": "d08e9b3a",
   "metadata": {},
   "outputs": [
    {
     "data": {
      "text/html": [
       "<div>\n",
       "<style scoped>\n",
       "    .dataframe tbody tr th:only-of-type {\n",
       "        vertical-align: middle;\n",
       "    }\n",
       "\n",
       "    .dataframe tbody tr th {\n",
       "        vertical-align: top;\n",
       "    }\n",
       "\n",
       "    .dataframe thead th {\n",
       "        text-align: right;\n",
       "    }\n",
       "</style>\n",
       "<table border=\"1\" class=\"dataframe\">\n",
       "  <thead>\n",
       "    <tr style=\"text-align: right;\">\n",
       "      <th></th>\n",
       "      <th>Training loss</th>\n",
       "      <th>Validation loss</th>\n",
       "    </tr>\n",
       "  </thead>\n",
       "  <tbody>\n",
       "    <tr>\n",
       "      <th>Without Dropout</th>\n",
       "      <td>0.1592</td>\n",
       "      <td>0.2566</td>\n",
       "    </tr>\n",
       "    <tr>\n",
       "      <th>With Dropout</th>\n",
       "      <td>0.4056</td>\n",
       "      <td>0.4126</td>\n",
       "    </tr>\n",
       "    <tr>\n",
       "      <th>After Batch Norm</th>\n",
       "      <td>0.1946</td>\n",
       "      <td>0.1685</td>\n",
       "    </tr>\n",
       "  </tbody>\n",
       "</table>\n",
       "</div>"
      ],
      "text/plain": [
       "                  Training loss  Validation loss\n",
       "Without Dropout          0.1592           0.2566\n",
       "With Dropout             0.4056           0.4126\n",
       "After Batch Norm         0.1946           0.1685"
      ]
     },
     "execution_count": 57,
     "metadata": {},
     "output_type": "execute_result"
    }
   ],
   "source": [
    "res.index = ['Without Dropout','With Dropout','After Batch Norm']\n",
    "res"
   ]
  },
  {
   "cell_type": "markdown",
   "id": "32c2d25c",
   "metadata": {},
   "source": [
    "### Clearly after batch normalization our validation loss has improved and is better than that of the training loss."
   ]
  },
  {
   "cell_type": "code",
   "execution_count": null,
   "id": "e45862b8",
   "metadata": {},
   "outputs": [],
   "source": []
  },
  {
   "cell_type": "code",
   "execution_count": null,
   "id": "54bf23ee",
   "metadata": {},
   "outputs": [],
   "source": []
  }
 ],
 "metadata": {
  "kernelspec": {
   "display_name": "Python 3 (ipykernel)",
   "language": "python",
   "name": "python3"
  },
  "language_info": {
   "codemirror_mode": {
    "name": "ipython",
    "version": 3
   },
   "file_extension": ".py",
   "mimetype": "text/x-python",
   "name": "python",
   "nbconvert_exporter": "python",
   "pygments_lexer": "ipython3",
   "version": "3.10.9"
  }
 },
 "nbformat": 4,
 "nbformat_minor": 5
}
