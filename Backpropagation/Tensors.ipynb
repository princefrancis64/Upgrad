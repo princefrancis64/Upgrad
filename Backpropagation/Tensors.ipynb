{
 "cells": [
  {
   "cell_type": "code",
   "execution_count": 3,
   "id": "cb5b229f",
   "metadata": {},
   "outputs": [
    {
     "name": "stdout",
     "output_type": "stream",
     "text": [
      "Collecting tensorflow\n",
      "  Downloading tensorflow-2.15.0-cp310-cp310-win_amd64.whl (2.1 kB)\n",
      "Collecting tensorflow-intel==2.15.0\n",
      "  Downloading tensorflow_intel-2.15.0-cp310-cp310-win_amd64.whl (300.9 MB)\n",
      "     -------------------------------------- 300.9/300.9 MB 3.8 MB/s eta 0:00:00\n",
      "Collecting protobuf!=4.21.0,!=4.21.1,!=4.21.2,!=4.21.3,!=4.21.4,!=4.21.5,<5.0.0dev,>=3.20.3\n",
      "  Downloading protobuf-4.25.3-cp310-abi3-win_amd64.whl (413 kB)\n",
      "     -------------------------------------- 413.4/413.4 kB 6.4 MB/s eta 0:00:00\n",
      "Collecting opt-einsum>=2.3.2\n",
      "  Downloading opt_einsum-3.3.0-py3-none-any.whl (65 kB)\n",
      "     ---------------------------------------- 65.5/65.5 kB 3.7 MB/s eta 0:00:00\n",
      "Requirement already satisfied: typing-extensions>=3.6.6 in c:\\users\\prince\\anaconda3\\lib\\site-packages (from tensorflow-intel==2.15.0->tensorflow) (4.7.1)\n",
      "Collecting grpcio<2.0,>=1.24.3\n",
      "  Downloading grpcio-1.60.1-cp310-cp310-win_amd64.whl (3.7 MB)\n",
      "     ---------------------------------------- 3.7/3.7 MB 4.9 MB/s eta 0:00:00\n",
      "Requirement already satisfied: numpy<2.0.0,>=1.23.5 in c:\\users\\prince\\anaconda3\\lib\\site-packages (from tensorflow-intel==2.15.0->tensorflow) (1.23.5)\n",
      "Requirement already satisfied: six>=1.12.0 in c:\\users\\prince\\anaconda3\\lib\\site-packages (from tensorflow-intel==2.15.0->tensorflow) (1.15.0)\n",
      "Requirement already satisfied: packaging in c:\\users\\prince\\anaconda3\\lib\\site-packages (from tensorflow-intel==2.15.0->tensorflow) (22.0)\n",
      "Collecting keras<2.16,>=2.15.0\n",
      "  Downloading keras-2.15.0-py3-none-any.whl (1.7 MB)\n",
      "     ---------------------------------------- 1.7/1.7 MB 4.5 MB/s eta 0:00:00\n",
      "Collecting absl-py>=1.0.0\n",
      "  Downloading absl_py-2.1.0-py3-none-any.whl (133 kB)\n",
      "     -------------------------------------- 133.7/133.7 kB 8.2 MB/s eta 0:00:00\n",
      "Collecting ml-dtypes~=0.2.0\n",
      "  Downloading ml_dtypes-0.2.0-cp310-cp310-win_amd64.whl (938 kB)\n",
      "     -------------------------------------- 938.6/938.6 kB 6.6 MB/s eta 0:00:00\n",
      "Collecting gast!=0.5.0,!=0.5.1,!=0.5.2,>=0.2.1\n",
      "  Downloading gast-0.5.4-py3-none-any.whl (19 kB)\n",
      "Collecting tensorflow-io-gcs-filesystem>=0.23.1\n",
      "  Downloading tensorflow_io_gcs_filesystem-0.31.0-cp310-cp310-win_amd64.whl (1.5 MB)\n",
      "     ---------------------------------------- 1.5/1.5 MB 5.2 MB/s eta 0:00:00\n",
      "Collecting astunparse>=1.6.0\n",
      "  Downloading astunparse-1.6.3-py2.py3-none-any.whl (12 kB)\n",
      "Requirement already satisfied: setuptools in c:\\users\\prince\\anaconda3\\lib\\site-packages (from tensorflow-intel==2.15.0->tensorflow) (65.6.3)\n",
      "Collecting google-pasta>=0.1.1\n",
      "  Downloading google_pasta-0.2.0-py3-none-any.whl (57 kB)\n",
      "     ---------------------------------------- 57.5/57.5 kB ? eta 0:00:00\n",
      "Collecting termcolor>=1.1.0\n",
      "  Downloading termcolor-2.4.0-py3-none-any.whl (7.7 kB)\n",
      "Collecting flatbuffers>=23.5.26\n",
      "  Downloading flatbuffers-23.5.26-py2.py3-none-any.whl (26 kB)\n",
      "Requirement already satisfied: h5py>=2.9.0 in c:\\users\\prince\\anaconda3\\lib\\site-packages (from tensorflow-intel==2.15.0->tensorflow) (3.7.0)\n",
      "Collecting tensorflow-estimator<2.16,>=2.15.0\n",
      "  Downloading tensorflow_estimator-2.15.0-py2.py3-none-any.whl (441 kB)\n",
      "     -------------------------------------- 442.0/442.0 kB 5.5 MB/s eta 0:00:00\n",
      "Collecting tensorboard<2.16,>=2.15\n",
      "  Downloading tensorboard-2.15.2-py3-none-any.whl (5.5 MB)\n",
      "     ---------------------------------------- 5.5/5.5 MB 6.3 MB/s eta 0:00:00\n",
      "Requirement already satisfied: wrapt<1.15,>=1.11.0 in c:\\users\\prince\\anaconda3\\lib\\site-packages (from tensorflow-intel==2.15.0->tensorflow) (1.14.1)\n",
      "Collecting libclang>=13.0.0\n",
      "  Downloading libclang-16.0.6-py2.py3-none-win_amd64.whl (24.4 MB)\n",
      "     ---------------------------------------- 24.4/24.4 MB 6.3 MB/s eta 0:00:00\n",
      "Requirement already satisfied: wheel<1.0,>=0.23.0 in c:\\users\\prince\\anaconda3\\lib\\site-packages (from astunparse>=1.6.0->tensorflow-intel==2.15.0->tensorflow) (0.38.4)\n",
      "Collecting google-auth-oauthlib<2,>=0.5\n",
      "  Downloading google_auth_oauthlib-1.2.0-py2.py3-none-any.whl (24 kB)\n",
      "Requirement already satisfied: markdown>=2.6.8 in c:\\users\\prince\\anaconda3\\lib\\site-packages (from tensorboard<2.16,>=2.15->tensorflow-intel==2.15.0->tensorflow) (3.4.1)\n",
      "Requirement already satisfied: requests<3,>=2.21.0 in c:\\users\\prince\\anaconda3\\lib\\site-packages (from tensorboard<2.16,>=2.15->tensorflow-intel==2.15.0->tensorflow) (2.31.0)\n",
      "Collecting tensorboard-data-server<0.8.0,>=0.7.0\n",
      "  Downloading tensorboard_data_server-0.7.2-py3-none-any.whl (2.4 kB)\n",
      "Requirement already satisfied: werkzeug>=1.0.1 in c:\\users\\prince\\anaconda3\\lib\\site-packages (from tensorboard<2.16,>=2.15->tensorflow-intel==2.15.0->tensorflow) (2.0.3)\n",
      "Requirement already satisfied: google-auth<3,>=1.6.3 in c:\\users\\prince\\anaconda3\\lib\\site-packages (from tensorboard<2.16,>=2.15->tensorflow-intel==2.15.0->tensorflow) (2.11.0)\n",
      "Requirement already satisfied: pyasn1-modules>=0.2.1 in c:\\users\\prince\\anaconda3\\lib\\site-packages (from google-auth<3,>=1.6.3->tensorboard<2.16,>=2.15->tensorflow-intel==2.15.0->tensorflow) (0.2.8)\n",
      "Requirement already satisfied: rsa<5,>=3.1.4 in c:\\users\\prince\\anaconda3\\lib\\site-packages (from google-auth<3,>=1.6.3->tensorboard<2.16,>=2.15->tensorflow-intel==2.15.0->tensorflow) (4.9)\n",
      "Requirement already satisfied: cachetools<6.0,>=2.0.0 in c:\\users\\prince\\anaconda3\\lib\\site-packages (from google-auth<3,>=1.6.3->tensorboard<2.16,>=2.15->tensorflow-intel==2.15.0->tensorflow) (4.2.4)\n",
      "Collecting google-auth<3,>=1.6.3\n",
      "  Downloading google_auth-2.28.0-py2.py3-none-any.whl (186 kB)\n",
      "     ------------------------------------- 186.9/186.9 kB 11.0 MB/s eta 0:00:00\n",
      "Collecting requests-oauthlib>=0.7.0\n",
      "  Downloading requests_oauthlib-1.3.1-py2.py3-none-any.whl (23 kB)\n",
      "Requirement already satisfied: urllib3<3,>=1.21.1 in c:\\users\\prince\\anaconda3\\lib\\site-packages (from requests<3,>=2.21.0->tensorboard<2.16,>=2.15->tensorflow-intel==2.15.0->tensorflow) (1.26.12)\n",
      "Requirement already satisfied: charset-normalizer<4,>=2 in c:\\users\\prince\\anaconda3\\lib\\site-packages (from requests<3,>=2.21.0->tensorboard<2.16,>=2.15->tensorflow-intel==2.15.0->tensorflow) (2.0.12)\n",
      "Requirement already satisfied: idna<4,>=2.5 in c:\\users\\prince\\anaconda3\\lib\\site-packages (from requests<3,>=2.21.0->tensorboard<2.16,>=2.15->tensorflow-intel==2.15.0->tensorflow) (2.10)\n",
      "Requirement already satisfied: certifi>=2017.4.17 in c:\\users\\prince\\anaconda3\\lib\\site-packages (from requests<3,>=2.21.0->tensorboard<2.16,>=2.15->tensorflow-intel==2.15.0->tensorflow) (2021.5.30)\n",
      "Requirement already satisfied: pyasn1<0.5.0,>=0.4.6 in c:\\users\\prince\\anaconda3\\lib\\site-packages (from pyasn1-modules>=0.2.1->google-auth<3,>=1.6.3->tensorboard<2.16,>=2.15->tensorflow-intel==2.15.0->tensorflow) (0.4.8)\n",
      "Collecting oauthlib>=3.0.0\n",
      "  Downloading oauthlib-3.2.2-py3-none-any.whl (151 kB)\n",
      "     -------------------------------------- 151.7/151.7 kB 8.8 MB/s eta 0:00:00\n",
      "Installing collected packages: libclang, flatbuffers, termcolor, tensorflow-io-gcs-filesystem, tensorflow-estimator, tensorboard-data-server, protobuf, opt-einsum, oauthlib, ml-dtypes, keras, grpcio, google-pasta, gast, astunparse, absl-py, requests-oauthlib, google-auth, google-auth-oauthlib, tensorboard, tensorflow-intel, tensorflow\n",
      "  Attempting uninstall: protobuf\n",
      "    Found existing installation: protobuf 3.19.4\n",
      "    Uninstalling protobuf-3.19.4:\n",
      "      Successfully uninstalled protobuf-3.19.4\n",
      "  Attempting uninstall: google-auth\n",
      "    Found existing installation: google-auth 2.11.0\n",
      "    Uninstalling google-auth-2.11.0:\n",
      "      Successfully uninstalled google-auth-2.11.0\n",
      "Successfully installed absl-py-2.1.0 astunparse-1.6.3 flatbuffers-23.5.26 gast-0.5.4 google-auth-2.28.0 google-auth-oauthlib-1.2.0 google-pasta-0.2.0 grpcio-1.60.1 keras-2.15.0 libclang-16.0.6 ml-dtypes-0.2.0 oauthlib-3.2.2 opt-einsum-3.3.0 protobuf-4.25.3 requests-oauthlib-1.3.1 tensorboard-2.15.2 tensorboard-data-server-0.7.2 tensorflow-2.15.0 tensorflow-estimator-2.15.0 tensorflow-intel-2.15.0 tensorflow-io-gcs-filesystem-0.31.0 termcolor-2.4.0\n"
     ]
    },
    {
     "name": "stderr",
     "output_type": "stream",
     "text": [
      "ERROR: pip's dependency resolver does not currently take into account all the packages that are installed. This behaviour is the source of the following dependency conflicts.\n",
      "mysql-connector-python 8.1.0 requires protobuf<=4.21.12,>=4.21.1, but you have protobuf 4.25.3 which is incompatible.\n"
     ]
    }
   ],
   "source": [
    "!pip install tensorflow"
   ]
  },
  {
   "cell_type": "code",
   "execution_count": 14,
   "id": "10d1bbfc",
   "metadata": {},
   "outputs": [
    {
     "name": "stdout",
     "output_type": "stream",
     "text": [
      "WARNING:tensorflow:From C:\\Users\\Prince\\anaconda3\\lib\\site-packages\\keras\\src\\losses.py:2976: The name tf.losses.sparse_softmax_cross_entropy is deprecated. Please use tf.compat.v1.losses.sparse_softmax_cross_entropy instead.\n",
      "\n"
     ]
    }
   ],
   "source": [
    "import tensorflow as tf\n",
    "import numpy as np"
   ]
  },
  {
   "cell_type": "code",
   "execution_count": 7,
   "id": "85ebd1d1",
   "metadata": {},
   "outputs": [
    {
     "name": "stdout",
     "output_type": "stream",
     "text": [
      "Using TensorFlow version: 2.15.0\n"
     ]
    }
   ],
   "source": [
    "## check the current version of TensorFlow\n",
    "print(\"Using TensorFlow version:\", tf.__version__)"
   ]
  },
  {
   "cell_type": "markdown",
   "id": "0853a801",
   "metadata": {},
   "source": [
    "### 1. Tensors of different Ranks"
   ]
  },
  {
   "cell_type": "code",
   "execution_count": 9,
   "id": "b8f84e1f",
   "metadata": {},
   "outputs": [
    {
     "name": "stdout",
     "output_type": "stream",
     "text": [
      "Shapes: (5,) (5,)\n"
     ]
    }
   ],
   "source": [
    "## A vector is a 1-dimensional tensor\n",
    "\n",
    "##Vector in TensorFlow\n",
    "vector_tf = tf.constant([0,1,2,3,4])\n",
    "\n",
    "## Vector in numpy\n",
    "vector_np = np.array([0,1,2,3,4])\n",
    "\n",
    "print(\"Shapes:\",vector_tf.shape,vector_np.shape)"
   ]
  },
  {
   "cell_type": "code",
   "execution_count": 12,
   "id": "7e60e39e",
   "metadata": {},
   "outputs": [
    {
     "name": "stdout",
     "output_type": "stream",
     "text": [
      "Shapes: (3, 2) (3, 2)\n"
     ]
    }
   ],
   "source": [
    "## A matrix is a 2-dimensional array\n",
    "\n",
    "# Matrix in TensorFlow\n",
    "matrix_tf = tf.constant([[0,1],[2,3],[4,5]])\n",
    "\n",
    "## Matrix in numpy\n",
    "matrix_np = np.array([[0,1],[2,3],[4,5]])\n",
    "\n",
    "print(\"Shapes:\",matrix_tf.shape,matrix_np.shape)"
   ]
  },
  {
   "cell_type": "code",
   "execution_count": 14,
   "id": "7e68889f",
   "metadata": {},
   "outputs": [
    {
     "name": "stdout",
     "output_type": "stream",
     "text": [
      "Shapes: (5, 3, 2) (5, 3, 2)\n"
     ]
    }
   ],
   "source": [
    "## 3-dimension in tensorflow\n",
    "\n",
    "t3_tf = tf.constant([[[0,1],[2,3],[4,5]]]*5)\n",
    "\n",
    "# 3-d matrix in Numpy\n",
    "t3_np = np.array([[[0,1],[2,3],[4,5]]]*5)\n",
    "\n",
    "print(\"Shapes:\",t3_tf.shape,t3_np.shape)"
   ]
  },
  {
   "cell_type": "code",
   "execution_count": 15,
   "id": "b76d7e3c",
   "metadata": {},
   "outputs": [
    {
     "data": {
      "text/plain": [
       "<tf.Tensor: shape=(5, 3, 2), dtype=int32, numpy=\n",
       "array([[[0, 1],\n",
       "        [2, 3],\n",
       "        [4, 5]],\n",
       "\n",
       "       [[0, 1],\n",
       "        [2, 3],\n",
       "        [4, 5]],\n",
       "\n",
       "       [[0, 1],\n",
       "        [2, 3],\n",
       "        [4, 5]],\n",
       "\n",
       "       [[0, 1],\n",
       "        [2, 3],\n",
       "        [4, 5]],\n",
       "\n",
       "       [[0, 1],\n",
       "        [2, 3],\n",
       "        [4, 5]]])>"
      ]
     },
     "execution_count": 15,
     "metadata": {},
     "output_type": "execute_result"
    }
   ],
   "source": [
    "t3_tf"
   ]
  },
  {
   "cell_type": "code",
   "execution_count": 18,
   "id": "f52d9ad1",
   "metadata": {},
   "outputs": [
    {
     "data": {
      "text/plain": [
       "<tf.Tensor: shape=(5, 3, 2), dtype=float32, numpy=\n",
       "array([[[0., 1.],\n",
       "        [2., 3.],\n",
       "        [4., 5.]],\n",
       "\n",
       "       [[0., 1.],\n",
       "        [2., 3.],\n",
       "        [4., 5.]],\n",
       "\n",
       "       [[0., 1.],\n",
       "        [2., 3.],\n",
       "        [4., 5.]],\n",
       "\n",
       "       [[0., 1.],\n",
       "        [2., 3.],\n",
       "        [4., 5.]],\n",
       "\n",
       "       [[0., 1.],\n",
       "        [2., 3.],\n",
       "        [4., 5.]]], dtype=float32)>"
      ]
     },
     "execution_count": 18,
     "metadata": {},
     "output_type": "execute_result"
    }
   ],
   "source": [
    "t3_tf2 = tf.constant([[[0.,1.],[2,3],[4,5]]]*5)\n",
    "t3_tf2"
   ]
  },
  {
   "cell_type": "code",
   "execution_count": 19,
   "id": "08ff4c2a",
   "metadata": {},
   "outputs": [
    {
     "data": {
      "text/plain": [
       "<tf.Variable 'Variable:0' shape=(5, 3, 2) dtype=float32, numpy=\n",
       "array([[[0., 1.],\n",
       "        [2., 3.],\n",
       "        [4., 5.]],\n",
       "\n",
       "       [[0., 1.],\n",
       "        [2., 3.],\n",
       "        [4., 5.]],\n",
       "\n",
       "       [[0., 1.],\n",
       "        [2., 3.],\n",
       "        [4., 5.]],\n",
       "\n",
       "       [[0., 1.],\n",
       "        [2., 3.],\n",
       "        [4., 5.]],\n",
       "\n",
       "       [[0., 1.],\n",
       "        [2., 3.],\n",
       "        [4., 5.]]], dtype=float32)>"
      ]
     },
     "execution_count": 19,
     "metadata": {},
     "output_type": "execute_result"
    }
   ],
   "source": [
    "t3_tf3 = tf.Variable([[[0.,1.],[2,3],[4,5]]]*5)\n",
    "t3_tf3"
   ]
  },
  {
   "cell_type": "code",
   "execution_count": 24,
   "id": "6265a369",
   "metadata": {},
   "outputs": [
    {
     "data": {
      "text/plain": [
       "tensorflow.python.framework.ops.EagerTensor"
      ]
     },
     "execution_count": 24,
     "metadata": {},
     "output_type": "execute_result"
    }
   ],
   "source": [
    "p = tf.constant([1,2,3])\n",
    "p.shape\n",
    "type(p)"
   ]
  },
  {
   "cell_type": "code",
   "execution_count": 21,
   "id": "534a7d01",
   "metadata": {},
   "outputs": [
    {
     "data": {
      "text/plain": [
       "1"
      ]
     },
     "execution_count": 21,
     "metadata": {},
     "output_type": "execute_result"
    }
   ],
   "source": [
    "p.ndim"
   ]
  },
  {
   "cell_type": "code",
   "execution_count": 26,
   "id": "5f3e9cef",
   "metadata": {},
   "outputs": [
    {
     "ename": "TypeError",
     "evalue": "constant() missing 1 required positional argument: 'value'",
     "output_type": "error",
     "traceback": [
      "\u001b[1;31m---------------------------------------------------------------------------\u001b[0m",
      "\u001b[1;31mTypeError\u001b[0m                                 Traceback (most recent call last)",
      "Cell \u001b[1;32mIn[26], line 1\u001b[0m\n\u001b[1;32m----> 1\u001b[0m p \u001b[38;5;241m=\u001b[39m \u001b[43mtf\u001b[49m\u001b[38;5;241;43m.\u001b[39;49m\u001b[43mconstant\u001b[49m\u001b[43m(\u001b[49m\u001b[43m)\u001b[49m\n\u001b[0;32m      2\u001b[0m q \u001b[38;5;241m=\u001b[39m tf\u001b[38;5;241m.\u001b[39mconstant([\u001b[38;5;241m1\u001b[39m,\u001b[38;5;241m3\u001b[39m])\n\u001b[0;32m      3\u001b[0m p \u001b[38;5;241m=\u001b[39m q\u001b[38;5;241m+\u001b[39m\u001b[38;5;241m1\u001b[39m\n",
      "File \u001b[1;32m~\\anaconda3\\lib\\site-packages\\tensorflow\\python\\ops\\weak_tensor_ops.py:142\u001b[0m, in \u001b[0;36mweak_tensor_binary_op_wrapper.<locals>.wrapper\u001b[1;34m(*args, **kwargs)\u001b[0m\n\u001b[0;32m    140\u001b[0m \u001b[38;5;28;01mdef\u001b[39;00m \u001b[38;5;21mwrapper\u001b[39m(\u001b[38;5;241m*\u001b[39margs, \u001b[38;5;241m*\u001b[39m\u001b[38;5;241m*\u001b[39mkwargs):\n\u001b[0;32m    141\u001b[0m   \u001b[38;5;28;01mif\u001b[39;00m \u001b[38;5;129;01mnot\u001b[39;00m ops\u001b[38;5;241m.\u001b[39mis_auto_dtype_conversion_enabled():\n\u001b[1;32m--> 142\u001b[0m     \u001b[38;5;28;01mreturn\u001b[39;00m op(\u001b[38;5;241m*\u001b[39margs, \u001b[38;5;241m*\u001b[39m\u001b[38;5;241m*\u001b[39mkwargs)\n\u001b[0;32m    143\u001b[0m   bound_arguments \u001b[38;5;241m=\u001b[39m signature\u001b[38;5;241m.\u001b[39mbind(\u001b[38;5;241m*\u001b[39margs, \u001b[38;5;241m*\u001b[39m\u001b[38;5;241m*\u001b[39mkwargs)\n\u001b[0;32m    144\u001b[0m   bound_arguments\u001b[38;5;241m.\u001b[39mapply_defaults()\n",
      "\u001b[1;31mTypeError\u001b[0m: constant() missing 1 required positional argument: 'value'"
     ]
    }
   ],
   "source": [
    "p = tf.constant()\n",
    "q = tf.constant([1,3])\n",
    "p = q+1"
   ]
  },
  {
   "cell_type": "code",
   "execution_count": 25,
   "id": "6e0b4231",
   "metadata": {},
   "outputs": [
    {
     "ename": "TypeError",
     "evalue": "constant() missing 1 required positional argument: 'value'",
     "output_type": "error",
     "traceback": [
      "\u001b[1;31m---------------------------------------------------------------------------\u001b[0m",
      "\u001b[1;31mTypeError\u001b[0m                                 Traceback (most recent call last)",
      "Cell \u001b[1;32mIn[25], line 1\u001b[0m\n\u001b[1;32m----> 1\u001b[0m p \u001b[38;5;241m=\u001b[39m \u001b[43mtf\u001b[49m\u001b[38;5;241;43m.\u001b[39;49m\u001b[43mconstant\u001b[49m\u001b[43m(\u001b[49m\u001b[43m)\u001b[49m\n\u001b[0;32m      2\u001b[0m p \u001b[38;5;241m=\u001b[39m [\u001b[38;5;241m1\u001b[39m,\u001b[38;5;241m3\u001b[39m]\n\u001b[0;32m      3\u001b[0m p\n",
      "File \u001b[1;32m~\\anaconda3\\lib\\site-packages\\tensorflow\\python\\ops\\weak_tensor_ops.py:142\u001b[0m, in \u001b[0;36mweak_tensor_binary_op_wrapper.<locals>.wrapper\u001b[1;34m(*args, **kwargs)\u001b[0m\n\u001b[0;32m    140\u001b[0m \u001b[38;5;28;01mdef\u001b[39;00m \u001b[38;5;21mwrapper\u001b[39m(\u001b[38;5;241m*\u001b[39margs, \u001b[38;5;241m*\u001b[39m\u001b[38;5;241m*\u001b[39mkwargs):\n\u001b[0;32m    141\u001b[0m   \u001b[38;5;28;01mif\u001b[39;00m \u001b[38;5;129;01mnot\u001b[39;00m ops\u001b[38;5;241m.\u001b[39mis_auto_dtype_conversion_enabled():\n\u001b[1;32m--> 142\u001b[0m     \u001b[38;5;28;01mreturn\u001b[39;00m op(\u001b[38;5;241m*\u001b[39margs, \u001b[38;5;241m*\u001b[39m\u001b[38;5;241m*\u001b[39mkwargs)\n\u001b[0;32m    143\u001b[0m   bound_arguments \u001b[38;5;241m=\u001b[39m signature\u001b[38;5;241m.\u001b[39mbind(\u001b[38;5;241m*\u001b[39margs, \u001b[38;5;241m*\u001b[39m\u001b[38;5;241m*\u001b[39mkwargs)\n\u001b[0;32m    144\u001b[0m   bound_arguments\u001b[38;5;241m.\u001b[39mapply_defaults()\n",
      "\u001b[1;31mTypeError\u001b[0m: constant() missing 1 required positional argument: 'value'"
     ]
    }
   ],
   "source": [
    "p = tf.constant()\n",
    "p = [1,3]\n",
    "p"
   ]
  },
  {
   "cell_type": "markdown",
   "id": "b0340639",
   "metadata": {},
   "source": [
    "### 2. Two ways of declaring tensors"
   ]
  },
  {
   "cell_type": "code",
   "execution_count": 3,
   "id": "663e2394",
   "metadata": {},
   "outputs": [],
   "source": [
    "#Two Types of tensors: tf.constant and tf.Variable\n",
    "const_tensor = tf.constant([[1,2,3],[4,5,6]])\n",
    "var_tensor = tf.Variable([[1,2,3],[4,5,6]])"
   ]
  },
  {
   "cell_type": "code",
   "execution_count": 4,
   "id": "fca16470",
   "metadata": {},
   "outputs": [],
   "source": [
    "## Declaring tensors with specific datatypes\n",
    "int32_tensor = tf.Variable([[1,2,3],[4,5,6]],dtype=tf.int32)\n",
    "float32_tensor = tf.Variable([[1,2,3],[4,5,6]],dtype = tf.float32)\n",
    "bool_tensor = tf.Variable([True,False,False],dtype=tf.bool)"
   ]
  },
  {
   "cell_type": "code",
   "execution_count": 5,
   "id": "6787f537",
   "metadata": {},
   "outputs": [
    {
     "name": "stdout",
     "output_type": "stream",
     "text": [
      "Int32 tensor: <tf.Variable 'Variable:0' shape=(2, 3) dtype=int32, numpy=\n",
      "array([[1, 2, 3],\n",
      "       [4, 5, 6]])>\n",
      "Float32 tensor: <tf.Variable 'Variable:0' shape=(2, 3) dtype=float32, numpy=\n",
      "array([[1., 2., 3.],\n",
      "       [4., 5., 6.]], dtype=float32)>\n",
      "Boolean tensor: <tf.Variable 'Variable:0' shape=(3,) dtype=bool, numpy=array([ True, False, False])>\n"
     ]
    }
   ],
   "source": [
    "print(\"Int32 tensor:\",int32_tensor)\n",
    "print(\"Float32 tensor:\",float32_tensor)\n",
    "print(\"Boolean tensor:\",bool_tensor)"
   ]
  },
  {
   "cell_type": "code",
   "execution_count": 6,
   "id": "6202295a",
   "metadata": {},
   "outputs": [
    {
     "data": {
      "text/plain": [
       "array([[1, 2, 3],\n",
       "       [4, 5, 6]])"
      ]
     },
     "execution_count": 6,
     "metadata": {},
     "output_type": "execute_result"
    }
   ],
   "source": [
    "## Contents of the tensor as a numpy array\n",
    "int32_tensor.numpy()"
   ]
  },
  {
   "cell_type": "code",
   "execution_count": 7,
   "id": "5d2ef748",
   "metadata": {},
   "outputs": [
    {
     "data": {
      "text/plain": [
       "tensorflow.python.ops.resource_variable_ops.ResourceVariable"
      ]
     },
     "execution_count": 7,
     "metadata": {},
     "output_type": "execute_result"
    }
   ],
   "source": [
    "type(int32_tensor)"
   ]
  },
  {
   "cell_type": "code",
   "execution_count": 8,
   "id": "14fc0afc",
   "metadata": {},
   "outputs": [
    {
     "data": {
      "text/plain": [
       "<tf.Variable 'Variable:0' shape=(3,) dtype=bool, numpy=array([ True, False, False])>"
      ]
     },
     "execution_count": 8,
     "metadata": {},
     "output_type": "execute_result"
    }
   ],
   "source": [
    "##tf.variable automatically infers the datatype\n",
    "var = tf.Variable([True,False,False])\n",
    "var"
   ]
  },
  {
   "cell_type": "markdown",
   "id": "33cc739d",
   "metadata": {},
   "source": [
    "### Question:\n",
    "- Declare a tensor of shape(2,2,2,2) with random numbers from normal distribution whose mean is 1 and the standard deviation is also 1."
   ]
  },
  {
   "cell_type": "code",
   "execution_count": 13,
   "id": "45416db2",
   "metadata": {},
   "outputs": [
    {
     "name": "stdout",
     "output_type": "stream",
     "text": [
      "(2, 2, 2, 2)\n",
      "[[[[ 0.66390264 -0.44666887]\n",
      "   [-0.59764817  0.16094347]]\n",
      "\n",
      "  [[-1.73054628 -0.61050163]\n",
      "   [-1.22075675 -0.56248108]]]\n",
      "\n",
      "\n",
      " [[[ 0.052072    0.67538323]\n",
      "   [ 1.7729418  -0.06037426]]\n",
      "\n",
      "  [[ 0.70828325  0.91828843]\n",
      "   [-1.23182624 -1.35601157]]]]\n"
     ]
    }
   ],
   "source": [
    "# Approach 1 - initialize the nd array in Numpy and then use that to initialize the tensor.\n",
    "arr  = np.random.randn(2,2,2,2)  ## returns random numbers from standard normal distribution -mean=0,std=1\n",
    "print(arr.shape)\n",
    "print(arr)"
   ]
  },
  {
   "cell_type": "code",
   "execution_count": 14,
   "id": "89bff03a",
   "metadata": {},
   "outputs": [
    {
     "name": "stdout",
     "output_type": "stream",
     "text": [
      "tf.Tensor(\n",
      "[[[[ 1.66390264  0.55333113]\n",
      "   [ 0.40235183  1.16094347]]\n",
      "\n",
      "  [[-0.73054628  0.38949837]\n",
      "   [-0.22075675  0.43751892]]]\n",
      "\n",
      "\n",
      " [[[ 1.052072    1.67538323]\n",
      "   [ 2.7729418   0.93962574]]\n",
      "\n",
      "  [[ 1.70828325  1.91828843]\n",
      "   [-0.23182624 -0.35601157]]]], shape=(2, 2, 2, 2), dtype=float64)\n"
     ]
    }
   ],
   "source": [
    "arr  = arr+1 ## adding 1 makes the random numbers from normal distribution where mean=1\n",
    "## to change the standard deviation suppose 2.5 we would have to multiply it with that number\n",
    "## arr = 2.5*(arr+1)\n",
    "arr_tf = tf.constant(arr)\n",
    "print(arr_tf)"
   ]
  },
  {
   "cell_type": "code",
   "execution_count": 15,
   "id": "4d58344f",
   "metadata": {},
   "outputs": [
    {
     "name": "stdout",
     "output_type": "stream",
     "text": [
      "<class 'numpy.ndarray'>\n"
     ]
    }
   ],
   "source": [
    "print(type(arr_tf.numpy()))"
   ]
  },
  {
   "cell_type": "code",
   "execution_count": 16,
   "id": "1266bb1b",
   "metadata": {},
   "outputs": [
    {
     "name": "stdout",
     "output_type": "stream",
     "text": [
      "(2, 2, 2, 2)\n",
      "[[[[ 0.402516    0.7272959 ]\n",
      "   [ 1.2723261  -0.51415753]]\n",
      "\n",
      "  [[ 2.8986485   0.91074634]\n",
      "   [ 1.8850359   1.6823676 ]]]\n",
      "\n",
      "\n",
      " [[[ 0.7768822   0.23124278]\n",
      "   [-0.50564706 -0.9303099 ]]\n",
      "\n",
      "  [[ 1.6784348   0.4679376 ]\n",
      "   [ 1.9728832   2.022736  ]]]]\n"
     ]
    }
   ],
   "source": [
    "## Approach 2- using random number generating functions from Tensorflow\n",
    "arr_tf = tf.random.normal((2,2,2,2),mean=1,stddev=1,name=\"my_tensor\")\n",
    "print(arr_tf.shape)\n",
    "print(arr_tf.numpy())"
   ]
  },
  {
   "cell_type": "markdown",
   "id": "b54b6bcc",
   "metadata": {},
   "source": [
    "### 3. Common mathematical operations on tensors"
   ]
  },
  {
   "cell_type": "code",
   "execution_count": 17,
   "id": "ce0a3641",
   "metadata": {},
   "outputs": [
    {
     "name": "stdout",
     "output_type": "stream",
     "text": [
      "x: <tf.Variable 'Variable:0' shape=(5, 5) dtype=int32, numpy=\n",
      "array([[0, 1, 2, 3, 4],\n",
      "       [0, 1, 2, 3, 4],\n",
      "       [0, 1, 2, 3, 4],\n",
      "       [0, 1, 2, 3, 4],\n",
      "       [0, 1, 2, 3, 4]])>\n",
      "y: <tf.Variable 'Variable:0' shape=(5, 5) dtype=int32, numpy=\n",
      "array([[5, 6, 7, 8, 9],\n",
      "       [5, 6, 7, 8, 9],\n",
      "       [5, 6, 7, 8, 9],\n",
      "       [5, 6, 7, 8, 9],\n",
      "       [5, 6, 7, 8, 9]])>\n"
     ]
    }
   ],
   "source": [
    "## Let us define two tensors\n",
    "x  = tf.Variable([list(range(5))]*5)  ## 2D tensor of shape(5,5)\n",
    "y = tf.Variable([list(range(5,10))]*5)  #2D tensor of shape(5,5)\n",
    "print(\"x:\",x)\n",
    "print(\"y:\",y)"
   ]
  },
  {
   "cell_type": "code",
   "execution_count": 21,
   "id": "8de69219",
   "metadata": {},
   "outputs": [
    {
     "name": "stdout",
     "output_type": "stream",
     "text": [
      "z: tf.Tensor(\n",
      "[[ 5  7  9 11 13]\n",
      " [ 5  7  9 11 13]\n",
      " [ 5  7  9 11 13]\n",
      " [ 5  7  9 11 13]\n",
      " [ 5  7  9 11 13]], shape=(5, 5), dtype=int32)\n",
      "w: tf.Tensor(\n",
      "[[ 0  6 14 24 36]\n",
      " [ 0  6 14 24 36]\n",
      " [ 0  6 14 24 36]\n",
      " [ 0  6 14 24 36]\n",
      " [ 0  6 14 24 36]], shape=(5, 5), dtype=int32)\n",
      "v: tf.Tensor(\n",
      "[[       inf 6.         3.5        2.66666667 2.25      ]\n",
      " [       inf 6.         3.5        2.66666667 2.25      ]\n",
      " [       inf 6.         3.5        2.66666667 2.25      ]\n",
      " [       inf 6.         3.5        2.66666667 2.25      ]\n",
      " [       inf 6.         3.5        2.66666667 2.25      ]], shape=(5, 5), dtype=float64)\n"
     ]
    }
   ],
   "source": [
    "### Simple mathematical operations two tensors\n",
    "z = x+y  ## element-wise addition\n",
    "print(\"z:\",z)\n",
    "\n",
    "w = x*y  ## element-wise multiplication\n",
    "print(\"w:\",w)  ## This is not matrix multiplication and only element wise mul\n",
    "\n",
    "v = y/x  ## element-wise division does not raise exception for division by 0 as Tensorflow supports inf and NAN types\n",
    "print(\"v:\",v)"
   ]
  },
  {
   "cell_type": "code",
   "execution_count": 24,
   "id": "01cfd21c",
   "metadata": {},
   "outputs": [
    {
     "name": "stdout",
     "output_type": "stream",
     "text": [
      "tf.Tensor(\n",
      "[[ True  True  True  True  True]\n",
      " [ True  True  True  True  True]\n",
      " [ True  True  True  True  True]\n",
      " [ True  True  True  True  True]\n",
      " [ True  True  True  True  True]], shape=(5, 5), dtype=bool)\n",
      "tf.Tensor(\n",
      "[[ True  True  True  True  True]\n",
      " [ True  True  True  True  True]\n",
      " [ True  True  True  True  True]\n",
      " [ True  True  True  True  True]\n",
      " [ True  True  True  True  True]], shape=(5, 5), dtype=bool)\n",
      "tf.Tensor(\n",
      "[[ True  True  True  True  True]\n",
      " [ True  True  True  True  True]\n",
      " [ True  True  True  True  True]\n",
      " [ True  True  True  True  True]\n",
      " [ True  True  True  True  True]], shape=(5, 5), dtype=bool)\n"
     ]
    }
   ],
   "source": [
    "## Alternatively use Tensorflow functions for the mathematical operations\n",
    "a = tf.add(x,y)\n",
    "print(a==z)\n",
    "\n",
    "b = tf.multiply(x,y)\n",
    "print(b==w)\n",
    "\n",
    "c = tf.divide(y,x)\n",
    "print(c==v)"
   ]
  },
  {
   "cell_type": "markdown",
   "id": "0fc75eff",
   "metadata": {},
   "source": [
    "### Note that element-wise operations do not work if tensors are of different shapes or cannot be broadcasted"
   ]
  },
  {
   "cell_type": "code",
   "execution_count": 25,
   "id": "27c02dfc",
   "metadata": {},
   "outputs": [
    {
     "name": "stdout",
     "output_type": "stream",
     "text": [
      "Before transpose: <tf.Variable 'Variable:0' shape=(5, 3) dtype=int32, numpy=\n",
      "array([[ 0,  1,  2],\n",
      "       [ 3,  4,  5],\n",
      "       [ 6,  7,  8],\n",
      "       [ 9, 10, 11],\n",
      "       [12, 13, 14]])>\n",
      "After transpose: tf.Tensor(\n",
      "[[ 0  3  6  9 12]\n",
      " [ 1  4  7 10 13]\n",
      " [ 2  5  8 11 14]], shape=(3, 5), dtype=int32)\n"
     ]
    }
   ],
   "source": [
    "## transpose of tensors\n",
    "y = tf.Variable([[0,1,2],[3,4,5],[6,7,8],[9,10,11],[12,13,14]])\n",
    "z = tf.transpose(y)\n",
    "\n",
    "print(\"Before transpose:\",y)\n",
    "print(\"After transpose:\",z)"
   ]
  },
  {
   "cell_type": "code",
   "execution_count": 26,
   "id": "aef4fbad",
   "metadata": {},
   "outputs": [
    {
     "ename": "InvalidArgumentError",
     "evalue": "{{function_node __wrapped__AddV2_device_/job:localhost/replica:0/task:0/device:CPU:0}} Incompatible shapes: [5,3] vs. [3,5] [Op:AddV2] name: ",
     "output_type": "error",
     "traceback": [
      "\u001b[1;31m---------------------------------------------------------------------------\u001b[0m",
      "\u001b[1;31mInvalidArgumentError\u001b[0m                      Traceback (most recent call last)",
      "Cell \u001b[1;32mIn[26], line 2\u001b[0m\n\u001b[0;32m      1\u001b[0m \u001b[38;5;66;03m## Doing element wise operation\u001b[39;00m\n\u001b[1;32m----> 2\u001b[0m a \u001b[38;5;241m=\u001b[39m \u001b[43mtf\u001b[49m\u001b[38;5;241;43m.\u001b[39;49m\u001b[43madd\u001b[49m\u001b[43m(\u001b[49m\u001b[43my\u001b[49m\u001b[43m,\u001b[49m\u001b[43mz\u001b[49m\u001b[43m)\u001b[49m\n",
      "File \u001b[1;32m~\\anaconda3\\lib\\site-packages\\tensorflow\\python\\ops\\weak_tensor_ops.py:142\u001b[0m, in \u001b[0;36mweak_tensor_binary_op_wrapper.<locals>.wrapper\u001b[1;34m(*args, **kwargs)\u001b[0m\n\u001b[0;32m    140\u001b[0m \u001b[38;5;28;01mdef\u001b[39;00m \u001b[38;5;21mwrapper\u001b[39m(\u001b[38;5;241m*\u001b[39margs, \u001b[38;5;241m*\u001b[39m\u001b[38;5;241m*\u001b[39mkwargs):\n\u001b[0;32m    141\u001b[0m   \u001b[38;5;28;01mif\u001b[39;00m \u001b[38;5;129;01mnot\u001b[39;00m ops\u001b[38;5;241m.\u001b[39mis_auto_dtype_conversion_enabled():\n\u001b[1;32m--> 142\u001b[0m     \u001b[38;5;28;01mreturn\u001b[39;00m op(\u001b[38;5;241m*\u001b[39margs, \u001b[38;5;241m*\u001b[39m\u001b[38;5;241m*\u001b[39mkwargs)\n\u001b[0;32m    143\u001b[0m   bound_arguments \u001b[38;5;241m=\u001b[39m signature\u001b[38;5;241m.\u001b[39mbind(\u001b[38;5;241m*\u001b[39margs, \u001b[38;5;241m*\u001b[39m\u001b[38;5;241m*\u001b[39mkwargs)\n\u001b[0;32m    144\u001b[0m   bound_arguments\u001b[38;5;241m.\u001b[39mapply_defaults()\n",
      "File \u001b[1;32m~\\anaconda3\\lib\\site-packages\\tensorflow\\python\\util\\traceback_utils.py:153\u001b[0m, in \u001b[0;36mfilter_traceback.<locals>.error_handler\u001b[1;34m(*args, **kwargs)\u001b[0m\n\u001b[0;32m    151\u001b[0m \u001b[38;5;28;01mexcept\u001b[39;00m \u001b[38;5;167;01mException\u001b[39;00m \u001b[38;5;28;01mas\u001b[39;00m e:\n\u001b[0;32m    152\u001b[0m   filtered_tb \u001b[38;5;241m=\u001b[39m _process_traceback_frames(e\u001b[38;5;241m.\u001b[39m__traceback__)\n\u001b[1;32m--> 153\u001b[0m   \u001b[38;5;28;01mraise\u001b[39;00m e\u001b[38;5;241m.\u001b[39mwith_traceback(filtered_tb) \u001b[38;5;28;01mfrom\u001b[39;00m \u001b[38;5;28mNone\u001b[39m\n\u001b[0;32m    154\u001b[0m \u001b[38;5;28;01mfinally\u001b[39;00m:\n\u001b[0;32m    155\u001b[0m   \u001b[38;5;28;01mdel\u001b[39;00m filtered_tb\n",
      "File \u001b[1;32m~\\anaconda3\\lib\\site-packages\\tensorflow\\python\\framework\\ops.py:5883\u001b[0m, in \u001b[0;36mraise_from_not_ok_status\u001b[1;34m(e, name)\u001b[0m\n\u001b[0;32m   5881\u001b[0m \u001b[38;5;28;01mdef\u001b[39;00m \u001b[38;5;21mraise_from_not_ok_status\u001b[39m(e, name) \u001b[38;5;241m-\u001b[39m\u001b[38;5;241m>\u001b[39m NoReturn:\n\u001b[0;32m   5882\u001b[0m   e\u001b[38;5;241m.\u001b[39mmessage \u001b[38;5;241m+\u001b[39m\u001b[38;5;241m=\u001b[39m (\u001b[38;5;124m\"\u001b[39m\u001b[38;5;124m name: \u001b[39m\u001b[38;5;124m\"\u001b[39m \u001b[38;5;241m+\u001b[39m \u001b[38;5;28mstr\u001b[39m(name \u001b[38;5;28;01mif\u001b[39;00m name \u001b[38;5;129;01mis\u001b[39;00m \u001b[38;5;129;01mnot\u001b[39;00m \u001b[38;5;28;01mNone\u001b[39;00m \u001b[38;5;28;01melse\u001b[39;00m \u001b[38;5;124m\"\u001b[39m\u001b[38;5;124m\"\u001b[39m))\n\u001b[1;32m-> 5883\u001b[0m   \u001b[38;5;28;01mraise\u001b[39;00m core\u001b[38;5;241m.\u001b[39m_status_to_exception(e) \u001b[38;5;28;01mfrom\u001b[39;00m \u001b[38;5;28mNone\u001b[39m\n",
      "\u001b[1;31mInvalidArgumentError\u001b[0m: {{function_node __wrapped__AddV2_device_/job:localhost/replica:0/task:0/device:CPU:0}} Incompatible shapes: [5,3] vs. [3,5] [Op:AddV2] name: "
     ]
    }
   ],
   "source": [
    "## Doing element wise operation\n",
    "a = tf.add(y,z)"
   ]
  },
  {
   "cell_type": "markdown",
   "id": "974cba47",
   "metadata": {},
   "source": [
    "### Questions in the course"
   ]
  },
  {
   "cell_type": "code",
   "execution_count": 27,
   "id": "c6cebf35",
   "metadata": {},
   "outputs": [
    {
     "name": "stdout",
     "output_type": "stream",
     "text": [
      "Initial tensor: [[ 3 12]\n",
      " [ 3  8]]\n",
      "Squared tensor =  [[  9 144]\n",
      " [  9  64]]\n"
     ]
    }
   ],
   "source": [
    "tensor1  = tf.random.uniform((2,2),minval=1,maxval=20,dtype=tf.int32)\n",
    "print(\"Initial tensor:\",tensor1.numpy())\n",
    "tensor2 = tf.pow(tensor1,2)\n",
    "print(\"Squared tensor = \",tensor2.numpy())"
   ]
  },
  {
   "cell_type": "code",
   "execution_count": 28,
   "id": "ce8c5b61",
   "metadata": {},
   "outputs": [
    {
     "name": "stdout",
     "output_type": "stream",
     "text": [
      "Initial tensor: [[ 4  6]\n",
      " [11 18]]\n",
      "Squared tensor= [[ 16  36]\n",
      " [121 324]]\n"
     ]
    }
   ],
   "source": [
    "tensor1 = tf.random.uniform((2,2),minval=1,maxval=20,dtype=tf.int32)\n",
    "print(\"Initial tensor:\",tensor1.numpy())\n",
    "tensor2 = tensor1*tensor1\n",
    "print(\"Squared tensor=\",tensor2.numpy())"
   ]
  },
  {
   "cell_type": "code",
   "execution_count": 29,
   "id": "3f3c519b",
   "metadata": {},
   "outputs": [
    {
     "name": "stdout",
     "output_type": "stream",
     "text": [
      "Initial tensor: [[16.496908  9.973395]\n",
      " [ 4.905825  8.822855]]\n",
      "Squared tensor= [[272.14798  99.46861]\n",
      " [ 24.06712  77.84277]]\n"
     ]
    }
   ],
   "source": [
    "tensor1 = tf.random.uniform((2,2),minval=1,maxval=20)\n",
    "print(\"Initial tensor:\",tensor1.numpy())\n",
    "tensor2 = tf.pow(tensor1,2)\n",
    "print(\"Squared tensor=\",tensor2.numpy())"
   ]
  },
  {
   "cell_type": "code",
   "execution_count": 30,
   "id": "aa9b6c2c",
   "metadata": {},
   "outputs": [
    {
     "name": "stdout",
     "output_type": "stream",
     "text": [
      "Initial tensor: [[12 17]\n",
      " [11 11]]\n",
      "Squared tensor=  [[144 289]\n",
      " [121 121]]\n"
     ]
    }
   ],
   "source": [
    "tensor1 = tf.random.uniform((2,2),minval=1,maxval=20,dtype=tf.int32)\n",
    "print(\"Initial tensor:\",tensor1.numpy())\n",
    "tensor2 = tf.multiply(tensor1,tensor1)\n",
    "print(\"Squared tensor= \", tensor2.numpy())"
   ]
  },
  {
   "cell_type": "code",
   "execution_count": 31,
   "id": "4d185a6e",
   "metadata": {},
   "outputs": [
    {
     "data": {
      "text/plain": [
       "272.14797356046404"
      ]
     },
     "execution_count": 31,
     "metadata": {},
     "output_type": "execute_result"
    }
   ],
   "source": [
    "16.496908*16.496908"
   ]
  },
  {
   "cell_type": "code",
   "execution_count": 32,
   "id": "04714fc6",
   "metadata": {},
   "outputs": [
    {
     "data": {
      "text/plain": [
       "99.468607826025"
      ]
     },
     "execution_count": 32,
     "metadata": {},
     "output_type": "execute_result"
    }
   ],
   "source": [
    "9.973395*9.973395"
   ]
  },
  {
   "cell_type": "code",
   "execution_count": 33,
   "id": "20d9e4b0",
   "metadata": {},
   "outputs": [
    {
     "ename": "InvalidArgumentError",
     "evalue": "{{function_node __wrapped__AddV2_device_/job:localhost/replica:0/task:0/device:CPU:0}} Incompatible shapes: [4,3] vs. [3,4] [Op:AddV2] name: ",
     "output_type": "error",
     "traceback": [
      "\u001b[1;31m---------------------------------------------------------------------------\u001b[0m",
      "\u001b[1;31mInvalidArgumentError\u001b[0m                      Traceback (most recent call last)",
      "Cell \u001b[1;32mIn[33], line 3\u001b[0m\n\u001b[0;32m      1\u001b[0m t1 \u001b[38;5;241m=\u001b[39m tf\u001b[38;5;241m.\u001b[39mVariable([[\u001b[38;5;241m2\u001b[39m,\u001b[38;5;241m3\u001b[39m,\u001b[38;5;241m4\u001b[39m], [\u001b[38;5;241m5\u001b[39m,\u001b[38;5;241m7\u001b[39m,\u001b[38;5;241m9\u001b[39m], [\u001b[38;5;241m1\u001b[39m,\u001b[38;5;241m6\u001b[39m,\u001b[38;5;241m3\u001b[39m], [\u001b[38;5;241m5\u001b[39m,\u001b[38;5;241m8\u001b[39m,\u001b[38;5;241m4\u001b[39m]])\n\u001b[0;32m      2\u001b[0m t2 \u001b[38;5;241m=\u001b[39m tf\u001b[38;5;241m.\u001b[39mVariable([[\u001b[38;5;241m2\u001b[39m,\u001b[38;5;241m3\u001b[39m,\u001b[38;5;241m4\u001b[39m,\u001b[38;5;241m5\u001b[39m], [\u001b[38;5;241m5\u001b[39m,\u001b[38;5;241m7\u001b[39m,\u001b[38;5;241m9\u001b[39m,\u001b[38;5;241m4\u001b[39m], [\u001b[38;5;241m1\u001b[39m,\u001b[38;5;241m6\u001b[39m,\u001b[38;5;241m3\u001b[39m,\u001b[38;5;241m9\u001b[39m]])\n\u001b[1;32m----> 3\u001b[0m t3 \u001b[38;5;241m=\u001b[39m \u001b[43mt1\u001b[49m\u001b[38;5;241;43m+\u001b[39;49m\u001b[43mt2\u001b[49m\n\u001b[0;32m      4\u001b[0m \u001b[38;5;28mprint\u001b[39m(t3)\n",
      "File \u001b[1;32m~\\anaconda3\\lib\\site-packages\\tensorflow\\python\\ops\\variables.py:1013\u001b[0m, in \u001b[0;36mVariable._OverloadOperator.<locals>._run_op\u001b[1;34m(a, *args, **kwargs)\u001b[0m\n\u001b[0;32m   1011\u001b[0m \u001b[38;5;28;01mdef\u001b[39;00m \u001b[38;5;21m_run_op\u001b[39m(a, \u001b[38;5;241m*\u001b[39margs, \u001b[38;5;241m*\u001b[39m\u001b[38;5;241m*\u001b[39mkwargs):\n\u001b[0;32m   1012\u001b[0m   \u001b[38;5;66;03m# pylint: disable=protected-access\u001b[39;00m\n\u001b[1;32m-> 1013\u001b[0m   \u001b[38;5;28;01mreturn\u001b[39;00m tensor_oper(a\u001b[38;5;241m.\u001b[39mvalue(), \u001b[38;5;241m*\u001b[39margs, \u001b[38;5;241m*\u001b[39m\u001b[38;5;241m*\u001b[39mkwargs)\n",
      "File \u001b[1;32m~\\anaconda3\\lib\\site-packages\\tensorflow\\python\\util\\traceback_utils.py:153\u001b[0m, in \u001b[0;36mfilter_traceback.<locals>.error_handler\u001b[1;34m(*args, **kwargs)\u001b[0m\n\u001b[0;32m    151\u001b[0m \u001b[38;5;28;01mexcept\u001b[39;00m \u001b[38;5;167;01mException\u001b[39;00m \u001b[38;5;28;01mas\u001b[39;00m e:\n\u001b[0;32m    152\u001b[0m   filtered_tb \u001b[38;5;241m=\u001b[39m _process_traceback_frames(e\u001b[38;5;241m.\u001b[39m__traceback__)\n\u001b[1;32m--> 153\u001b[0m   \u001b[38;5;28;01mraise\u001b[39;00m e\u001b[38;5;241m.\u001b[39mwith_traceback(filtered_tb) \u001b[38;5;28;01mfrom\u001b[39;00m \u001b[38;5;28mNone\u001b[39m\n\u001b[0;32m    154\u001b[0m \u001b[38;5;28;01mfinally\u001b[39;00m:\n\u001b[0;32m    155\u001b[0m   \u001b[38;5;28;01mdel\u001b[39;00m filtered_tb\n",
      "File \u001b[1;32m~\\anaconda3\\lib\\site-packages\\tensorflow\\python\\framework\\ops.py:5883\u001b[0m, in \u001b[0;36mraise_from_not_ok_status\u001b[1;34m(e, name)\u001b[0m\n\u001b[0;32m   5881\u001b[0m \u001b[38;5;28;01mdef\u001b[39;00m \u001b[38;5;21mraise_from_not_ok_status\u001b[39m(e, name) \u001b[38;5;241m-\u001b[39m\u001b[38;5;241m>\u001b[39m NoReturn:\n\u001b[0;32m   5882\u001b[0m   e\u001b[38;5;241m.\u001b[39mmessage \u001b[38;5;241m+\u001b[39m\u001b[38;5;241m=\u001b[39m (\u001b[38;5;124m\"\u001b[39m\u001b[38;5;124m name: \u001b[39m\u001b[38;5;124m\"\u001b[39m \u001b[38;5;241m+\u001b[39m \u001b[38;5;28mstr\u001b[39m(name \u001b[38;5;28;01mif\u001b[39;00m name \u001b[38;5;129;01mis\u001b[39;00m \u001b[38;5;129;01mnot\u001b[39;00m \u001b[38;5;28;01mNone\u001b[39;00m \u001b[38;5;28;01melse\u001b[39;00m \u001b[38;5;124m\"\u001b[39m\u001b[38;5;124m\"\u001b[39m))\n\u001b[1;32m-> 5883\u001b[0m   \u001b[38;5;28;01mraise\u001b[39;00m core\u001b[38;5;241m.\u001b[39m_status_to_exception(e) \u001b[38;5;28;01mfrom\u001b[39;00m \u001b[38;5;28mNone\u001b[39m\n",
      "\u001b[1;31mInvalidArgumentError\u001b[0m: {{function_node __wrapped__AddV2_device_/job:localhost/replica:0/task:0/device:CPU:0}} Incompatible shapes: [4,3] vs. [3,4] [Op:AddV2] name: "
     ]
    }
   ],
   "source": [
    "t1 = tf.Variable([[2,3,4], [5,7,9], [1,6,3], [5,8,4]])\n",
    "t2 = tf.Variable([[2,3,4,5], [5,7,9,4], [1,6,3,9]])\n",
    "t3 = t1+t2\n",
    "print(t3)"
   ]
  },
  {
   "cell_type": "markdown",
   "id": "c275f0cf",
   "metadata": {},
   "source": [
    "### 4. Linear algebra on tensors"
   ]
  },
  {
   "cell_type": "code",
   "execution_count": 34,
   "id": "a7b1ef01",
   "metadata": {},
   "outputs": [
    {
     "name": "stdout",
     "output_type": "stream",
     "text": [
      "z: tf.Tensor(\n",
      "[[ 90 100 110]\n",
      " [240 275 310]\n",
      " [390 450 510]\n",
      " [540 625 710]\n",
      " [690 800 910]], shape=(5, 3), dtype=int32)\n"
     ]
    }
   ],
   "source": [
    "## Matrix Multiplication\n",
    "x = tf.Variable([[0,1,2,3,4],[5,6,7,8,9],[10,11,12,13,14],[15,16,17,18,19],[20,21,22,23,24]])\n",
    "y = tf.Variable([[0,1,2],[3,4,5],[6,7,8],[9,10,11],[12,13,14]])\n",
    "\n",
    "z = tf.linalg.matmul(x,y) # matrix multiplication between a (5,5) and (5,3) tensor\n",
    "print(\"z:\",z)"
   ]
  },
  {
   "cell_type": "markdown",
   "id": "9bd3f0a5",
   "metadata": {},
   "source": [
    "- Note that tf.linalg.matmul raises exception if tensor shapes are incompatible for matrix multiplication."
   ]
  },
  {
   "cell_type": "code",
   "execution_count": 35,
   "id": "fce587ed",
   "metadata": {},
   "outputs": [
    {
     "name": "stdout",
     "output_type": "stream",
     "text": [
      "Exception raised while performing tensor inverse:\n",
      " Value for attr 'T' of int32 is not in the list of allowed values: double, float, half, complex64, complex128\n",
      "\t; NodeDef: {{node MatrixInverse}}; Op<name=MatrixInverse; signature=input:T -> output:T; attr=adjoint:bool,default=false; attr=T:type,allowed=[DT_DOUBLE, DT_FLOAT, DT_HALF, DT_COMPLEX64, DT_COMPLEX128]> [Op:MatrixInverse] name: \n"
     ]
    }
   ],
   "source": [
    "## Matrix inverse\n",
    "try:\n",
    "    x = tf.Variable([[2,3],[2,2]])\n",
    "    xinv = tf.linalg.inv(x)\n",
    "    print(\"Inverse of x:\",xinv)\n",
    "except Exception as e:\n",
    "    print(\"Exception raised while performing tensor inverse:\\n\",str(e))"
   ]
  },
  {
   "cell_type": "markdown",
   "id": "5dd0bd67",
   "metadata": {},
   "source": [
    "- The above exception occured because matrix inverse is allowed only for float datatypes (float16,float32 etc.). The try-except block is purposefully used to demonstrate this behaviour."
   ]
  },
  {
   "cell_type": "markdown",
   "id": "d07ba4a9",
   "metadata": {},
   "source": [
    "### Question:"
   ]
  },
  {
   "cell_type": "markdown",
   "id": "bd0d950b",
   "metadata": {},
   "source": [
    "- Solve the following system of linear equations using tensorflow.\n",
    "- x+y+z+w = 13\n",
    "- 2x + 3y -w = -1\n",
    "- -3x + 4y + z+ 2w = 10\n",
    "- x + 2y -z +w = 1\n",
    "- Ans: x = 2, y=0, z=6,w=5"
   ]
  },
  {
   "cell_type": "code",
   "execution_count": 38,
   "id": "f97e25d2",
   "metadata": {},
   "outputs": [
    {
     "name": "stdout",
     "output_type": "stream",
     "text": [
      "Coeff: <tf.Variable 'Variable:0' shape=(4, 4) dtype=float32, numpy=\n",
      "array([[ 1.,  1.,  1.,  1.],\n",
      "       [ 2.,  3.,  0., -1.],\n",
      "       [-3.,  4.,  1.,  2.],\n",
      "       [ 1.,  2., -1.,  1.]], dtype=float32)>\n"
     ]
    }
   ],
   "source": [
    "## Answer of above question\n",
    "coeff = tf.Variable([[1,1,1,1],[2,3,0,-1],[-3,4,1,2],[1,2,-1,1]],dtype=tf.float32)\n",
    "print(\"Coeff:\",coeff)"
   ]
  },
  {
   "cell_type": "code",
   "execution_count": 39,
   "id": "72e18ce7",
   "metadata": {},
   "outputs": [
    {
     "name": "stdout",
     "output_type": "stream",
     "text": [
      "Output: <tf.Variable 'Variable:0' shape=(4, 1) dtype=float32, numpy=\n",
      "array([[13.],\n",
      "       [-1.],\n",
      "       [10.],\n",
      "       [ 1.]], dtype=float32)>\n"
     ]
    }
   ],
   "source": [
    "y = tf.Variable([[13],[-1],[10],[1]],dtype=tf.float32)\n",
    "print(\"Output:\",y)"
   ]
  },
  {
   "cell_type": "code",
   "execution_count": 40,
   "id": "8f61d0d4",
   "metadata": {},
   "outputs": [
    {
     "name": "stdout",
     "output_type": "stream",
     "text": [
      "Inverse of coeff matrix: tf.Tensor(\n",
      "[[ 2.77777791e-01  5.55555224e-02 -1.66666672e-01  1.11111104e-01]\n",
      " [-7.40740746e-02  1.85185164e-01  1.11111104e-01  3.70370336e-02]\n",
      " [ 4.62962925e-01  9.25926119e-02  5.55555634e-02 -4.81481493e-01]\n",
      " [ 3.33333343e-01 -3.33333343e-01 -9.93410776e-09  3.33333343e-01]], shape=(4, 4), dtype=float32)\n",
      "tf.Tensor(\n",
      "[[ 2.0000000e+00]\n",
      " [-1.1920929e-07]\n",
      " [ 5.9999995e+00]\n",
      " [ 5.0000000e+00]], shape=(4, 1), dtype=float32)\n"
     ]
    }
   ],
   "source": [
    "## Solution = inv(coeff)*y\n",
    "inv_coeff = tf.linalg.inv(coeff)\n",
    "\n",
    "print(\"Inverse of coeff matrix:\",inv_coeff)\n",
    "\n",
    "x_solution = tf.matmul(inv_coeff,y)\n",
    "print(x_solution)"
   ]
  },
  {
   "cell_type": "code",
   "execution_count": 46,
   "id": "1875edba",
   "metadata": {},
   "outputs": [
    {
     "data": {
      "text/plain": [
       "array([[ 2.0000000e+00],\n",
       "       [-1.1920929e-07],\n",
       "       [ 5.9999995e+00],\n",
       "       [ 5.0000000e+00]], dtype=float32)"
      ]
     },
     "execution_count": 46,
     "metadata": {},
     "output_type": "execute_result"
    }
   ],
   "source": [
    "x_solution.numpy()"
   ]
  },
  {
   "cell_type": "code",
   "execution_count": 63,
   "id": "b6a67898",
   "metadata": {},
   "outputs": [],
   "source": [
    "## Question\n",
    "x = tf.Variable([[0.2, 1, 0.5]])\n",
    "w = tf.Variable([[0.5], [1] , [-1.2]])\n",
    "b = tf.Variable([[0.01]])"
   ]
  },
  {
   "cell_type": "code",
   "execution_count": 67,
   "id": "22efe126",
   "metadata": {},
   "outputs": [
    {
     "data": {
      "text/plain": [
       "<tf.Tensor: shape=(1, 1), dtype=float32, numpy=array([[0.51]], dtype=float32)>"
      ]
     },
     "execution_count": 67,
     "metadata": {},
     "output_type": "execute_result"
    }
   ],
   "source": [
    "a = tf.add(tf.matmul(x,w),b)\n",
    "a"
   ]
  },
  {
   "cell_type": "code",
   "execution_count": 70,
   "id": "44ddf5ca",
   "metadata": {},
   "outputs": [
    {
     "name": "stdout",
     "output_type": "stream",
     "text": [
      "0.62480646\n"
     ]
    }
   ],
   "source": [
    "p = tf.sigmoid(a)\n",
    "print(p.numpy()[0][0])"
   ]
  }
 ],
 "metadata": {
  "kernelspec": {
   "display_name": "Python 3 (ipykernel)",
   "language": "python",
   "name": "python3"
  },
  "language_info": {
   "codemirror_mode": {
    "name": "ipython",
    "version": 3
   },
   "file_extension": ".py",
   "mimetype": "text/x-python",
   "name": "python",
   "nbconvert_exporter": "python",
   "pygments_lexer": "ipython3",
   "version": "3.10.9"
  }
 },
 "nbformat": 4,
 "nbformat_minor": 5
}
