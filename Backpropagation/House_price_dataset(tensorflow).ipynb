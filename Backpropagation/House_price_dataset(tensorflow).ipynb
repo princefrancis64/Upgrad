{
 "cells": [
  {
   "cell_type": "code",
   "execution_count": 41,
   "id": "78dd8893",
   "metadata": {},
   "outputs": [],
   "source": [
    "import tensorflow as tf\n",
    "import pandas as pd\n",
    "import numpy as np\n",
    "from sklearn.preprocessing import StandardScaler"
   ]
  },
  {
   "cell_type": "markdown",
   "id": "a4e4c7b9",
   "metadata": {},
   "source": [
    "### 1. Importing the Dataset"
   ]
  },
  {
   "cell_type": "code",
   "execution_count": 71,
   "id": "9dba5dfb",
   "metadata": {},
   "outputs": [
    {
     "data": {
      "text/html": [
       "<div>\n",
       "<style scoped>\n",
       "    .dataframe tbody tr th:only-of-type {\n",
       "        vertical-align: middle;\n",
       "    }\n",
       "\n",
       "    .dataframe tbody tr th {\n",
       "        vertical-align: top;\n",
       "    }\n",
       "\n",
       "    .dataframe thead th {\n",
       "        text-align: right;\n",
       "    }\n",
       "</style>\n",
       "<table border=\"1\" class=\"dataframe\">\n",
       "  <thead>\n",
       "    <tr style=\"text-align: right;\">\n",
       "      <th></th>\n",
       "      <th>bedrooms</th>\n",
       "      <th>sqft_living</th>\n",
       "      <th>price</th>\n",
       "    </tr>\n",
       "  </thead>\n",
       "  <tbody>\n",
       "    <tr>\n",
       "      <th>0</th>\n",
       "      <td>3</td>\n",
       "      <td>1340</td>\n",
       "      <td>313000</td>\n",
       "    </tr>\n",
       "    <tr>\n",
       "      <th>1</th>\n",
       "      <td>5</td>\n",
       "      <td>3650</td>\n",
       "      <td>2384000</td>\n",
       "    </tr>\n",
       "    <tr>\n",
       "      <th>2</th>\n",
       "      <td>3</td>\n",
       "      <td>1930</td>\n",
       "      <td>342000</td>\n",
       "    </tr>\n",
       "    <tr>\n",
       "      <th>3</th>\n",
       "      <td>3</td>\n",
       "      <td>2000</td>\n",
       "      <td>420000</td>\n",
       "    </tr>\n",
       "    <tr>\n",
       "      <th>4</th>\n",
       "      <td>4</td>\n",
       "      <td>1940</td>\n",
       "      <td>550000</td>\n",
       "    </tr>\n",
       "  </tbody>\n",
       "</table>\n",
       "</div>"
      ],
      "text/plain": [
       "   bedrooms  sqft_living    price\n",
       "0         3         1340   313000\n",
       "1         5         3650  2384000\n",
       "2         3         1930   342000\n",
       "3         3         2000   420000\n",
       "4         4         1940   550000"
      ]
     },
     "execution_count": 71,
     "metadata": {},
     "output_type": "execute_result"
    }
   ],
   "source": [
    "df = pd.read_csv('house_price_full+(2).csv')\n",
    "df.head()"
   ]
  },
  {
   "cell_type": "code",
   "execution_count": 72,
   "id": "bd7d9f8f",
   "metadata": {},
   "outputs": [],
   "source": [
    "X = df.copy()\n",
    "## Removing the target\n",
    "y = X.pop('price')"
   ]
  },
  {
   "cell_type": "code",
   "execution_count": 73,
   "id": "b955791e",
   "metadata": {},
   "outputs": [
    {
     "data": {
      "text/html": [
       "<div>\n",
       "<style scoped>\n",
       "    .dataframe tbody tr th:only-of-type {\n",
       "        vertical-align: middle;\n",
       "    }\n",
       "\n",
       "    .dataframe tbody tr th {\n",
       "        vertical-align: top;\n",
       "    }\n",
       "\n",
       "    .dataframe thead th {\n",
       "        text-align: right;\n",
       "    }\n",
       "</style>\n",
       "<table border=\"1\" class=\"dataframe\">\n",
       "  <thead>\n",
       "    <tr style=\"text-align: right;\">\n",
       "      <th></th>\n",
       "      <th>bedrooms</th>\n",
       "      <th>sqft_living</th>\n",
       "    </tr>\n",
       "  </thead>\n",
       "  <tbody>\n",
       "    <tr>\n",
       "      <th>0</th>\n",
       "      <td>3</td>\n",
       "      <td>1340</td>\n",
       "    </tr>\n",
       "    <tr>\n",
       "      <th>1</th>\n",
       "      <td>5</td>\n",
       "      <td>3650</td>\n",
       "    </tr>\n",
       "  </tbody>\n",
       "</table>\n",
       "</div>"
      ],
      "text/plain": [
       "   bedrooms  sqft_living\n",
       "0         3         1340\n",
       "1         5         3650"
      ]
     },
     "execution_count": 73,
     "metadata": {},
     "output_type": "execute_result"
    }
   ],
   "source": [
    "X.head(2)"
   ]
  },
  {
   "cell_type": "code",
   "execution_count": 74,
   "id": "f7730317",
   "metadata": {},
   "outputs": [
    {
     "data": {
      "text/plain": [
       "0     313000\n",
       "1    2384000\n",
       "Name: price, dtype: int64"
      ]
     },
     "execution_count": 74,
     "metadata": {},
     "output_type": "execute_result"
    }
   ],
   "source": [
    "y.head(2)"
   ]
  },
  {
   "cell_type": "code",
   "execution_count": 75,
   "id": "572e2e96",
   "metadata": {},
   "outputs": [
    {
     "data": {
      "text/html": [
       "<div>\n",
       "<style scoped>\n",
       "    .dataframe tbody tr th:only-of-type {\n",
       "        vertical-align: middle;\n",
       "    }\n",
       "\n",
       "    .dataframe tbody tr th {\n",
       "        vertical-align: top;\n",
       "    }\n",
       "\n",
       "    .dataframe thead th {\n",
       "        text-align: right;\n",
       "    }\n",
       "</style>\n",
       "<table border=\"1\" class=\"dataframe\">\n",
       "  <thead>\n",
       "    <tr style=\"text-align: right;\">\n",
       "      <th></th>\n",
       "      <th>bedrooms</th>\n",
       "      <th>sqft_living</th>\n",
       "    </tr>\n",
       "  </thead>\n",
       "  <tbody>\n",
       "    <tr>\n",
       "      <th>0</th>\n",
       "      <td>-0.433198</td>\n",
       "      <td>-0.753258</td>\n",
       "    </tr>\n",
       "    <tr>\n",
       "      <th>1</th>\n",
       "      <td>1.675735</td>\n",
       "      <td>1.457330</td>\n",
       "    </tr>\n",
       "    <tr>\n",
       "      <th>2</th>\n",
       "      <td>-0.433198</td>\n",
       "      <td>-0.188649</td>\n",
       "    </tr>\n",
       "    <tr>\n",
       "      <th>3</th>\n",
       "      <td>-0.433198</td>\n",
       "      <td>-0.121661</td>\n",
       "    </tr>\n",
       "    <tr>\n",
       "      <th>4</th>\n",
       "      <td>0.621269</td>\n",
       "      <td>-0.179079</td>\n",
       "    </tr>\n",
       "    <tr>\n",
       "      <th>...</th>\n",
       "      <td>...</td>\n",
       "      <td>...</td>\n",
       "    </tr>\n",
       "    <tr>\n",
       "      <th>494</th>\n",
       "      <td>0.621269</td>\n",
       "      <td>0.873582</td>\n",
       "    </tr>\n",
       "    <tr>\n",
       "      <th>495</th>\n",
       "      <td>1.675735</td>\n",
       "      <td>2.299459</td>\n",
       "    </tr>\n",
       "    <tr>\n",
       "      <th>496</th>\n",
       "      <td>-0.433198</td>\n",
       "      <td>-0.724549</td>\n",
       "    </tr>\n",
       "    <tr>\n",
       "      <th>497</th>\n",
       "      <td>-0.433198</td>\n",
       "      <td>-0.179079</td>\n",
       "    </tr>\n",
       "    <tr>\n",
       "      <th>498</th>\n",
       "      <td>-0.433198</td>\n",
       "      <td>-1.040347</td>\n",
       "    </tr>\n",
       "  </tbody>\n",
       "</table>\n",
       "<p>499 rows × 2 columns</p>\n",
       "</div>"
      ],
      "text/plain": [
       "     bedrooms  sqft_living\n",
       "0   -0.433198    -0.753258\n",
       "1    1.675735     1.457330\n",
       "2   -0.433198    -0.188649\n",
       "3   -0.433198    -0.121661\n",
       "4    0.621269    -0.179079\n",
       "..        ...          ...\n",
       "494  0.621269     0.873582\n",
       "495  1.675735     2.299459\n",
       "496 -0.433198    -0.724549\n",
       "497 -0.433198    -0.179079\n",
       "498 -0.433198    -1.040347\n",
       "\n",
       "[499 rows x 2 columns]"
      ]
     },
     "execution_count": 75,
     "metadata": {},
     "output_type": "execute_result"
    }
   ],
   "source": [
    "scaler = StandardScaler()\n",
    "X = pd.DataFrame(scaler.fit_transform(X),columns=X.columns)\n",
    "X"
   ]
  },
  {
   "cell_type": "code",
   "execution_count": 76,
   "id": "87cb4660",
   "metadata": {},
   "outputs": [
    {
     "data": {
      "text/plain": [
       "0      12.653958\n",
       "1      14.684290\n",
       "2      12.742566\n",
       "3      12.948010\n",
       "4      13.217674\n",
       "         ...    \n",
       "494    13.380102\n",
       "495    13.764217\n",
       "496    12.128111\n",
       "497    12.721886\n",
       "498    12.254863\n",
       "Name: price, Length: 499, dtype: float64"
      ]
     },
     "execution_count": 76,
     "metadata": {},
     "output_type": "execute_result"
    }
   ],
   "source": [
    "## performing log transformation on the target variable\n",
    "y = np.log(y)\n",
    "y"
   ]
  },
  {
   "cell_type": "code",
   "execution_count": 77,
   "id": "2dcc53c7",
   "metadata": {},
   "outputs": [
    {
     "name": "stdout",
     "output_type": "stream",
     "text": [
      "-0.43319764280264655 -0.7532575369937701\n"
     ]
    }
   ],
   "source": [
    "x1,x2 = X.loc[0]\n",
    "print(x1,x2)"
   ]
  },
  {
   "cell_type": "code",
   "execution_count": 9,
   "id": "c7539863",
   "metadata": {},
   "outputs": [],
   "source": [
    "## bias\n",
    "b = tf.Variable([0.1],dtype=tf.float32)\n",
    "## weights\n",
    "w1 = tf.Variable([0.2],dtype=tf.float32)\n",
    "w2 = tf.Variable([0.15],dtype=tf.float32)"
   ]
  },
  {
   "cell_type": "code",
   "execution_count": 10,
   "id": "6073f3eb",
   "metadata": {},
   "outputs": [
    {
     "name": "stdout",
     "output_type": "stream",
     "text": [
      "The output of the first neuron is : tf.Tensor([0.47511354], shape=(1,), dtype=float32)\n"
     ]
    }
   ],
   "source": [
    "## Cumulative input\n",
    "z = b + w1*x1 + w2*x2\n",
    "h = tf.math.sigmoid(z)\n",
    "print('The output of the first neuron is :',h)"
   ]
  },
  {
   "cell_type": "markdown",
   "id": "6f7ad5ac",
   "metadata": {},
   "source": [
    "### Forward propagation with multiple tensors"
   ]
  },
  {
   "cell_type": "code",
   "execution_count": 14,
   "id": "1e0e4669",
   "metadata": {},
   "outputs": [],
   "source": [
    "## layer1 weights\n",
    "##neuron 1\n",
    "b1 = tf.Variable([0.1])\n",
    "w11 = tf.Variable([0.2])\n",
    "w12 = tf.Variable([0.15])\n",
    "##neuron2\n",
    "b2 = tf.Variable([0.25])\n",
    "w21 = tf.Variable([0.5])\n",
    "w22 = tf.Variable([0.6])"
   ]
  },
  {
   "cell_type": "code",
   "execution_count": 15,
   "id": "5c19fd48",
   "metadata": {},
   "outputs": [
    {
     "name": "stdout",
     "output_type": "stream",
     "text": [
      "The output from the first neuron is : tf.Tensor([0.47511354], shape=(1,), dtype=float32)\n"
     ]
    }
   ],
   "source": [
    "## forward pass\n",
    "## neuron1\n",
    "z1 = b1+w11*x1 + w12*x2\n",
    "h1 = tf.math.sigmoid(z1)\n",
    "print(\"The output from the first neuron is :\",h1)"
   ]
  },
  {
   "cell_type": "code",
   "execution_count": 16,
   "id": "a1d622af",
   "metadata": {},
   "outputs": [
    {
     "name": "stdout",
     "output_type": "stream",
     "text": [
      "The output from the second neuron is: tf.Tensor([0.39686295], shape=(1,), dtype=float32)\n"
     ]
    }
   ],
   "source": [
    "## forward pass\n",
    "## neuron 2\n",
    "z2 = b2+w21*x1+w22*x2\n",
    "h2 = tf.math.sigmoid(z2)\n",
    "print(\"The output from the second neuron is:\",h2)"
   ]
  },
  {
   "cell_type": "code",
   "execution_count": 17,
   "id": "2d3d9c84",
   "metadata": {},
   "outputs": [],
   "source": [
    "## Layer 2 weights\n",
    "b1 = tf.Variable([0.4])\n",
    "w11 = tf.Variable([0.3])\n",
    "w12 = tf.Variable([0.2])"
   ]
  },
  {
   "cell_type": "code",
   "execution_count": 18,
   "id": "56760aad",
   "metadata": {},
   "outputs": [
    {
     "name": "stdout",
     "output_type": "stream",
     "text": [
      "The output from the first neuron is: tf.Tensor([0.62190664], shape=(1,), dtype=float32)\n"
     ]
    }
   ],
   "source": [
    "## forward pass\n",
    "## second layer\n",
    "z1 = b1+w11*h1+w12*h2\n",
    "h1 = z1\n",
    "print(\"The output from the first neuron is:\",h1)"
   ]
  },
  {
   "cell_type": "code",
   "execution_count": 22,
   "id": "8cdd7cfa",
   "metadata": {},
   "outputs": [],
   "source": [
    "## Computing the loss\n",
    "y_true = y[0]\n",
    "y_pred = h1.numpy()"
   ]
  },
  {
   "cell_type": "code",
   "execution_count": 23,
   "id": "0cff7215",
   "metadata": {},
   "outputs": [
    {
     "name": "stdout",
     "output_type": "stream",
     "text": [
      "The MSE error is: [72.38514]\n"
     ]
    }
   ],
   "source": [
    "## loss\n",
    "L = 0.5*(y_true - y_pred)**2\n",
    "print(\"The MSE error is:\",L)"
   ]
  },
  {
   "cell_type": "markdown",
   "id": "3535afb3",
   "metadata": {},
   "source": [
    "### Forward pass matrix multiplication"
   ]
  },
  {
   "cell_type": "code",
   "execution_count": 24,
   "id": "2567a607",
   "metadata": {},
   "outputs": [],
   "source": [
    "## Layer 1 weights\n",
    "w1 = tf.Variable([[0.2,0.15],\n",
    "                [0.5,0.6]],dtype=tf.float32)\n",
    "## layer1 bias\n",
    "b1 = tf.Variable([[0.1],\n",
    "                 [0.25]],dtype=tf.float32)"
   ]
  },
  {
   "cell_type": "code",
   "execution_count": 25,
   "id": "75f21ed8",
   "metadata": {},
   "outputs": [],
   "source": [
    "## layer 2 weights\n",
    "w2 = tf.Variable([[0.3,0.2]],dtype=tf.float32)\n",
    "## bias\n",
    "b2 = tf.Variable([0.4],dtype=tf.float32)"
   ]
  },
  {
   "cell_type": "code",
   "execution_count": 26,
   "id": "fa4d5da4",
   "metadata": {},
   "outputs": [],
   "source": [
    "## data \n",
    "X = tf.constant([[x1,x2]],dtype=tf.float32)"
   ]
  },
  {
   "cell_type": "code",
   "execution_count": 28,
   "id": "5e77639e",
   "metadata": {},
   "outputs": [
    {
     "name": "stdout",
     "output_type": "stream",
     "text": [
      "tf.Tensor(\n",
      "[[0.47511354]\n",
      " [0.39686295]], shape=(2, 1), dtype=float32)\n"
     ]
    }
   ],
   "source": [
    "## forward pass layer 1\n",
    "z1 = tf.matmul(w1,tf.transpose(X))+b1\n",
    "h1 = tf.math.sigmoid(z1)\n",
    "print(h1)"
   ]
  },
  {
   "cell_type": "code",
   "execution_count": 29,
   "id": "087e5eee",
   "metadata": {},
   "outputs": [],
   "source": [
    "## forward pass layer 2\n",
    "z2 = tf.matmul(w2,h1)+b2\n",
    "h2 = z2"
   ]
  },
  {
   "cell_type": "code",
   "execution_count": 31,
   "id": "fd2d492f",
   "metadata": {},
   "outputs": [
    {
     "name": "stdout",
     "output_type": "stream",
     "text": [
      "[[72.38514]]\n"
     ]
    }
   ],
   "source": [
    "y_pred = h2.numpy()\n",
    "loss = 0.5*(y_true-y_pred)**2\n",
    "print(loss)"
   ]
  },
  {
   "cell_type": "code",
   "execution_count": 48,
   "id": "df3a4ad1",
   "metadata": {},
   "outputs": [],
   "source": [
    "def random_init_params():\n",
    "    w1 = tf.Variable(tf.random.uniform((2,2)))\n",
    "    w2 = tf.Variable(tf.random.uniform((1,2)))\n",
    "    b1 = tf.Variable(tf.random.uniform((2,1)))\n",
    "    b2 = tf.Variable(tf.random.uniform((1,1)))\n",
    "    return w1,b1,w2,b2"
   ]
  },
  {
   "cell_type": "code",
   "execution_count": 49,
   "id": "d4131a3f",
   "metadata": {},
   "outputs": [],
   "source": [
    "w1,b1,w2,b2 = random_init_params()"
   ]
  },
  {
   "cell_type": "code",
   "execution_count": 50,
   "id": "c63909dc",
   "metadata": {},
   "outputs": [
    {
     "name": "stdout",
     "output_type": "stream",
     "text": [
      "The initial 1st layer weight are:\n",
      " [[0.6153872  0.79780936]\n",
      " [0.7474631  0.08413625]]\n",
      "-----------------------------------------------\n",
      "The initial 2nd layer weight are:\n",
      " [[0.13052309 0.4823085 ]]\n",
      "-----------------------------------------------\n",
      "The initial 1st layer bias are:\n",
      " [[0.78104067]\n",
      " [0.5509958 ]]\n",
      "-----------------------------------------------\n",
      "The initial 2nd layer bias are:\n",
      " [[0.3513968]]\n"
     ]
    }
   ],
   "source": [
    "print(\"The initial 1st layer weight are:\\n\",w1.numpy())\n",
    "print(\"-----------------------------------------------\")\n",
    "print(\"The initial 2nd layer weight are:\\n\",w2.numpy())\n",
    "print(\"-----------------------------------------------\")\n",
    "print(\"The initial 1st layer bias are:\\n\",b1.numpy())\n",
    "print(\"-----------------------------------------------\")\n",
    "print(\"The initial 2nd layer bias are:\\n\",b2.numpy())"
   ]
  },
  {
   "cell_type": "code",
   "execution_count": 51,
   "id": "28ccc9bb",
   "metadata": {},
   "outputs": [],
   "source": [
    "def forward_prop(x,w1,b1,w2,b2):\n",
    "    z1 = tf.matmul(w1,tf.transpose(x))+b1\n",
    "    h1 = tf.math.sigmoid(z1)\n",
    "    z2 = tf.matmul(w2,h1)+b2\n",
    "    h2 = z2\n",
    "    return h2"
   ]
  },
  {
   "cell_type": "code",
   "execution_count": 52,
   "id": "6004b9a7",
   "metadata": {},
   "outputs": [],
   "source": [
    "x = tf.constant([[x1,x2]],dtype=tf.float32)\n",
    "y = y[0]"
   ]
  },
  {
   "cell_type": "code",
   "execution_count": 53,
   "id": "edb3f689",
   "metadata": {},
   "outputs": [],
   "source": [
    "y_pred = forward_prop(x,w1,b1,w2,b2)"
   ]
  },
  {
   "cell_type": "code",
   "execution_count": 54,
   "id": "61297d55",
   "metadata": {},
   "outputs": [
    {
     "name": "stdout",
     "output_type": "stream",
     "text": [
      "The MSE error is tf.Tensor([[71.751305]], shape=(1, 1), dtype=float32)\n"
     ]
    }
   ],
   "source": [
    "## Loss \n",
    "L = 0.5*(y-y_pred)**2\n",
    "print(\"The MSE error is\",L)"
   ]
  },
  {
   "cell_type": "markdown",
   "id": "4549b870",
   "metadata": {},
   "source": [
    "### Backpropagation"
   ]
  },
  {
   "cell_type": "code",
   "execution_count": 55,
   "id": "b4a88be5",
   "metadata": {},
   "outputs": [],
   "source": [
    "import tensorflow as tf\n",
    "import pandas as pd\n",
    "import numpy as np\n",
    "from sklearn.preprocessing import StandardScaler"
   ]
  },
  {
   "cell_type": "markdown",
   "id": "93f54fcc",
   "metadata": {},
   "source": [
    "### Part 1: Autogradients"
   ]
  },
  {
   "cell_type": "code",
   "execution_count": 56,
   "id": "ff8a4785",
   "metadata": {},
   "outputs": [],
   "source": [
    "x = tf.Variable(0.0)  ## add gradient tape\n",
    "lr = eta = 0.1"
   ]
  },
  {
   "cell_type": "code",
   "execution_count": 57,
   "id": "567c4d52",
   "metadata": {},
   "outputs": [],
   "source": [
    "with tf.GradientTape() as tape:\n",
    "    y = x**2+4*x\n",
    "grad = tape.gradient(y,x)  ##dy/dx"
   ]
  },
  {
   "cell_type": "code",
   "execution_count": 59,
   "id": "971fb58d",
   "metadata": {},
   "outputs": [
    {
     "data": {
      "text/plain": [
       "4.0"
      ]
     },
     "execution_count": 59,
     "metadata": {},
     "output_type": "execute_result"
    }
   ],
   "source": [
    "grad.numpy()  ## dy/dx =2x+4, x=0, dy/dx=4"
   ]
  },
  {
   "cell_type": "code",
   "execution_count": 60,
   "id": "835bcd0c",
   "metadata": {},
   "outputs": [
    {
     "data": {
      "text/plain": [
       "<tf.Variable 'UnreadVariable' shape=() dtype=float32, numpy=-0.4>"
      ]
     },
     "execution_count": 60,
     "metadata": {},
     "output_type": "execute_result"
    }
   ],
   "source": [
    "x.assign_sub(lr*grad)  ##x_neew = x_old -lr*dy/dx"
   ]
  },
  {
   "cell_type": "code",
   "execution_count": 61,
   "id": "2f4abf42",
   "metadata": {},
   "outputs": [
    {
     "data": {
      "text/plain": [
       "-0.4"
      ]
     },
     "execution_count": 61,
     "metadata": {},
     "output_type": "execute_result"
    }
   ],
   "source": [
    "x.numpy()"
   ]
  },
  {
   "cell_type": "markdown",
   "id": "97d4441f",
   "metadata": {},
   "source": [
    "### Part 2:Gradient Descent"
   ]
  },
  {
   "cell_type": "code",
   "execution_count": 62,
   "id": "b05d6b41",
   "metadata": {},
   "outputs": [
    {
     "name": "stdout",
     "output_type": "stream",
     "text": [
      "-0.4\n",
      "-0.72\n",
      "-0.9760001\n",
      "-1.1808001\n",
      "-1.34464\n",
      "-1.4757121\n",
      "-1.5805696\n",
      "-1.6644557\n",
      "-1.7315645\n",
      "-1.7852516\n"
     ]
    }
   ],
   "source": [
    "x = tf.Variable(0.0)\n",
    "lr = 0.1\n",
    "for i in range(10):\n",
    "    with tf.GradientTape() as tape:\n",
    "        y = x**2+4*x\n",
    "    grad = tape.gradient(y,x)\n",
    "    x.assign_sub(lr*grad)\n",
    "    print(x.numpy())"
   ]
  },
  {
   "cell_type": "markdown",
   "id": "70e59f0e",
   "metadata": {},
   "source": [
    "## Backpropagation on the dataset"
   ]
  },
  {
   "cell_type": "code",
   "execution_count": 78,
   "id": "ed4c27a5",
   "metadata": {},
   "outputs": [
    {
     "data": {
      "text/html": [
       "<div>\n",
       "<style scoped>\n",
       "    .dataframe tbody tr th:only-of-type {\n",
       "        vertical-align: middle;\n",
       "    }\n",
       "\n",
       "    .dataframe tbody tr th {\n",
       "        vertical-align: top;\n",
       "    }\n",
       "\n",
       "    .dataframe thead th {\n",
       "        text-align: right;\n",
       "    }\n",
       "</style>\n",
       "<table border=\"1\" class=\"dataframe\">\n",
       "  <thead>\n",
       "    <tr style=\"text-align: right;\">\n",
       "      <th></th>\n",
       "      <th>bedrooms</th>\n",
       "      <th>sqft_living</th>\n",
       "    </tr>\n",
       "  </thead>\n",
       "  <tbody>\n",
       "    <tr>\n",
       "      <th>0</th>\n",
       "      <td>-0.433198</td>\n",
       "      <td>-0.753258</td>\n",
       "    </tr>\n",
       "    <tr>\n",
       "      <th>1</th>\n",
       "      <td>1.675735</td>\n",
       "      <td>1.457330</td>\n",
       "    </tr>\n",
       "    <tr>\n",
       "      <th>2</th>\n",
       "      <td>-0.433198</td>\n",
       "      <td>-0.188649</td>\n",
       "    </tr>\n",
       "    <tr>\n",
       "      <th>3</th>\n",
       "      <td>-0.433198</td>\n",
       "      <td>-0.121661</td>\n",
       "    </tr>\n",
       "    <tr>\n",
       "      <th>4</th>\n",
       "      <td>0.621269</td>\n",
       "      <td>-0.179079</td>\n",
       "    </tr>\n",
       "    <tr>\n",
       "      <th>...</th>\n",
       "      <td>...</td>\n",
       "      <td>...</td>\n",
       "    </tr>\n",
       "    <tr>\n",
       "      <th>494</th>\n",
       "      <td>0.621269</td>\n",
       "      <td>0.873582</td>\n",
       "    </tr>\n",
       "    <tr>\n",
       "      <th>495</th>\n",
       "      <td>1.675735</td>\n",
       "      <td>2.299459</td>\n",
       "    </tr>\n",
       "    <tr>\n",
       "      <th>496</th>\n",
       "      <td>-0.433198</td>\n",
       "      <td>-0.724549</td>\n",
       "    </tr>\n",
       "    <tr>\n",
       "      <th>497</th>\n",
       "      <td>-0.433198</td>\n",
       "      <td>-0.179079</td>\n",
       "    </tr>\n",
       "    <tr>\n",
       "      <th>498</th>\n",
       "      <td>-0.433198</td>\n",
       "      <td>-1.040347</td>\n",
       "    </tr>\n",
       "  </tbody>\n",
       "</table>\n",
       "<p>499 rows × 2 columns</p>\n",
       "</div>"
      ],
      "text/plain": [
       "     bedrooms  sqft_living\n",
       "0   -0.433198    -0.753258\n",
       "1    1.675735     1.457330\n",
       "2   -0.433198    -0.188649\n",
       "3   -0.433198    -0.121661\n",
       "4    0.621269    -0.179079\n",
       "..        ...          ...\n",
       "494  0.621269     0.873582\n",
       "495  1.675735     2.299459\n",
       "496 -0.433198    -0.724549\n",
       "497 -0.433198    -0.179079\n",
       "498 -0.433198    -1.040347\n",
       "\n",
       "[499 rows x 2 columns]"
      ]
     },
     "execution_count": 78,
     "metadata": {},
     "output_type": "execute_result"
    }
   ],
   "source": [
    "X"
   ]
  },
  {
   "cell_type": "code",
   "execution_count": 79,
   "id": "df919995",
   "metadata": {},
   "outputs": [
    {
     "data": {
      "text/plain": [
       "0      12.653958\n",
       "1      14.684290\n",
       "2      12.742566\n",
       "3      12.948010\n",
       "4      13.217674\n",
       "         ...    \n",
       "494    13.380102\n",
       "495    13.764217\n",
       "496    12.128111\n",
       "497    12.721886\n",
       "498    12.254863\n",
       "Name: price, Length: 499, dtype: float64"
      ]
     },
     "execution_count": 79,
     "metadata": {},
     "output_type": "execute_result"
    }
   ],
   "source": [
    "y"
   ]
  },
  {
   "cell_type": "code",
   "execution_count": 80,
   "id": "80063d07",
   "metadata": {},
   "outputs": [
    {
     "data": {
      "text/plain": [
       "(-0.43319764280264655, -0.7532575369937701)"
      ]
     },
     "execution_count": 80,
     "metadata": {},
     "output_type": "execute_result"
    }
   ],
   "source": [
    "x1,x2"
   ]
  },
  {
   "cell_type": "code",
   "execution_count": 84,
   "id": "784af505",
   "metadata": {},
   "outputs": [
    {
     "data": {
      "text/html": [
       "<div>\n",
       "<style scoped>\n",
       "    .dataframe tbody tr th:only-of-type {\n",
       "        vertical-align: middle;\n",
       "    }\n",
       "\n",
       "    .dataframe tbody tr th {\n",
       "        vertical-align: top;\n",
       "    }\n",
       "\n",
       "    .dataframe thead th {\n",
       "        text-align: right;\n",
       "    }\n",
       "</style>\n",
       "<table border=\"1\" class=\"dataframe\">\n",
       "  <thead>\n",
       "    <tr style=\"text-align: right;\">\n",
       "      <th></th>\n",
       "      <th>bedrooms</th>\n",
       "      <th>sqft_living</th>\n",
       "    </tr>\n",
       "  </thead>\n",
       "  <tbody>\n",
       "    <tr>\n",
       "      <th>0</th>\n",
       "      <td>-0.433198</td>\n",
       "      <td>-0.753258</td>\n",
       "    </tr>\n",
       "    <tr>\n",
       "      <th>1</th>\n",
       "      <td>1.675735</td>\n",
       "      <td>1.457330</td>\n",
       "    </tr>\n",
       "  </tbody>\n",
       "</table>\n",
       "</div>"
      ],
      "text/plain": [
       "   bedrooms  sqft_living\n",
       "0 -0.433198    -0.753258\n",
       "1  1.675735     1.457330"
      ]
     },
     "execution_count": 84,
     "metadata": {},
     "output_type": "execute_result"
    }
   ],
   "source": [
    "df_scaled = X.copy()\n",
    "df_scaled.head(2)"
   ]
  },
  {
   "cell_type": "code",
   "execution_count": 83,
   "id": "a09f1f5e",
   "metadata": {},
   "outputs": [
    {
     "data": {
      "text/html": [
       "<div>\n",
       "<style scoped>\n",
       "    .dataframe tbody tr th:only-of-type {\n",
       "        vertical-align: middle;\n",
       "    }\n",
       "\n",
       "    .dataframe tbody tr th {\n",
       "        vertical-align: top;\n",
       "    }\n",
       "\n",
       "    .dataframe thead th {\n",
       "        text-align: right;\n",
       "    }\n",
       "</style>\n",
       "<table border=\"1\" class=\"dataframe\">\n",
       "  <thead>\n",
       "    <tr style=\"text-align: right;\">\n",
       "      <th></th>\n",
       "      <th>bedrooms</th>\n",
       "      <th>sqft_living</th>\n",
       "      <th>price</th>\n",
       "    </tr>\n",
       "  </thead>\n",
       "  <tbody>\n",
       "    <tr>\n",
       "      <th>0</th>\n",
       "      <td>3</td>\n",
       "      <td>1340</td>\n",
       "      <td>313000</td>\n",
       "    </tr>\n",
       "    <tr>\n",
       "      <th>1</th>\n",
       "      <td>5</td>\n",
       "      <td>3650</td>\n",
       "      <td>2384000</td>\n",
       "    </tr>\n",
       "  </tbody>\n",
       "</table>\n",
       "</div>"
      ],
      "text/plain": [
       "   bedrooms  sqft_living    price\n",
       "0         3         1340   313000\n",
       "1         5         3650  2384000"
      ]
     },
     "execution_count": 83,
     "metadata": {},
     "output_type": "execute_result"
    }
   ],
   "source": [
    "df.head(2)"
   ]
  },
  {
   "cell_type": "code",
   "execution_count": 110,
   "id": "3709f5b2",
   "metadata": {},
   "outputs": [],
   "source": [
    "x = tf.constant([[x1,x2]],dtype=tf.float32)\n",
    "Y = y[0]"
   ]
  },
  {
   "cell_type": "code",
   "execution_count": 99,
   "id": "4856b113",
   "metadata": {},
   "outputs": [],
   "source": [
    "## function to randomly initialize the weights and bias of the network\n",
    "def random_init_params():\n",
    "    w1 = tf.Variable(tf.random.uniform((2,2)))\n",
    "    b1 = tf.Variable(tf.random.uniform((2,1)))\n",
    "    w2 = tf.Variable(tf.random.uniform((1,2)))\n",
    "    b2 = tf.Variable(tf.random.uniform((1,1)))\n",
    "    return w1,b1,w2,b2\n",
    "\n",
    "## function for forward propagation\n",
    "def forward_prop(x,w1,b1,w2,b2):\n",
    "    z1 = tf.matmul(w1,tf.transpose(x)) + b1\n",
    "    h1 = tf.math.sigmoid(z1)\n",
    "    z2 = tf.matmul(w2,h1)+b2\n",
    "    h2 = z2\n",
    "    return h2"
   ]
  },
  {
   "cell_type": "code",
   "execution_count": 100,
   "id": "ffa16779",
   "metadata": {},
   "outputs": [],
   "source": [
    "w1,b1,w2,b2 = random_init_params()"
   ]
  },
  {
   "cell_type": "code",
   "execution_count": 101,
   "id": "c851de98",
   "metadata": {},
   "outputs": [],
   "source": [
    "with tf.GradientTape() as tape:\n",
    "    y_pred= forward_prop(x,w1,b1,w2,b2)\n",
    "    loss = 0.5*(Y - y_pred)**2"
   ]
  },
  {
   "cell_type": "code",
   "execution_count": 102,
   "id": "2dfc0210",
   "metadata": {},
   "outputs": [],
   "source": [
    "gw1 , gb1,gw2,gb2 = tape.gradient(loss,[w1,b1,w2,b2])"
   ]
  },
  {
   "cell_type": "code",
   "execution_count": 103,
   "id": "c00856f4",
   "metadata": {},
   "outputs": [
    {
     "data": {
      "text/plain": [
       "<tf.Tensor: shape=(2, 2), dtype=float32, numpy=\n",
       "array([[0.4803885 , 0.83531445],\n",
       "       [0.8527377 , 1.4827669 ]], dtype=float32)>"
      ]
     },
     "execution_count": 103,
     "metadata": {},
     "output_type": "execute_result"
    }
   ],
   "source": [
    "gw1"
   ]
  },
  {
   "cell_type": "code",
   "execution_count": 104,
   "id": "17cdeca2",
   "metadata": {},
   "outputs": [
    {
     "data": {
      "text/plain": [
       "<tf.Tensor: shape=(2, 1), dtype=float32, numpy=\n",
       "array([[-1.1089361],\n",
       "       [-1.9684727]], dtype=float32)>"
      ]
     },
     "execution_count": 104,
     "metadata": {},
     "output_type": "execute_result"
    }
   ],
   "source": [
    "gb1"
   ]
  },
  {
   "cell_type": "code",
   "execution_count": 105,
   "id": "ccb1620f",
   "metadata": {},
   "outputs": [
    {
     "data": {
      "text/plain": [
       "<tf.Tensor: shape=(1, 2), dtype=float32, numpy=array([[-7.2578382, -5.2738485]], dtype=float32)>"
      ]
     },
     "execution_count": 105,
     "metadata": {},
     "output_type": "execute_result"
    }
   ],
   "source": [
    "gw2"
   ]
  },
  {
   "cell_type": "code",
   "execution_count": 106,
   "id": "459a3ffa",
   "metadata": {},
   "outputs": [
    {
     "data": {
      "text/plain": [
       "<tf.Tensor: shape=(1, 1), dtype=float32, numpy=array([[-11.050636]], dtype=float32)>"
      ]
     },
     "execution_count": 106,
     "metadata": {},
     "output_type": "execute_result"
    }
   ],
   "source": [
    "gb2"
   ]
  },
  {
   "cell_type": "code",
   "execution_count": 107,
   "id": "81946dbc",
   "metadata": {},
   "outputs": [
    {
     "data": {
      "text/plain": [
       "<tf.Variable 'UnreadVariable' shape=(1, 1) dtype=float32, numpy=array([[1.0806936]], dtype=float32)>"
      ]
     },
     "execution_count": 107,
     "metadata": {},
     "output_type": "execute_result"
    }
   ],
   "source": [
    "lr = 0.01\n",
    "w1.assign_sub(lr*gw1)\n",
    "b1.assign_sub(lr*gb1)\n",
    "w2.assign_sub(lr*gw2)\n",
    "b2.assign_sub(lr*gb2)"
   ]
  },
  {
   "cell_type": "markdown",
   "id": "060ff6c5",
   "metadata": {},
   "source": [
    "### Part 4 : Training Loop"
   ]
  },
  {
   "cell_type": "code",
   "execution_count": 115,
   "id": "70f496d1",
   "metadata": {},
   "outputs": [],
   "source": [
    "def train_one_step(x,y,w1,b1,w2,b2):\n",
    "    y_true = y\n",
    "    with tf.GradientTape() as g:\n",
    "        y_pred = forward_prop(x,w1,b1,w2,b2)\n",
    "        \n",
    "        ## Loss\n",
    "        loss= 0.5*(y_true - y_pred)**2\n",
    "        \n",
    "    ## Gradient calculation\n",
    "    print(\"************************************************\")\n",
    "    print(\"GRADIENTS\")\n",
    "    print(\"************************************************\")\n",
    "    gw1 ,gb1,gw2,gb2 = g.gradient(loss,[w1,b1,w2,b2])\n",
    "    print(\"the gradient of 1st layer weights are:\\n\",gw1.numpy())\n",
    "    print(\"-------------------------------------------------\")\n",
    "    print(\"the gradient of 2nd layer weights are:\\n\",gw2.numpy())\n",
    "    print(\"-------------------------------------------------\")\n",
    "    print(\"the gradient of 1st layer bias are:\\n\",gb1.numpy())\n",
    "    print(\"-------------------------------------------------\")\n",
    "    print(\"the gradient of 2nd layer bias are:\\n\",gb2.numpy())\n",
    "    print(\"-------------------------------------------------\")\n",
    "    print(\"The initial loss:\",loss)\n",
    "    \n",
    "    #Gradient descent:\n",
    "    lr = 0.2\n",
    "    w1.assign_sub(lr*gw1)\n",
    "    b1.assign_sub(lr*gb1)\n",
    "    w2.assign_sub(lr*gw2)\n",
    "    b2.assign_sub(lr*gb2)\n",
    "    y_pred = forward_prop(x,w1,b1,w2,b2)\n",
    "    loss= 0.5*(y_true - y_pred)**2\n",
    "    print(\"************************************************\")\n",
    "    print(\"NEW UPDATES\")\n",
    "    print(\"************************************************\")\n",
    "    print(\"the updated 1st layer weights are\\n:\",w1.numpy())\n",
    "    print(\"-------------------------------------------------\")\n",
    "    print(\"The updated 2nd layer weights are\\n:\",w2.numpy())\n",
    "    print(\"-------------------------------------------------\")\n",
    "    print(\"The updated 1st layer bias are\\n:\",b1.numpy())\n",
    "    print(\"-------------------------------------------------\")\n",
    "    print(\"The updated 2nd layer bias are\\n:\",b2.numpy())\n",
    "    print(\"-------------------------------------------------\")\n",
    "    print(\"The updated loss is:\",loss)\n",
    "    return w1,b1,w2,b2,loss"
   ]
  },
  {
   "cell_type": "code",
   "execution_count": 116,
   "id": "dda6b34d",
   "metadata": {},
   "outputs": [
    {
     "name": "stdout",
     "output_type": "stream",
     "text": [
      "************************************************\n",
      "GRADIENTS\n",
      "************************************************\n",
      "the gradient of 1st layer weights are:\n",
      " [[0.02431548 0.0422805 ]\n",
      " [0.21466026 0.3732579 ]]\n",
      "-------------------------------------------------\n",
      "the gradient of 2nd layer weights are:\n",
      " [[-7.6577587 -6.0803123]]\n",
      "-------------------------------------------------\n",
      "the gradient of 1st layer bias are:\n",
      " [[-0.05613021]\n",
      " [-0.49552497]]\n",
      "-------------------------------------------------\n",
      "the gradient of 2nd layer bias are:\n",
      " [[-12.007863]]\n",
      "-------------------------------------------------\n",
      "The initial loss: tf.Tensor([[72.09439]], shape=(1, 1), dtype=float32)\n",
      "************************************************\n",
      "NEW UPDATES\n",
      "************************************************\n",
      "the updated 1st layer weights are\n",
      ": [[0.18614332 0.18174054]\n",
      " [0.54136896 0.6135037 ]]\n",
      "-------------------------------------------------\n",
      "The updated 2nd layer weights are\n",
      ": [[1.5517848 1.381156 ]]\n",
      "-------------------------------------------------\n",
      "The updated 1st layer bias are\n",
      ": [[0.80275595]\n",
      " [0.8960258 ]]\n",
      "-------------------------------------------------\n",
      "The updated 2nd layer bias are\n",
      ": [[2.9511676]]\n",
      "-------------------------------------------------\n",
      "The updated loss is: tf.Tensor([[31.576885]], shape=(1, 1), dtype=float32)\n"
     ]
    }
   ],
   "source": [
    "w1,b1,w2,b2 = random_init_params()\n",
    "w1,b1,w2,b2,loss = train_one_step(x,Y,w1,b1,w2,b2)"
   ]
  },
  {
   "cell_type": "markdown",
   "id": "0ee94ed4",
   "metadata": {},
   "source": [
    "- Clearly there is a decrease in the loss we have seen."
   ]
  }
 ],
 "metadata": {
  "kernelspec": {
   "display_name": "Python 3 (ipykernel)",
   "language": "python",
   "name": "python3"
  },
  "language_info": {
   "codemirror_mode": {
    "name": "ipython",
    "version": 3
   },
   "file_extension": ".py",
   "mimetype": "text/x-python",
   "name": "python",
   "nbconvert_exporter": "python",
   "pygments_lexer": "ipython3",
   "version": "3.10.9"
  }
 },
 "nbformat": 4,
 "nbformat_minor": 5
}
