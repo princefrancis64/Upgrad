{
 "cells": [
  {
   "cell_type": "code",
   "execution_count": 1,
   "id": "ce249b8d",
   "metadata": {},
   "outputs": [],
   "source": [
    "import pandas as pd\n",
    "import numpy as np\n",
    "import matplotlib.pyplot as plt\n",
    "%matplotlib inline\n",
    "\n",
    "import warnings\n",
    "warnings.filterwarnings('ignore')"
   ]
  },
  {
   "cell_type": "code",
   "execution_count": 4,
   "id": "39131d42",
   "metadata": {},
   "outputs": [],
   "source": [
    "df = pd.read_csv('bitcoinfinal+(4).csv',header=None)\n",
    "df.columns = ['Month','Bitcoin_Price']"
   ]
  },
  {
   "cell_type": "code",
   "execution_count": 5,
   "id": "9ef0cb30",
   "metadata": {},
   "outputs": [
    {
     "data": {
      "text/html": [
       "<div>\n",
       "<style scoped>\n",
       "    .dataframe tbody tr th:only-of-type {\n",
       "        vertical-align: middle;\n",
       "    }\n",
       "\n",
       "    .dataframe tbody tr th {\n",
       "        vertical-align: top;\n",
       "    }\n",
       "\n",
       "    .dataframe thead th {\n",
       "        text-align: right;\n",
       "    }\n",
       "</style>\n",
       "<table border=\"1\" class=\"dataframe\">\n",
       "  <thead>\n",
       "    <tr style=\"text-align: right;\">\n",
       "      <th></th>\n",
       "      <th>Bitcoin_Price</th>\n",
       "    </tr>\n",
       "    <tr>\n",
       "      <th>Month</th>\n",
       "      <th></th>\n",
       "    </tr>\n",
       "  </thead>\n",
       "  <tbody>\n",
       "    <tr>\n",
       "      <th>0</th>\n",
       "      <td>217.4</td>\n",
       "    </tr>\n",
       "    <tr>\n",
       "      <th>1</th>\n",
       "      <td>255.7</td>\n",
       "    </tr>\n",
       "    <tr>\n",
       "      <th>2</th>\n",
       "      <td>244.3</td>\n",
       "    </tr>\n",
       "    <tr>\n",
       "      <th>3</th>\n",
       "      <td>236.1</td>\n",
       "    </tr>\n",
       "    <tr>\n",
       "      <th>4</th>\n",
       "      <td>228.7</td>\n",
       "    </tr>\n",
       "  </tbody>\n",
       "</table>\n",
       "</div>"
      ],
      "text/plain": [
       "       Bitcoin_Price\n",
       "Month               \n",
       "0              217.4\n",
       "1              255.7\n",
       "2              244.3\n",
       "3              236.1\n",
       "4              228.7"
      ]
     },
     "execution_count": 5,
     "metadata": {},
     "output_type": "execute_result"
    }
   ],
   "source": [
    "df = df.set_index('Month')\n",
    "df.head()"
   ]
  },
  {
   "cell_type": "code",
   "execution_count": 6,
   "id": "81408fb3",
   "metadata": {},
   "outputs": [],
   "source": [
    "train_len = 29\n",
    "train = df[:train_len]\n",
    "test = df[train_len:]"
   ]
  },
  {
   "cell_type": "markdown",
   "id": "923e4709",
   "metadata": {},
   "source": [
    "### Naive Method"
   ]
  },
  {
   "cell_type": "code",
   "execution_count": 8,
   "id": "9098e7cc",
   "metadata": {},
   "outputs": [
    {
     "data": {
      "text/plain": [
       "Month\n",
       "29    2191.8\n",
       "30    2191.8\n",
       "31    2191.8\n",
       "Name: naive_forecast, dtype: float64"
      ]
     },
     "execution_count": 8,
     "metadata": {},
     "output_type": "execute_result"
    }
   ],
   "source": [
    "y_hat_naive = test.copy()\n",
    "y_hat_naive['naive_forecast'] = train['Bitcoin_Price'][train_len-1]\n",
    "y_hat_naive['naive_forecast']"
   ]
  },
  {
   "cell_type": "code",
   "execution_count": 11,
   "id": "ea67302e",
   "metadata": {},
   "outputs": [
    {
     "data": {
      "text/plain": [
       "(1265.9, 27.12)"
      ]
     },
     "execution_count": 11,
     "metadata": {},
     "output_type": "execute_result"
    }
   ],
   "source": [
    "## rmse and mape\n",
    "from sklearn.metrics import mean_squared_error\n",
    "rmse = np.sqrt(np.mean(mean_squared_error(test['Bitcoin_Price'],y_hat_naive['naive_forecast']))).round(2)\n",
    "mape = np.round(np.mean(np.abs(test['Bitcoin_Price']-y_hat_naive['naive_forecast'])/test['Bitcoin_Price']*100),2)\n",
    "rmse,mape"
   ]
  },
  {
   "cell_type": "code",
   "execution_count": 12,
   "id": "3145f2b5",
   "metadata": {},
   "outputs": [
    {
     "data": {
      "text/html": [
       "<div>\n",
       "<style scoped>\n",
       "    .dataframe tbody tr th:only-of-type {\n",
       "        vertical-align: middle;\n",
       "    }\n",
       "\n",
       "    .dataframe tbody tr th {\n",
       "        vertical-align: top;\n",
       "    }\n",
       "\n",
       "    .dataframe thead th {\n",
       "        text-align: right;\n",
       "    }\n",
       "</style>\n",
       "<table border=\"1\" class=\"dataframe\">\n",
       "  <thead>\n",
       "    <tr style=\"text-align: right;\">\n",
       "      <th></th>\n",
       "      <th>Method</th>\n",
       "      <th>RMSE</th>\n",
       "      <th>MAPE</th>\n",
       "    </tr>\n",
       "  </thead>\n",
       "  <tbody>\n",
       "    <tr>\n",
       "      <th>0</th>\n",
       "      <td>Naive Forecast</td>\n",
       "      <td>1265.9</td>\n",
       "      <td>27.12</td>\n",
       "    </tr>\n",
       "  </tbody>\n",
       "</table>\n",
       "</div>"
      ],
      "text/plain": [
       "           Method    RMSE   MAPE\n",
       "0  Naive Forecast  1265.9  27.12"
      ]
     },
     "execution_count": 12,
     "metadata": {},
     "output_type": "execute_result"
    }
   ],
   "source": [
    "results = pd.DataFrame({\n",
    "    'Method':['Naive Forecast'],\n",
    "    'RMSE':rmse,\n",
    "    'MAPE':mape\n",
    "})\n",
    "results"
   ]
  },
  {
   "cell_type": "markdown",
   "id": "2322a797",
   "metadata": {},
   "source": [
    "### Simple Average Method"
   ]
  },
  {
   "cell_type": "code",
   "execution_count": 10,
   "id": "5df3be78",
   "metadata": {},
   "outputs": [
    {
     "data": {
      "text/plain": [
       "Month\n",
       "29    595.751724\n",
       "30    595.751724\n",
       "31    595.751724\n",
       "Name: sa_forecast, dtype: float64"
      ]
     },
     "execution_count": 10,
     "metadata": {},
     "output_type": "execute_result"
    }
   ],
   "source": [
    "y_hat_sa = test.copy()\n",
    "y_hat_sa['sa_forecast'] = train['Bitcoin_Price'].mean()\n",
    "y_hat_sa['sa_forecast']"
   ]
  },
  {
   "cell_type": "code",
   "execution_count": 13,
   "id": "ce4e4156",
   "metadata": {},
   "outputs": [],
   "source": [
    "rmse = np.sqrt(np.mean(mean_squared_error(test['Bitcoin_Price'],y_hat_sa['sa_forecast']))).round(2)\n",
    "mape = np.round(np.mean(np.abs(test['Bitcoin_Price']-y_hat_sa['sa_forecast'])/test['Bitcoin_Price']*100),2)\n",
    "results.loc[len(results)] = ['Simple Average Method',rmse,mape]"
   ]
  },
  {
   "cell_type": "code",
   "execution_count": 14,
   "id": "dda50544",
   "metadata": {},
   "outputs": [
    {
     "data": {
      "text/html": [
       "<div>\n",
       "<style scoped>\n",
       "    .dataframe tbody tr th:only-of-type {\n",
       "        vertical-align: middle;\n",
       "    }\n",
       "\n",
       "    .dataframe tbody tr th {\n",
       "        vertical-align: top;\n",
       "    }\n",
       "\n",
       "    .dataframe thead th {\n",
       "        text-align: right;\n",
       "    }\n",
       "</style>\n",
       "<table border=\"1\" class=\"dataframe\">\n",
       "  <thead>\n",
       "    <tr style=\"text-align: right;\">\n",
       "      <th></th>\n",
       "      <th>Method</th>\n",
       "      <th>RMSE</th>\n",
       "      <th>MAPE</th>\n",
       "    </tr>\n",
       "  </thead>\n",
       "  <tbody>\n",
       "    <tr>\n",
       "      <th>0</th>\n",
       "      <td>Naive Forecast</td>\n",
       "      <td>1265.90</td>\n",
       "      <td>27.12</td>\n",
       "    </tr>\n",
       "    <tr>\n",
       "      <th>1</th>\n",
       "      <td>Simple Average Method</td>\n",
       "      <td>2703.73</td>\n",
       "      <td>80.19</td>\n",
       "    </tr>\n",
       "  </tbody>\n",
       "</table>\n",
       "</div>"
      ],
      "text/plain": [
       "                  Method     RMSE   MAPE\n",
       "0         Naive Forecast  1265.90  27.12\n",
       "1  Simple Average Method  2703.73  80.19"
      ]
     },
     "execution_count": 14,
     "metadata": {},
     "output_type": "execute_result"
    }
   ],
   "source": [
    "results"
   ]
  },
  {
   "cell_type": "markdown",
   "id": "b8e3a089",
   "metadata": {},
   "source": [
    "### Moving Average"
   ]
  },
  {
   "cell_type": "code",
   "execution_count": 17,
   "id": "6677aec7",
   "metadata": {},
   "outputs": [],
   "source": [
    "y_hat_ma_12 = df.copy()\n",
    "y_hat_ma_12['ma_forecast_12'] = df['Bitcoin_Price'].rolling(12).mean()\n",
    "y_hat_ma_12['ma_forecast_12'][train_len:] = y_hat_ma_12['ma_forecast_12'][train_len-1]\n",
    "rmse = np.sqrt(np.mean(mean_squared_error(test['Bitcoin_Price'],y_hat_ma_12['ma_forecast_12'][train_len:]))).round(2)\n",
    "mape = np.round(np.mean(np.abs(test['Bitcoin_Price']-y_hat_ma_12['ma_forecast_12'][train_len:])/test['Bitcoin_Price']*100),2)\n",
    "results.loc[len(results)] = ['Moving Average Method_12',rmse,mape]"
   ]
  },
  {
   "cell_type": "code",
   "execution_count": 18,
   "id": "b8e1a2d2",
   "metadata": {},
   "outputs": [
    {
     "data": {
      "text/html": [
       "<div>\n",
       "<style scoped>\n",
       "    .dataframe tbody tr th:only-of-type {\n",
       "        vertical-align: middle;\n",
       "    }\n",
       "\n",
       "    .dataframe tbody tr th {\n",
       "        vertical-align: top;\n",
       "    }\n",
       "\n",
       "    .dataframe thead th {\n",
       "        text-align: right;\n",
       "    }\n",
       "</style>\n",
       "<table border=\"1\" class=\"dataframe\">\n",
       "  <thead>\n",
       "    <tr style=\"text-align: right;\">\n",
       "      <th></th>\n",
       "      <th>Method</th>\n",
       "      <th>RMSE</th>\n",
       "      <th>MAPE</th>\n",
       "    </tr>\n",
       "  </thead>\n",
       "  <tbody>\n",
       "    <tr>\n",
       "      <th>0</th>\n",
       "      <td>Naive Forecast</td>\n",
       "      <td>1265.90</td>\n",
       "      <td>27.12</td>\n",
       "    </tr>\n",
       "    <tr>\n",
       "      <th>1</th>\n",
       "      <td>Simple Average Method</td>\n",
       "      <td>2703.73</td>\n",
       "      <td>80.19</td>\n",
       "    </tr>\n",
       "    <tr>\n",
       "      <th>2</th>\n",
       "      <td>Moving Average Method_12</td>\n",
       "      <td>2338.94</td>\n",
       "      <td>67.42</td>\n",
       "    </tr>\n",
       "  </tbody>\n",
       "</table>\n",
       "</div>"
      ],
      "text/plain": [
       "                     Method     RMSE   MAPE\n",
       "0            Naive Forecast  1265.90  27.12\n",
       "1     Simple Average Method  2703.73  80.19\n",
       "2  Moving Average Method_12  2338.94  67.42"
      ]
     },
     "execution_count": 18,
     "metadata": {},
     "output_type": "execute_result"
    }
   ],
   "source": [
    "results"
   ]
  },
  {
   "cell_type": "code",
   "execution_count": 19,
   "id": "2bb5ce8c",
   "metadata": {},
   "outputs": [],
   "source": [
    "y_hat_ma_6 = df.copy()\n",
    "y_hat_ma_6['ma_forecast_6'] = df['Bitcoin_Price'].rolling(6).mean()\n",
    "y_hat_ma_6['ma_forecast_6'][train_len:] = y_hat_ma_6['ma_forecast_6'][train_len-1]\n",
    "rmse = np.sqrt(np.mean(mean_squared_error(test['Bitcoin_Price'],y_hat_ma_6['ma_forecast_6'][train_len:]))).round(2)\n",
    "mape = np.round(np.mean(np.abs(test['Bitcoin_Price']-y_hat_ma_6['ma_forecast_6'][train_len:])/test['Bitcoin_Price']*100),2)\n",
    "results.loc[len(results)] = ['Moving Average Method_6',rmse,mape]"
   ]
  },
  {
   "cell_type": "code",
   "execution_count": 20,
   "id": "5eeb4585",
   "metadata": {},
   "outputs": [
    {
     "data": {
      "text/html": [
       "<div>\n",
       "<style scoped>\n",
       "    .dataframe tbody tr th:only-of-type {\n",
       "        vertical-align: middle;\n",
       "    }\n",
       "\n",
       "    .dataframe tbody tr th {\n",
       "        vertical-align: top;\n",
       "    }\n",
       "\n",
       "    .dataframe thead th {\n",
       "        text-align: right;\n",
       "    }\n",
       "</style>\n",
       "<table border=\"1\" class=\"dataframe\">\n",
       "  <thead>\n",
       "    <tr style=\"text-align: right;\">\n",
       "      <th></th>\n",
       "      <th>Method</th>\n",
       "      <th>RMSE</th>\n",
       "      <th>MAPE</th>\n",
       "    </tr>\n",
       "  </thead>\n",
       "  <tbody>\n",
       "    <tr>\n",
       "      <th>0</th>\n",
       "      <td>Naive Forecast</td>\n",
       "      <td>1265.90</td>\n",
       "      <td>27.12</td>\n",
       "    </tr>\n",
       "    <tr>\n",
       "      <th>1</th>\n",
       "      <td>Simple Average Method</td>\n",
       "      <td>2703.73</td>\n",
       "      <td>80.19</td>\n",
       "    </tr>\n",
       "    <tr>\n",
       "      <th>2</th>\n",
       "      <td>Moving Average Method_12</td>\n",
       "      <td>2338.94</td>\n",
       "      <td>67.42</td>\n",
       "    </tr>\n",
       "    <tr>\n",
       "      <th>3</th>\n",
       "      <td>Moving Average Method_6</td>\n",
       "      <td>2035.79</td>\n",
       "      <td>56.61</td>\n",
       "    </tr>\n",
       "    <tr>\n",
       "      <th>4</th>\n",
       "      <td>Moving Average Method_3</td>\n",
       "      <td>1794.92</td>\n",
       "      <td>47.81</td>\n",
       "    </tr>\n",
       "  </tbody>\n",
       "</table>\n",
       "</div>"
      ],
      "text/plain": [
       "                     Method     RMSE   MAPE\n",
       "0            Naive Forecast  1265.90  27.12\n",
       "1     Simple Average Method  2703.73  80.19\n",
       "2  Moving Average Method_12  2338.94  67.42\n",
       "3   Moving Average Method_6  2035.79  56.61\n",
       "4   Moving Average Method_3  1794.92  47.81"
      ]
     },
     "execution_count": 20,
     "metadata": {},
     "output_type": "execute_result"
    }
   ],
   "source": [
    "y_hat_ma_3 = df.copy()\n",
    "y_hat_ma_3['ma_forecast_3'] = df['Bitcoin_Price'].rolling(3).mean()\n",
    "y_hat_ma_3['ma_forecast_3'][train_len:] = y_hat_ma_3['ma_forecast_3'][train_len-1]\n",
    "rmse = np.sqrt(np.mean(mean_squared_error(test['Bitcoin_Price'],y_hat_ma_3['ma_forecast_3'][train_len:]))).round(2)\n",
    "mape = np.round(np.mean(np.abs(test['Bitcoin_Price']-y_hat_ma_3['ma_forecast_3'][train_len:])/test['Bitcoin_Price']*100),2)\n",
    "results.loc[len(results)] = ['Moving Average Method_3',rmse,mape]\n",
    "results"
   ]
  },
  {
   "cell_type": "markdown",
   "id": "34c440cb",
   "metadata": {},
   "source": [
    "### Simple Exponential Smoothing"
   ]
  },
  {
   "cell_type": "code",
   "execution_count": 21,
   "id": "2c56f04c",
   "metadata": {},
   "outputs": [
    {
     "name": "stdout",
     "output_type": "stream",
     "text": [
      "{'smoothing_level': 0.995, 'smoothing_trend': nan, 'smoothing_seasonal': nan, 'damping_trend': nan, 'initial_level': 217.4, 'initial_trend': nan, 'initial_seasons': array([], dtype=float64), 'use_boxcox': False, 'lamda': None, 'remove_bias': False}\n"
     ]
    },
    {
     "data": {
      "text/html": [
       "<div>\n",
       "<style scoped>\n",
       "    .dataframe tbody tr th:only-of-type {\n",
       "        vertical-align: middle;\n",
       "    }\n",
       "\n",
       "    .dataframe tbody tr th {\n",
       "        vertical-align: top;\n",
       "    }\n",
       "\n",
       "    .dataframe thead th {\n",
       "        text-align: right;\n",
       "    }\n",
       "</style>\n",
       "<table border=\"1\" class=\"dataframe\">\n",
       "  <thead>\n",
       "    <tr style=\"text-align: right;\">\n",
       "      <th></th>\n",
       "      <th>Method</th>\n",
       "      <th>RMSE</th>\n",
       "      <th>MAPE</th>\n",
       "    </tr>\n",
       "  </thead>\n",
       "  <tbody>\n",
       "    <tr>\n",
       "      <th>0</th>\n",
       "      <td>Naive Forecast</td>\n",
       "      <td>1265.90</td>\n",
       "      <td>27.12</td>\n",
       "    </tr>\n",
       "    <tr>\n",
       "      <th>1</th>\n",
       "      <td>Simple Average Method</td>\n",
       "      <td>2703.73</td>\n",
       "      <td>80.19</td>\n",
       "    </tr>\n",
       "    <tr>\n",
       "      <th>2</th>\n",
       "      <td>Moving Average Method_12</td>\n",
       "      <td>2338.94</td>\n",
       "      <td>67.42</td>\n",
       "    </tr>\n",
       "    <tr>\n",
       "      <th>3</th>\n",
       "      <td>Moving Average Method_6</td>\n",
       "      <td>2035.79</td>\n",
       "      <td>56.61</td>\n",
       "    </tr>\n",
       "    <tr>\n",
       "      <th>4</th>\n",
       "      <td>Moving Average Method_3</td>\n",
       "      <td>1794.92</td>\n",
       "      <td>47.81</td>\n",
       "    </tr>\n",
       "    <tr>\n",
       "      <th>5</th>\n",
       "      <td>Simple Exponential Smoothing</td>\n",
       "      <td>1268.86</td>\n",
       "      <td>27.25</td>\n",
       "    </tr>\n",
       "  </tbody>\n",
       "</table>\n",
       "</div>"
      ],
      "text/plain": [
       "                         Method     RMSE   MAPE\n",
       "0                Naive Forecast  1265.90  27.12\n",
       "1         Simple Average Method  2703.73  80.19\n",
       "2      Moving Average Method_12  2338.94  67.42\n",
       "3       Moving Average Method_6  2035.79  56.61\n",
       "4       Moving Average Method_3  1794.92  47.81\n",
       "5  Simple Exponential Smoothing  1268.86  27.25"
      ]
     },
     "execution_count": 21,
     "metadata": {},
     "output_type": "execute_result"
    }
   ],
   "source": [
    "from statsmodels.tsa.holtwinters import SimpleExpSmoothing\n",
    "model = SimpleExpSmoothing(train['Bitcoin_Price'])\n",
    "model_fit = model.fit(optimized=True)\n",
    "print(model_fit.params)\n",
    "y_hat_ses = test.copy()\n",
    "y_hat_ses['ses_forecast'] = model_fit.forecast(len(test))\n",
    "rmse = np.sqrt(np.mean(mean_squared_error(test['Bitcoin_Price'],y_hat_ses['ses_forecast']))).round(2)\n",
    "mape = np.round(np.mean(np.abs(test['Bitcoin_Price']-y_hat_ses['ses_forecast'])/test['Bitcoin_Price']*100),2)\n",
    "results.loc[len(results)] = ['Simple Exponential Smoothing',rmse,mape]\n",
    "results"
   ]
  },
  {
   "cell_type": "markdown",
   "id": "d1402962",
   "metadata": {},
   "source": [
    "### Holt Exponential Smoothing"
   ]
  },
  {
   "cell_type": "code",
   "execution_count": 22,
   "id": "5cdec2f9",
   "metadata": {},
   "outputs": [
    {
     "name": "stdout",
     "output_type": "stream",
     "text": [
      "{'smoothing_level': 0.995, 'smoothing_trend': 0.4264285714285714, 'smoothing_seasonal': nan, 'damping_trend': nan, 'initial_level': 222.41999999999987, 'initial_trend': 5.2600000000000176, 'initial_seasons': array([], dtype=float64), 'use_boxcox': False, 'lamda': None, 'remove_bias': False}\n"
     ]
    }
   ],
   "source": [
    "from statsmodels.tsa.holtwinters import ExponentialSmoothing\n",
    "model = ExponentialSmoothing(np.asarray(train['Bitcoin_Price']),seasonal_periods=12,trend='additive',seasonal=None)\n",
    "model_fit = model.fit(optimized=True)\n",
    "print(model_fit.params)"
   ]
  },
  {
   "cell_type": "code",
   "execution_count": 23,
   "id": "e8432812",
   "metadata": {},
   "outputs": [
    {
     "data": {
      "text/html": [
       "<div>\n",
       "<style scoped>\n",
       "    .dataframe tbody tr th:only-of-type {\n",
       "        vertical-align: middle;\n",
       "    }\n",
       "\n",
       "    .dataframe tbody tr th {\n",
       "        vertical-align: top;\n",
       "    }\n",
       "\n",
       "    .dataframe thead th {\n",
       "        text-align: right;\n",
       "    }\n",
       "</style>\n",
       "<table border=\"1\" class=\"dataframe\">\n",
       "  <thead>\n",
       "    <tr style=\"text-align: right;\">\n",
       "      <th></th>\n",
       "      <th>Method</th>\n",
       "      <th>RMSE</th>\n",
       "      <th>MAPE</th>\n",
       "    </tr>\n",
       "  </thead>\n",
       "  <tbody>\n",
       "    <tr>\n",
       "      <th>0</th>\n",
       "      <td>Naive Forecast</td>\n",
       "      <td>1265.90</td>\n",
       "      <td>27.12</td>\n",
       "    </tr>\n",
       "    <tr>\n",
       "      <th>1</th>\n",
       "      <td>Simple Average Method</td>\n",
       "      <td>2703.73</td>\n",
       "      <td>80.19</td>\n",
       "    </tr>\n",
       "    <tr>\n",
       "      <th>2</th>\n",
       "      <td>Moving Average Method_12</td>\n",
       "      <td>2338.94</td>\n",
       "      <td>67.42</td>\n",
       "    </tr>\n",
       "    <tr>\n",
       "      <th>3</th>\n",
       "      <td>Moving Average Method_6</td>\n",
       "      <td>2035.79</td>\n",
       "      <td>56.61</td>\n",
       "    </tr>\n",
       "    <tr>\n",
       "      <th>4</th>\n",
       "      <td>Moving Average Method_3</td>\n",
       "      <td>1794.92</td>\n",
       "      <td>47.81</td>\n",
       "    </tr>\n",
       "    <tr>\n",
       "      <th>5</th>\n",
       "      <td>Simple Exponential Smoothing</td>\n",
       "      <td>1268.86</td>\n",
       "      <td>27.25</td>\n",
       "    </tr>\n",
       "    <tr>\n",
       "      <th>6</th>\n",
       "      <td>Holts Exponential Smoothing</td>\n",
       "      <td>497.91</td>\n",
       "      <td>10.99</td>\n",
       "    </tr>\n",
       "  </tbody>\n",
       "</table>\n",
       "</div>"
      ],
      "text/plain": [
       "                         Method     RMSE   MAPE\n",
       "0                Naive Forecast  1265.90  27.12\n",
       "1         Simple Average Method  2703.73  80.19\n",
       "2      Moving Average Method_12  2338.94  67.42\n",
       "3       Moving Average Method_6  2035.79  56.61\n",
       "4       Moving Average Method_3  1794.92  47.81\n",
       "5  Simple Exponential Smoothing  1268.86  27.25\n",
       "6   Holts Exponential Smoothing   497.91  10.99"
      ]
     },
     "execution_count": 23,
     "metadata": {},
     "output_type": "execute_result"
    }
   ],
   "source": [
    "y_hat_hes=test.copy()\n",
    "y_hat_hes['hes_forecast'] = model_fit.forecast(len(test))\n",
    "rmse = np.sqrt(np.mean(mean_squared_error(test['Bitcoin_Price'],y_hat_hes['hes_forecast']))).round(2)\n",
    "mape = np.round(np.mean(np.abs(test['Bitcoin_Price']-y_hat_hes['hes_forecast'])/test['Bitcoin_Price']*100),2)\n",
    "results.loc[len(results)] = ['Holts Exponential Smoothing',rmse,mape]\n",
    "results"
   ]
  },
  {
   "cell_type": "markdown",
   "id": "628e36d8",
   "metadata": {},
   "source": [
    "### Holt Winters Additive Method"
   ]
  },
  {
   "cell_type": "code",
   "execution_count": 25,
   "id": "d19636dd",
   "metadata": {},
   "outputs": [],
   "source": [
    "y_hat_hwa = test.copy()\n",
    "model = ExponentialSmoothing(np.asarray(train['Bitcoin_Price']),seasonal_periods=3,trend='add',seasonal='add')\n",
    "model_fit = model.fit(optimized=True)\n",
    "y_hat_hwa['hwa_forecast'] = model_fit.forecast(len(test))\n",
    "rmse = np.sqrt(np.mean(mean_squared_error(test['Bitcoin_Price'],y_hat_hwa['hwa_forecast']))).round(2)\n",
    "mape = np.round(np.mean(np.abs(test['Bitcoin_Price']-y_hat_hwa['hwa_forecast'])/test['Bitcoin_Price']*100),2)\n",
    "results.loc[len(results)] = ['Holt Winters Additive Method',rmse,mape]"
   ]
  },
  {
   "cell_type": "markdown",
   "id": "a6c28c58",
   "metadata": {},
   "source": [
    "### Holt Winters Multiplicative Method"
   ]
  },
  {
   "cell_type": "code",
   "execution_count": 26,
   "id": "0477469d",
   "metadata": {},
   "outputs": [
    {
     "data": {
      "text/html": [
       "<div>\n",
       "<style scoped>\n",
       "    .dataframe tbody tr th:only-of-type {\n",
       "        vertical-align: middle;\n",
       "    }\n",
       "\n",
       "    .dataframe tbody tr th {\n",
       "        vertical-align: top;\n",
       "    }\n",
       "\n",
       "    .dataframe thead th {\n",
       "        text-align: right;\n",
       "    }\n",
       "</style>\n",
       "<table border=\"1\" class=\"dataframe\">\n",
       "  <thead>\n",
       "    <tr style=\"text-align: right;\">\n",
       "      <th></th>\n",
       "      <th>Method</th>\n",
       "      <th>RMSE</th>\n",
       "      <th>MAPE</th>\n",
       "    </tr>\n",
       "  </thead>\n",
       "  <tbody>\n",
       "    <tr>\n",
       "      <th>0</th>\n",
       "      <td>Naive Forecast</td>\n",
       "      <td>1265.90</td>\n",
       "      <td>27.12</td>\n",
       "    </tr>\n",
       "    <tr>\n",
       "      <th>1</th>\n",
       "      <td>Simple Average Method</td>\n",
       "      <td>2703.73</td>\n",
       "      <td>80.19</td>\n",
       "    </tr>\n",
       "    <tr>\n",
       "      <th>2</th>\n",
       "      <td>Moving Average Method_12</td>\n",
       "      <td>2338.94</td>\n",
       "      <td>67.42</td>\n",
       "    </tr>\n",
       "    <tr>\n",
       "      <th>3</th>\n",
       "      <td>Moving Average Method_6</td>\n",
       "      <td>2035.79</td>\n",
       "      <td>56.61</td>\n",
       "    </tr>\n",
       "    <tr>\n",
       "      <th>4</th>\n",
       "      <td>Moving Average Method_3</td>\n",
       "      <td>1794.92</td>\n",
       "      <td>47.81</td>\n",
       "    </tr>\n",
       "    <tr>\n",
       "      <th>5</th>\n",
       "      <td>Simple Exponential Smoothing</td>\n",
       "      <td>1268.86</td>\n",
       "      <td>27.25</td>\n",
       "    </tr>\n",
       "    <tr>\n",
       "      <th>6</th>\n",
       "      <td>Holts Exponential Smoothing</td>\n",
       "      <td>497.91</td>\n",
       "      <td>10.99</td>\n",
       "    </tr>\n",
       "    <tr>\n",
       "      <th>7</th>\n",
       "      <td>Holt Winters Additive Method</td>\n",
       "      <td>500.38</td>\n",
       "      <td>10.28</td>\n",
       "    </tr>\n",
       "    <tr>\n",
       "      <th>8</th>\n",
       "      <td>Holt Winters Multiplicative Method</td>\n",
       "      <td>683.59</td>\n",
       "      <td>15.14</td>\n",
       "    </tr>\n",
       "  </tbody>\n",
       "</table>\n",
       "</div>"
      ],
      "text/plain": [
       "                               Method     RMSE   MAPE\n",
       "0                      Naive Forecast  1265.90  27.12\n",
       "1               Simple Average Method  2703.73  80.19\n",
       "2            Moving Average Method_12  2338.94  67.42\n",
       "3             Moving Average Method_6  2035.79  56.61\n",
       "4             Moving Average Method_3  1794.92  47.81\n",
       "5        Simple Exponential Smoothing  1268.86  27.25\n",
       "6         Holts Exponential Smoothing   497.91  10.99\n",
       "7        Holt Winters Additive Method   500.38  10.28\n",
       "8  Holt Winters Multiplicative Method   683.59  15.14"
      ]
     },
     "execution_count": 26,
     "metadata": {},
     "output_type": "execute_result"
    }
   ],
   "source": [
    "y_hat_hwm = test.copy()\n",
    "model = ExponentialSmoothing(np.asarray(train['Bitcoin_Price']),seasonal_periods=3,trend='add',seasonal='mul')\n",
    "model_fit = model.fit(optimized=True)\n",
    "y_hat_hwm['hwm_forecast'] = model_fit.forecast(len(test))\n",
    "rmse = np.sqrt(np.mean(mean_squared_error(test['Bitcoin_Price'],y_hat_hwm['hwm_forecast']))).round(2)\n",
    "mape = np.round(np.mean(np.abs(test['Bitcoin_Price']-y_hat_hwm['hwm_forecast'])/test['Bitcoin_Price']*100),2)\n",
    "results.loc[len(results)] = ['Holt Winters Multiplicative Method',rmse,mape]\n",
    "results"
   ]
  },
  {
   "cell_type": "code",
   "execution_count": null,
   "id": "2181a565",
   "metadata": {},
   "outputs": [],
   "source": []
  }
 ],
 "metadata": {
  "kernelspec": {
   "display_name": "Python 3 (ipykernel)",
   "language": "python",
   "name": "python3"
  },
  "language_info": {
   "codemirror_mode": {
    "name": "ipython",
    "version": 3
   },
   "file_extension": ".py",
   "mimetype": "text/x-python",
   "name": "python",
   "nbconvert_exporter": "python",
   "pygments_lexer": "ipython3",
   "version": "3.10.9"
  }
 },
 "nbformat": 4,
 "nbformat_minor": 5
}
