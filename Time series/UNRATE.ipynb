{
 "cells": [
  {
   "cell_type": "code",
   "execution_count": 1,
   "id": "b29f18fe",
   "metadata": {},
   "outputs": [],
   "source": [
    "import pandas as pd\n",
    "import numpy as np\n",
    "import matplotlib.pyplot as plt\n",
    "%matplotlib inline\n",
    "\n",
    "import warnings\n",
    "warnings.filterwarnings('ignore')"
   ]
  },
  {
   "cell_type": "code",
   "execution_count": 4,
   "id": "bb808678",
   "metadata": {},
   "outputs": [],
   "source": [
    "df = pd.read_csv('UNRATE.csv',header=None)\n",
    "df.columns = ['Month','Unrate']\n",
    "df['Month'] = pd.to_datetime(df['Month'],format ='%d-%m-%Y')"
   ]
  },
  {
   "cell_type": "code",
   "execution_count": 5,
   "id": "303f1ee3",
   "metadata": {},
   "outputs": [
    {
     "data": {
      "text/html": [
       "<div>\n",
       "<style scoped>\n",
       "    .dataframe tbody tr th:only-of-type {\n",
       "        vertical-align: middle;\n",
       "    }\n",
       "\n",
       "    .dataframe tbody tr th {\n",
       "        vertical-align: top;\n",
       "    }\n",
       "\n",
       "    .dataframe thead th {\n",
       "        text-align: right;\n",
       "    }\n",
       "</style>\n",
       "<table border=\"1\" class=\"dataframe\">\n",
       "  <thead>\n",
       "    <tr style=\"text-align: right;\">\n",
       "      <th></th>\n",
       "      <th>Month</th>\n",
       "      <th>Unrate</th>\n",
       "    </tr>\n",
       "  </thead>\n",
       "  <tbody>\n",
       "    <tr>\n",
       "      <th>0</th>\n",
       "      <td>1948-01-01</td>\n",
       "      <td>3.4</td>\n",
       "    </tr>\n",
       "    <tr>\n",
       "      <th>1</th>\n",
       "      <td>1948-02-01</td>\n",
       "      <td>3.8</td>\n",
       "    </tr>\n",
       "    <tr>\n",
       "      <th>2</th>\n",
       "      <td>1948-03-01</td>\n",
       "      <td>4.0</td>\n",
       "    </tr>\n",
       "    <tr>\n",
       "      <th>3</th>\n",
       "      <td>1948-04-01</td>\n",
       "      <td>3.9</td>\n",
       "    </tr>\n",
       "    <tr>\n",
       "      <th>4</th>\n",
       "      <td>1948-05-01</td>\n",
       "      <td>3.5</td>\n",
       "    </tr>\n",
       "  </tbody>\n",
       "</table>\n",
       "</div>"
      ],
      "text/plain": [
       "       Month  Unrate\n",
       "0 1948-01-01     3.4\n",
       "1 1948-02-01     3.8\n",
       "2 1948-03-01     4.0\n",
       "3 1948-04-01     3.9\n",
       "4 1948-05-01     3.5"
      ]
     },
     "execution_count": 5,
     "metadata": {},
     "output_type": "execute_result"
    }
   ],
   "source": [
    "df.head()"
   ]
  },
  {
   "cell_type": "code",
   "execution_count": 7,
   "id": "10566c88",
   "metadata": {},
   "outputs": [
    {
     "data": {
      "text/html": [
       "<div>\n",
       "<style scoped>\n",
       "    .dataframe tbody tr th:only-of-type {\n",
       "        vertical-align: middle;\n",
       "    }\n",
       "\n",
       "    .dataframe tbody tr th {\n",
       "        vertical-align: top;\n",
       "    }\n",
       "\n",
       "    .dataframe thead th {\n",
       "        text-align: right;\n",
       "    }\n",
       "</style>\n",
       "<table border=\"1\" class=\"dataframe\">\n",
       "  <thead>\n",
       "    <tr style=\"text-align: right;\">\n",
       "      <th></th>\n",
       "      <th>Unrate</th>\n",
       "    </tr>\n",
       "    <tr>\n",
       "      <th>Month</th>\n",
       "      <th></th>\n",
       "    </tr>\n",
       "  </thead>\n",
       "  <tbody>\n",
       "    <tr>\n",
       "      <th>1948-01-01</th>\n",
       "      <td>3.4</td>\n",
       "    </tr>\n",
       "    <tr>\n",
       "      <th>1948-02-01</th>\n",
       "      <td>3.8</td>\n",
       "    </tr>\n",
       "    <tr>\n",
       "      <th>1948-03-01</th>\n",
       "      <td>4.0</td>\n",
       "    </tr>\n",
       "    <tr>\n",
       "      <th>1948-04-01</th>\n",
       "      <td>3.9</td>\n",
       "    </tr>\n",
       "    <tr>\n",
       "      <th>1948-05-01</th>\n",
       "      <td>3.5</td>\n",
       "    </tr>\n",
       "    <tr>\n",
       "      <th>...</th>\n",
       "      <td>...</td>\n",
       "    </tr>\n",
       "    <tr>\n",
       "      <th>2019-11-01</th>\n",
       "      <td>3.5</td>\n",
       "    </tr>\n",
       "    <tr>\n",
       "      <th>2019-12-01</th>\n",
       "      <td>3.5</td>\n",
       "    </tr>\n",
       "    <tr>\n",
       "      <th>2020-01-01</th>\n",
       "      <td>3.6</td>\n",
       "    </tr>\n",
       "    <tr>\n",
       "      <th>2020-02-01</th>\n",
       "      <td>3.5</td>\n",
       "    </tr>\n",
       "    <tr>\n",
       "      <th>2020-03-01</th>\n",
       "      <td>4.4</td>\n",
       "    </tr>\n",
       "  </tbody>\n",
       "</table>\n",
       "<p>867 rows × 1 columns</p>\n",
       "</div>"
      ],
      "text/plain": [
       "            Unrate\n",
       "Month             \n",
       "1948-01-01     3.4\n",
       "1948-02-01     3.8\n",
       "1948-03-01     4.0\n",
       "1948-04-01     3.9\n",
       "1948-05-01     3.5\n",
       "...            ...\n",
       "2019-11-01     3.5\n",
       "2019-12-01     3.5\n",
       "2020-01-01     3.6\n",
       "2020-02-01     3.5\n",
       "2020-03-01     4.4\n",
       "\n",
       "[867 rows x 1 columns]"
      ]
     },
     "execution_count": 7,
     "metadata": {},
     "output_type": "execute_result"
    }
   ],
   "source": [
    "df = df.set_index('Month')\n",
    "df"
   ]
  },
  {
   "cell_type": "code",
   "execution_count": 8,
   "id": "5d8b16fc",
   "metadata": {},
   "outputs": [],
   "source": [
    "## splitting the dataset\n",
    "train_len = 612\n",
    "train = df[:train_len]\n",
    "test = df[train_len:]"
   ]
  },
  {
   "cell_type": "code",
   "execution_count": 9,
   "id": "5ae6251e",
   "metadata": {},
   "outputs": [
    {
     "name": "stdout",
     "output_type": "stream",
     "text": [
      "Collecting statsmodels==0.10.1\n",
      "  Downloading statsmodels-0.10.1.tar.gz (14.1 MB)\n",
      "     ---------------------------------------- 14.1/14.1 MB 1.1 MB/s eta 0:00:00\n",
      "  Preparing metadata (setup.py): started\n",
      "  Preparing metadata (setup.py): finished with status 'error'\n"
     ]
    },
    {
     "name": "stderr",
     "output_type": "stream",
     "text": [
      "  error: subprocess-exited-with-error\n",
      "  \n",
      "  python setup.py egg_info did not run successfully.\n",
      "  exit code: 1\n",
      "  \n",
      "  [61 lines of output]\n",
      "  C:\\Users\\Prince\\AppData\\Local\\Temp\\pip-install-esvqsz3z\\statsmodels_6301525e77b84d40aa0e24eac6a0c6d1\\setup.py:50: DeprecationWarning: distutils Version classes are deprecated. Use packaging.version instead.\n",
      "    req_ver = LooseVersion(SETUP_REQUIREMENTS[key])\n",
      "  C:\\Users\\Prince\\AppData\\Local\\Temp\\pip-install-esvqsz3z\\statsmodels_6301525e77b84d40aa0e24eac6a0c6d1\\setup.py:53: DeprecationWarning: distutils Version classes are deprecated. Use packaging.version instead.\n",
      "    ver = LooseVersion(mod.__version__)\n",
      "  C:\\Users\\Prince\\AppData\\Local\\Temp\\pip-install-esvqsz3z\\statsmodels_6301525e77b84d40aa0e24eac6a0c6d1\\setup.py:50: DeprecationWarning: distutils Version classes are deprecated. Use packaging.version instead.\n",
      "    req_ver = LooseVersion(SETUP_REQUIREMENTS[key])\n",
      "  \n",
      "  Error compiling Cython file:\n",
      "  ------------------------------------------------------------\n",
      "  ...\n",
      "      kfilter._tmp2[0] = scalar * kfilter._forecast_error[0]\n",
      "      blas.dcopy(&model._k_endogstates, model._design, &inc, kfilter._tmp3, &inc)\n",
      "      blas.dscal(&model._k_endogstates, &scalar, kfilter._tmp3, &inc)\n",
      "  \n",
      "      if not (kfilter.conserve_memory & MEMORY_NO_STD_FORECAST > 0):\n",
      "          kfilter._standardized_forecast_error[0] = kfilter._forecast_error[0] * scalar**0.5\n",
      "                                                                               ^\n",
      "  ------------------------------------------------------------\n",
      "  \n",
      "  statsmodels\\tsa\\statespace\\_filters\\_inversions.pyx:421:77: Cannot assign type 'npy_float64 complex' to 'float64_t'\n",
      "  Traceback (most recent call last):\n",
      "    File \"<string>\", line 2, in <module>\n",
      "    File \"<pip-setuptools-caller>\", line 34, in <module>\n",
      "    File \"C:\\Users\\Prince\\AppData\\Local\\Temp\\pip-install-esvqsz3z\\statsmodels_6301525e77b84d40aa0e24eac6a0c6d1\\setup.py\", line 293, in <module>\n",
      "      extensions = cythonize(extensions, compiler_directives=COMPILER_DIRECTIVES,\n",
      "    File \"C:\\Users\\Prince\\anaconda3\\lib\\site-packages\\Cython\\Build\\Dependencies.py\", line 1154, in cythonize\n",
      "      cythonize_one(*args)\n",
      "    File \"C:\\Users\\Prince\\anaconda3\\lib\\site-packages\\Cython\\Build\\Dependencies.py\", line 1321, in cythonize_one\n",
      "      raise CompileError(None, pyx_file)\n",
      "  Cython.Compiler.Errors.CompileError: statsmodels/tsa/statespace/_filters/_inversions.pyx\n",
      "  Compiling statsmodels/tsa/_exponential_smoothers.pyx because it changed.\n",
      "  Compiling statsmodels/tsa/regime_switching/_hamilton_filter.pyx because it changed.\n",
      "  Compiling statsmodels/tsa/regime_switching/_kim_smoother.pyx because it changed.\n",
      "  Compiling statsmodels/tsa/innovations/_arma_innovations.pyx because it changed.\n",
      "  Compiling statsmodels/nonparametric/linbin.pyx because it changed.\n",
      "  Compiling statsmodels/nonparametric/_smoothers_lowess.pyx because it changed.\n",
      "  Compiling statsmodels/tsa/kalmanf/kalman_loglike.pyx because it changed.\n",
      "  Compiling statsmodels/tsa/statespace/_initialization.pyx because it changed.\n",
      "  Compiling statsmodels/tsa/statespace/_representation.pyx because it changed.\n",
      "  Compiling statsmodels/tsa/statespace/_kalman_filter.pyx because it changed.\n",
      "  Compiling statsmodels/tsa/statespace/_filters/_conventional.pyx because it changed.\n",
      "  Compiling statsmodels/tsa/statespace/_filters/_inversions.pyx because it changed.\n",
      "  Compiling statsmodels/tsa/statespace/_filters/_univariate.pyx because it changed.\n",
      "  Compiling statsmodels/tsa/statespace/_filters/_univariate_diffuse.pyx because it changed.\n",
      "  Compiling statsmodels/tsa/statespace/_kalman_smoother.pyx because it changed.\n",
      "  Compiling statsmodels/tsa/statespace/_smoothers/_alternative.pyx because it changed.\n",
      "  Compiling statsmodels/tsa/statespace/_smoothers/_classical.pyx because it changed.\n",
      "  Compiling statsmodels/tsa/statespace/_smoothers/_conventional.pyx because it changed.\n",
      "  Compiling statsmodels/tsa/statespace/_smoothers/_univariate.pyx because it changed.\n",
      "  Compiling statsmodels/tsa/statespace/_smoothers/_univariate_diffuse.pyx because it changed.\n",
      "  Compiling statsmodels/tsa/statespace/_simulation_smoother.pyx because it changed.\n",
      "  Compiling statsmodels/tsa/statespace/_tools.pyx because it changed.\n",
      "  [ 1/22] Cythonizing statsmodels/nonparametric/_smoothers_lowess.pyx\n",
      "  [ 2/22] Cythonizing statsmodels/nonparametric/linbin.pyx\n",
      "  [ 3/22] Cythonizing statsmodels/tsa/_exponential_smoothers.pyx\n",
      "  [ 4/22] Cythonizing statsmodels/tsa/innovations/_arma_innovations.pyx\n",
      "  [ 5/22] Cythonizing statsmodels/tsa/kalmanf/kalman_loglike.pyx\n",
      "  [ 6/22] Cythonizing statsmodels/tsa/regime_switching/_hamilton_filter.pyx\n",
      "  [ 7/22] Cythonizing statsmodels/tsa/regime_switching/_kim_smoother.pyx\n",
      "  [ 8/22] Cythonizing statsmodels/tsa/statespace/_filters/_conventional.pyx\n",
      "  [ 9/22] Cythonizing statsmodels/tsa/statespace/_filters/_inversions.pyx\n",
      "  [end of output]\n",
      "  \n",
      "  note: This error originates from a subprocess, and is likely not a problem with pip.\n",
      "error: metadata-generation-failed\n",
      "\n",
      "Encountered error while generating package metadata.\n",
      "\n",
      "See above for output.\n",
      "\n",
      "note: This is an issue with the package mentioned above, not pip.\n",
      "hint: See above for details.\n"
     ]
    }
   ],
   "source": [
    "!pip install statsmodels==0.10.1"
   ]
  },
  {
   "cell_type": "code",
   "execution_count": 10,
   "id": "68c2746f",
   "metadata": {},
   "outputs": [],
   "source": [
    "## Boxcox transformation\n",
    "from scipy.stats import boxcox\n",
    "data_boxcox = pd.Series(boxcox(df['Unrate'],lmbda=0),index=df.index)"
   ]
  },
  {
   "cell_type": "code",
   "execution_count": 13,
   "id": "a9351266",
   "metadata": {},
   "outputs": [
    {
     "data": {
      "text/plain": [
       "Month\n",
       "1948-01-01         NaN\n",
       "1948-02-01    0.111226\n",
       "1948-03-01    0.051293\n",
       "1948-04-01   -0.025318\n",
       "1948-05-01   -0.108214\n",
       "                ...   \n",
       "2019-11-01   -0.028171\n",
       "2019-12-01    0.000000\n",
       "2020-01-01    0.028171\n",
       "2020-02-01   -0.028171\n",
       "2020-03-01    0.228842\n",
       "Length: 867, dtype: float64"
      ]
     },
     "execution_count": 13,
     "metadata": {},
     "output_type": "execute_result"
    }
   ],
   "source": [
    "## differencing\n",
    "data_boxcox_diff = data_boxcox.diff()\n",
    "data_boxcox_diff"
   ]
  },
  {
   "cell_type": "code",
   "execution_count": 14,
   "id": "4d07b62f",
   "metadata": {},
   "outputs": [],
   "source": [
    "data_boxcox_diff.dropna(inplace=True)"
   ]
  },
  {
   "cell_type": "markdown",
   "id": "d42e3f95",
   "metadata": {},
   "source": [
    "### Splitting into train and test data"
   ]
  },
  {
   "cell_type": "code",
   "execution_count": 15,
   "id": "938073af",
   "metadata": {},
   "outputs": [],
   "source": [
    "train_data_boxcox = data_boxcox[:train_len]\n",
    "test_data_boxcox = data_boxcox[train_len:]\n",
    "\n",
    "train_data_boxcox_diff = data_boxcox_diff[:train_len]\n",
    "test_data_boxcox_diff = data_boxcox_diff[train_len:]"
   ]
  },
  {
   "cell_type": "markdown",
   "id": "1fc9c43a",
   "metadata": {},
   "source": [
    "## Auto Regressive Model"
   ]
  },
  {
   "cell_type": "code",
   "execution_count": 41,
   "id": "181751a5",
   "metadata": {},
   "outputs": [
    {
     "name": "stderr",
     "output_type": "stream",
     "text": [
      "C:\\Users\\Prince\\anaconda3\\lib\\site-packages\\statsmodels\\tsa\\base\\tsa_model.py:473: ValueWarning: No frequency information was provided, so inferred frequency MS will be used.\n",
      "  self._init_dates(dates, freq)\n",
      "C:\\Users\\Prince\\anaconda3\\lib\\site-packages\\statsmodels\\tsa\\base\\tsa_model.py:473: ValueWarning: No frequency information was provided, so inferred frequency MS will be used.\n",
      "  self._init_dates(dates, freq)\n",
      "C:\\Users\\Prince\\anaconda3\\lib\\site-packages\\statsmodels\\tsa\\base\\tsa_model.py:473: ValueWarning: No frequency information was provided, so inferred frequency MS will be used.\n",
      "  self._init_dates(dates, freq)\n"
     ]
    },
    {
     "name": "stdout",
     "output_type": "stream",
     "text": [
      "const     0.000415\n",
      "ar.L1     0.061048\n",
      "ar.L2     0.162039\n",
      "ar.L3     0.118992\n",
      "ar.L4     0.090119\n",
      "ar.L5     0.106859\n",
      "ar.L6     0.007711\n",
      "ar.L7    -0.030006\n",
      "ar.L8     0.032072\n",
      "ar.L9     0.007941\n",
      "ar.L10   -0.125104\n",
      "ar.L11    0.046844\n",
      "ar.L12   -0.148100\n",
      "sigma2    0.001472\n",
      "dtype: float64\n"
     ]
    }
   ],
   "source": [
    "from statsmodels.tsa.arima.model import ARIMA\n",
    "model = ARIMA(train_data_boxcox_diff,order=(12,0,0))\n",
    "model_fit = model.fit()\n",
    "print(model_fit.params)"
   ]
  },
  {
   "cell_type": "code",
   "execution_count": 42,
   "id": "ba22a4cc",
   "metadata": {},
   "outputs": [],
   "source": [
    "## recovering the original time series\n",
    "y_hat_ar = data_boxcox_diff.copy()\n",
    "y_hat_ar['ar_forecast_boxcox_diff'] = model_fit.predict(data_boxcox_diff.index.min(),data_boxcox_diff.index.max())\n",
    "y_hat_ar['ar_forecast'] = np.exp(y_hat_ar['ar_forecast_boxcox_diff'].cumsum().add(data_boxcox[0]))"
   ]
  },
  {
   "cell_type": "code",
   "execution_count": 44,
   "id": "5535a662",
   "metadata": {},
   "outputs": [
    {
     "data": {
      "text/html": [
       "<div>\n",
       "<style scoped>\n",
       "    .dataframe tbody tr th:only-of-type {\n",
       "        vertical-align: middle;\n",
       "    }\n",
       "\n",
       "    .dataframe tbody tr th {\n",
       "        vertical-align: top;\n",
       "    }\n",
       "\n",
       "    .dataframe thead th {\n",
       "        text-align: right;\n",
       "    }\n",
       "</style>\n",
       "<table border=\"1\" class=\"dataframe\">\n",
       "  <thead>\n",
       "    <tr style=\"text-align: right;\">\n",
       "      <th></th>\n",
       "      <th>Method</th>\n",
       "      <th>RMSE</th>\n",
       "      <th>MAPE</th>\n",
       "    </tr>\n",
       "  </thead>\n",
       "  <tbody>\n",
       "    <tr>\n",
       "      <th>0</th>\n",
       "      <td>AR Method</td>\n",
       "      <td>2.16</td>\n",
       "      <td>21.88</td>\n",
       "    </tr>\n",
       "  </tbody>\n",
       "</table>\n",
       "</div>"
      ],
      "text/plain": [
       "      Method  RMSE   MAPE\n",
       "0  AR Method  2.16  21.88"
      ]
     },
     "execution_count": 44,
     "metadata": {},
     "output_type": "execute_result"
    }
   ],
   "source": [
    "## rmse and mape values\n",
    "from sklearn.metrics import mean_squared_error\n",
    "rmse = np.sqrt(np.mean(mean_squared_error(test['Unrate'],y_hat_ar['ar_forecast'][test.index.min():]))).round(2)\n",
    "mape = np.round(np.mean(np.abs(test['Unrate'] - y_hat_ar['ar_forecast'][test.index.min():])/test['Unrate']*100),2)\n",
    "results = pd.DataFrame({\n",
    "    'Method':['AR Method'],\n",
    "    'RMSE':rmse,\n",
    "    'MAPE':mape\n",
    "})\n",
    "results"
   ]
  },
  {
   "cell_type": "code",
   "execution_count": 45,
   "id": "0dab1a6a",
   "metadata": {},
   "outputs": [
    {
     "data": {
      "text/plain": [
       "1948-02-01    3.401410\n",
       "1948-03-01    3.452986\n",
       "1948-04-01    3.559521\n",
       "1948-05-01    3.651311\n",
       "1948-06-01    3.670327\n",
       "Freq: MS, Name: predicted_mean, dtype: float64"
      ]
     },
     "execution_count": 45,
     "metadata": {},
     "output_type": "execute_result"
    }
   ],
   "source": [
    "## Predicting the unemployment reate of June 1948\n",
    "y_hat_ar['ar_forecast'].head()"
   ]
  },
  {
   "cell_type": "markdown",
   "id": "faad1f30",
   "metadata": {},
   "source": [
    "### Moving Average"
   ]
  },
  {
   "cell_type": "code",
   "execution_count": 46,
   "id": "a2ad7980",
   "metadata": {},
   "outputs": [
    {
     "name": "stderr",
     "output_type": "stream",
     "text": [
      "C:\\Users\\Prince\\anaconda3\\lib\\site-packages\\statsmodels\\tsa\\base\\tsa_model.py:473: ValueWarning: No frequency information was provided, so inferred frequency MS will be used.\n",
      "  self._init_dates(dates, freq)\n",
      "C:\\Users\\Prince\\anaconda3\\lib\\site-packages\\statsmodels\\tsa\\base\\tsa_model.py:473: ValueWarning: No frequency information was provided, so inferred frequency MS will be used.\n",
      "  self._init_dates(dates, freq)\n",
      "C:\\Users\\Prince\\anaconda3\\lib\\site-packages\\statsmodels\\tsa\\base\\tsa_model.py:473: ValueWarning: No frequency information was provided, so inferred frequency MS will be used.\n",
      "  self._init_dates(dates, freq)\n"
     ]
    }
   ],
   "source": [
    "from statsmodels.tsa.arima.model import ARIMA\n",
    "model = ARIMA(train_data_boxcox_diff,order=(0,0,5))\n",
    "model_fit = model.fit()"
   ]
  },
  {
   "cell_type": "code",
   "execution_count": 47,
   "id": "8f2fd846",
   "metadata": {},
   "outputs": [],
   "source": [
    "## recovering original series\n",
    "y_hat_ma = data_boxcox_diff.copy()\n",
    "y_hat_ma['ma_forecast_boxcox_diff'] = model_fit.predict(data_boxcox_diff.index.min(),data_boxcox_diff.index.max())\n",
    "y_hat_ma['ma_forecast'] = np.exp(y_hat_ma['ma_forecast_boxcox_diff'].cumsum().add(data_boxcox[0]))"
   ]
  },
  {
   "cell_type": "code",
   "execution_count": 49,
   "id": "526ede0d",
   "metadata": {},
   "outputs": [],
   "source": [
    "## rmse and mape values\n",
    "from sklearn.metrics import mean_squared_error\n",
    "rmse = np.sqrt(np.mean(mean_squared_error(test['Unrate'],y_hat_ma['ma_forecast'][test.index.min():]))).round(2)\n",
    "mape = np.round(np.mean(np.abs(test['Unrate'] - y_hat_ma['ma_forecast'][test.index.min():])/test['Unrate']*100),2)\n",
    "results.loc[len(results)] = ['MA Method',rmse,mape]"
   ]
  },
  {
   "cell_type": "code",
   "execution_count": 50,
   "id": "aa6c2864",
   "metadata": {},
   "outputs": [
    {
     "data": {
      "text/html": [
       "<div>\n",
       "<style scoped>\n",
       "    .dataframe tbody tr th:only-of-type {\n",
       "        vertical-align: middle;\n",
       "    }\n",
       "\n",
       "    .dataframe tbody tr th {\n",
       "        vertical-align: top;\n",
       "    }\n",
       "\n",
       "    .dataframe thead th {\n",
       "        text-align: right;\n",
       "    }\n",
       "</style>\n",
       "<table border=\"1\" class=\"dataframe\">\n",
       "  <thead>\n",
       "    <tr style=\"text-align: right;\">\n",
       "      <th></th>\n",
       "      <th>Method</th>\n",
       "      <th>RMSE</th>\n",
       "      <th>MAPE</th>\n",
       "    </tr>\n",
       "  </thead>\n",
       "  <tbody>\n",
       "    <tr>\n",
       "      <th>0</th>\n",
       "      <td>AR Method</td>\n",
       "      <td>2.16</td>\n",
       "      <td>21.88</td>\n",
       "    </tr>\n",
       "    <tr>\n",
       "      <th>1</th>\n",
       "      <td>MA Method</td>\n",
       "      <td>2.11</td>\n",
       "      <td>21.67</td>\n",
       "    </tr>\n",
       "  </tbody>\n",
       "</table>\n",
       "</div>"
      ],
      "text/plain": [
       "      Method  RMSE   MAPE\n",
       "0  AR Method  2.16  21.88\n",
       "1  MA Method  2.11  21.67"
      ]
     },
     "execution_count": 50,
     "metadata": {},
     "output_type": "execute_result"
    }
   ],
   "source": [
    "results"
   ]
  },
  {
   "cell_type": "code",
   "execution_count": 54,
   "id": "1c476aad",
   "metadata": {},
   "outputs": [
    {
     "data": {
      "text/plain": [
       "3.6104083910894076"
      ]
     },
     "execution_count": 54,
     "metadata": {},
     "output_type": "execute_result"
    }
   ],
   "source": [
    "## unemployment rate for 1948 June\n",
    "y_hat_ma['ma_forecast'].loc['1948-06-01']"
   ]
  },
  {
   "cell_type": "markdown",
   "id": "4e9d9b45",
   "metadata": {},
   "source": [
    "### ARIMA"
   ]
  },
  {
   "cell_type": "code",
   "execution_count": 55,
   "id": "f555b19e",
   "metadata": {},
   "outputs": [
    {
     "name": "stderr",
     "output_type": "stream",
     "text": [
      "C:\\Users\\Prince\\anaconda3\\lib\\site-packages\\statsmodels\\tsa\\base\\tsa_model.py:473: ValueWarning: No frequency information was provided, so inferred frequency MS will be used.\n",
      "  self._init_dates(dates, freq)\n",
      "C:\\Users\\Prince\\anaconda3\\lib\\site-packages\\statsmodels\\tsa\\base\\tsa_model.py:473: ValueWarning: No frequency information was provided, so inferred frequency MS will be used.\n",
      "  self._init_dates(dates, freq)\n",
      "C:\\Users\\Prince\\anaconda3\\lib\\site-packages\\statsmodels\\tsa\\base\\tsa_model.py:473: ValueWarning: No frequency information was provided, so inferred frequency MS will be used.\n",
      "  self._init_dates(dates, freq)\n",
      "C:\\Users\\Prince\\anaconda3\\lib\\site-packages\\statsmodels\\base\\model.py:607: ConvergenceWarning: Maximum Likelihood optimization failed to converge. Check mle_retvals\n",
      "  warnings.warn(\"Maximum Likelihood optimization failed to \"\n"
     ]
    }
   ],
   "source": [
    "model = ARIMA(train_data_boxcox,order= (12,1,5))\n",
    "model_fit = model.fit()"
   ]
  },
  {
   "cell_type": "code",
   "execution_count": 56,
   "id": "7dac8473",
   "metadata": {},
   "outputs": [],
   "source": [
    "y_hat_arima = data_boxcox_diff.copy()\n",
    "y_hat_arima['arima_forecast_boxcox_diff'] = model_fit.predict(data_boxcox_diff.index.min(),data_boxcox_diff.index.max())\n",
    "y_hat_arima['arima_forecast'] = np.exp(y_hat_arima['arima_forecast_boxcox_diff'])"
   ]
  },
  {
   "cell_type": "code",
   "execution_count": 57,
   "id": "d8ff8392",
   "metadata": {},
   "outputs": [
    {
     "data": {
      "text/html": [
       "<div>\n",
       "<style scoped>\n",
       "    .dataframe tbody tr th:only-of-type {\n",
       "        vertical-align: middle;\n",
       "    }\n",
       "\n",
       "    .dataframe tbody tr th {\n",
       "        vertical-align: top;\n",
       "    }\n",
       "\n",
       "    .dataframe thead th {\n",
       "        text-align: right;\n",
       "    }\n",
       "</style>\n",
       "<table border=\"1\" class=\"dataframe\">\n",
       "  <thead>\n",
       "    <tr style=\"text-align: right;\">\n",
       "      <th></th>\n",
       "      <th>Method</th>\n",
       "      <th>RMSE</th>\n",
       "      <th>MAPE</th>\n",
       "    </tr>\n",
       "  </thead>\n",
       "  <tbody>\n",
       "    <tr>\n",
       "      <th>0</th>\n",
       "      <td>AR Method</td>\n",
       "      <td>2.16</td>\n",
       "      <td>21.88</td>\n",
       "    </tr>\n",
       "    <tr>\n",
       "      <th>1</th>\n",
       "      <td>MA Method</td>\n",
       "      <td>2.11</td>\n",
       "      <td>21.67</td>\n",
       "    </tr>\n",
       "    <tr>\n",
       "      <th>2</th>\n",
       "      <td>ARIMA Method</td>\n",
       "      <td>2.28</td>\n",
       "      <td>22.58</td>\n",
       "    </tr>\n",
       "  </tbody>\n",
       "</table>\n",
       "</div>"
      ],
      "text/plain": [
       "         Method  RMSE   MAPE\n",
       "0     AR Method  2.16  21.88\n",
       "1     MA Method  2.11  21.67\n",
       "2  ARIMA Method  2.28  22.58"
      ]
     },
     "execution_count": 57,
     "metadata": {},
     "output_type": "execute_result"
    }
   ],
   "source": [
    "## rmse and mape values\n",
    "from sklearn.metrics import mean_squared_error\n",
    "rmse = np.sqrt(np.mean(mean_squared_error(test['Unrate'],y_hat_arima['arima_forecast'][test.index.min():]))).round(2)\n",
    "mape = np.round(np.mean(np.abs(test['Unrate'] - y_hat_arima['arima_forecast'][test.index.min():])/test['Unrate']*100),2)\n",
    "results.loc[len(results)] = ['ARIMA Method',rmse,mape]\n",
    "results"
   ]
  },
  {
   "cell_type": "markdown",
   "id": "46ac1454",
   "metadata": {},
   "source": [
    "### SARIMA"
   ]
  },
  {
   "cell_type": "code",
   "execution_count": 58,
   "id": "edc1f949",
   "metadata": {},
   "outputs": [
    {
     "name": "stderr",
     "output_type": "stream",
     "text": [
      "C:\\Users\\Prince\\anaconda3\\lib\\site-packages\\statsmodels\\tsa\\base\\tsa_model.py:473: ValueWarning: No frequency information was provided, so inferred frequency MS will be used.\n",
      "  self._init_dates(dates, freq)\n",
      "C:\\Users\\Prince\\anaconda3\\lib\\site-packages\\statsmodels\\tsa\\base\\tsa_model.py:473: ValueWarning: No frequency information was provided, so inferred frequency MS will be used.\n",
      "  self._init_dates(dates, freq)\n",
      "C:\\Users\\Prince\\anaconda3\\lib\\site-packages\\statsmodels\\base\\model.py:607: ConvergenceWarning: Maximum Likelihood optimization failed to converge. Check mle_retvals\n",
      "  warnings.warn(\"Maximum Likelihood optimization failed to \"\n"
     ]
    }
   ],
   "source": [
    "from statsmodels.tsa.statespace.sarimax import SARIMAX\n",
    "model = SARIMAX(train_data_boxcox,order=(2,1,4),seasonal_order=(2,1,4,12))\n",
    "model_fit = model.fit()"
   ]
  },
  {
   "cell_type": "code",
   "execution_count": 61,
   "id": "b7063e01",
   "metadata": {},
   "outputs": [],
   "source": [
    "y_hat_sarima = data_boxcox_diff.copy()\n",
    "y_hat_sarima['sarima_forecast_boxcox_diff'] = model_fit.predict(data_boxcox_diff.index.min(),data_boxcox_diff.index.max())\n",
    "y_hat_sarima['sarima_forecast'] = np.exp(y_hat_sarima['sarima_forecast_boxcox_diff'])"
   ]
  },
  {
   "cell_type": "code",
   "execution_count": 62,
   "id": "bace7b90",
   "metadata": {},
   "outputs": [
    {
     "data": {
      "text/html": [
       "<div>\n",
       "<style scoped>\n",
       "    .dataframe tbody tr th:only-of-type {\n",
       "        vertical-align: middle;\n",
       "    }\n",
       "\n",
       "    .dataframe tbody tr th {\n",
       "        vertical-align: top;\n",
       "    }\n",
       "\n",
       "    .dataframe thead th {\n",
       "        text-align: right;\n",
       "    }\n",
       "</style>\n",
       "<table border=\"1\" class=\"dataframe\">\n",
       "  <thead>\n",
       "    <tr style=\"text-align: right;\">\n",
       "      <th></th>\n",
       "      <th>Method</th>\n",
       "      <th>RMSE</th>\n",
       "      <th>MAPE</th>\n",
       "    </tr>\n",
       "  </thead>\n",
       "  <tbody>\n",
       "    <tr>\n",
       "      <th>0</th>\n",
       "      <td>AR Method</td>\n",
       "      <td>2.16</td>\n",
       "      <td>21.88</td>\n",
       "    </tr>\n",
       "    <tr>\n",
       "      <th>1</th>\n",
       "      <td>MA Method</td>\n",
       "      <td>2.11</td>\n",
       "      <td>21.67</td>\n",
       "    </tr>\n",
       "    <tr>\n",
       "      <th>2</th>\n",
       "      <td>ARIMA Method</td>\n",
       "      <td>2.28</td>\n",
       "      <td>22.58</td>\n",
       "    </tr>\n",
       "    <tr>\n",
       "      <th>3</th>\n",
       "      <td>SARIMA Method</td>\n",
       "      <td>2.25</td>\n",
       "      <td>22.10</td>\n",
       "    </tr>\n",
       "  </tbody>\n",
       "</table>\n",
       "</div>"
      ],
      "text/plain": [
       "          Method  RMSE   MAPE\n",
       "0      AR Method  2.16  21.88\n",
       "1      MA Method  2.11  21.67\n",
       "2   ARIMA Method  2.28  22.58\n",
       "3  SARIMA Method  2.25  22.10"
      ]
     },
     "execution_count": 62,
     "metadata": {},
     "output_type": "execute_result"
    }
   ],
   "source": [
    "## rmse and mape values\n",
    "from sklearn.metrics import mean_squared_error\n",
    "rmse = np.sqrt(np.mean(mean_squared_error(test['Unrate'],y_hat_sarima['sarima_forecast'][test.index.min():]))).round(2)\n",
    "mape = np.round(np.mean(np.abs(test['Unrate'] - y_hat_sarima['sarima_forecast'][test.index.min():])/test['Unrate']*100),2)\n",
    "results.loc[len(results)] = ['SARIMA Method',rmse,mape]\n",
    "results"
   ]
  },
  {
   "cell_type": "code",
   "execution_count": null,
   "id": "086efa5e",
   "metadata": {},
   "outputs": [],
   "source": []
  }
 ],
 "metadata": {
  "kernelspec": {
   "display_name": "Python 3 (ipykernel)",
   "language": "python",
   "name": "python3"
  },
  "language_info": {
   "codemirror_mode": {
    "name": "ipython",
    "version": 3
   },
   "file_extension": ".py",
   "mimetype": "text/x-python",
   "name": "python",
   "nbconvert_exporter": "python",
   "pygments_lexer": "ipython3",
   "version": "3.10.9"
  }
 },
 "nbformat": 4,
 "nbformat_minor": 5
}
