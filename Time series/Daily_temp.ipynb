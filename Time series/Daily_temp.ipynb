{
 "cells": [
  {
   "cell_type": "code",
   "execution_count": 1,
   "id": "548e6fbd",
   "metadata": {},
   "outputs": [],
   "source": [
    "import pandas as pd\n",
    "import numpy as np\n",
    "import matplotlib.pyplot as plt\n",
    "%matplotlib inline\n",
    "\n",
    "import warnings\n",
    "warnings.filterwarnings('ignore')"
   ]
  },
  {
   "cell_type": "code",
   "execution_count": 11,
   "id": "0730d3c4",
   "metadata": {},
   "outputs": [
    {
     "data": {
      "text/html": [
       "<div>\n",
       "<style scoped>\n",
       "    .dataframe tbody tr th:only-of-type {\n",
       "        vertical-align: middle;\n",
       "    }\n",
       "\n",
       "    .dataframe tbody tr th {\n",
       "        vertical-align: top;\n",
       "    }\n",
       "\n",
       "    .dataframe thead th {\n",
       "        text-align: right;\n",
       "    }\n",
       "</style>\n",
       "<table border=\"1\" class=\"dataframe\">\n",
       "  <thead>\n",
       "    <tr style=\"text-align: right;\">\n",
       "      <th></th>\n",
       "      <th>Temperature(Min)</th>\n",
       "    </tr>\n",
       "    <tr>\n",
       "      <th>Date</th>\n",
       "      <th></th>\n",
       "    </tr>\n",
       "  </thead>\n",
       "  <tbody>\n",
       "    <tr>\n",
       "      <th>2017-01-01</th>\n",
       "      <td>14.3</td>\n",
       "    </tr>\n",
       "    <tr>\n",
       "      <th>2017-01-02</th>\n",
       "      <td>17.4</td>\n",
       "    </tr>\n",
       "    <tr>\n",
       "      <th>2017-01-03</th>\n",
       "      <td>18.5</td>\n",
       "    </tr>\n",
       "    <tr>\n",
       "      <th>2017-01-04</th>\n",
       "      <td>16.8</td>\n",
       "    </tr>\n",
       "    <tr>\n",
       "      <th>2017-01-05</th>\n",
       "      <td>11.5</td>\n",
       "    </tr>\n",
       "  </tbody>\n",
       "</table>\n",
       "</div>"
      ],
      "text/plain": [
       "            Temperature(Min)\n",
       "Date                        \n",
       "2017-01-01              14.3\n",
       "2017-01-02              17.4\n",
       "2017-01-03              18.5\n",
       "2017-01-04              16.8\n",
       "2017-01-05              11.5"
      ]
     },
     "execution_count": 11,
     "metadata": {},
     "output_type": "execute_result"
    }
   ],
   "source": [
    "df = pd.read_csv('Daily+temperature+data.csv')\n",
    "df['Date'] = pd.to_datetime(df['Date'])\n",
    "df = df.set_index('Date')\n",
    "df.head()"
   ]
  },
  {
   "cell_type": "code",
   "execution_count": 14,
   "id": "e6dc7129",
   "metadata": {},
   "outputs": [],
   "source": [
    "train_len=511 \n",
    "train = df[:train_len]\n",
    "test = df[train_len:]"
   ]
  },
  {
   "cell_type": "markdown",
   "id": "5a6ea712",
   "metadata": {},
   "source": [
    "### Simple Exponential Smoothing"
   ]
  },
  {
   "cell_type": "code",
   "execution_count": 15,
   "id": "a38e25ae",
   "metadata": {},
   "outputs": [
    {
     "data": {
      "text/plain": [
       "219"
      ]
     },
     "execution_count": 15,
     "metadata": {},
     "output_type": "execute_result"
    }
   ],
   "source": [
    "len(test)"
   ]
  },
  {
   "cell_type": "code",
   "execution_count": 16,
   "id": "4167a170",
   "metadata": {},
   "outputs": [],
   "source": [
    "from statsmodels.tsa.holtwinters import SimpleExpSmoothing\n",
    "model = SimpleExpSmoothing(train['Temperature(Min)'])\n",
    "model_fit = model.fit(smoothing_level=0.2, optimized=False)\n",
    "y_hat_ses = test.copy()\n",
    "y_hat_ses['ses_forecast'] = model_fit.forecast(219)"
   ]
  },
  {
   "cell_type": "code",
   "execution_count": 18,
   "id": "3d95fed7",
   "metadata": {},
   "outputs": [
    {
     "data": {
      "text/plain": [
       "(3.56, 30.24)"
      ]
     },
     "execution_count": 18,
     "metadata": {},
     "output_type": "execute_result"
    }
   ],
   "source": [
    "from sklearn.metrics import mean_squared_error\n",
    "rmse = np.sqrt(np.mean(mean_squared_error(test['Temperature(Min)'],y_hat_ses['ses_forecast']))).round(2)\n",
    "mape = np.round((np.mean(np.abs(test['Temperature(Min)']-y_hat_ses['ses_forecast'])/test['Temperature(Min)']))*100,2)\n",
    "rmse,mape"
   ]
  },
  {
   "cell_type": "markdown",
   "id": "706868d7",
   "metadata": {},
   "source": [
    "### Holts Exponential Smoothing"
   ]
  },
  {
   "cell_type": "code",
   "execution_count": 19,
   "id": "a028e1bc",
   "metadata": {},
   "outputs": [
    {
     "name": "stdout",
     "output_type": "stream",
     "text": [
      "{'smoothing_level': 0.5, 'smoothing_trend': 0.01, 'smoothing_seasonal': None, 'damping_trend': nan, 'initial_level': 16.039999999999992, 'initial_trend': -0.26545454545454444, 'initial_seasons': array([], dtype=float64), 'use_boxcox': False, 'lamda': None, 'remove_bias': False}\n"
     ]
    }
   ],
   "source": [
    "from statsmodels.tsa.holtwinters import ExponentialSmoothing\n",
    "model = ExponentialSmoothing(np.asarray(train['Temperature(Min)']),seasonal_periods=12,trend='additive',seasonal = None)\n",
    "model_fit = model.fit(optimized=False,smoothing_level=0.5,smoothing_slope=0.01)\n",
    "print(model_fit.params)\n",
    "y_hat_hes = test.copy()\n",
    "y_hat_hes['hes_forecast'] = model_fit.forecast(len(test))"
   ]
  },
  {
   "cell_type": "code",
   "execution_count": 20,
   "id": "fc81af07",
   "metadata": {},
   "outputs": [
    {
     "data": {
      "text/plain": [
       "(5.95, 41.94)"
      ]
     },
     "execution_count": 20,
     "metadata": {},
     "output_type": "execute_result"
    }
   ],
   "source": [
    "rmse = np.sqrt(np.mean(mean_squared_error(test['Temperature(Min)'],y_hat_hes['hes_forecast']))).round(2)\n",
    "mape = np.round((np.mean(np.abs(test['Temperature(Min)']-y_hat_hes['hes_forecast'])/test['Temperature(Min)']))*100,2)\n",
    "rmse,mape"
   ]
  },
  {
   "cell_type": "markdown",
   "id": "a652cc79",
   "metadata": {},
   "source": [
    "### Holt Winters Smoothing"
   ]
  },
  {
   "cell_type": "code",
   "execution_count": 21,
   "id": "be4e25df",
   "metadata": {},
   "outputs": [
    {
     "name": "stdout",
     "output_type": "stream",
     "text": [
      "{'smoothing_level': 0.6742905531408826, 'smoothing_trend': 0.0, 'smoothing_seasonal': 0.0, 'damping_trend': nan, 'initial_level': 14.940153469593199, 'initial_trend': -0.009875626133881025, 'initial_seasons': array([ 0.52726187,  0.03275887,  0.0546689 ,  0.56433055,  0.03900888,\n",
      "       -0.13932503, -0.02944389,  0.62153047,  0.77264519,  0.45323589,\n",
      "        0.53353392,  0.27878707, -0.71724563,  0.23388172,  0.43173867,\n",
      "        0.4594823 , -0.58961221,  0.22015795, -0.0816295 , -0.76005189,\n",
      "       -0.53853719,  0.29500932, -0.87756244, -1.57357523, -0.71076678,\n",
      "       -0.70671762, -0.43816353,  0.17757992,  0.69326927,  0.70914971]), 'use_boxcox': False, 'lamda': None, 'remove_bias': False}\n"
     ]
    }
   ],
   "source": [
    "model =ExponentialSmoothing(np.asarray(train['Temperature(Min)']),seasonal_periods=30,trend='add',seasonal='add')\n",
    "model_fit = model.fit(optimized=True)\n",
    "print(model_fit.params)\n",
    "y_hat_hwa = test.copy()\n",
    "y_hat_hwa['hwa_forecast'] = model_fit.forecast(len(test))"
   ]
  },
  {
   "cell_type": "code",
   "execution_count": 22,
   "id": "7ee24c38",
   "metadata": {},
   "outputs": [
    {
     "data": {
      "text/plain": [
       "(4.14, 34.37)"
      ]
     },
     "execution_count": 22,
     "metadata": {},
     "output_type": "execute_result"
    }
   ],
   "source": [
    "rmse = np.sqrt(np.mean(mean_squared_error(test['Temperature(Min)'],y_hat_hwa['hwa_forecast']))).round(2)\n",
    "mape = np.round((np.mean(np.abs(test['Temperature(Min)']-y_hat_hwa['hwa_forecast'])/test['Temperature(Min)']))*100,2)\n",
    "rmse,mape"
   ]
  },
  {
   "cell_type": "code",
   "execution_count": null,
   "id": "f59bbd0d",
   "metadata": {},
   "outputs": [],
   "source": []
  }
 ],
 "metadata": {
  "kernelspec": {
   "display_name": "Python 3 (ipykernel)",
   "language": "python",
   "name": "python3"
  },
  "language_info": {
   "codemirror_mode": {
    "name": "ipython",
    "version": 3
   },
   "file_extension": ".py",
   "mimetype": "text/x-python",
   "name": "python",
   "nbconvert_exporter": "python",
   "pygments_lexer": "ipython3",
   "version": "3.10.9"
  }
 },
 "nbformat": 4,
 "nbformat_minor": 5
}
