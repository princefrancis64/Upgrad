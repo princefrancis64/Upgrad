{
 "cells": [
  {
   "cell_type": "code",
   "execution_count": 1,
   "id": "127a882c",
   "metadata": {},
   "outputs": [],
   "source": [
    "import pandas as pd\n",
    "import numpy as np\n",
    "import matplotlib.pyplot as plt\n",
    "%matplotlib inline\n",
    "\n",
    "import warnings\n",
    "warnings.filterwarnings('ignore')"
   ]
  },
  {
   "cell_type": "code",
   "execution_count": 9,
   "id": "f0944a19",
   "metadata": {},
   "outputs": [
    {
     "data": {
      "text/html": [
       "<div>\n",
       "<style scoped>\n",
       "    .dataframe tbody tr th:only-of-type {\n",
       "        vertical-align: middle;\n",
       "    }\n",
       "\n",
       "    .dataframe tbody tr th {\n",
       "        vertical-align: top;\n",
       "    }\n",
       "\n",
       "    .dataframe thead th {\n",
       "        text-align: right;\n",
       "    }\n",
       "</style>\n",
       "<table border=\"1\" class=\"dataframe\">\n",
       "  <thead>\n",
       "    <tr style=\"text-align: right;\">\n",
       "      <th></th>\n",
       "      <th>Exchange Rate TWI</th>\n",
       "    </tr>\n",
       "    <tr>\n",
       "      <th>Month</th>\n",
       "      <th></th>\n",
       "    </tr>\n",
       "  </thead>\n",
       "  <tbody>\n",
       "    <tr>\n",
       "      <th>1</th>\n",
       "      <td>100.0</td>\n",
       "    </tr>\n",
       "    <tr>\n",
       "      <th>2</th>\n",
       "      <td>99.6</td>\n",
       "    </tr>\n",
       "    <tr>\n",
       "      <th>3</th>\n",
       "      <td>99.4</td>\n",
       "    </tr>\n",
       "    <tr>\n",
       "      <th>4</th>\n",
       "      <td>99.1</td>\n",
       "    </tr>\n",
       "    <tr>\n",
       "      <th>5</th>\n",
       "      <td>99.2</td>\n",
       "    </tr>\n",
       "  </tbody>\n",
       "</table>\n",
       "</div>"
      ],
      "text/plain": [
       "       Exchange Rate TWI\n",
       "Month                   \n",
       "1                  100.0\n",
       "2                   99.6\n",
       "3                   99.4\n",
       "4                   99.1\n",
       "5                   99.2"
      ]
     },
     "execution_count": 9,
     "metadata": {},
     "output_type": "execute_result"
    }
   ],
   "source": [
    "df = pd.read_csv('exchange-rate-twi.csv')\n",
    "df = df.set_index('Month')\n",
    "df.head()"
   ]
  },
  {
   "cell_type": "code",
   "execution_count": 10,
   "id": "4578c8d6",
   "metadata": {},
   "outputs": [],
   "source": [
    "train_len = 212\n",
    "train = df[:train_len]\n",
    "test = df[train_len:]"
   ]
  },
  {
   "cell_type": "markdown",
   "id": "041d61e2",
   "metadata": {},
   "source": [
    "### Simple Average Method"
   ]
  },
  {
   "cell_type": "code",
   "execution_count": 11,
   "id": "95527272",
   "metadata": {},
   "outputs": [
    {
     "data": {
      "text/plain": [
       "Month\n",
       "213    88.325472\n",
       "214    88.325472\n",
       "215    88.325472\n",
       "216    88.325472\n",
       "217    88.325472\n",
       "         ...    \n",
       "300    88.325472\n",
       "301    88.325472\n",
       "302    88.325472\n",
       "303    88.325472\n",
       "304    88.325472\n",
       "Name: avg_forecast, Length: 92, dtype: float64"
      ]
     },
     "execution_count": 11,
     "metadata": {},
     "output_type": "execute_result"
    }
   ],
   "source": [
    "y_hat_avg = test.copy()\n",
    "y_hat_avg['avg_forecast'] = train['Exchange Rate TWI'].mean()\n",
    "y_hat_avg['avg_forecast']"
   ]
  },
  {
   "cell_type": "code",
   "execution_count": 17,
   "id": "6e1b3aec",
   "metadata": {},
   "outputs": [
    {
     "data": {
      "text/html": [
       "<div>\n",
       "<style scoped>\n",
       "    .dataframe tbody tr th:only-of-type {\n",
       "        vertical-align: middle;\n",
       "    }\n",
       "\n",
       "    .dataframe tbody tr th {\n",
       "        vertical-align: top;\n",
       "    }\n",
       "\n",
       "    .dataframe thead th {\n",
       "        text-align: right;\n",
       "    }\n",
       "</style>\n",
       "<table border=\"1\" class=\"dataframe\">\n",
       "  <thead>\n",
       "    <tr style=\"text-align: right;\">\n",
       "      <th></th>\n",
       "      <th>Method</th>\n",
       "      <th>RMSE</th>\n",
       "      <th>MAPE</th>\n",
       "    </tr>\n",
       "  </thead>\n",
       "  <tbody>\n",
       "    <tr>\n",
       "      <th>0</th>\n",
       "      <td>Simple Average</td>\n",
       "      <td>32.42</td>\n",
       "      <td>58.12</td>\n",
       "    </tr>\n",
       "  </tbody>\n",
       "</table>\n",
       "</div>"
      ],
      "text/plain": [
       "           Method   RMSE   MAPE\n",
       "0  Simple Average  32.42  58.12"
      ]
     },
     "execution_count": 17,
     "metadata": {},
     "output_type": "execute_result"
    }
   ],
   "source": [
    "##RMSE and mape\n",
    "from sklearn.metrics import mean_squared_error\n",
    "rmse = np.sqrt(np.mean(mean_squared_error(test['Exchange Rate TWI'],y_hat_avg['avg_forecast']))).round(2)\n",
    "mape = np.round(np.mean((np.abs(test['Exchange Rate TWI']-y_hat_avg['avg_forecast'])/test['Exchange Rate TWI'])*100),2)\n",
    "results = pd.DataFrame({'Method':['Simple Average'],\n",
    "                       'RMSE':[rmse],\n",
    "                       'MAPE':[mape]})\n",
    "results"
   ]
  },
  {
   "cell_type": "markdown",
   "id": "f8beb1ef",
   "metadata": {},
   "source": [
    "### Naive Forecast"
   ]
  },
  {
   "cell_type": "code",
   "execution_count": 14,
   "id": "fe060950",
   "metadata": {},
   "outputs": [
    {
     "data": {
      "text/plain": [
       "Month\n",
       "213    52.0\n",
       "214    52.0\n",
       "215    52.0\n",
       "216    52.0\n",
       "217    52.0\n",
       "       ... \n",
       "300    52.0\n",
       "301    52.0\n",
       "302    52.0\n",
       "303    52.0\n",
       "304    52.0\n",
       "Name: naive_forecast, Length: 92, dtype: float64"
      ]
     },
     "execution_count": 14,
     "metadata": {},
     "output_type": "execute_result"
    }
   ],
   "source": [
    "y_hat_naive = test.copy()\n",
    "y_hat_naive['naive_forecast'] = train['Exchange Rate TWI'][train_len]\n",
    "y_hat_naive['naive_forecast']"
   ]
  },
  {
   "cell_type": "code",
   "execution_count": 19,
   "id": "2fae993d",
   "metadata": {},
   "outputs": [],
   "source": [
    "## RMSE and MAPE value of Naive Forecast\n",
    "rmse = np.sqrt(np.mean(mean_squared_error(test['Exchange Rate TWI'],y_hat_naive['naive_forecast']))).round(2)\n",
    "mape = np.round(np.mean((np.abs(test['Exchange Rate TWI']-y_hat_naive['naive_forecast'])/test['Exchange Rate TWI'])*100),2)\n",
    "results.loc[len(results)] = ['Naive Method',rmse,mape]"
   ]
  },
  {
   "cell_type": "code",
   "execution_count": 20,
   "id": "b78b9382",
   "metadata": {},
   "outputs": [
    {
     "data": {
      "text/html": [
       "<div>\n",
       "<style scoped>\n",
       "    .dataframe tbody tr th:only-of-type {\n",
       "        vertical-align: middle;\n",
       "    }\n",
       "\n",
       "    .dataframe tbody tr th {\n",
       "        vertical-align: top;\n",
       "    }\n",
       "\n",
       "    .dataframe thead th {\n",
       "        text-align: right;\n",
       "    }\n",
       "</style>\n",
       "<table border=\"1\" class=\"dataframe\">\n",
       "  <thead>\n",
       "    <tr style=\"text-align: right;\">\n",
       "      <th></th>\n",
       "      <th>Method</th>\n",
       "      <th>RMSE</th>\n",
       "      <th>MAPE</th>\n",
       "    </tr>\n",
       "  </thead>\n",
       "  <tbody>\n",
       "    <tr>\n",
       "      <th>0</th>\n",
       "      <td>Simple Average</td>\n",
       "      <td>32.42</td>\n",
       "      <td>58.12</td>\n",
       "    </tr>\n",
       "    <tr>\n",
       "      <th>1</th>\n",
       "      <td>Naive Method</td>\n",
       "      <td>5.98</td>\n",
       "      <td>8.41</td>\n",
       "    </tr>\n",
       "  </tbody>\n",
       "</table>\n",
       "</div>"
      ],
      "text/plain": [
       "           Method   RMSE   MAPE\n",
       "0  Simple Average  32.42  58.12\n",
       "1    Naive Method   5.98   8.41"
      ]
     },
     "execution_count": 20,
     "metadata": {},
     "output_type": "execute_result"
    }
   ],
   "source": [
    "results"
   ]
  },
  {
   "cell_type": "code",
   "execution_count": 22,
   "id": "1efc3b16",
   "metadata": {},
   "outputs": [
    {
     "data": {
      "text/plain": [
       "91.59"
      ]
     },
     "execution_count": 22,
     "metadata": {},
     "output_type": "execute_result"
    }
   ],
   "source": [
    "### Accuracy of naive forecasting \n",
    "100- mape"
   ]
  },
  {
   "cell_type": "markdown",
   "id": "a82817e4",
   "metadata": {},
   "source": [
    "### Simple Moving Average window"
   ]
  },
  {
   "cell_type": "code",
   "execution_count": 23,
   "id": "2380b0a1",
   "metadata": {},
   "outputs": [],
   "source": [
    "y_hat_sma = df.copy()\n",
    "y_hat_sma['sma_forecast'] = df['Exchange Rate TWI'].rolling(12).mean()\n",
    "y_hat_sma['sma_forecast'][train_len:] = y_hat_sma['sma_forecast'][train_len-1]"
   ]
  },
  {
   "cell_type": "code",
   "execution_count": 29,
   "id": "d9b05953",
   "metadata": {},
   "outputs": [
    {
     "data": {
      "text/html": [
       "<div>\n",
       "<style scoped>\n",
       "    .dataframe tbody tr th:only-of-type {\n",
       "        vertical-align: middle;\n",
       "    }\n",
       "\n",
       "    .dataframe tbody tr th {\n",
       "        vertical-align: top;\n",
       "    }\n",
       "\n",
       "    .dataframe thead th {\n",
       "        text-align: right;\n",
       "    }\n",
       "</style>\n",
       "<table border=\"1\" class=\"dataframe\">\n",
       "  <thead>\n",
       "    <tr style=\"text-align: right;\">\n",
       "      <th></th>\n",
       "      <th>Method</th>\n",
       "      <th>RMSE</th>\n",
       "      <th>MAPE</th>\n",
       "    </tr>\n",
       "  </thead>\n",
       "  <tbody>\n",
       "    <tr>\n",
       "      <th>0</th>\n",
       "      <td>Simple Average</td>\n",
       "      <td>32.42</td>\n",
       "      <td>58.12</td>\n",
       "    </tr>\n",
       "    <tr>\n",
       "      <th>1</th>\n",
       "      <td>Naive Method</td>\n",
       "      <td>5.98</td>\n",
       "      <td>8.41</td>\n",
       "    </tr>\n",
       "    <tr>\n",
       "      <th>2</th>\n",
       "      <td>Simple Moving Average</td>\n",
       "      <td>4.57</td>\n",
       "      <td>6.89</td>\n",
       "    </tr>\n",
       "  </tbody>\n",
       "</table>\n",
       "</div>"
      ],
      "text/plain": [
       "                  Method   RMSE   MAPE\n",
       "0         Simple Average  32.42  58.12\n",
       "1           Naive Method   5.98   8.41\n",
       "2  Simple Moving Average   4.57   6.89"
      ]
     },
     "execution_count": 29,
     "metadata": {},
     "output_type": "execute_result"
    }
   ],
   "source": [
    "## rmse and mape\n",
    "rmse = np.sqrt(np.mean(mean_squared_error(test['Exchange Rate TWI'],y_hat_sma['sma_forecast'][train_len:]))).round(2)\n",
    "mape = np.round(np.mean((np.abs(test['Exchange Rate TWI']-y_hat_sma['sma_forecast'][train_len:])/test['Exchange Rate TWI'])*100),2)\n",
    "results.loc[len(results)] = ['Simple Moving Average',rmse,mape]\n",
    "results"
   ]
  },
  {
   "cell_type": "code",
   "execution_count": 30,
   "id": "894c711f",
   "metadata": {},
   "outputs": [
    {
     "data": {
      "text/html": [
       "<div>\n",
       "<style scoped>\n",
       "    .dataframe tbody tr th:only-of-type {\n",
       "        vertical-align: middle;\n",
       "    }\n",
       "\n",
       "    .dataframe tbody tr th {\n",
       "        vertical-align: top;\n",
       "    }\n",
       "\n",
       "    .dataframe thead th {\n",
       "        text-align: right;\n",
       "    }\n",
       "</style>\n",
       "<table border=\"1\" class=\"dataframe\">\n",
       "  <thead>\n",
       "    <tr style=\"text-align: right;\">\n",
       "      <th></th>\n",
       "      <th>Method</th>\n",
       "      <th>RMSE</th>\n",
       "      <th>MAPE</th>\n",
       "    </tr>\n",
       "  </thead>\n",
       "  <tbody>\n",
       "    <tr>\n",
       "      <th>0</th>\n",
       "      <td>Simple Average</td>\n",
       "      <td>32.42</td>\n",
       "      <td>58.12</td>\n",
       "    </tr>\n",
       "    <tr>\n",
       "      <th>1</th>\n",
       "      <td>Naive Method</td>\n",
       "      <td>5.98</td>\n",
       "      <td>8.41</td>\n",
       "    </tr>\n",
       "    <tr>\n",
       "      <th>2</th>\n",
       "      <td>Simple Moving Average</td>\n",
       "      <td>4.57</td>\n",
       "      <td>6.89</td>\n",
       "    </tr>\n",
       "  </tbody>\n",
       "</table>\n",
       "</div>"
      ],
      "text/plain": [
       "                  Method   RMSE   MAPE\n",
       "0         Simple Average  32.42  58.12\n",
       "1           Naive Method   5.98   8.41\n",
       "2  Simple Moving Average   4.57   6.89"
      ]
     },
     "execution_count": 30,
     "metadata": {},
     "output_type": "execute_result"
    }
   ],
   "source": [
    "results"
   ]
  },
  {
   "cell_type": "code",
   "execution_count": 31,
   "id": "6099ddd4",
   "metadata": {},
   "outputs": [],
   "source": [
    "y_hat_sma['sma_forecast_6'] = df['Exchange Rate TWI'].rolling(6).mean()\n",
    "y_hat_sma['sma_forecast_6'][train_len:] = y_hat_sma['sma_forecast_6'][train_len-1]"
   ]
  },
  {
   "cell_type": "code",
   "execution_count": 32,
   "id": "ffb14f86",
   "metadata": {},
   "outputs": [
    {
     "data": {
      "text/html": [
       "<div>\n",
       "<style scoped>\n",
       "    .dataframe tbody tr th:only-of-type {\n",
       "        vertical-align: middle;\n",
       "    }\n",
       "\n",
       "    .dataframe tbody tr th {\n",
       "        vertical-align: top;\n",
       "    }\n",
       "\n",
       "    .dataframe thead th {\n",
       "        text-align: right;\n",
       "    }\n",
       "</style>\n",
       "<table border=\"1\" class=\"dataframe\">\n",
       "  <thead>\n",
       "    <tr style=\"text-align: right;\">\n",
       "      <th></th>\n",
       "      <th>Method</th>\n",
       "      <th>RMSE</th>\n",
       "      <th>MAPE</th>\n",
       "    </tr>\n",
       "  </thead>\n",
       "  <tbody>\n",
       "    <tr>\n",
       "      <th>0</th>\n",
       "      <td>Simple Average</td>\n",
       "      <td>32.42</td>\n",
       "      <td>58.12</td>\n",
       "    </tr>\n",
       "    <tr>\n",
       "      <th>1</th>\n",
       "      <td>Naive Method</td>\n",
       "      <td>5.98</td>\n",
       "      <td>8.41</td>\n",
       "    </tr>\n",
       "    <tr>\n",
       "      <th>2</th>\n",
       "      <td>Simple Moving Average</td>\n",
       "      <td>4.57</td>\n",
       "      <td>6.89</td>\n",
       "    </tr>\n",
       "    <tr>\n",
       "      <th>3</th>\n",
       "      <td>Simple Moving Average_6</td>\n",
       "      <td>4.58</td>\n",
       "      <td>6.90</td>\n",
       "    </tr>\n",
       "  </tbody>\n",
       "</table>\n",
       "</div>"
      ],
      "text/plain": [
       "                    Method   RMSE   MAPE\n",
       "0           Simple Average  32.42  58.12\n",
       "1             Naive Method   5.98   8.41\n",
       "2    Simple Moving Average   4.57   6.89\n",
       "3  Simple Moving Average_6   4.58   6.90"
      ]
     },
     "execution_count": 32,
     "metadata": {},
     "output_type": "execute_result"
    }
   ],
   "source": [
    "## rmse and mape\n",
    "rmse = np.sqrt(np.mean(mean_squared_error(test['Exchange Rate TWI'],y_hat_sma['sma_forecast_6'][train_len:]))).round(2)\n",
    "mape = np.round(np.mean((np.abs(test['Exchange Rate TWI']-y_hat_sma['sma_forecast_6'][train_len:])/test['Exchange Rate TWI'])*100),2)\n",
    "results.loc[len(results)] = ['Simple Moving Average_6',rmse,mape]\n",
    "results"
   ]
  },
  {
   "cell_type": "code",
   "execution_count": 33,
   "id": "d84064dc",
   "metadata": {},
   "outputs": [],
   "source": [
    "y_hat_sma['sma_forecast_3'] = df['Exchange Rate TWI'].rolling(3).mean()\n",
    "y_hat_sma['sma_forecast_3'][train_len:] = y_hat_sma['sma_forecast_3'][train_len-1]"
   ]
  },
  {
   "cell_type": "code",
   "execution_count": 34,
   "id": "9199be24",
   "metadata": {},
   "outputs": [
    {
     "data": {
      "text/html": [
       "<div>\n",
       "<style scoped>\n",
       "    .dataframe tbody tr th:only-of-type {\n",
       "        vertical-align: middle;\n",
       "    }\n",
       "\n",
       "    .dataframe tbody tr th {\n",
       "        vertical-align: top;\n",
       "    }\n",
       "\n",
       "    .dataframe thead th {\n",
       "        text-align: right;\n",
       "    }\n",
       "</style>\n",
       "<table border=\"1\" class=\"dataframe\">\n",
       "  <thead>\n",
       "    <tr style=\"text-align: right;\">\n",
       "      <th></th>\n",
       "      <th>Method</th>\n",
       "      <th>RMSE</th>\n",
       "      <th>MAPE</th>\n",
       "    </tr>\n",
       "  </thead>\n",
       "  <tbody>\n",
       "    <tr>\n",
       "      <th>0</th>\n",
       "      <td>Simple Average</td>\n",
       "      <td>32.42</td>\n",
       "      <td>58.12</td>\n",
       "    </tr>\n",
       "    <tr>\n",
       "      <th>1</th>\n",
       "      <td>Naive Method</td>\n",
       "      <td>5.98</td>\n",
       "      <td>8.41</td>\n",
       "    </tr>\n",
       "    <tr>\n",
       "      <th>2</th>\n",
       "      <td>Simple Moving Average</td>\n",
       "      <td>4.57</td>\n",
       "      <td>6.89</td>\n",
       "    </tr>\n",
       "    <tr>\n",
       "      <th>3</th>\n",
       "      <td>Simple Moving Average_6</td>\n",
       "      <td>4.58</td>\n",
       "      <td>6.90</td>\n",
       "    </tr>\n",
       "    <tr>\n",
       "      <th>4</th>\n",
       "      <td>Simple Moving Average_3</td>\n",
       "      <td>5.10</td>\n",
       "      <td>7.32</td>\n",
       "    </tr>\n",
       "  </tbody>\n",
       "</table>\n",
       "</div>"
      ],
      "text/plain": [
       "                    Method   RMSE   MAPE\n",
       "0           Simple Average  32.42  58.12\n",
       "1             Naive Method   5.98   8.41\n",
       "2    Simple Moving Average   4.57   6.89\n",
       "3  Simple Moving Average_6   4.58   6.90\n",
       "4  Simple Moving Average_3   5.10   7.32"
      ]
     },
     "execution_count": 34,
     "metadata": {},
     "output_type": "execute_result"
    }
   ],
   "source": [
    "## rmse and mape\n",
    "rmse = np.sqrt(np.mean(mean_squared_error(test['Exchange Rate TWI'],y_hat_sma['sma_forecast_3'][train_len:]))).round(2)\n",
    "mape = np.round(np.mean((np.abs(test['Exchange Rate TWI']-y_hat_sma['sma_forecast_3'][train_len:])/test['Exchange Rate TWI'])*100),2)\n",
    "results.loc[len(results)] = ['Simple Moving Average_3',rmse,mape]\n",
    "results"
   ]
  },
  {
   "cell_type": "markdown",
   "id": "14bb6593",
   "metadata": {},
   "source": [
    "### ADF test"
   ]
  },
  {
   "cell_type": "code",
   "execution_count": 38,
   "id": "164b3830",
   "metadata": {},
   "outputs": [
    {
     "name": "stdout",
     "output_type": "stream",
     "text": [
      "ADF Statistic: -0.81\n",
      "Critical value @ 0.05: -2.87\n",
      "p-value:0.82\n"
     ]
    }
   ],
   "source": [
    "from statsmodels.tsa.stattools import adfuller\n",
    "adf_test = adfuller(df['Exchange Rate TWI'])\n",
    "print('ADF Statistic: %0.2f' %adf_test[0])\n",
    "print('Critical value @ 0.05: %0.2f' %adf_test[4]['5%'])\n",
    "print('p-value:%0.2f' %adf_test[1])"
   ]
  },
  {
   "cell_type": "markdown",
   "id": "cc7e9d9b",
   "metadata": {},
   "source": [
    "### KPSS test"
   ]
  },
  {
   "cell_type": "code",
   "execution_count": 40,
   "id": "068eedf9",
   "metadata": {},
   "outputs": [
    {
     "name": "stdout",
     "output_type": "stream",
     "text": [
      "KPSS Statistic: 2.614\n",
      "Critical Value: @ 0.05: 0.46\n",
      "p-value: 0.010000\n"
     ]
    }
   ],
   "source": [
    "from statsmodels.tsa.stattools import kpss\n",
    "kpss_test = kpss(df['Exchange Rate TWI'])\n",
    "print('KPSS Statistic: %.3f' % kpss_test[0])\n",
    "print('Critical Value: @ 0.05: %0.2f' %kpss_test[3]['5%'])\n",
    "print('p-value: %f' %kpss_test[1])"
   ]
  },
  {
   "cell_type": "code",
   "execution_count": null,
   "id": "5a594272",
   "metadata": {},
   "outputs": [],
   "source": []
  },
  {
   "cell_type": "code",
   "execution_count": null,
   "id": "94cd74ee",
   "metadata": {},
   "outputs": [],
   "source": []
  },
  {
   "cell_type": "code",
   "execution_count": null,
   "id": "137a2f4f",
   "metadata": {},
   "outputs": [],
   "source": []
  },
  {
   "cell_type": "code",
   "execution_count": null,
   "id": "4b18bfb5",
   "metadata": {},
   "outputs": [],
   "source": []
  }
 ],
 "metadata": {
  "kernelspec": {
   "display_name": "Python 3 (ipykernel)",
   "language": "python",
   "name": "python3"
  },
  "language_info": {
   "codemirror_mode": {
    "name": "ipython",
    "version": 3
   },
   "file_extension": ".py",
   "mimetype": "text/x-python",
   "name": "python",
   "nbconvert_exporter": "python",
   "pygments_lexer": "ipython3",
   "version": "3.10.9"
  }
 },
 "nbformat": 4,
 "nbformat_minor": 5
}
