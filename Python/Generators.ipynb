{
 "cells": [
  {
   "cell_type": "code",
   "execution_count": 2,
   "id": "25e2eba7-f583-43a3-8b13-24a17989a435",
   "metadata": {},
   "outputs": [],
   "source": [
    "def square_numbers(num):\n",
    "    result = []\n",
    "    for i in num:\n",
    "        result.append(i*i)\n",
    "    return result"
   ]
  },
  {
   "cell_type": "code",
   "execution_count": 3,
   "id": "cf9bca70-a067-4a6d-8a78-b360479908d4",
   "metadata": {},
   "outputs": [
    {
     "data": {
      "text/plain": [
       "[1, 4, 9, 16]"
      ]
     },
     "execution_count": 3,
     "metadata": {},
     "output_type": "execute_result"
    }
   ],
   "source": [
    "my_nums = square_numbers([1,2,3,4])\n",
    "my_nums"
   ]
  },
  {
   "cell_type": "code",
   "execution_count": 4,
   "id": "24e6e1c7-b13b-4de0-be89-1a403248ef26",
   "metadata": {},
   "outputs": [],
   "source": [
    "def square_numbers(num):\n",
    "    for i in num:\n",
    "        yield (i*i)"
   ]
  },
  {
   "cell_type": "code",
   "execution_count": 17,
   "id": "12b302cc-ac04-46e2-85dc-c1058d069b40",
   "metadata": {},
   "outputs": [],
   "source": [
    "my_nums = square_numbers([1,2,3,4])"
   ]
  },
  {
   "cell_type": "code",
   "execution_count": 13,
   "id": "23389776-7708-4da0-901e-5c5bcdf4780a",
   "metadata": {},
   "outputs": [
    {
     "data": {
      "text/plain": [
       "<generator object square_numbers at 0x00000236F5E076B0>"
      ]
     },
     "execution_count": 13,
     "metadata": {},
     "output_type": "execute_result"
    }
   ],
   "source": [
    "my_nums"
   ]
  },
  {
   "cell_type": "code",
   "execution_count": 14,
   "id": "3eeb6dc9-91ff-444f-b9e7-64a57ca5ea5f",
   "metadata": {},
   "outputs": [
    {
     "name": "stdout",
     "output_type": "stream",
     "text": [
      "1\n",
      "4\n",
      "9\n",
      "16\n"
     ]
    }
   ],
   "source": [
    "print(next(my_nums))\n",
    "print(next(my_nums))\n",
    "print(next(my_nums))\n",
    "print(next(my_nums))"
   ]
  },
  {
   "cell_type": "code",
   "execution_count": 15,
   "id": "448ad1b2-8faa-40b6-9b42-bc8ac0889ee2",
   "metadata": {},
   "outputs": [
    {
     "ename": "StopIteration",
     "evalue": "",
     "output_type": "error",
     "traceback": [
      "\u001b[1;31m---------------------------------------------------------------------------\u001b[0m",
      "\u001b[1;31mStopIteration\u001b[0m                             Traceback (most recent call last)",
      "Cell \u001b[1;32mIn[15], line 1\u001b[0m\n\u001b[1;32m----> 1\u001b[0m \u001b[38;5;28mprint\u001b[39m(\u001b[38;5;28mnext\u001b[39m(my_nums))\n",
      "\u001b[1;31mStopIteration\u001b[0m: "
     ]
    }
   ],
   "source": [
    "print(next(my_nums))"
   ]
  },
  {
   "cell_type": "code",
   "execution_count": 18,
   "id": "d5cfd1fd-4466-47a1-8aa4-9b0c8025ced3",
   "metadata": {},
   "outputs": [
    {
     "name": "stdout",
     "output_type": "stream",
     "text": [
      "1\n",
      "4\n",
      "9\n",
      "16\n"
     ]
    }
   ],
   "source": [
    "for num in my_nums:\n",
    "    print(num)"
   ]
  },
  {
   "cell_type": "code",
   "execution_count": 19,
   "id": "8c04438c-f276-48d5-822c-9a637b1c9537",
   "metadata": {},
   "outputs": [
    {
     "data": {
      "text/plain": [
       "[1, 4, 9, 16, 25]"
      ]
     },
     "execution_count": 19,
     "metadata": {},
     "output_type": "execute_result"
    }
   ],
   "source": [
    "[x*x for x in [1,2,3,4,5]]"
   ]
  },
  {
   "cell_type": "code",
   "execution_count": 20,
   "id": "3d03775f-4ee6-4afc-9a81-c789afd15523",
   "metadata": {},
   "outputs": [
    {
     "data": {
      "text/plain": [
       "<generator object <genexpr> at 0x00000236F5C90E10>"
      ]
     },
     "execution_count": 20,
     "metadata": {},
     "output_type": "execute_result"
    }
   ],
   "source": [
    "# To get a generator object we can use\n",
    "my_nums = (x*x for x in [1,2,3,4,5])\n",
    "my_nums"
   ]
  },
  {
   "cell_type": "code",
   "execution_count": 21,
   "id": "42cf39bc-9e97-4c89-a475-9260d5140037",
   "metadata": {},
   "outputs": [
    {
     "name": "stdout",
     "output_type": "stream",
     "text": [
      "1\n",
      "4\n",
      "9\n",
      "16\n",
      "25\n"
     ]
    }
   ],
   "source": [
    "for num in my_nums:\n",
    "    print(num)"
   ]
  },
  {
   "cell_type": "code",
   "execution_count": 22,
   "id": "3eadd6e9-b490-41eb-858d-5f4d43374a93",
   "metadata": {},
   "outputs": [
    {
     "data": {
      "text/plain": [
       "[1, 4, 9, 16, 25]"
      ]
     },
     "execution_count": 22,
     "metadata": {},
     "output_type": "execute_result"
    }
   ],
   "source": [
    "## To convert generator object into list\n",
    "my_nums = (x*x for x in [1,2,3,4,5])\n",
    "list(my_nums)"
   ]
  },
  {
   "cell_type": "code",
   "execution_count": 36,
   "id": "e0d1c5ae-fffb-462a-bc3b-4b8f280dee3e",
   "metadata": {},
   "outputs": [],
   "source": [
    "import csv\n",
    "csv_gen = csv.reader('Test.txt')"
   ]
  },
  {
   "cell_type": "code",
   "execution_count": 37,
   "id": "739eeb12-4480-48dd-b304-61ac63b5f164",
   "metadata": {},
   "outputs": [],
   "source": [
    "l = list(csv_gen)"
   ]
  },
  {
   "cell_type": "code",
   "execution_count": null,
   "id": "9a9473c3-c2bd-486b-83d9-0fd9058c62ab",
   "metadata": {},
   "outputs": [],
   "source": []
  }
 ],
 "metadata": {
  "kernelspec": {
   "display_name": "Python 3 (ipykernel)",
   "language": "python",
   "name": "python3"
  },
  "language_info": {
   "codemirror_mode": {
    "name": "ipython",
    "version": 3
   },
   "file_extension": ".py",
   "mimetype": "text/x-python",
   "name": "python",
   "nbconvert_exporter": "python",
   "pygments_lexer": "ipython3",
   "version": "3.11.7"
  }
 },
 "nbformat": 4,
 "nbformat_minor": 5
}
