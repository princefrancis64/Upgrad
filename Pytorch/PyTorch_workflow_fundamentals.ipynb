{
 "cells": [
  {
   "cell_type": "code",
   "execution_count": 9,
   "id": "fa9784c3",
   "metadata": {},
   "outputs": [
    {
     "name": "stdout",
     "output_type": "stream",
     "text": [
      "env: KMP_DUPLICATE_LIB_OK=FALSE\n"
     ]
    }
   ],
   "source": [
    "%env KMP_DUPLICATE_LIB_OK=FALSE"
   ]
  },
  {
   "cell_type": "code",
   "execution_count": 10,
   "id": "7676a8d5",
   "metadata": {},
   "outputs": [
    {
     "data": {
      "text/plain": [
       "'2.2.1+cpu'"
      ]
     },
     "execution_count": 10,
     "metadata": {},
     "output_type": "execute_result"
    }
   ],
   "source": [
    "import torch\n",
    "from torch import nn\n",
    "import matplotlib.pyplot as plt\n",
    "\n",
    "##Check PyTorch version\n",
    "torch.__version__"
   ]
  },
  {
   "cell_type": "markdown",
   "id": "3dd78586",
   "metadata": {},
   "source": [
    "### 1. Data (preparing and loading)"
   ]
  },
  {
   "cell_type": "code",
   "execution_count": 11,
   "id": "c80fdb90",
   "metadata": {},
   "outputs": [
    {
     "data": {
      "text/plain": [
       "(tensor([[0.0000],\n",
       "         [0.0200],\n",
       "         [0.0400],\n",
       "         [0.0600],\n",
       "         [0.0800],\n",
       "         [0.1000],\n",
       "         [0.1200],\n",
       "         [0.1400],\n",
       "         [0.1600],\n",
       "         [0.1800]]),\n",
       " tensor([[0.3000],\n",
       "         [0.3140],\n",
       "         [0.3280],\n",
       "         [0.3420],\n",
       "         [0.3560],\n",
       "         [0.3700],\n",
       "         [0.3840],\n",
       "         [0.3980],\n",
       "         [0.4120],\n",
       "         [0.4260]]))"
      ]
     },
     "execution_count": 11,
     "metadata": {},
     "output_type": "execute_result"
    }
   ],
   "source": [
    "# Create *known* parameters\n",
    "import torch\n",
    "weight = 0.7\n",
    "bias = 0.3\n",
    "\n",
    "## create the data\n",
    "start = 0\n",
    "end = 1\n",
    "step = 0.02\n",
    "X = torch.arange(start,end,step).unsqueeze(dim=1)\n",
    "y = weight*X + bias\n",
    "\n",
    "X[:10], y[:10]"
   ]
  },
  {
   "cell_type": "markdown",
   "id": "c8c4cc60",
   "metadata": {},
   "source": [
    "###  Split data into training and test sets"
   ]
  },
  {
   "cell_type": "code",
   "execution_count": 12,
   "id": "950f99be",
   "metadata": {},
   "outputs": [
    {
     "data": {
      "text/plain": [
       "(40, 40, 10, 10)"
      ]
     },
     "execution_count": 12,
     "metadata": {},
     "output_type": "execute_result"
    }
   ],
   "source": [
    "# Create train/test split\n",
    "train_split = int(0.8*len(X))\n",
    "X_train,y_train = X[:train_split],y[:train_split]\n",
    "X_test,y_test = X[train_split:],y[train_split:]\n",
    "len(X_train), len(y_train), len(X_test), len(y_test)"
   ]
  },
  {
   "cell_type": "code",
   "execution_count": 16,
   "id": "086eb8e9",
   "metadata": {},
   "outputs": [],
   "source": [
    "### Plotting the data\n",
    "## defining a function to plot the data\n",
    "def plotting(X_train,y_train,X_test,y_test):\n",
    "    plt.figure(figsize=(8,6))\n",
    "    plt.scatter(X_train,y_train,label='Train',color='r',s=4)\n",
    "    plt.scatter(X_test,y_test,label='Test',color='b',s=4)\n",
    "    plt.legend()\n",
    "    plt.show()"
   ]
  },
  {
   "cell_type": "code",
   "execution_count": 17,
   "id": "9de9bea0",
   "metadata": {},
   "outputs": [
    {
     "data": {
      "image/png": "[encoded data removed]",
      "text/plain": [
       "<Figure size 800x600 with 1 Axes>"
      ]
     },
     "metadata": {},
     "output_type": "display_data"
    }
   ],
   "source": [
    "plotting(X_train,y_train,X_test,y_test)"
   ]
  },
  {
   "cell_type": "markdown",
   "id": "5945a01c",
   "metadata": {},
   "source": [
    "### OOPs Practice"
   ]
  },
  {
   "cell_type": "code",
   "execution_count": 20,
   "id": "75a9c3ca",
   "metadata": {},
   "outputs": [
    {
     "data": {
      "text/plain": [
       "False"
      ]
     },
     "execution_count": 20,
     "metadata": {},
     "output_type": "execute_result"
    }
   ],
   "source": [
    "class Dog:\n",
    "    pass\n",
    "a = Dog()\n",
    "b = Dog()\n",
    "a==b"
   ]
  },
  {
   "cell_type": "code",
   "execution_count": 27,
   "id": "5ecba72e",
   "metadata": {},
   "outputs": [],
   "source": [
    "class Dog:\n",
    "    species = 'Canis familiaris'\n",
    "    def __init__(self,name,age):\n",
    "        self.name1 = name\n",
    "        self.age1 = age"
   ]
  },
  {
   "cell_type": "code",
   "execution_count": 28,
   "id": "bf777651",
   "metadata": {},
   "outputs": [
    {
     "ename": "TypeError",
     "evalue": "Dog.__init__() missing 2 required positional arguments: 'name' and 'age'",
     "output_type": "error",
     "traceback": [
      "\u001b[1;31m---------------------------------------------------------------------------\u001b[0m",
      "\u001b[1;31mTypeError\u001b[0m                                 Traceback (most recent call last)",
      "Cell \u001b[1;32mIn[28], line 1\u001b[0m\n\u001b[1;32m----> 1\u001b[0m \u001b[43mDog\u001b[49m\u001b[43m(\u001b[49m\u001b[43m)\u001b[49m\n",
      "\u001b[1;31mTypeError\u001b[0m: Dog.__init__() missing 2 required positional arguments: 'name' and 'age'"
     ]
    }
   ],
   "source": [
    "Dog()"
   ]
  },
  {
   "cell_type": "code",
   "execution_count": 29,
   "id": "3e33a508",
   "metadata": {},
   "outputs": [],
   "source": [
    "miles = Dog(\"Miles\",4)\n",
    "buddy = Dog(\"Buddy\",9)"
   ]
  },
  {
   "cell_type": "code",
   "execution_count": 30,
   "id": "1e6c6d7b",
   "metadata": {},
   "outputs": [
    {
     "data": {
      "text/plain": [
       "4"
      ]
     },
     "execution_count": 30,
     "metadata": {},
     "output_type": "execute_result"
    }
   ],
   "source": [
    "miles.age1"
   ]
  },
  {
   "cell_type": "code",
   "execution_count": 31,
   "id": "30e6fd07",
   "metadata": {},
   "outputs": [
    {
     "data": {
      "text/plain": [
       "'Miles'"
      ]
     },
     "execution_count": 31,
     "metadata": {},
     "output_type": "execute_result"
    }
   ],
   "source": [
    "miles.name1"
   ]
  },
  {
   "cell_type": "code",
   "execution_count": 32,
   "id": "467a9f55",
   "metadata": {},
   "outputs": [
    {
     "data": {
      "text/plain": [
       "'Buddy'"
      ]
     },
     "execution_count": 32,
     "metadata": {},
     "output_type": "execute_result"
    }
   ],
   "source": [
    "buddy.name1"
   ]
  },
  {
   "cell_type": "code",
   "execution_count": 33,
   "id": "27d5a881",
   "metadata": {},
   "outputs": [
    {
     "data": {
      "text/plain": [
       "9"
      ]
     },
     "execution_count": 33,
     "metadata": {},
     "output_type": "execute_result"
    }
   ],
   "source": [
    "buddy.age1"
   ]
  },
  {
   "cell_type": "code",
   "execution_count": 34,
   "id": "c48180d2",
   "metadata": {},
   "outputs": [
    {
     "data": {
      "text/plain": [
       "'Canis familiaris'"
      ]
     },
     "execution_count": 34,
     "metadata": {},
     "output_type": "execute_result"
    }
   ],
   "source": [
    "buddy.species"
   ]
  },
  {
   "cell_type": "code",
   "execution_count": 35,
   "id": "271fda29",
   "metadata": {},
   "outputs": [
    {
     "data": {
      "text/plain": [
       "'Canis familiaris'"
      ]
     },
     "execution_count": 35,
     "metadata": {},
     "output_type": "execute_result"
    }
   ],
   "source": [
    "miles.species"
   ]
  },
  {
   "cell_type": "code",
   "execution_count": 36,
   "id": "69d71495",
   "metadata": {},
   "outputs": [
    {
     "data": {
      "text/plain": [
       "10"
      ]
     },
     "execution_count": 36,
     "metadata": {},
     "output_type": "execute_result"
    }
   ],
   "source": [
    "buddy.age1 = 10\n",
    "buddy.age1"
   ]
  },
  {
   "cell_type": "code",
   "execution_count": 37,
   "id": "fdeaac6b",
   "metadata": {},
   "outputs": [
    {
     "data": {
      "text/plain": [
       "'Felis silvestris'"
      ]
     },
     "execution_count": 37,
     "metadata": {},
     "output_type": "execute_result"
    }
   ],
   "source": [
    "miles.species = 'Felis silvestris'\n",
    "miles.species"
   ]
  },
  {
   "cell_type": "code",
   "execution_count": 38,
   "id": "f803b242",
   "metadata": {},
   "outputs": [
    {
     "data": {
      "text/plain": [
       "'Canis familiaris'"
      ]
     },
     "execution_count": 38,
     "metadata": {},
     "output_type": "execute_result"
    }
   ],
   "source": [
    "buddy.species"
   ]
  },
  {
   "cell_type": "code",
   "execution_count": 39,
   "id": "eb0ef789",
   "metadata": {},
   "outputs": [],
   "source": [
    "## Instances\n",
    "class Dog:\n",
    "    species = 'Canis familiaris'\n",
    "\n",
    "    def __init__(self,name,age):\n",
    "        self.name=name\n",
    "        self.age=age\n",
    "        \n",
    "    ## Instance method\n",
    "    def description(self):\n",
    "        return f\"{self.name} is {self.age} years old \"\n",
    "    \n",
    "    ## Another instance method\n",
    "    def speak(self,sound):\n",
    "        return f\"{self.name} says {sound}\""
   ]
  },
  {
   "cell_type": "code",
   "execution_count": 40,
   "id": "1b7b86bc",
   "metadata": {},
   "outputs": [
    {
     "data": {
      "text/plain": [
       "'Miles is 4 years old '"
      ]
     },
     "execution_count": 40,
     "metadata": {},
     "output_type": "execute_result"
    }
   ],
   "source": [
    "## Instances\n",
    "miles = Dog(\"Miles\",4)\n",
    "miles.description()"
   ]
  },
  {
   "cell_type": "code",
   "execution_count": 42,
   "id": "47373e1c",
   "metadata": {},
   "outputs": [
    {
     "data": {
      "text/plain": [
       "'Miles says Bow bow'"
      ]
     },
     "execution_count": 42,
     "metadata": {},
     "output_type": "execute_result"
    }
   ],
   "source": [
    "miles.speak('Bow bow')"
   ]
  },
  {
   "cell_type": "code",
   "execution_count": 43,
   "id": "da98a0a2",
   "metadata": {},
   "outputs": [
    {
     "name": "stdout",
     "output_type": "stream",
     "text": [
      "<__main__.Dog object at 0x0000026F3DFDDC30>\n"
     ]
    }
   ],
   "source": [
    "print(miles)"
   ]
  },
  {
   "cell_type": "markdown",
   "id": "da5d084d",
   "metadata": {},
   "source": [
    "#### __str__"
   ]
  },
  {
   "cell_type": "code",
   "execution_count": 81,
   "id": "069668b7",
   "metadata": {},
   "outputs": [],
   "source": [
    "class Dog:\n",
    "    species = 'Canis familiaris'\n",
    "\n",
    "    def __init__(self,name,age):\n",
    "        self.name=name\n",
    "        self.age=age\n",
    "        \n",
    "    def __str__(self):\n",
    "        return f\"{self.name} is {self.age} years old\""
   ]
  },
  {
   "cell_type": "code",
   "execution_count": 82,
   "id": "28a5f948",
   "metadata": {},
   "outputs": [
    {
     "name": "stdout",
     "output_type": "stream",
     "text": [
      "Miles is 4 years old\n"
     ]
    }
   ],
   "source": [
    "miles = Dog('Miles',4)\n",
    "print(miles)"
   ]
  },
  {
   "cell_type": "markdown",
   "id": "57407b35",
   "metadata": {},
   "source": [
    "### Inheritance"
   ]
  },
  {
   "cell_type": "code",
   "execution_count": 47,
   "id": "a278fe65",
   "metadata": {},
   "outputs": [],
   "source": [
    "class Parent:\n",
    "    hair_color = 'brown'\n",
    "\n",
    "class Child(Parent):\n",
    "    pass"
   ]
  },
  {
   "cell_type": "code",
   "execution_count": 50,
   "id": "a25864c3",
   "metadata": {},
   "outputs": [
    {
     "data": {
      "text/plain": [
       "'brown'"
      ]
     },
     "execution_count": 50,
     "metadata": {},
     "output_type": "execute_result"
    }
   ],
   "source": [
    "Child.hair_color"
   ]
  },
  {
   "cell_type": "code",
   "execution_count": 51,
   "id": "b6892167",
   "metadata": {},
   "outputs": [
    {
     "data": {
      "text/plain": [
       "'brown'"
      ]
     },
     "execution_count": 51,
     "metadata": {},
     "output_type": "execute_result"
    }
   ],
   "source": [
    "Parent.hair_color"
   ]
  },
  {
   "cell_type": "code",
   "execution_count": 68,
   "id": "5618c2b5",
   "metadata": {},
   "outputs": [],
   "source": [
    "class Parent:\n",
    "    hair_color = 'brown'\n",
    "\n",
    "class Child(Parent):\n",
    "    hair_color = 'purple'"
   ]
  },
  {
   "cell_type": "code",
   "execution_count": 69,
   "id": "ead44311",
   "metadata": {},
   "outputs": [
    {
     "data": {
      "text/plain": [
       "'purple'"
      ]
     },
     "execution_count": 69,
     "metadata": {},
     "output_type": "execute_result"
    }
   ],
   "source": [
    "Child.hair_color"
   ]
  },
  {
   "cell_type": "code",
   "execution_count": 70,
   "id": "87043340",
   "metadata": {},
   "outputs": [
    {
     "data": {
      "text/plain": [
       "'brown'"
      ]
     },
     "execution_count": 70,
     "metadata": {},
     "output_type": "execute_result"
    }
   ],
   "source": [
    "Parent.hair_color"
   ]
  },
  {
   "cell_type": "code",
   "execution_count": 71,
   "id": "58847489",
   "metadata": {},
   "outputs": [],
   "source": [
    "class Parent:\n",
    "    speaks = ['English']\n",
    "    \n",
    "class Child(Parent):\n",
    "    def __init__(self):\n",
    "        super().__init__()\n",
    "        self.speaks.append(\"German\")"
   ]
  },
  {
   "cell_type": "code",
   "execution_count": 77,
   "id": "9657acb8",
   "metadata": {},
   "outputs": [
    {
     "data": {
      "text/plain": [
       "['English', 'German']"
      ]
     },
     "execution_count": 77,
     "metadata": {},
     "output_type": "execute_result"
    }
   ],
   "source": [
    "Child().speaks"
   ]
  },
  {
   "cell_type": "code",
   "execution_count": 78,
   "id": "5a2f5411",
   "metadata": {},
   "outputs": [
    {
     "data": {
      "text/plain": [
       "['English', 'German']"
      ]
     },
     "execution_count": 78,
     "metadata": {},
     "output_type": "execute_result"
    }
   ],
   "source": [
    "Parent.speaks"
   ]
  },
  {
   "cell_type": "code",
   "execution_count": 86,
   "id": "93ecc093",
   "metadata": {},
   "outputs": [],
   "source": [
    "## Dog park\n",
    "class Dog:\n",
    "    species = \"Canis familiaris\"\n",
    "    \n",
    "    def __init__(self,name,age,breed):\n",
    "        self.name = name\n",
    "        self.age = age\n",
    "        self.breed=breed\n",
    "        \n",
    "    def __str__(self):\n",
    "        return f\"{self.name} is {self.age} years old\"\n",
    "    \n",
    "    def speak(self,sound):\n",
    "        return f\"{self.name} says {sound}\"\n",
    "    \n",
    "miles = Dog(\"Miles\",4,\"Jack Russell Terrier\")\n",
    "buddy = Dog(\"Buddy\", 9, \"Dachshund\")\n",
    "jack = Dog(\"Jack\", 3, \"Bulldog\")\n",
    "jim = Dog(\"Jim\", 5, \"Bulldog\")"
   ]
  },
  {
   "cell_type": "code",
   "execution_count": 87,
   "id": "8dce9315",
   "metadata": {},
   "outputs": [
    {
     "data": {
      "text/plain": [
       "'Buddy says Yap'"
      ]
     },
     "execution_count": 87,
     "metadata": {},
     "output_type": "execute_result"
    }
   ],
   "source": [
    "buddy.speak(\"Yap\")"
   ]
  },
  {
   "cell_type": "code",
   "execution_count": 88,
   "id": "2e0b76b8",
   "metadata": {},
   "outputs": [
    {
     "data": {
      "text/plain": [
       "'Jim says Woof'"
      ]
     },
     "execution_count": 88,
     "metadata": {},
     "output_type": "execute_result"
    }
   ],
   "source": [
    "jim.speak(\"Woof\")"
   ]
  },
  {
   "cell_type": "code",
   "execution_count": 89,
   "id": "3bad66b1",
   "metadata": {},
   "outputs": [
    {
     "data": {
      "text/plain": [
       "'Jack says Woof'"
      ]
     },
     "execution_count": 89,
     "metadata": {},
     "output_type": "execute_result"
    }
   ],
   "source": [
    "jack.speak(\"Woof\")"
   ]
  },
  {
   "cell_type": "code",
   "execution_count": 90,
   "id": "74ef16bb",
   "metadata": {},
   "outputs": [],
   "source": [
    "class Dog:\n",
    "    species = \"Canis familiaris\"\n",
    "\n",
    "    def __init__(self, name, age):\n",
    "        self.name = name\n",
    "        self.age = age\n",
    "\n",
    "    def __str__(self):\n",
    "        return f\"{self.name} is {self.age} years old\"\n",
    "\n",
    "    def speak(self, sound):\n",
    "        return f\"{self.name} says {sound}\""
   ]
  },
  {
   "cell_type": "code",
   "execution_count": 91,
   "id": "842cb2eb",
   "metadata": {},
   "outputs": [],
   "source": [
    "class JackRussellTerrier(Dog):\n",
    "    pass\n",
    "class Dachshund(Dog):\n",
    "    pass\n",
    "class Bulldog(Dog):\n",
    "    pass"
   ]
  },
  {
   "cell_type": "code",
   "execution_count": 92,
   "id": "c1604cc6",
   "metadata": {},
   "outputs": [],
   "source": [
    "miles = JackRussellTerrier(\"Miles\",4)\n",
    "buddy = Dachshund(\"Buddy\",9)\n",
    "jack = Bulldog(\"Jack\",3)\n",
    "jim = Bulldog(\"Jim\",5)"
   ]
  },
  {
   "cell_type": "code",
   "execution_count": 93,
   "id": "fa726197",
   "metadata": {},
   "outputs": [
    {
     "data": {
      "text/plain": [
       "'Canis familiaris'"
      ]
     },
     "execution_count": 93,
     "metadata": {},
     "output_type": "execute_result"
    }
   ],
   "source": [
    "miles.species"
   ]
  },
  {
   "cell_type": "code",
   "execution_count": 94,
   "id": "cba565e7",
   "metadata": {},
   "outputs": [
    {
     "data": {
      "text/plain": [
       "'Buddy'"
      ]
     },
     "execution_count": 94,
     "metadata": {},
     "output_type": "execute_result"
    }
   ],
   "source": [
    "buddy.name"
   ]
  },
  {
   "cell_type": "code",
   "execution_count": 95,
   "id": "33e87e28",
   "metadata": {},
   "outputs": [
    {
     "name": "stdout",
     "output_type": "stream",
     "text": [
      "Jack is 3 years old\n"
     ]
    }
   ],
   "source": [
    "print(jack)"
   ]
  },
  {
   "cell_type": "code",
   "execution_count": 96,
   "id": "c15d176a",
   "metadata": {},
   "outputs": [
    {
     "data": {
      "text/plain": [
       "'Jim says Woof'"
      ]
     },
     "execution_count": 96,
     "metadata": {},
     "output_type": "execute_result"
    }
   ],
   "source": [
    "jim.speak(\"Woof\")"
   ]
  },
  {
   "cell_type": "code",
   "execution_count": 97,
   "id": "56c1c627",
   "metadata": {},
   "outputs": [
    {
     "data": {
      "text/plain": [
       "__main__.JackRussellTerrier"
      ]
     },
     "execution_count": 97,
     "metadata": {},
     "output_type": "execute_result"
    }
   ],
   "source": [
    "## which class an object belongs to\n",
    "type(miles)"
   ]
  },
  {
   "cell_type": "code",
   "execution_count": 101,
   "id": "9827617d",
   "metadata": {},
   "outputs": [
    {
     "data": {
      "text/plain": [
       "True"
      ]
     },
     "execution_count": 101,
     "metadata": {},
     "output_type": "execute_result"
    }
   ],
   "source": [
    "isinstance(miles,Dog)"
   ]
  },
  {
   "cell_type": "code",
   "execution_count": 102,
   "id": "aaf38d57",
   "metadata": {},
   "outputs": [
    {
     "data": {
      "text/plain": [
       "False"
      ]
     },
     "execution_count": 102,
     "metadata": {},
     "output_type": "execute_result"
    }
   ],
   "source": [
    "isinstance(miles,Bulldog)"
   ]
  },
  {
   "cell_type": "code",
   "execution_count": 103,
   "id": "fe08af1e",
   "metadata": {},
   "outputs": [
    {
     "data": {
      "text/plain": [
       "False"
      ]
     },
     "execution_count": 103,
     "metadata": {},
     "output_type": "execute_result"
    }
   ],
   "source": [
    "isinstance(miles,Dachshund)"
   ]
  },
  {
   "cell_type": "code",
   "execution_count": 105,
   "id": "decc5cf5",
   "metadata": {},
   "outputs": [],
   "source": [
    "class JackRussellTerrier(Dog):\n",
    "    def speak(self,sound=\"Arf\"):\n",
    "        return f\"{self.name} says {sound}\"\n",
    "class Dachshund(Dog):\n",
    "    pass\n",
    "class Bulldog(Dog):\n",
    "    pass"
   ]
  },
  {
   "cell_type": "code",
   "execution_count": 106,
   "id": "f1a1d24d",
   "metadata": {},
   "outputs": [
    {
     "name": "stdout",
     "output_type": "stream",
     "text": [
      "Miles is 4 years old\n"
     ]
    }
   ],
   "source": [
    "miles = JackRussellTerrier(\"Miles\",4)\n",
    "print(miles)"
   ]
  },
  {
   "cell_type": "code",
   "execution_count": 108,
   "id": "a38ca6f2",
   "metadata": {},
   "outputs": [
    {
     "data": {
      "text/plain": [
       "'Miles says Arf'"
      ]
     },
     "execution_count": 108,
     "metadata": {},
     "output_type": "execute_result"
    }
   ],
   "source": [
    "miles.speak()"
   ]
  },
  {
   "cell_type": "code",
   "execution_count": 109,
   "id": "3108b59e",
   "metadata": {},
   "outputs": [
    {
     "data": {
      "text/plain": [
       "'Miles says Grrr'"
      ]
     },
     "execution_count": 109,
     "metadata": {},
     "output_type": "execute_result"
    }
   ],
   "source": [
    "miles.speak(\"Grrr\")"
   ]
  },
  {
   "cell_type": "code",
   "execution_count": 111,
   "id": "55ac971b",
   "metadata": {},
   "outputs": [
    {
     "data": {
      "text/plain": [
       "'Miles says Arf'"
      ]
     },
     "execution_count": 111,
     "metadata": {},
     "output_type": "execute_result"
    }
   ],
   "source": [
    "miles.speak()"
   ]
  },
  {
   "cell_type": "code",
   "execution_count": 112,
   "id": "0a025bbe",
   "metadata": {},
   "outputs": [],
   "source": [
    "class Dog:\n",
    "    species = \"Canis familiaris\"\n",
    "\n",
    "    def __init__(self, name, age):\n",
    "        self.name = name\n",
    "        self.age = age\n",
    "\n",
    "    def __str__(self):\n",
    "        return f\"{self.name} is {self.age} years old\"\n",
    "\n",
    "    def speak(self, sound):\n",
    "        return f\"{self.name} barks: {sound}\"\n",
    "class JackRussellTerrier(Dog):\n",
    "    def speak(self,sound=\"Arf\"):\n",
    "        return f\"{self.name} says {sound}\"\n",
    "class Dachshund(Dog):\n",
    "    pass\n",
    "class Bulldog(Dog):\n",
    "    pass"
   ]
  },
  {
   "cell_type": "code",
   "execution_count": 114,
   "id": "9455b5c8",
   "metadata": {},
   "outputs": [
    {
     "data": {
      "text/plain": [
       "'Jim barks: Woof'"
      ]
     },
     "execution_count": 114,
     "metadata": {},
     "output_type": "execute_result"
    }
   ],
   "source": [
    "jim = Bulldog(\"Jim\",5)\n",
    "jim.speak(\"Woof\")"
   ]
  },
  {
   "cell_type": "code",
   "execution_count": 115,
   "id": "0b1ea4fc",
   "metadata": {},
   "outputs": [
    {
     "data": {
      "text/plain": [
       "'Miles says Arf'"
      ]
     },
     "execution_count": 115,
     "metadata": {},
     "output_type": "execute_result"
    }
   ],
   "source": [
    "miles = JackRussellTerrier(\"Miles\",4)\n",
    "miles.speak()"
   ]
  },
  {
   "cell_type": "code",
   "execution_count": 116,
   "id": "06a38ca5",
   "metadata": {},
   "outputs": [],
   "source": [
    "## Defining the child Class JackRussellTerrier without explicity returning the string \n",
    "class JackRussellTerrier(Dog):\n",
    "    def speak(self,sound='Arf'):\n",
    "        return super().speak(sound)"
   ]
  },
  {
   "cell_type": "code",
   "execution_count": 118,
   "id": "dd24ca62",
   "metadata": {},
   "outputs": [
    {
     "data": {
      "text/plain": [
       "'Miles barks: Arf'"
      ]
     },
     "execution_count": 118,
     "metadata": {},
     "output_type": "execute_result"
    }
   ],
   "source": [
    "miles= JackRussellTerrier(\"Miles\",4)\n",
    "miles.speak()"
   ]
  },
  {
   "cell_type": "markdown",
   "id": "7c78335c",
   "metadata": {},
   "source": [
    "### 2. Build model"
   ]
  },
  {
   "cell_type": "code",
   "execution_count": 122,
   "id": "d8ecf427",
   "metadata": {},
   "outputs": [],
   "source": [
    "### Create a linear regression model class\n",
    "class LinearRegressionClass(nn.Module):\n",
    "    def __init__(self):\n",
    "        super().__init__()\n",
    "        self.weights = nn.Parameter(1,\n",
    "                                   dtype = torch.float32,\n",
    "                                   requires_grad=True)\n",
    "        self.bias = nn.Paramter(1,dtype=torch.float32,requires_grad=True)\n",
    "        \n",
    "        # Forward defines the computation in the model\n",
    "        def forward(self,x:torch.Tensor)->torch.Tensor:\n",
    "            return self.weights*x+self.bias"
   ]
  }
 ],
 "metadata": {
  "kernelspec": {
   "display_name": "Python 3 (ipykernel)",
   "language": "python",
   "name": "python3"
  },
  "language_info": {
   "codemirror_mode": {
    "name": "ipython",
    "version": 3
   },
   "file_extension": ".py",
   "mimetype": "text/x-python",
   "name": "python",
   "nbconvert_exporter": "python",
   "pygments_lexer": "ipython3",
   "version": "3.10.9"
  }
 },
 "nbformat": 4,
 "nbformat_minor": 5
}
